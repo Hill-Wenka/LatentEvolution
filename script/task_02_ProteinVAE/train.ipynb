{
 "cells": [
  {
   "cell_type": "code",
   "execution_count": 1,
   "outputs": [
    {
     "name": "stdout",
     "output_type": "stream",
     "text": [
      "/home/hew/python/LatentEvolution\n",
      "\u001B[0m\u001B[01;34mcache\u001B[0m/  \u001B[01;34mdata\u001B[0m/  env.txt  \u001B[01;34mfigure\u001B[0m/  \u001B[01;34mframework\u001B[0m/  main.py  \u001B[01;34mscript\u001B[0m/  \u001B[01;34mtemp\u001B[0m/\r\n"
     ]
    }
   ],
   "source": [
    "%load_ext autoreload\n",
    "%autoreload 2\n",
    "%cd \"python/LatentEvolution\"\n",
    "%ls"
   ],
   "metadata": {
    "collapsed": false,
    "ExecuteTime": {
     "end_time": "2023-11-26T18:26:26.067118300Z",
     "start_time": "2023-11-26T18:26:25.869874700Z"
    }
   }
  },
  {
   "cell_type": "code",
   "execution_count": 1,
   "outputs": [],
   "source": [],
   "metadata": {
    "collapsed": false,
    "ExecuteTime": {
     "end_time": "2023-11-26T18:26:26.067118300Z",
     "start_time": "2023-11-26T18:26:26.059109700Z"
    }
   }
  },
  {
   "cell_type": "code",
   "execution_count": 2,
   "outputs": [
    {
     "name": "stdout",
     "output_type": "stream",
     "text": [
      "========== add root_path and framework_path to sys.path ==========\n",
      "root_path: /home/hew/python/LatentEvolution\n",
      "framework_path: /home/hew/python/LatentEvolution/framework\n",
      "==================================================================\n"
     ]
    }
   ],
   "source": [
    "from framework.config import parse_config, paths\n",
    "from framework.utils.lightning.device_utils import seed_everything\n",
    "from framework.utils.lightning.trainer_utils import get_pl_trainer\n",
    "from script.task_02_ProteinVAE.ProteinVAE.sequence_data_module import SequenceDataModule\n",
    "from script.task_02_ProteinVAE.ProteinVAE.sequence_lightning_module import SequenceLightningModule"
   ],
   "metadata": {
    "collapsed": false,
    "ExecuteTime": {
     "end_time": "2023-11-26T18:26:29.802120600Z",
     "start_time": "2023-11-26T18:26:26.061112Z"
    }
   }
  },
  {
   "cell_type": "code",
   "execution_count": 2,
   "outputs": [],
   "source": [],
   "metadata": {
    "collapsed": false,
    "ExecuteTime": {
     "end_time": "2023-11-26T18:26:29.810120300Z",
     "start_time": "2023-11-26T18:26:29.804120300Z"
    }
   }
  },
  {
   "cell_type": "code",
   "execution_count": 3,
   "outputs": [],
   "source": [
    "update_dict = {\n",
    "    'project': 'ProteinVAE',\n",
    "    'seed': 42,\n",
    "    'logger': {\n",
    "        'save_dir': './script/task_02_ProteinVAE/'\n",
    "    },\n",
    "    'data': {\n",
    "        'dataset': 'ACE2_variants_2k',\n",
    "        # 'dataset': 'ACE2_variants_1000',\n",
    "        'data_class': 'Protein',\n",
    "        'mini_set_ratio': None,\n",
    "        'max_len': 83,\n",
    "    },\n",
    "    # VAE v2\n",
    "    # 'hparams': {\n",
    "    #     'encoder_params': {\n",
    "    #         'num_layers': 4,\n",
    "    #         'embed_dim': 1280,\n",
    "    #         'attention_heads': 20,\n",
    "    #         'alphabet': 'ESM-1b',\n",
    "    #         'token_dropout': False,\n",
    "    #         'embedding_layer': True,\n",
    "    #         'lm_head': False,\n",
    "    #         'return_layer': -1,\n",
    "    #     },\n",
    "    #     'encoder_mlp': {\n",
    "    #         'hiddens': [1280, 512, 256],\n",
    "    #         'activation': 'ReLU',\n",
    "    #         'batch_norm': False,\n",
    "    #         'layer_norm': True,\n",
    "    #         'bias': True,\n",
    "    #         'dropout': 0.1,\n",
    "    #     },\n",
    "    #     'encoder_mapping': {\n",
    "    #         'hiddens': [85 * 256, 4],\n",
    "    #         'activation': 'ReLU',\n",
    "    #         'batch_norm': True,\n",
    "    #         'layer_norm': False,\n",
    "    #         'bias': True,\n",
    "    #         'dropout': 0.1,\n",
    "    #     },\n",
    "    #     'decoder_mapping': {\n",
    "    #         'hiddens': [4 // 2, 85 * 256],\n",
    "    #         'activation': 'ReLU',\n",
    "    #         'batch_norm': True,\n",
    "    #         'layer_norm': False,\n",
    "    #         'bias': True,\n",
    "    #         'dropout': 0.1,\n",
    "    #     },\n",
    "    #     'decoder_mlp': {\n",
    "    #         'hiddens': [256, 512, 1280],\n",
    "    #         'activation': 'ReLU',\n",
    "    #         'batch_norm': False,\n",
    "    #         'layer_norm': True,\n",
    "    #         'bias': True,\n",
    "    #         'dropout': 0.1,\n",
    "    #     },\n",
    "    #     'decoder_params': {\n",
    "    #         'num_layers': 4,\n",
    "    #         'embed_dim': 1280,\n",
    "    #         'attention_heads': 20,\n",
    "    #         'alphabet': 'ESM-1b',\n",
    "    #         'token_dropout': False,\n",
    "    #         'embedding_layer': False,\n",
    "    #         'lm_head': False,\n",
    "    #         'return_layer': -1,\n",
    "    #     },\n",
    "\n",
    "    # VAE v3 standard\n",
    "    'hparams': {\n",
    "        'encoder_transformer': {\n",
    "            'num_layers': 4,\n",
    "            'embed_dim': 128,\n",
    "            'attention_heads': 16,\n",
    "            'alphabet': 'ESM-1b',\n",
    "            'token_dropout': False,\n",
    "            'embedding_layer': True,\n",
    "            'lm_head': False,\n",
    "            'return_layer': -1,\n",
    "        },\n",
    "        'encoder_mlp': {\n",
    "            'hiddens': [128, 64, 32],\n",
    "            'activation': 'ReLU',\n",
    "            'batch_norm': False,\n",
    "            'layer_norm': True,\n",
    "            'bias': True,\n",
    "            'dropout': 0.05,\n",
    "        },\n",
    "        'decoder_mlp': {\n",
    "            'hiddens': [32 // 2, 64, 128],\n",
    "            'activation': 'ReLU',\n",
    "            'batch_norm': False,\n",
    "            'layer_norm': True,\n",
    "            'bias': True,\n",
    "            'dropout': 0.05,\n",
    "        },\n",
    "        'decoder_transformer': {\n",
    "            'num_layers': 4,\n",
    "            'embed_dim': 128,\n",
    "            'attention_heads': 16,\n",
    "            'alphabet': 'ESM-1b',\n",
    "            'token_dropout': False,\n",
    "            'embedding_layer': False,\n",
    "            'lm_head': False,\n",
    "            'return_layer': -1,\n",
    "        },\n",
    "        'regressor_head': {\n",
    "            'hiddens': [85 * 32 // 2, 256, 128, 2],  # concat_h as input: L*D/2\n",
    "            # 'hiddens': [32, 16, 2],  # position_h <cls> after pooling as input: D\n",
    "            # 'hiddens': [128, 16, 2],  # position_h <cls> before pooling as input: H\n",
    "            'activation': 'ReLU',\n",
    "            'batch_norm': True,\n",
    "            'bias': True,\n",
    "            'dropout': 0.05,\n",
    "        },\n",
    "        # 'regressor_head': None,\n",
    "        'reparameterization': False,\n",
    "    },\n",
    "    'loss': {\n",
    "        'ce_loss': {'name': 'CrossEntropy', 'args': {}},\n",
    "        'mse_loss': {'name': 'MSELoss', 'args': {}},\n",
    "        'mmd_loss': {'name': 'MMDLoss', 'args': {'sigma': 20}},\n",
    "        'ce_weight': 1.0,\n",
    "        'mse_weight': 1000.0,\n",
    "        'reg_weight': 0.1,\n",
    "    },\n",
    "    'optimizer': {\n",
    "        # 'name': 'Adam',\n",
    "        'name': 'RAdam',\n",
    "        # 'name': 'AdamW',\n",
    "        'args': {\n",
    "            # 'lr': 0.001,\n",
    "            'lr': 0.0005,\n",
    "            # 'lr': 0.0002,\n",
    "            # 'lr': 0.0001,\n",
    "        }\n",
    "    },\n",
    "    'scheduler': {\n",
    "        # 'name': None,\n",
    "        # 'args': {},\n",
    "        'name': 'LinearLR',\n",
    "        'interval': 'step',\n",
    "        'frequency': 1,\n",
    "        'args': {\n",
    "            'start_factor': 1,\n",
    "            'end_factor': 0.01,\n",
    "            'total_iters': 25 * 100 * 5\n",
    "        },\n",
    "    },\n",
    "    'trainer': {\n",
    "        # 'max_epochs': 50,\n",
    "        'max_epochs': 100,\n",
    "        'gradient_clip_val': 1.0,\n",
    "        'gradient_clip_algorithm': 'norm',\n",
    "        'accumulate_grad_batches': 1,\n",
    "        'num_sanity_val_steps': 2,\n",
    "        'val_check_interval': 0.5,\n",
    "        'enable_checkpointing': True,\n",
    "        # 'enable_checkpointing': False,\n",
    "    },\n",
    "    'early_stop_callback': {\n",
    "        'monitor': 'valid/loss_epoch',\n",
    "        'mode': 'min',\n",
    "    },\n",
    "    'ckpt_callback': {\n",
    "        'monitor': 'valid/loss_epoch',\n",
    "        'filename': 'epoch={epoch:02d}, loss={valid/loss_epoch:.3f}, ce={valid/ce_epoch:.3f}, reg={valid/reg_epoch:.3f}, mse={valid/mse_epoch:.3f}, ddG={valid/ddG_pearsonr_epoch:.3f}, dS={valid/dS_pearsonr_epoch:.3f}',\n",
    "        'auto_insert_metric_name': False,\n",
    "        'save_weights_only': True,\n",
    "        'mode': 'min',\n",
    "        'save_top_k': 50,\n",
    "        'save_last': True,\n",
    "    },\n",
    "    # 'ckpt_callback': None,\n",
    "    'train_dataloader': {\n",
    "        # 'batch_size': 32,\n",
    "        'batch_size': 64,\n",
    "        # 'batch_size': 128,\n",
    "        # 'batch_size': 256,\n",
    "        'num_workers': 4,\n",
    "        'drop_last': True,\n",
    "    },\n",
    "    'valid_dataloader': {\n",
    "        # 'batch_size': 32,\n",
    "        'batch_size': 64,\n",
    "        # 'batch_size': 128,\n",
    "        # 'batch_size': 256,\n",
    "        'num_workers': 4,\n",
    "    },\n",
    "    'test_dataloader': {\n",
    "        # 'batch_size': 32,\n",
    "        'batch_size': 64,\n",
    "        # 'batch_size': 128,\n",
    "        # 'batch_size': 256,\n",
    "        'num_workers': 4,\n",
    "    },\n",
    "    'predict_dataloader': {\n",
    "        # 'batch_size': 32,\n",
    "        'batch_size': 64,\n",
    "        # 'batch_size': 128,\n",
    "        # 'batch_size': 256,\n",
    "        'num_workers': 4,\n",
    "    },\n",
    "}\n",
    "dataset_hparams = paths.script + '/task_02_ProteinVAE/ProteinVAE/dataset.yaml'\n",
    "model_hparams = paths.script + '/task_02_ProteinVAE/ProteinVAE/model.yaml'\n",
    "framework_hparams = paths.script + '/task_02_ProteinVAE/ProteinVAE/framework.yaml'\n",
    "args = parse_config([dataset_hparams, model_hparams, framework_hparams, update_dict])"
   ],
   "metadata": {
    "collapsed": false,
    "ExecuteTime": {
     "end_time": "2023-11-26T18:26:30.010846600Z",
     "start_time": "2023-11-26T18:26:29.811120800Z"
    }
   }
  },
  {
   "cell_type": "code",
   "execution_count": 4,
   "outputs": [
    {
     "data": {
      "text/plain": "{'project': 'ProteinVAE', 'dataset': 'template', 'model': '/home/hew/python/LatentEvolution/framework/config/model/template.yaml', 'seed': 42, 'tokenization': {'alphabet': 'ESM-1b', 'truncation_seq_length': None}, 'train_dataloader': {'batch_size': 64, 'num_workers': 4, 'shuffle': True, 'drop_last': True, 'pin_memory': True, 'persistent_workers': True}, 'valid_dataloader': {'batch_size': 64, 'num_workers': 4, 'shuffle': False, 'pin_memory': True, 'persistent_workers': True}, 'test_dataloader': {'batch_size': 64, 'num_workers': 4, 'shuffle': False, 'pin_memory': True, 'persistent_workers': True}, 'predict_dataloader': {'batch_size': 64, 'num_workers': 4, 'shuffle': False, 'pin_memory': True, 'persistent_workers': True}, 'trainer': {'max_epochs': 100, 'accelerator': 'auto', 'strategy': 'auto', 'devices': 'auto', 'deterministic': False, 'benchmark': True, 'sync_batchnorm': True, 'log_every_n_steps': 1, 'check_val_every_n_epoch': 1, 'fast_dev_run': False, 'num_sanity_val_steps': 2, 'enable_model_summary': True, 'reload_dataloaders_every_n_epochs': 0, 'gradient_clip_val': 1.0, 'gradient_clip_algorithm': 'norm', 'enable_checkpointing': True, 'accumulate_grad_batches': 1, 'val_check_interval': 0.5}, 'logger': {'save_dir': './script/task_02_ProteinVAE/', 'name': 'lightning_logs'}, 'progress_bar_callback': {'refresh_rate': 1, 'process_position': 0}, 'ckpt_callback': {'monitor': 'valid/loss_epoch', 'filename': 'epoch={epoch:02d}, loss={valid/loss_epoch:.3f}, ce={valid/ce_epoch:.3f}, reg={valid/reg_epoch:.3f}, mse={valid/mse_epoch:.3f}, ddG={valid/ddG_pearsonr_epoch:.3f}, dS={valid/dS_pearsonr_epoch:.3f}', 'auto_insert_metric_name': False, 'save_weights_only': True, 'mode': 'min', 'save_top_k': 50, 'save_last': True}, 'early_stop_callback': {'monitor': 'valid/loss_epoch', 'min_delta': 0.01, 'patience': 200, 'mode': 'min'}, 'swa_callback': None, 'xlsx_output_format': {'general_format': {'align': 'center', 'valign': 'vcenter'}, 'number_format': {'num_format': '#,##0.0000', 'align': 'center', 'valign': 'vcenter'}}, 'nni': {'auto_ml': False, 'metric': 'AUC', 'use_best': True}, 'data': {'dataset': 'ACE2_variants_2k', 'sequence_length': 83, 'mini_set_ratio': None, 'data_class': 'Protein', 'lazy_load': False, 'train_ratio': 0.7, 'valid_ratio': 0.1, 'test_ratio': 0.2, 'split_valid': None, 'label': 'ddG', 'max_len': 83}, 'hparams': {'encoder_transformer': {'num_layers': 4, 'embed_dim': 128, 'attention_heads': 16, 'alphabet': 'ESM-1b', 'token_dropout': False, 'embedding_layer': True, 'lm_head': False, 'return_layer': -1}, 'encoder_mlp': {'hiddens': [128, 64, 32], 'activation': 'ReLU', 'batch_norm': False, 'layer_norm': True, 'bias': True, 'dropout': 0.05}, 'decoder_mlp': {'hiddens': [16, 64, 128], 'activation': 'ReLU', 'batch_norm': False, 'layer_norm': True, 'bias': True, 'dropout': 0.05}, 'decoder_transformer': {'num_layers': 4, 'embed_dim': 128, 'attention_heads': 16, 'alphabet': 'ESM-1b', 'token_dropout': False, 'embedding_layer': False, 'lm_head': False, 'return_layer': -1}, 'regressor_head': {'hiddens': [1360, 256, 128, 2], 'activation': 'ReLU', 'batch_norm': True, 'bias': True, 'dropout': 0.05}, 'reparameterization': False}, 'optimizer': {'name': 'RAdam', 'args': {'lr': 0.0005, 'weight_decay': 0}}, 'scheduler': {'name': 'LinearLR', 'args': {'start_factor': 1, 'end_factor': 0.01, 'total_iters': 12500}, 'interval': 'step', 'frequency': 1}, 'loss': {'mse_loss': {'name': 'MSELoss', 'args': {}}, 'ce_loss': {'name': 'CrossEntropy', 'args': {}}, 'mmd_loss': {'name': 'MMDLoss', 'args': {'sigma': 20}}, 'ce_weight': 1.0, 'mse_weight': 1000.0, 'reg_weight': 0.1}, '-f': None, '/home/hew/': {'local/share/jupyter/runtime/kernel-5cb8f973-fbf3-4682-b953-dfd6e5751b84': {'json': None}}}"
     },
     "execution_count": 4,
     "metadata": {},
     "output_type": "execute_result"
    }
   ],
   "source": [
    "args"
   ],
   "metadata": {
    "collapsed": false,
    "ExecuteTime": {
     "end_time": "2023-11-26T18:26:30.059366700Z",
     "start_time": "2023-11-26T18:26:30.016331800Z"
    }
   }
  },
  {
   "cell_type": "code",
   "execution_count": 4,
   "outputs": [],
   "source": [],
   "metadata": {
    "collapsed": false,
    "ExecuteTime": {
     "end_time": "2023-11-26T18:26:30.061363Z",
     "start_time": "2023-11-26T18:26:30.056361500Z"
    }
   }
  },
  {
   "cell_type": "code",
   "execution_count": 5,
   "outputs": [
    {
     "name": "stderr",
     "output_type": "stream",
     "text": [
      "Global seed set to 42\n"
     ]
    },
    {
     "name": "stdout",
     "output_type": "stream",
     "text": [
      "============================== PeptideDataModule __init__ Start ==============================\n",
      "============================== PeptideDataModule __init__ End ==============================\n",
      "CPU times: user 4.55 ms, sys: 72 µs, total: 4.62 ms\n",
      "Wall time: 3.53 ms\n"
     ]
    }
   ],
   "source": [
    "%%time\n",
    "seed_everything(args.seed)\n",
    "pl_data_module = SequenceDataModule(args)"
   ],
   "metadata": {
    "collapsed": false,
    "ExecuteTime": {
     "end_time": "2023-11-26T18:26:30.132876200Z",
     "start_time": "2023-11-26T18:26:30.109362600Z"
    }
   }
  },
  {
   "cell_type": "code",
   "execution_count": 6,
   "outputs": [],
   "source": [
    "# %%time\n",
    "# pl_data_module.prepare_data('train')\n",
    "# pl_data_module.setup('fit')\n",
    "# pl_data_module.setup('test')"
   ],
   "metadata": {
    "collapsed": false,
    "ExecuteTime": {
     "end_time": "2023-11-26T18:26:30.210209300Z",
     "start_time": "2023-11-26T18:26:30.136879500Z"
    }
   }
  },
  {
   "cell_type": "code",
   "execution_count": 7,
   "outputs": [],
   "source": [
    "# pl_data_module.args.train_dataloader.batch_size = 128\n",
    "# pl_data_module.args.valid_dataloader.batch_size = 128\n",
    "# pl_data_module.args.test_dataloader.batch_size = 128\n",
    "# pl_data_module.args.predict_dataloader.batch_size = 128\n",
    "# pl_data_module.args.train_dataloader.num_workers = 4\n",
    "# pl_data_module.args.valid_dataloader.num_workers = 4\n",
    "# pl_data_module.args.test_dataloader.num_workers = 4\n",
    "# pl_data_module.args.predict_dataloader.num_workers = 4"
   ],
   "metadata": {
    "collapsed": false,
    "ExecuteTime": {
     "end_time": "2023-11-26T18:26:30.268863100Z",
     "start_time": "2023-11-26T18:26:30.220509400Z"
    }
   }
  },
  {
   "cell_type": "code",
   "execution_count": 8,
   "outputs": [],
   "source": [
    "pl_data_module.dataframe"
   ],
   "metadata": {
    "collapsed": false,
    "ExecuteTime": {
     "end_time": "2023-11-26T18:26:30.360380400Z",
     "start_time": "2023-11-26T18:26:30.275864500Z"
    }
   }
  },
  {
   "cell_type": "code",
   "execution_count": 9,
   "outputs": [],
   "source": [
    "# tokens, ddG, dS = next(iter(pl_data_module.train_dataloader()))\n",
    "# tokens.shape, ddG.shape, dS.shape"
   ],
   "metadata": {
    "collapsed": false,
    "ExecuteTime": {
     "end_time": "2023-11-26T18:26:30.426616400Z",
     "start_time": "2023-11-26T18:26:30.367391Z"
    }
   }
  },
  {
   "cell_type": "code",
   "execution_count": 9,
   "outputs": [],
   "source": [],
   "metadata": {
    "collapsed": false,
    "ExecuteTime": {
     "end_time": "2023-11-26T18:26:30.440501500Z",
     "start_time": "2023-11-26T18:26:30.439500800Z"
    }
   }
  },
  {
   "cell_type": "code",
   "execution_count": 10,
   "outputs": [
    {
     "name": "stderr",
     "output_type": "stream",
     "text": [
      "Global seed set to 42\n",
      "GPU available: True (cuda), used: True\n",
      "TPU available: False, using: 0 TPU cores\n",
      "IPU available: False, using: 0 IPUs\n",
      "HPU available: False, using: 0 HPUs\n"
     ]
    },
    {
     "name": "stdout",
     "output_type": "stream",
     "text": [
      "CPU times: user 106 ms, sys: 35.9 ms, total: 142 ms\n",
      "Wall time: 162 ms\n"
     ]
    }
   ],
   "source": [
    "%%time\n",
    "seed_everything(args.seed)\n",
    "pl_model = SequenceLightningModule(args)\n",
    "\n",
    "trainer = get_pl_trainer(args)"
   ],
   "metadata": {
    "collapsed": false,
    "ExecuteTime": {
     "end_time": "2023-11-26T18:26:30.663980100Z",
     "start_time": "2023-11-26T18:26:30.439500800Z"
    }
   }
  },
  {
   "cell_type": "code",
   "execution_count": 11,
   "outputs": [
    {
     "data": {
      "text/plain": "ProteinVAE(\n  (encoder_transformer): ESMTransformer(\n    (embed_tokens): Embedding(33, 128, padding_idx=1)\n    (layers): ModuleList(\n      (0-3): 4 x TransformerLayer(\n        (self_attn): MultiheadAttention(\n          (k_proj): Linear(in_features=128, out_features=128, bias=True)\n          (v_proj): Linear(in_features=128, out_features=128, bias=True)\n          (q_proj): Linear(in_features=128, out_features=128, bias=True)\n          (out_proj): Linear(in_features=128, out_features=128, bias=True)\n          (rot_emb): RotaryEmbedding()\n        )\n        (self_attn_layer_norm): LayerNorm((128,), eps=1e-05, elementwise_affine=True)\n        (fc1): Linear(in_features=128, out_features=512, bias=True)\n        (fc2): Linear(in_features=512, out_features=128, bias=True)\n        (final_layer_norm): LayerNorm((128,), eps=1e-05, elementwise_affine=True)\n      )\n    )\n    (emb_layer_norm_after): LayerNorm((128,), eps=1e-05, elementwise_affine=True)\n  )\n  (encoder_mlp): MLP(\n    (mlp): Sequential(\n      (0): Linear(in_features=128, out_features=64, bias=True)\n      (1): LayerNorm((64,), eps=1e-05, elementwise_affine=True)\n      (2): ReLU()\n      (3): Dropout(p=0.05, inplace=False)\n      (4): Linear(in_features=64, out_features=32, bias=True)\n    )\n  )\n  (regressor_head): MLP(\n    (mlp): Sequential(\n      (0): Linear(in_features=1360, out_features=256, bias=False)\n      (1): BatchNorm1d(256, eps=1e-05, momentum=0.1, affine=True, track_running_stats=True)\n      (2): ReLU()\n      (3): Dropout(p=0.05, inplace=False)\n      (4): Linear(in_features=256, out_features=128, bias=False)\n      (5): BatchNorm1d(128, eps=1e-05, momentum=0.1, affine=True, track_running_stats=True)\n      (6): ReLU()\n      (7): Dropout(p=0.05, inplace=False)\n      (8): Linear(in_features=128, out_features=2, bias=True)\n    )\n  )\n  (decoder_mlp): MLP(\n    (mlp): Sequential(\n      (0): Linear(in_features=16, out_features=64, bias=True)\n      (1): LayerNorm((64,), eps=1e-05, elementwise_affine=True)\n      (2): ReLU()\n      (3): Dropout(p=0.05, inplace=False)\n      (4): Linear(in_features=64, out_features=128, bias=True)\n    )\n  )\n  (decoder_transformer): ESMTransformer(\n    (layers): ModuleList(\n      (0-3): 4 x TransformerLayer(\n        (self_attn): MultiheadAttention(\n          (k_proj): Linear(in_features=128, out_features=128, bias=True)\n          (v_proj): Linear(in_features=128, out_features=128, bias=True)\n          (q_proj): Linear(in_features=128, out_features=128, bias=True)\n          (out_proj): Linear(in_features=128, out_features=128, bias=True)\n          (rot_emb): RotaryEmbedding()\n        )\n        (self_attn_layer_norm): LayerNorm((128,), eps=1e-05, elementwise_affine=True)\n        (fc1): Linear(in_features=128, out_features=512, bias=True)\n        (fc2): Linear(in_features=512, out_features=128, bias=True)\n        (final_layer_norm): LayerNorm((128,), eps=1e-05, elementwise_affine=True)\n      )\n    )\n    (emb_layer_norm_after): LayerNorm((128,), eps=1e-05, elementwise_affine=True)\n  )\n  (lm_head): RobertaLMHead(\n    (dense): Linear(in_features=128, out_features=128, bias=True)\n    (layer_norm): LayerNorm((128,), eps=1e-05, elementwise_affine=True)\n  )\n)"
     },
     "execution_count": 11,
     "metadata": {},
     "output_type": "execute_result"
    }
   ],
   "source": [
    "pl_model.model"
   ],
   "metadata": {
    "collapsed": false,
    "ExecuteTime": {
     "end_time": "2023-11-26T18:26:30.714879200Z",
     "start_time": "2023-11-26T18:26:30.662979300Z"
    }
   }
  },
  {
   "cell_type": "code",
   "execution_count": 11,
   "outputs": [],
   "source": [],
   "metadata": {
    "collapsed": false,
    "ExecuteTime": {
     "end_time": "2023-11-26T18:26:30.714879200Z",
     "start_time": "2023-11-26T18:26:30.705875300Z"
    }
   }
  },
  {
   "cell_type": "code",
   "execution_count": 12,
   "outputs": [
    {
     "data": {
      "text/plain": "(Parameter containing:\n tensor([[ 0.0009,  0.0231,  0.0561,  ...,  0.0883, -0.0723, -0.0706],\n         [ 0.0438, -0.0589, -0.0544,  ..., -0.0211,  0.0062,  0.0495],\n         [ 0.0537,  0.0459, -0.0724,  ..., -0.0693, -0.0875,  0.0370],\n         ...,\n         [-0.0514,  0.0383,  0.0226,  ..., -0.0554,  0.0690, -0.0841],\n         [-0.0037,  0.0279, -0.0087,  ..., -0.0350,  0.0324,  0.0755],\n         [ 0.0561, -0.0160,  0.0218,  ..., -0.0486, -0.0286,  0.0117]],\n        requires_grad=True),\n True)"
     },
     "execution_count": 12,
     "metadata": {},
     "output_type": "execute_result"
    }
   ],
   "source": [
    "pl_model.model.encoder_mlp.mlp[0].weight, pl_model.model.encoder_mlp.mlp[0].weight.requires_grad"
   ],
   "metadata": {
    "collapsed": false,
    "ExecuteTime": {
     "end_time": "2023-11-26T18:26:30.784541800Z",
     "start_time": "2023-11-26T18:26:30.705875300Z"
    }
   }
  },
  {
   "cell_type": "code",
   "execution_count": 13,
   "outputs": [
    {
     "data": {
      "text/plain": "(True, True)"
     },
     "execution_count": 13,
     "metadata": {},
     "output_type": "execute_result"
    }
   ],
   "source": [
    "pl_model.model.training, pl_model.training"
   ],
   "metadata": {
    "collapsed": false,
    "ExecuteTime": {
     "end_time": "2023-11-26T18:26:30.851501600Z",
     "start_time": "2023-11-26T18:26:30.777441Z"
    }
   }
  },
  {
   "cell_type": "code",
   "execution_count": 14,
   "outputs": [],
   "source": [
    "# gc.collect()\n",
    "# torch.cuda.empty_cache()"
   ],
   "metadata": {
    "collapsed": false,
    "ExecuteTime": {
     "end_time": "2023-11-26T18:26:30.902679800Z",
     "start_time": "2023-11-26T18:26:30.845493800Z"
    }
   }
  },
  {
   "cell_type": "code",
   "execution_count": 15,
   "outputs": [
    {
     "name": "stdout",
     "output_type": "stream",
     "text": [
      "============================== prepare_data: mode[train] Start ==============================\n",
      "============================== prepare_dataset Start ==============================\n",
      "<<<<<<<<<<<<<<<<<<<<<<<<<<<<<< load data according to selected index >>>>>>>>>>>>>>>>>>>>>>>>>>>>>>\n"
     ]
    },
    {
     "data": {
      "text/plain": "  0%|          | 0/2404 [00:00<?, ?it/s]",
      "application/vnd.jupyter.widget-view+json": {
       "version_major": 2,
       "version_minor": 0,
       "model_id": "0f6b295da08d4ca389425fd46168a137"
      }
     },
     "metadata": {},
     "output_type": "display_data"
    },
    {
     "name": "stdout",
     "output_type": "stream",
     "text": [
      "the dataset has not been partitioned, split dataset with specific ratio\n",
      "dataframe partition values:\n",
      "partition\n",
      "train    1661\n",
      "test      521\n",
      "valid     222\n",
      "Name: count, dtype: int64\n",
      "select the subset for debug, max_len: 83, ratio: 1, number: 2404\n",
      "============================== prepare_dataset End ==============================\n",
      "len(self.train_dataset) 1661\n",
      "len(self.valid_dataset) 222\n",
      "len(self.test_dataset) 521\n",
      "============================== prepare_data mode[train] End ==============================\n",
      "============================== prepare_data: mode[None] Start ==============================\n",
      "============================== prepare_data has been invoked, mode=None ==============================\n",
      "============================== prepare_data mode[None] End ==============================\n",
      "============================== Setup [fit] Start ==============================\n",
      "[len self.train_dataset] 1661\n",
      "[len self.val_dataset] 222\n",
      "============================== Setup [fit] End ==============================\n"
     ]
    },
    {
     "name": "stderr",
     "output_type": "stream",
     "text": [
      "LOCAL_RANK: 0 - CUDA_VISIBLE_DEVICES: [0]\n",
      "\n",
      "  | Name     | Type             | Params\n",
      "----------------------------------------------\n",
      "0 | model    | ProteinVAE       | 2.0 M \n",
      "1 | ce_loss  | CrossEntropyLoss | 0     \n",
      "2 | mse_loss | MSELoss          | 0     \n",
      "3 | mmd_loss | MMDLoss          | 0     \n",
      "----------------------------------------------\n",
      "2.0 M     Trainable params\n",
      "0         Non-trainable params\n",
      "2.0 M     Total params\n",
      "8.056     Total estimated model params size (MB)\n"
     ]
    },
    {
     "data": {
      "text/plain": "Sanity Checking: 0it [00:00, ?it/s]",
      "application/vnd.jupyter.widget-view+json": {
       "version_major": 2,
       "version_minor": 0,
       "model_id": "74330d9aeefd45fc905ab56470c1b439"
      }
     },
     "metadata": {},
     "output_type": "display_data"
    },
    {
     "data": {
      "text/plain": "Training: 0it [00:00, ?it/s]",
      "application/vnd.jupyter.widget-view+json": {
       "version_major": 2,
       "version_minor": 0,
       "model_id": "b7d855e83c634d9caf978f70f24c0c58"
      }
     },
     "metadata": {},
     "output_type": "display_data"
    },
    {
     "data": {
      "text/plain": "Validation: 0it [00:00, ?it/s]",
      "application/vnd.jupyter.widget-view+json": {
       "version_major": 2,
       "version_minor": 0,
       "model_id": "eaa1ae9e2d314c6e9b2cd50c66424c3d"
      }
     },
     "metadata": {},
     "output_type": "display_data"
    },
    {
     "data": {
      "text/plain": "Validation: 0it [00:00, ?it/s]",
      "application/vnd.jupyter.widget-view+json": {
       "version_major": 2,
       "version_minor": 0,
       "model_id": "ec8b2a1d561b4fc6a6cccffdf885c047"
      }
     },
     "metadata": {},
     "output_type": "display_data"
    },
    {
     "data": {
      "text/plain": "Validation: 0it [00:00, ?it/s]",
      "application/vnd.jupyter.widget-view+json": {
       "version_major": 2,
       "version_minor": 0,
       "model_id": "ff03ecb47bf3452b962438b5857a4811"
      }
     },
     "metadata": {},
     "output_type": "display_data"
    },
    {
     "data": {
      "text/plain": "Validation: 0it [00:00, ?it/s]",
      "application/vnd.jupyter.widget-view+json": {
       "version_major": 2,
       "version_minor": 0,
       "model_id": "b855ae59d30d47179f78bb473ef56a17"
      }
     },
     "metadata": {},
     "output_type": "display_data"
    },
    {
     "data": {
      "text/plain": "Validation: 0it [00:00, ?it/s]",
      "application/vnd.jupyter.widget-view+json": {
       "version_major": 2,
       "version_minor": 0,
       "model_id": "b3668415bdba4ec2855c34f14164eab8"
      }
     },
     "metadata": {},
     "output_type": "display_data"
    },
    {
     "data": {
      "text/plain": "Validation: 0it [00:00, ?it/s]",
      "application/vnd.jupyter.widget-view+json": {
       "version_major": 2,
       "version_minor": 0,
       "model_id": "e23b3089a0d54919ad5e53b6f160a160"
      }
     },
     "metadata": {},
     "output_type": "display_data"
    },
    {
     "data": {
      "text/plain": "Validation: 0it [00:00, ?it/s]",
      "application/vnd.jupyter.widget-view+json": {
       "version_major": 2,
       "version_minor": 0,
       "model_id": "0342c5eddab9464f8348653a2f8f432b"
      }
     },
     "metadata": {},
     "output_type": "display_data"
    },
    {
     "data": {
      "text/plain": "Validation: 0it [00:00, ?it/s]",
      "application/vnd.jupyter.widget-view+json": {
       "version_major": 2,
       "version_minor": 0,
       "model_id": "afdba11b4e1c4a47b70a91e79f1f6d2e"
      }
     },
     "metadata": {},
     "output_type": "display_data"
    },
    {
     "data": {
      "text/plain": "Validation: 0it [00:00, ?it/s]",
      "application/vnd.jupyter.widget-view+json": {
       "version_major": 2,
       "version_minor": 0,
       "model_id": "768eb42e24494409854e159c7cbf7c62"
      }
     },
     "metadata": {},
     "output_type": "display_data"
    },
    {
     "data": {
      "text/plain": "Validation: 0it [00:00, ?it/s]",
      "application/vnd.jupyter.widget-view+json": {
       "version_major": 2,
       "version_minor": 0,
       "model_id": "2d1cdf50e97b4764ad5a5c2d7c3e6e85"
      }
     },
     "metadata": {},
     "output_type": "display_data"
    },
    {
     "data": {
      "text/plain": "Validation: 0it [00:00, ?it/s]",
      "application/vnd.jupyter.widget-view+json": {
       "version_major": 2,
       "version_minor": 0,
       "model_id": "f0325132e1ab4d26a3296ec6b6e33a31"
      }
     },
     "metadata": {},
     "output_type": "display_data"
    },
    {
     "data": {
      "text/plain": "Validation: 0it [00:00, ?it/s]",
      "application/vnd.jupyter.widget-view+json": {
       "version_major": 2,
       "version_minor": 0,
       "model_id": "da9d36867bff431cbcbea4324240ab9f"
      }
     },
     "metadata": {},
     "output_type": "display_data"
    },
    {
     "data": {
      "text/plain": "Validation: 0it [00:00, ?it/s]",
      "application/vnd.jupyter.widget-view+json": {
       "version_major": 2,
       "version_minor": 0,
       "model_id": "dc6d71194c574e31805019c6b1a42738"
      }
     },
     "metadata": {},
     "output_type": "display_data"
    },
    {
     "data": {
      "text/plain": "Validation: 0it [00:00, ?it/s]",
      "application/vnd.jupyter.widget-view+json": {
       "version_major": 2,
       "version_minor": 0,
       "model_id": "45c210424303408294355ce73d02e39d"
      }
     },
     "metadata": {},
     "output_type": "display_data"
    },
    {
     "data": {
      "text/plain": "Validation: 0it [00:00, ?it/s]",
      "application/vnd.jupyter.widget-view+json": {
       "version_major": 2,
       "version_minor": 0,
       "model_id": "d6f0d5a4844345efa0831aca2aff8115"
      }
     },
     "metadata": {},
     "output_type": "display_data"
    },
    {
     "data": {
      "text/plain": "Validation: 0it [00:00, ?it/s]",
      "application/vnd.jupyter.widget-view+json": {
       "version_major": 2,
       "version_minor": 0,
       "model_id": "349a1c8409f34dd8bde0d02ef43ecd8c"
      }
     },
     "metadata": {},
     "output_type": "display_data"
    },
    {
     "data": {
      "text/plain": "Validation: 0it [00:00, ?it/s]",
      "application/vnd.jupyter.widget-view+json": {
       "version_major": 2,
       "version_minor": 0,
       "model_id": "82c6cc855948463abd29a98ece4670a1"
      }
     },
     "metadata": {},
     "output_type": "display_data"
    },
    {
     "data": {
      "text/plain": "Validation: 0it [00:00, ?it/s]",
      "application/vnd.jupyter.widget-view+json": {
       "version_major": 2,
       "version_minor": 0,
       "model_id": "e391abe7cf7945e5b9605da95914c124"
      }
     },
     "metadata": {},
     "output_type": "display_data"
    },
    {
     "data": {
      "text/plain": "Validation: 0it [00:00, ?it/s]",
      "application/vnd.jupyter.widget-view+json": {
       "version_major": 2,
       "version_minor": 0,
       "model_id": "1bb4371bce624235b807389dfb5fa601"
      }
     },
     "metadata": {},
     "output_type": "display_data"
    },
    {
     "data": {
      "text/plain": "Validation: 0it [00:00, ?it/s]",
      "application/vnd.jupyter.widget-view+json": {
       "version_major": 2,
       "version_minor": 0,
       "model_id": "8d03f05a90f64f7cb4a62b9b860300f8"
      }
     },
     "metadata": {},
     "output_type": "display_data"
    },
    {
     "data": {
      "text/plain": "Validation: 0it [00:00, ?it/s]",
      "application/vnd.jupyter.widget-view+json": {
       "version_major": 2,
       "version_minor": 0,
       "model_id": "11f8e493379c4cea9e70921d2c456e21"
      }
     },
     "metadata": {},
     "output_type": "display_data"
    },
    {
     "data": {
      "text/plain": "Validation: 0it [00:00, ?it/s]",
      "application/vnd.jupyter.widget-view+json": {
       "version_major": 2,
       "version_minor": 0,
       "model_id": "261c042d58344bc39408ac7343aa5fca"
      }
     },
     "metadata": {},
     "output_type": "display_data"
    },
    {
     "data": {
      "text/plain": "Validation: 0it [00:00, ?it/s]",
      "application/vnd.jupyter.widget-view+json": {
       "version_major": 2,
       "version_minor": 0,
       "model_id": "e23f312d55324f82af03761c92717ef3"
      }
     },
     "metadata": {},
     "output_type": "display_data"
    },
    {
     "data": {
      "text/plain": "Validation: 0it [00:00, ?it/s]",
      "application/vnd.jupyter.widget-view+json": {
       "version_major": 2,
       "version_minor": 0,
       "model_id": "30066e7a7f06494580b438318a8d6180"
      }
     },
     "metadata": {},
     "output_type": "display_data"
    },
    {
     "data": {
      "text/plain": "Validation: 0it [00:00, ?it/s]",
      "application/vnd.jupyter.widget-view+json": {
       "version_major": 2,
       "version_minor": 0,
       "model_id": "cf3d9a9984ad4a75ac50773e634d0890"
      }
     },
     "metadata": {},
     "output_type": "display_data"
    },
    {
     "data": {
      "text/plain": "Validation: 0it [00:00, ?it/s]",
      "application/vnd.jupyter.widget-view+json": {
       "version_major": 2,
       "version_minor": 0,
       "model_id": "7a20e48a197c4978bf11dce02f2d8cc7"
      }
     },
     "metadata": {},
     "output_type": "display_data"
    },
    {
     "data": {
      "text/plain": "Validation: 0it [00:00, ?it/s]",
      "application/vnd.jupyter.widget-view+json": {
       "version_major": 2,
       "version_minor": 0,
       "model_id": "0781f64e84544e66814cfee7cf2798b3"
      }
     },
     "metadata": {},
     "output_type": "display_data"
    },
    {
     "data": {
      "text/plain": "Validation: 0it [00:00, ?it/s]",
      "application/vnd.jupyter.widget-view+json": {
       "version_major": 2,
       "version_minor": 0,
       "model_id": "60117ecbf84a459698c9ca8c0e0b6f4e"
      }
     },
     "metadata": {},
     "output_type": "display_data"
    },
    {
     "data": {
      "text/plain": "Validation: 0it [00:00, ?it/s]",
      "application/vnd.jupyter.widget-view+json": {
       "version_major": 2,
       "version_minor": 0,
       "model_id": "0c7bd75a10144e409929dbe74bdf2bb0"
      }
     },
     "metadata": {},
     "output_type": "display_data"
    },
    {
     "data": {
      "text/plain": "Validation: 0it [00:00, ?it/s]",
      "application/vnd.jupyter.widget-view+json": {
       "version_major": 2,
       "version_minor": 0,
       "model_id": "6fbfd5b8e86c4a88a48f3ee4e1dca148"
      }
     },
     "metadata": {},
     "output_type": "display_data"
    },
    {
     "data": {
      "text/plain": "Validation: 0it [00:00, ?it/s]",
      "application/vnd.jupyter.widget-view+json": {
       "version_major": 2,
       "version_minor": 0,
       "model_id": "3b6c916f438f442faebc2f29b1e8eb75"
      }
     },
     "metadata": {},
     "output_type": "display_data"
    },
    {
     "data": {
      "text/plain": "Validation: 0it [00:00, ?it/s]",
      "application/vnd.jupyter.widget-view+json": {
       "version_major": 2,
       "version_minor": 0,
       "model_id": "cb5db7e30ef6436cb3f21223dd171073"
      }
     },
     "metadata": {},
     "output_type": "display_data"
    },
    {
     "data": {
      "text/plain": "Validation: 0it [00:00, ?it/s]",
      "application/vnd.jupyter.widget-view+json": {
       "version_major": 2,
       "version_minor": 0,
       "model_id": "bdeeab002c524b758d9dfac868e33a24"
      }
     },
     "metadata": {},
     "output_type": "display_data"
    },
    {
     "data": {
      "text/plain": "Validation: 0it [00:00, ?it/s]",
      "application/vnd.jupyter.widget-view+json": {
       "version_major": 2,
       "version_minor": 0,
       "model_id": "7ab440305125454e9679c10747cd0ada"
      }
     },
     "metadata": {},
     "output_type": "display_data"
    },
    {
     "data": {
      "text/plain": "Validation: 0it [00:00, ?it/s]",
      "application/vnd.jupyter.widget-view+json": {
       "version_major": 2,
       "version_minor": 0,
       "model_id": "d1eb079799ee484f8f04d47f44e32fb7"
      }
     },
     "metadata": {},
     "output_type": "display_data"
    },
    {
     "data": {
      "text/plain": "Validation: 0it [00:00, ?it/s]",
      "application/vnd.jupyter.widget-view+json": {
       "version_major": 2,
       "version_minor": 0,
       "model_id": "ade06eb1a6b947a4999ae9ec84e4df48"
      }
     },
     "metadata": {},
     "output_type": "display_data"
    },
    {
     "data": {
      "text/plain": "Validation: 0it [00:00, ?it/s]",
      "application/vnd.jupyter.widget-view+json": {
       "version_major": 2,
       "version_minor": 0,
       "model_id": "b6ad19939e414df2ab7c48e3ad6b9e69"
      }
     },
     "metadata": {},
     "output_type": "display_data"
    },
    {
     "data": {
      "text/plain": "Validation: 0it [00:00, ?it/s]",
      "application/vnd.jupyter.widget-view+json": {
       "version_major": 2,
       "version_minor": 0,
       "model_id": "1aac482b87644e1a829832ffa9dfb9d7"
      }
     },
     "metadata": {},
     "output_type": "display_data"
    },
    {
     "data": {
      "text/plain": "Validation: 0it [00:00, ?it/s]",
      "application/vnd.jupyter.widget-view+json": {
       "version_major": 2,
       "version_minor": 0,
       "model_id": "615616629f6a4a38812c28c0b6f92aa4"
      }
     },
     "metadata": {},
     "output_type": "display_data"
    },
    {
     "data": {
      "text/plain": "Validation: 0it [00:00, ?it/s]",
      "application/vnd.jupyter.widget-view+json": {
       "version_major": 2,
       "version_minor": 0,
       "model_id": "a57e43d3164b463a9c0c6c93b52f5092"
      }
     },
     "metadata": {},
     "output_type": "display_data"
    },
    {
     "data": {
      "text/plain": "Validation: 0it [00:00, ?it/s]",
      "application/vnd.jupyter.widget-view+json": {
       "version_major": 2,
       "version_minor": 0,
       "model_id": "2cb04be3469142dc8f722d4dbfde50c7"
      }
     },
     "metadata": {},
     "output_type": "display_data"
    },
    {
     "data": {
      "text/plain": "Validation: 0it [00:00, ?it/s]",
      "application/vnd.jupyter.widget-view+json": {
       "version_major": 2,
       "version_minor": 0,
       "model_id": "fc800c21ff0644e3957e77288829e97c"
      }
     },
     "metadata": {},
     "output_type": "display_data"
    },
    {
     "data": {
      "text/plain": "Validation: 0it [00:00, ?it/s]",
      "application/vnd.jupyter.widget-view+json": {
       "version_major": 2,
       "version_minor": 0,
       "model_id": "dad178ffb0ba43d090ec4e495078f052"
      }
     },
     "metadata": {},
     "output_type": "display_data"
    },
    {
     "data": {
      "text/plain": "Validation: 0it [00:00, ?it/s]",
      "application/vnd.jupyter.widget-view+json": {
       "version_major": 2,
       "version_minor": 0,
       "model_id": "9baf792c3c994ecc81f6b2dd690c1e49"
      }
     },
     "metadata": {},
     "output_type": "display_data"
    },
    {
     "data": {
      "text/plain": "Validation: 0it [00:00, ?it/s]",
      "application/vnd.jupyter.widget-view+json": {
       "version_major": 2,
       "version_minor": 0,
       "model_id": "ecc3f4ff29c147c8b45b1e729be80426"
      }
     },
     "metadata": {},
     "output_type": "display_data"
    },
    {
     "data": {
      "text/plain": "Validation: 0it [00:00, ?it/s]",
      "application/vnd.jupyter.widget-view+json": {
       "version_major": 2,
       "version_minor": 0,
       "model_id": "03210020f436476a82224402b18a0ade"
      }
     },
     "metadata": {},
     "output_type": "display_data"
    },
    {
     "data": {
      "text/plain": "Validation: 0it [00:00, ?it/s]",
      "application/vnd.jupyter.widget-view+json": {
       "version_major": 2,
       "version_minor": 0,
       "model_id": "54c6520c7a7641848a98c5471ee0224f"
      }
     },
     "metadata": {},
     "output_type": "display_data"
    },
    {
     "data": {
      "text/plain": "Validation: 0it [00:00, ?it/s]",
      "application/vnd.jupyter.widget-view+json": {
       "version_major": 2,
       "version_minor": 0,
       "model_id": "66a3bac3567c4316863a964ca4328e58"
      }
     },
     "metadata": {},
     "output_type": "display_data"
    },
    {
     "data": {
      "text/plain": "Validation: 0it [00:00, ?it/s]",
      "application/vnd.jupyter.widget-view+json": {
       "version_major": 2,
       "version_minor": 0,
       "model_id": "d6d6c963d70c478fabe9c1fd15f18490"
      }
     },
     "metadata": {},
     "output_type": "display_data"
    },
    {
     "data": {
      "text/plain": "Validation: 0it [00:00, ?it/s]",
      "application/vnd.jupyter.widget-view+json": {
       "version_major": 2,
       "version_minor": 0,
       "model_id": "dcf8c82079d44c248257d576f4a08276"
      }
     },
     "metadata": {},
     "output_type": "display_data"
    },
    {
     "data": {
      "text/plain": "Validation: 0it [00:00, ?it/s]",
      "application/vnd.jupyter.widget-view+json": {
       "version_major": 2,
       "version_minor": 0,
       "model_id": "294abdc341fe4f3ab6b158feb0884750"
      }
     },
     "metadata": {},
     "output_type": "display_data"
    },
    {
     "data": {
      "text/plain": "Validation: 0it [00:00, ?it/s]",
      "application/vnd.jupyter.widget-view+json": {
       "version_major": 2,
       "version_minor": 0,
       "model_id": "ee4477e943ec4113a5d0c412565e9c24"
      }
     },
     "metadata": {},
     "output_type": "display_data"
    },
    {
     "data": {
      "text/plain": "Validation: 0it [00:00, ?it/s]",
      "application/vnd.jupyter.widget-view+json": {
       "version_major": 2,
       "version_minor": 0,
       "model_id": "e7288c388200454f89b9c519c39d4c64"
      }
     },
     "metadata": {},
     "output_type": "display_data"
    },
    {
     "data": {
      "text/plain": "Validation: 0it [00:00, ?it/s]",
      "application/vnd.jupyter.widget-view+json": {
       "version_major": 2,
       "version_minor": 0,
       "model_id": "db6643ec34ac49cbabf9d758e2547c53"
      }
     },
     "metadata": {},
     "output_type": "display_data"
    },
    {
     "data": {
      "text/plain": "Validation: 0it [00:00, ?it/s]",
      "application/vnd.jupyter.widget-view+json": {
       "version_major": 2,
       "version_minor": 0,
       "model_id": "61515db8083c4c0f9be499472651db73"
      }
     },
     "metadata": {},
     "output_type": "display_data"
    },
    {
     "data": {
      "text/plain": "Validation: 0it [00:00, ?it/s]",
      "application/vnd.jupyter.widget-view+json": {
       "version_major": 2,
       "version_minor": 0,
       "model_id": "f20b25fd15d44324bd2b013b71ea65e4"
      }
     },
     "metadata": {},
     "output_type": "display_data"
    },
    {
     "data": {
      "text/plain": "Validation: 0it [00:00, ?it/s]",
      "application/vnd.jupyter.widget-view+json": {
       "version_major": 2,
       "version_minor": 0,
       "model_id": "6dd87bfc5e7c4118abde5be96a039159"
      }
     },
     "metadata": {},
     "output_type": "display_data"
    },
    {
     "data": {
      "text/plain": "Validation: 0it [00:00, ?it/s]",
      "application/vnd.jupyter.widget-view+json": {
       "version_major": 2,
       "version_minor": 0,
       "model_id": "1ff5a89c18f74bc3a8c42550a9ceb0b1"
      }
     },
     "metadata": {},
     "output_type": "display_data"
    },
    {
     "data": {
      "text/plain": "Validation: 0it [00:00, ?it/s]",
      "application/vnd.jupyter.widget-view+json": {
       "version_major": 2,
       "version_minor": 0,
       "model_id": "ead2d39f29594e5084e7d96685fa3687"
      }
     },
     "metadata": {},
     "output_type": "display_data"
    },
    {
     "data": {
      "text/plain": "Validation: 0it [00:00, ?it/s]",
      "application/vnd.jupyter.widget-view+json": {
       "version_major": 2,
       "version_minor": 0,
       "model_id": "0e8ca2c5c40e49709721214a4f33984f"
      }
     },
     "metadata": {},
     "output_type": "display_data"
    },
    {
     "data": {
      "text/plain": "Validation: 0it [00:00, ?it/s]",
      "application/vnd.jupyter.widget-view+json": {
       "version_major": 2,
       "version_minor": 0,
       "model_id": "4775c1edbc4a44d494ae0087615ff413"
      }
     },
     "metadata": {},
     "output_type": "display_data"
    },
    {
     "data": {
      "text/plain": "Validation: 0it [00:00, ?it/s]",
      "application/vnd.jupyter.widget-view+json": {
       "version_major": 2,
       "version_minor": 0,
       "model_id": "4db973f58da042a888715af52453d6ca"
      }
     },
     "metadata": {},
     "output_type": "display_data"
    },
    {
     "data": {
      "text/plain": "Validation: 0it [00:00, ?it/s]",
      "application/vnd.jupyter.widget-view+json": {
       "version_major": 2,
       "version_minor": 0,
       "model_id": "afe74b50eaf041b79c8f46df5faf1eab"
      }
     },
     "metadata": {},
     "output_type": "display_data"
    },
    {
     "data": {
      "text/plain": "Validation: 0it [00:00, ?it/s]",
      "application/vnd.jupyter.widget-view+json": {
       "version_major": 2,
       "version_minor": 0,
       "model_id": "636848d98f404882b6ebd28d08c4579d"
      }
     },
     "metadata": {},
     "output_type": "display_data"
    },
    {
     "data": {
      "text/plain": "Validation: 0it [00:00, ?it/s]",
      "application/vnd.jupyter.widget-view+json": {
       "version_major": 2,
       "version_minor": 0,
       "model_id": "b1b91223895b4c14a77064609e6ba631"
      }
     },
     "metadata": {},
     "output_type": "display_data"
    },
    {
     "data": {
      "text/plain": "Validation: 0it [00:00, ?it/s]",
      "application/vnd.jupyter.widget-view+json": {
       "version_major": 2,
       "version_minor": 0,
       "model_id": "848110d8e5c24d1fa8b0240b47681f5c"
      }
     },
     "metadata": {},
     "output_type": "display_data"
    },
    {
     "data": {
      "text/plain": "Validation: 0it [00:00, ?it/s]",
      "application/vnd.jupyter.widget-view+json": {
       "version_major": 2,
       "version_minor": 0,
       "model_id": "ed0966ce0c344e8a9c1fcc193e5d87b3"
      }
     },
     "metadata": {},
     "output_type": "display_data"
    },
    {
     "data": {
      "text/plain": "Validation: 0it [00:00, ?it/s]",
      "application/vnd.jupyter.widget-view+json": {
       "version_major": 2,
       "version_minor": 0,
       "model_id": "dd1fa9658bfb4a699f62b2e5775e0d73"
      }
     },
     "metadata": {},
     "output_type": "display_data"
    },
    {
     "data": {
      "text/plain": "Validation: 0it [00:00, ?it/s]",
      "application/vnd.jupyter.widget-view+json": {
       "version_major": 2,
       "version_minor": 0,
       "model_id": "ad0e2d328ef34865b6e2f1f470daded3"
      }
     },
     "metadata": {},
     "output_type": "display_data"
    },
    {
     "data": {
      "text/plain": "Validation: 0it [00:00, ?it/s]",
      "application/vnd.jupyter.widget-view+json": {
       "version_major": 2,
       "version_minor": 0,
       "model_id": "7f65ec9444e84075b8258c29cfe8c2e0"
      }
     },
     "metadata": {},
     "output_type": "display_data"
    },
    {
     "data": {
      "text/plain": "Validation: 0it [00:00, ?it/s]",
      "application/vnd.jupyter.widget-view+json": {
       "version_major": 2,
       "version_minor": 0,
       "model_id": "f17266c4cdff4332ba417f7a279e669b"
      }
     },
     "metadata": {},
     "output_type": "display_data"
    },
    {
     "data": {
      "text/plain": "Validation: 0it [00:00, ?it/s]",
      "application/vnd.jupyter.widget-view+json": {
       "version_major": 2,
       "version_minor": 0,
       "model_id": "ae6d28cdd8cd4e13b89411a87dedd384"
      }
     },
     "metadata": {},
     "output_type": "display_data"
    },
    {
     "data": {
      "text/plain": "Validation: 0it [00:00, ?it/s]",
      "application/vnd.jupyter.widget-view+json": {
       "version_major": 2,
       "version_minor": 0,
       "model_id": "dfa8182d32c64c928081a939790bd246"
      }
     },
     "metadata": {},
     "output_type": "display_data"
    },
    {
     "data": {
      "text/plain": "Validation: 0it [00:00, ?it/s]",
      "application/vnd.jupyter.widget-view+json": {
       "version_major": 2,
       "version_minor": 0,
       "model_id": "2baee23954c9495aa62086acdd384fa5"
      }
     },
     "metadata": {},
     "output_type": "display_data"
    },
    {
     "data": {
      "text/plain": "Validation: 0it [00:00, ?it/s]",
      "application/vnd.jupyter.widget-view+json": {
       "version_major": 2,
       "version_minor": 0,
       "model_id": "70880862cb7842588ac2cd550f77c5a8"
      }
     },
     "metadata": {},
     "output_type": "display_data"
    },
    {
     "data": {
      "text/plain": "Validation: 0it [00:00, ?it/s]",
      "application/vnd.jupyter.widget-view+json": {
       "version_major": 2,
       "version_minor": 0,
       "model_id": "c5869ea2a03c416a86455e810de6441e"
      }
     },
     "metadata": {},
     "output_type": "display_data"
    },
    {
     "data": {
      "text/plain": "Validation: 0it [00:00, ?it/s]",
      "application/vnd.jupyter.widget-view+json": {
       "version_major": 2,
       "version_minor": 0,
       "model_id": "3ee226313bdf4f5cbfda4b8606b63877"
      }
     },
     "metadata": {},
     "output_type": "display_data"
    },
    {
     "data": {
      "text/plain": "Validation: 0it [00:00, ?it/s]",
      "application/vnd.jupyter.widget-view+json": {
       "version_major": 2,
       "version_minor": 0,
       "model_id": "354b6e7c2abb4846a3ac4c844b51e9e1"
      }
     },
     "metadata": {},
     "output_type": "display_data"
    },
    {
     "data": {
      "text/plain": "Validation: 0it [00:00, ?it/s]",
      "application/vnd.jupyter.widget-view+json": {
       "version_major": 2,
       "version_minor": 0,
       "model_id": "e9579e52bdd74d6ea96148c441316fd7"
      }
     },
     "metadata": {},
     "output_type": "display_data"
    },
    {
     "data": {
      "text/plain": "Validation: 0it [00:00, ?it/s]",
      "application/vnd.jupyter.widget-view+json": {
       "version_major": 2,
       "version_minor": 0,
       "model_id": "d242d284af06488fa88d45e9a216358a"
      }
     },
     "metadata": {},
     "output_type": "display_data"
    },
    {
     "data": {
      "text/plain": "Validation: 0it [00:00, ?it/s]",
      "application/vnd.jupyter.widget-view+json": {
       "version_major": 2,
       "version_minor": 0,
       "model_id": "80a7f5270eec48e9950c8c924e4c258f"
      }
     },
     "metadata": {},
     "output_type": "display_data"
    },
    {
     "data": {
      "text/plain": "Validation: 0it [00:00, ?it/s]",
      "application/vnd.jupyter.widget-view+json": {
       "version_major": 2,
       "version_minor": 0,
       "model_id": "18a5f49f916f41fd9e494f7103714303"
      }
     },
     "metadata": {},
     "output_type": "display_data"
    },
    {
     "data": {
      "text/plain": "Validation: 0it [00:00, ?it/s]",
      "application/vnd.jupyter.widget-view+json": {
       "version_major": 2,
       "version_minor": 0,
       "model_id": "adaca6b772fc407a9040173b90371c75"
      }
     },
     "metadata": {},
     "output_type": "display_data"
    },
    {
     "data": {
      "text/plain": "Validation: 0it [00:00, ?it/s]",
      "application/vnd.jupyter.widget-view+json": {
       "version_major": 2,
       "version_minor": 0,
       "model_id": "e01738b081694b7a9e721fc12376cac4"
      }
     },
     "metadata": {},
     "output_type": "display_data"
    },
    {
     "data": {
      "text/plain": "Validation: 0it [00:00, ?it/s]",
      "application/vnd.jupyter.widget-view+json": {
       "version_major": 2,
       "version_minor": 0,
       "model_id": "f7734cda33d14324a12dbf01b6fa2510"
      }
     },
     "metadata": {},
     "output_type": "display_data"
    },
    {
     "data": {
      "text/plain": "Validation: 0it [00:00, ?it/s]",
      "application/vnd.jupyter.widget-view+json": {
       "version_major": 2,
       "version_minor": 0,
       "model_id": "877657d44ec14b8eacb6de95f7e668e8"
      }
     },
     "metadata": {},
     "output_type": "display_data"
    },
    {
     "data": {
      "text/plain": "Validation: 0it [00:00, ?it/s]",
      "application/vnd.jupyter.widget-view+json": {
       "version_major": 2,
       "version_minor": 0,
       "model_id": "d2d6435d849f465cb36d1ab8d8dc937a"
      }
     },
     "metadata": {},
     "output_type": "display_data"
    },
    {
     "data": {
      "text/plain": "Validation: 0it [00:00, ?it/s]",
      "application/vnd.jupyter.widget-view+json": {
       "version_major": 2,
       "version_minor": 0,
       "model_id": "70b9705eefe74799af6c3c9385073205"
      }
     },
     "metadata": {},
     "output_type": "display_data"
    },
    {
     "data": {
      "text/plain": "Validation: 0it [00:00, ?it/s]",
      "application/vnd.jupyter.widget-view+json": {
       "version_major": 2,
       "version_minor": 0,
       "model_id": "5b15b6d4167a4398ad412dce5b56f505"
      }
     },
     "metadata": {},
     "output_type": "display_data"
    },
    {
     "data": {
      "text/plain": "Validation: 0it [00:00, ?it/s]",
      "application/vnd.jupyter.widget-view+json": {
       "version_major": 2,
       "version_minor": 0,
       "model_id": "e6bc747cab1742fda8c602a60a4eecf2"
      }
     },
     "metadata": {},
     "output_type": "display_data"
    },
    {
     "data": {
      "text/plain": "Validation: 0it [00:00, ?it/s]",
      "application/vnd.jupyter.widget-view+json": {
       "version_major": 2,
       "version_minor": 0,
       "model_id": "882176aa026a46ec999ab5870c096a16"
      }
     },
     "metadata": {},
     "output_type": "display_data"
    },
    {
     "data": {
      "text/plain": "Validation: 0it [00:00, ?it/s]",
      "application/vnd.jupyter.widget-view+json": {
       "version_major": 2,
       "version_minor": 0,
       "model_id": "ebcd1aaf908849c0b6cdeee9a003770d"
      }
     },
     "metadata": {},
     "output_type": "display_data"
    },
    {
     "data": {
      "text/plain": "Validation: 0it [00:00, ?it/s]",
      "application/vnd.jupyter.widget-view+json": {
       "version_major": 2,
       "version_minor": 0,
       "model_id": "4b0155fd78ba4d6ea1c7a3bfd2b83f27"
      }
     },
     "metadata": {},
     "output_type": "display_data"
    },
    {
     "data": {
      "text/plain": "Validation: 0it [00:00, ?it/s]",
      "application/vnd.jupyter.widget-view+json": {
       "version_major": 2,
       "version_minor": 0,
       "model_id": "14f68c8b66a24faeae5ab5ae9d4bbcc4"
      }
     },
     "metadata": {},
     "output_type": "display_data"
    },
    {
     "data": {
      "text/plain": "Validation: 0it [00:00, ?it/s]",
      "application/vnd.jupyter.widget-view+json": {
       "version_major": 2,
       "version_minor": 0,
       "model_id": "78d588c4e3b34536a4eee5c2044d048f"
      }
     },
     "metadata": {},
     "output_type": "display_data"
    },
    {
     "data": {
      "text/plain": "Validation: 0it [00:00, ?it/s]",
      "application/vnd.jupyter.widget-view+json": {
       "version_major": 2,
       "version_minor": 0,
       "model_id": "67520f1d717c4d4091073deba707393c"
      }
     },
     "metadata": {},
     "output_type": "display_data"
    },
    {
     "data": {
      "text/plain": "Validation: 0it [00:00, ?it/s]",
      "application/vnd.jupyter.widget-view+json": {
       "version_major": 2,
       "version_minor": 0,
       "model_id": "df67a7ecb2254d898f60b0e9b19a13e4"
      }
     },
     "metadata": {},
     "output_type": "display_data"
    },
    {
     "data": {
      "text/plain": "Validation: 0it [00:00, ?it/s]",
      "application/vnd.jupyter.widget-view+json": {
       "version_major": 2,
       "version_minor": 0,
       "model_id": "2b1ac245e4da4cf092361bcacd59d732"
      }
     },
     "metadata": {},
     "output_type": "display_data"
    },
    {
     "data": {
      "text/plain": "Validation: 0it [00:00, ?it/s]",
      "application/vnd.jupyter.widget-view+json": {
       "version_major": 2,
       "version_minor": 0,
       "model_id": "dfad5a9d82474c71b9d26768fce1c446"
      }
     },
     "metadata": {},
     "output_type": "display_data"
    },
    {
     "data": {
      "text/plain": "Validation: 0it [00:00, ?it/s]",
      "application/vnd.jupyter.widget-view+json": {
       "version_major": 2,
       "version_minor": 0,
       "model_id": "a8ac8ccfa56e49489750a9b58422e8bb"
      }
     },
     "metadata": {},
     "output_type": "display_data"
    },
    {
     "data": {
      "text/plain": "Validation: 0it [00:00, ?it/s]",
      "application/vnd.jupyter.widget-view+json": {
       "version_major": 2,
       "version_minor": 0,
       "model_id": "c8f6f6ca8a484aea9b34248f6ca429bf"
      }
     },
     "metadata": {},
     "output_type": "display_data"
    },
    {
     "data": {
      "text/plain": "Validation: 0it [00:00, ?it/s]",
      "application/vnd.jupyter.widget-view+json": {
       "version_major": 2,
       "version_minor": 0,
       "model_id": "a2d130a11acc4640a04b71538dc55b5a"
      }
     },
     "metadata": {},
     "output_type": "display_data"
    },
    {
     "data": {
      "text/plain": "Validation: 0it [00:00, ?it/s]",
      "application/vnd.jupyter.widget-view+json": {
       "version_major": 2,
       "version_minor": 0,
       "model_id": "ec31007a73df435785b8459d14eed940"
      }
     },
     "metadata": {},
     "output_type": "display_data"
    },
    {
     "data": {
      "text/plain": "Validation: 0it [00:00, ?it/s]",
      "application/vnd.jupyter.widget-view+json": {
       "version_major": 2,
       "version_minor": 0,
       "model_id": "b78916e9d41a442c80ca0a4cc8dea36b"
      }
     },
     "metadata": {},
     "output_type": "display_data"
    },
    {
     "data": {
      "text/plain": "Validation: 0it [00:00, ?it/s]",
      "application/vnd.jupyter.widget-view+json": {
       "version_major": 2,
       "version_minor": 0,
       "model_id": "6831df06483b47d2b4b3f92800289773"
      }
     },
     "metadata": {},
     "output_type": "display_data"
    },
    {
     "data": {
      "text/plain": "Validation: 0it [00:00, ?it/s]",
      "application/vnd.jupyter.widget-view+json": {
       "version_major": 2,
       "version_minor": 0,
       "model_id": "6ae765f393fa4680af14e9286d427c3c"
      }
     },
     "metadata": {},
     "output_type": "display_data"
    },
    {
     "data": {
      "text/plain": "Validation: 0it [00:00, ?it/s]",
      "application/vnd.jupyter.widget-view+json": {
       "version_major": 2,
       "version_minor": 0,
       "model_id": "75fd4ebc9f574312aeb4b3c22d99ef6a"
      }
     },
     "metadata": {},
     "output_type": "display_data"
    },
    {
     "data": {
      "text/plain": "Validation: 0it [00:00, ?it/s]",
      "application/vnd.jupyter.widget-view+json": {
       "version_major": 2,
       "version_minor": 0,
       "model_id": "5601dc1a45a74fab92c7d1e586c2e858"
      }
     },
     "metadata": {},
     "output_type": "display_data"
    },
    {
     "data": {
      "text/plain": "Validation: 0it [00:00, ?it/s]",
      "application/vnd.jupyter.widget-view+json": {
       "version_major": 2,
       "version_minor": 0,
       "model_id": "5784ce1d65d74ad892d70abe8c6f861a"
      }
     },
     "metadata": {},
     "output_type": "display_data"
    },
    {
     "data": {
      "text/plain": "Validation: 0it [00:00, ?it/s]",
      "application/vnd.jupyter.widget-view+json": {
       "version_major": 2,
       "version_minor": 0,
       "model_id": "3ec3476532cc47eea9c2560cd104a6c1"
      }
     },
     "metadata": {},
     "output_type": "display_data"
    },
    {
     "data": {
      "text/plain": "Validation: 0it [00:00, ?it/s]",
      "application/vnd.jupyter.widget-view+json": {
       "version_major": 2,
       "version_minor": 0,
       "model_id": "426af0c4517544ef9f4f2ad3c20b69f3"
      }
     },
     "metadata": {},
     "output_type": "display_data"
    },
    {
     "data": {
      "text/plain": "Validation: 0it [00:00, ?it/s]",
      "application/vnd.jupyter.widget-view+json": {
       "version_major": 2,
       "version_minor": 0,
       "model_id": "34ac5735274146eb8320b7cd453ae743"
      }
     },
     "metadata": {},
     "output_type": "display_data"
    },
    {
     "data": {
      "text/plain": "Validation: 0it [00:00, ?it/s]",
      "application/vnd.jupyter.widget-view+json": {
       "version_major": 2,
       "version_minor": 0,
       "model_id": "01586b33b07048c8b92094ab8f2319d3"
      }
     },
     "metadata": {},
     "output_type": "display_data"
    },
    {
     "data": {
      "text/plain": "Validation: 0it [00:00, ?it/s]",
      "application/vnd.jupyter.widget-view+json": {
       "version_major": 2,
       "version_minor": 0,
       "model_id": "6aba4c70c8444e8ca05a48b0b440adc9"
      }
     },
     "metadata": {},
     "output_type": "display_data"
    },
    {
     "data": {
      "text/plain": "Validation: 0it [00:00, ?it/s]",
      "application/vnd.jupyter.widget-view+json": {
       "version_major": 2,
       "version_minor": 0,
       "model_id": "f777ee2164704ae193764780f7c37e2d"
      }
     },
     "metadata": {},
     "output_type": "display_data"
    },
    {
     "data": {
      "text/plain": "Validation: 0it [00:00, ?it/s]",
      "application/vnd.jupyter.widget-view+json": {
       "version_major": 2,
       "version_minor": 0,
       "model_id": "a16e5c5108ce4315b36bb1c52286fcce"
      }
     },
     "metadata": {},
     "output_type": "display_data"
    },
    {
     "data": {
      "text/plain": "Validation: 0it [00:00, ?it/s]",
      "application/vnd.jupyter.widget-view+json": {
       "version_major": 2,
       "version_minor": 0,
       "model_id": "a084b84a342540889ed47146f658592a"
      }
     },
     "metadata": {},
     "output_type": "display_data"
    },
    {
     "data": {
      "text/plain": "Validation: 0it [00:00, ?it/s]",
      "application/vnd.jupyter.widget-view+json": {
       "version_major": 2,
       "version_minor": 0,
       "model_id": "b108ba59b9994645995dac7655c37c85"
      }
     },
     "metadata": {},
     "output_type": "display_data"
    },
    {
     "data": {
      "text/plain": "Validation: 0it [00:00, ?it/s]",
      "application/vnd.jupyter.widget-view+json": {
       "version_major": 2,
       "version_minor": 0,
       "model_id": "5ca459b608e9439cb197c81f36618353"
      }
     },
     "metadata": {},
     "output_type": "display_data"
    },
    {
     "data": {
      "text/plain": "Validation: 0it [00:00, ?it/s]",
      "application/vnd.jupyter.widget-view+json": {
       "version_major": 2,
       "version_minor": 0,
       "model_id": "1b048035a6944d8989c76efe87942560"
      }
     },
     "metadata": {},
     "output_type": "display_data"
    },
    {
     "data": {
      "text/plain": "Validation: 0it [00:00, ?it/s]",
      "application/vnd.jupyter.widget-view+json": {
       "version_major": 2,
       "version_minor": 0,
       "model_id": "be8a6890d3b14ed9b1cc60edbc840c0c"
      }
     },
     "metadata": {},
     "output_type": "display_data"
    },
    {
     "data": {
      "text/plain": "Validation: 0it [00:00, ?it/s]",
      "application/vnd.jupyter.widget-view+json": {
       "version_major": 2,
       "version_minor": 0,
       "model_id": "a6fce27ebda34424a866b0b3234bb71e"
      }
     },
     "metadata": {},
     "output_type": "display_data"
    },
    {
     "data": {
      "text/plain": "Validation: 0it [00:00, ?it/s]",
      "application/vnd.jupyter.widget-view+json": {
       "version_major": 2,
       "version_minor": 0,
       "model_id": "ac36ad6b4fa5415eb929acfaa7fc730a"
      }
     },
     "metadata": {},
     "output_type": "display_data"
    },
    {
     "data": {
      "text/plain": "Validation: 0it [00:00, ?it/s]",
      "application/vnd.jupyter.widget-view+json": {
       "version_major": 2,
       "version_minor": 0,
       "model_id": "1ac3f967885345b6991232e905c0fad0"
      }
     },
     "metadata": {},
     "output_type": "display_data"
    },
    {
     "data": {
      "text/plain": "Validation: 0it [00:00, ?it/s]",
      "application/vnd.jupyter.widget-view+json": {
       "version_major": 2,
       "version_minor": 0,
       "model_id": "940dc10a7ec8449d816ccaaec4720777"
      }
     },
     "metadata": {},
     "output_type": "display_data"
    },
    {
     "data": {
      "text/plain": "Validation: 0it [00:00, ?it/s]",
      "application/vnd.jupyter.widget-view+json": {
       "version_major": 2,
       "version_minor": 0,
       "model_id": "2f9c803c666d4b7292a4cf50c0824dba"
      }
     },
     "metadata": {},
     "output_type": "display_data"
    },
    {
     "data": {
      "text/plain": "Validation: 0it [00:00, ?it/s]",
      "application/vnd.jupyter.widget-view+json": {
       "version_major": 2,
       "version_minor": 0,
       "model_id": "28c677be96b64c02959b36842abd5aed"
      }
     },
     "metadata": {},
     "output_type": "display_data"
    },
    {
     "data": {
      "text/plain": "Validation: 0it [00:00, ?it/s]",
      "application/vnd.jupyter.widget-view+json": {
       "version_major": 2,
       "version_minor": 0,
       "model_id": "bdd20cffeb314e43adf7ea59409f57f8"
      }
     },
     "metadata": {},
     "output_type": "display_data"
    },
    {
     "data": {
      "text/plain": "Validation: 0it [00:00, ?it/s]",
      "application/vnd.jupyter.widget-view+json": {
       "version_major": 2,
       "version_minor": 0,
       "model_id": "31ee5d9cc1694f73bfbe7dd8330ef1d0"
      }
     },
     "metadata": {},
     "output_type": "display_data"
    },
    {
     "data": {
      "text/plain": "Validation: 0it [00:00, ?it/s]",
      "application/vnd.jupyter.widget-view+json": {
       "version_major": 2,
       "version_minor": 0,
       "model_id": "66f501ce63004ac5a403044b70e1faa4"
      }
     },
     "metadata": {},
     "output_type": "display_data"
    },
    {
     "data": {
      "text/plain": "Validation: 0it [00:00, ?it/s]",
      "application/vnd.jupyter.widget-view+json": {
       "version_major": 2,
       "version_minor": 0,
       "model_id": "ada5692979604f2fb9efacd8f224e6af"
      }
     },
     "metadata": {},
     "output_type": "display_data"
    },
    {
     "data": {
      "text/plain": "Validation: 0it [00:00, ?it/s]",
      "application/vnd.jupyter.widget-view+json": {
       "version_major": 2,
       "version_minor": 0,
       "model_id": "6a52b64ca22745ed9bcbdbaaea7b0529"
      }
     },
     "metadata": {},
     "output_type": "display_data"
    },
    {
     "data": {
      "text/plain": "Validation: 0it [00:00, ?it/s]",
      "application/vnd.jupyter.widget-view+json": {
       "version_major": 2,
       "version_minor": 0,
       "model_id": "1b9a1757cccf4665a665451bb2288662"
      }
     },
     "metadata": {},
     "output_type": "display_data"
    },
    {
     "data": {
      "text/plain": "Validation: 0it [00:00, ?it/s]",
      "application/vnd.jupyter.widget-view+json": {
       "version_major": 2,
       "version_minor": 0,
       "model_id": "e2805202b9264ec4977ddb9bc60206cb"
      }
     },
     "metadata": {},
     "output_type": "display_data"
    },
    {
     "data": {
      "text/plain": "Validation: 0it [00:00, ?it/s]",
      "application/vnd.jupyter.widget-view+json": {
       "version_major": 2,
       "version_minor": 0,
       "model_id": "3bf7131a869347da8ea549279390403a"
      }
     },
     "metadata": {},
     "output_type": "display_data"
    },
    {
     "data": {
      "text/plain": "Validation: 0it [00:00, ?it/s]",
      "application/vnd.jupyter.widget-view+json": {
       "version_major": 2,
       "version_minor": 0,
       "model_id": "256d963a39be41a5ab64fd0db50d7aeb"
      }
     },
     "metadata": {},
     "output_type": "display_data"
    },
    {
     "data": {
      "text/plain": "Validation: 0it [00:00, ?it/s]",
      "application/vnd.jupyter.widget-view+json": {
       "version_major": 2,
       "version_minor": 0,
       "model_id": "c7a6b645207d487e98a463e5a5567016"
      }
     },
     "metadata": {},
     "output_type": "display_data"
    },
    {
     "data": {
      "text/plain": "Validation: 0it [00:00, ?it/s]",
      "application/vnd.jupyter.widget-view+json": {
       "version_major": 2,
       "version_minor": 0,
       "model_id": "62829ef7825941cb9fe4b731db5edf73"
      }
     },
     "metadata": {},
     "output_type": "display_data"
    },
    {
     "data": {
      "text/plain": "Validation: 0it [00:00, ?it/s]",
      "application/vnd.jupyter.widget-view+json": {
       "version_major": 2,
       "version_minor": 0,
       "model_id": "65cbab5c40324277823089574c65028c"
      }
     },
     "metadata": {},
     "output_type": "display_data"
    },
    {
     "data": {
      "text/plain": "Validation: 0it [00:00, ?it/s]",
      "application/vnd.jupyter.widget-view+json": {
       "version_major": 2,
       "version_minor": 0,
       "model_id": "e2cfa23cd3fc4775ab84d31bf173523c"
      }
     },
     "metadata": {},
     "output_type": "display_data"
    },
    {
     "data": {
      "text/plain": "Validation: 0it [00:00, ?it/s]",
      "application/vnd.jupyter.widget-view+json": {
       "version_major": 2,
       "version_minor": 0,
       "model_id": "ef6e8afdf7d342899da5d54997655ea6"
      }
     },
     "metadata": {},
     "output_type": "display_data"
    },
    {
     "data": {
      "text/plain": "Validation: 0it [00:00, ?it/s]",
      "application/vnd.jupyter.widget-view+json": {
       "version_major": 2,
       "version_minor": 0,
       "model_id": "f622ff0a604a4b269631e5176bc1bbf6"
      }
     },
     "metadata": {},
     "output_type": "display_data"
    },
    {
     "data": {
      "text/plain": "Validation: 0it [00:00, ?it/s]",
      "application/vnd.jupyter.widget-view+json": {
       "version_major": 2,
       "version_minor": 0,
       "model_id": "64de15ec81914bc3a59b62d7e5bfed52"
      }
     },
     "metadata": {},
     "output_type": "display_data"
    },
    {
     "data": {
      "text/plain": "Validation: 0it [00:00, ?it/s]",
      "application/vnd.jupyter.widget-view+json": {
       "version_major": 2,
       "version_minor": 0,
       "model_id": "7608832e330d4225bb49b483281fcd34"
      }
     },
     "metadata": {},
     "output_type": "display_data"
    },
    {
     "data": {
      "text/plain": "Validation: 0it [00:00, ?it/s]",
      "application/vnd.jupyter.widget-view+json": {
       "version_major": 2,
       "version_minor": 0,
       "model_id": "4ce3fb8ce85d48d589353782aa74945a"
      }
     },
     "metadata": {},
     "output_type": "display_data"
    },
    {
     "data": {
      "text/plain": "Validation: 0it [00:00, ?it/s]",
      "application/vnd.jupyter.widget-view+json": {
       "version_major": 2,
       "version_minor": 0,
       "model_id": "cefd0830ed59437d9a58ee6a73e23750"
      }
     },
     "metadata": {},
     "output_type": "display_data"
    },
    {
     "data": {
      "text/plain": "Validation: 0it [00:00, ?it/s]",
      "application/vnd.jupyter.widget-view+json": {
       "version_major": 2,
       "version_minor": 0,
       "model_id": "de4970121a3a40d9b31d5e5107018028"
      }
     },
     "metadata": {},
     "output_type": "display_data"
    },
    {
     "data": {
      "text/plain": "Validation: 0it [00:00, ?it/s]",
      "application/vnd.jupyter.widget-view+json": {
       "version_major": 2,
       "version_minor": 0,
       "model_id": "1f0b48d2ee6749a498bba3fd8f57ac54"
      }
     },
     "metadata": {},
     "output_type": "display_data"
    },
    {
     "data": {
      "text/plain": "Validation: 0it [00:00, ?it/s]",
      "application/vnd.jupyter.widget-view+json": {
       "version_major": 2,
       "version_minor": 0,
       "model_id": "f712b8a370654743aad54f15d1d6655d"
      }
     },
     "metadata": {},
     "output_type": "display_data"
    },
    {
     "data": {
      "text/plain": "Validation: 0it [00:00, ?it/s]",
      "application/vnd.jupyter.widget-view+json": {
       "version_major": 2,
       "version_minor": 0,
       "model_id": "379342413ad440dfafb764812ba24048"
      }
     },
     "metadata": {},
     "output_type": "display_data"
    },
    {
     "data": {
      "text/plain": "Validation: 0it [00:00, ?it/s]",
      "application/vnd.jupyter.widget-view+json": {
       "version_major": 2,
       "version_minor": 0,
       "model_id": "9466241a6579422196ade2e5e9fed5e7"
      }
     },
     "metadata": {},
     "output_type": "display_data"
    },
    {
     "data": {
      "text/plain": "Validation: 0it [00:00, ?it/s]",
      "application/vnd.jupyter.widget-view+json": {
       "version_major": 2,
       "version_minor": 0,
       "model_id": "b36842b238ed40dcbfd78bc8d26362fa"
      }
     },
     "metadata": {},
     "output_type": "display_data"
    },
    {
     "data": {
      "text/plain": "Validation: 0it [00:00, ?it/s]",
      "application/vnd.jupyter.widget-view+json": {
       "version_major": 2,
       "version_minor": 0,
       "model_id": "800e94e5bcba4b54b8f042556a760265"
      }
     },
     "metadata": {},
     "output_type": "display_data"
    },
    {
     "data": {
      "text/plain": "Validation: 0it [00:00, ?it/s]",
      "application/vnd.jupyter.widget-view+json": {
       "version_major": 2,
       "version_minor": 0,
       "model_id": "ef584443f8864dbf955d9660a32509bd"
      }
     },
     "metadata": {},
     "output_type": "display_data"
    },
    {
     "data": {
      "text/plain": "Validation: 0it [00:00, ?it/s]",
      "application/vnd.jupyter.widget-view+json": {
       "version_major": 2,
       "version_minor": 0,
       "model_id": "fe9bd980338045b4b90527f13c262900"
      }
     },
     "metadata": {},
     "output_type": "display_data"
    },
    {
     "data": {
      "text/plain": "Validation: 0it [00:00, ?it/s]",
      "application/vnd.jupyter.widget-view+json": {
       "version_major": 2,
       "version_minor": 0,
       "model_id": "01c7176444e348ce9213e7a3ab9addc6"
      }
     },
     "metadata": {},
     "output_type": "display_data"
    },
    {
     "data": {
      "text/plain": "Validation: 0it [00:00, ?it/s]",
      "application/vnd.jupyter.widget-view+json": {
       "version_major": 2,
       "version_minor": 0,
       "model_id": "e3eb47f8603a4c18b704f53ebb029c2d"
      }
     },
     "metadata": {},
     "output_type": "display_data"
    },
    {
     "data": {
      "text/plain": "Validation: 0it [00:00, ?it/s]",
      "application/vnd.jupyter.widget-view+json": {
       "version_major": 2,
       "version_minor": 0,
       "model_id": "cda933ba2ac4487e9f7469896a653dc6"
      }
     },
     "metadata": {},
     "output_type": "display_data"
    },
    {
     "data": {
      "text/plain": "Validation: 0it [00:00, ?it/s]",
      "application/vnd.jupyter.widget-view+json": {
       "version_major": 2,
       "version_minor": 0,
       "model_id": "1382e5d6d7fc4c8a81318c47d87c51e2"
      }
     },
     "metadata": {},
     "output_type": "display_data"
    },
    {
     "data": {
      "text/plain": "Validation: 0it [00:00, ?it/s]",
      "application/vnd.jupyter.widget-view+json": {
       "version_major": 2,
       "version_minor": 0,
       "model_id": "7969c387267f440a96820b997cb67d57"
      }
     },
     "metadata": {},
     "output_type": "display_data"
    },
    {
     "data": {
      "text/plain": "Validation: 0it [00:00, ?it/s]",
      "application/vnd.jupyter.widget-view+json": {
       "version_major": 2,
       "version_minor": 0,
       "model_id": "e612f67c129242179de837e9fe741a9f"
      }
     },
     "metadata": {},
     "output_type": "display_data"
    },
    {
     "data": {
      "text/plain": "Validation: 0it [00:00, ?it/s]",
      "application/vnd.jupyter.widget-view+json": {
       "version_major": 2,
       "version_minor": 0,
       "model_id": "df69a5ce4f464fb39cfee207a8f16c36"
      }
     },
     "metadata": {},
     "output_type": "display_data"
    },
    {
     "data": {
      "text/plain": "Validation: 0it [00:00, ?it/s]",
      "application/vnd.jupyter.widget-view+json": {
       "version_major": 2,
       "version_minor": 0,
       "model_id": "76dd967c1a9549519926e2d09e03bf8f"
      }
     },
     "metadata": {},
     "output_type": "display_data"
    },
    {
     "data": {
      "text/plain": "Validation: 0it [00:00, ?it/s]",
      "application/vnd.jupyter.widget-view+json": {
       "version_major": 2,
       "version_minor": 0,
       "model_id": "c9696cb01c1d4f9594598c66e96c23ec"
      }
     },
     "metadata": {},
     "output_type": "display_data"
    },
    {
     "data": {
      "text/plain": "Validation: 0it [00:00, ?it/s]",
      "application/vnd.jupyter.widget-view+json": {
       "version_major": 2,
       "version_minor": 0,
       "model_id": "66aedcac20c3433ea0d363367f5240c2"
      }
     },
     "metadata": {},
     "output_type": "display_data"
    },
    {
     "data": {
      "text/plain": "Validation: 0it [00:00, ?it/s]",
      "application/vnd.jupyter.widget-view+json": {
       "version_major": 2,
       "version_minor": 0,
       "model_id": "d2e0dde5f2534e13ae5ecee89be6dbc0"
      }
     },
     "metadata": {},
     "output_type": "display_data"
    },
    {
     "data": {
      "text/plain": "Validation: 0it [00:00, ?it/s]",
      "application/vnd.jupyter.widget-view+json": {
       "version_major": 2,
       "version_minor": 0,
       "model_id": "1080e4c073e44ff09e87c8d14102960e"
      }
     },
     "metadata": {},
     "output_type": "display_data"
    },
    {
     "data": {
      "text/plain": "Validation: 0it [00:00, ?it/s]",
      "application/vnd.jupyter.widget-view+json": {
       "version_major": 2,
       "version_minor": 0,
       "model_id": "7abdafdf2a6d4711841cb550fc826594"
      }
     },
     "metadata": {},
     "output_type": "display_data"
    },
    {
     "data": {
      "text/plain": "Validation: 0it [00:00, ?it/s]",
      "application/vnd.jupyter.widget-view+json": {
       "version_major": 2,
       "version_minor": 0,
       "model_id": "9f7376d2e5e74f889a4c75d9479604aa"
      }
     },
     "metadata": {},
     "output_type": "display_data"
    },
    {
     "data": {
      "text/plain": "Validation: 0it [00:00, ?it/s]",
      "application/vnd.jupyter.widget-view+json": {
       "version_major": 2,
       "version_minor": 0,
       "model_id": "9d479e8d470a4f8084d1b6954285f6e7"
      }
     },
     "metadata": {},
     "output_type": "display_data"
    },
    {
     "data": {
      "text/plain": "Validation: 0it [00:00, ?it/s]",
      "application/vnd.jupyter.widget-view+json": {
       "version_major": 2,
       "version_minor": 0,
       "model_id": "47d17ecdda3e4bee94a39655839381a7"
      }
     },
     "metadata": {},
     "output_type": "display_data"
    },
    {
     "data": {
      "text/plain": "Validation: 0it [00:00, ?it/s]",
      "application/vnd.jupyter.widget-view+json": {
       "version_major": 2,
       "version_minor": 0,
       "model_id": "38fb32de33e945df910f8327057cd023"
      }
     },
     "metadata": {},
     "output_type": "display_data"
    },
    {
     "data": {
      "text/plain": "Validation: 0it [00:00, ?it/s]",
      "application/vnd.jupyter.widget-view+json": {
       "version_major": 2,
       "version_minor": 0,
       "model_id": "f2fd260e4e0d4375ba8a48130110a6b8"
      }
     },
     "metadata": {},
     "output_type": "display_data"
    },
    {
     "data": {
      "text/plain": "Validation: 0it [00:00, ?it/s]",
      "application/vnd.jupyter.widget-view+json": {
       "version_major": 2,
       "version_minor": 0,
       "model_id": "37318fb7b2d34f42bb7122a219f08c40"
      }
     },
     "metadata": {},
     "output_type": "display_data"
    },
    {
     "data": {
      "text/plain": "Validation: 0it [00:00, ?it/s]",
      "application/vnd.jupyter.widget-view+json": {
       "version_major": 2,
       "version_minor": 0,
       "model_id": "4b9a2ac7cbc941ac8ba84b24a2ac3edd"
      }
     },
     "metadata": {},
     "output_type": "display_data"
    },
    {
     "data": {
      "text/plain": "Validation: 0it [00:00, ?it/s]",
      "application/vnd.jupyter.widget-view+json": {
       "version_major": 2,
       "version_minor": 0,
       "model_id": "c6041bb4ad6d4e12af981b0325bb2b78"
      }
     },
     "metadata": {},
     "output_type": "display_data"
    },
    {
     "data": {
      "text/plain": "Validation: 0it [00:00, ?it/s]",
      "application/vnd.jupyter.widget-view+json": {
       "version_major": 2,
       "version_minor": 0,
       "model_id": "5b67f4f2db66481cae3984eacbdeedbf"
      }
     },
     "metadata": {},
     "output_type": "display_data"
    },
    {
     "data": {
      "text/plain": "Validation: 0it [00:00, ?it/s]",
      "application/vnd.jupyter.widget-view+json": {
       "version_major": 2,
       "version_minor": 0,
       "model_id": "0ff3aae7c00f4860ae61109dfac9e937"
      }
     },
     "metadata": {},
     "output_type": "display_data"
    },
    {
     "data": {
      "text/plain": "Validation: 0it [00:00, ?it/s]",
      "application/vnd.jupyter.widget-view+json": {
       "version_major": 2,
       "version_minor": 0,
       "model_id": "2837fc0d94924bd48e48a7fc3c5a2622"
      }
     },
     "metadata": {},
     "output_type": "display_data"
    },
    {
     "data": {
      "text/plain": "Validation: 0it [00:00, ?it/s]",
      "application/vnd.jupyter.widget-view+json": {
       "version_major": 2,
       "version_minor": 0,
       "model_id": "ae363ddb55a049fa92f868e844892225"
      }
     },
     "metadata": {},
     "output_type": "display_data"
    },
    {
     "data": {
      "text/plain": "Validation: 0it [00:00, ?it/s]",
      "application/vnd.jupyter.widget-view+json": {
       "version_major": 2,
       "version_minor": 0,
       "model_id": "085da890742746ac8a6ed28488a1c140"
      }
     },
     "metadata": {},
     "output_type": "display_data"
    },
    {
     "data": {
      "text/plain": "Validation: 0it [00:00, ?it/s]",
      "application/vnd.jupyter.widget-view+json": {
       "version_major": 2,
       "version_minor": 0,
       "model_id": "df2936663a4b46fd8365fc87b2e728a3"
      }
     },
     "metadata": {},
     "output_type": "display_data"
    },
    {
     "data": {
      "text/plain": "Validation: 0it [00:00, ?it/s]",
      "application/vnd.jupyter.widget-view+json": {
       "version_major": 2,
       "version_minor": 0,
       "model_id": "b963c0f0e58e401b9840c0250c7c2f55"
      }
     },
     "metadata": {},
     "output_type": "display_data"
    },
    {
     "data": {
      "text/plain": "Validation: 0it [00:00, ?it/s]",
      "application/vnd.jupyter.widget-view+json": {
       "version_major": 2,
       "version_minor": 0,
       "model_id": "9356fa8a41654dc6801820d015e8afda"
      }
     },
     "metadata": {},
     "output_type": "display_data"
    },
    {
     "data": {
      "text/plain": "Validation: 0it [00:00, ?it/s]",
      "application/vnd.jupyter.widget-view+json": {
       "version_major": 2,
       "version_minor": 0,
       "model_id": "257e49edd5ae4b88a64270ad63607a74"
      }
     },
     "metadata": {},
     "output_type": "display_data"
    },
    {
     "data": {
      "text/plain": "Validation: 0it [00:00, ?it/s]",
      "application/vnd.jupyter.widget-view+json": {
       "version_major": 2,
       "version_minor": 0,
       "model_id": "c1abe882574d40ceab1931f5c1351500"
      }
     },
     "metadata": {},
     "output_type": "display_data"
    },
    {
     "data": {
      "text/plain": "Validation: 0it [00:00, ?it/s]",
      "application/vnd.jupyter.widget-view+json": {
       "version_major": 2,
       "version_minor": 0,
       "model_id": "d29924997610484bb4c84bc7e93e4ed2"
      }
     },
     "metadata": {},
     "output_type": "display_data"
    },
    {
     "data": {
      "text/plain": "Validation: 0it [00:00, ?it/s]",
      "application/vnd.jupyter.widget-view+json": {
       "version_major": 2,
       "version_minor": 0,
       "model_id": "62aec6e3e19e40d6bcf2d01f1e6f624d"
      }
     },
     "metadata": {},
     "output_type": "display_data"
    },
    {
     "data": {
      "text/plain": "Validation: 0it [00:00, ?it/s]",
      "application/vnd.jupyter.widget-view+json": {
       "version_major": 2,
       "version_minor": 0,
       "model_id": "c931483eb694403ebb4c3dfa32e4ebcb"
      }
     },
     "metadata": {},
     "output_type": "display_data"
    },
    {
     "data": {
      "text/plain": "Validation: 0it [00:00, ?it/s]",
      "application/vnd.jupyter.widget-view+json": {
       "version_major": 2,
       "version_minor": 0,
       "model_id": "555357d66f2e4810b2d9f549ff389d75"
      }
     },
     "metadata": {},
     "output_type": "display_data"
    },
    {
     "data": {
      "text/plain": "Validation: 0it [00:00, ?it/s]",
      "application/vnd.jupyter.widget-view+json": {
       "version_major": 2,
       "version_minor": 0,
       "model_id": "b9b824fdb47940b99d0868910ae6b2b0"
      }
     },
     "metadata": {},
     "output_type": "display_data"
    },
    {
     "data": {
      "text/plain": "Validation: 0it [00:00, ?it/s]",
      "application/vnd.jupyter.widget-view+json": {
       "version_major": 2,
       "version_minor": 0,
       "model_id": "2584b6fce9e2435c96af9a9264c34f9a"
      }
     },
     "metadata": {},
     "output_type": "display_data"
    },
    {
     "data": {
      "text/plain": "Validation: 0it [00:00, ?it/s]",
      "application/vnd.jupyter.widget-view+json": {
       "version_major": 2,
       "version_minor": 0,
       "model_id": "2419f46a6b9a4275a6e884d2ca406125"
      }
     },
     "metadata": {},
     "output_type": "display_data"
    },
    {
     "data": {
      "text/plain": "Validation: 0it [00:00, ?it/s]",
      "application/vnd.jupyter.widget-view+json": {
       "version_major": 2,
       "version_minor": 0,
       "model_id": "cff4508eecf547b89c7c3f1078c64e24"
      }
     },
     "metadata": {},
     "output_type": "display_data"
    },
    {
     "data": {
      "text/plain": "Validation: 0it [00:00, ?it/s]",
      "application/vnd.jupyter.widget-view+json": {
       "version_major": 2,
       "version_minor": 0,
       "model_id": "aecc3873e144465aaaa1bceb442cf2c8"
      }
     },
     "metadata": {},
     "output_type": "display_data"
    },
    {
     "data": {
      "text/plain": "Validation: 0it [00:00, ?it/s]",
      "application/vnd.jupyter.widget-view+json": {
       "version_major": 2,
       "version_minor": 0,
       "model_id": "3eb52d09737441b791cb2e7a1de1c409"
      }
     },
     "metadata": {},
     "output_type": "display_data"
    },
    {
     "data": {
      "text/plain": "Validation: 0it [00:00, ?it/s]",
      "application/vnd.jupyter.widget-view+json": {
       "version_major": 2,
       "version_minor": 0,
       "model_id": "31ea50c4e80f4bafb9a5b03061d713a0"
      }
     },
     "metadata": {},
     "output_type": "display_data"
    },
    {
     "data": {
      "text/plain": "Validation: 0it [00:00, ?it/s]",
      "application/vnd.jupyter.widget-view+json": {
       "version_major": 2,
       "version_minor": 0,
       "model_id": "dd85fed24f4f4da4b3bcd1a0cb9e243d"
      }
     },
     "metadata": {},
     "output_type": "display_data"
    },
    {
     "data": {
      "text/plain": "Validation: 0it [00:00, ?it/s]",
      "application/vnd.jupyter.widget-view+json": {
       "version_major": 2,
       "version_minor": 0,
       "model_id": "4f0d7a4de7cd45d789aee20ebe9ef652"
      }
     },
     "metadata": {},
     "output_type": "display_data"
    },
    {
     "data": {
      "text/plain": "Validation: 0it [00:00, ?it/s]",
      "application/vnd.jupyter.widget-view+json": {
       "version_major": 2,
       "version_minor": 0,
       "model_id": "879688bf7bb946439c66df9b308eda21"
      }
     },
     "metadata": {},
     "output_type": "display_data"
    },
    {
     "name": "stderr",
     "output_type": "stream",
     "text": [
      "`Trainer.fit` stopped: `max_epochs=100` reached.\n"
     ]
    },
    {
     "name": "stdout",
     "output_type": "stream",
     "text": [
      "CPU times: user 8min 45s, sys: 4min 33s, total: 13min 18s\n",
      "Wall time: 5min 44s\n"
     ]
    }
   ],
   "source": [
    "%%time\n",
    "pl_data_module.prepare_data('train')\n",
    "trainer.fit(model=pl_model, datamodule=pl_data_module)"
   ],
   "metadata": {
    "collapsed": false,
    "ExecuteTime": {
     "end_time": "2023-11-26T18:32:15.938672800Z",
     "start_time": "2023-11-26T18:26:30.908690600Z"
    }
   }
  },
  {
   "cell_type": "code",
   "execution_count": 15,
   "outputs": [],
   "source": [],
   "metadata": {
    "collapsed": false,
    "ExecuteTime": {
     "end_time": "2023-11-26T18:32:15.941663900Z",
     "start_time": "2023-11-26T18:32:15.935674Z"
    }
   }
  },
  {
   "cell_type": "code",
   "execution_count": 16,
   "outputs": [
    {
     "data": {
      "text/plain": "Parameter containing:\ntensor([[ 0.0049,  0.0047,  0.0541,  ...,  0.0935, -0.0561, -0.0746],\n        [ 0.0551, -0.0602, -0.0704,  ..., -0.0136, -0.0119,  0.0388],\n        [ 0.0568,  0.0722, -0.0799,  ..., -0.0432, -0.0581,  0.0319],\n        ...,\n        [-0.0559,  0.0308,  0.0210,  ..., -0.0453,  0.0846, -0.1175],\n        [-0.0458,  0.0186,  0.0113,  ...,  0.0049,  0.0104,  0.0812],\n        [ 0.0642, -0.0178,  0.0137,  ..., -0.0318, -0.0200,  0.0382]],\n       requires_grad=True)"
     },
     "execution_count": 16,
     "metadata": {},
     "output_type": "execute_result"
    }
   ],
   "source": [
    "pl_model.model.encoder_mlp.mlp[0].weight"
   ],
   "metadata": {
    "collapsed": false,
    "ExecuteTime": {
     "end_time": "2023-11-26T18:32:15.998497600Z",
     "start_time": "2023-11-26T18:32:15.940666500Z"
    }
   }
  },
  {
   "cell_type": "code",
   "execution_count": 17,
   "outputs": [
    {
     "name": "stderr",
     "output_type": "stream",
     "text": [
      "LOCAL_RANK: 0 - CUDA_VISIBLE_DEVICES: [0]\n"
     ]
    },
    {
     "name": "stdout",
     "output_type": "stream",
     "text": [
      "============================== prepare_data: mode[None] Start ==============================\n",
      "============================== prepare_data has been invoked, mode=None ==============================\n",
      "============================== prepare_data mode[None] End ==============================\n",
      "============================== Setup [test] Start ==============================\n",
      "[len self.test_dataset] 521\n",
      "============================== Setup [test] End ==============================\n"
     ]
    },
    {
     "data": {
      "text/plain": "Testing: 0it [00:00, ?it/s]",
      "application/vnd.jupyter.widget-view+json": {
       "version_major": 2,
       "version_minor": 0,
       "model_id": "2850ee183834427bac1390e33a55d1f6"
      }
     },
     "metadata": {},
     "output_type": "display_data"
    },
    {
     "data": {
      "text/plain": "┏━━━━━━━━━━━━━━━━━━━━━━━━━━━┳━━━━━━━━━━━━━━━━━━━━━━━━━━━┓\n┃\u001B[1m \u001B[0m\u001B[1m       Test metric       \u001B[0m\u001B[1m \u001B[0m┃\u001B[1m \u001B[0m\u001B[1m      DataLoader 0       \u001B[0m\u001B[1m \u001B[0m┃\n┡━━━━━━━━━━━━━━━━━━━━━━━━━━━╇━━━━━━━━━━━━━━━━━━━━━━━━━━━┩\n│\u001B[36m \u001B[0m\u001B[36m test/avg_pearsonr_epoch \u001B[0m\u001B[36m \u001B[0m│\u001B[35m \u001B[0m\u001B[35m   0.6508705338278274    \u001B[0m\u001B[35m \u001B[0m│\n│\u001B[36m \u001B[0m\u001B[36mtest/avg_spearmanr_epoch \u001B[0m\u001B[36m \u001B[0m│\u001B[35m \u001B[0m\u001B[35m    0.462957460892129    \u001B[0m\u001B[35m \u001B[0m│\n│\u001B[36m \u001B[0m\u001B[36m      test/ce_epoch      \u001B[0m\u001B[36m \u001B[0m│\u001B[35m \u001B[0m\u001B[35m   20.082796096801758    \u001B[0m\u001B[35m \u001B[0m│\n│\u001B[36m \u001B[0m\u001B[36m test/dS_pearsonr_epoch  \u001B[0m\u001B[36m \u001B[0m│\u001B[35m \u001B[0m\u001B[35m    0.815983714739934    \u001B[0m\u001B[35m \u001B[0m│\n│\u001B[36m \u001B[0m\u001B[36m test/dS_spearmanr_epoch \u001B[0m\u001B[36m \u001B[0m│\u001B[35m \u001B[0m\u001B[35m   0.5255118676521698    \u001B[0m\u001B[35m \u001B[0m│\n│\u001B[36m \u001B[0m\u001B[36m test/ddG_pearsonr_epoch \u001B[0m\u001B[36m \u001B[0m│\u001B[35m \u001B[0m\u001B[35m   0.48575735291572086   \u001B[0m\u001B[35m \u001B[0m│\n│\u001B[36m \u001B[0m\u001B[36mtest/ddG_spearmanr_epoch \u001B[0m\u001B[36m \u001B[0m│\u001B[35m \u001B[0m\u001B[35m   0.4004030541320882    \u001B[0m\u001B[35m \u001B[0m│\n│\u001B[36m \u001B[0m\u001B[36m     test/loss_epoch     \u001B[0m\u001B[36m \u001B[0m│\u001B[35m \u001B[0m\u001B[35m    41.50559997558594    \u001B[0m\u001B[35m \u001B[0m│\n│\u001B[36m \u001B[0m\u001B[36m     test/mse_epoch      \u001B[0m\u001B[36m \u001B[0m│\u001B[35m \u001B[0m\u001B[35m    9.528310775756836    \u001B[0m\u001B[35m \u001B[0m│\n│\u001B[36m \u001B[0m\u001B[36m     test/reg_epoch      \u001B[0m\u001B[36m \u001B[0m│\u001B[35m \u001B[0m\u001B[35m   11.894491195678711    \u001B[0m\u001B[35m \u001B[0m│\n└───────────────────────────┴───────────────────────────┘\n",
      "text/html": "<pre style=\"white-space:pre;overflow-x:auto;line-height:normal;font-family:Menlo,'DejaVu Sans Mono',consolas,'Courier New',monospace\">┏━━━━━━━━━━━━━━━━━━━━━━━━━━━┳━━━━━━━━━━━━━━━━━━━━━━━━━━━┓\n┃<span style=\"font-weight: bold\">        Test metric        </span>┃<span style=\"font-weight: bold\">       DataLoader 0        </span>┃\n┡━━━━━━━━━━━━━━━━━━━━━━━━━━━╇━━━━━━━━━━━━━━━━━━━━━━━━━━━┩\n│<span style=\"color: #008080; text-decoration-color: #008080\">  test/avg_pearsonr_epoch  </span>│<span style=\"color: #800080; text-decoration-color: #800080\">    0.6508705338278274     </span>│\n│<span style=\"color: #008080; text-decoration-color: #008080\"> test/avg_spearmanr_epoch  </span>│<span style=\"color: #800080; text-decoration-color: #800080\">     0.462957460892129     </span>│\n│<span style=\"color: #008080; text-decoration-color: #008080\">       test/ce_epoch       </span>│<span style=\"color: #800080; text-decoration-color: #800080\">    20.082796096801758     </span>│\n│<span style=\"color: #008080; text-decoration-color: #008080\">  test/dS_pearsonr_epoch   </span>│<span style=\"color: #800080; text-decoration-color: #800080\">     0.815983714739934     </span>│\n│<span style=\"color: #008080; text-decoration-color: #008080\">  test/dS_spearmanr_epoch  </span>│<span style=\"color: #800080; text-decoration-color: #800080\">    0.5255118676521698     </span>│\n│<span style=\"color: #008080; text-decoration-color: #008080\">  test/ddG_pearsonr_epoch  </span>│<span style=\"color: #800080; text-decoration-color: #800080\">    0.48575735291572086    </span>│\n│<span style=\"color: #008080; text-decoration-color: #008080\"> test/ddG_spearmanr_epoch  </span>│<span style=\"color: #800080; text-decoration-color: #800080\">    0.4004030541320882     </span>│\n│<span style=\"color: #008080; text-decoration-color: #008080\">      test/loss_epoch      </span>│<span style=\"color: #800080; text-decoration-color: #800080\">     41.50559997558594     </span>│\n│<span style=\"color: #008080; text-decoration-color: #008080\">      test/mse_epoch       </span>│<span style=\"color: #800080; text-decoration-color: #800080\">     9.528310775756836     </span>│\n│<span style=\"color: #008080; text-decoration-color: #008080\">      test/reg_epoch       </span>│<span style=\"color: #800080; text-decoration-color: #800080\">    11.894491195678711     </span>│\n└───────────────────────────┴───────────────────────────┘\n</pre>\n"
     },
     "metadata": {},
     "output_type": "display_data"
    },
    {
     "data": {
      "text/plain": "[{'test/loss_epoch': 41.50559997558594,\n  'test/ce_epoch': 20.082796096801758,\n  'test/reg_epoch': 11.894491195678711,\n  'test/mse_epoch': 9.528310775756836,\n  'test/ddG_pearsonr_epoch': 0.48575735291572086,\n  'test/ddG_spearmanr_epoch': 0.4004030541320882,\n  'test/dS_pearsonr_epoch': 0.815983714739934,\n  'test/dS_spearmanr_epoch': 0.5255118676521698,\n  'test/avg_pearsonr_epoch': 0.6508705338278274,\n  'test/avg_spearmanr_epoch': 0.462957460892129}]"
     },
     "execution_count": 17,
     "metadata": {},
     "output_type": "execute_result"
    }
   ],
   "source": [
    "trainer.test(model=pl_model, datamodule=pl_data_module)"
   ],
   "metadata": {
    "collapsed": false,
    "ExecuteTime": {
     "end_time": "2023-11-26T18:32:17.033802200Z",
     "start_time": "2023-11-26T18:32:15.994493600Z"
    }
   }
  },
  {
   "cell_type": "code",
   "execution_count": 18,
   "outputs": [
    {
     "name": "stderr",
     "output_type": "stream",
     "text": [
      "LOCAL_RANK: 0 - CUDA_VISIBLE_DEVICES: [0]\n"
     ]
    },
    {
     "name": "stdout",
     "output_type": "stream",
     "text": [
      "============================== prepare_data: mode[None] Start ==============================\n",
      "============================== prepare_data has been invoked, mode=None ==============================\n",
      "============================== prepare_data mode[None] End ==============================\n",
      "============================== Setup [test] Start ==============================\n",
      "[len self.test_dataset] 521\n",
      "============================== Setup [test] End ==============================\n"
     ]
    },
    {
     "data": {
      "text/plain": "Testing: 0it [00:00, ?it/s]",
      "application/vnd.jupyter.widget-view+json": {
       "version_major": 2,
       "version_minor": 0,
       "model_id": "bfe6ea27b8b44394bf4237ad122b491e"
      }
     },
     "metadata": {},
     "output_type": "display_data"
    },
    {
     "data": {
      "text/plain": "┏━━━━━━━━━━━━━━━━━━━━━━━━━━━┳━━━━━━━━━━━━━━━━━━━━━━━━━━━┓\n┃\u001B[1m \u001B[0m\u001B[1m       Test metric       \u001B[0m\u001B[1m \u001B[0m┃\u001B[1m \u001B[0m\u001B[1m      DataLoader 0       \u001B[0m\u001B[1m \u001B[0m┃\n┡━━━━━━━━━━━━━━━━━━━━━━━━━━━╇━━━━━━━━━━━━━━━━━━━━━━━━━━━┩\n│\u001B[36m \u001B[0m\u001B[36m test/avg_pearsonr_epoch \u001B[0m\u001B[36m \u001B[0m│\u001B[35m \u001B[0m\u001B[35m   0.6508705338278274    \u001B[0m\u001B[35m \u001B[0m│\n│\u001B[36m \u001B[0m\u001B[36mtest/avg_spearmanr_epoch \u001B[0m\u001B[36m \u001B[0m│\u001B[35m \u001B[0m\u001B[35m    0.462957460892129    \u001B[0m\u001B[35m \u001B[0m│\n│\u001B[36m \u001B[0m\u001B[36m      test/ce_epoch      \u001B[0m\u001B[36m \u001B[0m│\u001B[35m \u001B[0m\u001B[35m   20.082796096801758    \u001B[0m\u001B[35m \u001B[0m│\n│\u001B[36m \u001B[0m\u001B[36m test/dS_pearsonr_epoch  \u001B[0m\u001B[36m \u001B[0m│\u001B[35m \u001B[0m\u001B[35m    0.815983714739934    \u001B[0m\u001B[35m \u001B[0m│\n│\u001B[36m \u001B[0m\u001B[36m test/dS_spearmanr_epoch \u001B[0m\u001B[36m \u001B[0m│\u001B[35m \u001B[0m\u001B[35m   0.5255118676521698    \u001B[0m\u001B[35m \u001B[0m│\n│\u001B[36m \u001B[0m\u001B[36m test/ddG_pearsonr_epoch \u001B[0m\u001B[36m \u001B[0m│\u001B[35m \u001B[0m\u001B[35m   0.48575735291572086   \u001B[0m\u001B[35m \u001B[0m│\n│\u001B[36m \u001B[0m\u001B[36mtest/ddG_spearmanr_epoch \u001B[0m\u001B[36m \u001B[0m│\u001B[35m \u001B[0m\u001B[35m   0.4004030541320882    \u001B[0m\u001B[35m \u001B[0m│\n│\u001B[36m \u001B[0m\u001B[36m     test/loss_epoch     \u001B[0m\u001B[36m \u001B[0m│\u001B[35m \u001B[0m\u001B[35m    41.46273422241211    \u001B[0m\u001B[35m \u001B[0m│\n│\u001B[36m \u001B[0m\u001B[36m     test/mse_epoch      \u001B[0m\u001B[36m \u001B[0m│\u001B[35m \u001B[0m\u001B[35m    9.528310775756836    \u001B[0m\u001B[35m \u001B[0m│\n│\u001B[36m \u001B[0m\u001B[36m     test/reg_epoch      \u001B[0m\u001B[36m \u001B[0m│\u001B[35m \u001B[0m\u001B[35m   11.851625442504883    \u001B[0m\u001B[35m \u001B[0m│\n└───────────────────────────┴───────────────────────────┘\n",
      "text/html": "<pre style=\"white-space:pre;overflow-x:auto;line-height:normal;font-family:Menlo,'DejaVu Sans Mono',consolas,'Courier New',monospace\">┏━━━━━━━━━━━━━━━━━━━━━━━━━━━┳━━━━━━━━━━━━━━━━━━━━━━━━━━━┓\n┃<span style=\"font-weight: bold\">        Test metric        </span>┃<span style=\"font-weight: bold\">       DataLoader 0        </span>┃\n┡━━━━━━━━━━━━━━━━━━━━━━━━━━━╇━━━━━━━━━━━━━━━━━━━━━━━━━━━┩\n│<span style=\"color: #008080; text-decoration-color: #008080\">  test/avg_pearsonr_epoch  </span>│<span style=\"color: #800080; text-decoration-color: #800080\">    0.6508705338278274     </span>│\n│<span style=\"color: #008080; text-decoration-color: #008080\"> test/avg_spearmanr_epoch  </span>│<span style=\"color: #800080; text-decoration-color: #800080\">     0.462957460892129     </span>│\n│<span style=\"color: #008080; text-decoration-color: #008080\">       test/ce_epoch       </span>│<span style=\"color: #800080; text-decoration-color: #800080\">    20.082796096801758     </span>│\n│<span style=\"color: #008080; text-decoration-color: #008080\">  test/dS_pearsonr_epoch   </span>│<span style=\"color: #800080; text-decoration-color: #800080\">     0.815983714739934     </span>│\n│<span style=\"color: #008080; text-decoration-color: #008080\">  test/dS_spearmanr_epoch  </span>│<span style=\"color: #800080; text-decoration-color: #800080\">    0.5255118676521698     </span>│\n│<span style=\"color: #008080; text-decoration-color: #008080\">  test/ddG_pearsonr_epoch  </span>│<span style=\"color: #800080; text-decoration-color: #800080\">    0.48575735291572086    </span>│\n│<span style=\"color: #008080; text-decoration-color: #008080\"> test/ddG_spearmanr_epoch  </span>│<span style=\"color: #800080; text-decoration-color: #800080\">    0.4004030541320882     </span>│\n│<span style=\"color: #008080; text-decoration-color: #008080\">      test/loss_epoch      </span>│<span style=\"color: #800080; text-decoration-color: #800080\">     41.46273422241211     </span>│\n│<span style=\"color: #008080; text-decoration-color: #008080\">      test/mse_epoch       </span>│<span style=\"color: #800080; text-decoration-color: #800080\">     9.528310775756836     </span>│\n│<span style=\"color: #008080; text-decoration-color: #008080\">      test/reg_epoch       </span>│<span style=\"color: #800080; text-decoration-color: #800080\">    11.851625442504883     </span>│\n└───────────────────────────┴───────────────────────────┘\n</pre>\n"
     },
     "metadata": {},
     "output_type": "display_data"
    },
    {
     "data": {
      "text/plain": "[{'test/loss_epoch': 41.46273422241211,\n  'test/ce_epoch': 20.082796096801758,\n  'test/reg_epoch': 11.851625442504883,\n  'test/mse_epoch': 9.528310775756836,\n  'test/ddG_pearsonr_epoch': 0.48575735291572086,\n  'test/ddG_spearmanr_epoch': 0.4004030541320882,\n  'test/dS_pearsonr_epoch': 0.815983714739934,\n  'test/dS_spearmanr_epoch': 0.5255118676521698,\n  'test/avg_pearsonr_epoch': 0.6508705338278274,\n  'test/avg_spearmanr_epoch': 0.462957460892129}]"
     },
     "execution_count": 18,
     "metadata": {},
     "output_type": "execute_result"
    }
   ],
   "source": [
    "trainer.test(model=pl_model, datamodule=pl_data_module)"
   ],
   "metadata": {
    "collapsed": false,
    "ExecuteTime": {
     "end_time": "2023-11-26T18:32:18.016005300Z",
     "start_time": "2023-11-26T18:32:16.970695800Z"
    }
   }
  },
  {
   "cell_type": "code",
   "execution_count": 19,
   "outputs": [
    {
     "data": {
      "text/plain": "Parameter containing:\ntensor([[ 0.0049,  0.0047,  0.0541,  ...,  0.0935, -0.0561, -0.0746],\n        [ 0.0551, -0.0602, -0.0704,  ..., -0.0136, -0.0119,  0.0388],\n        [ 0.0568,  0.0722, -0.0799,  ..., -0.0432, -0.0581,  0.0319],\n        ...,\n        [-0.0559,  0.0308,  0.0210,  ..., -0.0453,  0.0846, -0.1175],\n        [-0.0458,  0.0186,  0.0113,  ...,  0.0049,  0.0104,  0.0812],\n        [ 0.0642, -0.0178,  0.0137,  ..., -0.0318, -0.0200,  0.0382]],\n       requires_grad=True)"
     },
     "execution_count": 19,
     "metadata": {},
     "output_type": "execute_result"
    }
   ],
   "source": [
    "pl_model.model.encoder_mlp.mlp[0].weight"
   ],
   "metadata": {
    "collapsed": false,
    "ExecuteTime": {
     "end_time": "2023-11-26T18:32:18.087579300Z",
     "start_time": "2023-11-26T18:32:18.016005300Z"
    }
   }
  },
  {
   "cell_type": "code",
   "execution_count": 20,
   "outputs": [
    {
     "name": "stderr",
     "output_type": "stream",
     "text": [
      "LOCAL_RANK: 0 - CUDA_VISIBLE_DEVICES: [0]\n"
     ]
    },
    {
     "name": "stdout",
     "output_type": "stream",
     "text": [
      "============================== prepare_data: mode[test] Start ==============================\n",
      "len(self.test_dataset) 521\n",
      "============================== prepare_data mode[test] End ==============================\n",
      "len(self.predict_index) 521\n",
      "============================== prepare_data: mode[None] Start ==============================\n",
      "============================== prepare_data has been invoked, mode=None ==============================\n",
      "============================== prepare_data mode[None] End ==============================\n",
      "============================== Setup [predict] Start ==============================\n",
      "[len self.predict_dataset] 521\n",
      "============================== Setup [predict] End ==============================\n"
     ]
    },
    {
     "data": {
      "text/plain": "Predicting: 0it [00:00, ?it/s]",
      "application/vnd.jupyter.widget-view+json": {
       "version_major": 2,
       "version_minor": 0,
       "model_id": "a98b1f262b04401b9150413b90218db8"
      }
     },
     "metadata": {},
     "output_type": "display_data"
    },
    {
     "data": {
      "text/plain": "[{'recon_tokens': tensor([[ 8, 11, 12,  ...,  5,  4, 16],\n          [ 4, 11, 12,  ...,  5,  4, 16],\n          [ 8,  8, 12,  ...,  5,  4, 16],\n          ...,\n          [ 8, 11, 12,  ...,  5,  4, 16],\n          [ 8, 11, 12,  ...,  5,  4, 16],\n          [ 8, 11, 12,  ...,  5,  4, 16]]),\n  'tokens': tensor([[ 8, 11, 12,  ...,  5,  4, 16],\n          [ 5, 11, 12,  ...,  5,  4, 16],\n          [ 8,  8, 12,  ...,  5,  4, 16],\n          ...,\n          [ 8, 11, 12,  ...,  5,  4, 16],\n          [ 8, 11, 12,  ...,  5,  4, 16],\n          [ 8, 11, 12,  ...,  5,  4, 16]]),\n  'ddG': tensor([-0.7306, -0.7681, -1.3282, -0.0167, -1.2203, -0.7663, -1.8396, -0.1471,\n          -0.1454, -0.8561, -1.4395, -1.9383, -0.5685, -0.4398, -1.1382, -4.4631,\n          -1.3262, -0.7398, -1.0461, -1.7806, -0.8554, -1.4865, -1.5717, -0.1668,\n          -1.2113, -0.0279, -1.8086, -1.5696, -1.8183, -1.7443, -0.0988, -0.2069,\n          -0.2052, -2.4691, -4.8645, -1.2536, -1.0251, -0.9982, -1.8109, -0.2505,\n          -0.1961, -0.4905, -1.5610, -0.0818, -1.7681, -0.9352, -0.7938, -0.4714,\n          -0.4028, -0.3157, -0.7871, -1.3990, -0.0836, -0.8050, -0.4422, -0.3292,\n          -1.4332, -1.5542, -0.0349, -0.8988, -0.3528, -0.8589, -0.1740, -0.3408]),\n  'dS': tensor([0.0170, 0.0170, 0.0170, 0.0170, 0.0170, 0.0050, 0.0170, 0.0170, 0.0170,\n          0.0170, 0.0170, 0.0170, 0.0170, 0.0170, 0.0170, 0.0170, 0.0170, 0.0170,\n          0.0170, 0.0170, 0.0170, 0.0170, 0.0050, 0.0170, 0.0170, 0.0170, 0.0170,\n          0.0170, 0.0170, 0.0170, 0.0170, 0.0170, 0.0170, 0.0170, 0.0170, 0.0170,\n          0.0050, 0.0430, 0.0170, 0.0170, 0.0170, 0.0170, 0.0170, 0.0170, 0.0050,\n          0.0170, 0.0170, 0.0170, 0.0170, 0.0430, 0.0170, 0.0170, 0.0050, 0.0050,\n          0.0170, 0.0170, 0.0170, 0.0170, 0.0170, 0.0170, 0.0430, 0.0170, 0.0170,\n          0.0050]),\n  'mean': tensor([[-1.2600, -0.6203, -2.8336,  ...,  1.0885,  1.0336, -0.5948],\n          [-1.1081, -0.0303, -2.7855,  ..., -5.3358,  4.8156, -6.0121],\n          [-0.2742,  0.3561, -0.3434,  ..., -1.0792,  2.6043, -2.2404],\n          ...,\n          [-0.9220,  0.0158, -2.9845,  ..., -5.6258,  5.0272, -5.9245],\n          [-1.2928, -0.7046, -2.5145,  ..., -1.1801,  2.8418, -2.5942],\n          [ 3.4076,  2.4831,  3.9023,  ..., -0.6239,  1.9097, -1.4775]]),\n  'logvar': tensor([[ 0.5604, -0.7701,  0.0136,  ..., -2.1808,  2.3661,  2.6606],\n          [ 3.1933, -4.8777, -3.9702,  ..., -1.4620,  1.1514,  0.7848],\n          [ 1.3275, -2.3507, -0.9935,  ...,  0.2904, -1.6079, -0.9783],\n          ...,\n          [ 3.6272, -5.1015, -3.9338,  ..., -0.9916,  1.2483,  0.7730],\n          [ 1.4807, -2.6489, -1.2299,  ..., -1.4098,  1.2555,  1.6844],\n          [ 1.1164, -1.8253, -0.3641,  ..., -2.3328,  3.2228,  3.2130]]),\n  'z': tensor([[-1.2600, -0.6203, -2.8336,  ...,  1.0885,  1.0336, -0.5948],\n          [-1.1081, -0.0303, -2.7855,  ..., -5.3358,  4.8156, -6.0121],\n          [-0.2742,  0.3561, -0.3434,  ..., -1.0792,  2.6043, -2.2404],\n          ...,\n          [-0.9220,  0.0158, -2.9845,  ..., -5.6258,  5.0272, -5.9245],\n          [-1.2928, -0.7046, -2.5145,  ..., -1.1801,  2.8418, -2.5942],\n          [ 3.4076,  2.4831,  3.9023,  ..., -0.6239,  1.9097, -1.4775]]),\n  'pred_ddG': tensor([ 0.9801,  0.9223,  0.8864,  0.9751,  0.7069,  0.8932,  0.6091,  0.5606,\n           0.9652,  0.9282,  0.7933,  0.7050,  0.9477,  0.9496,  0.9815, -0.0857,\n           0.3262,  0.9321,  0.9828,  0.9684,  0.9084,  0.8542,  0.9712,  0.9735,\n           0.9528,  0.9582,  0.7866,  0.9583,  0.9713,  0.7739,  0.9655,  0.9051,\n           0.9721,  0.3781,  0.6847,  0.9953,  0.7746,  0.7571,  0.3300,  0.9804,\n           0.3891,  0.8100,  0.1542,  0.9813,  0.8457,  0.9483,  0.9836,  0.8400,\n           0.9481,  0.7635,  0.9631,  0.9838,  0.9630,  0.9394,  0.8976,  0.6724,\n           0.8060,  0.5357,  0.9121,  0.9540,  0.4139,  0.8761,  0.9497,  0.7330]),\n  'pred_dS': tensor([-0.7385, -0.6285, -0.7480, -0.7687, -0.8174, -0.7306, -0.5057, -0.6770,\n          -0.7610, -0.7397, -0.6937, -0.7546, -0.7446, -0.7318, -0.6582, -0.8175,\n          -0.8824, -0.7011, -0.9119, -0.7371, -0.9215, -0.6742, -0.8012, -0.8279,\n          -0.2388, -0.7939, -0.7933, -0.8383, -0.6699, -0.8059, -0.7503, -0.7976,\n          -0.7304, -0.7273, -0.5306, -0.8596, -0.8705,  0.1139, -0.7320, -0.7311,\n          -0.6929, -0.7481, -0.8291, -0.7393, -0.8051, -0.8544, -0.7728, -0.7614,\n          -0.6442,  0.3889, -0.7362, -0.8289, -0.8309, -0.8294, -0.6441, -0.7678,\n          -0.8280, -0.7378, -0.7424, -0.7012,  0.1049, -0.7334, -0.7713, -0.8182])},\n {'recon_tokens': tensor([[ 8, 11, 12,  ...,  5,  4, 16],\n          [ 8, 11, 12,  ...,  5,  4, 16],\n          [ 8, 11, 12,  ..., 15,  4, 16],\n          ...,\n          [ 8, 11, 12,  ...,  5,  4, 16],\n          [ 8, 11, 12,  ...,  5,  4, 16],\n          [ 8, 11, 12,  ...,  5,  4, 16]]),\n  'tokens': tensor([[ 8, 11, 12,  ...,  5,  4, 16],\n          [ 8, 11, 12,  ...,  5,  4, 16],\n          [ 8, 11, 12,  ..., 18,  4, 16],\n          ...,\n          [ 8, 11, 12,  ...,  5,  4, 16],\n          [ 8, 11, 12,  ...,  5,  4, 16],\n          [ 8, 11, 12,  ...,  5,  4, 16]]),\n  'ddG': tensor([-2.9590e-01, -4.3850e-01, -2.8110e-01, -4.7890e-01, -7.2210e-01,\n          -2.5440e-01, -5.4610e-01, -2.2000e-02, -3.8230e-01, -2.5400e-02,\n          -5.3500e-02, -2.4631e+00, -5.3560e-01, -5.1440e-01, -7.5740e-01,\n          -6.7960e-01, -1.4178e+00, -8.6060e-01, -8.2840e-01, -6.8460e-01,\n          -1.5162e+00, -4.0000e-03, -4.1080e-01, -1.2440e-01, -1.9742e+00,\n          -3.3720e+00, -1.1105e+00, -1.9783e+00, -3.3663e+00, -1.6574e+00,\n          -2.3265e+00, -8.8140e-01, -9.8620e-01, -1.5130e-01, -5.5750e-01,\n          -1.9145e+00, -1.1379e+00, -1.9690e-01, -6.5430e-01, -1.7200e-02,\n          -1.3680e-01, -3.0220e-01, -7.9400e-02, -4.6110e-01, -2.8241e+00,\n          -2.0680e-01, -5.4500e-01, -3.3900e-01, -4.0275e+00, -5.4310e-01,\n          -1.9740e-01, -5.7760e-01, -7.8400e-02, -3.5050e-01, -2.5320e-01,\n          -3.4060e-01, -2.2000e+00, -3.6988e+00, -1.3520e-01, -7.3200e-01,\n          -3.9850e-01, -7.2500e-02, -3.4960e-01, -1.1579e+00]),\n  'dS': tensor([0.0170, 0.0170, 0.0170, 0.0170, 0.0170, 0.0170, 0.0170, 0.0170, 0.0170,\n          0.0170, 0.0600, 0.0170, 0.0170, 0.0170, 0.0430, 0.0170, 0.0170, 0.0170,\n          0.0170, 0.0050, 0.0170, 0.0170, 0.0050, 0.0170, 0.0170, 0.0050, 0.0170,\n          0.0170, 0.0050, 0.0170, 0.0170, 0.0170, 0.0170, 0.0170, 0.0170, 0.0170,\n          0.0170, 0.0170, 0.0170, 0.0170, 0.0170, 0.0170, 0.0170, 0.0170, 0.0170,\n          0.0170, 0.0170, 0.0170, 0.0170, 0.0170, 0.0170, 0.0050, 0.0170, 0.0170,\n          0.0170, 0.0170, 0.0170, 0.0170, 0.0170, 0.0170, 0.0170, 0.0050, 0.0170,\n          0.0170]),\n  'mean': tensor([[-1.1373, -0.3358, -2.2501,  ..., -0.9991,  2.6474, -2.5164],\n          [-0.3944, -0.3926, -2.2500,  ...,  0.6107,  0.4335, -0.8602],\n          [-0.8350, -0.6827, -3.3142,  ..., -1.0392,  2.4015, -2.0081],\n          ...,\n          [-0.6673, -1.4111, -2.9095,  ...,  0.0571,  1.8718, -1.0074],\n          [-0.9200, -0.5698, -3.1302,  ...,  1.2192,  0.7704, -0.1645],\n          [ 1.0427,  0.9479,  1.3062,  ..., -0.7870,  2.0537, -1.9954]]),\n  'logvar': tensor([[ 1.5101, -2.4869, -1.3082,  ..., -2.8211,  3.4562,  3.3968],\n          [ 0.1973, -0.5616, -0.3123,  ..., -0.9642,  0.9187,  0.9330],\n          [ 1.8102, -2.6828, -0.7676,  ...,  1.4337, -2.1756, -1.6357],\n          ...,\n          [ 1.4909, -1.6160, -0.3097,  ...,  2.9911, -5.7951, -4.3595],\n          [ 0.6583, -0.5524,  0.2290,  ..., -2.8099,  2.3597,  2.7803],\n          [ 1.8306, -2.3915, -0.9581,  ..., -1.9203,  2.4734,  2.1360]]),\n  'z': tensor([[-1.1373, -0.3358, -2.2501,  ..., -0.9991,  2.6474, -2.5164],\n          [-0.3944, -0.3926, -2.2500,  ...,  0.6107,  0.4335, -0.8602],\n          [-0.8350, -0.6827, -3.3142,  ..., -1.0392,  2.4015, -2.0081],\n          ...,\n          [-0.6673, -1.4111, -2.9095,  ...,  0.0571,  1.8718, -1.0074],\n          [-0.9200, -0.5698, -3.1302,  ...,  1.2192,  0.7704, -0.1645],\n          [ 1.0427,  0.9479,  1.3062,  ..., -0.7870,  2.0537, -1.9954]]),\n  'pred_ddG': tensor([ 0.9025,  0.9263,  0.9152,  0.9125,  0.9013,  0.9112,  0.9901,  0.7482,\n           0.7091,  0.9483,  0.7245,  0.5699,  0.7937,  0.9018,  0.7002,  0.9854,\n           0.9415,  0.9282,  0.7571,  0.8923,  0.7306,  0.9925,  0.3712,  0.8532,\n           0.2480, -0.1884,  0.9214,  0.4247,  0.3261,  0.4335,  0.9293,  0.9662,\n           0.8617,  0.9721,  0.9622,  0.5722,  0.7661,  0.9493,  0.9398,  0.9561,\n           0.9910,  0.3164,  0.9202,  0.8149,  0.5893,  0.9350,  0.8641,  0.8712,\n          -0.4112,  0.9107,  0.8531,  0.8959,  0.9785,  0.9226,  0.9414,  0.8382,\n           0.3962,  0.4596,  0.8699,  0.9347,  0.4646,  0.9417,  0.9878,  0.9332]),\n  'pred_dS': tensor([-0.7343, -0.7747, -0.9133, -0.7165, -0.7984, -0.7435, -0.8107, -0.6603,\n          -0.7782, -0.7227, -0.3307, -0.6373, -0.8173, -0.8194,  0.4389, -0.7719,\n          -0.5681, -0.8052, -0.6972, -0.8911, -0.6808, -0.5882, -0.9251, -0.7826,\n          -0.6432, -0.9074, -0.7317, -0.6520, -0.9477, -0.8002, -0.7546, -0.7373,\n          -0.7988, -0.7590, -0.7400, -0.7278, -0.8041, -0.7033, -0.7181, -0.7316,\n          -0.7453, -0.6844, -0.8056, -0.8006, -0.7195, -0.6650, -0.6925, -0.7998,\n          -0.8073, -0.7081, -0.6437, -0.8606, -0.8010, -0.7186, -0.7958, -0.6091,\n          -0.6880, -0.7264, -0.5987, -0.6863, -0.7712, -0.8675, -0.7105, -0.8066])},\n {'recon_tokens': tensor([[ 8,  8, 12,  ...,  5,  4, 16],\n          [ 8, 11, 12,  ...,  5,  4, 16],\n          [ 8, 13, 12,  ...,  5,  4, 16],\n          ...,\n          [ 8, 11, 12,  ...,  5,  4, 16],\n          [ 8,  9,  8,  ...,  5,  4, 16],\n          [ 8,  9, 12,  ...,  5,  4, 16]]),\n  'tokens': tensor([[ 8,  8, 12,  ...,  5,  4, 16],\n          [ 8, 11, 12,  ...,  5,  4, 16],\n          [ 8, 13, 12,  ...,  5,  4, 16],\n          ...,\n          [ 8, 11, 12,  ...,  5,  4, 16],\n          [ 8,  8, 16,  ...,  5,  4, 16],\n          [ 8,  9, 12,  ...,  5,  4, 16]]),\n  'ddG': tensor([-0.4755, -0.5442, -0.5391, -1.9090, -3.1379, -1.7231, -1.4498, -0.5045,\n          -0.1284, -0.5413, -3.2894, -0.0770, -0.2241, -0.1705, -1.2615, -1.3037,\n          -0.5338, -0.5888, -0.4549, -0.1196, -0.2837, -3.3148, -1.6487, -0.9154,\n          -1.7065, -2.3682, -1.3153, -0.8450, -0.2858, -1.1549, -0.8958, -0.3364,\n          -0.3091, -0.1138, -0.3152, -1.0239, -0.2081, -0.9200, -1.3581, -0.1150,\n          -0.0564, -2.8730, -0.8315, -0.4876, -0.1352, -0.7139, -1.3653, -0.3572,\n          -1.1996, -0.0240, -0.7019, -0.0406, -1.2050, -0.2640, -0.0765, -0.5230,\n          -1.3707, -0.0955, -2.5760, -0.3510, -0.5512, -0.8780, -1.6605, -0.2411]),\n  'dS': tensor([0.0170, 0.0600, 0.0170, 0.0170, 0.0170, 0.0170, 0.0170, 0.0170, 0.0170,\n          0.0170, 0.0170, 0.0170, 0.0170, 0.0050, 0.0170, 0.0170, 0.0170, 0.0170,\n          0.0430, 0.0050, 0.0170, 0.0170, 0.0170, 0.0170, 0.0170, 0.0050, 0.0170,\n          0.0170, 0.0170, 0.0170, 0.0430, 0.0170, 0.0170, 0.0170, 0.0170, 0.0170,\n          0.0170, 0.0170, 0.0170, 0.0170, 0.0170, 0.0170, 0.0170, 0.0170, 0.0170,\n          0.0170, 0.0170, 0.0170, 0.0170, 0.0170, 0.0170, 0.0170, 0.0170, 0.0170,\n          0.0170, 0.0170, 0.0170, 0.0170, 0.0170, 0.0170, 0.0050, 0.0170, 0.0170,\n          0.0170]),\n  'mean': tensor([[ 0.7221,  0.9131,  0.4720,  ..., -0.5067,  2.1296, -1.5584],\n          [-1.7016, -0.2126, -1.9419,  ...,  0.0257,  2.3882, -1.7168],\n          [-0.8491, -0.2177, -2.6984,  ..., -0.4146,  1.7832, -1.2285],\n          ...,\n          [ 0.5257,  0.2608,  0.9653,  ...,  1.7801,  0.5055,  0.3803],\n          [-1.2997, -0.1554, -2.1022,  ..., -0.1267,  1.7379, -1.8693],\n          [ 0.2201,  0.9238,  0.5052,  ...,  1.3503,  0.5639, -0.2723]]),\n  'logvar': tensor([[ 1.3572, -1.8530, -0.6399,  ..., -2.3812,  2.2326,  2.3295],\n          [ 0.8075, -1.9907, -0.4122,  ..., -2.4635,  1.8831,  2.6199],\n          [ 1.3599, -1.5367, -0.4803,  ...,  2.8415, -5.3002, -4.4883],\n          ...,\n          [ 0.2891, -0.1863,  0.7150,  ..., -0.8203,  0.3542,  0.9992],\n          [ 0.6666, -1.4811, -0.5334,  ..., -1.2536,  0.8167,  1.3148],\n          [ 0.3662, -0.2666, -0.1880,  ...,  0.5506, -2.1662, -1.4616]]),\n  'z': tensor([[ 0.7221,  0.9131,  0.4720,  ..., -0.5067,  2.1296, -1.5584],\n          [-1.7016, -0.2126, -1.9419,  ...,  0.0257,  2.3882, -1.7168],\n          [-0.8491, -0.2177, -2.6984,  ..., -0.4146,  1.7832, -1.2285],\n          ...,\n          [ 0.5257,  0.2608,  0.9653,  ...,  1.7801,  0.5055,  0.3803],\n          [-1.2997, -0.1554, -2.1022,  ..., -0.1267,  1.7379, -1.8693],\n          [ 0.2201,  0.9238,  0.5052,  ...,  1.3503,  0.5639, -0.2723]]),\n  'pred_ddG': tensor([0.9487, 0.9365, 0.6685, 0.8637, 0.4393, 0.7057, 0.6672, 0.9903, 0.7039,\n          0.5562, 0.6977, 0.9448, 0.9250, 0.9722, 0.9213, 0.8325, 0.9639, 0.5805,\n          0.6884, 0.8381, 0.7150, 0.5104, 0.2695, 0.6750, 0.7183, 0.8092, 0.7682,\n          0.7648, 0.9617, 0.7383, 0.8339, 0.3650, 0.9470, 0.9779, 0.8863, 0.9016,\n          0.9248, 0.9191, 0.8897, 0.6760, 0.7859, 0.8151, 0.6876, 0.8525, 0.9756,\n          0.8877, 0.8504, 0.8852, 0.7810, 0.9090, 0.9133, 0.9942, 0.6067, 0.8098,\n          0.9763, 0.9723, 0.8380, 0.5812, 0.7961, 0.8108, 0.4012, 0.6913, 0.8873,\n          0.6649]),\n  'pred_dS': tensor([-0.5427,  0.0258, -0.6802, -0.7399, -0.7992, -0.7551, -0.8295, -0.8141,\n          -0.6858, -0.6897, -0.6891, -0.6000, -0.8530, -0.7788, -0.8150, -0.7882,\n          -0.6740, -0.8015,  0.2089, -0.9101, -0.6943, -0.6136, -0.6582, -0.6375,\n          -0.8523, -0.8868, -0.7904, -0.8021, -0.7660, -0.7137,  0.3743, -0.6504,\n          -0.7030, -0.8028, -0.8749, -0.7724, -0.5209, -0.7396, -0.6702, -0.7957,\n          -0.7558, -0.6911, -0.5689, -0.7000, -0.6514, -0.8057, -0.6712, -0.7241,\n          -0.7763, -0.8245, -0.7895, -0.8841, -0.7382, -0.7719, -0.6235, -0.8134,\n          -0.7483, -0.8400, -0.8379, -0.6820, -0.6939, -0.8328, -0.6276, -0.7269])},\n {'recon_tokens': tensor([[ 8, 11, 12,  ...,  5,  4, 16],\n          [ 8, 11, 12,  ..., 20,  4, 16],\n          [ 8, 11, 12,  ...,  5,  4, 20],\n          ...,\n          [ 8, 11, 12,  ...,  5,  4, 16],\n          [ 8, 11, 12,  ...,  5,  4, 16],\n          [ 8, 11, 12,  ...,  5,  4, 16]]),\n  'tokens': tensor([[ 8, 11, 12,  ...,  5,  4, 16],\n          [ 8, 11, 12,  ..., 15,  4, 16],\n          [ 8, 11, 12,  ...,  5,  4, 20],\n          ...,\n          [ 8, 11, 12,  ...,  5,  4, 16],\n          [ 8, 11, 12,  ...,  5,  4, 16],\n          [ 8, 11, 12,  ...,  5,  4, 16]]),\n  'ddG': tensor([-2.4989, -0.7171, -2.5726, -2.5239, -1.2455, -0.2628, -2.0117, -0.2736,\n          -0.7449, -1.0037, -0.5780, -1.9988, -2.0495, -0.2448, -0.6065, -0.4946,\n          -0.5177, -0.4527, -2.3150, -0.9771, -2.1989, -0.0664, -0.0693, -0.8655,\n          -0.9959, -0.1682, -0.0551, -0.7216, -1.1469, -2.5760, -0.5539, -0.2348,\n          -0.0516, -0.4004, -0.6619, -0.1205, -1.5958, -0.8041, -2.7427, -0.1868,\n          -0.3596, -0.0402, -0.0220, -3.1325, -0.1729, -0.9460, -0.2273, -0.5169,\n          -1.2315, -0.4525, -0.9179, -0.1494, -0.5015, -0.2203, -0.0502, -1.1649,\n          -0.1878, -2.1417, -0.7226, -1.6258, -0.9131, -0.1874, -0.6185, -2.4983]),\n  'dS': tensor([0.0170, 0.0170, 0.0170, 0.0170, 0.0170, 0.0170, 0.0310, 0.0170, 0.0050,\n          0.0170, 0.0170, 0.0170, 0.0170, 0.0170, 0.0170, 0.0170, 0.0430, 0.0170,\n          0.0170, 0.0170, 0.0170, 0.0170, 0.0170, 0.0170, 0.0170, 0.0430, 0.0170,\n          0.0170, 0.0050, 0.0170, 0.0170, 0.0430, 0.0170, 0.0170, 0.0170, 0.0050,\n          0.0430, 0.0170, 0.0170, 0.0050, 0.0170, 0.0170, 0.0170, 0.0170, 0.0170,\n          0.0170, 0.0170, 0.0050, 0.0170, 0.0170, 0.0170, 0.0170, 0.0430, 0.0170,\n          0.0170, 0.0170, 0.0170, 0.0170, 0.0170, 0.0170, 0.0170, 0.0170, 0.0170,\n          0.0170]),\n  'mean': tensor([[-0.4669, -1.4450, -1.8127,  ...,  1.0285,  1.0109, -0.6090],\n          [-1.0089, -0.3507, -2.8722,  ...,  0.2682,  1.6399, -1.0017],\n          [ 0.7709, -0.0499,  1.2226,  ...,  2.1819,  0.7125,  0.2570],\n          ...,\n          [-0.2629, -0.6658, -2.0010,  ...,  0.9725,  1.0737, -0.3132],\n          [-1.0522, -0.4479, -3.1426,  ..., -0.3891,  1.8818, -1.4862],\n          [-1.5546, -0.5331, -3.4423,  ..., -3.4570,  4.3816, -4.4664]]),\n  'logvar': tensor([[ 0.5210, -0.8444, -0.1680,  ...,  1.3794, -2.5501, -2.0831],\n          [ 1.0404, -1.3609, -0.2841,  ..., -0.5975,  0.3621,  0.4603],\n          [-0.1957, -0.1060,  0.9452,  ..., -0.5089, -2.4619, -0.4179],\n          ...,\n          [ 0.6761, -0.9609,  0.3600,  ...,  2.8139, -5.4079, -4.4129],\n          [ 1.2853, -1.7748, -0.6431,  ...,  2.7808, -5.2542, -4.5004],\n          [ 2.3305, -4.2120, -2.4331,  ..., -1.2386,  0.6659,  1.5235]]),\n  'z': tensor([[-0.4669, -1.4450, -1.8127,  ...,  1.0285,  1.0109, -0.6090],\n          [-1.0089, -0.3507, -2.8722,  ...,  0.2682,  1.6399, -1.0017],\n          [ 0.7709, -0.0499,  1.2226,  ...,  2.1819,  0.7125,  0.2570],\n          ...,\n          [-0.2629, -0.6658, -2.0010,  ...,  0.9725,  1.0737, -0.3132],\n          [-1.0522, -0.4479, -3.1426,  ..., -0.3891,  1.8818, -1.4862],\n          [-1.5546, -0.5331, -3.4423,  ..., -3.4570,  4.3816, -4.4664]]),\n  'pred_ddG': tensor([ 0.6779,  0.9205,  0.7889,  0.4368,  0.4763,  0.9566,  0.7620,  0.9443,\n           0.2975,  0.7150,  0.9138,  0.3695,  0.4324,  0.8504,  0.9369,  0.5025,\n           0.7483,  0.0654,  0.4526,  0.9413,  0.6017,  0.6959,  0.9741,  0.9272,\n           0.6959,  0.9396,  0.9850,  0.9662,  0.1616,  0.8526,  0.4141,  0.8508,\n           0.9202,  0.9640,  0.8001,  0.7325,  0.8872,  0.8922,  0.1272,  0.9867,\n           0.9641,  0.7950,  0.8546,  0.0285,  0.9830,  0.8734,  0.8145,  0.7211,\n           0.9571,  0.9738,  0.9325,  0.9853,  0.9140,  0.8101,  0.9401,  0.9534,\n           0.9093,  0.9356,  0.8554,  0.5142, -0.1425,  0.8571,  0.8644,  0.9279]),\n  'pred_dS': tensor([-0.7895, -0.7294, -0.7533, -0.7271, -0.8082, -0.7389, -0.1161, -0.8191,\n          -0.6414, -0.6823, -0.7614, -0.7639, -0.6999, -0.7237, -0.7538, -0.8576,\n           0.2045, -0.7582, -0.7707, -0.8157, -0.8836, -0.7746, -0.7760, -0.7521,\n          -0.6531,  0.1074, -0.7255, -0.6392, -0.8906, -0.6422, -0.2342,  0.2952,\n          -0.6574, -0.6715, -0.6306, -0.8618,  0.1845, -0.8940, -0.8330, -0.8917,\n          -0.7522, -0.8110, -0.7611, -0.7177, -0.5897, -0.7606, -0.8469, -0.7534,\n          -0.8472, -0.7296, -0.7769, -0.8193,  0.0300, -0.7609, -0.7613, -0.7767,\n          -0.7781, -0.6992, -0.7321, -0.7110, -0.8453, -0.8093, -0.6533, -0.6218])},\n {'recon_tokens': tensor([[ 8, 11, 12,  ...,  5,  4, 16],\n          [ 8, 11, 12,  ...,  5,  4, 16],\n          [ 8, 11, 12,  ...,  5,  4, 16],\n          ...,\n          [ 8, 11, 12,  ...,  5,  4, 11],\n          [ 8, 11, 12,  ...,  5,  4, 16],\n          [ 8, 11, 12,  ...,  5,  4, 16]]),\n  'tokens': tensor([[ 8, 11, 12,  ...,  5,  4, 16],\n          [ 8, 11, 12,  ...,  5,  4, 16],\n          [ 8, 11, 12,  ...,  5,  4, 16],\n          ...,\n          [ 8, 11, 12,  ...,  5,  4, 10],\n          [ 8, 11, 12,  ...,  5,  4, 16],\n          [ 8, 11, 12,  ...,  5,  4, 16]]),\n  'ddG': tensor([-0.3414, -0.2082, -0.7581, -1.7880, -0.0336, -2.1545, -0.5489, -0.3795,\n          -0.0843, -0.7770, -0.6928, -0.2751, -0.9102, -0.6185, -1.6120, -0.8081,\n          -0.1101, -1.2650, -0.9554, -0.0911, -0.4232, -0.6453, -1.3587, -2.7880,\n          -0.2125, -2.2702, -0.5372, -0.0192, -0.0665, -0.1247, -0.5706, -0.1773,\n          -1.0437, -0.5279, -0.4098, -0.4952, -0.9687, -2.5406, -2.7425, -0.9083,\n          -0.2618, -0.9641, -0.3866, -1.0788, -2.0189, -0.5137, -0.3564, -0.3705,\n          -1.0358, -0.0899, -1.4235, -0.3726, -0.4022, -1.2937, -0.6703, -1.3037,\n          -0.8284, -0.2694, -0.6017, -0.1169, -0.9404, -0.1417, -0.5976, -0.2730]),\n  'dS': tensor([0.0170, 0.0170, 0.0170, 0.0310, 0.0170, 0.0050, 0.0170, 0.0050, 0.0170,\n          0.0170, 0.0170, 0.0170, 0.0170, 0.0170, 0.0430, 0.0170, 0.0170, 0.0170,\n          0.0170, 0.0430, 0.0170, 0.0170, 0.0430, 0.0170, 0.0600, 0.0170, 0.0170,\n          0.0170, 0.0170, 0.0170, 0.0170, 0.0050, 0.0170, 0.0170, 0.0170, 0.0170,\n          0.0170, 0.0170, 0.0170, 0.0170, 0.0170, 0.0170, 0.0430, 0.0170, 0.0170,\n          0.0050, 0.0170, 0.0170, 0.0170, 0.0170, 0.0170, 0.0170, 0.0170, 0.0170,\n          0.0050, 0.0170, 0.0170, 0.0170, 0.0170, 0.0170, 0.0170, 0.0170, 0.0170,\n          0.0170]),\n  'mean': tensor([[-1.1020, -0.2235, -1.4541,  ..., -1.3503,  2.8458, -2.4099],\n          [ 0.1056,  0.3109, -0.2781,  ...,  1.5040,  0.7240,  0.0753],\n          [-1.0781, -0.8227, -3.4164,  ..., -0.8161,  2.2509, -1.9028],\n          ...,\n          [-1.4060, -0.6689, -2.9896,  ..., -1.5311,  2.9689, -2.6763],\n          [-1.2915, -0.3834, -2.8729,  ..., -0.5280,  2.3661, -1.8230],\n          [-0.9128, -0.9051, -3.3421,  ..., -0.1075,  1.7714, -1.0518]]),\n  'logvar': tensor([[ 1.6069, -2.6688, -1.1322,  ...,  1.9656, -4.4474, -3.3121],\n          [ 0.2913, -0.4274,  0.6104,  ..., -0.2572, -0.7862, -0.1227],\n          [ 1.5705, -2.2289, -0.8858,  ..., -0.5951,  0.4159,  0.2487],\n          ...,\n          [ 1.7049, -2.9164, -1.2833,  ..., -2.0959,  1.2868,  2.0728],\n          [ 1.2839, -2.0596, -0.7990,  ..., -1.6761,  2.3202,  2.5198],\n          [ 1.3002, -1.5182, -0.3688,  ...,  1.0744, -2.2116, -1.9351]]),\n  'z': tensor([[-1.1020, -0.2235, -1.4541,  ..., -1.3503,  2.8458, -2.4099],\n          [ 0.1056,  0.3109, -0.2781,  ...,  1.5040,  0.7240,  0.0753],\n          [-1.0781, -0.8227, -3.4164,  ..., -0.8161,  2.2509, -1.9028],\n          ...,\n          [-1.4060, -0.6689, -2.9896,  ..., -1.5311,  2.9689, -2.6763],\n          [-1.2915, -0.3834, -2.8729,  ..., -0.5280,  2.3661, -1.8230],\n          [-0.9128, -0.9051, -3.3421,  ..., -0.1075,  1.7714, -1.0518]]),\n  'pred_ddG': tensor([ 0.9571,  0.9387,  0.9672,  0.9128,  0.9965,  0.5871,  0.7449,  0.8768,\n           0.9634,  0.7754,  0.6573,  0.1404, -0.1999,  0.7641,  0.6816,  0.9062,\n           0.8241,  0.6958,  0.9339,  0.9248,  0.5897,  0.8775,  0.8718,  0.2440,\n           0.8899,  0.6867,  0.8323,  0.5370,  0.9490,  0.9952,  0.2045,  0.5157,\n           0.8398,  0.8775,  0.8446,  0.7057,  0.9218,  0.9600,  0.8395,  0.4933,\n           0.9913,  0.9911,  0.7419,  0.9607,  0.6207,  0.9594,  0.9557,  0.6617,\n           0.9577,  0.9331,  0.7346,  0.8401,  0.7421,  0.4750,  0.9712,  0.9788,\n           0.9594,  0.7632,  0.6331,  0.9162,  0.8676,  0.7466,  0.9029,  0.9250]),\n  'pred_dS': tensor([-0.6070, -0.8934, -0.8189, -0.6126, -0.8521, -0.8565, -0.6748, -0.9578,\n          -0.6874, -0.0288, -0.8596, -0.8024, -0.8408, -0.7247,  0.0944, -0.7277,\n          -0.8528, -0.7763, -0.6402,  0.3498, -0.7127, -0.6525,  0.3710, -0.7347,\n           0.0554, -0.7444, -0.7873, -0.7791, -0.7652, -0.8571, -0.8290, -0.8689,\n          -0.7415, -0.7519, -0.7290, -0.7114, -0.7445, -0.7181, -0.7421, -0.6013,\n          -0.7748, -0.7555,  0.0921, -0.7676, -0.5989, -0.9033, -0.5112, -0.7745,\n          -0.6831, -0.7756, -0.7718, -0.8574, -0.7792, -0.7201, -0.8758, -0.7836,\n          -0.7344, -0.8006, -0.7866, -0.6932, -0.7934, -0.6826, -0.7724, -0.7666])},\n {'recon_tokens': tensor([[ 8, 11, 12,  ...,  5,  4, 16],\n          [ 8, 11, 12,  ...,  5,  4, 16],\n          [ 8, 13, 12,  ...,  5,  4, 16],\n          ...,\n          [ 8,  8, 12,  ...,  5,  4, 16],\n          [ 8, 11, 12,  ...,  5,  4, 16],\n          [ 8, 11, 12,  ...,  9,  4, 16]]),\n  'tokens': tensor([[ 8, 11, 12,  ...,  5,  4, 16],\n          [ 8, 11, 12,  ...,  5,  4, 16],\n          [ 8, 13, 12,  ...,  5,  4, 16],\n          ...,\n          [ 8, 19, 12,  ...,  5,  4, 16],\n          [ 8, 11, 12,  ...,  5,  4, 16],\n          [ 8, 11, 12,  ..., 13,  4, 16]]),\n  'ddG': tensor([-0.0355, -1.6193, -2.0975, -2.3995, -0.5082, -0.5576, -0.4644, -0.7771,\n          -1.0641, -2.6956, -0.4687, -0.3930, -0.6195, -1.0895, -1.0510, -2.2224,\n          -2.2296, -0.5864, -0.4193, -1.6512, -2.2325, -0.4141, -0.9799, -0.8741,\n          -0.5638, -0.5021, -0.2873, -0.8470, -0.0438, -0.7995, -3.1707, -0.2448,\n          -1.5982, -0.6627, -0.4857, -0.6902, -0.2896, -1.7842, -0.0867, -1.2355,\n          -0.3202, -0.8571, -0.8690, -1.8471, -0.6410, -0.2201, -2.6626, -0.6561,\n          -0.1028, -0.6395, -4.5902, -0.0090, -0.1121, -0.7415, -1.3910, -1.3307,\n          -1.2711, -0.8121, -0.0894, -2.9869, -0.8001, -0.0336, -0.7514, -0.9843]),\n  'dS': tensor([0.0170, 0.0170, 0.0170, 0.0170, 0.0170, 0.0170, 0.0170, 0.0170, 0.0170,\n          0.0170, 0.0170, 0.0170, 0.0170, 0.0170, 0.0170, 0.0170, 0.0170, 0.0170,\n          0.0170, 0.0170, 0.0170, 0.0170, 0.0050, 0.0170, 0.0050, 0.0170, 0.0170,\n          0.0170, 0.0170, 0.0170, 0.0170, 0.0170, 0.0050, 0.0430, 0.0170, 0.0170,\n          0.0170, 0.0170, 0.0170, 0.0480, 0.0170, 0.0170, 0.0170, 0.0170, 0.0170,\n          0.0170, 0.0170, 0.0170, 0.0170, 0.0170, 0.0170, 0.0170, 0.0170, 0.0170,\n          0.0050, 0.0050, 0.0170, 0.0170, 0.0170, 0.0170, 0.0170, 0.0170, 0.0050,\n          0.0170]),\n  'mean': tensor([[-0.5424, -0.7134, -1.9077,  ...,  0.7306,  1.2867, -0.6416],\n          [ 2.6957,  2.4212,  3.8836,  ..., -0.3306,  2.0618, -1.7854],\n          [ 3.2849,  2.7620,  3.7780,  ..., -0.7460,  2.1286, -1.7695],\n          ...,\n          [-1.1414, -0.5638, -3.4143,  ...,  0.5082,  1.4862, -0.8040],\n          [ 0.6072, -0.2530, -1.2194,  ..., -0.3755,  0.9074, -0.8505],\n          [-0.9283, -1.3757, -3.1152,  ..., -0.0927,  1.7217, -0.9848]]),\n  'logvar': tensor([[ 0.8668, -1.1431,  0.0956,  ...,  2.3492, -4.9353, -3.9691],\n          [ 1.2181, -1.9257, -0.8243,  ..., -1.6562,  1.4508,  1.7783],\n          [ 1.5948, -2.0896, -0.8519,  ...,  2.9479, -5.5425, -4.5914],\n          ...,\n          [ 0.7880, -1.2383, -0.0090,  ..., -2.4610,  2.4875,  2.4328],\n          [ 1.0454, -1.1835, -0.2286,  ...,  3.5160, -5.6109, -4.9675],\n          [ 1.4674, -1.6612, -0.3649,  ...,  0.5723, -2.3988, -1.5504]]),\n  'z': tensor([[-0.5424, -0.7134, -1.9077,  ...,  0.7306,  1.2867, -0.6416],\n          [ 2.6957,  2.4212,  3.8836,  ..., -0.3306,  2.0618, -1.7854],\n          [ 3.2849,  2.7620,  3.7780,  ..., -0.7460,  2.1286, -1.7695],\n          ...,\n          [-1.1414, -0.5638, -3.4143,  ...,  0.5082,  1.4862, -0.8040],\n          [ 0.6072, -0.2530, -1.2194,  ..., -0.3755,  0.9074, -0.8505],\n          [-0.9283, -1.3757, -3.1152,  ..., -0.0927,  1.7217, -0.9848]]),\n  'pred_ddG': tensor([ 0.9822,  0.9541,  0.5754,  0.4532,  0.9568,  0.8713,  0.7573,  0.9086,\n           0.8729,  0.2620,  0.8855,  0.9755,  0.4718,  0.9353,  0.9494,  0.7157,\n           0.6455,  0.2905,  0.9546,  0.8083, -0.0748,  0.8811,  0.9543,  0.5719,\n           0.8152,  0.8174,  0.9725,  0.8387,  0.9484,  0.7522,  0.2569,  0.8148,\n           0.8346,  0.7715,  0.8939,  0.5410,  0.9170,  0.9500,  0.9366,  0.9374,\n           0.8938,  0.8191,  0.9043,  0.4823,  0.8989,  0.9532,  0.7461,  0.9929,\n           0.9907,  0.8303,  0.2188,  0.9694,  0.4411,  0.9658,  0.8094,  0.7785,\n           0.5796,  0.9348,  0.9626,  0.7218,  0.8979,  0.7904,  0.9417,  0.9536]),\n  'pred_dS': tensor([-0.6837, -0.6830, -0.8082, -0.8587, -0.7905, -0.7233, -0.8173, -0.6691,\n          -0.7453, -0.7500, -0.6731, -0.7027, -0.7301, -0.8258, -0.7672, -0.7232,\n          -0.6194, -0.5699, -0.7794, -0.7963, -0.6783, -0.6529, -0.8410, -0.7595,\n          -0.8646, -0.7553, -0.7949, -0.7744, -0.8247, -0.6342, -0.7033, -0.7170,\n          -0.9333,  0.2466, -0.7996, -0.7998, -0.7703, -0.7663, -0.6876, -0.4607,\n          -0.6797, -0.8605, -0.7703, -0.7400, -0.6849, -0.8320, -0.8690, -0.7196,\n          -0.7827, -0.8544, -0.7819, -0.7655, -0.7840, -0.8062, -0.8889, -0.8797,\n          -0.6410, -0.8143, -0.7497, -0.7522, -0.7917, -0.6269, -0.7129, -0.8510])},\n {'recon_tokens': tensor([[ 8,  8, 12,  ...,  5,  4, 16],\n          [ 8, 11, 12,  ...,  5,  4, 16],\n          [ 8, 11, 12,  ...,  5,  4, 16],\n          ...,\n          [ 8,  9, 12,  ...,  5,  4, 16],\n          [ 8, 11, 12,  ...,  5,  4, 16],\n          [ 8, 11, 12,  ...,  5,  4, 20]]),\n  'tokens': tensor([[ 8,  8, 12,  ...,  5,  4, 16],\n          [ 8, 11, 12,  ...,  5,  4, 16],\n          [ 8, 11, 12,  ...,  5,  4, 16],\n          ...,\n          [ 8,  8, 12,  ...,  5,  4, 16],\n          [ 8, 11, 12,  ...,  5,  4, 16],\n          [ 8, 11, 12,  ...,  5,  4, 20]]),\n  'ddG': tensor([-2.9989, -0.5866, -2.3808, -1.9081, -0.7443, -1.5080, -0.1557, -0.7344,\n          -1.3754, -0.2563, -0.7102, -0.1149, -1.0894, -0.1648, -0.1305, -0.0826,\n          -0.6660, -0.2293, -0.4188, -0.2375, -3.6821, -1.0522, -0.6458, -0.5615,\n          -2.0924, -0.3393, -1.0041, -1.4943, -1.0404, -0.6206, -0.3963, -2.9128,\n          -0.1028, -0.3624, -0.0933, -1.8810, -0.5994, -1.5717, -1.4008, -1.5404,\n          -0.1623, -0.3495, -1.5587, -0.1771, -0.5637, -0.0977, -1.0974, -0.2130,\n          -0.2802, -0.3769, -0.3445, -0.1897, -0.1615, -0.0757, -1.0993, -0.2904,\n          -1.1079, -0.2749, -0.2297, -0.3844, -1.3620, -2.2111, -1.2730, -1.1970]),\n  'dS': tensor([0.0170, 0.0170, 0.0430, 0.0170, 0.0170, 0.0050, 0.0050, 0.0170, 0.0170,\n          0.0170, 0.0430, 0.0170, 0.0170, 0.0170, 0.0170, 0.0170, 0.0170, 0.0170,\n          0.0430, 0.0170, 0.0170, 0.0170, 0.0170, 0.0170, 0.0170, 0.0170, 0.0170,\n          0.0170, 0.0170, 0.0170, 0.0170, 0.0170, 0.0170, 0.0170, 0.0170, 0.0170,\n          0.0170, 0.0170, 0.0050, 0.0050, 0.0170, 0.0170, 0.0170, 0.0430, 0.0170,\n          0.0170, 0.0170, 0.0170, 0.0170, 0.0170, 0.0170, 0.0170, 0.0170, 0.0170,\n          0.0170, 0.0170, 0.0170, 0.0310, 0.0170, 0.0170, 0.0170, 0.0600, 0.0170,\n          0.0170]),\n  'mean': tensor([[ 2.6234,  2.2067,  3.3865,  ..., -3.8879,  4.2714, -4.7867],\n          [-0.4805, -0.9598, -3.2791,  ..., -0.8276,  2.0348, -1.3189],\n          [-0.8789, -0.8218,  0.3193,  ...,  0.5655,  2.1942, -1.7585],\n          ...,\n          [-1.2006, -0.2326, -2.6068,  ...,  0.1075,  2.0348, -1.2641],\n          [-0.4760, -0.0335, -2.2884,  ...,  2.2111, -0.5796,  0.7489],\n          [-0.8108, -0.6298, -1.3557,  ..., -0.8130,  2.4393, -2.0937]]),\n  'logvar': tensor([[ 2.7899, -4.5648, -2.8015,  ..., -1.2655, -0.8194,  0.5271],\n          [ 1.5405, -1.9443, -0.5022,  ...,  1.0967, -3.2157, -2.3827],\n          [ 0.9271, -2.0817, -0.3376,  ..., -3.1885,  2.8394,  3.4367],\n          ...,\n          [ 0.9742, -1.5974, -0.2396,  ..., -3.1721,  3.6055,  3.6974],\n          [-0.6055,  0.8076,  0.6724,  ...,  3.2931, -5.4659, -4.8634],\n          [ 1.5649, -2.3181, -0.9767,  ..., -1.3946,  0.0251,  1.2188]]),\n  'z': tensor([[ 2.6234,  2.2067,  3.3865,  ..., -3.8879,  4.2714, -4.7867],\n          [-0.4805, -0.9598, -3.2791,  ..., -0.8276,  2.0348, -1.3189],\n          [-0.8789, -0.8218,  0.3193,  ...,  0.5655,  2.1942, -1.7585],\n          ...,\n          [-1.2006, -0.2326, -2.6068,  ...,  0.1075,  2.0348, -1.2641],\n          [-0.4760, -0.0335, -2.2884,  ...,  2.2111, -0.5796,  0.7489],\n          [-0.8108, -0.6298, -1.3557,  ..., -0.8130,  2.4393, -2.0937]]),\n  'pred_ddG': tensor([0.6781, 0.9320, 0.6613, 0.9428, 0.7962, 0.9288, 0.9271, 0.8499, 0.9567,\n          0.9767, 0.8189, 0.8132, 0.9054, 0.5817, 0.5944, 0.9560, 0.9169, 0.9108,\n          0.8314, 0.9528, 0.1975, 0.9844, 0.9568, 0.9179, 0.7369, 0.8482, 0.5466,\n          0.8332, 0.6691, 0.7956, 0.6746, 0.0173, 0.9697, 0.9360, 0.9756, 0.7553,\n          0.6841, 0.7329, 0.7601, 0.7043, 0.9888, 0.6792, 0.7220, 0.7634, 0.7452,\n          0.7196, 0.0142, 0.8896, 0.9241, 0.9374, 0.7755, 0.6782, 0.9303, 0.9775,\n          0.9144, 0.9127, 0.6495, 0.9608, 0.9676, 0.7805, 0.6050, 0.6646, 0.7445,\n          0.8224]),\n  'pred_dS': tensor([-0.6103, -0.7871,  0.0118, -0.6664, -0.7849, -0.8892, -0.9293, -0.4867,\n          -0.7122, -0.7735,  0.1567, -0.8317, -0.7781, -0.7631, -0.6959, -0.7718,\n          -0.6449, -0.6992,  0.1944, -0.7243, -0.6568, -0.8032, -0.7515, -0.7873,\n          -0.7151, -0.7641, -0.8738, -0.7735, -0.8161, -0.8199, -0.8817, -0.7759,\n          -0.8232, -0.7224, -0.7495, -0.8559, -0.6307, -0.7170, -0.9179, -0.9359,\n          -0.7440, -0.7077, -0.7107,  0.2511, -0.7730, -0.7540, -0.8996, -0.6350,\n          -0.8622, -0.7305, -0.5100, -0.7900, -0.7336, -0.7391, -0.7263, -0.6910,\n          -0.6458, -0.4691, -0.7378, -0.8282, -0.8127, -0.1009, -0.7162, -0.7216])},\n {'recon_tokens': tensor([[ 8, 11, 12,  ...,  5,  4, 16],\n          [ 8, 11, 12,  ...,  5,  4, 16],\n          [ 8, 13, 12,  ...,  5,  4, 16],\n          ...,\n          [ 8, 11, 12,  ...,  5,  4, 20],\n          [ 8, 11,  8,  ...,  5,  4, 16],\n          [ 8, 11, 12,  ...,  5,  4, 16]]),\n  'tokens': tensor([[ 8, 11, 12,  ...,  5,  4, 16],\n          [ 8, 11, 12,  ...,  5,  4, 16],\n          [ 8, 13, 12,  ...,  5,  4, 16],\n          ...,\n          [15, 11, 12,  ...,  5,  4, 10],\n          [ 8, 11, 22,  ...,  5,  4, 16],\n          [ 8, 11, 12,  ...,  5,  4, 16]]),\n  'ddG': tensor([-0.6073, -0.9505, -0.5598, -0.7502, -0.0105, -0.8633, -0.7834, -0.1403,\n          -2.5803, -1.1687, -1.4891, -0.2850, -1.7675, -1.4637, -1.3953, -0.3223,\n          -1.1953, -0.9479, -1.1139, -0.5883, -0.4834, -0.1572, -0.3028, -1.5353,\n          -0.4548, -0.0920, -0.8794, -0.6010, -1.6176, -1.6818, -1.1889, -0.6287,\n          -1.3402, -0.3765, -0.8865, -0.1631, -0.3639, -1.2833, -0.2581, -2.0490,\n          -1.7093, -0.3446, -0.4253, -0.7885, -0.0494, -0.6873, -0.0461, -0.2836,\n          -1.5274, -1.7201, -1.2825, -0.2346, -0.3345, -1.1258, -0.6277, -0.8664,\n          -3.2068, -1.1743, -1.3036, -0.1565, -0.0680, -3.8840, -0.1278, -1.9448]),\n  'dS': tensor([0.0170, 0.0170, 0.0170, 0.0430, 0.0170, 0.0170, 0.0170, 0.0170, 0.0170,\n          0.0170, 0.0170, 0.0170, 0.0170, 0.0170, 0.0170, 0.0600, 0.0170, 0.0430,\n          0.0170, 0.0170, 0.0170, 0.0310, 0.0170, 0.0170, 0.0170, 0.0170, 0.0170,\n          0.0170, 0.0170, 0.0050, 0.0430, 0.0170, 0.0170, 0.0170, 0.0170, 0.0170,\n          0.0170, 0.0170, 0.0170, 0.0170, 0.0170, 0.0170, 0.0170, 0.0170, 0.0170,\n          0.0170, 0.0170, 0.0170, 0.0170, 0.0050, 0.0170, 0.0170, 0.0170, 0.0170,\n          0.0050, 0.0170, 0.0170, 0.0170, 0.0170, 0.0170, 0.0170, 0.0170, 0.0170,\n          0.0170]),\n  'mean': tensor([[-1.0536, -0.3513, -2.3397,  ..., -1.1050,  2.9122, -2.3703],\n          [-1.3803, -0.6549, -3.1460,  ..., -1.2154,  2.7272, -2.4578],\n          [-1.1443, -0.4190, -2.7878,  ..., -0.3707,  1.9653, -1.4792],\n          ...,\n          [ 0.4242, -0.0372,  1.6799,  ...,  2.3338, -0.1689,  0.2128],\n          [-0.5682, -0.0735, -0.4471,  ..., -0.2254,  2.0321, -1.8668],\n          [-0.2287, -0.6867, -1.6551,  ...,  3.6503, -1.6494,  2.1369]]),\n  'logvar': tensor([[ 1.3262, -2.5818, -1.0148,  ...,  2.2197, -4.7275, -3.8140],\n          [ 1.6244, -2.6030, -1.1804,  ..., -1.1869,  1.0159,  1.3888],\n          [ 1.1155, -1.5551, -0.6642,  ...,  2.8766, -5.0529, -4.4356],\n          ...,\n          [-0.3178,  0.2430,  0.5575,  ..., -0.5444, -0.3933,  0.3563],\n          [ 0.8803, -1.5634, -0.5852,  ..., -0.4621, -0.8947,  0.3553],\n          [-1.7047,  2.3040,  1.4469,  ...,  0.5222, -0.5166, -0.6643]]),\n  'z': tensor([[-1.0536, -0.3513, -2.3397,  ..., -1.1050,  2.9122, -2.3703],\n          [-1.3803, -0.6549, -3.1460,  ..., -1.2154,  2.7272, -2.4578],\n          [-1.1443, -0.4190, -2.7878,  ..., -0.3707,  1.9653, -1.4792],\n          ...,\n          [ 0.4242, -0.0372,  1.6799,  ...,  2.3338, -0.1689,  0.2128],\n          [-0.5682, -0.0735, -0.4471,  ..., -0.2254,  2.0321, -1.8668],\n          [-0.2287, -0.6867, -1.6551,  ...,  3.6503, -1.6494,  2.1369]]),\n  'pred_ddG': tensor([0.9276, 0.9332, 0.6299, 0.7802, 0.9047, 0.9302, 0.1057, 0.9813, 0.7789,\n          0.8145, 0.8333, 0.9822, 0.8529, 0.1250, 0.8722, 0.9737, 0.9303, 0.7222,\n          0.9298, 0.8642, 0.7624, 0.6867, 0.9227, 0.4692, 0.9406, 0.9698, 0.5838,\n          0.7735, 0.6847, 0.8795, 0.5359, 0.9456, 0.9202, 0.8962, 0.8790, 0.9799,\n          0.8579, 0.9331, 0.9418, 0.6584, 0.9751, 0.9069, 0.8812, 0.9679, 0.8357,\n          0.9649, 0.8955, 0.7925, 0.9579, 0.7503, 0.8740, 0.9023, 0.7714, 0.9086,\n          0.9270, 0.8962, 0.4223, 0.6073, 0.6646, 0.9579, 0.7069, 0.2089, 0.8075,\n          0.7137]),\n  'pred_dS': tensor([-0.5875, -0.7079, -0.7220,  0.2022, -0.6803, -0.7707, -0.7267, -0.7508,\n          -0.8282, -0.7732, -0.6338, -0.7051, -0.7958, -0.8263, -0.7738, -0.4383,\n          -0.4937, -0.1179, -0.7339, -0.8436, -0.8475, -0.2646, -0.6827, -0.8119,\n          -0.7633, -0.7516, -0.7782, -0.7817, -0.7283, -0.9053,  0.2774, -0.7263,\n          -0.7682, -0.6375, -0.7269, -0.6999, -0.6658, -0.7509, -0.6772, -0.7387,\n          -0.7553, -0.7941, -0.7020, -0.5762, -0.7232, -0.6936, -0.8530, -0.7530,\n          -0.7877, -0.9122, -0.7138, -0.8028, -0.7254, -0.6970, -0.8583, -0.7033,\n          -0.8483, -0.8489, -0.8050, -0.6179, -0.7385, -0.8273, -0.7355, -0.7952])},\n {'recon_tokens': tensor([[ 8, 11, 12,  9,  9, 16,  5, 15, 11, 18,  4, 13, 15, 18, 17, 21,  9,  5,\n            9, 13,  4, 18, 19, 16,  8,  8,  4, 21,  8, 22, 17, 19, 17, 11, 17, 12,\n           11,  9,  9, 17,  7, 16, 17, 20, 17, 17,  5,  6, 13, 15, 22,  8,  5, 18,\n            4, 15,  9, 16,  8, 15,  4,  5, 16, 20, 19, 14,  4, 16,  9, 12, 16, 17,\n            4, 15,  7, 15,  4, 16,  4, 16,  5,  4, 16],\n          [ 8,  9, 12,  9,  9, 16,  5, 15, 11, 18,  4, 13, 15, 18, 17, 21,  9,  5,\n            9, 13,  4, 18, 19, 16,  8,  8,  4,  5,  8, 22, 17, 19, 17, 11, 17, 12,\n           11,  9,  9, 17,  9, 16, 17, 20, 17, 17,  5,  6, 13, 15, 22,  8,  5, 18,\n            4, 15,  9, 16,  8, 11,  4,  5, 16, 20, 19, 14,  4, 16,  9, 12, 16, 17,\n            4, 11,  7, 15,  4, 16,  4, 16,  5,  4, 16],\n          [ 8,  9, 12,  9,  9, 16,  5, 15, 11, 18,  4, 13, 15, 18, 17, 21,  9,  5,\n            9, 13,  4, 19, 19, 16,  8,  8,  4,  5,  8, 22, 17, 19, 17, 11, 17, 12,\n           11,  9,  9, 17,  7, 16,  8, 20, 17, 15,  5,  6, 13, 15, 22,  8,  5, 18,\n            4, 15,  9, 16,  8, 15,  4,  5, 16, 20, 19, 14,  4, 16,  9, 12, 16, 17,\n            4, 11,  7, 15,  4, 16,  4, 16,  5,  4, 16],\n          [ 8, 11, 12,  9,  9, 16,  5, 15, 11, 18,  4, 13, 15, 18,  9, 13,  9,  5,\n            9, 13,  4, 18, 19, 16, 19,  8,  4,  5, 20, 22, 17, 19, 17, 11, 17, 12,\n           11,  9,  9, 17,  7, 16, 17, 20, 17, 17,  5,  6, 13, 15, 22,  8,  5, 18,\n            4, 15,  9, 16,  8, 11,  4,  5, 16, 20, 19, 14,  4, 16,  9, 12, 16, 17,\n            4, 11,  7, 15,  4, 16,  4, 16,  5,  4, 16],\n          [ 8, 11, 12,  9,  9, 16,  5, 15, 11, 18,  4, 13, 15, 18, 17, 21,  9,  5,\n            9, 13,  4, 18, 19, 16,  8, 13,  4,  5, 10, 22, 17, 19, 17, 11, 17, 12,\n           11,  9,  9, 17,  7, 16, 17, 20, 17, 17,  5,  6, 13, 15, 22,  8,  5, 18,\n            4, 15,  9, 16,  8, 11,  4,  5, 16, 20, 19, 14,  4, 16,  9, 12, 16, 17,\n            4, 11,  7, 15,  4, 16,  4, 16,  5,  4, 16],\n          [ 8, 11, 12,  9,  9, 16,  5, 15, 11, 18,  4, 13, 15, 18, 17, 21,  9,  5,\n            9, 13,  4, 18, 19, 16,  8,  8,  4,  5,  8, 22, 22, 19, 17, 11, 17, 12,\n           11,  9,  9, 17,  7, 16, 17, 20, 17, 17,  9,  6, 13, 15, 22,  8,  5, 18,\n            4, 15,  9, 16,  8,  9,  4,  5, 16, 20, 19, 14,  4, 16,  9, 12, 16, 17,\n            4, 11,  7, 15,  4, 16,  4, 16,  5,  4, 16],\n          [ 8, 11, 12,  9,  9, 16,  5, 15, 11, 18,  4, 13, 15, 18, 17, 21,  9,  5,\n            9, 13,  4, 18, 19, 16, 20,  8,  4,  5,  8, 22, 17, 19, 17, 11, 17, 12,\n           11,  9,  9, 17,  7, 16, 17, 20, 17, 17,  5,  6,  9, 15, 22,  8,  5, 18,\n            4, 15,  9, 16,  8, 11,  4,  5, 16, 20, 19, 14,  4, 16,  9, 12, 16, 17,\n            4, 11,  7, 15,  4, 16,  4, 16,  9,  4, 16],\n          [ 8, 13, 12,  9,  9, 16,  5, 15, 20, 18,  4, 13, 15, 18, 17, 21,  9,  5,\n            9, 13,  4, 18, 19, 16,  8,  8,  4,  5,  8, 22, 17, 19, 17, 11, 17, 12,\n           11,  9,  9, 17,  7, 16, 17, 20, 17, 17,  5,  6, 13, 15, 22,  8,  5, 18,\n            4, 15,  9, 16,  8, 11,  4,  5, 16, 20, 19, 14,  4, 16,  9, 12, 16, 17,\n            4, 11,  7, 15,  4, 16,  4, 16,  5,  4, 16],\n          [ 8, 13, 12,  9,  9, 16,  5, 15, 11, 18,  4, 13, 15, 18, 17, 21,  9,  5,\n            9, 13,  4, 18, 19, 16,  8,  8,  4,  9,  8, 22, 17, 19, 17, 11, 17, 12,\n           11,  9,  9, 17,  7, 16, 17, 20, 17, 17,  5,  6, 13, 15, 22,  8,  5, 18,\n            4, 15,  9, 16,  8, 11,  4,  5, 16, 20, 19, 14,  4, 16,  9, 12, 16, 17,\n            4, 11,  7, 15,  4, 16,  4, 16,  5,  4, 16]]),\n  'tokens': tensor([[ 8, 11, 12,  9,  9, 16,  5, 15, 11, 18,  4, 13, 15, 18, 17, 21,  9,  5,\n            9, 13,  4, 18, 19, 16,  8,  8,  4, 21,  8, 22, 17, 19, 17, 11, 17, 12,\n           11,  9,  9, 17,  7, 16, 17, 20, 17, 17,  5,  6, 13, 15, 22,  8,  5, 18,\n            4, 15,  9, 16,  8, 15,  4,  5, 16, 20, 19, 14,  4, 16,  9, 12, 16, 17,\n            4,  9,  7, 15,  4, 16,  4, 16,  5,  4, 16],\n          [ 8,  9, 12,  9,  9, 16,  5, 15, 11, 18,  4, 13, 15, 18, 17, 21, 15,  5,\n            9, 13,  4, 18, 19, 16,  8,  8,  4,  5,  8, 22, 17, 19, 17, 11, 17, 12,\n           11,  9,  9, 17,  9, 16, 17, 20, 17, 17,  5,  6, 13, 15, 22,  8,  5, 18,\n            4, 15,  9, 16,  8, 11,  4,  5, 16, 20, 19, 14,  4, 16,  9, 12, 16, 17,\n            4, 11,  7, 15,  4, 16,  4, 16,  5,  4, 16],\n          [ 8,  9, 12,  9,  9, 16,  5, 15, 11, 18,  4, 13, 15, 18, 17, 21,  9,  5,\n            9, 13,  4, 15, 19, 16,  8,  8,  4,  5,  8, 22, 17, 19, 17, 11, 17, 12,\n           11,  9,  9, 17,  7, 16, 15, 20, 17, 21, 19,  6, 13, 15, 22,  8,  5, 18,\n            4, 15,  9, 16,  8, 19,  4,  5, 16, 20, 19, 14,  4, 16,  9, 12, 16, 17,\n            4, 11,  7, 15,  4, 16,  4, 16,  5,  4, 16],\n          [ 8, 11, 12,  9,  9, 16,  5, 15, 11, 18,  4, 13, 15, 18,  9, 13,  9,  5,\n            9, 13,  4, 18, 19, 16, 16,  8,  4,  5, 20, 22, 17, 19, 17, 11, 17, 12,\n           11,  9,  9, 17,  7, 16, 17, 20, 17, 17,  5,  6, 13, 15, 22,  8,  5, 18,\n            4, 15,  9, 16,  8, 11,  4,  5, 16, 20, 19, 14,  4, 16,  9, 12, 16, 17,\n            4, 11,  7, 15,  4, 16,  4, 16,  5,  4, 16],\n          [ 8, 11, 12,  9,  9, 16,  5, 15, 11, 18,  4, 13, 15, 18, 17, 21,  9,  5,\n            9, 13,  4, 18, 19, 16,  8, 13,  4,  5, 10, 22, 17, 19, 17, 11, 17, 12,\n           11,  9,  9, 17,  7, 16, 17, 20, 17, 17,  5,  6, 13, 15, 22,  8,  5, 18,\n            4, 15,  9, 16,  8, 11,  4,  5, 16, 20, 19, 14,  4, 16,  9, 12, 16, 17,\n            4, 11,  7, 15,  4, 16,  4, 16,  5,  4, 16],\n          [ 8, 11, 12,  9,  9, 16,  5, 15, 11, 18,  4, 13, 15, 18, 17, 21,  9,  5,\n            9, 13,  4, 18, 19, 16,  8,  8,  4,  5,  8, 22, 22, 19, 17, 11, 17, 12,\n           11,  9,  9, 17,  7, 16, 17, 20, 17, 17,  4,  6, 13, 15, 22,  8,  5, 18,\n            4, 15,  9, 16,  8,  9,  4,  5, 16, 20, 19, 14,  4, 16,  9, 12, 16, 17,\n            4, 11,  7, 15,  4, 16,  4, 16,  5,  4, 16],\n          [ 8, 11, 12,  9,  9, 16,  5, 15, 11, 18,  4, 13, 15, 18, 17, 21,  9,  5,\n            9, 13,  4, 18, 19, 16, 20,  8,  4,  5,  8, 22, 17, 19, 17, 11, 17, 12,\n           11,  9,  9, 17,  7, 16, 17, 20, 17, 17,  5,  6,  9, 15, 22,  8,  5, 18,\n            4, 15,  9, 16,  8, 11,  4,  5, 16, 20, 19, 14,  4, 16,  9, 12, 16, 17,\n            4, 11,  7, 15,  4, 16,  4, 16,  9,  4, 16],\n          [ 8, 13, 12,  9,  9, 16,  5, 15, 20, 18,  4, 13, 15, 18, 17, 21,  9,  5,\n            9, 13,  4, 18, 19, 16,  8,  8,  4,  5,  8, 22, 17, 19, 17, 11, 17, 12,\n           11,  9,  9, 17,  7, 16, 17, 20, 17, 17,  5,  6, 13, 15, 22,  8,  5, 18,\n            4, 15,  9, 16,  8, 11,  6,  5, 16, 20, 19, 14,  4, 16,  9, 12, 16, 17,\n            4, 11,  7, 15,  4, 16,  4, 16,  5,  4, 16],\n          [ 8, 13, 12,  9,  9, 16,  5, 15, 11, 18,  4, 13, 15, 18, 17, 21,  9,  5,\n            9, 13,  4, 18, 19, 16,  8,  8,  4,  9,  8, 22, 17, 19, 17, 11, 17, 12,\n           11,  9,  9, 17,  7, 16, 17, 20, 17, 17,  5,  6, 13, 15, 22,  8,  5, 18,\n            4, 15,  9, 16,  8, 11,  4,  5, 16, 20, 19, 14,  4, 16,  9, 12, 16, 17,\n            4, 11,  7, 15,  4, 16,  4, 16,  5,  4, 16]]),\n  'ddG': tensor([-1.1431, -0.8414, -1.0857, -0.7078, -0.4275, -1.6738, -1.9267, -1.3416,\n          -1.8427]),\n  'dS': tensor([0.0050, 0.0170, 0.0050, 0.0170, 0.0170, 0.0170, 0.0170, 0.0170, 0.0170]),\n  'mean': tensor([[-1.0466, -0.7691, -2.7276,  ..., -1.7457,  3.1045, -2.7492],\n          [-1.2931, -0.4170, -2.7423,  ...,  1.9830, -0.2324,  0.0816],\n          [-1.3304,  0.0231, -2.2464,  ...,  1.3434,  0.7183, -0.2696],\n          ...,\n          [-0.6160, -0.4414, -2.4484,  ...,  0.8008,  1.2272, -0.5501],\n          [-1.1963, -0.7013, -2.7813,  ..., -1.4090,  2.9083, -2.5351],\n          [-1.0709, -0.3259, -3.0878,  ..., -0.6474,  2.0703, -1.6438]]),\n  'logvar': tensor([[ 2.0679, -3.0530, -1.2317,  ...,  0.8548, -1.8861, -1.2528],\n          [-0.5307,  0.5988,  0.0532,  ..., -0.8849,  0.3832,  0.6356],\n          [-0.2699, -0.0973,  0.2013,  ...,  1.5860, -2.9436, -2.5854],\n          ...,\n          [ 0.8866, -1.0339, -0.0194,  ...,  0.0889, -0.0320, -0.1170],\n          [ 1.6481, -2.5620, -1.2292,  ...,  1.8545, -4.7594, -3.4730],\n          [ 1.5840, -1.9445, -0.7641,  ...,  2.9779, -5.2601, -4.5749]]),\n  'z': tensor([[-1.0466, -0.7691, -2.7276,  ..., -1.7457,  3.1045, -2.7492],\n          [-1.2931, -0.4170, -2.7423,  ...,  1.9830, -0.2324,  0.0816],\n          [-1.3304,  0.0231, -2.2464,  ...,  1.3434,  0.7183, -0.2696],\n          ...,\n          [-0.6160, -0.4414, -2.4484,  ...,  0.8008,  1.2272, -0.5501],\n          [-1.1963, -0.7013, -2.7813,  ..., -1.4090,  2.9083, -2.5351],\n          [-1.0709, -0.3259, -3.0878,  ..., -0.6474,  2.0703, -1.6438]]),\n  'pred_ddG': tensor([0.6860, 0.7426, 0.5204, 0.9738, 0.8309, 0.6960, 0.1450, 0.5934, 0.3799]),\n  'pred_dS': tensor([-0.9361, -0.8175, -0.7578, -0.7155, -0.7505, -0.7217, -0.7686, -0.4739,\n          -0.7974])}]"
     },
     "execution_count": 20,
     "metadata": {},
     "output_type": "execute_result"
    }
   ],
   "source": [
    "pl_data_module.prepare_predict_data(predict_data='test')\n",
    "predictions = trainer.predict(model=pl_model, datamodule=pl_data_module)\n",
    "predictions"
   ],
   "metadata": {
    "collapsed": false,
    "ExecuteTime": {
     "end_time": "2023-11-26T18:32:19.092545200Z",
     "start_time": "2023-11-26T18:32:18.082430300Z"
    }
   }
  },
  {
   "cell_type": "code",
   "execution_count": 20,
   "outputs": [],
   "source": [],
   "metadata": {
    "collapsed": false,
    "ExecuteTime": {
     "end_time": "2023-11-26T18:32:19.099576300Z",
     "start_time": "2023-11-26T18:32:19.092545200Z"
    }
   }
  },
  {
   "cell_type": "code",
   "execution_count": 20,
   "outputs": [],
   "source": [],
   "metadata": {
    "collapsed": false,
    "ExecuteTime": {
     "end_time": "2023-11-26T18:32:19.105580500Z",
     "start_time": "2023-11-26T18:32:19.101564800Z"
    }
   }
  },
  {
   "cell_type": "code",
   "execution_count": 20,
   "outputs": [],
   "source": [],
   "metadata": {
    "collapsed": false,
    "ExecuteTime": {
     "end_time": "2023-11-26T18:32:19.105580500Z",
     "start_time": "2023-11-26T18:32:19.104564500Z"
    }
   }
  },
  {
   "cell_type": "code",
   "execution_count": 20,
   "outputs": [],
   "source": [],
   "metadata": {
    "collapsed": false,
    "ExecuteTime": {
     "end_time": "2023-11-26T18:32:19.114101300Z",
     "start_time": "2023-11-26T18:32:19.105580500Z"
    }
   }
  },
  {
   "cell_type": "code",
   "execution_count": 20,
   "outputs": [],
   "source": [],
   "metadata": {
    "collapsed": false,
    "ExecuteTime": {
     "end_time": "2023-11-26T18:32:19.115096500Z",
     "start_time": "2023-11-26T18:32:19.110651900Z"
    }
   }
  }
 ],
 "metadata": {
  "kernelspec": {
   "name": "conda-env-deco-py",
   "language": "python",
   "display_name": "Python [conda env:deco]"
  },
  "language_info": {
   "codemirror_mode": {
    "name": "ipython",
    "version": 2
   },
   "file_extension": ".py",
   "mimetype": "text/x-python",
   "name": "python",
   "nbconvert_exporter": "python",
   "pygments_lexer": "ipython2",
   "version": "2.7.6"
  }
 },
 "nbformat": 4,
 "nbformat_minor": 0
}
