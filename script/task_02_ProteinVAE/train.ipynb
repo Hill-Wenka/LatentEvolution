{
 "cells": [
  {
   "cell_type": "code",
   "execution_count": 1,
   "outputs": [
    {
     "name": "stdout",
     "output_type": "stream",
     "text": [
      "/home/hew/python/LatentEvolution\n",
      "\u001B[0m\u001B[01;34mcache\u001B[0m/  \u001B[01;34mdata\u001B[0m/  \u001B[01;34mfigure\u001B[0m/  \u001B[01;34mframework\u001B[0m/  main.py  \u001B[01;34mscript\u001B[0m/  \u001B[01;34mtemp\u001B[0m/\r\n"
     ]
    }
   ],
   "source": [
    "%load_ext autoreload\n",
    "%autoreload 2\n",
    "%cd \"python/LatentEvolution\"\n",
    "%ls"
   ],
   "metadata": {
    "collapsed": false,
    "ExecuteTime": {
     "end_time": "2023-11-14T19:29:41.242868700Z",
     "start_time": "2023-11-14T19:29:41.068328800Z"
    }
   }
  },
  {
   "cell_type": "code",
   "execution_count": 1,
   "outputs": [],
   "source": [],
   "metadata": {
    "collapsed": false,
    "ExecuteTime": {
     "end_time": "2023-11-14T19:29:41.250372400Z",
     "start_time": "2023-11-14T19:29:41.242868700Z"
    }
   }
  },
  {
   "cell_type": "code",
   "execution_count": 2,
   "outputs": [
    {
     "name": "stdout",
     "output_type": "stream",
     "text": [
      "========== add root_path and framework_path to sys.path ==========\n",
      "root_path: /home/hew/python/LatentEvolution\n",
      "framework_path: /home/hew/python/LatentEvolution/framework\n",
      "==================================================================\n"
     ]
    }
   ],
   "source": [
    "import gc\n",
    "\n",
    "import torch\n",
    "\n",
    "from framework.config import parse_config, paths\n",
    "from framework.utils.lightning.device_utils import seed_everything\n",
    "from framework.utils.lightning.trainer_utils import get_pl_trainer\n",
    "from script.task_02_ProteinVAE.ProteinVAE.sequence_data_module import SequenceDataModule\n",
    "from script.task_02_ProteinVAE.ProteinVAE.sequence_lightning_module import SequenceLightningModule"
   ],
   "metadata": {
    "collapsed": false,
    "ExecuteTime": {
     "end_time": "2023-11-14T19:29:45.012975400Z",
     "start_time": "2023-11-14T19:29:41.249868800Z"
    }
   }
  },
  {
   "cell_type": "code",
   "execution_count": 2,
   "outputs": [],
   "source": [],
   "metadata": {
    "collapsed": false,
    "ExecuteTime": {
     "end_time": "2023-11-14T19:29:45.021299700Z",
     "start_time": "2023-11-14T19:29:45.017984900Z"
    }
   }
  },
  {
   "cell_type": "code",
   "execution_count": 3,
   "outputs": [],
   "source": [
    "update_dict = {\n",
    "    'project': 'ProteinVAE',\n",
    "    'seed': 42,\n",
    "    'logger': {\n",
    "        'save_dir': './script/task_02_ProteinVAE/'\n",
    "    },\n",
    "    'data': {\n",
    "        'dataset': 'ACE2_variants_2k',\n",
    "        # 'dataset': 'ACE2_variants_1000',\n",
    "        'data_class': 'Protein',\n",
    "        'mini_set_ratio': None,\n",
    "        'max_len': 83,\n",
    "    },\n",
    "    # VAE v2\n",
    "    # 'hparams': {\n",
    "    #     'encoder_params': {\n",
    "    #         'num_layers': 4,\n",
    "    #         'embed_dim': 1280,\n",
    "    #         'attention_heads': 20,\n",
    "    #         'alphabet': 'ESM-1b',\n",
    "    #         'token_dropout': False,\n",
    "    #         'embedding_layer': True,\n",
    "    #         'lm_head': False,\n",
    "    #         'return_layer': -1,\n",
    "    #     },\n",
    "    #     'encoder_mlp': {\n",
    "    #         'hiddens': [1280, 512, 256],\n",
    "    #         'activation': 'ReLU',\n",
    "    #         'batch_norm': False,\n",
    "    #         'layer_norm': True,\n",
    "    #         'bias': True,\n",
    "    #         'dropout': 0.1,\n",
    "    #     },\n",
    "    #     'encoder_mapping': {\n",
    "    #         'hiddens': [85 * 256, 4],\n",
    "    #         'activation': 'ReLU',\n",
    "    #         'batch_norm': True,\n",
    "    #         'layer_norm': False,\n",
    "    #         'bias': True,\n",
    "    #         'dropout': 0.1,\n",
    "    #     },\n",
    "    #     'decoder_mapping': {\n",
    "    #         'hiddens': [4 // 2, 85 * 256],\n",
    "    #         'activation': 'ReLU',\n",
    "    #         'batch_norm': True,\n",
    "    #         'layer_norm': False,\n",
    "    #         'bias': True,\n",
    "    #         'dropout': 0.1,\n",
    "    #     },\n",
    "    #     'decoder_mlp': {\n",
    "    #         'hiddens': [256, 512, 1280],\n",
    "    #         'activation': 'ReLU',\n",
    "    #         'batch_norm': False,\n",
    "    #         'layer_norm': True,\n",
    "    #         'bias': True,\n",
    "    #         'dropout': 0.1,\n",
    "    #     },\n",
    "    #     'decoder_params': {\n",
    "    #         'num_layers': 4,\n",
    "    #         'embed_dim': 1280,\n",
    "    #         'attention_heads': 20,\n",
    "    #         'alphabet': 'ESM-1b',\n",
    "    #         'token_dropout': False,\n",
    "    #         'embedding_layer': False,\n",
    "    #         'lm_head': False,\n",
    "    #         'return_layer': -1,\n",
    "    #     },\n",
    "\n",
    "    # VAE v3 standard\n",
    "    'hparams': {\n",
    "        'encoder_transformer': {\n",
    "            'num_layers': 4,\n",
    "            'embed_dim': 128,\n",
    "            'attention_heads': 16,\n",
    "            'alphabet': 'ESM-1b',\n",
    "            'token_dropout': False,\n",
    "            'embedding_layer': True,\n",
    "            'lm_head': False,\n",
    "            'return_layer': -1,\n",
    "        },\n",
    "        'encoder_mlp': {\n",
    "            'hiddens': [128, 64, 32],\n",
    "            'activation': 'ReLU',\n",
    "            'batch_norm': False,\n",
    "            'layer_norm': True,\n",
    "            'bias': True,\n",
    "            'dropout': 0.05,\n",
    "        },\n",
    "        'decoder_mlp': {\n",
    "            'hiddens': [32 // 2, 64, 128],\n",
    "            'activation': 'ReLU',\n",
    "            'batch_norm': False,\n",
    "            'layer_norm': True,\n",
    "            'bias': True,\n",
    "            'dropout': 0.05,\n",
    "        },\n",
    "        'decoder_transformer': {\n",
    "            'num_layers': 4,\n",
    "            'embed_dim': 128,\n",
    "            'attention_heads': 16,\n",
    "            'alphabet': 'ESM-1b',\n",
    "            'token_dropout': False,\n",
    "            'embedding_layer': False,\n",
    "            'lm_head': False,\n",
    "            'return_layer': -1,\n",
    "        },\n",
    "        'regressor_head': {\n",
    "            'hiddens': [85 * 32 // 2, 256, 128, 2],  # concat_h as input: L*D/2\n",
    "            # 'hiddens': [32, 16, 2],  # position_h <cls> after pooling as input: D\n",
    "            # 'hiddens': [128, 16, 2],  # position_h <cls> before pooling as input: H\n",
    "            'activation': 'ReLU',\n",
    "            'batch_norm': True,\n",
    "            'bias': True,\n",
    "            'dropout': 0.05,\n",
    "        },\n",
    "        # 'regressor_head': None,\n",
    "        'reparameterization': False,\n",
    "    },\n",
    "    'loss': {\n",
    "        'ce_loss': {'name': 'CrossEntropy', 'args': {}},\n",
    "        'mse_loss': {'name': 'MSELoss', 'args': {}},\n",
    "        'mmd_loss': {'name': 'MMDLoss', 'args': {'sigma': 20}},\n",
    "        'ce_weight': 1.0,\n",
    "        'mse_weight': 1000.0,\n",
    "        'reg_weight': 0.1,\n",
    "    },\n",
    "    'optimizer': {\n",
    "        # 'name': 'Adam',\n",
    "        'name': 'RAdam',\n",
    "        # 'name': 'AdamW',\n",
    "        'args': {\n",
    "            # 'lr': 0.001,\n",
    "            'lr': 0.0005,\n",
    "            # 'lr': 0.0002,\n",
    "            # 'lr': 0.0001,\n",
    "        }\n",
    "    },\n",
    "    'scheduler': {\n",
    "        # 'name': None,\n",
    "        # 'args': {},\n",
    "        'name': 'LinearLR',\n",
    "        'interval': 'step',\n",
    "        'frequency': 1,\n",
    "        'args': {\n",
    "            'start_factor': 1,\n",
    "            'end_factor': 0.01,\n",
    "            'total_iters': 25 * 100 * 5\n",
    "        },\n",
    "    },\n",
    "    'trainer': {\n",
    "        # 'max_epochs': 50,\n",
    "        'max_epochs': 100,\n",
    "        'gradient_clip_val': 1.0,\n",
    "        'gradient_clip_algorithm': 'norm',\n",
    "        'accumulate_grad_batches': 1,\n",
    "        'num_sanity_val_steps': 2,\n",
    "        'val_check_interval': 0.5,\n",
    "        'enable_checkpointing': True,\n",
    "        # 'enable_checkpointing': False,\n",
    "    },\n",
    "    'early_stop_callback': {\n",
    "        'monitor': 'valid/loss_epoch',\n",
    "        'mode': 'min',\n",
    "    },\n",
    "    'ckpt_callback': {\n",
    "        'monitor': 'valid/loss_epoch',\n",
    "        'filename': 'epoch={epoch:02d}, loss={valid/loss_epoch:.3f}, ce={valid/ce_epoch:.3f}, reg={valid/reg_epoch:.3f}, mse={valid/mse_epoch:.3f}, ddG={valid/ddG_pearsonr_epoch:.3f}, dS={valid/dS_pearsonr_epoch:.3f}',\n",
    "        'auto_insert_metric_name': False,\n",
    "        'save_weights_only': True,\n",
    "        'mode': 'min',\n",
    "        'save_top_k': 50,\n",
    "        'save_last': True,\n",
    "    },\n",
    "    # 'ckpt_callback': None,\n",
    "    'train_dataloader': {\n",
    "        # 'batch_size': 32,\n",
    "        'batch_size': 64,\n",
    "        # 'batch_size': 128,\n",
    "        # 'batch_size': 256,\n",
    "        'num_workers': 4,\n",
    "        'drop_last': True,\n",
    "    },\n",
    "    'valid_dataloader': {\n",
    "        # 'batch_size': 32,\n",
    "        'batch_size': 64,\n",
    "        # 'batch_size': 128,\n",
    "        # 'batch_size': 256,\n",
    "        'num_workers': 4,\n",
    "    },\n",
    "    'test_dataloader': {\n",
    "        # 'batch_size': 32,\n",
    "        'batch_size': 64,\n",
    "        # 'batch_size': 128,\n",
    "        # 'batch_size': 256,\n",
    "        'num_workers': 4,\n",
    "    },\n",
    "    'predict_dataloader': {\n",
    "        # 'batch_size': 32,\n",
    "        'batch_size': 64,\n",
    "        # 'batch_size': 128,\n",
    "        # 'batch_size': 256,\n",
    "        'num_workers': 4,\n",
    "    },\n",
    "}\n",
    "dataset_hparams = paths.script + '/task_02_ProteinVAE/ProteinVAE/dataset.yaml'\n",
    "model_hparams = paths.script + '/task_02_ProteinVAE/ProteinVAE/model.yaml'\n",
    "framework_hparams = paths.script + '/task_02_ProteinVAE/ProteinVAE/framework.yaml'\n",
    "args = parse_config([dataset_hparams, model_hparams, framework_hparams, update_dict])"
   ],
   "metadata": {
    "collapsed": false,
    "ExecuteTime": {
     "end_time": "2023-11-14T19:29:45.224697200Z",
     "start_time": "2023-11-14T19:29:45.028296800Z"
    }
   }
  },
  {
   "cell_type": "code",
   "execution_count": 4,
   "outputs": [
    {
     "data": {
      "text/plain": "{'project': 'ProteinVAE', 'dataset': 'template', 'model': '/home/hew/python/LatentEvolution/framework/config/model/template.yaml', 'seed': 42, 'tokenization': {'alphabet': 'ESM-1b', 'truncation_seq_length': None}, 'train_dataloader': {'batch_size': 64, 'num_workers': 4, 'shuffle': True, 'drop_last': True, 'pin_memory': True, 'persistent_workers': True}, 'valid_dataloader': {'batch_size': 64, 'num_workers': 4, 'shuffle': False, 'pin_memory': True, 'persistent_workers': True}, 'test_dataloader': {'batch_size': 64, 'num_workers': 4, 'shuffle': False, 'pin_memory': True, 'persistent_workers': True}, 'predict_dataloader': {'batch_size': 64, 'num_workers': 4, 'shuffle': False, 'pin_memory': True, 'persistent_workers': True}, 'trainer': {'max_epochs': 100, 'accelerator': 'auto', 'strategy': 'auto', 'devices': 'auto', 'deterministic': False, 'benchmark': True, 'sync_batchnorm': True, 'log_every_n_steps': 1, 'check_val_every_n_epoch': 1, 'fast_dev_run': False, 'num_sanity_val_steps': 2, 'enable_model_summary': True, 'reload_dataloaders_every_n_epochs': 0, 'gradient_clip_val': 1.0, 'gradient_clip_algorithm': 'norm', 'enable_checkpointing': True, 'accumulate_grad_batches': 1, 'val_check_interval': 0.5}, 'logger': {'save_dir': './script/task_02_ProteinVAE/', 'name': 'lightning_logs'}, 'progress_bar_callback': {'refresh_rate': 1, 'process_position': 0}, 'ckpt_callback': {'monitor': 'valid/loss_epoch', 'filename': 'epoch={epoch:02d}, loss={valid/loss_epoch:.3f}, ce={valid/ce_epoch:.3f}, reg={valid/reg_epoch:.3f}, mse={valid/mse_epoch:.3f}, ddG={valid/ddG_pearsonr_epoch:.3f}, dS={valid/dS_pearsonr_epoch:.3f}', 'auto_insert_metric_name': False, 'save_weights_only': True, 'mode': 'min', 'save_top_k': 50, 'save_last': True}, 'early_stop_callback': {'monitor': 'valid/loss_epoch', 'min_delta': 0.01, 'patience': 200, 'mode': 'min'}, 'swa_callback': None, 'xlsx_output_format': {'general_format': {'align': 'center', 'valign': 'vcenter'}, 'number_format': {'num_format': '#,##0.0000', 'align': 'center', 'valign': 'vcenter'}}, 'nni': {'auto_ml': False, 'metric': 'AUC', 'use_best': True}, 'data': {'dataset': 'ACE2_variants_2k', 'sequence_length': 83, 'mini_set_ratio': None, 'data_class': 'Protein', 'lazy_load': False, 'train_ratio': 0.7, 'valid_ratio': 0.1, 'test_ratio': 0.2, 'split_valid': None, 'label': 'ddG', 'max_len': 83}, 'hparams': {'encoder_transformer': {'num_layers': 4, 'embed_dim': 128, 'attention_heads': 16, 'alphabet': 'ESM-1b', 'token_dropout': False, 'embedding_layer': True, 'lm_head': False, 'return_layer': -1}, 'encoder_mlp': {'hiddens': [128, 64, 32], 'activation': 'ReLU', 'batch_norm': False, 'layer_norm': True, 'bias': True, 'dropout': 0.05}, 'decoder_mlp': {'hiddens': [16, 64, 128], 'activation': 'ReLU', 'batch_norm': False, 'layer_norm': True, 'bias': True, 'dropout': 0.05}, 'decoder_transformer': {'num_layers': 4, 'embed_dim': 128, 'attention_heads': 16, 'alphabet': 'ESM-1b', 'token_dropout': False, 'embedding_layer': False, 'lm_head': False, 'return_layer': -1}, 'regressor_head': {'hiddens': [1360, 256, 128, 2], 'activation': 'ReLU', 'batch_norm': True, 'bias': True, 'dropout': 0.05}, 'reparameterization': False}, 'optimizer': {'name': 'RAdam', 'args': {'lr': 0.0005, 'weight_decay': 0}}, 'scheduler': {'name': 'LinearLR', 'args': {'start_factor': 1, 'end_factor': 0.01, 'total_iters': 12500}, 'interval': 'step', 'frequency': 1}, 'loss': {'mse_loss': {'name': 'MSELoss', 'args': {}}, 'ce_loss': {'name': 'CrossEntropy', 'args': {}}, 'mmd_loss': {'name': 'MMDLoss', 'args': {'sigma': 20}}, 'ce_weight': 1.0, 'mse_weight': 1000.0, 'reg_weight': 0.1}, '-f': None, '/home/hew/': {'local/share/jupyter/runtime/kernel-c7560856-3669-486d-8444-5fc66bdf7e92': {'json': None}}}"
     },
     "execution_count": 4,
     "metadata": {},
     "output_type": "execute_result"
    }
   ],
   "source": [
    "args"
   ],
   "metadata": {
    "collapsed": false,
    "ExecuteTime": {
     "end_time": "2023-11-14T19:29:45.275607200Z",
     "start_time": "2023-11-14T19:29:45.240704500Z"
    }
   }
  },
  {
   "cell_type": "code",
   "execution_count": 4,
   "outputs": [],
   "source": [],
   "metadata": {
    "collapsed": false,
    "ExecuteTime": {
     "end_time": "2023-11-14T19:29:45.275607200Z",
     "start_time": "2023-11-14T19:29:45.273599900Z"
    }
   }
  },
  {
   "cell_type": "code",
   "execution_count": 5,
   "outputs": [
    {
     "name": "stderr",
     "output_type": "stream",
     "text": [
      "Global seed set to 42\n"
     ]
    },
    {
     "name": "stdout",
     "output_type": "stream",
     "text": [
      "============================== PeptideDataModule __init__ Start ==============================\n",
      "============================== PeptideDataModule __init__ End ==============================\n",
      "CPU times: user 4.42 ms, sys: 60 µs, total: 4.48 ms\n",
      "Wall time: 3.47 ms\n"
     ]
    }
   ],
   "source": [
    "%%time\n",
    "seed_everything(args.seed)\n",
    "pl_data_module = SequenceDataModule(args)"
   ],
   "metadata": {
    "collapsed": false,
    "ExecuteTime": {
     "end_time": "2023-11-14T19:29:45.347508800Z",
     "start_time": "2023-11-14T19:29:45.278610900Z"
    }
   }
  },
  {
   "cell_type": "code",
   "execution_count": 6,
   "outputs": [
    {
     "name": "stdout",
     "output_type": "stream",
     "text": [
      "============================== prepare_data: mode[train] Start ==============================\n",
      "============================== prepare_dataset Start ==============================\n",
      "<<<<<<<<<<<<<<<<<<<<<<<<<<<<<< load data according to selected index >>>>>>>>>>>>>>>>>>>>>>>>>>>>>>\n"
     ]
    },
    {
     "data": {
      "text/plain": "  0%|          | 0/2404 [00:00<?, ?it/s]",
      "application/vnd.jupyter.widget-view+json": {
       "version_major": 2,
       "version_minor": 0,
       "model_id": "d20236a7a0474ebba6f6901a163a6f0b"
      }
     },
     "metadata": {},
     "output_type": "display_data"
    },
    {
     "name": "stdout",
     "output_type": "stream",
     "text": [
      "the dataset has not been partitioned, split dataset with specific ratio\n",
      "dataframe partition values:\n",
      "train    1661\n",
      "test      521\n",
      "valid     222\n",
      "Name: partition, dtype: int64\n",
      "select the subset for debug, max_len: 83, ratio: 1, number: 2404\n",
      "============================== prepare_dataset End ==============================\n",
      "len(self.train_dataset) 1661\n",
      "len(self.valid_dataset) 222\n",
      "len(self.test_dataset) 521\n",
      "============================== prepare_data mode[train] End ==============================\n",
      "============================== Setup [fit] Start ==============================\n",
      "[len self.train_dataset] 1661\n",
      "[len self.val_dataset] 222\n",
      "============================== Setup [fit] End ==============================\n",
      "============================== Setup [test] Start ==============================\n",
      "[len self.test_dataset] 521\n",
      "============================== Setup [test] End ==============================\n",
      "CPU times: user 734 ms, sys: 300 ms, total: 1.03 s\n",
      "Wall time: 1.09 s\n"
     ]
    }
   ],
   "source": [
    "%%time\n",
    "pl_data_module.prepare_data('train')\n",
    "pl_data_module.setup('fit')\n",
    "pl_data_module.setup('test')"
   ],
   "metadata": {
    "collapsed": false,
    "ExecuteTime": {
     "end_time": "2023-11-14T19:29:46.508702200Z",
     "start_time": "2023-11-14T19:29:45.389736200Z"
    }
   }
  },
  {
   "cell_type": "code",
   "execution_count": 7,
   "outputs": [],
   "source": [
    "# pl_data_module.args.train_dataloader.batch_size = 128\n",
    "# pl_data_module.args.valid_dataloader.batch_size = 128\n",
    "# pl_data_module.args.test_dataloader.batch_size = 128\n",
    "# pl_data_module.args.predict_dataloader.batch_size = 128\n",
    "# pl_data_module.args.train_dataloader.num_workers = 4\n",
    "# pl_data_module.args.valid_dataloader.num_workers = 4\n",
    "# pl_data_module.args.test_dataloader.num_workers = 4\n",
    "# pl_data_module.args.predict_dataloader.num_workers = 4"
   ],
   "metadata": {
    "collapsed": false,
    "ExecuteTime": {
     "end_time": "2023-11-14T19:29:46.555758400Z",
     "start_time": "2023-11-14T19:29:46.512231100Z"
    }
   }
  },
  {
   "cell_type": "code",
   "execution_count": 8,
   "outputs": [
    {
     "data": {
      "text/plain": "     index  name partition  length  \\\n0        0     0     train      83   \n1        1     1     train      83   \n2       10    10     train      83   \n3      100   100     train      83   \n4     1000  1000     train      83   \n...    ...   ...       ...     ...   \n2399   995   995      test      83   \n2400   996   996      test      83   \n2401   997   997      test      83   \n2402   998   998      test      83   \n2403   999   999      test      83   \n\n                                               sequence structure graph  \\\n0     STIEEQAKTFLDKFNHEAEDLFYQSSLASWNYNTNITEENVQNMNN...      None  None   \n1     STIEEQAKTFLDKFNHEAEDLFYQSSLASWNYNTNITEENVQNMNN...      None  None   \n2     STIEEQAKTFLDKFNHEAEDLFYQSSLASWNYNTNITEENVQNMNN...      None  None   \n3     STIEEQAKTFLDKFNHDAEDLFYQSFLASWNYNTNITEENVQNMNN...      None  None   \n4     SDIEEQAKTFLDKFNHEAEDLFYQSSLAYWNYNTNITEENVQNMGN...      None  None   \n...                                                 ...       ...   ...   \n2399  STIEEQAKTFLDKFNHEAEDLFYQSDLARWNYNTNITEENVQNMNN...      None  None   \n2400  STIEEQAKTFLDKFNHEAEDLFYQSSLASWWYNTNITEENVQNMNN...      None  None   \n2401  STIEEQAKTFLDKFNHEAEDLFYQMSLASWNYNTNITEENVQNMNN...      None  None   \n2402  SDIEEQAKMFLDKFNHEAEDLFYQSSLASWNYNTNITEENVQNMNN...      None  None   \n2403  SDIEEQAKTFLDKFNHEAEDLFYQSSLESWNYNTNITEENVQNMNN...      None  None   \n\n         dS     ddG                bins  \n0     0.017 -1.0838     (-1.091, -1.08]  \n1     0.017 -0.0154  (-0.0185, -0.0134]  \n2     0.017 -0.8987    (-0.899, -0.889]  \n3     0.017 -1.1936    (-1.197, -1.189]  \n4     0.017 -2.5357    (-2.576, -2.523]  \n...     ...     ...                 ...  \n2399  0.017 -0.4275    (-0.438, -0.425]  \n2400  0.017 -1.6738    (-1.686, -1.673]  \n2401  0.017 -1.9267    (-1.943, -1.923]  \n2402  0.017 -1.3416     (-1.35, -1.332]  \n2403  0.017 -1.8427    (-1.879, -1.841]  \n\n[2404 rows x 10 columns]",
      "text/html": "<div>\n<style scoped>\n    .dataframe tbody tr th:only-of-type {\n        vertical-align: middle;\n    }\n\n    .dataframe tbody tr th {\n        vertical-align: top;\n    }\n\n    .dataframe thead th {\n        text-align: right;\n    }\n</style>\n<table border=\"1\" class=\"dataframe\">\n  <thead>\n    <tr style=\"text-align: right;\">\n      <th></th>\n      <th>index</th>\n      <th>name</th>\n      <th>partition</th>\n      <th>length</th>\n      <th>sequence</th>\n      <th>structure</th>\n      <th>graph</th>\n      <th>dS</th>\n      <th>ddG</th>\n      <th>bins</th>\n    </tr>\n  </thead>\n  <tbody>\n    <tr>\n      <th>0</th>\n      <td>0</td>\n      <td>0</td>\n      <td>train</td>\n      <td>83</td>\n      <td>STIEEQAKTFLDKFNHEAEDLFYQSSLASWNYNTNITEENVQNMNN...</td>\n      <td>None</td>\n      <td>None</td>\n      <td>0.017</td>\n      <td>-1.0838</td>\n      <td>(-1.091, -1.08]</td>\n    </tr>\n    <tr>\n      <th>1</th>\n      <td>1</td>\n      <td>1</td>\n      <td>train</td>\n      <td>83</td>\n      <td>STIEEQAKTFLDKFNHEAEDLFYQSSLASWNYNTNITEENVQNMNN...</td>\n      <td>None</td>\n      <td>None</td>\n      <td>0.017</td>\n      <td>-0.0154</td>\n      <td>(-0.0185, -0.0134]</td>\n    </tr>\n    <tr>\n      <th>2</th>\n      <td>10</td>\n      <td>10</td>\n      <td>train</td>\n      <td>83</td>\n      <td>STIEEQAKTFLDKFNHEAEDLFYQSSLASWNYNTNITEENVQNMNN...</td>\n      <td>None</td>\n      <td>None</td>\n      <td>0.017</td>\n      <td>-0.8987</td>\n      <td>(-0.899, -0.889]</td>\n    </tr>\n    <tr>\n      <th>3</th>\n      <td>100</td>\n      <td>100</td>\n      <td>train</td>\n      <td>83</td>\n      <td>STIEEQAKTFLDKFNHDAEDLFYQSFLASWNYNTNITEENVQNMNN...</td>\n      <td>None</td>\n      <td>None</td>\n      <td>0.017</td>\n      <td>-1.1936</td>\n      <td>(-1.197, -1.189]</td>\n    </tr>\n    <tr>\n      <th>4</th>\n      <td>1000</td>\n      <td>1000</td>\n      <td>train</td>\n      <td>83</td>\n      <td>SDIEEQAKTFLDKFNHEAEDLFYQSSLAYWNYNTNITEENVQNMGN...</td>\n      <td>None</td>\n      <td>None</td>\n      <td>0.017</td>\n      <td>-2.5357</td>\n      <td>(-2.576, -2.523]</td>\n    </tr>\n    <tr>\n      <th>...</th>\n      <td>...</td>\n      <td>...</td>\n      <td>...</td>\n      <td>...</td>\n      <td>...</td>\n      <td>...</td>\n      <td>...</td>\n      <td>...</td>\n      <td>...</td>\n      <td>...</td>\n    </tr>\n    <tr>\n      <th>2399</th>\n      <td>995</td>\n      <td>995</td>\n      <td>test</td>\n      <td>83</td>\n      <td>STIEEQAKTFLDKFNHEAEDLFYQSDLARWNYNTNITEENVQNMNN...</td>\n      <td>None</td>\n      <td>None</td>\n      <td>0.017</td>\n      <td>-0.4275</td>\n      <td>(-0.438, -0.425]</td>\n    </tr>\n    <tr>\n      <th>2400</th>\n      <td>996</td>\n      <td>996</td>\n      <td>test</td>\n      <td>83</td>\n      <td>STIEEQAKTFLDKFNHEAEDLFYQSSLASWWYNTNITEENVQNMNN...</td>\n      <td>None</td>\n      <td>None</td>\n      <td>0.017</td>\n      <td>-1.6738</td>\n      <td>(-1.686, -1.673]</td>\n    </tr>\n    <tr>\n      <th>2401</th>\n      <td>997</td>\n      <td>997</td>\n      <td>test</td>\n      <td>83</td>\n      <td>STIEEQAKTFLDKFNHEAEDLFYQMSLASWNYNTNITEENVQNMNN...</td>\n      <td>None</td>\n      <td>None</td>\n      <td>0.017</td>\n      <td>-1.9267</td>\n      <td>(-1.943, -1.923]</td>\n    </tr>\n    <tr>\n      <th>2402</th>\n      <td>998</td>\n      <td>998</td>\n      <td>test</td>\n      <td>83</td>\n      <td>SDIEEQAKMFLDKFNHEAEDLFYQSSLASWNYNTNITEENVQNMNN...</td>\n      <td>None</td>\n      <td>None</td>\n      <td>0.017</td>\n      <td>-1.3416</td>\n      <td>(-1.35, -1.332]</td>\n    </tr>\n    <tr>\n      <th>2403</th>\n      <td>999</td>\n      <td>999</td>\n      <td>test</td>\n      <td>83</td>\n      <td>SDIEEQAKTFLDKFNHEAEDLFYQSSLESWNYNTNITEENVQNMNN...</td>\n      <td>None</td>\n      <td>None</td>\n      <td>0.017</td>\n      <td>-1.8427</td>\n      <td>(-1.879, -1.841]</td>\n    </tr>\n  </tbody>\n</table>\n<p>2404 rows × 10 columns</p>\n</div>"
     },
     "execution_count": 8,
     "metadata": {},
     "output_type": "execute_result"
    }
   ],
   "source": [
    "pl_data_module.dataframe"
   ],
   "metadata": {
    "collapsed": false,
    "ExecuteTime": {
     "end_time": "2023-11-14T19:29:46.644111800Z",
     "start_time": "2023-11-14T19:29:46.555758400Z"
    }
   }
  },
  {
   "cell_type": "code",
   "execution_count": 9,
   "outputs": [
    {
     "data": {
      "text/plain": "(torch.Size([64, 85]), torch.Size([64]), torch.Size([64]))"
     },
     "execution_count": 9,
     "metadata": {},
     "output_type": "execute_result"
    }
   ],
   "source": [
    "tokens, ddG, dS = next(iter(pl_data_module.train_dataloader()))\n",
    "tokens.shape, ddG.shape, dS.shape"
   ],
   "metadata": {
    "collapsed": false,
    "ExecuteTime": {
     "end_time": "2023-11-14T19:29:48.276969200Z",
     "start_time": "2023-11-14T19:29:46.639785300Z"
    }
   }
  },
  {
   "cell_type": "code",
   "execution_count": 9,
   "outputs": [],
   "source": [],
   "metadata": {
    "collapsed": false,
    "ExecuteTime": {
     "end_time": "2023-11-14T19:29:48.276969200Z",
     "start_time": "2023-11-14T19:29:48.272968400Z"
    }
   }
  },
  {
   "cell_type": "code",
   "execution_count": 10,
   "outputs": [
    {
     "name": "stderr",
     "output_type": "stream",
     "text": [
      "Global seed set to 42\n",
      "GPU available: True (cuda), used: True\n",
      "TPU available: False, using: 0 TPU cores\n",
      "IPU available: False, using: 0 IPUs\n",
      "HPU available: False, using: 0 HPUs\n"
     ]
    },
    {
     "name": "stdout",
     "output_type": "stream",
     "text": [
      "CPU times: user 285 ms, sys: 60 ms, total: 345 ms\n",
      "Wall time: 345 ms\n"
     ]
    }
   ],
   "source": [
    "%%time\n",
    "seed_everything(args.seed)\n",
    "pl_model = SequenceLightningModule(args)\n",
    "\n",
    "trainer = get_pl_trainer(args)"
   ],
   "metadata": {
    "collapsed": false,
    "ExecuteTime": {
     "end_time": "2023-11-14T19:29:48.686746300Z",
     "start_time": "2023-11-14T19:29:48.324494300Z"
    }
   }
  },
  {
   "cell_type": "code",
   "execution_count": 11,
   "outputs": [
    {
     "data": {
      "text/plain": "ProteinVAE(\n  (encoder_transformer): ESMTransformer(\n    (embed_tokens): Embedding(33, 128, padding_idx=1)\n    (layers): ModuleList(\n      (0): TransformerLayer(\n        (self_attn): MultiheadAttention(\n          (k_proj): Linear(in_features=128, out_features=128, bias=True)\n          (v_proj): Linear(in_features=128, out_features=128, bias=True)\n          (q_proj): Linear(in_features=128, out_features=128, bias=True)\n          (out_proj): Linear(in_features=128, out_features=128, bias=True)\n          (rot_emb): RotaryEmbedding()\n        )\n        (self_attn_layer_norm): LayerNorm((128,), eps=1e-05, elementwise_affine=True)\n        (fc1): Linear(in_features=128, out_features=512, bias=True)\n        (fc2): Linear(in_features=512, out_features=128, bias=True)\n        (final_layer_norm): LayerNorm((128,), eps=1e-05, elementwise_affine=True)\n      )\n      (1): TransformerLayer(\n        (self_attn): MultiheadAttention(\n          (k_proj): Linear(in_features=128, out_features=128, bias=True)\n          (v_proj): Linear(in_features=128, out_features=128, bias=True)\n          (q_proj): Linear(in_features=128, out_features=128, bias=True)\n          (out_proj): Linear(in_features=128, out_features=128, bias=True)\n          (rot_emb): RotaryEmbedding()\n        )\n        (self_attn_layer_norm): LayerNorm((128,), eps=1e-05, elementwise_affine=True)\n        (fc1): Linear(in_features=128, out_features=512, bias=True)\n        (fc2): Linear(in_features=512, out_features=128, bias=True)\n        (final_layer_norm): LayerNorm((128,), eps=1e-05, elementwise_affine=True)\n      )\n      (2): TransformerLayer(\n        (self_attn): MultiheadAttention(\n          (k_proj): Linear(in_features=128, out_features=128, bias=True)\n          (v_proj): Linear(in_features=128, out_features=128, bias=True)\n          (q_proj): Linear(in_features=128, out_features=128, bias=True)\n          (out_proj): Linear(in_features=128, out_features=128, bias=True)\n          (rot_emb): RotaryEmbedding()\n        )\n        (self_attn_layer_norm): LayerNorm((128,), eps=1e-05, elementwise_affine=True)\n        (fc1): Linear(in_features=128, out_features=512, bias=True)\n        (fc2): Linear(in_features=512, out_features=128, bias=True)\n        (final_layer_norm): LayerNorm((128,), eps=1e-05, elementwise_affine=True)\n      )\n      (3): TransformerLayer(\n        (self_attn): MultiheadAttention(\n          (k_proj): Linear(in_features=128, out_features=128, bias=True)\n          (v_proj): Linear(in_features=128, out_features=128, bias=True)\n          (q_proj): Linear(in_features=128, out_features=128, bias=True)\n          (out_proj): Linear(in_features=128, out_features=128, bias=True)\n          (rot_emb): RotaryEmbedding()\n        )\n        (self_attn_layer_norm): LayerNorm((128,), eps=1e-05, elementwise_affine=True)\n        (fc1): Linear(in_features=128, out_features=512, bias=True)\n        (fc2): Linear(in_features=512, out_features=128, bias=True)\n        (final_layer_norm): LayerNorm((128,), eps=1e-05, elementwise_affine=True)\n      )\n    )\n    (emb_layer_norm_after): LayerNorm((128,), eps=1e-05, elementwise_affine=True)\n  )\n  (encoder_mlp): MLP(\n    (mlp): Sequential(\n      (0): Linear(in_features=128, out_features=64, bias=True)\n      (1): LayerNorm((64,), eps=1e-05, elementwise_affine=True)\n      (2): ReLU()\n      (3): Dropout(p=0.05, inplace=False)\n      (4): Linear(in_features=64, out_features=32, bias=True)\n    )\n  )\n  (regressor_head): MLP(\n    (mlp): Sequential(\n      (0): Linear(in_features=1360, out_features=256, bias=False)\n      (1): BatchNorm1d(256, eps=1e-05, momentum=0.1, affine=True, track_running_stats=True)\n      (2): ReLU()\n      (3): Dropout(p=0.05, inplace=False)\n      (4): Linear(in_features=256, out_features=128, bias=False)\n      (5): BatchNorm1d(128, eps=1e-05, momentum=0.1, affine=True, track_running_stats=True)\n      (6): ReLU()\n      (7): Dropout(p=0.05, inplace=False)\n      (8): Linear(in_features=128, out_features=2, bias=True)\n    )\n  )\n  (decoder_mlp): MLP(\n    (mlp): Sequential(\n      (0): Linear(in_features=16, out_features=64, bias=True)\n      (1): LayerNorm((64,), eps=1e-05, elementwise_affine=True)\n      (2): ReLU()\n      (3): Dropout(p=0.05, inplace=False)\n      (4): Linear(in_features=64, out_features=128, bias=True)\n    )\n  )\n  (decoder_transformer): ESMTransformer(\n    (layers): ModuleList(\n      (0): TransformerLayer(\n        (self_attn): MultiheadAttention(\n          (k_proj): Linear(in_features=128, out_features=128, bias=True)\n          (v_proj): Linear(in_features=128, out_features=128, bias=True)\n          (q_proj): Linear(in_features=128, out_features=128, bias=True)\n          (out_proj): Linear(in_features=128, out_features=128, bias=True)\n          (rot_emb): RotaryEmbedding()\n        )\n        (self_attn_layer_norm): LayerNorm((128,), eps=1e-05, elementwise_affine=True)\n        (fc1): Linear(in_features=128, out_features=512, bias=True)\n        (fc2): Linear(in_features=512, out_features=128, bias=True)\n        (final_layer_norm): LayerNorm((128,), eps=1e-05, elementwise_affine=True)\n      )\n      (1): TransformerLayer(\n        (self_attn): MultiheadAttention(\n          (k_proj): Linear(in_features=128, out_features=128, bias=True)\n          (v_proj): Linear(in_features=128, out_features=128, bias=True)\n          (q_proj): Linear(in_features=128, out_features=128, bias=True)\n          (out_proj): Linear(in_features=128, out_features=128, bias=True)\n          (rot_emb): RotaryEmbedding()\n        )\n        (self_attn_layer_norm): LayerNorm((128,), eps=1e-05, elementwise_affine=True)\n        (fc1): Linear(in_features=128, out_features=512, bias=True)\n        (fc2): Linear(in_features=512, out_features=128, bias=True)\n        (final_layer_norm): LayerNorm((128,), eps=1e-05, elementwise_affine=True)\n      )\n      (2): TransformerLayer(\n        (self_attn): MultiheadAttention(\n          (k_proj): Linear(in_features=128, out_features=128, bias=True)\n          (v_proj): Linear(in_features=128, out_features=128, bias=True)\n          (q_proj): Linear(in_features=128, out_features=128, bias=True)\n          (out_proj): Linear(in_features=128, out_features=128, bias=True)\n          (rot_emb): RotaryEmbedding()\n        )\n        (self_attn_layer_norm): LayerNorm((128,), eps=1e-05, elementwise_affine=True)\n        (fc1): Linear(in_features=128, out_features=512, bias=True)\n        (fc2): Linear(in_features=512, out_features=128, bias=True)\n        (final_layer_norm): LayerNorm((128,), eps=1e-05, elementwise_affine=True)\n      )\n      (3): TransformerLayer(\n        (self_attn): MultiheadAttention(\n          (k_proj): Linear(in_features=128, out_features=128, bias=True)\n          (v_proj): Linear(in_features=128, out_features=128, bias=True)\n          (q_proj): Linear(in_features=128, out_features=128, bias=True)\n          (out_proj): Linear(in_features=128, out_features=128, bias=True)\n          (rot_emb): RotaryEmbedding()\n        )\n        (self_attn_layer_norm): LayerNorm((128,), eps=1e-05, elementwise_affine=True)\n        (fc1): Linear(in_features=128, out_features=512, bias=True)\n        (fc2): Linear(in_features=512, out_features=128, bias=True)\n        (final_layer_norm): LayerNorm((128,), eps=1e-05, elementwise_affine=True)\n      )\n    )\n    (emb_layer_norm_after): LayerNorm((128,), eps=1e-05, elementwise_affine=True)\n  )\n  (lm_head): RobertaLMHead(\n    (dense): Linear(in_features=128, out_features=128, bias=True)\n    (layer_norm): LayerNorm((128,), eps=1e-05, elementwise_affine=True)\n  )\n)"
     },
     "execution_count": 11,
     "metadata": {},
     "output_type": "execute_result"
    }
   ],
   "source": [
    "pl_model.model"
   ],
   "metadata": {
    "collapsed": false,
    "ExecuteTime": {
     "end_time": "2023-11-14T19:29:48.729647300Z",
     "start_time": "2023-11-14T19:29:48.680746900Z"
    }
   }
  },
  {
   "cell_type": "code",
   "execution_count": 12,
   "outputs": [],
   "source": [
    "gc.collect()\n",
    "torch.cuda.empty_cache()"
   ],
   "metadata": {
    "collapsed": false,
    "ExecuteTime": {
     "end_time": "2023-11-14T19:29:48.923891300Z",
     "start_time": "2023-11-14T19:29:48.728646900Z"
    }
   }
  },
  {
   "cell_type": "code",
   "execution_count": 13,
   "outputs": [
    {
     "name": "stderr",
     "output_type": "stream",
     "text": [
      "LOCAL_RANK: 0 - CUDA_VISIBLE_DEVICES: [0]\n",
      "\n",
      "  | Name     | Type             | Params\n",
      "----------------------------------------------\n",
      "0 | model    | ProteinVAE       | 2.0 M \n",
      "1 | ce_loss  | CrossEntropyLoss | 0     \n",
      "2 | mse_loss | MSELoss          | 0     \n",
      "3 | mmd_loss | MMDLoss          | 0     \n",
      "----------------------------------------------\n",
      "2.0 M     Trainable params\n",
      "0         Non-trainable params\n",
      "2.0 M     Total params\n",
      "8.056     Total estimated model params size (MB)\n"
     ]
    },
    {
     "name": "stdout",
     "output_type": "stream",
     "text": [
      "============================== prepare_data: mode[train] Start ==============================\n",
      "len(self.train_dataset) 1661\n",
      "len(self.valid_dataset) 222\n",
      "len(self.test_dataset) 521\n",
      "============================== prepare_data mode[train] End ==============================\n",
      "============================== prepare_data: mode[None] Start ==============================\n",
      "============================== prepare_data has been invoked, mode=None ==============================\n",
      "============================== prepare_data mode[None] End ==============================\n",
      "============================== Setup [fit] Start ==============================\n",
      "[len self.train_dataset] 1661\n",
      "[len self.val_dataset] 222\n",
      "============================== Setup [fit] End ==============================\n"
     ]
    },
    {
     "data": {
      "text/plain": "Sanity Checking: 0it [00:00, ?it/s]",
      "application/vnd.jupyter.widget-view+json": {
       "version_major": 2,
       "version_minor": 0,
       "model_id": "88118482961a4501b09507b615b17d70"
      }
     },
     "metadata": {},
     "output_type": "display_data"
    },
    {
     "data": {
      "text/plain": "Training: 0it [00:00, ?it/s]",
      "application/vnd.jupyter.widget-view+json": {
       "version_major": 2,
       "version_minor": 0,
       "model_id": "0c4944ed9dde4fe28b591698f6ab9cce"
      }
     },
     "metadata": {},
     "output_type": "display_data"
    },
    {
     "data": {
      "text/plain": "Validation: 0it [00:00, ?it/s]",
      "application/vnd.jupyter.widget-view+json": {
       "version_major": 2,
       "version_minor": 0,
       "model_id": "36156d3659ae4dd0ab61db71486754b7"
      }
     },
     "metadata": {},
     "output_type": "display_data"
    },
    {
     "data": {
      "text/plain": "Validation: 0it [00:00, ?it/s]",
      "application/vnd.jupyter.widget-view+json": {
       "version_major": 2,
       "version_minor": 0,
       "model_id": "faba407047ee44a8a715a5cf7152c64f"
      }
     },
     "metadata": {},
     "output_type": "display_data"
    },
    {
     "data": {
      "text/plain": "Validation: 0it [00:00, ?it/s]",
      "application/vnd.jupyter.widget-view+json": {
       "version_major": 2,
       "version_minor": 0,
       "model_id": "aa4c405b6c7a4e5db54b0df915e3d17b"
      }
     },
     "metadata": {},
     "output_type": "display_data"
    },
    {
     "data": {
      "text/plain": "Validation: 0it [00:00, ?it/s]",
      "application/vnd.jupyter.widget-view+json": {
       "version_major": 2,
       "version_minor": 0,
       "model_id": "f58df604447c440e8e4770f043603bde"
      }
     },
     "metadata": {},
     "output_type": "display_data"
    },
    {
     "data": {
      "text/plain": "Validation: 0it [00:00, ?it/s]",
      "application/vnd.jupyter.widget-view+json": {
       "version_major": 2,
       "version_minor": 0,
       "model_id": "acb6c85e5dc049e79d609362229587e8"
      }
     },
     "metadata": {},
     "output_type": "display_data"
    },
    {
     "data": {
      "text/plain": "Validation: 0it [00:00, ?it/s]",
      "application/vnd.jupyter.widget-view+json": {
       "version_major": 2,
       "version_minor": 0,
       "model_id": "eb6e721c972745b986221cd5e34840ef"
      }
     },
     "metadata": {},
     "output_type": "display_data"
    },
    {
     "data": {
      "text/plain": "Validation: 0it [00:00, ?it/s]",
      "application/vnd.jupyter.widget-view+json": {
       "version_major": 2,
       "version_minor": 0,
       "model_id": "4eeb48cbcbd14fd7b901fc78dfa29fc7"
      }
     },
     "metadata": {},
     "output_type": "display_data"
    },
    {
     "data": {
      "text/plain": "Validation: 0it [00:00, ?it/s]",
      "application/vnd.jupyter.widget-view+json": {
       "version_major": 2,
       "version_minor": 0,
       "model_id": "89e2db6c049e400ea88d8ea05425c72b"
      }
     },
     "metadata": {},
     "output_type": "display_data"
    },
    {
     "data": {
      "text/plain": "Validation: 0it [00:00, ?it/s]",
      "application/vnd.jupyter.widget-view+json": {
       "version_major": 2,
       "version_minor": 0,
       "model_id": "f98b9dae2e2c4d55983f835a58fbcd8f"
      }
     },
     "metadata": {},
     "output_type": "display_data"
    },
    {
     "data": {
      "text/plain": "Validation: 0it [00:00, ?it/s]",
      "application/vnd.jupyter.widget-view+json": {
       "version_major": 2,
       "version_minor": 0,
       "model_id": "0ea6727a655342c89a1277bb7d76ac0a"
      }
     },
     "metadata": {},
     "output_type": "display_data"
    },
    {
     "data": {
      "text/plain": "Validation: 0it [00:00, ?it/s]",
      "application/vnd.jupyter.widget-view+json": {
       "version_major": 2,
       "version_minor": 0,
       "model_id": "c288a0e7c4b544499a392e9bb3bb516d"
      }
     },
     "metadata": {},
     "output_type": "display_data"
    },
    {
     "data": {
      "text/plain": "Validation: 0it [00:00, ?it/s]",
      "application/vnd.jupyter.widget-view+json": {
       "version_major": 2,
       "version_minor": 0,
       "model_id": "0fa2a7b6e10f4c9d8ec567e84c2a8c83"
      }
     },
     "metadata": {},
     "output_type": "display_data"
    },
    {
     "data": {
      "text/plain": "Validation: 0it [00:00, ?it/s]",
      "application/vnd.jupyter.widget-view+json": {
       "version_major": 2,
       "version_minor": 0,
       "model_id": "0c5b3705db5847c3b47d6052e01fb3c4"
      }
     },
     "metadata": {},
     "output_type": "display_data"
    },
    {
     "data": {
      "text/plain": "Validation: 0it [00:00, ?it/s]",
      "application/vnd.jupyter.widget-view+json": {
       "version_major": 2,
       "version_minor": 0,
       "model_id": "3c96451528ab4911873314d825e6bc14"
      }
     },
     "metadata": {},
     "output_type": "display_data"
    },
    {
     "data": {
      "text/plain": "Validation: 0it [00:00, ?it/s]",
      "application/vnd.jupyter.widget-view+json": {
       "version_major": 2,
       "version_minor": 0,
       "model_id": "a5027cc2e6ed4849b5a7ce23b19e3e89"
      }
     },
     "metadata": {},
     "output_type": "display_data"
    },
    {
     "data": {
      "text/plain": "Validation: 0it [00:00, ?it/s]",
      "application/vnd.jupyter.widget-view+json": {
       "version_major": 2,
       "version_minor": 0,
       "model_id": "6190c6b2d58e475cb5a7a012168a21d8"
      }
     },
     "metadata": {},
     "output_type": "display_data"
    },
    {
     "data": {
      "text/plain": "Validation: 0it [00:00, ?it/s]",
      "application/vnd.jupyter.widget-view+json": {
       "version_major": 2,
       "version_minor": 0,
       "model_id": "fc2b4f5b5f484e529c80a1f82da27b52"
      }
     },
     "metadata": {},
     "output_type": "display_data"
    },
    {
     "data": {
      "text/plain": "Validation: 0it [00:00, ?it/s]",
      "application/vnd.jupyter.widget-view+json": {
       "version_major": 2,
       "version_minor": 0,
       "model_id": "ee826b9c9ff74c78a0a406cea1d73903"
      }
     },
     "metadata": {},
     "output_type": "display_data"
    },
    {
     "data": {
      "text/plain": "Validation: 0it [00:00, ?it/s]",
      "application/vnd.jupyter.widget-view+json": {
       "version_major": 2,
       "version_minor": 0,
       "model_id": "6b2e6f9274ef4b8b932456be997f9a88"
      }
     },
     "metadata": {},
     "output_type": "display_data"
    },
    {
     "data": {
      "text/plain": "Validation: 0it [00:00, ?it/s]",
      "application/vnd.jupyter.widget-view+json": {
       "version_major": 2,
       "version_minor": 0,
       "model_id": "4cb2a7006363436997c0bbe3c1698ec3"
      }
     },
     "metadata": {},
     "output_type": "display_data"
    },
    {
     "data": {
      "text/plain": "Validation: 0it [00:00, ?it/s]",
      "application/vnd.jupyter.widget-view+json": {
       "version_major": 2,
       "version_minor": 0,
       "model_id": "836aff4acc3c46768cc99147b153a83d"
      }
     },
     "metadata": {},
     "output_type": "display_data"
    },
    {
     "data": {
      "text/plain": "Validation: 0it [00:00, ?it/s]",
      "application/vnd.jupyter.widget-view+json": {
       "version_major": 2,
       "version_minor": 0,
       "model_id": "b12b12a1fa76431593fb563d2eb477be"
      }
     },
     "metadata": {},
     "output_type": "display_data"
    },
    {
     "data": {
      "text/plain": "Validation: 0it [00:00, ?it/s]",
      "application/vnd.jupyter.widget-view+json": {
       "version_major": 2,
       "version_minor": 0,
       "model_id": "908078ebfa7a4935a061c4a532de268e"
      }
     },
     "metadata": {},
     "output_type": "display_data"
    },
    {
     "data": {
      "text/plain": "Validation: 0it [00:00, ?it/s]",
      "application/vnd.jupyter.widget-view+json": {
       "version_major": 2,
       "version_minor": 0,
       "model_id": "090374e08c4b4739a9190318f66b4a1b"
      }
     },
     "metadata": {},
     "output_type": "display_data"
    },
    {
     "data": {
      "text/plain": "Validation: 0it [00:00, ?it/s]",
      "application/vnd.jupyter.widget-view+json": {
       "version_major": 2,
       "version_minor": 0,
       "model_id": "020ce4b07d5143daa9b4b12859f7200f"
      }
     },
     "metadata": {},
     "output_type": "display_data"
    },
    {
     "data": {
      "text/plain": "Validation: 0it [00:00, ?it/s]",
      "application/vnd.jupyter.widget-view+json": {
       "version_major": 2,
       "version_minor": 0,
       "model_id": "4724ecabf84a40288c6e004462641dc6"
      }
     },
     "metadata": {},
     "output_type": "display_data"
    },
    {
     "data": {
      "text/plain": "Validation: 0it [00:00, ?it/s]",
      "application/vnd.jupyter.widget-view+json": {
       "version_major": 2,
       "version_minor": 0,
       "model_id": "a91c20f27c8a416f9ad9acb79d04ff0f"
      }
     },
     "metadata": {},
     "output_type": "display_data"
    },
    {
     "data": {
      "text/plain": "Validation: 0it [00:00, ?it/s]",
      "application/vnd.jupyter.widget-view+json": {
       "version_major": 2,
       "version_minor": 0,
       "model_id": "f019222493f842f59f4a54f2d1de60bb"
      }
     },
     "metadata": {},
     "output_type": "display_data"
    },
    {
     "data": {
      "text/plain": "Validation: 0it [00:00, ?it/s]",
      "application/vnd.jupyter.widget-view+json": {
       "version_major": 2,
       "version_minor": 0,
       "model_id": "cea3c7c154b54c9798ef327afbcbcd0d"
      }
     },
     "metadata": {},
     "output_type": "display_data"
    },
    {
     "data": {
      "text/plain": "Validation: 0it [00:00, ?it/s]",
      "application/vnd.jupyter.widget-view+json": {
       "version_major": 2,
       "version_minor": 0,
       "model_id": "48e2c9c7452c41c4a55d80bcbf12a28e"
      }
     },
     "metadata": {},
     "output_type": "display_data"
    },
    {
     "data": {
      "text/plain": "Validation: 0it [00:00, ?it/s]",
      "application/vnd.jupyter.widget-view+json": {
       "version_major": 2,
       "version_minor": 0,
       "model_id": "7169c74fe8984e71a98be922043841d8"
      }
     },
     "metadata": {},
     "output_type": "display_data"
    },
    {
     "data": {
      "text/plain": "Validation: 0it [00:00, ?it/s]",
      "application/vnd.jupyter.widget-view+json": {
       "version_major": 2,
       "version_minor": 0,
       "model_id": "6dcb62b38bb8402eb8ac6b950eadc193"
      }
     },
     "metadata": {},
     "output_type": "display_data"
    },
    {
     "data": {
      "text/plain": "Validation: 0it [00:00, ?it/s]",
      "application/vnd.jupyter.widget-view+json": {
       "version_major": 2,
       "version_minor": 0,
       "model_id": "e9f14d7875244c87888ed0575316a8ef"
      }
     },
     "metadata": {},
     "output_type": "display_data"
    },
    {
     "data": {
      "text/plain": "Validation: 0it [00:00, ?it/s]",
      "application/vnd.jupyter.widget-view+json": {
       "version_major": 2,
       "version_minor": 0,
       "model_id": "05765f3ff64348ffadb9d917127e9705"
      }
     },
     "metadata": {},
     "output_type": "display_data"
    },
    {
     "data": {
      "text/plain": "Validation: 0it [00:00, ?it/s]",
      "application/vnd.jupyter.widget-view+json": {
       "version_major": 2,
       "version_minor": 0,
       "model_id": "ab0da4b115d54ae69a8949e61e75c33b"
      }
     },
     "metadata": {},
     "output_type": "display_data"
    },
    {
     "data": {
      "text/plain": "Validation: 0it [00:00, ?it/s]",
      "application/vnd.jupyter.widget-view+json": {
       "version_major": 2,
       "version_minor": 0,
       "model_id": "7ab9f65fd15b4ef1b757df102dc17bc3"
      }
     },
     "metadata": {},
     "output_type": "display_data"
    },
    {
     "data": {
      "text/plain": "Validation: 0it [00:00, ?it/s]",
      "application/vnd.jupyter.widget-view+json": {
       "version_major": 2,
       "version_minor": 0,
       "model_id": "39fe764cc6e945ec9edc700fb7cb1f09"
      }
     },
     "metadata": {},
     "output_type": "display_data"
    },
    {
     "data": {
      "text/plain": "Validation: 0it [00:00, ?it/s]",
      "application/vnd.jupyter.widget-view+json": {
       "version_major": 2,
       "version_minor": 0,
       "model_id": "f55f09c42a3d42c98cdd7ef4c995bfe4"
      }
     },
     "metadata": {},
     "output_type": "display_data"
    },
    {
     "data": {
      "text/plain": "Validation: 0it [00:00, ?it/s]",
      "application/vnd.jupyter.widget-view+json": {
       "version_major": 2,
       "version_minor": 0,
       "model_id": "4d5fdf5881b8442c9aee688019603f29"
      }
     },
     "metadata": {},
     "output_type": "display_data"
    },
    {
     "data": {
      "text/plain": "Validation: 0it [00:00, ?it/s]",
      "application/vnd.jupyter.widget-view+json": {
       "version_major": 2,
       "version_minor": 0,
       "model_id": "2f52e6e24d6a4f6188d087d963084f01"
      }
     },
     "metadata": {},
     "output_type": "display_data"
    },
    {
     "data": {
      "text/plain": "Validation: 0it [00:00, ?it/s]",
      "application/vnd.jupyter.widget-view+json": {
       "version_major": 2,
       "version_minor": 0,
       "model_id": "ead7182be1c948c7ae86a7adf58188ac"
      }
     },
     "metadata": {},
     "output_type": "display_data"
    },
    {
     "data": {
      "text/plain": "Validation: 0it [00:00, ?it/s]",
      "application/vnd.jupyter.widget-view+json": {
       "version_major": 2,
       "version_minor": 0,
       "model_id": "ecf1ab6f2ba64fefa2436be81145179a"
      }
     },
     "metadata": {},
     "output_type": "display_data"
    },
    {
     "data": {
      "text/plain": "Validation: 0it [00:00, ?it/s]",
      "application/vnd.jupyter.widget-view+json": {
       "version_major": 2,
       "version_minor": 0,
       "model_id": "e1b738bf4a5642f1919826b024924b10"
      }
     },
     "metadata": {},
     "output_type": "display_data"
    },
    {
     "data": {
      "text/plain": "Validation: 0it [00:00, ?it/s]",
      "application/vnd.jupyter.widget-view+json": {
       "version_major": 2,
       "version_minor": 0,
       "model_id": "c2aa1e50afe14e539ec9ec96cd7cc8df"
      }
     },
     "metadata": {},
     "output_type": "display_data"
    },
    {
     "data": {
      "text/plain": "Validation: 0it [00:00, ?it/s]",
      "application/vnd.jupyter.widget-view+json": {
       "version_major": 2,
       "version_minor": 0,
       "model_id": "c2160ad379c74348b016d7f97ca8573d"
      }
     },
     "metadata": {},
     "output_type": "display_data"
    },
    {
     "data": {
      "text/plain": "Validation: 0it [00:00, ?it/s]",
      "application/vnd.jupyter.widget-view+json": {
       "version_major": 2,
       "version_minor": 0,
       "model_id": "d4d487ef57fe4767ab37459ad8867310"
      }
     },
     "metadata": {},
     "output_type": "display_data"
    },
    {
     "data": {
      "text/plain": "Validation: 0it [00:00, ?it/s]",
      "application/vnd.jupyter.widget-view+json": {
       "version_major": 2,
       "version_minor": 0,
       "model_id": "b27e117597d0477bb104f80e4d674a06"
      }
     },
     "metadata": {},
     "output_type": "display_data"
    },
    {
     "data": {
      "text/plain": "Validation: 0it [00:00, ?it/s]",
      "application/vnd.jupyter.widget-view+json": {
       "version_major": 2,
       "version_minor": 0,
       "model_id": "daed97bc04f74358b27ddd43168cc854"
      }
     },
     "metadata": {},
     "output_type": "display_data"
    },
    {
     "data": {
      "text/plain": "Validation: 0it [00:00, ?it/s]",
      "application/vnd.jupyter.widget-view+json": {
       "version_major": 2,
       "version_minor": 0,
       "model_id": "9cc89090c3d04555886a81308c3f9232"
      }
     },
     "metadata": {},
     "output_type": "display_data"
    },
    {
     "data": {
      "text/plain": "Validation: 0it [00:00, ?it/s]",
      "application/vnd.jupyter.widget-view+json": {
       "version_major": 2,
       "version_minor": 0,
       "model_id": "17d255584ac1495a9b25bdf8489bae30"
      }
     },
     "metadata": {},
     "output_type": "display_data"
    },
    {
     "data": {
      "text/plain": "Validation: 0it [00:00, ?it/s]",
      "application/vnd.jupyter.widget-view+json": {
       "version_major": 2,
       "version_minor": 0,
       "model_id": "ececfe9d8cd24ae2853d401812d5b204"
      }
     },
     "metadata": {},
     "output_type": "display_data"
    },
    {
     "data": {
      "text/plain": "Validation: 0it [00:00, ?it/s]",
      "application/vnd.jupyter.widget-view+json": {
       "version_major": 2,
       "version_minor": 0,
       "model_id": "40b93dc2a272430190915d8a8770ad36"
      }
     },
     "metadata": {},
     "output_type": "display_data"
    },
    {
     "data": {
      "text/plain": "Validation: 0it [00:00, ?it/s]",
      "application/vnd.jupyter.widget-view+json": {
       "version_major": 2,
       "version_minor": 0,
       "model_id": "47dcd0f497ce46afa52e2ffcab6dac25"
      }
     },
     "metadata": {},
     "output_type": "display_data"
    },
    {
     "data": {
      "text/plain": "Validation: 0it [00:00, ?it/s]",
      "application/vnd.jupyter.widget-view+json": {
       "version_major": 2,
       "version_minor": 0,
       "model_id": "f8b5734a27814f089ba68da2a92896f5"
      }
     },
     "metadata": {},
     "output_type": "display_data"
    },
    {
     "data": {
      "text/plain": "Validation: 0it [00:00, ?it/s]",
      "application/vnd.jupyter.widget-view+json": {
       "version_major": 2,
       "version_minor": 0,
       "model_id": "8705153d00eb496293c6a13a134cabcc"
      }
     },
     "metadata": {},
     "output_type": "display_data"
    },
    {
     "data": {
      "text/plain": "Validation: 0it [00:00, ?it/s]",
      "application/vnd.jupyter.widget-view+json": {
       "version_major": 2,
       "version_minor": 0,
       "model_id": "7e66eec687a3499b802b162408ba22fb"
      }
     },
     "metadata": {},
     "output_type": "display_data"
    },
    {
     "data": {
      "text/plain": "Validation: 0it [00:00, ?it/s]",
      "application/vnd.jupyter.widget-view+json": {
       "version_major": 2,
       "version_minor": 0,
       "model_id": "4674aa0f8f79480db5deaa980f724026"
      }
     },
     "metadata": {},
     "output_type": "display_data"
    },
    {
     "data": {
      "text/plain": "Validation: 0it [00:00, ?it/s]",
      "application/vnd.jupyter.widget-view+json": {
       "version_major": 2,
       "version_minor": 0,
       "model_id": "773ebef4c031437188575002ebc73774"
      }
     },
     "metadata": {},
     "output_type": "display_data"
    },
    {
     "data": {
      "text/plain": "Validation: 0it [00:00, ?it/s]",
      "application/vnd.jupyter.widget-view+json": {
       "version_major": 2,
       "version_minor": 0,
       "model_id": "e62512c1e1e246f0be977ea2742d4f8a"
      }
     },
     "metadata": {},
     "output_type": "display_data"
    },
    {
     "data": {
      "text/plain": "Validation: 0it [00:00, ?it/s]",
      "application/vnd.jupyter.widget-view+json": {
       "version_major": 2,
       "version_minor": 0,
       "model_id": "1e3338841bad44dfa90804491864217d"
      }
     },
     "metadata": {},
     "output_type": "display_data"
    },
    {
     "data": {
      "text/plain": "Validation: 0it [00:00, ?it/s]",
      "application/vnd.jupyter.widget-view+json": {
       "version_major": 2,
       "version_minor": 0,
       "model_id": "7cb2c5ea2a244e488e5ca77003be304c"
      }
     },
     "metadata": {},
     "output_type": "display_data"
    },
    {
     "data": {
      "text/plain": "Validation: 0it [00:00, ?it/s]",
      "application/vnd.jupyter.widget-view+json": {
       "version_major": 2,
       "version_minor": 0,
       "model_id": "46a46e4dff9b4c17b7204a904bcf82d1"
      }
     },
     "metadata": {},
     "output_type": "display_data"
    },
    {
     "data": {
      "text/plain": "Validation: 0it [00:00, ?it/s]",
      "application/vnd.jupyter.widget-view+json": {
       "version_major": 2,
       "version_minor": 0,
       "model_id": "afd17c357d474c02bb91cca9276f6b35"
      }
     },
     "metadata": {},
     "output_type": "display_data"
    },
    {
     "data": {
      "text/plain": "Validation: 0it [00:00, ?it/s]",
      "application/vnd.jupyter.widget-view+json": {
       "version_major": 2,
       "version_minor": 0,
       "model_id": "97e47d78089a4cc9b8dc93fadf0c7a8b"
      }
     },
     "metadata": {},
     "output_type": "display_data"
    },
    {
     "data": {
      "text/plain": "Validation: 0it [00:00, ?it/s]",
      "application/vnd.jupyter.widget-view+json": {
       "version_major": 2,
       "version_minor": 0,
       "model_id": "848d377eaa0f401199c44d54bb0d49ea"
      }
     },
     "metadata": {},
     "output_type": "display_data"
    },
    {
     "data": {
      "text/plain": "Validation: 0it [00:00, ?it/s]",
      "application/vnd.jupyter.widget-view+json": {
       "version_major": 2,
       "version_minor": 0,
       "model_id": "a5468f4773b14815b75d1eecd98de0b0"
      }
     },
     "metadata": {},
     "output_type": "display_data"
    },
    {
     "data": {
      "text/plain": "Validation: 0it [00:00, ?it/s]",
      "application/vnd.jupyter.widget-view+json": {
       "version_major": 2,
       "version_minor": 0,
       "model_id": "7f70c5dd984b46398d83d468e99befdd"
      }
     },
     "metadata": {},
     "output_type": "display_data"
    },
    {
     "data": {
      "text/plain": "Validation: 0it [00:00, ?it/s]",
      "application/vnd.jupyter.widget-view+json": {
       "version_major": 2,
       "version_minor": 0,
       "model_id": "5a24b7e0e1b040b6ae0f798f005332de"
      }
     },
     "metadata": {},
     "output_type": "display_data"
    },
    {
     "data": {
      "text/plain": "Validation: 0it [00:00, ?it/s]",
      "application/vnd.jupyter.widget-view+json": {
       "version_major": 2,
       "version_minor": 0,
       "model_id": "ed2d552e42f4404a8f473566e9d4aaf2"
      }
     },
     "metadata": {},
     "output_type": "display_data"
    },
    {
     "data": {
      "text/plain": "Validation: 0it [00:00, ?it/s]",
      "application/vnd.jupyter.widget-view+json": {
       "version_major": 2,
       "version_minor": 0,
       "model_id": "5080ceb11d9f4922902ba1ad9a642855"
      }
     },
     "metadata": {},
     "output_type": "display_data"
    },
    {
     "data": {
      "text/plain": "Validation: 0it [00:00, ?it/s]",
      "application/vnd.jupyter.widget-view+json": {
       "version_major": 2,
       "version_minor": 0,
       "model_id": "8555035bdd45461fad7a930dee44aa14"
      }
     },
     "metadata": {},
     "output_type": "display_data"
    },
    {
     "data": {
      "text/plain": "Validation: 0it [00:00, ?it/s]",
      "application/vnd.jupyter.widget-view+json": {
       "version_major": 2,
       "version_minor": 0,
       "model_id": "e0bbb84c7bda490f8e4dce5e441a4672"
      }
     },
     "metadata": {},
     "output_type": "display_data"
    },
    {
     "data": {
      "text/plain": "Validation: 0it [00:00, ?it/s]",
      "application/vnd.jupyter.widget-view+json": {
       "version_major": 2,
       "version_minor": 0,
       "model_id": "e5f98061a6564beb8065919a84629d3b"
      }
     },
     "metadata": {},
     "output_type": "display_data"
    },
    {
     "data": {
      "text/plain": "Validation: 0it [00:00, ?it/s]",
      "application/vnd.jupyter.widget-view+json": {
       "version_major": 2,
       "version_minor": 0,
       "model_id": "a97022af523c46469e4b28f6ddb948f6"
      }
     },
     "metadata": {},
     "output_type": "display_data"
    },
    {
     "data": {
      "text/plain": "Validation: 0it [00:00, ?it/s]",
      "application/vnd.jupyter.widget-view+json": {
       "version_major": 2,
       "version_minor": 0,
       "model_id": "ee52f754f03c4e99877c4417f1a90037"
      }
     },
     "metadata": {},
     "output_type": "display_data"
    },
    {
     "data": {
      "text/plain": "Validation: 0it [00:00, ?it/s]",
      "application/vnd.jupyter.widget-view+json": {
       "version_major": 2,
       "version_minor": 0,
       "model_id": "d76a2e6c4a174a268be1fe72a8dfa430"
      }
     },
     "metadata": {},
     "output_type": "display_data"
    },
    {
     "data": {
      "text/plain": "Validation: 0it [00:00, ?it/s]",
      "application/vnd.jupyter.widget-view+json": {
       "version_major": 2,
       "version_minor": 0,
       "model_id": "3f4c6b55ae0a42d8953d9332973ecbf8"
      }
     },
     "metadata": {},
     "output_type": "display_data"
    },
    {
     "data": {
      "text/plain": "Validation: 0it [00:00, ?it/s]",
      "application/vnd.jupyter.widget-view+json": {
       "version_major": 2,
       "version_minor": 0,
       "model_id": "09e9004aa86a4f7ebf92dd8b8e16794d"
      }
     },
     "metadata": {},
     "output_type": "display_data"
    },
    {
     "data": {
      "text/plain": "Validation: 0it [00:00, ?it/s]",
      "application/vnd.jupyter.widget-view+json": {
       "version_major": 2,
       "version_minor": 0,
       "model_id": "70ade483da28483cbb90721118c02c27"
      }
     },
     "metadata": {},
     "output_type": "display_data"
    },
    {
     "data": {
      "text/plain": "Validation: 0it [00:00, ?it/s]",
      "application/vnd.jupyter.widget-view+json": {
       "version_major": 2,
       "version_minor": 0,
       "model_id": "fce6f0756f2e4bcb915056cb7c8efffd"
      }
     },
     "metadata": {},
     "output_type": "display_data"
    },
    {
     "data": {
      "text/plain": "Validation: 0it [00:00, ?it/s]",
      "application/vnd.jupyter.widget-view+json": {
       "version_major": 2,
       "version_minor": 0,
       "model_id": "6341657ec153493fae206883b10526b4"
      }
     },
     "metadata": {},
     "output_type": "display_data"
    },
    {
     "data": {
      "text/plain": "Validation: 0it [00:00, ?it/s]",
      "application/vnd.jupyter.widget-view+json": {
       "version_major": 2,
       "version_minor": 0,
       "model_id": "134e2b2e213446648a245cc6c0d25d13"
      }
     },
     "metadata": {},
     "output_type": "display_data"
    },
    {
     "data": {
      "text/plain": "Validation: 0it [00:00, ?it/s]",
      "application/vnd.jupyter.widget-view+json": {
       "version_major": 2,
       "version_minor": 0,
       "model_id": "4e86c6b5b9b24af9a7af6fe41a77aad1"
      }
     },
     "metadata": {},
     "output_type": "display_data"
    },
    {
     "data": {
      "text/plain": "Validation: 0it [00:00, ?it/s]",
      "application/vnd.jupyter.widget-view+json": {
       "version_major": 2,
       "version_minor": 0,
       "model_id": "a5e21b61eea34d89b482ebf324a1883e"
      }
     },
     "metadata": {},
     "output_type": "display_data"
    },
    {
     "data": {
      "text/plain": "Validation: 0it [00:00, ?it/s]",
      "application/vnd.jupyter.widget-view+json": {
       "version_major": 2,
       "version_minor": 0,
       "model_id": "4448232721f54cbeae38e2640a8d133d"
      }
     },
     "metadata": {},
     "output_type": "display_data"
    },
    {
     "data": {
      "text/plain": "Validation: 0it [00:00, ?it/s]",
      "application/vnd.jupyter.widget-view+json": {
       "version_major": 2,
       "version_minor": 0,
       "model_id": "224d9170e8a84f588876a4edae3c351c"
      }
     },
     "metadata": {},
     "output_type": "display_data"
    },
    {
     "data": {
      "text/plain": "Validation: 0it [00:00, ?it/s]",
      "application/vnd.jupyter.widget-view+json": {
       "version_major": 2,
       "version_minor": 0,
       "model_id": "9ca922cc269f4a19943f746c56cf9930"
      }
     },
     "metadata": {},
     "output_type": "display_data"
    },
    {
     "data": {
      "text/plain": "Validation: 0it [00:00, ?it/s]",
      "application/vnd.jupyter.widget-view+json": {
       "version_major": 2,
       "version_minor": 0,
       "model_id": "0909b11c5e4b47f382de6c5cf5ad33e2"
      }
     },
     "metadata": {},
     "output_type": "display_data"
    },
    {
     "data": {
      "text/plain": "Validation: 0it [00:00, ?it/s]",
      "application/vnd.jupyter.widget-view+json": {
       "version_major": 2,
       "version_minor": 0,
       "model_id": "7ceba14d5ca14e16a45e325d8dac4d44"
      }
     },
     "metadata": {},
     "output_type": "display_data"
    },
    {
     "data": {
      "text/plain": "Validation: 0it [00:00, ?it/s]",
      "application/vnd.jupyter.widget-view+json": {
       "version_major": 2,
       "version_minor": 0,
       "model_id": "f1771e7daa7542ba9eb372bd4b0bf76a"
      }
     },
     "metadata": {},
     "output_type": "display_data"
    },
    {
     "data": {
      "text/plain": "Validation: 0it [00:00, ?it/s]",
      "application/vnd.jupyter.widget-view+json": {
       "version_major": 2,
       "version_minor": 0,
       "model_id": "e2bfa495eea44cdd8d0c0ab5c35339de"
      }
     },
     "metadata": {},
     "output_type": "display_data"
    },
    {
     "data": {
      "text/plain": "Validation: 0it [00:00, ?it/s]",
      "application/vnd.jupyter.widget-view+json": {
       "version_major": 2,
       "version_minor": 0,
       "model_id": "254162e14c884c329776bc479ac7a6a3"
      }
     },
     "metadata": {},
     "output_type": "display_data"
    },
    {
     "data": {
      "text/plain": "Validation: 0it [00:00, ?it/s]",
      "application/vnd.jupyter.widget-view+json": {
       "version_major": 2,
       "version_minor": 0,
       "model_id": "0b9ad88b100b495b8cddc30fcaa82f5b"
      }
     },
     "metadata": {},
     "output_type": "display_data"
    },
    {
     "data": {
      "text/plain": "Validation: 0it [00:00, ?it/s]",
      "application/vnd.jupyter.widget-view+json": {
       "version_major": 2,
       "version_minor": 0,
       "model_id": "18291ba7ac4c40d4b1b62f644ecff131"
      }
     },
     "metadata": {},
     "output_type": "display_data"
    },
    {
     "data": {
      "text/plain": "Validation: 0it [00:00, ?it/s]",
      "application/vnd.jupyter.widget-view+json": {
       "version_major": 2,
       "version_minor": 0,
       "model_id": "480b3c9cd4fa40418e0b53f2faf0751f"
      }
     },
     "metadata": {},
     "output_type": "display_data"
    },
    {
     "data": {
      "text/plain": "Validation: 0it [00:00, ?it/s]",
      "application/vnd.jupyter.widget-view+json": {
       "version_major": 2,
       "version_minor": 0,
       "model_id": "c1e682da3675420e88d57609fe959c2d"
      }
     },
     "metadata": {},
     "output_type": "display_data"
    },
    {
     "data": {
      "text/plain": "Validation: 0it [00:00, ?it/s]",
      "application/vnd.jupyter.widget-view+json": {
       "version_major": 2,
       "version_minor": 0,
       "model_id": "9374fc97227b4164a9cebeb0f3a7b38e"
      }
     },
     "metadata": {},
     "output_type": "display_data"
    },
    {
     "data": {
      "text/plain": "Validation: 0it [00:00, ?it/s]",
      "application/vnd.jupyter.widget-view+json": {
       "version_major": 2,
       "version_minor": 0,
       "model_id": "c57d758cc604432d9e422160210b8e03"
      }
     },
     "metadata": {},
     "output_type": "display_data"
    },
    {
     "data": {
      "text/plain": "Validation: 0it [00:00, ?it/s]",
      "application/vnd.jupyter.widget-view+json": {
       "version_major": 2,
       "version_minor": 0,
       "model_id": "ee04d27dd246415790e6d1925305be57"
      }
     },
     "metadata": {},
     "output_type": "display_data"
    },
    {
     "data": {
      "text/plain": "Validation: 0it [00:00, ?it/s]",
      "application/vnd.jupyter.widget-view+json": {
       "version_major": 2,
       "version_minor": 0,
       "model_id": "66ba409b3605415aa6c9a67bd991518d"
      }
     },
     "metadata": {},
     "output_type": "display_data"
    },
    {
     "data": {
      "text/plain": "Validation: 0it [00:00, ?it/s]",
      "application/vnd.jupyter.widget-view+json": {
       "version_major": 2,
       "version_minor": 0,
       "model_id": "b6801553715e4504b9fbda540581a601"
      }
     },
     "metadata": {},
     "output_type": "display_data"
    },
    {
     "data": {
      "text/plain": "Validation: 0it [00:00, ?it/s]",
      "application/vnd.jupyter.widget-view+json": {
       "version_major": 2,
       "version_minor": 0,
       "model_id": "b6f78673b5b943a89c32d99b02a46754"
      }
     },
     "metadata": {},
     "output_type": "display_data"
    },
    {
     "data": {
      "text/plain": "Validation: 0it [00:00, ?it/s]",
      "application/vnd.jupyter.widget-view+json": {
       "version_major": 2,
       "version_minor": 0,
       "model_id": "c7259e945d054d7eba851cbafcf8237f"
      }
     },
     "metadata": {},
     "output_type": "display_data"
    },
    {
     "data": {
      "text/plain": "Validation: 0it [00:00, ?it/s]",
      "application/vnd.jupyter.widget-view+json": {
       "version_major": 2,
       "version_minor": 0,
       "model_id": "257ea5bdf49a4589bf1cdc9ffee43145"
      }
     },
     "metadata": {},
     "output_type": "display_data"
    },
    {
     "data": {
      "text/plain": "Validation: 0it [00:00, ?it/s]",
      "application/vnd.jupyter.widget-view+json": {
       "version_major": 2,
       "version_minor": 0,
       "model_id": "882739385f63436ab90151c71c869669"
      }
     },
     "metadata": {},
     "output_type": "display_data"
    },
    {
     "data": {
      "text/plain": "Validation: 0it [00:00, ?it/s]",
      "application/vnd.jupyter.widget-view+json": {
       "version_major": 2,
       "version_minor": 0,
       "model_id": "ff2e53b6683b485a91fe556a32247eef"
      }
     },
     "metadata": {},
     "output_type": "display_data"
    },
    {
     "data": {
      "text/plain": "Validation: 0it [00:00, ?it/s]",
      "application/vnd.jupyter.widget-view+json": {
       "version_major": 2,
       "version_minor": 0,
       "model_id": "af2e51414aed42e9b77cda5f634adb79"
      }
     },
     "metadata": {},
     "output_type": "display_data"
    },
    {
     "data": {
      "text/plain": "Validation: 0it [00:00, ?it/s]",
      "application/vnd.jupyter.widget-view+json": {
       "version_major": 2,
       "version_minor": 0,
       "model_id": "18cf582d424045e0a444ba92bcf02487"
      }
     },
     "metadata": {},
     "output_type": "display_data"
    },
    {
     "data": {
      "text/plain": "Validation: 0it [00:00, ?it/s]",
      "application/vnd.jupyter.widget-view+json": {
       "version_major": 2,
       "version_minor": 0,
       "model_id": "a780b298c88e4db79734802e7f795301"
      }
     },
     "metadata": {},
     "output_type": "display_data"
    },
    {
     "data": {
      "text/plain": "Validation: 0it [00:00, ?it/s]",
      "application/vnd.jupyter.widget-view+json": {
       "version_major": 2,
       "version_minor": 0,
       "model_id": "ec398811baf74e72811e16a6e0c2fe48"
      }
     },
     "metadata": {},
     "output_type": "display_data"
    },
    {
     "data": {
      "text/plain": "Validation: 0it [00:00, ?it/s]",
      "application/vnd.jupyter.widget-view+json": {
       "version_major": 2,
       "version_minor": 0,
       "model_id": "93f1c84ba1f346ab9ff37e36ac280c4e"
      }
     },
     "metadata": {},
     "output_type": "display_data"
    },
    {
     "data": {
      "text/plain": "Validation: 0it [00:00, ?it/s]",
      "application/vnd.jupyter.widget-view+json": {
       "version_major": 2,
       "version_minor": 0,
       "model_id": "d2ad449d6d4f425bbdc287c40c2519bc"
      }
     },
     "metadata": {},
     "output_type": "display_data"
    },
    {
     "data": {
      "text/plain": "Validation: 0it [00:00, ?it/s]",
      "application/vnd.jupyter.widget-view+json": {
       "version_major": 2,
       "version_minor": 0,
       "model_id": "02cb30c857b748229afe3eb73056562d"
      }
     },
     "metadata": {},
     "output_type": "display_data"
    },
    {
     "data": {
      "text/plain": "Validation: 0it [00:00, ?it/s]",
      "application/vnd.jupyter.widget-view+json": {
       "version_major": 2,
       "version_minor": 0,
       "model_id": "1239e9a6ffae418bb76f257a22bc6897"
      }
     },
     "metadata": {},
     "output_type": "display_data"
    },
    {
     "data": {
      "text/plain": "Validation: 0it [00:00, ?it/s]",
      "application/vnd.jupyter.widget-view+json": {
       "version_major": 2,
       "version_minor": 0,
       "model_id": "6bb46fa6f60a4554b0dd2acd11794aa4"
      }
     },
     "metadata": {},
     "output_type": "display_data"
    },
    {
     "data": {
      "text/plain": "Validation: 0it [00:00, ?it/s]",
      "application/vnd.jupyter.widget-view+json": {
       "version_major": 2,
       "version_minor": 0,
       "model_id": "0934a7c374e8472f96a7c54257d174a6"
      }
     },
     "metadata": {},
     "output_type": "display_data"
    },
    {
     "data": {
      "text/plain": "Validation: 0it [00:00, ?it/s]",
      "application/vnd.jupyter.widget-view+json": {
       "version_major": 2,
       "version_minor": 0,
       "model_id": "6cf53c5315f940ccbb8f0dcc13ec9590"
      }
     },
     "metadata": {},
     "output_type": "display_data"
    },
    {
     "data": {
      "text/plain": "Validation: 0it [00:00, ?it/s]",
      "application/vnd.jupyter.widget-view+json": {
       "version_major": 2,
       "version_minor": 0,
       "model_id": "81cab9ec6e5e4af6ab8d3de08bf6da8a"
      }
     },
     "metadata": {},
     "output_type": "display_data"
    },
    {
     "data": {
      "text/plain": "Validation: 0it [00:00, ?it/s]",
      "application/vnd.jupyter.widget-view+json": {
       "version_major": 2,
       "version_minor": 0,
       "model_id": "443c748a876f4227b889da7caf7eabad"
      }
     },
     "metadata": {},
     "output_type": "display_data"
    },
    {
     "data": {
      "text/plain": "Validation: 0it [00:00, ?it/s]",
      "application/vnd.jupyter.widget-view+json": {
       "version_major": 2,
       "version_minor": 0,
       "model_id": "8b5ce033347a4078a952c4b9b4ab0923"
      }
     },
     "metadata": {},
     "output_type": "display_data"
    },
    {
     "data": {
      "text/plain": "Validation: 0it [00:00, ?it/s]",
      "application/vnd.jupyter.widget-view+json": {
       "version_major": 2,
       "version_minor": 0,
       "model_id": "dd8285b4bd8b4cf0aa10d99a5053561c"
      }
     },
     "metadata": {},
     "output_type": "display_data"
    },
    {
     "data": {
      "text/plain": "Validation: 0it [00:00, ?it/s]",
      "application/vnd.jupyter.widget-view+json": {
       "version_major": 2,
       "version_minor": 0,
       "model_id": "61480d3251024ee99dc59fdcb1c6fa88"
      }
     },
     "metadata": {},
     "output_type": "display_data"
    },
    {
     "data": {
      "text/plain": "Validation: 0it [00:00, ?it/s]",
      "application/vnd.jupyter.widget-view+json": {
       "version_major": 2,
       "version_minor": 0,
       "model_id": "578a7a6e12774d8db56f6539101e5781"
      }
     },
     "metadata": {},
     "output_type": "display_data"
    },
    {
     "data": {
      "text/plain": "Validation: 0it [00:00, ?it/s]",
      "application/vnd.jupyter.widget-view+json": {
       "version_major": 2,
       "version_minor": 0,
       "model_id": "eaac95e95cf44876b04c47df19f9e6df"
      }
     },
     "metadata": {},
     "output_type": "display_data"
    },
    {
     "data": {
      "text/plain": "Validation: 0it [00:00, ?it/s]",
      "application/vnd.jupyter.widget-view+json": {
       "version_major": 2,
       "version_minor": 0,
       "model_id": "6fdb66e12a2f473c96bc052014a3d0c7"
      }
     },
     "metadata": {},
     "output_type": "display_data"
    },
    {
     "data": {
      "text/plain": "Validation: 0it [00:00, ?it/s]",
      "application/vnd.jupyter.widget-view+json": {
       "version_major": 2,
       "version_minor": 0,
       "model_id": "fb45306c49b64ea08ba4e4beb67801a8"
      }
     },
     "metadata": {},
     "output_type": "display_data"
    },
    {
     "data": {
      "text/plain": "Validation: 0it [00:00, ?it/s]",
      "application/vnd.jupyter.widget-view+json": {
       "version_major": 2,
       "version_minor": 0,
       "model_id": "73d18953041c4069925a3f739ad52f43"
      }
     },
     "metadata": {},
     "output_type": "display_data"
    },
    {
     "data": {
      "text/plain": "Validation: 0it [00:00, ?it/s]",
      "application/vnd.jupyter.widget-view+json": {
       "version_major": 2,
       "version_minor": 0,
       "model_id": "7f6e7195ef814a5b87771e25c61de0c0"
      }
     },
     "metadata": {},
     "output_type": "display_data"
    },
    {
     "data": {
      "text/plain": "Validation: 0it [00:00, ?it/s]",
      "application/vnd.jupyter.widget-view+json": {
       "version_major": 2,
       "version_minor": 0,
       "model_id": "ba51d7e6be8345f299e74f9fc43f781a"
      }
     },
     "metadata": {},
     "output_type": "display_data"
    },
    {
     "data": {
      "text/plain": "Validation: 0it [00:00, ?it/s]",
      "application/vnd.jupyter.widget-view+json": {
       "version_major": 2,
       "version_minor": 0,
       "model_id": "4c20d3b2de544e0b89136e8a5ee8d977"
      }
     },
     "metadata": {},
     "output_type": "display_data"
    },
    {
     "data": {
      "text/plain": "Validation: 0it [00:00, ?it/s]",
      "application/vnd.jupyter.widget-view+json": {
       "version_major": 2,
       "version_minor": 0,
       "model_id": "2475164c2db64a9599d84edfcefa84b6"
      }
     },
     "metadata": {},
     "output_type": "display_data"
    },
    {
     "data": {
      "text/plain": "Validation: 0it [00:00, ?it/s]",
      "application/vnd.jupyter.widget-view+json": {
       "version_major": 2,
       "version_minor": 0,
       "model_id": "8894d921b6d04bfc8ab5e9e5d08bd375"
      }
     },
     "metadata": {},
     "output_type": "display_data"
    },
    {
     "data": {
      "text/plain": "Validation: 0it [00:00, ?it/s]",
      "application/vnd.jupyter.widget-view+json": {
       "version_major": 2,
       "version_minor": 0,
       "model_id": "2cc392a825f34c51916f39f289971fa7"
      }
     },
     "metadata": {},
     "output_type": "display_data"
    },
    {
     "data": {
      "text/plain": "Validation: 0it [00:00, ?it/s]",
      "application/vnd.jupyter.widget-view+json": {
       "version_major": 2,
       "version_minor": 0,
       "model_id": "e7ea0c7b18394ad0b26a434b94125080"
      }
     },
     "metadata": {},
     "output_type": "display_data"
    },
    {
     "data": {
      "text/plain": "Validation: 0it [00:00, ?it/s]",
      "application/vnd.jupyter.widget-view+json": {
       "version_major": 2,
       "version_minor": 0,
       "model_id": "b61c6347cbbb477fb8360680d209f232"
      }
     },
     "metadata": {},
     "output_type": "display_data"
    },
    {
     "data": {
      "text/plain": "Validation: 0it [00:00, ?it/s]",
      "application/vnd.jupyter.widget-view+json": {
       "version_major": 2,
       "version_minor": 0,
       "model_id": "57fa3776e2d84a94a447763b7c663ba1"
      }
     },
     "metadata": {},
     "output_type": "display_data"
    },
    {
     "data": {
      "text/plain": "Validation: 0it [00:00, ?it/s]",
      "application/vnd.jupyter.widget-view+json": {
       "version_major": 2,
       "version_minor": 0,
       "model_id": "e2b67127cb314c40a93b6e79bfa81281"
      }
     },
     "metadata": {},
     "output_type": "display_data"
    },
    {
     "data": {
      "text/plain": "Validation: 0it [00:00, ?it/s]",
      "application/vnd.jupyter.widget-view+json": {
       "version_major": 2,
       "version_minor": 0,
       "model_id": "0a59de4941c94a7ebe84c69bc39f9ad4"
      }
     },
     "metadata": {},
     "output_type": "display_data"
    },
    {
     "data": {
      "text/plain": "Validation: 0it [00:00, ?it/s]",
      "application/vnd.jupyter.widget-view+json": {
       "version_major": 2,
       "version_minor": 0,
       "model_id": "f7a240b4325047169665011d294ece64"
      }
     },
     "metadata": {},
     "output_type": "display_data"
    },
    {
     "data": {
      "text/plain": "Validation: 0it [00:00, ?it/s]",
      "application/vnd.jupyter.widget-view+json": {
       "version_major": 2,
       "version_minor": 0,
       "model_id": "2a784f2a60154d0782448efb71aa3623"
      }
     },
     "metadata": {},
     "output_type": "display_data"
    },
    {
     "data": {
      "text/plain": "Validation: 0it [00:00, ?it/s]",
      "application/vnd.jupyter.widget-view+json": {
       "version_major": 2,
       "version_minor": 0,
       "model_id": "07cfb6c3b7514b16a8cbc43113519690"
      }
     },
     "metadata": {},
     "output_type": "display_data"
    },
    {
     "data": {
      "text/plain": "Validation: 0it [00:00, ?it/s]",
      "application/vnd.jupyter.widget-view+json": {
       "version_major": 2,
       "version_minor": 0,
       "model_id": "e69c48caabf54d75a3c6a32073d57983"
      }
     },
     "metadata": {},
     "output_type": "display_data"
    },
    {
     "data": {
      "text/plain": "Validation: 0it [00:00, ?it/s]",
      "application/vnd.jupyter.widget-view+json": {
       "version_major": 2,
       "version_minor": 0,
       "model_id": "a099e17b0cd643208d45e35498e1e659"
      }
     },
     "metadata": {},
     "output_type": "display_data"
    },
    {
     "data": {
      "text/plain": "Validation: 0it [00:00, ?it/s]",
      "application/vnd.jupyter.widget-view+json": {
       "version_major": 2,
       "version_minor": 0,
       "model_id": "e6ed91277d4b43d1ba9b1667b626ebcb"
      }
     },
     "metadata": {},
     "output_type": "display_data"
    },
    {
     "data": {
      "text/plain": "Validation: 0it [00:00, ?it/s]",
      "application/vnd.jupyter.widget-view+json": {
       "version_major": 2,
       "version_minor": 0,
       "model_id": "6de52cef9bcc4228809102c737053927"
      }
     },
     "metadata": {},
     "output_type": "display_data"
    },
    {
     "data": {
      "text/plain": "Validation: 0it [00:00, ?it/s]",
      "application/vnd.jupyter.widget-view+json": {
       "version_major": 2,
       "version_minor": 0,
       "model_id": "45dc8d83c034477b98abb44ffac7a7b0"
      }
     },
     "metadata": {},
     "output_type": "display_data"
    },
    {
     "data": {
      "text/plain": "Validation: 0it [00:00, ?it/s]",
      "application/vnd.jupyter.widget-view+json": {
       "version_major": 2,
       "version_minor": 0,
       "model_id": "02f2f16e249c40d69a166ea6516496ec"
      }
     },
     "metadata": {},
     "output_type": "display_data"
    },
    {
     "data": {
      "text/plain": "Validation: 0it [00:00, ?it/s]",
      "application/vnd.jupyter.widget-view+json": {
       "version_major": 2,
       "version_minor": 0,
       "model_id": "91f7fcb534154ada8969b7fdb207febf"
      }
     },
     "metadata": {},
     "output_type": "display_data"
    },
    {
     "data": {
      "text/plain": "Validation: 0it [00:00, ?it/s]",
      "application/vnd.jupyter.widget-view+json": {
       "version_major": 2,
       "version_minor": 0,
       "model_id": "6b34e294c9294d52983c856f146f27d5"
      }
     },
     "metadata": {},
     "output_type": "display_data"
    },
    {
     "data": {
      "text/plain": "Validation: 0it [00:00, ?it/s]",
      "application/vnd.jupyter.widget-view+json": {
       "version_major": 2,
       "version_minor": 0,
       "model_id": "108b7c73e42d4ad5a67669aeb04e5918"
      }
     },
     "metadata": {},
     "output_type": "display_data"
    },
    {
     "data": {
      "text/plain": "Validation: 0it [00:00, ?it/s]",
      "application/vnd.jupyter.widget-view+json": {
       "version_major": 2,
       "version_minor": 0,
       "model_id": "ddde9f4fb1b44c86adc00d71ad8a7c71"
      }
     },
     "metadata": {},
     "output_type": "display_data"
    },
    {
     "data": {
      "text/plain": "Validation: 0it [00:00, ?it/s]",
      "application/vnd.jupyter.widget-view+json": {
       "version_major": 2,
       "version_minor": 0,
       "model_id": "caeeb01221e34c428c5ae2fb020b02de"
      }
     },
     "metadata": {},
     "output_type": "display_data"
    },
    {
     "data": {
      "text/plain": "Validation: 0it [00:00, ?it/s]",
      "application/vnd.jupyter.widget-view+json": {
       "version_major": 2,
       "version_minor": 0,
       "model_id": "fcd989d249b14c12a17e530d72e4ba26"
      }
     },
     "metadata": {},
     "output_type": "display_data"
    },
    {
     "data": {
      "text/plain": "Validation: 0it [00:00, ?it/s]",
      "application/vnd.jupyter.widget-view+json": {
       "version_major": 2,
       "version_minor": 0,
       "model_id": "43aece0de4034b4fba1c3790e299e7f5"
      }
     },
     "metadata": {},
     "output_type": "display_data"
    },
    {
     "data": {
      "text/plain": "Validation: 0it [00:00, ?it/s]",
      "application/vnd.jupyter.widget-view+json": {
       "version_major": 2,
       "version_minor": 0,
       "model_id": "39b1d877e20d461493b69a9a2e2955d6"
      }
     },
     "metadata": {},
     "output_type": "display_data"
    },
    {
     "data": {
      "text/plain": "Validation: 0it [00:00, ?it/s]",
      "application/vnd.jupyter.widget-view+json": {
       "version_major": 2,
       "version_minor": 0,
       "model_id": "ccd63a0188d444aa98bb0aa11c702c6f"
      }
     },
     "metadata": {},
     "output_type": "display_data"
    },
    {
     "data": {
      "text/plain": "Validation: 0it [00:00, ?it/s]",
      "application/vnd.jupyter.widget-view+json": {
       "version_major": 2,
       "version_minor": 0,
       "model_id": "af837d30d04e4af9b4af6f35fe8ecaf4"
      }
     },
     "metadata": {},
     "output_type": "display_data"
    },
    {
     "data": {
      "text/plain": "Validation: 0it [00:00, ?it/s]",
      "application/vnd.jupyter.widget-view+json": {
       "version_major": 2,
       "version_minor": 0,
       "model_id": "ef2a5b7d75ca4222aa09491fd7d55247"
      }
     },
     "metadata": {},
     "output_type": "display_data"
    },
    {
     "data": {
      "text/plain": "Validation: 0it [00:00, ?it/s]",
      "application/vnd.jupyter.widget-view+json": {
       "version_major": 2,
       "version_minor": 0,
       "model_id": "570ec1a058564dafa47bb91fb7c4529e"
      }
     },
     "metadata": {},
     "output_type": "display_data"
    },
    {
     "data": {
      "text/plain": "Validation: 0it [00:00, ?it/s]",
      "application/vnd.jupyter.widget-view+json": {
       "version_major": 2,
       "version_minor": 0,
       "model_id": "a5b15498fa954f82acb80a5d92cb3c6d"
      }
     },
     "metadata": {},
     "output_type": "display_data"
    },
    {
     "data": {
      "text/plain": "Validation: 0it [00:00, ?it/s]",
      "application/vnd.jupyter.widget-view+json": {
       "version_major": 2,
       "version_minor": 0,
       "model_id": "a625675ecc4449e4a8bd3464ab0b2c11"
      }
     },
     "metadata": {},
     "output_type": "display_data"
    },
    {
     "data": {
      "text/plain": "Validation: 0it [00:00, ?it/s]",
      "application/vnd.jupyter.widget-view+json": {
       "version_major": 2,
       "version_minor": 0,
       "model_id": "e46921cce2914adf9ca423fff1516800"
      }
     },
     "metadata": {},
     "output_type": "display_data"
    },
    {
     "data": {
      "text/plain": "Validation: 0it [00:00, ?it/s]",
      "application/vnd.jupyter.widget-view+json": {
       "version_major": 2,
       "version_minor": 0,
       "model_id": "921297339a994c648b0f3255d2a32a9f"
      }
     },
     "metadata": {},
     "output_type": "display_data"
    },
    {
     "data": {
      "text/plain": "Validation: 0it [00:00, ?it/s]",
      "application/vnd.jupyter.widget-view+json": {
       "version_major": 2,
       "version_minor": 0,
       "model_id": "dcb5ee4af6864887a56c270f16bb120a"
      }
     },
     "metadata": {},
     "output_type": "display_data"
    },
    {
     "data": {
      "text/plain": "Validation: 0it [00:00, ?it/s]",
      "application/vnd.jupyter.widget-view+json": {
       "version_major": 2,
       "version_minor": 0,
       "model_id": "048b0d6f512b47d4ab67bb4c1bdbd727"
      }
     },
     "metadata": {},
     "output_type": "display_data"
    },
    {
     "data": {
      "text/plain": "Validation: 0it [00:00, ?it/s]",
      "application/vnd.jupyter.widget-view+json": {
       "version_major": 2,
       "version_minor": 0,
       "model_id": "ae21841236964432a5342971e3df72e4"
      }
     },
     "metadata": {},
     "output_type": "display_data"
    },
    {
     "data": {
      "text/plain": "Validation: 0it [00:00, ?it/s]",
      "application/vnd.jupyter.widget-view+json": {
       "version_major": 2,
       "version_minor": 0,
       "model_id": "16ff8162fbc54fc18c5b548f622ec377"
      }
     },
     "metadata": {},
     "output_type": "display_data"
    },
    {
     "data": {
      "text/plain": "Validation: 0it [00:00, ?it/s]",
      "application/vnd.jupyter.widget-view+json": {
       "version_major": 2,
       "version_minor": 0,
       "model_id": "bdf12dd58d1a41f6bf073d80d06961b3"
      }
     },
     "metadata": {},
     "output_type": "display_data"
    },
    {
     "data": {
      "text/plain": "Validation: 0it [00:00, ?it/s]",
      "application/vnd.jupyter.widget-view+json": {
       "version_major": 2,
       "version_minor": 0,
       "model_id": "91e62dd3e67f461c802da5ed766e6388"
      }
     },
     "metadata": {},
     "output_type": "display_data"
    },
    {
     "data": {
      "text/plain": "Validation: 0it [00:00, ?it/s]",
      "application/vnd.jupyter.widget-view+json": {
       "version_major": 2,
       "version_minor": 0,
       "model_id": "eb900b06427f44beba2a5673817f8da1"
      }
     },
     "metadata": {},
     "output_type": "display_data"
    },
    {
     "data": {
      "text/plain": "Validation: 0it [00:00, ?it/s]",
      "application/vnd.jupyter.widget-view+json": {
       "version_major": 2,
       "version_minor": 0,
       "model_id": "bf3d7092077b450cb2029b5cf0daf4c7"
      }
     },
     "metadata": {},
     "output_type": "display_data"
    },
    {
     "data": {
      "text/plain": "Validation: 0it [00:00, ?it/s]",
      "application/vnd.jupyter.widget-view+json": {
       "version_major": 2,
       "version_minor": 0,
       "model_id": "b0d4b5ffa54a40f3a840c239b663f7e1"
      }
     },
     "metadata": {},
     "output_type": "display_data"
    },
    {
     "data": {
      "text/plain": "Validation: 0it [00:00, ?it/s]",
      "application/vnd.jupyter.widget-view+json": {
       "version_major": 2,
       "version_minor": 0,
       "model_id": "30830a6a3b5d47d0a1506f8b819ff190"
      }
     },
     "metadata": {},
     "output_type": "display_data"
    },
    {
     "data": {
      "text/plain": "Validation: 0it [00:00, ?it/s]",
      "application/vnd.jupyter.widget-view+json": {
       "version_major": 2,
       "version_minor": 0,
       "model_id": "c0e2f65355194e15b7ec420d4d7e3b32"
      }
     },
     "metadata": {},
     "output_type": "display_data"
    },
    {
     "data": {
      "text/plain": "Validation: 0it [00:00, ?it/s]",
      "application/vnd.jupyter.widget-view+json": {
       "version_major": 2,
       "version_minor": 0,
       "model_id": "118f15ac26324326b6fa0d54b595054c"
      }
     },
     "metadata": {},
     "output_type": "display_data"
    },
    {
     "data": {
      "text/plain": "Validation: 0it [00:00, ?it/s]",
      "application/vnd.jupyter.widget-view+json": {
       "version_major": 2,
       "version_minor": 0,
       "model_id": "4ed8e450847e46e5b1f5d231d715ffab"
      }
     },
     "metadata": {},
     "output_type": "display_data"
    },
    {
     "data": {
      "text/plain": "Validation: 0it [00:00, ?it/s]",
      "application/vnd.jupyter.widget-view+json": {
       "version_major": 2,
       "version_minor": 0,
       "model_id": "d5d53f46d0724654a467d843e27d1db3"
      }
     },
     "metadata": {},
     "output_type": "display_data"
    },
    {
     "data": {
      "text/plain": "Validation: 0it [00:00, ?it/s]",
      "application/vnd.jupyter.widget-view+json": {
       "version_major": 2,
       "version_minor": 0,
       "model_id": "654081fa308e4548b1941fcdffd1b567"
      }
     },
     "metadata": {},
     "output_type": "display_data"
    },
    {
     "data": {
      "text/plain": "Validation: 0it [00:00, ?it/s]",
      "application/vnd.jupyter.widget-view+json": {
       "version_major": 2,
       "version_minor": 0,
       "model_id": "a9295934b6ba43c7a7c47ea93327582b"
      }
     },
     "metadata": {},
     "output_type": "display_data"
    },
    {
     "data": {
      "text/plain": "Validation: 0it [00:00, ?it/s]",
      "application/vnd.jupyter.widget-view+json": {
       "version_major": 2,
       "version_minor": 0,
       "model_id": "acdd4c8b88744658a2968f00c3441b21"
      }
     },
     "metadata": {},
     "output_type": "display_data"
    },
    {
     "data": {
      "text/plain": "Validation: 0it [00:00, ?it/s]",
      "application/vnd.jupyter.widget-view+json": {
       "version_major": 2,
       "version_minor": 0,
       "model_id": "79e5551b9278406d908f40194633b39b"
      }
     },
     "metadata": {},
     "output_type": "display_data"
    },
    {
     "data": {
      "text/plain": "Validation: 0it [00:00, ?it/s]",
      "application/vnd.jupyter.widget-view+json": {
       "version_major": 2,
       "version_minor": 0,
       "model_id": "43b78fb6c4e84bb486bf582de3444487"
      }
     },
     "metadata": {},
     "output_type": "display_data"
    },
    {
     "data": {
      "text/plain": "Validation: 0it [00:00, ?it/s]",
      "application/vnd.jupyter.widget-view+json": {
       "version_major": 2,
       "version_minor": 0,
       "model_id": "2dfe4756ff3f49a2b71d1877b94a535b"
      }
     },
     "metadata": {},
     "output_type": "display_data"
    },
    {
     "data": {
      "text/plain": "Validation: 0it [00:00, ?it/s]",
      "application/vnd.jupyter.widget-view+json": {
       "version_major": 2,
       "version_minor": 0,
       "model_id": "da48cdaae8c54d0c8f3e10757df80b96"
      }
     },
     "metadata": {},
     "output_type": "display_data"
    },
    {
     "data": {
      "text/plain": "Validation: 0it [00:00, ?it/s]",
      "application/vnd.jupyter.widget-view+json": {
       "version_major": 2,
       "version_minor": 0,
       "model_id": "79825c34edb342dd8b1e430f93f395fb"
      }
     },
     "metadata": {},
     "output_type": "display_data"
    },
    {
     "data": {
      "text/plain": "Validation: 0it [00:00, ?it/s]",
      "application/vnd.jupyter.widget-view+json": {
       "version_major": 2,
       "version_minor": 0,
       "model_id": "39a5336f14aa4c648a28a3a7ed9a56f7"
      }
     },
     "metadata": {},
     "output_type": "display_data"
    },
    {
     "data": {
      "text/plain": "Validation: 0it [00:00, ?it/s]",
      "application/vnd.jupyter.widget-view+json": {
       "version_major": 2,
       "version_minor": 0,
       "model_id": "907aa292f1b64fb7a0ca6e5ccd087360"
      }
     },
     "metadata": {},
     "output_type": "display_data"
    },
    {
     "data": {
      "text/plain": "Validation: 0it [00:00, ?it/s]",
      "application/vnd.jupyter.widget-view+json": {
       "version_major": 2,
       "version_minor": 0,
       "model_id": "3796a3cbd5ca4dbeb6ccfbb4d14b5c78"
      }
     },
     "metadata": {},
     "output_type": "display_data"
    },
    {
     "data": {
      "text/plain": "Validation: 0it [00:00, ?it/s]",
      "application/vnd.jupyter.widget-view+json": {
       "version_major": 2,
       "version_minor": 0,
       "model_id": "5d9b8a3a943b4a87a202c46ba007a06d"
      }
     },
     "metadata": {},
     "output_type": "display_data"
    },
    {
     "data": {
      "text/plain": "Validation: 0it [00:00, ?it/s]",
      "application/vnd.jupyter.widget-view+json": {
       "version_major": 2,
       "version_minor": 0,
       "model_id": "f10bcbca8eef43258ac3ab243591a707"
      }
     },
     "metadata": {},
     "output_type": "display_data"
    },
    {
     "data": {
      "text/plain": "Validation: 0it [00:00, ?it/s]",
      "application/vnd.jupyter.widget-view+json": {
       "version_major": 2,
       "version_minor": 0,
       "model_id": "e997222d971c4cc08ceba9aa0b1f9377"
      }
     },
     "metadata": {},
     "output_type": "display_data"
    },
    {
     "data": {
      "text/plain": "Validation: 0it [00:00, ?it/s]",
      "application/vnd.jupyter.widget-view+json": {
       "version_major": 2,
       "version_minor": 0,
       "model_id": "ae1a5377c7154122b8194fe885707e2f"
      }
     },
     "metadata": {},
     "output_type": "display_data"
    },
    {
     "data": {
      "text/plain": "Validation: 0it [00:00, ?it/s]",
      "application/vnd.jupyter.widget-view+json": {
       "version_major": 2,
       "version_minor": 0,
       "model_id": "86a86aea408647989cc8be7f74d0fd3d"
      }
     },
     "metadata": {},
     "output_type": "display_data"
    },
    {
     "data": {
      "text/plain": "Validation: 0it [00:00, ?it/s]",
      "application/vnd.jupyter.widget-view+json": {
       "version_major": 2,
       "version_minor": 0,
       "model_id": "eb0885a0511d459ebb1a3456adb872b9"
      }
     },
     "metadata": {},
     "output_type": "display_data"
    },
    {
     "data": {
      "text/plain": "Validation: 0it [00:00, ?it/s]",
      "application/vnd.jupyter.widget-view+json": {
       "version_major": 2,
       "version_minor": 0,
       "model_id": "0c1d955db9db424c84de30620990bb7d"
      }
     },
     "metadata": {},
     "output_type": "display_data"
    },
    {
     "data": {
      "text/plain": "Validation: 0it [00:00, ?it/s]",
      "application/vnd.jupyter.widget-view+json": {
       "version_major": 2,
       "version_minor": 0,
       "model_id": "e6f86c8a93b34b48bd453efa063df640"
      }
     },
     "metadata": {},
     "output_type": "display_data"
    },
    {
     "data": {
      "text/plain": "Validation: 0it [00:00, ?it/s]",
      "application/vnd.jupyter.widget-view+json": {
       "version_major": 2,
       "version_minor": 0,
       "model_id": "36666a310de64053b0f036e204768e84"
      }
     },
     "metadata": {},
     "output_type": "display_data"
    },
    {
     "data": {
      "text/plain": "Validation: 0it [00:00, ?it/s]",
      "application/vnd.jupyter.widget-view+json": {
       "version_major": 2,
       "version_minor": 0,
       "model_id": "70c5494a350544b8a135b2d2a58674cc"
      }
     },
     "metadata": {},
     "output_type": "display_data"
    },
    {
     "data": {
      "text/plain": "Validation: 0it [00:00, ?it/s]",
      "application/vnd.jupyter.widget-view+json": {
       "version_major": 2,
       "version_minor": 0,
       "model_id": "11fc2c474abc4c118bc24f0ac4c8181a"
      }
     },
     "metadata": {},
     "output_type": "display_data"
    },
    {
     "data": {
      "text/plain": "Validation: 0it [00:00, ?it/s]",
      "application/vnd.jupyter.widget-view+json": {
       "version_major": 2,
       "version_minor": 0,
       "model_id": "022140175cff4756937446285e7cf83a"
      }
     },
     "metadata": {},
     "output_type": "display_data"
    },
    {
     "name": "stderr",
     "output_type": "stream",
     "text": [
      "`Trainer.fit` stopped: `max_epochs=100` reached.\n"
     ]
    },
    {
     "name": "stdout",
     "output_type": "stream",
     "text": [
      "CPU times: user 10min 10s, sys: 4min 33s, total: 14min 43s\n",
      "Wall time: 6min 46s\n"
     ]
    }
   ],
   "source": [
    "%%time\n",
    "pl_data_module.prepare_data('train')\n",
    "trainer.fit(model=pl_model, datamodule=pl_data_module)"
   ],
   "metadata": {
    "collapsed": false,
    "ExecuteTime": {
     "end_time": "2023-11-14T19:36:35.949205300Z",
     "start_time": "2023-11-14T19:29:48.930964700Z"
    }
   }
  },
  {
   "cell_type": "code",
   "execution_count": 14,
   "outputs": [
    {
     "name": "stderr",
     "output_type": "stream",
     "text": [
      "LOCAL_RANK: 0 - CUDA_VISIBLE_DEVICES: [0]\n"
     ]
    },
    {
     "name": "stdout",
     "output_type": "stream",
     "text": [
      "============================== prepare_data: mode[None] Start ==============================\n",
      "============================== prepare_data has been invoked, mode=None ==============================\n",
      "============================== prepare_data mode[None] End ==============================\n",
      "============================== Setup [test] Start ==============================\n",
      "[len self.test_dataset] 521\n",
      "============================== Setup [test] End ==============================\n"
     ]
    },
    {
     "data": {
      "text/plain": "Testing: 0it [00:00, ?it/s]",
      "application/vnd.jupyter.widget-view+json": {
       "version_major": 2,
       "version_minor": 0,
       "model_id": "b56b6c9b86734205943ab028937c55d3"
      }
     },
     "metadata": {},
     "output_type": "display_data"
    },
    {
     "data": {
      "text/plain": "┏━━━━━━━━━━━━━━━━━━━━━━━━━━━┳━━━━━━━━━━━━━━━━━━━━━━━━━━━┓\n┃\u001B[1m \u001B[0m\u001B[1m       Test metric       \u001B[0m\u001B[1m \u001B[0m┃\u001B[1m \u001B[0m\u001B[1m      DataLoader 0       \u001B[0m\u001B[1m \u001B[0m┃\n┡━━━━━━━━━━━━━━━━━━━━━━━━━━━╇━━━━━━━━━━━━━━━━━━━━━━━━━━━┩\n│\u001B[36m \u001B[0m\u001B[36m test/avg_pearsonr_epoch \u001B[0m\u001B[36m \u001B[0m│\u001B[35m \u001B[0m\u001B[35m   0.6950410371806541    \u001B[0m\u001B[35m \u001B[0m│\n│\u001B[36m \u001B[0m\u001B[36mtest/avg_spearmanr_epoch \u001B[0m\u001B[36m \u001B[0m│\u001B[35m \u001B[0m\u001B[35m   0.44908336917129843   \u001B[0m\u001B[35m \u001B[0m│\n│\u001B[36m \u001B[0m\u001B[36m      test/ce_epoch      \u001B[0m\u001B[36m \u001B[0m│\u001B[35m \u001B[0m\u001B[35m   19.594350814819336    \u001B[0m\u001B[35m \u001B[0m│\n│\u001B[36m \u001B[0m\u001B[36m test/dS_pearsonr_epoch  \u001B[0m\u001B[36m \u001B[0m│\u001B[35m \u001B[0m\u001B[35m   0.8595295487667789    \u001B[0m\u001B[35m \u001B[0m│\n│\u001B[36m \u001B[0m\u001B[36m test/dS_spearmanr_epoch \u001B[0m\u001B[36m \u001B[0m│\u001B[35m \u001B[0m\u001B[35m   0.4247684171266864    \u001B[0m\u001B[35m \u001B[0m│\n│\u001B[36m \u001B[0m\u001B[36m test/ddG_pearsonr_epoch \u001B[0m\u001B[36m \u001B[0m│\u001B[35m \u001B[0m\u001B[35m   0.5305525255945294    \u001B[0m\u001B[35m \u001B[0m│\n│\u001B[36m \u001B[0m\u001B[36mtest/ddG_spearmanr_epoch \u001B[0m\u001B[36m \u001B[0m│\u001B[35m \u001B[0m\u001B[35m   0.47339832121591047   \u001B[0m\u001B[35m \u001B[0m│\n│\u001B[36m \u001B[0m\u001B[36m     test/loss_epoch     \u001B[0m\u001B[36m \u001B[0m│\u001B[35m \u001B[0m\u001B[35m    42.53229904174805    \u001B[0m\u001B[35m \u001B[0m│\n│\u001B[36m \u001B[0m\u001B[36m     test/mse_epoch      \u001B[0m\u001B[36m \u001B[0m│\u001B[35m \u001B[0m\u001B[35m   11.041886329650879    \u001B[0m\u001B[35m \u001B[0m│\n│\u001B[36m \u001B[0m\u001B[36m     test/reg_epoch      \u001B[0m\u001B[36m \u001B[0m│\u001B[35m \u001B[0m\u001B[35m   11.896059036254883    \u001B[0m\u001B[35m \u001B[0m│\n└───────────────────────────┴───────────────────────────┘\n",
      "text/html": "<pre style=\"white-space:pre;overflow-x:auto;line-height:normal;font-family:Menlo,'DejaVu Sans Mono',consolas,'Courier New',monospace\">┏━━━━━━━━━━━━━━━━━━━━━━━━━━━┳━━━━━━━━━━━━━━━━━━━━━━━━━━━┓\n┃<span style=\"font-weight: bold\">        Test metric        </span>┃<span style=\"font-weight: bold\">       DataLoader 0        </span>┃\n┡━━━━━━━━━━━━━━━━━━━━━━━━━━━╇━━━━━━━━━━━━━━━━━━━━━━━━━━━┩\n│<span style=\"color: #008080; text-decoration-color: #008080\">  test/avg_pearsonr_epoch  </span>│<span style=\"color: #800080; text-decoration-color: #800080\">    0.6950410371806541     </span>│\n│<span style=\"color: #008080; text-decoration-color: #008080\"> test/avg_spearmanr_epoch  </span>│<span style=\"color: #800080; text-decoration-color: #800080\">    0.44908336917129843    </span>│\n│<span style=\"color: #008080; text-decoration-color: #008080\">       test/ce_epoch       </span>│<span style=\"color: #800080; text-decoration-color: #800080\">    19.594350814819336     </span>│\n│<span style=\"color: #008080; text-decoration-color: #008080\">  test/dS_pearsonr_epoch   </span>│<span style=\"color: #800080; text-decoration-color: #800080\">    0.8595295487667789     </span>│\n│<span style=\"color: #008080; text-decoration-color: #008080\">  test/dS_spearmanr_epoch  </span>│<span style=\"color: #800080; text-decoration-color: #800080\">    0.4247684171266864     </span>│\n│<span style=\"color: #008080; text-decoration-color: #008080\">  test/ddG_pearsonr_epoch  </span>│<span style=\"color: #800080; text-decoration-color: #800080\">    0.5305525255945294     </span>│\n│<span style=\"color: #008080; text-decoration-color: #008080\"> test/ddG_spearmanr_epoch  </span>│<span style=\"color: #800080; text-decoration-color: #800080\">    0.47339832121591047    </span>│\n│<span style=\"color: #008080; text-decoration-color: #008080\">      test/loss_epoch      </span>│<span style=\"color: #800080; text-decoration-color: #800080\">     42.53229904174805     </span>│\n│<span style=\"color: #008080; text-decoration-color: #008080\">      test/mse_epoch       </span>│<span style=\"color: #800080; text-decoration-color: #800080\">    11.041886329650879     </span>│\n│<span style=\"color: #008080; text-decoration-color: #008080\">      test/reg_epoch       </span>│<span style=\"color: #800080; text-decoration-color: #800080\">    11.896059036254883     </span>│\n└───────────────────────────┴───────────────────────────┘\n</pre>\n"
     },
     "metadata": {},
     "output_type": "display_data"
    },
    {
     "data": {
      "text/plain": "[{'test/loss_epoch': 42.53229904174805,\n  'test/ce_epoch': 19.594350814819336,\n  'test/reg_epoch': 11.896059036254883,\n  'test/mse_epoch': 11.041886329650879,\n  'test/ddG_pearsonr_epoch': 0.5305525255945294,\n  'test/ddG_spearmanr_epoch': 0.47339832121591047,\n  'test/dS_pearsonr_epoch': 0.8595295487667789,\n  'test/dS_spearmanr_epoch': 0.4247684171266864,\n  'test/avg_pearsonr_epoch': 0.6950410371806541,\n  'test/avg_spearmanr_epoch': 0.44908336917129843}]"
     },
     "execution_count": 14,
     "metadata": {},
     "output_type": "execute_result"
    }
   ],
   "source": [
    "trainer.test(model=pl_model, datamodule=pl_data_module)"
   ],
   "metadata": {
    "collapsed": false,
    "ExecuteTime": {
     "end_time": "2023-11-14T19:36:36.984903600Z",
     "start_time": "2023-11-14T19:36:35.947195700Z"
    }
   }
  },
  {
   "cell_type": "code",
   "execution_count": 14,
   "outputs": [],
   "source": [],
   "metadata": {
    "collapsed": false,
    "ExecuteTime": {
     "end_time": "2023-11-14T19:36:36.984903600Z",
     "start_time": "2023-11-14T19:36:36.943251Z"
    }
   }
  },
  {
   "cell_type": "code",
   "execution_count": 14,
   "outputs": [],
   "source": [],
   "metadata": {
    "collapsed": false,
    "ExecuteTime": {
     "end_time": "2023-11-14T19:36:36.984903600Z",
     "start_time": "2023-11-14T19:36:36.950258200Z"
    }
   }
  },
  {
   "cell_type": "code",
   "execution_count": 14,
   "outputs": [],
   "source": [],
   "metadata": {
    "collapsed": false,
    "ExecuteTime": {
     "end_time": "2023-11-14T19:36:36.984903600Z",
     "start_time": "2023-11-14T19:36:36.952521600Z"
    }
   }
  },
  {
   "cell_type": "code",
   "execution_count": 14,
   "outputs": [],
   "source": [],
   "metadata": {
    "collapsed": false,
    "ExecuteTime": {
     "end_time": "2023-11-14T19:36:36.984903600Z",
     "start_time": "2023-11-14T19:36:36.954518800Z"
    }
   }
  },
  {
   "cell_type": "code",
   "execution_count": 14,
   "outputs": [],
   "source": [],
   "metadata": {
    "collapsed": false,
    "ExecuteTime": {
     "end_time": "2023-11-14T19:36:36.995523600Z",
     "start_time": "2023-11-14T19:36:36.961594500Z"
    }
   }
  },
  {
   "cell_type": "code",
   "execution_count": 14,
   "outputs": [],
   "source": [],
   "metadata": {
    "collapsed": false,
    "ExecuteTime": {
     "end_time": "2023-11-14T19:36:36.995523600Z",
     "start_time": "2023-11-14T19:36:36.964609Z"
    }
   }
  },
  {
   "cell_type": "code",
   "execution_count": 14,
   "outputs": [],
   "source": [],
   "metadata": {
    "collapsed": false,
    "ExecuteTime": {
     "end_time": "2023-11-14T19:36:36.995523600Z",
     "start_time": "2023-11-14T19:36:36.967595Z"
    }
   }
  }
 ],
 "metadata": {
  "kernelspec": {
   "name": "conda-env-AggNet-py",
   "language": "python",
   "display_name": "Python [conda env:AggNet]"
  },
  "language_info": {
   "codemirror_mode": {
    "name": "ipython",
    "version": 2
   },
   "file_extension": ".py",
   "mimetype": "text/x-python",
   "name": "python",
   "nbconvert_exporter": "python",
   "pygments_lexer": "ipython2",
   "version": "2.7.6"
  }
 },
 "nbformat": 4,
 "nbformat_minor": 0
}
