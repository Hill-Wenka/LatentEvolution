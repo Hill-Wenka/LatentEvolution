{
 "cells": [
  {
   "cell_type": "code",
   "execution_count": 1,
   "outputs": [
    {
     "name": "stdout",
     "output_type": "stream",
     "text": [
      "/home/hew/python/LatentEvolution\n",
      "\u001B[0m\u001B[01;34mcache\u001B[0m/  \u001B[01;34mdata\u001B[0m/  env.txt  \u001B[01;34mfigure\u001B[0m/  \u001B[01;34mframework\u001B[0m/  main.py  \u001B[01;34mscript\u001B[0m/  \u001B[01;34mtemp\u001B[0m/\r\n"
     ]
    }
   ],
   "source": [
    "%load_ext autoreload\n",
    "%autoreload 2\n",
    "%cd \"python/LatentEvolution\"\n",
    "%ls"
   ],
   "metadata": {
    "collapsed": false,
    "ExecuteTime": {
     "end_time": "2023-11-26T19:03:25.890608600Z",
     "start_time": "2023-11-26T19:03:25.716369600Z"
    }
   }
  },
  {
   "cell_type": "code",
   "execution_count": 1,
   "outputs": [],
   "source": [],
   "metadata": {
    "collapsed": false,
    "ExecuteTime": {
     "end_time": "2023-11-26T19:03:25.901607Z",
     "start_time": "2023-11-26T19:03:25.889604Z"
    }
   }
  },
  {
   "cell_type": "code",
   "execution_count": 2,
   "outputs": [
    {
     "name": "stdout",
     "output_type": "stream",
     "text": [
      "========== add root_path and framework_path to sys.path ==========\n",
      "root_path: /home/hew/python/LatentEvolution\n",
      "framework_path: /home/hew/python/LatentEvolution/framework\n",
      "==================================================================\n"
     ]
    }
   ],
   "source": [
    "from framework.config import parse_config, paths\n",
    "from framework.utils.lightning.device_utils import seed_everything\n",
    "from framework.utils.lightning.trainer_utils import get_pl_trainer\n",
    "from script.task_02_ProteinVAE.ProteinVAE.sequence_data_module import SequenceDataModule\n",
    "from script.task_02_ProteinVAE.ProteinVAE.sequence_lightning_module import SequenceLightningModule"
   ],
   "metadata": {
    "collapsed": false,
    "ExecuteTime": {
     "end_time": "2023-11-26T19:03:30.437269Z",
     "start_time": "2023-11-26T19:03:25.896607200Z"
    }
   }
  },
  {
   "cell_type": "code",
   "execution_count": 2,
   "outputs": [],
   "source": [],
   "metadata": {
    "collapsed": false,
    "ExecuteTime": {
     "end_time": "2023-11-26T19:03:30.455455300Z",
     "start_time": "2023-11-26T19:03:30.445034400Z"
    }
   }
  },
  {
   "cell_type": "code",
   "execution_count": 3,
   "outputs": [],
   "source": [
    "update_dict = {\n",
    "    'project': 'ProteinVAE',\n",
    "    'seed': 42,\n",
    "    'logger': {\n",
    "        'save_dir': './script/task_02_ProteinVAE/'\n",
    "    },\n",
    "    'data': {\n",
    "        'dataset': 'ACE2_variants_2k',\n",
    "        # 'dataset': 'ACE2_variants_1000',\n",
    "        'data_class': 'Protein',\n",
    "        'mini_set_ratio': None,\n",
    "        'max_len': 83,\n",
    "    },\n",
    "    # VAE v2\n",
    "    # 'hparams': {\n",
    "    #     'encoder_params': {\n",
    "    #         'num_layers': 4,\n",
    "    #         'embed_dim': 1280,\n",
    "    #         'attention_heads': 20,\n",
    "    #         'alphabet': 'ESM-1b',\n",
    "    #         'token_dropout': False,\n",
    "    #         'embedding_layer': True,\n",
    "    #         'lm_head': False,\n",
    "    #         'return_layer': -1,\n",
    "    #     },\n",
    "    #     'encoder_mlp': {\n",
    "    #         'hiddens': [1280, 512, 256],\n",
    "    #         'activation': 'ReLU',\n",
    "    #         'batch_norm': False,\n",
    "    #         'layer_norm': True,\n",
    "    #         'bias': True,\n",
    "    #         'dropout': 0.1,\n",
    "    #     },\n",
    "    #     'encoder_mapping': {\n",
    "    #         'hiddens': [85 * 256, 4],\n",
    "    #         'activation': 'ReLU',\n",
    "    #         'batch_norm': True,\n",
    "    #         'layer_norm': False,\n",
    "    #         'bias': True,\n",
    "    #         'dropout': 0.1,\n",
    "    #     },\n",
    "    #     'decoder_mapping': {\n",
    "    #         'hiddens': [4 // 2, 85 * 256],\n",
    "    #         'activation': 'ReLU',\n",
    "    #         'batch_norm': True,\n",
    "    #         'layer_norm': False,\n",
    "    #         'bias': True,\n",
    "    #         'dropout': 0.1,\n",
    "    #     },\n",
    "    #     'decoder_mlp': {\n",
    "    #         'hiddens': [256, 512, 1280],\n",
    "    #         'activation': 'ReLU',\n",
    "    #         'batch_norm': False,\n",
    "    #         'layer_norm': True,\n",
    "    #         'bias': True,\n",
    "    #         'dropout': 0.1,\n",
    "    #     },\n",
    "    #     'decoder_params': {\n",
    "    #         'num_layers': 4,\n",
    "    #         'embed_dim': 1280,\n",
    "    #         'attention_heads': 20,\n",
    "    #         'alphabet': 'ESM-1b',\n",
    "    #         'token_dropout': False,\n",
    "    #         'embedding_layer': False,\n",
    "    #         'lm_head': False,\n",
    "    #         'return_layer': -1,\n",
    "    #     },\n",
    "\n",
    "    # VAE v3 standard\n",
    "    'hparams': {\n",
    "        'encoder_transformer': {\n",
    "            'num_layers': 4,\n",
    "            'embed_dim': 128,\n",
    "            'attention_heads': 16,\n",
    "            'alphabet': 'ESM-1b',\n",
    "            'token_dropout': False,\n",
    "            'embedding_layer': True,\n",
    "            'lm_head': False,\n",
    "            'return_layer': -1,\n",
    "        },\n",
    "        'encoder_mlp': {\n",
    "            'hiddens': [128, 64, 32],\n",
    "            'activation': 'ReLU',\n",
    "            'batch_norm': False,\n",
    "            'layer_norm': True,\n",
    "            'bias': True,\n",
    "            'dropout': 0.05,\n",
    "        },\n",
    "        'decoder_mlp': {\n",
    "            'hiddens': [32 // 2, 64, 128],\n",
    "            'activation': 'ReLU',\n",
    "            'batch_norm': False,\n",
    "            'layer_norm': True,\n",
    "            'bias': True,\n",
    "            'dropout': 0.05,\n",
    "        },\n",
    "        'decoder_transformer': {\n",
    "            'num_layers': 4,\n",
    "            'embed_dim': 128,\n",
    "            'attention_heads': 16,\n",
    "            'alphabet': 'ESM-1b',\n",
    "            'token_dropout': False,\n",
    "            'embedding_layer': False,\n",
    "            'lm_head': False,\n",
    "            'return_layer': -1,\n",
    "        },\n",
    "        'regressor_head': {\n",
    "            'hiddens': [85 * 32 // 2, 256, 128, 2],  # concat_h as input: L*D/2\n",
    "            # 'hiddens': [32, 16, 2],  # position_h <cls> after pooling as input: D\n",
    "            # 'hiddens': [128, 16, 2],  # position_h <cls> before pooling as input: H\n",
    "            'activation': 'ReLU',\n",
    "            'batch_norm': True,\n",
    "            'bias': True,\n",
    "            'dropout': 0.05,\n",
    "        },\n",
    "        # 'regressor_head': None,\n",
    "        'reparameterization': False,\n",
    "    },\n",
    "    'loss': {\n",
    "        'ce_loss': {'name': 'CrossEntropy', 'args': {}},\n",
    "        'mse_loss': {'name': 'MSELoss', 'args': {}},\n",
    "        'mmd_loss': {'name': 'MMDLoss', 'args': {'sigma': 20}},\n",
    "        'ce_weight': 1.0,\n",
    "        'mse_weight': 1000.0,\n",
    "        'reg_weight': 0.1,\n",
    "    },\n",
    "    'optimizer': {\n",
    "        # 'name': 'Adam',\n",
    "        'name': 'RAdam',\n",
    "        # 'name': 'AdamW',\n",
    "        'args': {\n",
    "            # 'lr': 0.001,\n",
    "            'lr': 0.0005,\n",
    "            # 'lr': 0.0002,\n",
    "            # 'lr': 0.0001,\n",
    "        }\n",
    "    },\n",
    "    'scheduler': {\n",
    "        # 'name': None,\n",
    "        # 'args': {},\n",
    "        'name': 'LinearLR',\n",
    "        'interval': 'step',\n",
    "        'frequency': 1,\n",
    "        'args': {\n",
    "            'start_factor': 1,\n",
    "            'end_factor': 0.01,\n",
    "            'total_iters': 25 * 100 * 5\n",
    "        },\n",
    "    },\n",
    "    'trainer': {\n",
    "        # 'max_epochs': 50,\n",
    "        # 'max_epochs': 100,\n",
    "        'max_epochs': 200,\n",
    "        'gradient_clip_val': 1.0,\n",
    "        'gradient_clip_algorithm': 'norm',\n",
    "        'accumulate_grad_batches': 1,\n",
    "        'num_sanity_val_steps': 2,\n",
    "        'val_check_interval': 0.5,\n",
    "        'enable_checkpointing': True,\n",
    "        # 'enable_checkpointing': False,\n",
    "    },\n",
    "    'early_stop_callback': {\n",
    "        'monitor': 'valid/loss_epoch',\n",
    "        'mode': 'min',\n",
    "    },\n",
    "    'ckpt_callback': {\n",
    "        'monitor': 'valid/mse_epoch',\n",
    "        'filename': 'epoch={epoch:02d}, loss={valid/loss_epoch:.3f}, ce={valid/ce_epoch:.3f}, reg={valid/reg_epoch:.3f}, mse={valid/mse_epoch:.3f}, ddG={valid/ddG_pearsonr_epoch:.3f}, dS={valid/dS_pearsonr_epoch:.3f}',\n",
    "        'auto_insert_metric_name': False,\n",
    "        'save_weights_only': True,\n",
    "        'mode': 'min',\n",
    "        'save_top_k': 100,\n",
    "        'save_last': True,\n",
    "    },\n",
    "    # 'ckpt_callback': None,\n",
    "    'train_dataloader': {\n",
    "        # 'batch_size': 32,\n",
    "        'batch_size': 64,\n",
    "        # 'batch_size': 128,\n",
    "        # 'batch_size': 256,\n",
    "        'num_workers': 4,\n",
    "        'drop_last': True,\n",
    "    },\n",
    "    'valid_dataloader': {\n",
    "        # 'batch_size': 32,\n",
    "        'batch_size': 64,\n",
    "        # 'batch_size': 128,\n",
    "        # 'batch_size': 256,\n",
    "        'num_workers': 4,\n",
    "    },\n",
    "    'test_dataloader': {\n",
    "        # 'batch_size': 32,\n",
    "        'batch_size': 64,\n",
    "        # 'batch_size': 128,\n",
    "        # 'batch_size': 256,\n",
    "        'num_workers': 4,\n",
    "    },\n",
    "    'predict_dataloader': {\n",
    "        # 'batch_size': 32,\n",
    "        'batch_size': 64,\n",
    "        # 'batch_size': 128,\n",
    "        # 'batch_size': 256,\n",
    "        'num_workers': 4,\n",
    "    },\n",
    "}\n",
    "dataset_hparams = paths.script + '/task_02_ProteinVAE/ProteinVAE/dataset.yaml'\n",
    "model_hparams = paths.script + '/task_02_ProteinVAE/ProteinVAE/model.yaml'\n",
    "framework_hparams = paths.script + '/task_02_ProteinVAE/ProteinVAE/framework.yaml'\n",
    "args = parse_config([dataset_hparams, model_hparams, framework_hparams, update_dict])"
   ],
   "metadata": {
    "collapsed": false,
    "ExecuteTime": {
     "end_time": "2023-11-26T19:03:30.649698Z",
     "start_time": "2023-11-26T19:03:30.455455300Z"
    }
   }
  },
  {
   "cell_type": "code",
   "execution_count": 4,
   "outputs": [
    {
     "data": {
      "text/plain": "{'project': 'ProteinVAE', 'dataset': 'template', 'model': '/home/hew/python/LatentEvolution/framework/config/model/template.yaml', 'seed': 42, 'tokenization': {'alphabet': 'ESM-1b', 'truncation_seq_length': None}, 'train_dataloader': {'batch_size': 64, 'num_workers': 4, 'shuffle': True, 'drop_last': True, 'pin_memory': True, 'persistent_workers': True}, 'valid_dataloader': {'batch_size': 64, 'num_workers': 4, 'shuffle': False, 'pin_memory': True, 'persistent_workers': True}, 'test_dataloader': {'batch_size': 64, 'num_workers': 4, 'shuffle': False, 'pin_memory': True, 'persistent_workers': True}, 'predict_dataloader': {'batch_size': 64, 'num_workers': 4, 'shuffle': False, 'pin_memory': True, 'persistent_workers': True}, 'trainer': {'max_epochs': 200, 'accelerator': 'auto', 'strategy': 'auto', 'devices': 'auto', 'deterministic': False, 'benchmark': True, 'sync_batchnorm': True, 'log_every_n_steps': 1, 'check_val_every_n_epoch': 1, 'fast_dev_run': False, 'num_sanity_val_steps': 2, 'enable_model_summary': True, 'reload_dataloaders_every_n_epochs': 0, 'gradient_clip_val': 1.0, 'gradient_clip_algorithm': 'norm', 'enable_checkpointing': True, 'accumulate_grad_batches': 1, 'val_check_interval': 0.5}, 'logger': {'save_dir': './script/task_02_ProteinVAE/', 'name': 'lightning_logs'}, 'progress_bar_callback': {'refresh_rate': 1, 'process_position': 0}, 'ckpt_callback': {'monitor': 'valid/mse_epoch', 'filename': 'epoch={epoch:02d}, loss={valid/loss_epoch:.3f}, ce={valid/ce_epoch:.3f}, reg={valid/reg_epoch:.3f}, mse={valid/mse_epoch:.3f}, ddG={valid/ddG_pearsonr_epoch:.3f}, dS={valid/dS_pearsonr_epoch:.3f}', 'auto_insert_metric_name': False, 'save_weights_only': True, 'mode': 'min', 'save_top_k': 100, 'save_last': True}, 'early_stop_callback': {'monitor': 'valid/loss_epoch', 'min_delta': 0.01, 'patience': 200, 'mode': 'min'}, 'swa_callback': None, 'xlsx_output_format': {'general_format': {'align': 'center', 'valign': 'vcenter'}, 'number_format': {'num_format': '#,##0.0000', 'align': 'center', 'valign': 'vcenter'}}, 'nni': {'auto_ml': False, 'metric': 'AUC', 'use_best': True}, 'data': {'dataset': 'ACE2_variants_2k', 'sequence_length': 83, 'mini_set_ratio': None, 'data_class': 'Protein', 'lazy_load': False, 'train_ratio': 0.7, 'valid_ratio': 0.1, 'test_ratio': 0.2, 'split_valid': None, 'label': 'ddG', 'max_len': 83}, 'hparams': {'encoder_transformer': {'num_layers': 4, 'embed_dim': 128, 'attention_heads': 16, 'alphabet': 'ESM-1b', 'token_dropout': False, 'embedding_layer': True, 'lm_head': False, 'return_layer': -1}, 'encoder_mlp': {'hiddens': [128, 64, 32], 'activation': 'ReLU', 'batch_norm': False, 'layer_norm': True, 'bias': True, 'dropout': 0.05}, 'decoder_mlp': {'hiddens': [16, 64, 128], 'activation': 'ReLU', 'batch_norm': False, 'layer_norm': True, 'bias': True, 'dropout': 0.05}, 'decoder_transformer': {'num_layers': 4, 'embed_dim': 128, 'attention_heads': 16, 'alphabet': 'ESM-1b', 'token_dropout': False, 'embedding_layer': False, 'lm_head': False, 'return_layer': -1}, 'regressor_head': {'hiddens': [1360, 256, 128, 2], 'activation': 'ReLU', 'batch_norm': True, 'bias': True, 'dropout': 0.05}, 'reparameterization': False}, 'optimizer': {'name': 'RAdam', 'args': {'lr': 0.0005, 'weight_decay': 0}}, 'scheduler': {'name': 'LinearLR', 'args': {'start_factor': 1, 'end_factor': 0.01, 'total_iters': 12500}, 'interval': 'step', 'frequency': 1}, 'loss': {'mse_loss': {'name': 'MSELoss', 'args': {}}, 'ce_loss': {'name': 'CrossEntropy', 'args': {}}, 'mmd_loss': {'name': 'MMDLoss', 'args': {'sigma': 20}}, 'ce_weight': 1.0, 'mse_weight': 1000.0, 'reg_weight': 0.1}, '-f': None, '/home/hew/': {'local/share/jupyter/runtime/kernel-311e2075-8d95-433a-bbf2-e65aa87a51e1': {'json': None}}}"
     },
     "execution_count": 4,
     "metadata": {},
     "output_type": "execute_result"
    }
   ],
   "source": [
    "args"
   ],
   "metadata": {
    "collapsed": false,
    "ExecuteTime": {
     "end_time": "2023-11-26T19:03:30.698084800Z",
     "start_time": "2023-11-26T19:03:30.655689300Z"
    }
   }
  },
  {
   "cell_type": "code",
   "execution_count": 4,
   "outputs": [],
   "source": [],
   "metadata": {
    "collapsed": false,
    "ExecuteTime": {
     "end_time": "2023-11-26T19:03:30.705094500Z",
     "start_time": "2023-11-26T19:03:30.694086600Z"
    }
   }
  },
  {
   "cell_type": "code",
   "execution_count": 5,
   "outputs": [
    {
     "name": "stderr",
     "output_type": "stream",
     "text": [
      "Global seed set to 42\n"
     ]
    },
    {
     "name": "stdout",
     "output_type": "stream",
     "text": [
      "============================== PeptideDataModule __init__ Start ==============================\n",
      "============================== PeptideDataModule __init__ End ==============================\n",
      "CPU times: user 4.45 ms, sys: 62 µs, total: 4.51 ms\n",
      "Wall time: 3.63 ms\n"
     ]
    }
   ],
   "source": [
    "%%time\n",
    "seed_everything(args.seed)\n",
    "pl_data_module = SequenceDataModule(args)"
   ],
   "metadata": {
    "collapsed": false,
    "ExecuteTime": {
     "end_time": "2023-11-26T19:03:30.785946800Z",
     "start_time": "2023-11-26T19:03:30.699085900Z"
    }
   }
  },
  {
   "cell_type": "code",
   "execution_count": 6,
   "outputs": [],
   "source": [
    "# %%time\n",
    "# pl_data_module.prepare_data('train')\n",
    "# pl_data_module.setup('fit')\n",
    "# pl_data_module.setup('test')"
   ],
   "metadata": {
    "collapsed": false,
    "ExecuteTime": {
     "end_time": "2023-11-26T19:03:30.859589800Z",
     "start_time": "2023-11-26T19:03:30.783942200Z"
    }
   }
  },
  {
   "cell_type": "code",
   "execution_count": 7,
   "outputs": [],
   "source": [
    "# pl_data_module.args.train_dataloader.batch_size = 128\n",
    "# pl_data_module.args.valid_dataloader.batch_size = 128\n",
    "# pl_data_module.args.test_dataloader.batch_size = 128\n",
    "# pl_data_module.args.predict_dataloader.batch_size = 128\n",
    "# pl_data_module.args.train_dataloader.num_workers = 4\n",
    "# pl_data_module.args.valid_dataloader.num_workers = 4\n",
    "# pl_data_module.args.test_dataloader.num_workers = 4\n",
    "# pl_data_module.args.predict_dataloader.num_workers = 4"
   ],
   "metadata": {
    "collapsed": false,
    "ExecuteTime": {
     "end_time": "2023-11-26T19:03:30.941608100Z",
     "start_time": "2023-11-26T19:03:30.867492300Z"
    }
   }
  },
  {
   "cell_type": "code",
   "execution_count": 8,
   "outputs": [],
   "source": [
    "pl_data_module.dataframe"
   ],
   "metadata": {
    "collapsed": false,
    "ExecuteTime": {
     "end_time": "2023-11-26T19:03:31.025866900Z",
     "start_time": "2023-11-26T19:03:30.949580Z"
    }
   }
  },
  {
   "cell_type": "code",
   "execution_count": 9,
   "outputs": [],
   "source": [
    "# tokens, ddG, dS = next(iter(pl_data_module.train_dataloader()))\n",
    "# tokens.shape, ddG.shape, dS.shape"
   ],
   "metadata": {
    "collapsed": false,
    "ExecuteTime": {
     "end_time": "2023-11-26T19:03:31.116513700Z",
     "start_time": "2023-11-26T19:03:31.036134400Z"
    }
   }
  },
  {
   "cell_type": "code",
   "execution_count": 9,
   "outputs": [],
   "source": [],
   "metadata": {
    "collapsed": false,
    "ExecuteTime": {
     "end_time": "2023-11-26T19:03:31.116513700Z",
     "start_time": "2023-11-26T19:03:31.116513700Z"
    }
   }
  },
  {
   "cell_type": "code",
   "execution_count": 10,
   "outputs": [
    {
     "name": "stderr",
     "output_type": "stream",
     "text": [
      "Global seed set to 42\n",
      "GPU available: True (cuda), used: True\n",
      "TPU available: False, using: 0 TPU cores\n",
      "IPU available: False, using: 0 IPUs\n",
      "HPU available: False, using: 0 HPUs\n"
     ]
    },
    {
     "name": "stdout",
     "output_type": "stream",
     "text": [
      "CPU times: user 330 ms, sys: 44.9 ms, total: 375 ms\n",
      "Wall time: 394 ms\n"
     ]
    }
   ],
   "source": [
    "%%time\n",
    "seed_everything(args.seed)\n",
    "pl_model = SequenceLightningModule(args)\n",
    "\n",
    "trainer = get_pl_trainer(args)"
   ],
   "metadata": {
    "collapsed": false,
    "ExecuteTime": {
     "end_time": "2023-11-26T19:03:31.600022900Z",
     "start_time": "2023-11-26T19:03:31.119512200Z"
    }
   }
  },
  {
   "cell_type": "code",
   "execution_count": 11,
   "outputs": [
    {
     "data": {
      "text/plain": "ProteinVAE(\n  (encoder_transformer): ESMTransformer(\n    (embed_tokens): Embedding(33, 128, padding_idx=1)\n    (layers): ModuleList(\n      (0-3): 4 x TransformerLayer(\n        (self_attn): MultiheadAttention(\n          (k_proj): Linear(in_features=128, out_features=128, bias=True)\n          (v_proj): Linear(in_features=128, out_features=128, bias=True)\n          (q_proj): Linear(in_features=128, out_features=128, bias=True)\n          (out_proj): Linear(in_features=128, out_features=128, bias=True)\n          (rot_emb): RotaryEmbedding()\n        )\n        (self_attn_layer_norm): LayerNorm((128,), eps=1e-05, elementwise_affine=True)\n        (fc1): Linear(in_features=128, out_features=512, bias=True)\n        (fc2): Linear(in_features=512, out_features=128, bias=True)\n        (final_layer_norm): LayerNorm((128,), eps=1e-05, elementwise_affine=True)\n      )\n    )\n    (emb_layer_norm_after): LayerNorm((128,), eps=1e-05, elementwise_affine=True)\n  )\n  (encoder_mlp): MLP(\n    (mlp): Sequential(\n      (0): Linear(in_features=128, out_features=64, bias=True)\n      (1): LayerNorm((64,), eps=1e-05, elementwise_affine=True)\n      (2): ReLU()\n      (3): Dropout(p=0.05, inplace=False)\n      (4): Linear(in_features=64, out_features=32, bias=True)\n    )\n  )\n  (regressor_head): MLP(\n    (mlp): Sequential(\n      (0): Linear(in_features=1360, out_features=256, bias=False)\n      (1): BatchNorm1d(256, eps=1e-05, momentum=0.1, affine=True, track_running_stats=True)\n      (2): ReLU()\n      (3): Dropout(p=0.05, inplace=False)\n      (4): Linear(in_features=256, out_features=128, bias=False)\n      (5): BatchNorm1d(128, eps=1e-05, momentum=0.1, affine=True, track_running_stats=True)\n      (6): ReLU()\n      (7): Dropout(p=0.05, inplace=False)\n      (8): Linear(in_features=128, out_features=2, bias=True)\n    )\n  )\n  (decoder_mlp): MLP(\n    (mlp): Sequential(\n      (0): Linear(in_features=16, out_features=64, bias=True)\n      (1): LayerNorm((64,), eps=1e-05, elementwise_affine=True)\n      (2): ReLU()\n      (3): Dropout(p=0.05, inplace=False)\n      (4): Linear(in_features=64, out_features=128, bias=True)\n    )\n  )\n  (decoder_transformer): ESMTransformer(\n    (layers): ModuleList(\n      (0-3): 4 x TransformerLayer(\n        (self_attn): MultiheadAttention(\n          (k_proj): Linear(in_features=128, out_features=128, bias=True)\n          (v_proj): Linear(in_features=128, out_features=128, bias=True)\n          (q_proj): Linear(in_features=128, out_features=128, bias=True)\n          (out_proj): Linear(in_features=128, out_features=128, bias=True)\n          (rot_emb): RotaryEmbedding()\n        )\n        (self_attn_layer_norm): LayerNorm((128,), eps=1e-05, elementwise_affine=True)\n        (fc1): Linear(in_features=128, out_features=512, bias=True)\n        (fc2): Linear(in_features=512, out_features=128, bias=True)\n        (final_layer_norm): LayerNorm((128,), eps=1e-05, elementwise_affine=True)\n      )\n    )\n    (emb_layer_norm_after): LayerNorm((128,), eps=1e-05, elementwise_affine=True)\n  )\n  (lm_head): RobertaLMHead(\n    (dense): Linear(in_features=128, out_features=128, bias=True)\n    (layer_norm): LayerNorm((128,), eps=1e-05, elementwise_affine=True)\n  )\n)"
     },
     "execution_count": 11,
     "metadata": {},
     "output_type": "execute_result"
    }
   ],
   "source": [
    "pl_model.model"
   ],
   "metadata": {
    "collapsed": false,
    "ExecuteTime": {
     "end_time": "2023-11-26T19:03:31.644055200Z",
     "start_time": "2023-11-26T19:03:31.591546300Z"
    }
   }
  },
  {
   "cell_type": "code",
   "execution_count": 11,
   "outputs": [],
   "source": [],
   "metadata": {
    "collapsed": false,
    "ExecuteTime": {
     "end_time": "2023-11-26T19:03:31.649563100Z",
     "start_time": "2023-11-26T19:03:31.647563200Z"
    }
   }
  },
  {
   "cell_type": "code",
   "execution_count": 12,
   "outputs": [
    {
     "data": {
      "text/plain": "(Parameter containing:\n tensor([[ 0.0009,  0.0231,  0.0561,  ...,  0.0883, -0.0723, -0.0706],\n         [ 0.0438, -0.0589, -0.0544,  ..., -0.0211,  0.0062,  0.0495],\n         [ 0.0537,  0.0459, -0.0724,  ..., -0.0693, -0.0875,  0.0370],\n         ...,\n         [-0.0514,  0.0383,  0.0226,  ..., -0.0554,  0.0690, -0.0841],\n         [-0.0037,  0.0279, -0.0087,  ..., -0.0350,  0.0324,  0.0755],\n         [ 0.0561, -0.0160,  0.0218,  ..., -0.0486, -0.0286,  0.0117]],\n        requires_grad=True),\n True)"
     },
     "execution_count": 12,
     "metadata": {},
     "output_type": "execute_result"
    }
   ],
   "source": [
    "pl_model.model.encoder_mlp.mlp[0].weight, pl_model.model.encoder_mlp.mlp[0].weight.requires_grad"
   ],
   "metadata": {
    "collapsed": false,
    "ExecuteTime": {
     "end_time": "2023-11-26T19:03:31.735105800Z",
     "start_time": "2023-11-26T19:03:31.699326400Z"
    }
   }
  },
  {
   "cell_type": "code",
   "execution_count": 13,
   "outputs": [
    {
     "data": {
      "text/plain": "(True, True)"
     },
     "execution_count": 13,
     "metadata": {},
     "output_type": "execute_result"
    }
   ],
   "source": [
    "pl_model.model.training, pl_model.training"
   ],
   "metadata": {
    "collapsed": false,
    "ExecuteTime": {
     "end_time": "2023-11-26T19:03:31.821498600Z",
     "start_time": "2023-11-26T19:03:31.774873300Z"
    }
   }
  },
  {
   "cell_type": "code",
   "execution_count": 14,
   "outputs": [],
   "source": [
    "# gc.collect()\n",
    "# torch.cuda.empty_cache()"
   ],
   "metadata": {
    "collapsed": false,
    "ExecuteTime": {
     "end_time": "2023-11-26T19:03:31.903323Z",
     "start_time": "2023-11-26T19:03:31.817248400Z"
    }
   }
  },
  {
   "cell_type": "code",
   "execution_count": 15,
   "outputs": [
    {
     "name": "stdout",
     "output_type": "stream",
     "text": [
      "============================== prepare_data: mode[train] Start ==============================\n",
      "============================== prepare_dataset Start ==============================\n",
      "<<<<<<<<<<<<<<<<<<<<<<<<<<<<<< load data according to selected index >>>>>>>>>>>>>>>>>>>>>>>>>>>>>>\n"
     ]
    },
    {
     "data": {
      "text/plain": "  0%|          | 0/2404 [00:00<?, ?it/s]",
      "application/vnd.jupyter.widget-view+json": {
       "version_major": 2,
       "version_minor": 0,
       "model_id": "6e3f11d8136e46498f19d2d6c3203f1f"
      }
     },
     "metadata": {},
     "output_type": "display_data"
    },
    {
     "name": "stdout",
     "output_type": "stream",
     "text": [
      "the dataset has not been partitioned, split dataset with specific ratio\n",
      "dataframe partition values:\n",
      "partition\n",
      "train    1661\n",
      "test      521\n",
      "valid     222\n",
      "Name: count, dtype: int64\n",
      "select the subset for debug, max_len: 83, ratio: 1, number: 2404\n",
      "============================== prepare_dataset End ==============================\n",
      "len(self.train_dataset) 1661\n",
      "len(self.valid_dataset) 222\n",
      "len(self.test_dataset) 521\n",
      "============================== prepare_data mode[train] End ==============================\n",
      "============================== prepare_data: mode[None] Start ==============================\n",
      "============================== prepare_data has been invoked, mode=None ==============================\n",
      "============================== prepare_data mode[None] End ==============================\n",
      "============================== Setup [fit] Start ==============================\n",
      "[len self.train_dataset] 1661\n",
      "[len self.val_dataset] 222\n",
      "============================== Setup [fit] End ==============================\n"
     ]
    },
    {
     "name": "stderr",
     "output_type": "stream",
     "text": [
      "LOCAL_RANK: 0 - CUDA_VISIBLE_DEVICES: [0]\n",
      "\n",
      "  | Name     | Type             | Params\n",
      "----------------------------------------------\n",
      "0 | model    | ProteinVAE       | 2.0 M \n",
      "1 | ce_loss  | CrossEntropyLoss | 0     \n",
      "2 | mse_loss | MSELoss          | 0     \n",
      "3 | mmd_loss | MMDLoss          | 0     \n",
      "----------------------------------------------\n",
      "2.0 M     Trainable params\n",
      "0         Non-trainable params\n",
      "2.0 M     Total params\n",
      "8.056     Total estimated model params size (MB)\n"
     ]
    },
    {
     "data": {
      "text/plain": "Sanity Checking: 0it [00:00, ?it/s]",
      "application/vnd.jupyter.widget-view+json": {
       "version_major": 2,
       "version_minor": 0,
       "model_id": "4674f14b20c24d4689eeb24a07726bf8"
      }
     },
     "metadata": {},
     "output_type": "display_data"
    },
    {
     "data": {
      "text/plain": "Training: 0it [00:00, ?it/s]",
      "application/vnd.jupyter.widget-view+json": {
       "version_major": 2,
       "version_minor": 0,
       "model_id": "e00815b7769a4ce08e89060f2a179693"
      }
     },
     "metadata": {},
     "output_type": "display_data"
    },
    {
     "data": {
      "text/plain": "Validation: 0it [00:00, ?it/s]",
      "application/vnd.jupyter.widget-view+json": {
       "version_major": 2,
       "version_minor": 0,
       "model_id": "55478c7531f94c578b48686933ce7e17"
      }
     },
     "metadata": {},
     "output_type": "display_data"
    },
    {
     "data": {
      "text/plain": "Validation: 0it [00:00, ?it/s]",
      "application/vnd.jupyter.widget-view+json": {
       "version_major": 2,
       "version_minor": 0,
       "model_id": "bdf17063cab8469b89c275c6ec21aae6"
      }
     },
     "metadata": {},
     "output_type": "display_data"
    },
    {
     "data": {
      "text/plain": "Validation: 0it [00:00, ?it/s]",
      "application/vnd.jupyter.widget-view+json": {
       "version_major": 2,
       "version_minor": 0,
       "model_id": "76c2675576c3459f8e235083f9fa030c"
      }
     },
     "metadata": {},
     "output_type": "display_data"
    },
    {
     "data": {
      "text/plain": "Validation: 0it [00:00, ?it/s]",
      "application/vnd.jupyter.widget-view+json": {
       "version_major": 2,
       "version_minor": 0,
       "model_id": "66f4bb3b344f43539077289006fb4bc6"
      }
     },
     "metadata": {},
     "output_type": "display_data"
    },
    {
     "data": {
      "text/plain": "Validation: 0it [00:00, ?it/s]",
      "application/vnd.jupyter.widget-view+json": {
       "version_major": 2,
       "version_minor": 0,
       "model_id": "27bd51ea4c2e47f4ab3965e081f53529"
      }
     },
     "metadata": {},
     "output_type": "display_data"
    },
    {
     "data": {
      "text/plain": "Validation: 0it [00:00, ?it/s]",
      "application/vnd.jupyter.widget-view+json": {
       "version_major": 2,
       "version_minor": 0,
       "model_id": "d39eadea15f64b4eba20c0db82370fd4"
      }
     },
     "metadata": {},
     "output_type": "display_data"
    },
    {
     "data": {
      "text/plain": "Validation: 0it [00:00, ?it/s]",
      "application/vnd.jupyter.widget-view+json": {
       "version_major": 2,
       "version_minor": 0,
       "model_id": "3e0c99fd81bc41ef9b5d8e29d8fff462"
      }
     },
     "metadata": {},
     "output_type": "display_data"
    },
    {
     "data": {
      "text/plain": "Validation: 0it [00:00, ?it/s]",
      "application/vnd.jupyter.widget-view+json": {
       "version_major": 2,
       "version_minor": 0,
       "model_id": "2714cbee8e7c4638a02d3b359a63be37"
      }
     },
     "metadata": {},
     "output_type": "display_data"
    },
    {
     "data": {
      "text/plain": "Validation: 0it [00:00, ?it/s]",
      "application/vnd.jupyter.widget-view+json": {
       "version_major": 2,
       "version_minor": 0,
       "model_id": "60f01431786a4ac5a17ce0a21d76e4da"
      }
     },
     "metadata": {},
     "output_type": "display_data"
    },
    {
     "data": {
      "text/plain": "Validation: 0it [00:00, ?it/s]",
      "application/vnd.jupyter.widget-view+json": {
       "version_major": 2,
       "version_minor": 0,
       "model_id": "1e69f81c0df445348522d9296281cb90"
      }
     },
     "metadata": {},
     "output_type": "display_data"
    },
    {
     "data": {
      "text/plain": "Validation: 0it [00:00, ?it/s]",
      "application/vnd.jupyter.widget-view+json": {
       "version_major": 2,
       "version_minor": 0,
       "model_id": "2c317c18964f4115b3b95178b2adcf0b"
      }
     },
     "metadata": {},
     "output_type": "display_data"
    },
    {
     "data": {
      "text/plain": "Validation: 0it [00:00, ?it/s]",
      "application/vnd.jupyter.widget-view+json": {
       "version_major": 2,
       "version_minor": 0,
       "model_id": "d24b573eaa9b492e9baae6c85821b490"
      }
     },
     "metadata": {},
     "output_type": "display_data"
    },
    {
     "data": {
      "text/plain": "Validation: 0it [00:00, ?it/s]",
      "application/vnd.jupyter.widget-view+json": {
       "version_major": 2,
       "version_minor": 0,
       "model_id": "08108e26fb494674837e931f3b1fc8de"
      }
     },
     "metadata": {},
     "output_type": "display_data"
    },
    {
     "data": {
      "text/plain": "Validation: 0it [00:00, ?it/s]",
      "application/vnd.jupyter.widget-view+json": {
       "version_major": 2,
       "version_minor": 0,
       "model_id": "4afd5d3cd124492b91a9bbb750b1e74d"
      }
     },
     "metadata": {},
     "output_type": "display_data"
    },
    {
     "data": {
      "text/plain": "Validation: 0it [00:00, ?it/s]",
      "application/vnd.jupyter.widget-view+json": {
       "version_major": 2,
       "version_minor": 0,
       "model_id": "e398658eb1294e36b5cbe4bbd2233ffd"
      }
     },
     "metadata": {},
     "output_type": "display_data"
    },
    {
     "data": {
      "text/plain": "Validation: 0it [00:00, ?it/s]",
      "application/vnd.jupyter.widget-view+json": {
       "version_major": 2,
       "version_minor": 0,
       "model_id": "6e233a0609fd47918e396e2606cf1565"
      }
     },
     "metadata": {},
     "output_type": "display_data"
    },
    {
     "data": {
      "text/plain": "Validation: 0it [00:00, ?it/s]",
      "application/vnd.jupyter.widget-view+json": {
       "version_major": 2,
       "version_minor": 0,
       "model_id": "08f9ea9e57e14de7becac25da7701a70"
      }
     },
     "metadata": {},
     "output_type": "display_data"
    },
    {
     "data": {
      "text/plain": "Validation: 0it [00:00, ?it/s]",
      "application/vnd.jupyter.widget-view+json": {
       "version_major": 2,
       "version_minor": 0,
       "model_id": "7eaedbf2a93343f49d4d9c643934b376"
      }
     },
     "metadata": {},
     "output_type": "display_data"
    },
    {
     "data": {
      "text/plain": "Validation: 0it [00:00, ?it/s]",
      "application/vnd.jupyter.widget-view+json": {
       "version_major": 2,
       "version_minor": 0,
       "model_id": "5cb97edcbba44a0a9a858baf9854f242"
      }
     },
     "metadata": {},
     "output_type": "display_data"
    },
    {
     "data": {
      "text/plain": "Validation: 0it [00:00, ?it/s]",
      "application/vnd.jupyter.widget-view+json": {
       "version_major": 2,
       "version_minor": 0,
       "model_id": "d6db47130150493695822d5595869262"
      }
     },
     "metadata": {},
     "output_type": "display_data"
    },
    {
     "data": {
      "text/plain": "Validation: 0it [00:00, ?it/s]",
      "application/vnd.jupyter.widget-view+json": {
       "version_major": 2,
       "version_minor": 0,
       "model_id": "72530bc961184ca49ef32eae256dd354"
      }
     },
     "metadata": {},
     "output_type": "display_data"
    },
    {
     "data": {
      "text/plain": "Validation: 0it [00:00, ?it/s]",
      "application/vnd.jupyter.widget-view+json": {
       "version_major": 2,
       "version_minor": 0,
       "model_id": "a21bfadd29ca4d378be1e00cf9f4ad3e"
      }
     },
     "metadata": {},
     "output_type": "display_data"
    },
    {
     "data": {
      "text/plain": "Validation: 0it [00:00, ?it/s]",
      "application/vnd.jupyter.widget-view+json": {
       "version_major": 2,
       "version_minor": 0,
       "model_id": "36f330b10296491783baf4e00e8825fe"
      }
     },
     "metadata": {},
     "output_type": "display_data"
    },
    {
     "data": {
      "text/plain": "Validation: 0it [00:00, ?it/s]",
      "application/vnd.jupyter.widget-view+json": {
       "version_major": 2,
       "version_minor": 0,
       "model_id": "c9502c253cc44a15a7ecb7c9f0f55436"
      }
     },
     "metadata": {},
     "output_type": "display_data"
    },
    {
     "data": {
      "text/plain": "Validation: 0it [00:00, ?it/s]",
      "application/vnd.jupyter.widget-view+json": {
       "version_major": 2,
       "version_minor": 0,
       "model_id": "c67d6f2bec574551b4e3e642606b4f7d"
      }
     },
     "metadata": {},
     "output_type": "display_data"
    },
    {
     "data": {
      "text/plain": "Validation: 0it [00:00, ?it/s]",
      "application/vnd.jupyter.widget-view+json": {
       "version_major": 2,
       "version_minor": 0,
       "model_id": "106ab9b7acb0450799b6ff0c89527ac5"
      }
     },
     "metadata": {},
     "output_type": "display_data"
    },
    {
     "data": {
      "text/plain": "Validation: 0it [00:00, ?it/s]",
      "application/vnd.jupyter.widget-view+json": {
       "version_major": 2,
       "version_minor": 0,
       "model_id": "7707756b540144efbc3ed56f557852d7"
      }
     },
     "metadata": {},
     "output_type": "display_data"
    },
    {
     "data": {
      "text/plain": "Validation: 0it [00:00, ?it/s]",
      "application/vnd.jupyter.widget-view+json": {
       "version_major": 2,
       "version_minor": 0,
       "model_id": "14861ed00875455a96db88c4c9918837"
      }
     },
     "metadata": {},
     "output_type": "display_data"
    },
    {
     "data": {
      "text/plain": "Validation: 0it [00:00, ?it/s]",
      "application/vnd.jupyter.widget-view+json": {
       "version_major": 2,
       "version_minor": 0,
       "model_id": "54de236d28174d0ea3311061d49eb107"
      }
     },
     "metadata": {},
     "output_type": "display_data"
    },
    {
     "data": {
      "text/plain": "Validation: 0it [00:00, ?it/s]",
      "application/vnd.jupyter.widget-view+json": {
       "version_major": 2,
       "version_minor": 0,
       "model_id": "51f13924b91c41d99dbf6bf827bc696b"
      }
     },
     "metadata": {},
     "output_type": "display_data"
    },
    {
     "data": {
      "text/plain": "Validation: 0it [00:00, ?it/s]",
      "application/vnd.jupyter.widget-view+json": {
       "version_major": 2,
       "version_minor": 0,
       "model_id": "8f7c34630c324c19b992ab1e2e1ed3aa"
      }
     },
     "metadata": {},
     "output_type": "display_data"
    },
    {
     "data": {
      "text/plain": "Validation: 0it [00:00, ?it/s]",
      "application/vnd.jupyter.widget-view+json": {
       "version_major": 2,
       "version_minor": 0,
       "model_id": "229929d78bcc4828a56cf966ebeeb237"
      }
     },
     "metadata": {},
     "output_type": "display_data"
    },
    {
     "data": {
      "text/plain": "Validation: 0it [00:00, ?it/s]",
      "application/vnd.jupyter.widget-view+json": {
       "version_major": 2,
       "version_minor": 0,
       "model_id": "01e364c547d2413487b9062e0f5f8471"
      }
     },
     "metadata": {},
     "output_type": "display_data"
    },
    {
     "data": {
      "text/plain": "Validation: 0it [00:00, ?it/s]",
      "application/vnd.jupyter.widget-view+json": {
       "version_major": 2,
       "version_minor": 0,
       "model_id": "644cba27942b42489168ed18d364da82"
      }
     },
     "metadata": {},
     "output_type": "display_data"
    },
    {
     "data": {
      "text/plain": "Validation: 0it [00:00, ?it/s]",
      "application/vnd.jupyter.widget-view+json": {
       "version_major": 2,
       "version_minor": 0,
       "model_id": "f4f8cb36f11f4306b5d612f176963b10"
      }
     },
     "metadata": {},
     "output_type": "display_data"
    },
    {
     "data": {
      "text/plain": "Validation: 0it [00:00, ?it/s]",
      "application/vnd.jupyter.widget-view+json": {
       "version_major": 2,
       "version_minor": 0,
       "model_id": "565af0549fc24a1690eb4e8c85eaf96c"
      }
     },
     "metadata": {},
     "output_type": "display_data"
    },
    {
     "data": {
      "text/plain": "Validation: 0it [00:00, ?it/s]",
      "application/vnd.jupyter.widget-view+json": {
       "version_major": 2,
       "version_minor": 0,
       "model_id": "5046149bc6bb422aa564163b4fb4a081"
      }
     },
     "metadata": {},
     "output_type": "display_data"
    },
    {
     "data": {
      "text/plain": "Validation: 0it [00:00, ?it/s]",
      "application/vnd.jupyter.widget-view+json": {
       "version_major": 2,
       "version_minor": 0,
       "model_id": "09d28b41a1c248b6bc83649e0a9e8779"
      }
     },
     "metadata": {},
     "output_type": "display_data"
    },
    {
     "data": {
      "text/plain": "Validation: 0it [00:00, ?it/s]",
      "application/vnd.jupyter.widget-view+json": {
       "version_major": 2,
       "version_minor": 0,
       "model_id": "3df7b50c25b44db1ba1a8c97108519b8"
      }
     },
     "metadata": {},
     "output_type": "display_data"
    },
    {
     "data": {
      "text/plain": "Validation: 0it [00:00, ?it/s]",
      "application/vnd.jupyter.widget-view+json": {
       "version_major": 2,
       "version_minor": 0,
       "model_id": "795f2e82dfb447c9b5db695e27686ee6"
      }
     },
     "metadata": {},
     "output_type": "display_data"
    },
    {
     "data": {
      "text/plain": "Validation: 0it [00:00, ?it/s]",
      "application/vnd.jupyter.widget-view+json": {
       "version_major": 2,
       "version_minor": 0,
       "model_id": "ca2f59b752084a1b94342e213b8d4e40"
      }
     },
     "metadata": {},
     "output_type": "display_data"
    },
    {
     "data": {
      "text/plain": "Validation: 0it [00:00, ?it/s]",
      "application/vnd.jupyter.widget-view+json": {
       "version_major": 2,
       "version_minor": 0,
       "model_id": "7473aea215c34f60a392fe63528519e0"
      }
     },
     "metadata": {},
     "output_type": "display_data"
    },
    {
     "data": {
      "text/plain": "Validation: 0it [00:00, ?it/s]",
      "application/vnd.jupyter.widget-view+json": {
       "version_major": 2,
       "version_minor": 0,
       "model_id": "77bdae68cbfa4295b5dc8331d604211d"
      }
     },
     "metadata": {},
     "output_type": "display_data"
    },
    {
     "data": {
      "text/plain": "Validation: 0it [00:00, ?it/s]",
      "application/vnd.jupyter.widget-view+json": {
       "version_major": 2,
       "version_minor": 0,
       "model_id": "a2fc703cb00e4aa5922eac0e4b29b611"
      }
     },
     "metadata": {},
     "output_type": "display_data"
    },
    {
     "data": {
      "text/plain": "Validation: 0it [00:00, ?it/s]",
      "application/vnd.jupyter.widget-view+json": {
       "version_major": 2,
       "version_minor": 0,
       "model_id": "aa0b013fe2424b96862cc27ffa37ad34"
      }
     },
     "metadata": {},
     "output_type": "display_data"
    },
    {
     "data": {
      "text/plain": "Validation: 0it [00:00, ?it/s]",
      "application/vnd.jupyter.widget-view+json": {
       "version_major": 2,
       "version_minor": 0,
       "model_id": "888fc7ccefaa4a268d98bb19261e2293"
      }
     },
     "metadata": {},
     "output_type": "display_data"
    },
    {
     "data": {
      "text/plain": "Validation: 0it [00:00, ?it/s]",
      "application/vnd.jupyter.widget-view+json": {
       "version_major": 2,
       "version_minor": 0,
       "model_id": "8544c3340e6f4151b24897f5a939c95e"
      }
     },
     "metadata": {},
     "output_type": "display_data"
    },
    {
     "data": {
      "text/plain": "Validation: 0it [00:00, ?it/s]",
      "application/vnd.jupyter.widget-view+json": {
       "version_major": 2,
       "version_minor": 0,
       "model_id": "932405bd349847cab416781d7226a1bd"
      }
     },
     "metadata": {},
     "output_type": "display_data"
    },
    {
     "data": {
      "text/plain": "Validation: 0it [00:00, ?it/s]",
      "application/vnd.jupyter.widget-view+json": {
       "version_major": 2,
       "version_minor": 0,
       "model_id": "245780dc99c346b18cbdec4afde73b38"
      }
     },
     "metadata": {},
     "output_type": "display_data"
    },
    {
     "data": {
      "text/plain": "Validation: 0it [00:00, ?it/s]",
      "application/vnd.jupyter.widget-view+json": {
       "version_major": 2,
       "version_minor": 0,
       "model_id": "ee405f30f2be4307a95e2615fc9b371f"
      }
     },
     "metadata": {},
     "output_type": "display_data"
    },
    {
     "data": {
      "text/plain": "Validation: 0it [00:00, ?it/s]",
      "application/vnd.jupyter.widget-view+json": {
       "version_major": 2,
       "version_minor": 0,
       "model_id": "5b83e74b7f794582bd0b2e612be2096a"
      }
     },
     "metadata": {},
     "output_type": "display_data"
    },
    {
     "data": {
      "text/plain": "Validation: 0it [00:00, ?it/s]",
      "application/vnd.jupyter.widget-view+json": {
       "version_major": 2,
       "version_minor": 0,
       "model_id": "14033b5ba2114ed7b47eea89ce782c3d"
      }
     },
     "metadata": {},
     "output_type": "display_data"
    },
    {
     "data": {
      "text/plain": "Validation: 0it [00:00, ?it/s]",
      "application/vnd.jupyter.widget-view+json": {
       "version_major": 2,
       "version_minor": 0,
       "model_id": "9ee825a876314b06a1c9f81ede3b0424"
      }
     },
     "metadata": {},
     "output_type": "display_data"
    },
    {
     "data": {
      "text/plain": "Validation: 0it [00:00, ?it/s]",
      "application/vnd.jupyter.widget-view+json": {
       "version_major": 2,
       "version_minor": 0,
       "model_id": "fc9f36c9325f4faab7d705945a9994e9"
      }
     },
     "metadata": {},
     "output_type": "display_data"
    },
    {
     "data": {
      "text/plain": "Validation: 0it [00:00, ?it/s]",
      "application/vnd.jupyter.widget-view+json": {
       "version_major": 2,
       "version_minor": 0,
       "model_id": "d43b18b349034b099337c2ee3dbe3f15"
      }
     },
     "metadata": {},
     "output_type": "display_data"
    },
    {
     "data": {
      "text/plain": "Validation: 0it [00:00, ?it/s]",
      "application/vnd.jupyter.widget-view+json": {
       "version_major": 2,
       "version_minor": 0,
       "model_id": "b24f7c4e2c0f4c9581642fc45fb7fab2"
      }
     },
     "metadata": {},
     "output_type": "display_data"
    },
    {
     "data": {
      "text/plain": "Validation: 0it [00:00, ?it/s]",
      "application/vnd.jupyter.widget-view+json": {
       "version_major": 2,
       "version_minor": 0,
       "model_id": "f25b9a4c218049c6aa2db00891db956b"
      }
     },
     "metadata": {},
     "output_type": "display_data"
    },
    {
     "data": {
      "text/plain": "Validation: 0it [00:00, ?it/s]",
      "application/vnd.jupyter.widget-view+json": {
       "version_major": 2,
       "version_minor": 0,
       "model_id": "f3ea25fb4b74494e882c3aefb11ba92a"
      }
     },
     "metadata": {},
     "output_type": "display_data"
    },
    {
     "data": {
      "text/plain": "Validation: 0it [00:00, ?it/s]",
      "application/vnd.jupyter.widget-view+json": {
       "version_major": 2,
       "version_minor": 0,
       "model_id": "cc4e21b44ffa4079ba375ef8dc72cbeb"
      }
     },
     "metadata": {},
     "output_type": "display_data"
    },
    {
     "data": {
      "text/plain": "Validation: 0it [00:00, ?it/s]",
      "application/vnd.jupyter.widget-view+json": {
       "version_major": 2,
       "version_minor": 0,
       "model_id": "9c897db47f4f47618231c758c1c0166c"
      }
     },
     "metadata": {},
     "output_type": "display_data"
    },
    {
     "data": {
      "text/plain": "Validation: 0it [00:00, ?it/s]",
      "application/vnd.jupyter.widget-view+json": {
       "version_major": 2,
       "version_minor": 0,
       "model_id": "b4f929a4fd3246c8a3c658b70963f09b"
      }
     },
     "metadata": {},
     "output_type": "display_data"
    },
    {
     "data": {
      "text/plain": "Validation: 0it [00:00, ?it/s]",
      "application/vnd.jupyter.widget-view+json": {
       "version_major": 2,
       "version_minor": 0,
       "model_id": "487b720d756e492698e8b7ec919da07f"
      }
     },
     "metadata": {},
     "output_type": "display_data"
    },
    {
     "data": {
      "text/plain": "Validation: 0it [00:00, ?it/s]",
      "application/vnd.jupyter.widget-view+json": {
       "version_major": 2,
       "version_minor": 0,
       "model_id": "f02208487fce473cae9ec8f3865ac5f7"
      }
     },
     "metadata": {},
     "output_type": "display_data"
    },
    {
     "data": {
      "text/plain": "Validation: 0it [00:00, ?it/s]",
      "application/vnd.jupyter.widget-view+json": {
       "version_major": 2,
       "version_minor": 0,
       "model_id": "41003ad397184001b47e650c68bb4be0"
      }
     },
     "metadata": {},
     "output_type": "display_data"
    },
    {
     "data": {
      "text/plain": "Validation: 0it [00:00, ?it/s]",
      "application/vnd.jupyter.widget-view+json": {
       "version_major": 2,
       "version_minor": 0,
       "model_id": "d98ceefd0c9b4997b17ceffcea2edd9d"
      }
     },
     "metadata": {},
     "output_type": "display_data"
    },
    {
     "data": {
      "text/plain": "Validation: 0it [00:00, ?it/s]",
      "application/vnd.jupyter.widget-view+json": {
       "version_major": 2,
       "version_minor": 0,
       "model_id": "38d37e622c014658977b8cdf9585b759"
      }
     },
     "metadata": {},
     "output_type": "display_data"
    },
    {
     "data": {
      "text/plain": "Validation: 0it [00:00, ?it/s]",
      "application/vnd.jupyter.widget-view+json": {
       "version_major": 2,
       "version_minor": 0,
       "model_id": "825986932d3b48dcbab67ae660bdbde0"
      }
     },
     "metadata": {},
     "output_type": "display_data"
    },
    {
     "data": {
      "text/plain": "Validation: 0it [00:00, ?it/s]",
      "application/vnd.jupyter.widget-view+json": {
       "version_major": 2,
       "version_minor": 0,
       "model_id": "e988be556a93461ead00d8a9d82b2f9a"
      }
     },
     "metadata": {},
     "output_type": "display_data"
    },
    {
     "data": {
      "text/plain": "Validation: 0it [00:00, ?it/s]",
      "application/vnd.jupyter.widget-view+json": {
       "version_major": 2,
       "version_minor": 0,
       "model_id": "bc31d15304984fa4b56b2290c6281edf"
      }
     },
     "metadata": {},
     "output_type": "display_data"
    },
    {
     "data": {
      "text/plain": "Validation: 0it [00:00, ?it/s]",
      "application/vnd.jupyter.widget-view+json": {
       "version_major": 2,
       "version_minor": 0,
       "model_id": "0c8184c6ed384851bddee76da2398e60"
      }
     },
     "metadata": {},
     "output_type": "display_data"
    },
    {
     "data": {
      "text/plain": "Validation: 0it [00:00, ?it/s]",
      "application/vnd.jupyter.widget-view+json": {
       "version_major": 2,
       "version_minor": 0,
       "model_id": "7100f0dad66841ce9b29821c0b989594"
      }
     },
     "metadata": {},
     "output_type": "display_data"
    },
    {
     "data": {
      "text/plain": "Validation: 0it [00:00, ?it/s]",
      "application/vnd.jupyter.widget-view+json": {
       "version_major": 2,
       "version_minor": 0,
       "model_id": "6700247d5db040ae98782dc0c1fa6986"
      }
     },
     "metadata": {},
     "output_type": "display_data"
    },
    {
     "data": {
      "text/plain": "Validation: 0it [00:00, ?it/s]",
      "application/vnd.jupyter.widget-view+json": {
       "version_major": 2,
       "version_minor": 0,
       "model_id": "ee1e4316d9d64bc2962de60d9050f09f"
      }
     },
     "metadata": {},
     "output_type": "display_data"
    },
    {
     "data": {
      "text/plain": "Validation: 0it [00:00, ?it/s]",
      "application/vnd.jupyter.widget-view+json": {
       "version_major": 2,
       "version_minor": 0,
       "model_id": "336a681ec57a4e2ca0c797b6b5534a8b"
      }
     },
     "metadata": {},
     "output_type": "display_data"
    },
    {
     "data": {
      "text/plain": "Validation: 0it [00:00, ?it/s]",
      "application/vnd.jupyter.widget-view+json": {
       "version_major": 2,
       "version_minor": 0,
       "model_id": "3ddaf97b6aca42f5bd20e7214ee92b34"
      }
     },
     "metadata": {},
     "output_type": "display_data"
    },
    {
     "data": {
      "text/plain": "Validation: 0it [00:00, ?it/s]",
      "application/vnd.jupyter.widget-view+json": {
       "version_major": 2,
       "version_minor": 0,
       "model_id": "da9a7373f1b444e5826cf87e0bfeab06"
      }
     },
     "metadata": {},
     "output_type": "display_data"
    },
    {
     "data": {
      "text/plain": "Validation: 0it [00:00, ?it/s]",
      "application/vnd.jupyter.widget-view+json": {
       "version_major": 2,
       "version_minor": 0,
       "model_id": "3c71dcc7f2e84e20a5a0aed3a5c036a5"
      }
     },
     "metadata": {},
     "output_type": "display_data"
    },
    {
     "data": {
      "text/plain": "Validation: 0it [00:00, ?it/s]",
      "application/vnd.jupyter.widget-view+json": {
       "version_major": 2,
       "version_minor": 0,
       "model_id": "74e604ad2de54914b20d0976a23279c1"
      }
     },
     "metadata": {},
     "output_type": "display_data"
    },
    {
     "data": {
      "text/plain": "Validation: 0it [00:00, ?it/s]",
      "application/vnd.jupyter.widget-view+json": {
       "version_major": 2,
       "version_minor": 0,
       "model_id": "74cb58dc075c46c3b8f5af947676cc15"
      }
     },
     "metadata": {},
     "output_type": "display_data"
    },
    {
     "data": {
      "text/plain": "Validation: 0it [00:00, ?it/s]",
      "application/vnd.jupyter.widget-view+json": {
       "version_major": 2,
       "version_minor": 0,
       "model_id": "93f86e5fa1bc451690b52efedf2a1ac8"
      }
     },
     "metadata": {},
     "output_type": "display_data"
    },
    {
     "data": {
      "text/plain": "Validation: 0it [00:00, ?it/s]",
      "application/vnd.jupyter.widget-view+json": {
       "version_major": 2,
       "version_minor": 0,
       "model_id": "29a393b52d09420f89add3cac9d62784"
      }
     },
     "metadata": {},
     "output_type": "display_data"
    },
    {
     "data": {
      "text/plain": "Validation: 0it [00:00, ?it/s]",
      "application/vnd.jupyter.widget-view+json": {
       "version_major": 2,
       "version_minor": 0,
       "model_id": "dc7c19310e52455580c5e99fa16a264d"
      }
     },
     "metadata": {},
     "output_type": "display_data"
    },
    {
     "data": {
      "text/plain": "Validation: 0it [00:00, ?it/s]",
      "application/vnd.jupyter.widget-view+json": {
       "version_major": 2,
       "version_minor": 0,
       "model_id": "0a9ebf70d44442f092ba1b02573c04b1"
      }
     },
     "metadata": {},
     "output_type": "display_data"
    },
    {
     "data": {
      "text/plain": "Validation: 0it [00:00, ?it/s]",
      "application/vnd.jupyter.widget-view+json": {
       "version_major": 2,
       "version_minor": 0,
       "model_id": "2f8279dbb1eb419cab97fca904e8f4f2"
      }
     },
     "metadata": {},
     "output_type": "display_data"
    },
    {
     "data": {
      "text/plain": "Validation: 0it [00:00, ?it/s]",
      "application/vnd.jupyter.widget-view+json": {
       "version_major": 2,
       "version_minor": 0,
       "model_id": "c2d39d93225e4b3db317a136136840c7"
      }
     },
     "metadata": {},
     "output_type": "display_data"
    },
    {
     "data": {
      "text/plain": "Validation: 0it [00:00, ?it/s]",
      "application/vnd.jupyter.widget-view+json": {
       "version_major": 2,
       "version_minor": 0,
       "model_id": "b4fb88bebc5a4051b7dd8f8a2ef0a0cb"
      }
     },
     "metadata": {},
     "output_type": "display_data"
    },
    {
     "data": {
      "text/plain": "Validation: 0it [00:00, ?it/s]",
      "application/vnd.jupyter.widget-view+json": {
       "version_major": 2,
       "version_minor": 0,
       "model_id": "7d050fb2c7f54c18bfbf75653f69b53c"
      }
     },
     "metadata": {},
     "output_type": "display_data"
    },
    {
     "data": {
      "text/plain": "Validation: 0it [00:00, ?it/s]",
      "application/vnd.jupyter.widget-view+json": {
       "version_major": 2,
       "version_minor": 0,
       "model_id": "5fb468221425441da8e322f1b05d9937"
      }
     },
     "metadata": {},
     "output_type": "display_data"
    },
    {
     "data": {
      "text/plain": "Validation: 0it [00:00, ?it/s]",
      "application/vnd.jupyter.widget-view+json": {
       "version_major": 2,
       "version_minor": 0,
       "model_id": "7ce0f77593b04f598e284c741085b207"
      }
     },
     "metadata": {},
     "output_type": "display_data"
    },
    {
     "data": {
      "text/plain": "Validation: 0it [00:00, ?it/s]",
      "application/vnd.jupyter.widget-view+json": {
       "version_major": 2,
       "version_minor": 0,
       "model_id": "88e0744939b8464fb3a81a1f3c404fc1"
      }
     },
     "metadata": {},
     "output_type": "display_data"
    },
    {
     "data": {
      "text/plain": "Validation: 0it [00:00, ?it/s]",
      "application/vnd.jupyter.widget-view+json": {
       "version_major": 2,
       "version_minor": 0,
       "model_id": "66998f250eaa479eae9db87090428e6b"
      }
     },
     "metadata": {},
     "output_type": "display_data"
    },
    {
     "data": {
      "text/plain": "Validation: 0it [00:00, ?it/s]",
      "application/vnd.jupyter.widget-view+json": {
       "version_major": 2,
       "version_minor": 0,
       "model_id": "7481b97ea7254e9e91956edb00f20734"
      }
     },
     "metadata": {},
     "output_type": "display_data"
    },
    {
     "data": {
      "text/plain": "Validation: 0it [00:00, ?it/s]",
      "application/vnd.jupyter.widget-view+json": {
       "version_major": 2,
       "version_minor": 0,
       "model_id": "ba74d3bb18e74068af1818318ccb79a0"
      }
     },
     "metadata": {},
     "output_type": "display_data"
    },
    {
     "data": {
      "text/plain": "Validation: 0it [00:00, ?it/s]",
      "application/vnd.jupyter.widget-view+json": {
       "version_major": 2,
       "version_minor": 0,
       "model_id": "2442652d905c49708f9cc3ec3fad5d8c"
      }
     },
     "metadata": {},
     "output_type": "display_data"
    },
    {
     "data": {
      "text/plain": "Validation: 0it [00:00, ?it/s]",
      "application/vnd.jupyter.widget-view+json": {
       "version_major": 2,
       "version_minor": 0,
       "model_id": "66610b73df7648a8bdc1fa8a2d7316f7"
      }
     },
     "metadata": {},
     "output_type": "display_data"
    },
    {
     "data": {
      "text/plain": "Validation: 0it [00:00, ?it/s]",
      "application/vnd.jupyter.widget-view+json": {
       "version_major": 2,
       "version_minor": 0,
       "model_id": "ababf1c965844047b16b565e914afa9e"
      }
     },
     "metadata": {},
     "output_type": "display_data"
    },
    {
     "data": {
      "text/plain": "Validation: 0it [00:00, ?it/s]",
      "application/vnd.jupyter.widget-view+json": {
       "version_major": 2,
       "version_minor": 0,
       "model_id": "774912ca33b0479cb25c2525f6fa7e7e"
      }
     },
     "metadata": {},
     "output_type": "display_data"
    },
    {
     "data": {
      "text/plain": "Validation: 0it [00:00, ?it/s]",
      "application/vnd.jupyter.widget-view+json": {
       "version_major": 2,
       "version_minor": 0,
       "model_id": "9e52706bc51e45809f664904fed7efbc"
      }
     },
     "metadata": {},
     "output_type": "display_data"
    },
    {
     "data": {
      "text/plain": "Validation: 0it [00:00, ?it/s]",
      "application/vnd.jupyter.widget-view+json": {
       "version_major": 2,
       "version_minor": 0,
       "model_id": "fd1d2b2dccad46d0bf94036a1ef6b04e"
      }
     },
     "metadata": {},
     "output_type": "display_data"
    },
    {
     "data": {
      "text/plain": "Validation: 0it [00:00, ?it/s]",
      "application/vnd.jupyter.widget-view+json": {
       "version_major": 2,
       "version_minor": 0,
       "model_id": "e7f3f64514984c19ae5c56b3b135ca6a"
      }
     },
     "metadata": {},
     "output_type": "display_data"
    },
    {
     "data": {
      "text/plain": "Validation: 0it [00:00, ?it/s]",
      "application/vnd.jupyter.widget-view+json": {
       "version_major": 2,
       "version_minor": 0,
       "model_id": "29825cfdb2804a449463db20e10d3a1f"
      }
     },
     "metadata": {},
     "output_type": "display_data"
    },
    {
     "data": {
      "text/plain": "Validation: 0it [00:00, ?it/s]",
      "application/vnd.jupyter.widget-view+json": {
       "version_major": 2,
       "version_minor": 0,
       "model_id": "e345bd6113a54e2cb566a2bf6a5aea7a"
      }
     },
     "metadata": {},
     "output_type": "display_data"
    },
    {
     "data": {
      "text/plain": "Validation: 0it [00:00, ?it/s]",
      "application/vnd.jupyter.widget-view+json": {
       "version_major": 2,
       "version_minor": 0,
       "model_id": "21bf3921ac32416586cd8de40efdc69f"
      }
     },
     "metadata": {},
     "output_type": "display_data"
    },
    {
     "data": {
      "text/plain": "Validation: 0it [00:00, ?it/s]",
      "application/vnd.jupyter.widget-view+json": {
       "version_major": 2,
       "version_minor": 0,
       "model_id": "bd9806ee5a8d48ce842602a1cec57ee4"
      }
     },
     "metadata": {},
     "output_type": "display_data"
    },
    {
     "data": {
      "text/plain": "Validation: 0it [00:00, ?it/s]",
      "application/vnd.jupyter.widget-view+json": {
       "version_major": 2,
       "version_minor": 0,
       "model_id": "dd89e64c4d884e7086377359482d2b44"
      }
     },
     "metadata": {},
     "output_type": "display_data"
    },
    {
     "data": {
      "text/plain": "Validation: 0it [00:00, ?it/s]",
      "application/vnd.jupyter.widget-view+json": {
       "version_major": 2,
       "version_minor": 0,
       "model_id": "bbce885379744685bd92173e7a811cbe"
      }
     },
     "metadata": {},
     "output_type": "display_data"
    },
    {
     "data": {
      "text/plain": "Validation: 0it [00:00, ?it/s]",
      "application/vnd.jupyter.widget-view+json": {
       "version_major": 2,
       "version_minor": 0,
       "model_id": "4d498b5e8c564694bf4751feebb3ff83"
      }
     },
     "metadata": {},
     "output_type": "display_data"
    },
    {
     "data": {
      "text/plain": "Validation: 0it [00:00, ?it/s]",
      "application/vnd.jupyter.widget-view+json": {
       "version_major": 2,
       "version_minor": 0,
       "model_id": "b4349cf424cf4dcd9746724ffc482f9e"
      }
     },
     "metadata": {},
     "output_type": "display_data"
    },
    {
     "data": {
      "text/plain": "Validation: 0it [00:00, ?it/s]",
      "application/vnd.jupyter.widget-view+json": {
       "version_major": 2,
       "version_minor": 0,
       "model_id": "56cf00faddcc4fde80f281b4cab7a5ce"
      }
     },
     "metadata": {},
     "output_type": "display_data"
    },
    {
     "data": {
      "text/plain": "Validation: 0it [00:00, ?it/s]",
      "application/vnd.jupyter.widget-view+json": {
       "version_major": 2,
       "version_minor": 0,
       "model_id": "4fe11010a3fe4977956ea33afafe5600"
      }
     },
     "metadata": {},
     "output_type": "display_data"
    },
    {
     "data": {
      "text/plain": "Validation: 0it [00:00, ?it/s]",
      "application/vnd.jupyter.widget-view+json": {
       "version_major": 2,
       "version_minor": 0,
       "model_id": "f84a0072c3104b118ff9ed2946c85e55"
      }
     },
     "metadata": {},
     "output_type": "display_data"
    },
    {
     "data": {
      "text/plain": "Validation: 0it [00:00, ?it/s]",
      "application/vnd.jupyter.widget-view+json": {
       "version_major": 2,
       "version_minor": 0,
       "model_id": "b71d98758c0541059cbb7938e27d97b2"
      }
     },
     "metadata": {},
     "output_type": "display_data"
    },
    {
     "data": {
      "text/plain": "Validation: 0it [00:00, ?it/s]",
      "application/vnd.jupyter.widget-view+json": {
       "version_major": 2,
       "version_minor": 0,
       "model_id": "048c441d71e7488e88df00af8dda69a2"
      }
     },
     "metadata": {},
     "output_type": "display_data"
    },
    {
     "data": {
      "text/plain": "Validation: 0it [00:00, ?it/s]",
      "application/vnd.jupyter.widget-view+json": {
       "version_major": 2,
       "version_minor": 0,
       "model_id": "e3055b62aaf94844b4da7517427749b8"
      }
     },
     "metadata": {},
     "output_type": "display_data"
    },
    {
     "data": {
      "text/plain": "Validation: 0it [00:00, ?it/s]",
      "application/vnd.jupyter.widget-view+json": {
       "version_major": 2,
       "version_minor": 0,
       "model_id": "eea5fb455d3549ddac6e7911d2fc3f43"
      }
     },
     "metadata": {},
     "output_type": "display_data"
    },
    {
     "data": {
      "text/plain": "Validation: 0it [00:00, ?it/s]",
      "application/vnd.jupyter.widget-view+json": {
       "version_major": 2,
       "version_minor": 0,
       "model_id": "92c6453715b64888b124fe9239275eab"
      }
     },
     "metadata": {},
     "output_type": "display_data"
    },
    {
     "data": {
      "text/plain": "Validation: 0it [00:00, ?it/s]",
      "application/vnd.jupyter.widget-view+json": {
       "version_major": 2,
       "version_minor": 0,
       "model_id": "2e0612cb68bb4065a9d2c8770284972d"
      }
     },
     "metadata": {},
     "output_type": "display_data"
    },
    {
     "data": {
      "text/plain": "Validation: 0it [00:00, ?it/s]",
      "application/vnd.jupyter.widget-view+json": {
       "version_major": 2,
       "version_minor": 0,
       "model_id": "e23a674dd90849d7a6f876c6f6088fc1"
      }
     },
     "metadata": {},
     "output_type": "display_data"
    },
    {
     "data": {
      "text/plain": "Validation: 0it [00:00, ?it/s]",
      "application/vnd.jupyter.widget-view+json": {
       "version_major": 2,
       "version_minor": 0,
       "model_id": "57d9cb8bdd734d3284d7cb55c85c8910"
      }
     },
     "metadata": {},
     "output_type": "display_data"
    },
    {
     "data": {
      "text/plain": "Validation: 0it [00:00, ?it/s]",
      "application/vnd.jupyter.widget-view+json": {
       "version_major": 2,
       "version_minor": 0,
       "model_id": "8bce6e2e2a1a4bfea8110c6cad42f575"
      }
     },
     "metadata": {},
     "output_type": "display_data"
    },
    {
     "data": {
      "text/plain": "Validation: 0it [00:00, ?it/s]",
      "application/vnd.jupyter.widget-view+json": {
       "version_major": 2,
       "version_minor": 0,
       "model_id": "fd686ec430c542e6924340b887578f62"
      }
     },
     "metadata": {},
     "output_type": "display_data"
    },
    {
     "data": {
      "text/plain": "Validation: 0it [00:00, ?it/s]",
      "application/vnd.jupyter.widget-view+json": {
       "version_major": 2,
       "version_minor": 0,
       "model_id": "04128d6a54bf4bf999b80127e78efee0"
      }
     },
     "metadata": {},
     "output_type": "display_data"
    },
    {
     "data": {
      "text/plain": "Validation: 0it [00:00, ?it/s]",
      "application/vnd.jupyter.widget-view+json": {
       "version_major": 2,
       "version_minor": 0,
       "model_id": "ee35a8a1f135419493831333d91add35"
      }
     },
     "metadata": {},
     "output_type": "display_data"
    },
    {
     "data": {
      "text/plain": "Validation: 0it [00:00, ?it/s]",
      "application/vnd.jupyter.widget-view+json": {
       "version_major": 2,
       "version_minor": 0,
       "model_id": "2878c6c1be0b488dab49b4eb2f782f77"
      }
     },
     "metadata": {},
     "output_type": "display_data"
    },
    {
     "data": {
      "text/plain": "Validation: 0it [00:00, ?it/s]",
      "application/vnd.jupyter.widget-view+json": {
       "version_major": 2,
       "version_minor": 0,
       "model_id": "b616f58b82d644f6a810150a9b11ecd3"
      }
     },
     "metadata": {},
     "output_type": "display_data"
    },
    {
     "data": {
      "text/plain": "Validation: 0it [00:00, ?it/s]",
      "application/vnd.jupyter.widget-view+json": {
       "version_major": 2,
       "version_minor": 0,
       "model_id": "1849e88c58a443bf8a4efa0bd82f183b"
      }
     },
     "metadata": {},
     "output_type": "display_data"
    },
    {
     "data": {
      "text/plain": "Validation: 0it [00:00, ?it/s]",
      "application/vnd.jupyter.widget-view+json": {
       "version_major": 2,
       "version_minor": 0,
       "model_id": "6d455c10b11b40d0904d6faef6a9a0c7"
      }
     },
     "metadata": {},
     "output_type": "display_data"
    },
    {
     "data": {
      "text/plain": "Validation: 0it [00:00, ?it/s]",
      "application/vnd.jupyter.widget-view+json": {
       "version_major": 2,
       "version_minor": 0,
       "model_id": "7612e1b62c1d45d5937ad62ea242854b"
      }
     },
     "metadata": {},
     "output_type": "display_data"
    },
    {
     "data": {
      "text/plain": "Validation: 0it [00:00, ?it/s]",
      "application/vnd.jupyter.widget-view+json": {
       "version_major": 2,
       "version_minor": 0,
       "model_id": "9cc650f66f5f4268a9736ebdcfc5c38a"
      }
     },
     "metadata": {},
     "output_type": "display_data"
    },
    {
     "data": {
      "text/plain": "Validation: 0it [00:00, ?it/s]",
      "application/vnd.jupyter.widget-view+json": {
       "version_major": 2,
       "version_minor": 0,
       "model_id": "9d18a9efb4774e96b2c7ac626ba010f1"
      }
     },
     "metadata": {},
     "output_type": "display_data"
    },
    {
     "data": {
      "text/plain": "Validation: 0it [00:00, ?it/s]",
      "application/vnd.jupyter.widget-view+json": {
       "version_major": 2,
       "version_minor": 0,
       "model_id": "3d2da457c7574b7bbd9f2b006f6241ce"
      }
     },
     "metadata": {},
     "output_type": "display_data"
    },
    {
     "data": {
      "text/plain": "Validation: 0it [00:00, ?it/s]",
      "application/vnd.jupyter.widget-view+json": {
       "version_major": 2,
       "version_minor": 0,
       "model_id": "3f5bd927c41944088ee4a17ad324cb0c"
      }
     },
     "metadata": {},
     "output_type": "display_data"
    },
    {
     "data": {
      "text/plain": "Validation: 0it [00:00, ?it/s]",
      "application/vnd.jupyter.widget-view+json": {
       "version_major": 2,
       "version_minor": 0,
       "model_id": "fcc188b262864e109ff52c5373603739"
      }
     },
     "metadata": {},
     "output_type": "display_data"
    },
    {
     "data": {
      "text/plain": "Validation: 0it [00:00, ?it/s]",
      "application/vnd.jupyter.widget-view+json": {
       "version_major": 2,
       "version_minor": 0,
       "model_id": "ada856def2e849d3a20c837f875b2337"
      }
     },
     "metadata": {},
     "output_type": "display_data"
    },
    {
     "data": {
      "text/plain": "Validation: 0it [00:00, ?it/s]",
      "application/vnd.jupyter.widget-view+json": {
       "version_major": 2,
       "version_minor": 0,
       "model_id": "3026fc5cffda40b2b9686c06c524ce8f"
      }
     },
     "metadata": {},
     "output_type": "display_data"
    },
    {
     "data": {
      "text/plain": "Validation: 0it [00:00, ?it/s]",
      "application/vnd.jupyter.widget-view+json": {
       "version_major": 2,
       "version_minor": 0,
       "model_id": "22b78226aa4c4ec1b6e5db7647fe0926"
      }
     },
     "metadata": {},
     "output_type": "display_data"
    },
    {
     "data": {
      "text/plain": "Validation: 0it [00:00, ?it/s]",
      "application/vnd.jupyter.widget-view+json": {
       "version_major": 2,
       "version_minor": 0,
       "model_id": "41638ac6bd6349f3a6d76f003e6806e0"
      }
     },
     "metadata": {},
     "output_type": "display_data"
    },
    {
     "data": {
      "text/plain": "Validation: 0it [00:00, ?it/s]",
      "application/vnd.jupyter.widget-view+json": {
       "version_major": 2,
       "version_minor": 0,
       "model_id": "5e6c69083f4747df95cbf6f3d0368b52"
      }
     },
     "metadata": {},
     "output_type": "display_data"
    },
    {
     "data": {
      "text/plain": "Validation: 0it [00:00, ?it/s]",
      "application/vnd.jupyter.widget-view+json": {
       "version_major": 2,
       "version_minor": 0,
       "model_id": "a75cee91dc2d4776a81b725aae46114f"
      }
     },
     "metadata": {},
     "output_type": "display_data"
    },
    {
     "data": {
      "text/plain": "Validation: 0it [00:00, ?it/s]",
      "application/vnd.jupyter.widget-view+json": {
       "version_major": 2,
       "version_minor": 0,
       "model_id": "8a0a8a0b9fbc486587744a6ccf73a7b7"
      }
     },
     "metadata": {},
     "output_type": "display_data"
    },
    {
     "data": {
      "text/plain": "Validation: 0it [00:00, ?it/s]",
      "application/vnd.jupyter.widget-view+json": {
       "version_major": 2,
       "version_minor": 0,
       "model_id": "7f4b58e613674e8ba8332aeeb0a46a7f"
      }
     },
     "metadata": {},
     "output_type": "display_data"
    },
    {
     "data": {
      "text/plain": "Validation: 0it [00:00, ?it/s]",
      "application/vnd.jupyter.widget-view+json": {
       "version_major": 2,
       "version_minor": 0,
       "model_id": "ffe4d54e10644b0d9c5bc80af4ce1dae"
      }
     },
     "metadata": {},
     "output_type": "display_data"
    },
    {
     "data": {
      "text/plain": "Validation: 0it [00:00, ?it/s]",
      "application/vnd.jupyter.widget-view+json": {
       "version_major": 2,
       "version_minor": 0,
       "model_id": "baf4a77800b342fbba39ba81655fff98"
      }
     },
     "metadata": {},
     "output_type": "display_data"
    },
    {
     "data": {
      "text/plain": "Validation: 0it [00:00, ?it/s]",
      "application/vnd.jupyter.widget-view+json": {
       "version_major": 2,
       "version_minor": 0,
       "model_id": "d7c8eaa092744877812676f819b1ddd9"
      }
     },
     "metadata": {},
     "output_type": "display_data"
    },
    {
     "data": {
      "text/plain": "Validation: 0it [00:00, ?it/s]",
      "application/vnd.jupyter.widget-view+json": {
       "version_major": 2,
       "version_minor": 0,
       "model_id": "5d5cf56b5c754bbcbacb14be02672f55"
      }
     },
     "metadata": {},
     "output_type": "display_data"
    },
    {
     "data": {
      "text/plain": "Validation: 0it [00:00, ?it/s]",
      "application/vnd.jupyter.widget-view+json": {
       "version_major": 2,
       "version_minor": 0,
       "model_id": "027a27094c464e87a4870365d889d2e0"
      }
     },
     "metadata": {},
     "output_type": "display_data"
    },
    {
     "data": {
      "text/plain": "Validation: 0it [00:00, ?it/s]",
      "application/vnd.jupyter.widget-view+json": {
       "version_major": 2,
       "version_minor": 0,
       "model_id": "cadf6b52ce8f403c897b99f573cbe04c"
      }
     },
     "metadata": {},
     "output_type": "display_data"
    },
    {
     "data": {
      "text/plain": "Validation: 0it [00:00, ?it/s]",
      "application/vnd.jupyter.widget-view+json": {
       "version_major": 2,
       "version_minor": 0,
       "model_id": "9a94e0dcfc504c8eb99981c9ee5bc26c"
      }
     },
     "metadata": {},
     "output_type": "display_data"
    },
    {
     "data": {
      "text/plain": "Validation: 0it [00:00, ?it/s]",
      "application/vnd.jupyter.widget-view+json": {
       "version_major": 2,
       "version_minor": 0,
       "model_id": "edced351cb3e414eb007d3e6c2eac720"
      }
     },
     "metadata": {},
     "output_type": "display_data"
    },
    {
     "data": {
      "text/plain": "Validation: 0it [00:00, ?it/s]",
      "application/vnd.jupyter.widget-view+json": {
       "version_major": 2,
       "version_minor": 0,
       "model_id": "8077c01b24b7420ca90be43d4494c9aa"
      }
     },
     "metadata": {},
     "output_type": "display_data"
    },
    {
     "data": {
      "text/plain": "Validation: 0it [00:00, ?it/s]",
      "application/vnd.jupyter.widget-view+json": {
       "version_major": 2,
       "version_minor": 0,
       "model_id": "a0541a7d71f741708b5befb4886e3c08"
      }
     },
     "metadata": {},
     "output_type": "display_data"
    },
    {
     "data": {
      "text/plain": "Validation: 0it [00:00, ?it/s]",
      "application/vnd.jupyter.widget-view+json": {
       "version_major": 2,
       "version_minor": 0,
       "model_id": "a99853efb9e542b6ad6c6fbf35eee0db"
      }
     },
     "metadata": {},
     "output_type": "display_data"
    },
    {
     "data": {
      "text/plain": "Validation: 0it [00:00, ?it/s]",
      "application/vnd.jupyter.widget-view+json": {
       "version_major": 2,
       "version_minor": 0,
       "model_id": "b8c320001ae047cf98485ec32ef2825c"
      }
     },
     "metadata": {},
     "output_type": "display_data"
    },
    {
     "data": {
      "text/plain": "Validation: 0it [00:00, ?it/s]",
      "application/vnd.jupyter.widget-view+json": {
       "version_major": 2,
       "version_minor": 0,
       "model_id": "7c8c28eeb12046b480c9a5b41328a484"
      }
     },
     "metadata": {},
     "output_type": "display_data"
    },
    {
     "data": {
      "text/plain": "Validation: 0it [00:00, ?it/s]",
      "application/vnd.jupyter.widget-view+json": {
       "version_major": 2,
       "version_minor": 0,
       "model_id": "88559ca6efef45dd850966a6882fd9b4"
      }
     },
     "metadata": {},
     "output_type": "display_data"
    },
    {
     "data": {
      "text/plain": "Validation: 0it [00:00, ?it/s]",
      "application/vnd.jupyter.widget-view+json": {
       "version_major": 2,
       "version_minor": 0,
       "model_id": "9f0acedd117049a48318bd6e56af3e17"
      }
     },
     "metadata": {},
     "output_type": "display_data"
    },
    {
     "data": {
      "text/plain": "Validation: 0it [00:00, ?it/s]",
      "application/vnd.jupyter.widget-view+json": {
       "version_major": 2,
       "version_minor": 0,
       "model_id": "6185a7e5af7e4d4aa8eaa23bcf4e0b41"
      }
     },
     "metadata": {},
     "output_type": "display_data"
    },
    {
     "data": {
      "text/plain": "Validation: 0it [00:00, ?it/s]",
      "application/vnd.jupyter.widget-view+json": {
       "version_major": 2,
       "version_minor": 0,
       "model_id": "056b5a0027ee457e94d87458f528e263"
      }
     },
     "metadata": {},
     "output_type": "display_data"
    },
    {
     "data": {
      "text/plain": "Validation: 0it [00:00, ?it/s]",
      "application/vnd.jupyter.widget-view+json": {
       "version_major": 2,
       "version_minor": 0,
       "model_id": "d29feeac7d0a470a8356a82e192bc989"
      }
     },
     "metadata": {},
     "output_type": "display_data"
    },
    {
     "data": {
      "text/plain": "Validation: 0it [00:00, ?it/s]",
      "application/vnd.jupyter.widget-view+json": {
       "version_major": 2,
       "version_minor": 0,
       "model_id": "adf8d2a8267344faa66b1d19985e094d"
      }
     },
     "metadata": {},
     "output_type": "display_data"
    },
    {
     "data": {
      "text/plain": "Validation: 0it [00:00, ?it/s]",
      "application/vnd.jupyter.widget-view+json": {
       "version_major": 2,
       "version_minor": 0,
       "model_id": "88b33deec3664d988157253846c8ccd1"
      }
     },
     "metadata": {},
     "output_type": "display_data"
    },
    {
     "data": {
      "text/plain": "Validation: 0it [00:00, ?it/s]",
      "application/vnd.jupyter.widget-view+json": {
       "version_major": 2,
       "version_minor": 0,
       "model_id": "3783f52f70554e3aa160b9da9af48a0b"
      }
     },
     "metadata": {},
     "output_type": "display_data"
    },
    {
     "data": {
      "text/plain": "Validation: 0it [00:00, ?it/s]",
      "application/vnd.jupyter.widget-view+json": {
       "version_major": 2,
       "version_minor": 0,
       "model_id": "c0ae62a75b6e420d92222635b30df176"
      }
     },
     "metadata": {},
     "output_type": "display_data"
    },
    {
     "data": {
      "text/plain": "Validation: 0it [00:00, ?it/s]",
      "application/vnd.jupyter.widget-view+json": {
       "version_major": 2,
       "version_minor": 0,
       "model_id": "e6d597c2d3b74653877f638bc0e9e0b3"
      }
     },
     "metadata": {},
     "output_type": "display_data"
    },
    {
     "data": {
      "text/plain": "Validation: 0it [00:00, ?it/s]",
      "application/vnd.jupyter.widget-view+json": {
       "version_major": 2,
       "version_minor": 0,
       "model_id": "fd260d519e4f4c6d93f60413f9f72fb0"
      }
     },
     "metadata": {},
     "output_type": "display_data"
    },
    {
     "data": {
      "text/plain": "Validation: 0it [00:00, ?it/s]",
      "application/vnd.jupyter.widget-view+json": {
       "version_major": 2,
       "version_minor": 0,
       "model_id": "d9076351de944cdeb4203564d4ffc9e2"
      }
     },
     "metadata": {},
     "output_type": "display_data"
    },
    {
     "data": {
      "text/plain": "Validation: 0it [00:00, ?it/s]",
      "application/vnd.jupyter.widget-view+json": {
       "version_major": 2,
       "version_minor": 0,
       "model_id": "028b3591ffae45eab6c4a8a49c8c7db3"
      }
     },
     "metadata": {},
     "output_type": "display_data"
    },
    {
     "data": {
      "text/plain": "Validation: 0it [00:00, ?it/s]",
      "application/vnd.jupyter.widget-view+json": {
       "version_major": 2,
       "version_minor": 0,
       "model_id": "edd263c9858a42e1ab9b6795b6609a9a"
      }
     },
     "metadata": {},
     "output_type": "display_data"
    },
    {
     "data": {
      "text/plain": "Validation: 0it [00:00, ?it/s]",
      "application/vnd.jupyter.widget-view+json": {
       "version_major": 2,
       "version_minor": 0,
       "model_id": "5abccd0330f9411c83afc818243973dc"
      }
     },
     "metadata": {},
     "output_type": "display_data"
    },
    {
     "data": {
      "text/plain": "Validation: 0it [00:00, ?it/s]",
      "application/vnd.jupyter.widget-view+json": {
       "version_major": 2,
       "version_minor": 0,
       "model_id": "6074d7d14215450ea7eed66330901e74"
      }
     },
     "metadata": {},
     "output_type": "display_data"
    },
    {
     "data": {
      "text/plain": "Validation: 0it [00:00, ?it/s]",
      "application/vnd.jupyter.widget-view+json": {
       "version_major": 2,
       "version_minor": 0,
       "model_id": "4dc38f6d7ccc40359e5d49caf435c4e4"
      }
     },
     "metadata": {},
     "output_type": "display_data"
    },
    {
     "data": {
      "text/plain": "Validation: 0it [00:00, ?it/s]",
      "application/vnd.jupyter.widget-view+json": {
       "version_major": 2,
       "version_minor": 0,
       "model_id": "b0fbc2c68b9f4ef89a1ebacb56c7eb7f"
      }
     },
     "metadata": {},
     "output_type": "display_data"
    },
    {
     "data": {
      "text/plain": "Validation: 0it [00:00, ?it/s]",
      "application/vnd.jupyter.widget-view+json": {
       "version_major": 2,
       "version_minor": 0,
       "model_id": "611a2dcfaa11496999e4a9dc36678761"
      }
     },
     "metadata": {},
     "output_type": "display_data"
    },
    {
     "data": {
      "text/plain": "Validation: 0it [00:00, ?it/s]",
      "application/vnd.jupyter.widget-view+json": {
       "version_major": 2,
       "version_minor": 0,
       "model_id": "67dca0c7647f43f8bbb1776a759f9da1"
      }
     },
     "metadata": {},
     "output_type": "display_data"
    },
    {
     "data": {
      "text/plain": "Validation: 0it [00:00, ?it/s]",
      "application/vnd.jupyter.widget-view+json": {
       "version_major": 2,
       "version_minor": 0,
       "model_id": "f9953112d2b1428d98a62179ec2d8fec"
      }
     },
     "metadata": {},
     "output_type": "display_data"
    },
    {
     "data": {
      "text/plain": "Validation: 0it [00:00, ?it/s]",
      "application/vnd.jupyter.widget-view+json": {
       "version_major": 2,
       "version_minor": 0,
       "model_id": "714449542867478193fd3f57aeb029c0"
      }
     },
     "metadata": {},
     "output_type": "display_data"
    },
    {
     "data": {
      "text/plain": "Validation: 0it [00:00, ?it/s]",
      "application/vnd.jupyter.widget-view+json": {
       "version_major": 2,
       "version_minor": 0,
       "model_id": "5a30f9b2669948018978c47b5b408319"
      }
     },
     "metadata": {},
     "output_type": "display_data"
    },
    {
     "data": {
      "text/plain": "Validation: 0it [00:00, ?it/s]",
      "application/vnd.jupyter.widget-view+json": {
       "version_major": 2,
       "version_minor": 0,
       "model_id": "14b17663d54949158d15aeb7fb0f89af"
      }
     },
     "metadata": {},
     "output_type": "display_data"
    },
    {
     "data": {
      "text/plain": "Validation: 0it [00:00, ?it/s]",
      "application/vnd.jupyter.widget-view+json": {
       "version_major": 2,
       "version_minor": 0,
       "model_id": "9efef2661390427896080d837ed70bcc"
      }
     },
     "metadata": {},
     "output_type": "display_data"
    },
    {
     "data": {
      "text/plain": "Validation: 0it [00:00, ?it/s]",
      "application/vnd.jupyter.widget-view+json": {
       "version_major": 2,
       "version_minor": 0,
       "model_id": "80169e4c7564446dbcd6d0ef36039781"
      }
     },
     "metadata": {},
     "output_type": "display_data"
    },
    {
     "data": {
      "text/plain": "Validation: 0it [00:00, ?it/s]",
      "application/vnd.jupyter.widget-view+json": {
       "version_major": 2,
       "version_minor": 0,
       "model_id": "97e47dd23ae949d29dc862197b7055c9"
      }
     },
     "metadata": {},
     "output_type": "display_data"
    },
    {
     "data": {
      "text/plain": "Validation: 0it [00:00, ?it/s]",
      "application/vnd.jupyter.widget-view+json": {
       "version_major": 2,
       "version_minor": 0,
       "model_id": "d08768c2a33548f79f7c7af116a45334"
      }
     },
     "metadata": {},
     "output_type": "display_data"
    },
    {
     "data": {
      "text/plain": "Validation: 0it [00:00, ?it/s]",
      "application/vnd.jupyter.widget-view+json": {
       "version_major": 2,
       "version_minor": 0,
       "model_id": "95dfb766b2c942869e699c1c9e020a3c"
      }
     },
     "metadata": {},
     "output_type": "display_data"
    },
    {
     "data": {
      "text/plain": "Validation: 0it [00:00, ?it/s]",
      "application/vnd.jupyter.widget-view+json": {
       "version_major": 2,
       "version_minor": 0,
       "model_id": "579d3b345ce04067bd7061c58ea625af"
      }
     },
     "metadata": {},
     "output_type": "display_data"
    },
    {
     "data": {
      "text/plain": "Validation: 0it [00:00, ?it/s]",
      "application/vnd.jupyter.widget-view+json": {
       "version_major": 2,
       "version_minor": 0,
       "model_id": "059e1bddebf24ff0ba5569ebbf0ffda3"
      }
     },
     "metadata": {},
     "output_type": "display_data"
    },
    {
     "data": {
      "text/plain": "Validation: 0it [00:00, ?it/s]",
      "application/vnd.jupyter.widget-view+json": {
       "version_major": 2,
       "version_minor": 0,
       "model_id": "6e4a6017fbbd4f3890fd4bf6b00a497c"
      }
     },
     "metadata": {},
     "output_type": "display_data"
    },
    {
     "data": {
      "text/plain": "Validation: 0it [00:00, ?it/s]",
      "application/vnd.jupyter.widget-view+json": {
       "version_major": 2,
       "version_minor": 0,
       "model_id": "822151767e92437eac4758778d6c6812"
      }
     },
     "metadata": {},
     "output_type": "display_data"
    },
    {
     "data": {
      "text/plain": "Validation: 0it [00:00, ?it/s]",
      "application/vnd.jupyter.widget-view+json": {
       "version_major": 2,
       "version_minor": 0,
       "model_id": "2e1486fbdffb46fe9ba7e8be7e8c2e01"
      }
     },
     "metadata": {},
     "output_type": "display_data"
    },
    {
     "data": {
      "text/plain": "Validation: 0it [00:00, ?it/s]",
      "application/vnd.jupyter.widget-view+json": {
       "version_major": 2,
       "version_minor": 0,
       "model_id": "9920c9b676174986b8cd4649569455cc"
      }
     },
     "metadata": {},
     "output_type": "display_data"
    },
    {
     "data": {
      "text/plain": "Validation: 0it [00:00, ?it/s]",
      "application/vnd.jupyter.widget-view+json": {
       "version_major": 2,
       "version_minor": 0,
       "model_id": "5282d65463af44d1bc1ebd35b2d678da"
      }
     },
     "metadata": {},
     "output_type": "display_data"
    },
    {
     "data": {
      "text/plain": "Validation: 0it [00:00, ?it/s]",
      "application/vnd.jupyter.widget-view+json": {
       "version_major": 2,
       "version_minor": 0,
       "model_id": "c9cea6c4e0c84449a3c534a08757dac6"
      }
     },
     "metadata": {},
     "output_type": "display_data"
    },
    {
     "data": {
      "text/plain": "Validation: 0it [00:00, ?it/s]",
      "application/vnd.jupyter.widget-view+json": {
       "version_major": 2,
       "version_minor": 0,
       "model_id": "9abcac5bc5944f0789026b50c02ad048"
      }
     },
     "metadata": {},
     "output_type": "display_data"
    },
    {
     "data": {
      "text/plain": "Validation: 0it [00:00, ?it/s]",
      "application/vnd.jupyter.widget-view+json": {
       "version_major": 2,
       "version_minor": 0,
       "model_id": "7a68130a8b3342718fd1eb9eac6d452a"
      }
     },
     "metadata": {},
     "output_type": "display_data"
    },
    {
     "data": {
      "text/plain": "Validation: 0it [00:00, ?it/s]",
      "application/vnd.jupyter.widget-view+json": {
       "version_major": 2,
       "version_minor": 0,
       "model_id": "2acfcc7446d84141b8700011595797aa"
      }
     },
     "metadata": {},
     "output_type": "display_data"
    },
    {
     "data": {
      "text/plain": "Validation: 0it [00:00, ?it/s]",
      "application/vnd.jupyter.widget-view+json": {
       "version_major": 2,
       "version_minor": 0,
       "model_id": "6c41dd2f316041af903f2d5da74e34e6"
      }
     },
     "metadata": {},
     "output_type": "display_data"
    },
    {
     "data": {
      "text/plain": "Validation: 0it [00:00, ?it/s]",
      "application/vnd.jupyter.widget-view+json": {
       "version_major": 2,
       "version_minor": 0,
       "model_id": "d03ff6b703434901a45d776a052e1036"
      }
     },
     "metadata": {},
     "output_type": "display_data"
    },
    {
     "data": {
      "text/plain": "Validation: 0it [00:00, ?it/s]",
      "application/vnd.jupyter.widget-view+json": {
       "version_major": 2,
       "version_minor": 0,
       "model_id": "f3b45d99f3f5412885d409449b9143cf"
      }
     },
     "metadata": {},
     "output_type": "display_data"
    },
    {
     "data": {
      "text/plain": "Validation: 0it [00:00, ?it/s]",
      "application/vnd.jupyter.widget-view+json": {
       "version_major": 2,
       "version_minor": 0,
       "model_id": "3ccdbd074a55406293585e53f3020a3e"
      }
     },
     "metadata": {},
     "output_type": "display_data"
    },
    {
     "data": {
      "text/plain": "Validation: 0it [00:00, ?it/s]",
      "application/vnd.jupyter.widget-view+json": {
       "version_major": 2,
       "version_minor": 0,
       "model_id": "76d356415be841daaecb3fa832056de6"
      }
     },
     "metadata": {},
     "output_type": "display_data"
    },
    {
     "data": {
      "text/plain": "Validation: 0it [00:00, ?it/s]",
      "application/vnd.jupyter.widget-view+json": {
       "version_major": 2,
       "version_minor": 0,
       "model_id": "151b0bc7c37c4014829f6bbcec137925"
      }
     },
     "metadata": {},
     "output_type": "display_data"
    },
    {
     "data": {
      "text/plain": "Validation: 0it [00:00, ?it/s]",
      "application/vnd.jupyter.widget-view+json": {
       "version_major": 2,
       "version_minor": 0,
       "model_id": "1cdd6f433b314c8d9b209314e1dd435d"
      }
     },
     "metadata": {},
     "output_type": "display_data"
    },
    {
     "data": {
      "text/plain": "Validation: 0it [00:00, ?it/s]",
      "application/vnd.jupyter.widget-view+json": {
       "version_major": 2,
       "version_minor": 0,
       "model_id": "174e49a3ddec4357a551adb0ca72b1b0"
      }
     },
     "metadata": {},
     "output_type": "display_data"
    },
    {
     "data": {
      "text/plain": "Validation: 0it [00:00, ?it/s]",
      "application/vnd.jupyter.widget-view+json": {
       "version_major": 2,
       "version_minor": 0,
       "model_id": "7265bd72dbff4080ad629a63dae786d8"
      }
     },
     "metadata": {},
     "output_type": "display_data"
    },
    {
     "data": {
      "text/plain": "Validation: 0it [00:00, ?it/s]",
      "application/vnd.jupyter.widget-view+json": {
       "version_major": 2,
       "version_minor": 0,
       "model_id": "7fa99a149bb94e709a9c3f7cbeb73dc6"
      }
     },
     "metadata": {},
     "output_type": "display_data"
    },
    {
     "data": {
      "text/plain": "Validation: 0it [00:00, ?it/s]",
      "application/vnd.jupyter.widget-view+json": {
       "version_major": 2,
       "version_minor": 0,
       "model_id": "ab19826ce7844471b563d404b2a39c2f"
      }
     },
     "metadata": {},
     "output_type": "display_data"
    },
    {
     "data": {
      "text/plain": "Validation: 0it [00:00, ?it/s]",
      "application/vnd.jupyter.widget-view+json": {
       "version_major": 2,
       "version_minor": 0,
       "model_id": "406838e59f4f48a09548c6d13306fbdc"
      }
     },
     "metadata": {},
     "output_type": "display_data"
    },
    {
     "data": {
      "text/plain": "Validation: 0it [00:00, ?it/s]",
      "application/vnd.jupyter.widget-view+json": {
       "version_major": 2,
       "version_minor": 0,
       "model_id": "c8b8ea3c07284caa8eede6362f208c5c"
      }
     },
     "metadata": {},
     "output_type": "display_data"
    },
    {
     "data": {
      "text/plain": "Validation: 0it [00:00, ?it/s]",
      "application/vnd.jupyter.widget-view+json": {
       "version_major": 2,
       "version_minor": 0,
       "model_id": "15f3307ecc8e45019a5b8650c763d305"
      }
     },
     "metadata": {},
     "output_type": "display_data"
    },
    {
     "data": {
      "text/plain": "Validation: 0it [00:00, ?it/s]",
      "application/vnd.jupyter.widget-view+json": {
       "version_major": 2,
       "version_minor": 0,
       "model_id": "82e5a822126b43bcb858a7d0f8981b0b"
      }
     },
     "metadata": {},
     "output_type": "display_data"
    },
    {
     "data": {
      "text/plain": "Validation: 0it [00:00, ?it/s]",
      "application/vnd.jupyter.widget-view+json": {
       "version_major": 2,
       "version_minor": 0,
       "model_id": "4109e5177dc14f16ae187b67338de12f"
      }
     },
     "metadata": {},
     "output_type": "display_data"
    },
    {
     "data": {
      "text/plain": "Validation: 0it [00:00, ?it/s]",
      "application/vnd.jupyter.widget-view+json": {
       "version_major": 2,
       "version_minor": 0,
       "model_id": "1da256b88f644b65aa9a0ceeb7e1e371"
      }
     },
     "metadata": {},
     "output_type": "display_data"
    },
    {
     "data": {
      "text/plain": "Validation: 0it [00:00, ?it/s]",
      "application/vnd.jupyter.widget-view+json": {
       "version_major": 2,
       "version_minor": 0,
       "model_id": "4d5263df81e443b1b60267ba547fb986"
      }
     },
     "metadata": {},
     "output_type": "display_data"
    },
    {
     "data": {
      "text/plain": "Validation: 0it [00:00, ?it/s]",
      "application/vnd.jupyter.widget-view+json": {
       "version_major": 2,
       "version_minor": 0,
       "model_id": "8693995c06df4bf08c75576d1c32e090"
      }
     },
     "metadata": {},
     "output_type": "display_data"
    },
    {
     "data": {
      "text/plain": "Validation: 0it [00:00, ?it/s]",
      "application/vnd.jupyter.widget-view+json": {
       "version_major": 2,
       "version_minor": 0,
       "model_id": "3fa23a5bf7b446d2982ca8b25b771a56"
      }
     },
     "metadata": {},
     "output_type": "display_data"
    },
    {
     "data": {
      "text/plain": "Validation: 0it [00:00, ?it/s]",
      "application/vnd.jupyter.widget-view+json": {
       "version_major": 2,
       "version_minor": 0,
       "model_id": "a797939e7c02429ca5f5ed6d29b2b149"
      }
     },
     "metadata": {},
     "output_type": "display_data"
    },
    {
     "data": {
      "text/plain": "Validation: 0it [00:00, ?it/s]",
      "application/vnd.jupyter.widget-view+json": {
       "version_major": 2,
       "version_minor": 0,
       "model_id": "abe00806d6624d9d94cf769ef6e26a59"
      }
     },
     "metadata": {},
     "output_type": "display_data"
    },
    {
     "data": {
      "text/plain": "Validation: 0it [00:00, ?it/s]",
      "application/vnd.jupyter.widget-view+json": {
       "version_major": 2,
       "version_minor": 0,
       "model_id": "935574ab436a4fcd8ed04324ccc7ca03"
      }
     },
     "metadata": {},
     "output_type": "display_data"
    },
    {
     "data": {
      "text/plain": "Validation: 0it [00:00, ?it/s]",
      "application/vnd.jupyter.widget-view+json": {
       "version_major": 2,
       "version_minor": 0,
       "model_id": "13bd0a4857474e578c5c5d766819c160"
      }
     },
     "metadata": {},
     "output_type": "display_data"
    },
    {
     "data": {
      "text/plain": "Validation: 0it [00:00, ?it/s]",
      "application/vnd.jupyter.widget-view+json": {
       "version_major": 2,
       "version_minor": 0,
       "model_id": "c7013bbb4688445489d58de87d94efc6"
      }
     },
     "metadata": {},
     "output_type": "display_data"
    },
    {
     "data": {
      "text/plain": "Validation: 0it [00:00, ?it/s]",
      "application/vnd.jupyter.widget-view+json": {
       "version_major": 2,
       "version_minor": 0,
       "model_id": "701202feab17454e968d38ef1d21d6b1"
      }
     },
     "metadata": {},
     "output_type": "display_data"
    },
    {
     "data": {
      "text/plain": "Validation: 0it [00:00, ?it/s]",
      "application/vnd.jupyter.widget-view+json": {
       "version_major": 2,
       "version_minor": 0,
       "model_id": "50de08820fa84919bec5051b0c3559a5"
      }
     },
     "metadata": {},
     "output_type": "display_data"
    },
    {
     "data": {
      "text/plain": "Validation: 0it [00:00, ?it/s]",
      "application/vnd.jupyter.widget-view+json": {
       "version_major": 2,
       "version_minor": 0,
       "model_id": "d028c4b034544ec0970ddb769c28a927"
      }
     },
     "metadata": {},
     "output_type": "display_data"
    },
    {
     "data": {
      "text/plain": "Validation: 0it [00:00, ?it/s]",
      "application/vnd.jupyter.widget-view+json": {
       "version_major": 2,
       "version_minor": 0,
       "model_id": "5c3f8a64126240f294a1a084475f7a87"
      }
     },
     "metadata": {},
     "output_type": "display_data"
    },
    {
     "data": {
      "text/plain": "Validation: 0it [00:00, ?it/s]",
      "application/vnd.jupyter.widget-view+json": {
       "version_major": 2,
       "version_minor": 0,
       "model_id": "34e983b8a7f14b89ab6c2fb11e0c6380"
      }
     },
     "metadata": {},
     "output_type": "display_data"
    },
    {
     "data": {
      "text/plain": "Validation: 0it [00:00, ?it/s]",
      "application/vnd.jupyter.widget-view+json": {
       "version_major": 2,
       "version_minor": 0,
       "model_id": "01422b6a3d9c452a91621bec3d912bfe"
      }
     },
     "metadata": {},
     "output_type": "display_data"
    },
    {
     "data": {
      "text/plain": "Validation: 0it [00:00, ?it/s]",
      "application/vnd.jupyter.widget-view+json": {
       "version_major": 2,
       "version_minor": 0,
       "model_id": "e7e35168f31d4d958cfb088f9edb2ff7"
      }
     },
     "metadata": {},
     "output_type": "display_data"
    },
    {
     "data": {
      "text/plain": "Validation: 0it [00:00, ?it/s]",
      "application/vnd.jupyter.widget-view+json": {
       "version_major": 2,
       "version_minor": 0,
       "model_id": "1a2ac8b706b046108182ce817514217a"
      }
     },
     "metadata": {},
     "output_type": "display_data"
    },
    {
     "data": {
      "text/plain": "Validation: 0it [00:00, ?it/s]",
      "application/vnd.jupyter.widget-view+json": {
       "version_major": 2,
       "version_minor": 0,
       "model_id": "0a9bbdda77754c8490174786c75efdc0"
      }
     },
     "metadata": {},
     "output_type": "display_data"
    },
    {
     "data": {
      "text/plain": "Validation: 0it [00:00, ?it/s]",
      "application/vnd.jupyter.widget-view+json": {
       "version_major": 2,
       "version_minor": 0,
       "model_id": "77c258a73fcb484ca082a48037567f95"
      }
     },
     "metadata": {},
     "output_type": "display_data"
    },
    {
     "data": {
      "text/plain": "Validation: 0it [00:00, ?it/s]",
      "application/vnd.jupyter.widget-view+json": {
       "version_major": 2,
       "version_minor": 0,
       "model_id": "82dc98b836c54b6d80467687d8d4d066"
      }
     },
     "metadata": {},
     "output_type": "display_data"
    },
    {
     "data": {
      "text/plain": "Validation: 0it [00:00, ?it/s]",
      "application/vnd.jupyter.widget-view+json": {
       "version_major": 2,
       "version_minor": 0,
       "model_id": "07c2d3c401a54d1c843d30df37d91fee"
      }
     },
     "metadata": {},
     "output_type": "display_data"
    },
    {
     "data": {
      "text/plain": "Validation: 0it [00:00, ?it/s]",
      "application/vnd.jupyter.widget-view+json": {
       "version_major": 2,
       "version_minor": 0,
       "model_id": "8428df1a4568421e9f4d321956985dda"
      }
     },
     "metadata": {},
     "output_type": "display_data"
    },
    {
     "data": {
      "text/plain": "Validation: 0it [00:00, ?it/s]",
      "application/vnd.jupyter.widget-view+json": {
       "version_major": 2,
       "version_minor": 0,
       "model_id": "5598fe3167e64b48842d43ab91652af0"
      }
     },
     "metadata": {},
     "output_type": "display_data"
    },
    {
     "data": {
      "text/plain": "Validation: 0it [00:00, ?it/s]",
      "application/vnd.jupyter.widget-view+json": {
       "version_major": 2,
       "version_minor": 0,
       "model_id": "d0f67e0624d44d68b0053f6ea9c2287a"
      }
     },
     "metadata": {},
     "output_type": "display_data"
    },
    {
     "data": {
      "text/plain": "Validation: 0it [00:00, ?it/s]",
      "application/vnd.jupyter.widget-view+json": {
       "version_major": 2,
       "version_minor": 0,
       "model_id": "4010c11e684e495ba195d6e1ca49ef33"
      }
     },
     "metadata": {},
     "output_type": "display_data"
    },
    {
     "data": {
      "text/plain": "Validation: 0it [00:00, ?it/s]",
      "application/vnd.jupyter.widget-view+json": {
       "version_major": 2,
       "version_minor": 0,
       "model_id": "e629ae4a4f104132bb4acb4184eb9cb6"
      }
     },
     "metadata": {},
     "output_type": "display_data"
    },
    {
     "data": {
      "text/plain": "Validation: 0it [00:00, ?it/s]",
      "application/vnd.jupyter.widget-view+json": {
       "version_major": 2,
       "version_minor": 0,
       "model_id": "07869b4d154f45a98cd9131aea885408"
      }
     },
     "metadata": {},
     "output_type": "display_data"
    },
    {
     "data": {
      "text/plain": "Validation: 0it [00:00, ?it/s]",
      "application/vnd.jupyter.widget-view+json": {
       "version_major": 2,
       "version_minor": 0,
       "model_id": "6142167bf2aa495f9821c126eef8f092"
      }
     },
     "metadata": {},
     "output_type": "display_data"
    },
    {
     "data": {
      "text/plain": "Validation: 0it [00:00, ?it/s]",
      "application/vnd.jupyter.widget-view+json": {
       "version_major": 2,
       "version_minor": 0,
       "model_id": "00e013daea154b268e7852dd52e1457a"
      }
     },
     "metadata": {},
     "output_type": "display_data"
    },
    {
     "data": {
      "text/plain": "Validation: 0it [00:00, ?it/s]",
      "application/vnd.jupyter.widget-view+json": {
       "version_major": 2,
       "version_minor": 0,
       "model_id": "f131f4a6b3ba47cfb4821e5310394508"
      }
     },
     "metadata": {},
     "output_type": "display_data"
    },
    {
     "data": {
      "text/plain": "Validation: 0it [00:00, ?it/s]",
      "application/vnd.jupyter.widget-view+json": {
       "version_major": 2,
       "version_minor": 0,
       "model_id": "b26f52358635453fa7534b7769049c04"
      }
     },
     "metadata": {},
     "output_type": "display_data"
    },
    {
     "data": {
      "text/plain": "Validation: 0it [00:00, ?it/s]",
      "application/vnd.jupyter.widget-view+json": {
       "version_major": 2,
       "version_minor": 0,
       "model_id": "cc7a2348cc374ed8b36d5c753fa0f526"
      }
     },
     "metadata": {},
     "output_type": "display_data"
    },
    {
     "data": {
      "text/plain": "Validation: 0it [00:00, ?it/s]",
      "application/vnd.jupyter.widget-view+json": {
       "version_major": 2,
       "version_minor": 0,
       "model_id": "706fe73cf813459eb1bf8abc2f6fc320"
      }
     },
     "metadata": {},
     "output_type": "display_data"
    },
    {
     "data": {
      "text/plain": "Validation: 0it [00:00, ?it/s]",
      "application/vnd.jupyter.widget-view+json": {
       "version_major": 2,
       "version_minor": 0,
       "model_id": "f2de166caeba4b34b8e9cf14217d9a31"
      }
     },
     "metadata": {},
     "output_type": "display_data"
    },
    {
     "data": {
      "text/plain": "Validation: 0it [00:00, ?it/s]",
      "application/vnd.jupyter.widget-view+json": {
       "version_major": 2,
       "version_minor": 0,
       "model_id": "0cd24cee564d489990a0efa88c2307bf"
      }
     },
     "metadata": {},
     "output_type": "display_data"
    },
    {
     "data": {
      "text/plain": "Validation: 0it [00:00, ?it/s]",
      "application/vnd.jupyter.widget-view+json": {
       "version_major": 2,
       "version_minor": 0,
       "model_id": "637854d4f2f84397bfd0002553877f7c"
      }
     },
     "metadata": {},
     "output_type": "display_data"
    },
    {
     "data": {
      "text/plain": "Validation: 0it [00:00, ?it/s]",
      "application/vnd.jupyter.widget-view+json": {
       "version_major": 2,
       "version_minor": 0,
       "model_id": "a1c9dd3aa48d4bbe9ab59a9878be5aba"
      }
     },
     "metadata": {},
     "output_type": "display_data"
    },
    {
     "data": {
      "text/plain": "Validation: 0it [00:00, ?it/s]",
      "application/vnd.jupyter.widget-view+json": {
       "version_major": 2,
       "version_minor": 0,
       "model_id": "26cc0e2ab4644d1ebfff3eff7a22cd4b"
      }
     },
     "metadata": {},
     "output_type": "display_data"
    },
    {
     "data": {
      "text/plain": "Validation: 0it [00:00, ?it/s]",
      "application/vnd.jupyter.widget-view+json": {
       "version_major": 2,
       "version_minor": 0,
       "model_id": "8acb18d5fde04ecaa07c4c2e889bd486"
      }
     },
     "metadata": {},
     "output_type": "display_data"
    },
    {
     "data": {
      "text/plain": "Validation: 0it [00:00, ?it/s]",
      "application/vnd.jupyter.widget-view+json": {
       "version_major": 2,
       "version_minor": 0,
       "model_id": "28c66581f66346abab1829cbf5c3aad6"
      }
     },
     "metadata": {},
     "output_type": "display_data"
    },
    {
     "data": {
      "text/plain": "Validation: 0it [00:00, ?it/s]",
      "application/vnd.jupyter.widget-view+json": {
       "version_major": 2,
       "version_minor": 0,
       "model_id": "8cc86bd1f39f42719036ffce11379043"
      }
     },
     "metadata": {},
     "output_type": "display_data"
    },
    {
     "data": {
      "text/plain": "Validation: 0it [00:00, ?it/s]",
      "application/vnd.jupyter.widget-view+json": {
       "version_major": 2,
       "version_minor": 0,
       "model_id": "2e20045748464f168118726a848f4e92"
      }
     },
     "metadata": {},
     "output_type": "display_data"
    },
    {
     "data": {
      "text/plain": "Validation: 0it [00:00, ?it/s]",
      "application/vnd.jupyter.widget-view+json": {
       "version_major": 2,
       "version_minor": 0,
       "model_id": "9549db49b73344e591f247e0b0306170"
      }
     },
     "metadata": {},
     "output_type": "display_data"
    },
    {
     "data": {
      "text/plain": "Validation: 0it [00:00, ?it/s]",
      "application/vnd.jupyter.widget-view+json": {
       "version_major": 2,
       "version_minor": 0,
       "model_id": "4cd0e509ba2e4ec3951171fc3dc9c8d7"
      }
     },
     "metadata": {},
     "output_type": "display_data"
    },
    {
     "data": {
      "text/plain": "Validation: 0it [00:00, ?it/s]",
      "application/vnd.jupyter.widget-view+json": {
       "version_major": 2,
       "version_minor": 0,
       "model_id": "efff92342e0b4ac1a173c8e811b19511"
      }
     },
     "metadata": {},
     "output_type": "display_data"
    },
    {
     "data": {
      "text/plain": "Validation: 0it [00:00, ?it/s]",
      "application/vnd.jupyter.widget-view+json": {
       "version_major": 2,
       "version_minor": 0,
       "model_id": "e71e21ba722b4734b01655bf7981e8bd"
      }
     },
     "metadata": {},
     "output_type": "display_data"
    },
    {
     "data": {
      "text/plain": "Validation: 0it [00:00, ?it/s]",
      "application/vnd.jupyter.widget-view+json": {
       "version_major": 2,
       "version_minor": 0,
       "model_id": "eb634a2cb2184d33adc4d172e000aae6"
      }
     },
     "metadata": {},
     "output_type": "display_data"
    },
    {
     "data": {
      "text/plain": "Validation: 0it [00:00, ?it/s]",
      "application/vnd.jupyter.widget-view+json": {
       "version_major": 2,
       "version_minor": 0,
       "model_id": "5a7270e6a151414683bed458aeee7744"
      }
     },
     "metadata": {},
     "output_type": "display_data"
    },
    {
     "data": {
      "text/plain": "Validation: 0it [00:00, ?it/s]",
      "application/vnd.jupyter.widget-view+json": {
       "version_major": 2,
       "version_minor": 0,
       "model_id": "7b201f03dcb4472ea86c8202a17bcbc1"
      }
     },
     "metadata": {},
     "output_type": "display_data"
    },
    {
     "data": {
      "text/plain": "Validation: 0it [00:00, ?it/s]",
      "application/vnd.jupyter.widget-view+json": {
       "version_major": 2,
       "version_minor": 0,
       "model_id": "96f39e3a92244c8493969dd1fcad2001"
      }
     },
     "metadata": {},
     "output_type": "display_data"
    },
    {
     "data": {
      "text/plain": "Validation: 0it [00:00, ?it/s]",
      "application/vnd.jupyter.widget-view+json": {
       "version_major": 2,
       "version_minor": 0,
       "model_id": "ab0f63c478ed4e1da2218e00c70b24d0"
      }
     },
     "metadata": {},
     "output_type": "display_data"
    },
    {
     "data": {
      "text/plain": "Validation: 0it [00:00, ?it/s]",
      "application/vnd.jupyter.widget-view+json": {
       "version_major": 2,
       "version_minor": 0,
       "model_id": "a6116acabc4d4a43ab5dab593840a9ac"
      }
     },
     "metadata": {},
     "output_type": "display_data"
    },
    {
     "data": {
      "text/plain": "Validation: 0it [00:00, ?it/s]",
      "application/vnd.jupyter.widget-view+json": {
       "version_major": 2,
       "version_minor": 0,
       "model_id": "ffdcba61ad5f467c836812ab49fdaccf"
      }
     },
     "metadata": {},
     "output_type": "display_data"
    },
    {
     "data": {
      "text/plain": "Validation: 0it [00:00, ?it/s]",
      "application/vnd.jupyter.widget-view+json": {
       "version_major": 2,
       "version_minor": 0,
       "model_id": "314c899f708c493aafe35455340e8462"
      }
     },
     "metadata": {},
     "output_type": "display_data"
    },
    {
     "data": {
      "text/plain": "Validation: 0it [00:00, ?it/s]",
      "application/vnd.jupyter.widget-view+json": {
       "version_major": 2,
       "version_minor": 0,
       "model_id": "f06f52700f4d40fa8b1e5faa3a2eac6a"
      }
     },
     "metadata": {},
     "output_type": "display_data"
    },
    {
     "data": {
      "text/plain": "Validation: 0it [00:00, ?it/s]",
      "application/vnd.jupyter.widget-view+json": {
       "version_major": 2,
       "version_minor": 0,
       "model_id": "661fee9c51784fde978cabaed4a61c14"
      }
     },
     "metadata": {},
     "output_type": "display_data"
    },
    {
     "data": {
      "text/plain": "Validation: 0it [00:00, ?it/s]",
      "application/vnd.jupyter.widget-view+json": {
       "version_major": 2,
       "version_minor": 0,
       "model_id": "8d5ad391ce7a41c384e44e56a87540e0"
      }
     },
     "metadata": {},
     "output_type": "display_data"
    },
    {
     "data": {
      "text/plain": "Validation: 0it [00:00, ?it/s]",
      "application/vnd.jupyter.widget-view+json": {
       "version_major": 2,
       "version_minor": 0,
       "model_id": "3cd412ff2d594fec8fa93a54d7c835b3"
      }
     },
     "metadata": {},
     "output_type": "display_data"
    },
    {
     "data": {
      "text/plain": "Validation: 0it [00:00, ?it/s]",
      "application/vnd.jupyter.widget-view+json": {
       "version_major": 2,
       "version_minor": 0,
       "model_id": "6b68b09458d24435b1910a34a2bd8159"
      }
     },
     "metadata": {},
     "output_type": "display_data"
    },
    {
     "data": {
      "text/plain": "Validation: 0it [00:00, ?it/s]",
      "application/vnd.jupyter.widget-view+json": {
       "version_major": 2,
       "version_minor": 0,
       "model_id": "d7292cc70a4d4832a4843f24f28bb552"
      }
     },
     "metadata": {},
     "output_type": "display_data"
    },
    {
     "data": {
      "text/plain": "Validation: 0it [00:00, ?it/s]",
      "application/vnd.jupyter.widget-view+json": {
       "version_major": 2,
       "version_minor": 0,
       "model_id": "09cfa0b6dc3a47a2bcec22ee3d163c8a"
      }
     },
     "metadata": {},
     "output_type": "display_data"
    },
    {
     "data": {
      "text/plain": "Validation: 0it [00:00, ?it/s]",
      "application/vnd.jupyter.widget-view+json": {
       "version_major": 2,
       "version_minor": 0,
       "model_id": "c8b46cece27647d39cb0cdbdafbc8656"
      }
     },
     "metadata": {},
     "output_type": "display_data"
    },
    {
     "data": {
      "text/plain": "Validation: 0it [00:00, ?it/s]",
      "application/vnd.jupyter.widget-view+json": {
       "version_major": 2,
       "version_minor": 0,
       "model_id": "d089b5bfb6994b9b8257d25854118196"
      }
     },
     "metadata": {},
     "output_type": "display_data"
    },
    {
     "data": {
      "text/plain": "Validation: 0it [00:00, ?it/s]",
      "application/vnd.jupyter.widget-view+json": {
       "version_major": 2,
       "version_minor": 0,
       "model_id": "4f009ca3fa7c4fadbb7e23741f08a590"
      }
     },
     "metadata": {},
     "output_type": "display_data"
    },
    {
     "data": {
      "text/plain": "Validation: 0it [00:00, ?it/s]",
      "application/vnd.jupyter.widget-view+json": {
       "version_major": 2,
       "version_minor": 0,
       "model_id": "16446326e6d143b7814bf74573114c33"
      }
     },
     "metadata": {},
     "output_type": "display_data"
    },
    {
     "data": {
      "text/plain": "Validation: 0it [00:00, ?it/s]",
      "application/vnd.jupyter.widget-view+json": {
       "version_major": 2,
       "version_minor": 0,
       "model_id": "631cdcc0f55e4dfa924a2aa51fa6dce7"
      }
     },
     "metadata": {},
     "output_type": "display_data"
    },
    {
     "data": {
      "text/plain": "Validation: 0it [00:00, ?it/s]",
      "application/vnd.jupyter.widget-view+json": {
       "version_major": 2,
       "version_minor": 0,
       "model_id": "39b25b574c9f4110ba5112bb006934b5"
      }
     },
     "metadata": {},
     "output_type": "display_data"
    },
    {
     "data": {
      "text/plain": "Validation: 0it [00:00, ?it/s]",
      "application/vnd.jupyter.widget-view+json": {
       "version_major": 2,
       "version_minor": 0,
       "model_id": "fce9f58f29c34be394aed87027e1e1ab"
      }
     },
     "metadata": {},
     "output_type": "display_data"
    },
    {
     "data": {
      "text/plain": "Validation: 0it [00:00, ?it/s]",
      "application/vnd.jupyter.widget-view+json": {
       "version_major": 2,
       "version_minor": 0,
       "model_id": "b1ac48b6255143239c887de5fdfc4265"
      }
     },
     "metadata": {},
     "output_type": "display_data"
    },
    {
     "data": {
      "text/plain": "Validation: 0it [00:00, ?it/s]",
      "application/vnd.jupyter.widget-view+json": {
       "version_major": 2,
       "version_minor": 0,
       "model_id": "0a559f4b866f40dfaf6cb7e9719db335"
      }
     },
     "metadata": {},
     "output_type": "display_data"
    },
    {
     "data": {
      "text/plain": "Validation: 0it [00:00, ?it/s]",
      "application/vnd.jupyter.widget-view+json": {
       "version_major": 2,
       "version_minor": 0,
       "model_id": "24bb7e5ad6484bbdae64e50847ba57a2"
      }
     },
     "metadata": {},
     "output_type": "display_data"
    },
    {
     "data": {
      "text/plain": "Validation: 0it [00:00, ?it/s]",
      "application/vnd.jupyter.widget-view+json": {
       "version_major": 2,
       "version_minor": 0,
       "model_id": "e679a153cc7c45ebaac6af74bfd5f51c"
      }
     },
     "metadata": {},
     "output_type": "display_data"
    },
    {
     "data": {
      "text/plain": "Validation: 0it [00:00, ?it/s]",
      "application/vnd.jupyter.widget-view+json": {
       "version_major": 2,
       "version_minor": 0,
       "model_id": "a31ab18c750a41289e5701b93fc50cbc"
      }
     },
     "metadata": {},
     "output_type": "display_data"
    },
    {
     "data": {
      "text/plain": "Validation: 0it [00:00, ?it/s]",
      "application/vnd.jupyter.widget-view+json": {
       "version_major": 2,
       "version_minor": 0,
       "model_id": "0c888250b82e4ad5b14faf010df7a231"
      }
     },
     "metadata": {},
     "output_type": "display_data"
    },
    {
     "data": {
      "text/plain": "Validation: 0it [00:00, ?it/s]",
      "application/vnd.jupyter.widget-view+json": {
       "version_major": 2,
       "version_minor": 0,
       "model_id": "5daae3565b3140938c6ab985aef367a2"
      }
     },
     "metadata": {},
     "output_type": "display_data"
    },
    {
     "data": {
      "text/plain": "Validation: 0it [00:00, ?it/s]",
      "application/vnd.jupyter.widget-view+json": {
       "version_major": 2,
       "version_minor": 0,
       "model_id": "e0968802d235496fb6a6c8c2374a7abd"
      }
     },
     "metadata": {},
     "output_type": "display_data"
    },
    {
     "data": {
      "text/plain": "Validation: 0it [00:00, ?it/s]",
      "application/vnd.jupyter.widget-view+json": {
       "version_major": 2,
       "version_minor": 0,
       "model_id": "615968d816604695820eafa4690843de"
      }
     },
     "metadata": {},
     "output_type": "display_data"
    },
    {
     "data": {
      "text/plain": "Validation: 0it [00:00, ?it/s]",
      "application/vnd.jupyter.widget-view+json": {
       "version_major": 2,
       "version_minor": 0,
       "model_id": "e4a70fde5223481eabf19aeda30123f2"
      }
     },
     "metadata": {},
     "output_type": "display_data"
    },
    {
     "data": {
      "text/plain": "Validation: 0it [00:00, ?it/s]",
      "application/vnd.jupyter.widget-view+json": {
       "version_major": 2,
       "version_minor": 0,
       "model_id": "308f0a7d325e49bd8327f2cef69d955a"
      }
     },
     "metadata": {},
     "output_type": "display_data"
    },
    {
     "data": {
      "text/plain": "Validation: 0it [00:00, ?it/s]",
      "application/vnd.jupyter.widget-view+json": {
       "version_major": 2,
       "version_minor": 0,
       "model_id": "c21cf461999e47aaba93ee6b96ee51ed"
      }
     },
     "metadata": {},
     "output_type": "display_data"
    },
    {
     "data": {
      "text/plain": "Validation: 0it [00:00, ?it/s]",
      "application/vnd.jupyter.widget-view+json": {
       "version_major": 2,
       "version_minor": 0,
       "model_id": "2f16c50d81ec494d8000404716e37e6a"
      }
     },
     "metadata": {},
     "output_type": "display_data"
    },
    {
     "data": {
      "text/plain": "Validation: 0it [00:00, ?it/s]",
      "application/vnd.jupyter.widget-view+json": {
       "version_major": 2,
       "version_minor": 0,
       "model_id": "52884c58197241c99fccb4e75d61003d"
      }
     },
     "metadata": {},
     "output_type": "display_data"
    },
    {
     "data": {
      "text/plain": "Validation: 0it [00:00, ?it/s]",
      "application/vnd.jupyter.widget-view+json": {
       "version_major": 2,
       "version_minor": 0,
       "model_id": "13422fbd8ba44d81a9a6349debd88d47"
      }
     },
     "metadata": {},
     "output_type": "display_data"
    },
    {
     "data": {
      "text/plain": "Validation: 0it [00:00, ?it/s]",
      "application/vnd.jupyter.widget-view+json": {
       "version_major": 2,
       "version_minor": 0,
       "model_id": "375fb87ebb844a2a92be1de961925ca9"
      }
     },
     "metadata": {},
     "output_type": "display_data"
    },
    {
     "data": {
      "text/plain": "Validation: 0it [00:00, ?it/s]",
      "application/vnd.jupyter.widget-view+json": {
       "version_major": 2,
       "version_minor": 0,
       "model_id": "d53fa0763a554128a28f648c554862f9"
      }
     },
     "metadata": {},
     "output_type": "display_data"
    },
    {
     "data": {
      "text/plain": "Validation: 0it [00:00, ?it/s]",
      "application/vnd.jupyter.widget-view+json": {
       "version_major": 2,
       "version_minor": 0,
       "model_id": "30169c1204f04621bece3dd5eb78835f"
      }
     },
     "metadata": {},
     "output_type": "display_data"
    },
    {
     "data": {
      "text/plain": "Validation: 0it [00:00, ?it/s]",
      "application/vnd.jupyter.widget-view+json": {
       "version_major": 2,
       "version_minor": 0,
       "model_id": "450386756425422e8712d13f09ae2b83"
      }
     },
     "metadata": {},
     "output_type": "display_data"
    },
    {
     "data": {
      "text/plain": "Validation: 0it [00:00, ?it/s]",
      "application/vnd.jupyter.widget-view+json": {
       "version_major": 2,
       "version_minor": 0,
       "model_id": "5d06c75915a8478f947ee09c17b8cc4f"
      }
     },
     "metadata": {},
     "output_type": "display_data"
    },
    {
     "data": {
      "text/plain": "Validation: 0it [00:00, ?it/s]",
      "application/vnd.jupyter.widget-view+json": {
       "version_major": 2,
       "version_minor": 0,
       "model_id": "ba074f206af34b948143a44766916e74"
      }
     },
     "metadata": {},
     "output_type": "display_data"
    },
    {
     "data": {
      "text/plain": "Validation: 0it [00:00, ?it/s]",
      "application/vnd.jupyter.widget-view+json": {
       "version_major": 2,
       "version_minor": 0,
       "model_id": "df4c16136d3447958250c924fc4c25c1"
      }
     },
     "metadata": {},
     "output_type": "display_data"
    },
    {
     "data": {
      "text/plain": "Validation: 0it [00:00, ?it/s]",
      "application/vnd.jupyter.widget-view+json": {
       "version_major": 2,
       "version_minor": 0,
       "model_id": "7625f71eb91c4dfaa66467d84585713d"
      }
     },
     "metadata": {},
     "output_type": "display_data"
    },
    {
     "data": {
      "text/plain": "Validation: 0it [00:00, ?it/s]",
      "application/vnd.jupyter.widget-view+json": {
       "version_major": 2,
       "version_minor": 0,
       "model_id": "0d5e165313c54efda4d8223e38d663df"
      }
     },
     "metadata": {},
     "output_type": "display_data"
    },
    {
     "data": {
      "text/plain": "Validation: 0it [00:00, ?it/s]",
      "application/vnd.jupyter.widget-view+json": {
       "version_major": 2,
       "version_minor": 0,
       "model_id": "8867c5d518004840b658ef596d09e863"
      }
     },
     "metadata": {},
     "output_type": "display_data"
    },
    {
     "data": {
      "text/plain": "Validation: 0it [00:00, ?it/s]",
      "application/vnd.jupyter.widget-view+json": {
       "version_major": 2,
       "version_minor": 0,
       "model_id": "31f79206bc144ef9949e0e95acaca7f7"
      }
     },
     "metadata": {},
     "output_type": "display_data"
    },
    {
     "data": {
      "text/plain": "Validation: 0it [00:00, ?it/s]",
      "application/vnd.jupyter.widget-view+json": {
       "version_major": 2,
       "version_minor": 0,
       "model_id": "2c496c27f69f4e739400e032638f08fb"
      }
     },
     "metadata": {},
     "output_type": "display_data"
    },
    {
     "data": {
      "text/plain": "Validation: 0it [00:00, ?it/s]",
      "application/vnd.jupyter.widget-view+json": {
       "version_major": 2,
       "version_minor": 0,
       "model_id": "6b3f91676e45446c87c9ea09b02fe2a5"
      }
     },
     "metadata": {},
     "output_type": "display_data"
    },
    {
     "data": {
      "text/plain": "Validation: 0it [00:00, ?it/s]",
      "application/vnd.jupyter.widget-view+json": {
       "version_major": 2,
       "version_minor": 0,
       "model_id": "e2ba50c4fcf548458379c2c447a0a123"
      }
     },
     "metadata": {},
     "output_type": "display_data"
    },
    {
     "data": {
      "text/plain": "Validation: 0it [00:00, ?it/s]",
      "application/vnd.jupyter.widget-view+json": {
       "version_major": 2,
       "version_minor": 0,
       "model_id": "905436bc5ad541da99f213748e42693a"
      }
     },
     "metadata": {},
     "output_type": "display_data"
    },
    {
     "data": {
      "text/plain": "Validation: 0it [00:00, ?it/s]",
      "application/vnd.jupyter.widget-view+json": {
       "version_major": 2,
       "version_minor": 0,
       "model_id": "cf6e324993dd42b2aa6162f357aa1a62"
      }
     },
     "metadata": {},
     "output_type": "display_data"
    },
    {
     "data": {
      "text/plain": "Validation: 0it [00:00, ?it/s]",
      "application/vnd.jupyter.widget-view+json": {
       "version_major": 2,
       "version_minor": 0,
       "model_id": "4e3f3b5dc0a14610a97220aef96f1215"
      }
     },
     "metadata": {},
     "output_type": "display_data"
    },
    {
     "data": {
      "text/plain": "Validation: 0it [00:00, ?it/s]",
      "application/vnd.jupyter.widget-view+json": {
       "version_major": 2,
       "version_minor": 0,
       "model_id": "10e539d2022641368c8f41b7d686cfa7"
      }
     },
     "metadata": {},
     "output_type": "display_data"
    },
    {
     "data": {
      "text/plain": "Validation: 0it [00:00, ?it/s]",
      "application/vnd.jupyter.widget-view+json": {
       "version_major": 2,
       "version_minor": 0,
       "model_id": "8fa929cda2fb4b76a03f70717751ab19"
      }
     },
     "metadata": {},
     "output_type": "display_data"
    },
    {
     "data": {
      "text/plain": "Validation: 0it [00:00, ?it/s]",
      "application/vnd.jupyter.widget-view+json": {
       "version_major": 2,
       "version_minor": 0,
       "model_id": "7bb223de08b4465cb28aebba9245de6b"
      }
     },
     "metadata": {},
     "output_type": "display_data"
    },
    {
     "data": {
      "text/plain": "Validation: 0it [00:00, ?it/s]",
      "application/vnd.jupyter.widget-view+json": {
       "version_major": 2,
       "version_minor": 0,
       "model_id": "c1844b0065434d37b2674f11b77d0e5a"
      }
     },
     "metadata": {},
     "output_type": "display_data"
    },
    {
     "data": {
      "text/plain": "Validation: 0it [00:00, ?it/s]",
      "application/vnd.jupyter.widget-view+json": {
       "version_major": 2,
       "version_minor": 0,
       "model_id": "d2af652c99624c899babcfbd7baad246"
      }
     },
     "metadata": {},
     "output_type": "display_data"
    },
    {
     "data": {
      "text/plain": "Validation: 0it [00:00, ?it/s]",
      "application/vnd.jupyter.widget-view+json": {
       "version_major": 2,
       "version_minor": 0,
       "model_id": "44d07a562d0242fcbbf486bae3757daf"
      }
     },
     "metadata": {},
     "output_type": "display_data"
    },
    {
     "data": {
      "text/plain": "Validation: 0it [00:00, ?it/s]",
      "application/vnd.jupyter.widget-view+json": {
       "version_major": 2,
       "version_minor": 0,
       "model_id": "b9a320397c7c4b91973f1430f1c351e7"
      }
     },
     "metadata": {},
     "output_type": "display_data"
    },
    {
     "data": {
      "text/plain": "Validation: 0it [00:00, ?it/s]",
      "application/vnd.jupyter.widget-view+json": {
       "version_major": 2,
       "version_minor": 0,
       "model_id": "211efbd057d5453f95ad8d9d0b0fcd23"
      }
     },
     "metadata": {},
     "output_type": "display_data"
    },
    {
     "data": {
      "text/plain": "Validation: 0it [00:00, ?it/s]",
      "application/vnd.jupyter.widget-view+json": {
       "version_major": 2,
       "version_minor": 0,
       "model_id": "71426cba07e6418689ec4dbdc0c62c75"
      }
     },
     "metadata": {},
     "output_type": "display_data"
    },
    {
     "data": {
      "text/plain": "Validation: 0it [00:00, ?it/s]",
      "application/vnd.jupyter.widget-view+json": {
       "version_major": 2,
       "version_minor": 0,
       "model_id": "4411c71b719140748a1ff43c6faed996"
      }
     },
     "metadata": {},
     "output_type": "display_data"
    },
    {
     "data": {
      "text/plain": "Validation: 0it [00:00, ?it/s]",
      "application/vnd.jupyter.widget-view+json": {
       "version_major": 2,
       "version_minor": 0,
       "model_id": "5f7fbbe055f04f7582f70088b6b685c4"
      }
     },
     "metadata": {},
     "output_type": "display_data"
    },
    {
     "data": {
      "text/plain": "Validation: 0it [00:00, ?it/s]",
      "application/vnd.jupyter.widget-view+json": {
       "version_major": 2,
       "version_minor": 0,
       "model_id": "eeb86f603c00426b828ebefb34a1ac34"
      }
     },
     "metadata": {},
     "output_type": "display_data"
    },
    {
     "data": {
      "text/plain": "Validation: 0it [00:00, ?it/s]",
      "application/vnd.jupyter.widget-view+json": {
       "version_major": 2,
       "version_minor": 0,
       "model_id": "a39abcb4a1c44738bb497f4fdda626a4"
      }
     },
     "metadata": {},
     "output_type": "display_data"
    },
    {
     "data": {
      "text/plain": "Validation: 0it [00:00, ?it/s]",
      "application/vnd.jupyter.widget-view+json": {
       "version_major": 2,
       "version_minor": 0,
       "model_id": "09222a8e479e4197b9f974db2eb24a6e"
      }
     },
     "metadata": {},
     "output_type": "display_data"
    },
    {
     "data": {
      "text/plain": "Validation: 0it [00:00, ?it/s]",
      "application/vnd.jupyter.widget-view+json": {
       "version_major": 2,
       "version_minor": 0,
       "model_id": "6a45e070ef394c248533dd2ef56d6ae6"
      }
     },
     "metadata": {},
     "output_type": "display_data"
    },
    {
     "data": {
      "text/plain": "Validation: 0it [00:00, ?it/s]",
      "application/vnd.jupyter.widget-view+json": {
       "version_major": 2,
       "version_minor": 0,
       "model_id": "6a6fefdb4845489cb0cc8992b6cd10ef"
      }
     },
     "metadata": {},
     "output_type": "display_data"
    },
    {
     "data": {
      "text/plain": "Validation: 0it [00:00, ?it/s]",
      "application/vnd.jupyter.widget-view+json": {
       "version_major": 2,
       "version_minor": 0,
       "model_id": "ceec06b4890a46a887026ae33bd39803"
      }
     },
     "metadata": {},
     "output_type": "display_data"
    },
    {
     "data": {
      "text/plain": "Validation: 0it [00:00, ?it/s]",
      "application/vnd.jupyter.widget-view+json": {
       "version_major": 2,
       "version_minor": 0,
       "model_id": "a3e482d725664611934339feb2aec42b"
      }
     },
     "metadata": {},
     "output_type": "display_data"
    },
    {
     "data": {
      "text/plain": "Validation: 0it [00:00, ?it/s]",
      "application/vnd.jupyter.widget-view+json": {
       "version_major": 2,
       "version_minor": 0,
       "model_id": "ac32896500634261b343a4e054b107fb"
      }
     },
     "metadata": {},
     "output_type": "display_data"
    },
    {
     "data": {
      "text/plain": "Validation: 0it [00:00, ?it/s]",
      "application/vnd.jupyter.widget-view+json": {
       "version_major": 2,
       "version_minor": 0,
       "model_id": "7ef9e20528284995a8ff1eb48cff528f"
      }
     },
     "metadata": {},
     "output_type": "display_data"
    },
    {
     "data": {
      "text/plain": "Validation: 0it [00:00, ?it/s]",
      "application/vnd.jupyter.widget-view+json": {
       "version_major": 2,
       "version_minor": 0,
       "model_id": "8117dcd8596f43fca7ce136da5da28a0"
      }
     },
     "metadata": {},
     "output_type": "display_data"
    },
    {
     "data": {
      "text/plain": "Validation: 0it [00:00, ?it/s]",
      "application/vnd.jupyter.widget-view+json": {
       "version_major": 2,
       "version_minor": 0,
       "model_id": "1a31d719ba224af1b7d8083755875760"
      }
     },
     "metadata": {},
     "output_type": "display_data"
    },
    {
     "data": {
      "text/plain": "Validation: 0it [00:00, ?it/s]",
      "application/vnd.jupyter.widget-view+json": {
       "version_major": 2,
       "version_minor": 0,
       "model_id": "543dde94b6f543aab1b0c3e74c75d06a"
      }
     },
     "metadata": {},
     "output_type": "display_data"
    },
    {
     "data": {
      "text/plain": "Validation: 0it [00:00, ?it/s]",
      "application/vnd.jupyter.widget-view+json": {
       "version_major": 2,
       "version_minor": 0,
       "model_id": "2a00ce632c70492e9eeb31b826001d09"
      }
     },
     "metadata": {},
     "output_type": "display_data"
    },
    {
     "data": {
      "text/plain": "Validation: 0it [00:00, ?it/s]",
      "application/vnd.jupyter.widget-view+json": {
       "version_major": 2,
       "version_minor": 0,
       "model_id": "5da1a701b40c4b14915fe4d506854979"
      }
     },
     "metadata": {},
     "output_type": "display_data"
    },
    {
     "data": {
      "text/plain": "Validation: 0it [00:00, ?it/s]",
      "application/vnd.jupyter.widget-view+json": {
       "version_major": 2,
       "version_minor": 0,
       "model_id": "e432ca708d7441d992ce31a5bbd610c6"
      }
     },
     "metadata": {},
     "output_type": "display_data"
    },
    {
     "data": {
      "text/plain": "Validation: 0it [00:00, ?it/s]",
      "application/vnd.jupyter.widget-view+json": {
       "version_major": 2,
       "version_minor": 0,
       "model_id": "588c6e3e1fac478e8d7f202685bc9b48"
      }
     },
     "metadata": {},
     "output_type": "display_data"
    },
    {
     "data": {
      "text/plain": "Validation: 0it [00:00, ?it/s]",
      "application/vnd.jupyter.widget-view+json": {
       "version_major": 2,
       "version_minor": 0,
       "model_id": "64cd9eb5f46e4aca909388939262513b"
      }
     },
     "metadata": {},
     "output_type": "display_data"
    },
    {
     "data": {
      "text/plain": "Validation: 0it [00:00, ?it/s]",
      "application/vnd.jupyter.widget-view+json": {
       "version_major": 2,
       "version_minor": 0,
       "model_id": "a57d1a7cff434134b103a440c233f87c"
      }
     },
     "metadata": {},
     "output_type": "display_data"
    },
    {
     "data": {
      "text/plain": "Validation: 0it [00:00, ?it/s]",
      "application/vnd.jupyter.widget-view+json": {
       "version_major": 2,
       "version_minor": 0,
       "model_id": "22314dbe2f094122a554905e44fe02b5"
      }
     },
     "metadata": {},
     "output_type": "display_data"
    },
    {
     "data": {
      "text/plain": "Validation: 0it [00:00, ?it/s]",
      "application/vnd.jupyter.widget-view+json": {
       "version_major": 2,
       "version_minor": 0,
       "model_id": "1f654c8110ed49fb912149b84dd83b24"
      }
     },
     "metadata": {},
     "output_type": "display_data"
    },
    {
     "data": {
      "text/plain": "Validation: 0it [00:00, ?it/s]",
      "application/vnd.jupyter.widget-view+json": {
       "version_major": 2,
       "version_minor": 0,
       "model_id": "d05c22e35f464da7a64fa1f58d78761d"
      }
     },
     "metadata": {},
     "output_type": "display_data"
    },
    {
     "data": {
      "text/plain": "Validation: 0it [00:00, ?it/s]",
      "application/vnd.jupyter.widget-view+json": {
       "version_major": 2,
       "version_minor": 0,
       "model_id": "73fb65a82e9f483ba272af876ebaa036"
      }
     },
     "metadata": {},
     "output_type": "display_data"
    },
    {
     "data": {
      "text/plain": "Validation: 0it [00:00, ?it/s]",
      "application/vnd.jupyter.widget-view+json": {
       "version_major": 2,
       "version_minor": 0,
       "model_id": "9c164e50c918474f88c240b4131d10f6"
      }
     },
     "metadata": {},
     "output_type": "display_data"
    },
    {
     "data": {
      "text/plain": "Validation: 0it [00:00, ?it/s]",
      "application/vnd.jupyter.widget-view+json": {
       "version_major": 2,
       "version_minor": 0,
       "model_id": "49008dd2f74c4080a138763e75d2d2fd"
      }
     },
     "metadata": {},
     "output_type": "display_data"
    },
    {
     "data": {
      "text/plain": "Validation: 0it [00:00, ?it/s]",
      "application/vnd.jupyter.widget-view+json": {
       "version_major": 2,
       "version_minor": 0,
       "model_id": "4da1bd0436ad4891803e5ebace535e56"
      }
     },
     "metadata": {},
     "output_type": "display_data"
    },
    {
     "name": "stdout",
     "output_type": "stream",
     "text": [
      "CPU times: user 15min 45s, sys: 8min 7s, total: 23min 53s\n",
      "Wall time: 9min 58s\n"
     ]
    }
   ],
   "source": [
    "%%time\n",
    "pl_data_module.prepare_data('train')\n",
    "trainer.fit(model=pl_model, datamodule=pl_data_module)"
   ],
   "metadata": {
    "collapsed": false,
    "ExecuteTime": {
     "end_time": "2023-11-26T19:13:30.206438700Z",
     "start_time": "2023-11-26T19:03:31.903323Z"
    }
   }
  },
  {
   "cell_type": "code",
   "execution_count": 15,
   "outputs": [],
   "source": [],
   "metadata": {
    "collapsed": false,
    "ExecuteTime": {
     "end_time": "2023-11-26T19:13:30.222510700Z",
     "start_time": "2023-11-26T19:13:30.204441200Z"
    }
   }
  },
  {
   "cell_type": "code",
   "execution_count": 16,
   "outputs": [
    {
     "data": {
      "text/plain": "Parameter containing:\ntensor([[ 0.0009, -0.0014,  0.0628,  ...,  0.0951, -0.0603, -0.0844],\n        [ 0.0665, -0.0657, -0.0755,  ..., -0.0259, -0.0124,  0.0302],\n        [ 0.0484,  0.0811, -0.0911,  ..., -0.0473, -0.0403,  0.0443],\n        ...,\n        [-0.0534,  0.0293,  0.0264,  ..., -0.0497,  0.0875, -0.1292],\n        [-0.0468,  0.0287,  0.0232,  ...,  0.0093,  0.0049,  0.0844],\n        [ 0.0709, -0.0197,  0.0174,  ..., -0.0223, -0.0189,  0.0508]],\n       requires_grad=True)"
     },
     "execution_count": 16,
     "metadata": {},
     "output_type": "execute_result"
    }
   ],
   "source": [
    "pl_model.model.encoder_mlp.mlp[0].weight"
   ],
   "metadata": {
    "collapsed": false,
    "ExecuteTime": {
     "end_time": "2023-11-26T19:13:30.293565300Z",
     "start_time": "2023-11-26T19:13:30.209395500Z"
    }
   }
  },
  {
   "cell_type": "code",
   "execution_count": 17,
   "outputs": [
    {
     "name": "stderr",
     "output_type": "stream",
     "text": [
      "LOCAL_RANK: 0 - CUDA_VISIBLE_DEVICES: [0]\n"
     ]
    },
    {
     "name": "stdout",
     "output_type": "stream",
     "text": [
      "============================== prepare_data: mode[None] Start ==============================\n",
      "============================== prepare_data has been invoked, mode=None ==============================\n",
      "============================== prepare_data mode[None] End ==============================\n",
      "============================== Setup [test] Start ==============================\n",
      "[len self.test_dataset] 521\n",
      "============================== Setup [test] End ==============================\n"
     ]
    },
    {
     "data": {
      "text/plain": "Testing: 0it [00:00, ?it/s]",
      "application/vnd.jupyter.widget-view+json": {
       "version_major": 2,
       "version_minor": 0,
       "model_id": "2a772c88f94045fe8672941370f7c360"
      }
     },
     "metadata": {},
     "output_type": "display_data"
    },
    {
     "data": {
      "text/plain": "┏━━━━━━━━━━━━━━━━━━━━━━━━━━━┳━━━━━━━━━━━━━━━━━━━━━━━━━━━┓\n┃\u001B[1m \u001B[0m\u001B[1m       Test metric       \u001B[0m\u001B[1m \u001B[0m┃\u001B[1m \u001B[0m\u001B[1m      DataLoader 0       \u001B[0m\u001B[1m \u001B[0m┃\n┡━━━━━━━━━━━━━━━━━━━━━━━━━━━╇━━━━━━━━━━━━━━━━━━━━━━━━━━━┩\n│\u001B[36m \u001B[0m\u001B[36m test/avg_pearsonr_epoch \u001B[0m\u001B[36m \u001B[0m│\u001B[35m \u001B[0m\u001B[35m   0.7152611335299958    \u001B[0m\u001B[35m \u001B[0m│\n│\u001B[36m \u001B[0m\u001B[36mtest/avg_spearmanr_epoch \u001B[0m\u001B[36m \u001B[0m│\u001B[35m \u001B[0m\u001B[35m   0.5290826691440256    \u001B[0m\u001B[35m \u001B[0m│\n│\u001B[36m \u001B[0m\u001B[36m      test/ce_epoch      \u001B[0m\u001B[36m \u001B[0m│\u001B[35m \u001B[0m\u001B[35m   22.543073654174805    \u001B[0m\u001B[35m \u001B[0m│\n│\u001B[36m \u001B[0m\u001B[36m test/dS_pearsonr_epoch  \u001B[0m\u001B[36m \u001B[0m│\u001B[35m \u001B[0m\u001B[35m   0.8944658767328253    \u001B[0m\u001B[35m \u001B[0m│\n│\u001B[36m \u001B[0m\u001B[36m test/dS_spearmanr_epoch \u001B[0m\u001B[36m \u001B[0m│\u001B[35m \u001B[0m\u001B[35m   0.5946765908169404    \u001B[0m\u001B[35m \u001B[0m│\n│\u001B[36m \u001B[0m\u001B[36m test/ddG_pearsonr_epoch \u001B[0m\u001B[36m \u001B[0m│\u001B[35m \u001B[0m\u001B[35m   0.5360563903271662    \u001B[0m\u001B[35m \u001B[0m│\n│\u001B[36m \u001B[0m\u001B[36mtest/ddG_spearmanr_epoch \u001B[0m\u001B[36m \u001B[0m│\u001B[35m \u001B[0m\u001B[35m   0.4634887474711109    \u001B[0m\u001B[35m \u001B[0m│\n│\u001B[36m \u001B[0m\u001B[36m     test/loss_epoch     \u001B[0m\u001B[36m \u001B[0m│\u001B[35m \u001B[0m\u001B[35m    40.74958801269531    \u001B[0m\u001B[35m \u001B[0m│\n│\u001B[36m \u001B[0m\u001B[36m     test/mse_epoch      \u001B[0m\u001B[36m \u001B[0m│\u001B[35m \u001B[0m\u001B[35m    6.278755187988281    \u001B[0m\u001B[35m \u001B[0m│\n│\u001B[36m \u001B[0m\u001B[36m     test/reg_epoch      \u001B[0m\u001B[36m \u001B[0m│\u001B[35m \u001B[0m\u001B[35m   11.927752494812012    \u001B[0m\u001B[35m \u001B[0m│\n└───────────────────────────┴───────────────────────────┘\n",
      "text/html": "<pre style=\"white-space:pre;overflow-x:auto;line-height:normal;font-family:Menlo,'DejaVu Sans Mono',consolas,'Courier New',monospace\">┏━━━━━━━━━━━━━━━━━━━━━━━━━━━┳━━━━━━━━━━━━━━━━━━━━━━━━━━━┓\n┃<span style=\"font-weight: bold\">        Test metric        </span>┃<span style=\"font-weight: bold\">       DataLoader 0        </span>┃\n┡━━━━━━━━━━━━━━━━━━━━━━━━━━━╇━━━━━━━━━━━━━━━━━━━━━━━━━━━┩\n│<span style=\"color: #008080; text-decoration-color: #008080\">  test/avg_pearsonr_epoch  </span>│<span style=\"color: #800080; text-decoration-color: #800080\">    0.7152611335299958     </span>│\n│<span style=\"color: #008080; text-decoration-color: #008080\"> test/avg_spearmanr_epoch  </span>│<span style=\"color: #800080; text-decoration-color: #800080\">    0.5290826691440256     </span>│\n│<span style=\"color: #008080; text-decoration-color: #008080\">       test/ce_epoch       </span>│<span style=\"color: #800080; text-decoration-color: #800080\">    22.543073654174805     </span>│\n│<span style=\"color: #008080; text-decoration-color: #008080\">  test/dS_pearsonr_epoch   </span>│<span style=\"color: #800080; text-decoration-color: #800080\">    0.8944658767328253     </span>│\n│<span style=\"color: #008080; text-decoration-color: #008080\">  test/dS_spearmanr_epoch  </span>│<span style=\"color: #800080; text-decoration-color: #800080\">    0.5946765908169404     </span>│\n│<span style=\"color: #008080; text-decoration-color: #008080\">  test/ddG_pearsonr_epoch  </span>│<span style=\"color: #800080; text-decoration-color: #800080\">    0.5360563903271662     </span>│\n│<span style=\"color: #008080; text-decoration-color: #008080\"> test/ddG_spearmanr_epoch  </span>│<span style=\"color: #800080; text-decoration-color: #800080\">    0.4634887474711109     </span>│\n│<span style=\"color: #008080; text-decoration-color: #008080\">      test/loss_epoch      </span>│<span style=\"color: #800080; text-decoration-color: #800080\">     40.74958801269531     </span>│\n│<span style=\"color: #008080; text-decoration-color: #008080\">      test/mse_epoch       </span>│<span style=\"color: #800080; text-decoration-color: #800080\">     6.278755187988281     </span>│\n│<span style=\"color: #008080; text-decoration-color: #008080\">      test/reg_epoch       </span>│<span style=\"color: #800080; text-decoration-color: #800080\">    11.927752494812012     </span>│\n└───────────────────────────┴───────────────────────────┘\n</pre>\n"
     },
     "metadata": {},
     "output_type": "display_data"
    },
    {
     "data": {
      "text/plain": "[{'test/loss_epoch': 40.74958801269531,\n  'test/ce_epoch': 22.543073654174805,\n  'test/reg_epoch': 11.927752494812012,\n  'test/mse_epoch': 6.278755187988281,\n  'test/ddG_pearsonr_epoch': 0.5360563903271662,\n  'test/ddG_spearmanr_epoch': 0.4634887474711109,\n  'test/dS_pearsonr_epoch': 0.8944658767328253,\n  'test/dS_spearmanr_epoch': 0.5946765908169404,\n  'test/avg_pearsonr_epoch': 0.7152611335299958,\n  'test/avg_spearmanr_epoch': 0.5290826691440256}]"
     },
     "execution_count": 17,
     "metadata": {},
     "output_type": "execute_result"
    }
   ],
   "source": [
    "trainer.test(model=pl_model, datamodule=pl_data_module)"
   ],
   "metadata": {
    "collapsed": false,
    "ExecuteTime": {
     "end_time": "2023-11-26T19:13:31.340928400Z",
     "start_time": "2023-11-26T19:13:30.349318200Z"
    }
   }
  },
  {
   "cell_type": "code",
   "execution_count": 18,
   "outputs": [
    {
     "name": "stderr",
     "output_type": "stream",
     "text": [
      "LOCAL_RANK: 0 - CUDA_VISIBLE_DEVICES: [0]\n"
     ]
    },
    {
     "name": "stdout",
     "output_type": "stream",
     "text": [
      "============================== prepare_data: mode[None] Start ==============================\n",
      "============================== prepare_data has been invoked, mode=None ==============================\n",
      "============================== prepare_data mode[None] End ==============================\n",
      "============================== Setup [test] Start ==============================\n",
      "[len self.test_dataset] 521\n",
      "============================== Setup [test] End ==============================\n"
     ]
    },
    {
     "data": {
      "text/plain": "Testing: 0it [00:00, ?it/s]",
      "application/vnd.jupyter.widget-view+json": {
       "version_major": 2,
       "version_minor": 0,
       "model_id": "377f7d7c85394b8d92fe8cd34130d244"
      }
     },
     "metadata": {},
     "output_type": "display_data"
    },
    {
     "data": {
      "text/plain": "┏━━━━━━━━━━━━━━━━━━━━━━━━━━━┳━━━━━━━━━━━━━━━━━━━━━━━━━━━┓\n┃\u001B[1m \u001B[0m\u001B[1m       Test metric       \u001B[0m\u001B[1m \u001B[0m┃\u001B[1m \u001B[0m\u001B[1m      DataLoader 0       \u001B[0m\u001B[1m \u001B[0m┃\n┡━━━━━━━━━━━━━━━━━━━━━━━━━━━╇━━━━━━━━━━━━━━━━━━━━━━━━━━━┩\n│\u001B[36m \u001B[0m\u001B[36m test/avg_pearsonr_epoch \u001B[0m\u001B[36m \u001B[0m│\u001B[35m \u001B[0m\u001B[35m   0.7152611335299958    \u001B[0m\u001B[35m \u001B[0m│\n│\u001B[36m \u001B[0m\u001B[36mtest/avg_spearmanr_epoch \u001B[0m\u001B[36m \u001B[0m│\u001B[35m \u001B[0m\u001B[35m   0.5290826691440256    \u001B[0m\u001B[35m \u001B[0m│\n│\u001B[36m \u001B[0m\u001B[36m      test/ce_epoch      \u001B[0m\u001B[36m \u001B[0m│\u001B[35m \u001B[0m\u001B[35m   22.543073654174805    \u001B[0m\u001B[35m \u001B[0m│\n│\u001B[36m \u001B[0m\u001B[36m test/dS_pearsonr_epoch  \u001B[0m\u001B[36m \u001B[0m│\u001B[35m \u001B[0m\u001B[35m   0.8944658767328253    \u001B[0m\u001B[35m \u001B[0m│\n│\u001B[36m \u001B[0m\u001B[36m test/dS_spearmanr_epoch \u001B[0m\u001B[36m \u001B[0m│\u001B[35m \u001B[0m\u001B[35m   0.5946765908169404    \u001B[0m\u001B[35m \u001B[0m│\n│\u001B[36m \u001B[0m\u001B[36m test/ddG_pearsonr_epoch \u001B[0m\u001B[36m \u001B[0m│\u001B[35m \u001B[0m\u001B[35m   0.5360563903271662    \u001B[0m\u001B[35m \u001B[0m│\n│\u001B[36m \u001B[0m\u001B[36mtest/ddG_spearmanr_epoch \u001B[0m\u001B[36m \u001B[0m│\u001B[35m \u001B[0m\u001B[35m   0.4634887474711109    \u001B[0m\u001B[35m \u001B[0m│\n│\u001B[36m \u001B[0m\u001B[36m     test/loss_epoch     \u001B[0m\u001B[36m \u001B[0m│\u001B[35m \u001B[0m\u001B[35m    40.69425964355469    \u001B[0m\u001B[35m \u001B[0m│\n│\u001B[36m \u001B[0m\u001B[36m     test/mse_epoch      \u001B[0m\u001B[36m \u001B[0m│\u001B[35m \u001B[0m\u001B[35m    6.278755187988281    \u001B[0m\u001B[35m \u001B[0m│\n│\u001B[36m \u001B[0m\u001B[36m     test/reg_epoch      \u001B[0m\u001B[36m \u001B[0m│\u001B[35m \u001B[0m\u001B[35m    11.87242603302002    \u001B[0m\u001B[35m \u001B[0m│\n└───────────────────────────┴───────────────────────────┘\n",
      "text/html": "<pre style=\"white-space:pre;overflow-x:auto;line-height:normal;font-family:Menlo,'DejaVu Sans Mono',consolas,'Courier New',monospace\">┏━━━━━━━━━━━━━━━━━━━━━━━━━━━┳━━━━━━━━━━━━━━━━━━━━━━━━━━━┓\n┃<span style=\"font-weight: bold\">        Test metric        </span>┃<span style=\"font-weight: bold\">       DataLoader 0        </span>┃\n┡━━━━━━━━━━━━━━━━━━━━━━━━━━━╇━━━━━━━━━━━━━━━━━━━━━━━━━━━┩\n│<span style=\"color: #008080; text-decoration-color: #008080\">  test/avg_pearsonr_epoch  </span>│<span style=\"color: #800080; text-decoration-color: #800080\">    0.7152611335299958     </span>│\n│<span style=\"color: #008080; text-decoration-color: #008080\"> test/avg_spearmanr_epoch  </span>│<span style=\"color: #800080; text-decoration-color: #800080\">    0.5290826691440256     </span>│\n│<span style=\"color: #008080; text-decoration-color: #008080\">       test/ce_epoch       </span>│<span style=\"color: #800080; text-decoration-color: #800080\">    22.543073654174805     </span>│\n│<span style=\"color: #008080; text-decoration-color: #008080\">  test/dS_pearsonr_epoch   </span>│<span style=\"color: #800080; text-decoration-color: #800080\">    0.8944658767328253     </span>│\n│<span style=\"color: #008080; text-decoration-color: #008080\">  test/dS_spearmanr_epoch  </span>│<span style=\"color: #800080; text-decoration-color: #800080\">    0.5946765908169404     </span>│\n│<span style=\"color: #008080; text-decoration-color: #008080\">  test/ddG_pearsonr_epoch  </span>│<span style=\"color: #800080; text-decoration-color: #800080\">    0.5360563903271662     </span>│\n│<span style=\"color: #008080; text-decoration-color: #008080\"> test/ddG_spearmanr_epoch  </span>│<span style=\"color: #800080; text-decoration-color: #800080\">    0.4634887474711109     </span>│\n│<span style=\"color: #008080; text-decoration-color: #008080\">      test/loss_epoch      </span>│<span style=\"color: #800080; text-decoration-color: #800080\">     40.69425964355469     </span>│\n│<span style=\"color: #008080; text-decoration-color: #008080\">      test/mse_epoch       </span>│<span style=\"color: #800080; text-decoration-color: #800080\">     6.278755187988281     </span>│\n│<span style=\"color: #008080; text-decoration-color: #008080\">      test/reg_epoch       </span>│<span style=\"color: #800080; text-decoration-color: #800080\">     11.87242603302002     </span>│\n└───────────────────────────┴───────────────────────────┘\n</pre>\n"
     },
     "metadata": {},
     "output_type": "display_data"
    },
    {
     "data": {
      "text/plain": "[{'test/loss_epoch': 40.69425964355469,\n  'test/ce_epoch': 22.543073654174805,\n  'test/reg_epoch': 11.87242603302002,\n  'test/mse_epoch': 6.278755187988281,\n  'test/ddG_pearsonr_epoch': 0.5360563903271662,\n  'test/ddG_spearmanr_epoch': 0.4634887474711109,\n  'test/dS_pearsonr_epoch': 0.8944658767328253,\n  'test/dS_spearmanr_epoch': 0.5946765908169404,\n  'test/avg_pearsonr_epoch': 0.7152611335299958,\n  'test/avg_spearmanr_epoch': 0.5290826691440256}]"
     },
     "execution_count": 18,
     "metadata": {},
     "output_type": "execute_result"
    }
   ],
   "source": [
    "trainer.test(model=pl_model, datamodule=pl_data_module)"
   ],
   "metadata": {
    "collapsed": false,
    "ExecuteTime": {
     "end_time": "2023-11-26T19:13:32.370880600Z",
     "start_time": "2023-11-26T19:13:31.333927100Z"
    }
   }
  },
  {
   "cell_type": "code",
   "execution_count": 19,
   "outputs": [
    {
     "data": {
      "text/plain": "Parameter containing:\ntensor([[ 0.0009, -0.0014,  0.0628,  ...,  0.0951, -0.0603, -0.0844],\n        [ 0.0665, -0.0657, -0.0755,  ..., -0.0259, -0.0124,  0.0302],\n        [ 0.0484,  0.0811, -0.0911,  ..., -0.0473, -0.0403,  0.0443],\n        ...,\n        [-0.0534,  0.0293,  0.0264,  ..., -0.0497,  0.0875, -0.1292],\n        [-0.0468,  0.0287,  0.0232,  ...,  0.0093,  0.0049,  0.0844],\n        [ 0.0709, -0.0197,  0.0174,  ..., -0.0223, -0.0189,  0.0508]],\n       requires_grad=True)"
     },
     "execution_count": 19,
     "metadata": {},
     "output_type": "execute_result"
    }
   ],
   "source": [
    "pl_model.model.encoder_mlp.mlp[0].weight"
   ],
   "metadata": {
    "collapsed": false,
    "ExecuteTime": {
     "end_time": "2023-11-26T19:13:32.419017200Z",
     "start_time": "2023-11-26T19:13:32.367883600Z"
    }
   }
  },
  {
   "cell_type": "code",
   "execution_count": 20,
   "outputs": [
    {
     "name": "stderr",
     "output_type": "stream",
     "text": [
      "LOCAL_RANK: 0 - CUDA_VISIBLE_DEVICES: [0]\n"
     ]
    },
    {
     "name": "stdout",
     "output_type": "stream",
     "text": [
      "============================== prepare_data: mode[test] Start ==============================\n",
      "len(self.test_dataset) 521\n",
      "============================== prepare_data mode[test] End ==============================\n",
      "len(self.predict_index) 521\n",
      "============================== prepare_data: mode[None] Start ==============================\n",
      "============================== prepare_data has been invoked, mode=None ==============================\n",
      "============================== prepare_data mode[None] End ==============================\n",
      "============================== Setup [predict] Start ==============================\n",
      "[len self.predict_dataset] 521\n",
      "============================== Setup [predict] End ==============================\n"
     ]
    },
    {
     "data": {
      "text/plain": "Predicting: 0it [00:00, ?it/s]",
      "application/vnd.jupyter.widget-view+json": {
       "version_major": 2,
       "version_minor": 0,
       "model_id": "742bdbadfcbc437d8d042f5917db8202"
      }
     },
     "metadata": {},
     "output_type": "display_data"
    },
    {
     "data": {
      "text/plain": "[{'recon_tokens': tensor([[ 8, 11, 12,  ...,  5,  4, 16],\n          [16, 11, 12,  ...,  5,  4, 16],\n          [ 8,  8, 12,  ...,  5,  4, 16],\n          ...,\n          [ 8, 11, 12,  ...,  5,  4, 16],\n          [ 8, 11, 12,  ...,  5,  4, 16],\n          [ 8, 11, 12,  ...,  5,  4, 16]]),\n  'tokens': tensor([[ 8, 11, 12,  ...,  5,  4, 16],\n          [ 5, 11, 12,  ...,  5,  4, 16],\n          [ 8,  8, 12,  ...,  5,  4, 16],\n          ...,\n          [ 8, 11, 12,  ...,  5,  4, 16],\n          [ 8, 11, 12,  ...,  5,  4, 16],\n          [ 8, 11, 12,  ...,  5,  4, 16]]),\n  'ddG': tensor([-0.7306, -0.7681, -1.3282, -0.0167, -1.2203, -0.7663, -1.8396, -0.1471,\n          -0.1454, -0.8561, -1.4395, -1.9383, -0.5685, -0.4398, -1.1382, -4.4631,\n          -1.3262, -0.7398, -1.0461, -1.7806, -0.8554, -1.4865, -1.5717, -0.1668,\n          -1.2113, -0.0279, -1.8086, -1.5696, -1.8183, -1.7443, -0.0988, -0.2069,\n          -0.2052, -2.4691, -4.8645, -1.2536, -1.0251, -0.9982, -1.8109, -0.2505,\n          -0.1961, -0.4905, -1.5610, -0.0818, -1.7681, -0.9352, -0.7938, -0.4714,\n          -0.4028, -0.3157, -0.7871, -1.3990, -0.0836, -0.8050, -0.4422, -0.3292,\n          -1.4332, -1.5542, -0.0349, -0.8988, -0.3528, -0.8589, -0.1740, -0.3408]),\n  'dS': tensor([0.0170, 0.0170, 0.0170, 0.0170, 0.0170, 0.0050, 0.0170, 0.0170, 0.0170,\n          0.0170, 0.0170, 0.0170, 0.0170, 0.0170, 0.0170, 0.0170, 0.0170, 0.0170,\n          0.0170, 0.0170, 0.0170, 0.0170, 0.0050, 0.0170, 0.0170, 0.0170, 0.0170,\n          0.0170, 0.0170, 0.0170, 0.0170, 0.0170, 0.0170, 0.0170, 0.0170, 0.0170,\n          0.0050, 0.0430, 0.0170, 0.0170, 0.0170, 0.0170, 0.0170, 0.0170, 0.0050,\n          0.0170, 0.0170, 0.0170, 0.0170, 0.0430, 0.0170, 0.0170, 0.0050, 0.0050,\n          0.0170, 0.0170, 0.0170, 0.0170, 0.0170, 0.0170, 0.0430, 0.0170, 0.0170,\n          0.0050]),\n  'mean': tensor([[-1.1623,  0.1143, -2.5821,  ...,  1.3578,  1.4651, -0.7523],\n          [-1.1271,  0.0959, -3.0479,  ..., -6.6911,  5.7021, -7.1918],\n          [ 0.2585,  1.2852,  1.0295,  ..., -0.0472,  2.3347, -1.5837],\n          ...,\n          [-0.6902,  0.3681, -3.1248,  ..., -6.9621,  5.8051, -7.2078],\n          [-1.3419, -0.2623, -2.7248,  ..., -0.3075,  2.5813, -2.0702],\n          [ 3.4073,  2.1579,  4.2001,  ..., -0.2217,  1.7040, -0.9484]]),\n  'logvar': tensor([[ 0.5750, -0.9539,  0.0904,  ..., -2.1399,  1.8935,  2.3469],\n          [ 3.7119, -5.5108, -4.4632,  ..., -2.0916,  2.2083,  1.7117],\n          [ 1.0720, -1.8843, -0.4919,  ...,  0.3327, -1.6895, -0.8526],\n          ...,\n          [ 4.1912, -5.8051, -4.4872,  ..., -1.3238,  1.8750,  1.1911],\n          [ 0.9996, -2.2203, -0.6736,  ..., -2.7217,  4.0742,  3.8586],\n          [ 0.3065, -1.3901,  0.2787,  ..., -3.5157,  5.7506,  5.2029]]),\n  'z': tensor([[-1.1623,  0.1143, -2.5821,  ...,  1.3578,  1.4651, -0.7523],\n          [-1.1271,  0.0959, -3.0479,  ..., -6.6911,  5.7021, -7.1918],\n          [ 0.2585,  1.2852,  1.0295,  ..., -0.0472,  2.3347, -1.5837],\n          ...,\n          [-0.6902,  0.3681, -3.1248,  ..., -6.9621,  5.8051, -7.2078],\n          [-1.3419, -0.2623, -2.7248,  ..., -0.3075,  2.5813, -2.0702],\n          [ 3.4073,  2.1579,  4.2001,  ..., -0.2217,  1.7040, -0.9484]]),\n  'pred_ddG': tensor([ 0.8529,  0.7955,  0.6610,  0.9263,  0.8178,  0.5021,  0.3350,  0.2588,\n           0.8866,  0.7712,  0.4616,  0.6171,  0.8075,  0.8173,  0.8497, -0.0424,\n           0.4644,  0.7861,  0.9033,  0.8047,  0.6687,  0.6132,  0.8913,  0.8705,\n           0.9216,  0.7196,  0.6947,  0.8162,  0.8563,  0.5291,  0.8560,  0.7841,\n           0.9325,  0.2147,  0.3742,  0.9841,  0.7077,  0.7615,  0.3435,  0.8734,\n           0.2875,  0.8078,  0.1744,  0.8360,  0.7171,  0.7631,  0.8928,  0.6163,\n           0.8700,  0.7894,  0.7530,  0.9443,  0.7906,  0.7830,  0.7465,  0.6803,\n           0.5792,  0.4013,  0.5900,  0.8773,  0.4152,  0.6401,  0.9402,  0.5135]),\n  'pred_dS': tensor([-0.5860, -0.5343, -0.5363, -0.5360, -0.5706, -0.8468, -0.4911, -0.5808,\n          -0.5870, -0.5456, -0.5595, -0.5402, -0.5221, -0.5638, -0.5199, -0.5772,\n          -0.5995, -0.5400, -0.5973, -0.5281, -0.6572, -0.5295, -0.8054, -0.5417,\n          -0.3157, -0.5733, -0.5722, -0.5964, -0.5293, -0.5457, -0.5663, -0.5780,\n          -0.5475, -0.5735, -0.3839, -0.5936, -0.8994,  0.1563, -0.5957, -0.5470,\n          -0.5761, -0.5980, -0.5834, -0.5537, -0.7379, -0.5916, -0.5382, -0.5710,\n          -0.5305,  0.2460, -0.5278, -0.5461, -0.8839, -0.8250, -0.5398, -0.5758,\n          -0.6627, -0.6235, -0.5604, -0.5493,  0.0123, -0.5647, -0.5599, -0.8879])},\n {'recon_tokens': tensor([[ 8, 11, 12,  ...,  5,  4, 16],\n          [ 8, 11, 12,  ...,  5,  4, 16],\n          [ 8, 11, 12,  ..., 18,  4, 16],\n          ...,\n          [ 8, 11, 12,  ...,  5,  4, 16],\n          [ 8, 11, 12,  ...,  5,  4, 16],\n          [ 8, 11, 12,  ...,  5,  4, 16]]),\n  'tokens': tensor([[ 8, 11, 12,  ...,  5,  4, 16],\n          [ 8, 11, 12,  ...,  5,  4, 16],\n          [ 8, 11, 12,  ..., 18,  4, 16],\n          ...,\n          [ 8, 11, 12,  ...,  5,  4, 16],\n          [ 8, 11, 12,  ...,  5,  4, 16],\n          [ 8, 11, 12,  ...,  5,  4, 16]]),\n  'ddG': tensor([-2.9590e-01, -4.3850e-01, -2.8110e-01, -4.7890e-01, -7.2210e-01,\n          -2.5440e-01, -5.4610e-01, -2.2000e-02, -3.8230e-01, -2.5400e-02,\n          -5.3500e-02, -2.4631e+00, -5.3560e-01, -5.1440e-01, -7.5740e-01,\n          -6.7960e-01, -1.4178e+00, -8.6060e-01, -8.2840e-01, -6.8460e-01,\n          -1.5162e+00, -4.0000e-03, -4.1080e-01, -1.2440e-01, -1.9742e+00,\n          -3.3720e+00, -1.1105e+00, -1.9783e+00, -3.3663e+00, -1.6574e+00,\n          -2.3265e+00, -8.8140e-01, -9.8620e-01, -1.5130e-01, -5.5750e-01,\n          -1.9145e+00, -1.1379e+00, -1.9690e-01, -6.5430e-01, -1.7200e-02,\n          -1.3680e-01, -3.0220e-01, -7.9400e-02, -4.6110e-01, -2.8241e+00,\n          -2.0680e-01, -5.4500e-01, -3.3900e-01, -4.0275e+00, -5.4310e-01,\n          -1.9740e-01, -5.7760e-01, -7.8400e-02, -3.5050e-01, -2.5320e-01,\n          -3.4060e-01, -2.2000e+00, -3.6988e+00, -1.3520e-01, -7.3200e-01,\n          -3.9850e-01, -7.2500e-02, -3.4960e-01, -1.1579e+00]),\n  'dS': tensor([0.0170, 0.0170, 0.0170, 0.0170, 0.0170, 0.0170, 0.0170, 0.0170, 0.0170,\n          0.0170, 0.0600, 0.0170, 0.0170, 0.0170, 0.0430, 0.0170, 0.0170, 0.0170,\n          0.0170, 0.0050, 0.0170, 0.0170, 0.0050, 0.0170, 0.0170, 0.0050, 0.0170,\n          0.0170, 0.0050, 0.0170, 0.0170, 0.0170, 0.0170, 0.0170, 0.0170, 0.0170,\n          0.0170, 0.0170, 0.0170, 0.0170, 0.0170, 0.0170, 0.0170, 0.0170, 0.0170,\n          0.0170, 0.0170, 0.0170, 0.0170, 0.0170, 0.0170, 0.0050, 0.0170, 0.0170,\n          0.0170, 0.0170, 0.0170, 0.0170, 0.0170, 0.0170, 0.0170, 0.0050, 0.0170,\n          0.0170]),\n  'mean': tensor([[-1.2036, -0.4121, -2.7219,  ..., -0.1270,  2.3151, -2.0575],\n          [-0.2754, -0.2678, -1.4904,  ...,  1.9504, -0.0405,  0.2896],\n          [-0.5632, -0.2827, -3.0741,  ...,  0.0595,  1.7590, -1.0804],\n          ...,\n          [-0.2027, -1.9761, -3.3381,  ...,  0.6858,  1.7737, -0.4539],\n          [-0.8566, -0.4212, -3.6819,  ...,  1.9120,  0.5202,  0.4493],\n          [ 1.3449,  1.0628,  1.2360,  ..., -0.6645,  2.0790, -1.9573]]),\n  'logvar': tensor([[ 1.0890, -2.0845, -0.8682,  ..., -4.1016,  6.0910,  5.4339],\n          [-0.5803,  0.2562,  0.7279,  ...,  0.2502, -1.5166, -0.8505],\n          [ 1.2030, -2.0897, -0.0875,  ...,  1.7387, -2.2484, -2.5032],\n          ...,\n          [ 1.3218, -1.2313,  0.1938,  ...,  2.8797, -5.7806, -3.7292],\n          [ 0.3193, -0.2431,  0.7718,  ..., -3.7129,  4.0638,  4.2543],\n          [ 1.6635, -2.4190, -0.8575,  ..., -2.7357,  4.0481,  3.3155]]),\n  'z': tensor([[-1.2036, -0.4121, -2.7219,  ..., -0.1270,  2.3151, -2.0575],\n          [-0.2754, -0.2678, -1.4904,  ...,  1.9504, -0.0405,  0.2896],\n          [-0.5632, -0.2827, -3.0741,  ...,  0.0595,  1.7590, -1.0804],\n          ...,\n          [-0.2027, -1.9761, -3.3381,  ...,  0.6858,  1.7737, -0.4539],\n          [-0.8566, -0.4212, -3.6819,  ...,  1.9120,  0.5202,  0.4493],\n          [ 1.3449,  1.0628,  1.2360,  ..., -0.6645,  2.0790, -1.9573]]),\n  'pred_ddG': tensor([ 0.7999,  0.7361,  0.7359,  0.7785,  0.6876,  0.6588,  0.8659,  0.7526,\n           0.5229,  0.8592,  0.6069,  0.1442,  0.8550,  0.6146,  0.6814,  0.9150,\n           0.6439,  0.7686,  0.7219,  0.7849,  0.5388,  0.9424,  0.3030,  0.7613,\n           0.2114,  0.2363,  0.4929,  0.1747,  0.1454,  0.5110,  0.5805,  0.7051,\n           0.6643,  0.8467,  0.8929,  0.4833,  0.3669,  0.8725,  0.8146,  0.8377,\n           0.8734,  0.2814,  0.7501,  0.7159,  0.3881,  0.8392,  0.7061,  0.6391,\n          -0.2757,  0.7540,  0.7537,  0.6703,  0.8928,  0.7138,  0.9279,  0.6896,\n           0.2514,  0.3300,  0.8102,  0.7061,  0.3882,  0.7878,  0.9432,  0.7651]),\n  'pred_dS': tensor([-0.5436, -0.5545, -0.5696, -0.5495, -0.4992, -0.5234, -0.6020, -0.5766,\n          -0.5717, -0.5764, -0.2331, -0.5291, -0.5598, -0.5487,  0.3283, -0.5390,\n          -0.4874, -0.5546, -0.5357, -0.8744, -0.5592, -0.4875, -0.8833, -0.5702,\n          -0.5539, -0.8449, -0.5326, -0.5059, -0.8857, -0.5599, -0.5466, -0.5630,\n          -0.5492, -0.5379, -0.5831, -0.5271, -0.4978, -0.5315, -0.5383, -0.5799,\n          -0.5523, -0.5428, -0.5460, -0.5490, -0.5556, -0.5793, -0.5473, -0.5507,\n          -0.5790, -0.5624, -0.5486, -0.8542, -0.5377, -0.5423, -0.6036, -0.5312,\n          -0.5674, -0.5476, -0.5083, -0.5451, -0.5566, -0.8905, -0.5574, -0.5870])},\n {'recon_tokens': tensor([[ 8,  8, 12,  ...,  5,  4, 16],\n          [ 8, 11, 12,  ...,  5,  4, 16],\n          [ 8, 13, 12,  ...,  5,  4, 16],\n          ...,\n          [ 8, 11, 12,  ...,  5,  4, 16],\n          [ 8,  8, 11,  ...,  5,  4, 16],\n          [ 8,  9, 12,  ...,  5,  4, 16]]),\n  'tokens': tensor([[ 8,  8, 12,  ...,  5,  4, 16],\n          [ 8, 11, 12,  ...,  5,  4, 16],\n          [ 8, 13, 12,  ...,  5,  4, 16],\n          ...,\n          [ 8, 11, 12,  ...,  5,  4, 16],\n          [ 8,  8, 16,  ...,  5,  4, 16],\n          [ 8,  9, 12,  ...,  5,  4, 16]]),\n  'ddG': tensor([-0.4755, -0.5442, -0.5391, -1.9090, -3.1379, -1.7231, -1.4498, -0.5045,\n          -0.1284, -0.5413, -3.2894, -0.0770, -0.2241, -0.1705, -1.2615, -1.3037,\n          -0.5338, -0.5888, -0.4549, -0.1196, -0.2837, -3.3148, -1.6487, -0.9154,\n          -1.7065, -2.3682, -1.3153, -0.8450, -0.2858, -1.1549, -0.8958, -0.3364,\n          -0.3091, -0.1138, -0.3152, -1.0239, -0.2081, -0.9200, -1.3581, -0.1150,\n          -0.0564, -2.8730, -0.8315, -0.4876, -0.1352, -0.7139, -1.3653, -0.3572,\n          -1.1996, -0.0240, -0.7019, -0.0406, -1.2050, -0.2640, -0.0765, -0.5230,\n          -1.3707, -0.0955, -2.5760, -0.3510, -0.5512, -0.8780, -1.6605, -0.2411]),\n  'dS': tensor([0.0170, 0.0600, 0.0170, 0.0170, 0.0170, 0.0170, 0.0170, 0.0170, 0.0170,\n          0.0170, 0.0170, 0.0170, 0.0170, 0.0050, 0.0170, 0.0170, 0.0170, 0.0170,\n          0.0430, 0.0050, 0.0170, 0.0170, 0.0170, 0.0170, 0.0170, 0.0050, 0.0170,\n          0.0170, 0.0170, 0.0170, 0.0430, 0.0170, 0.0170, 0.0170, 0.0170, 0.0170,\n          0.0170, 0.0170, 0.0170, 0.0170, 0.0170, 0.0170, 0.0170, 0.0170, 0.0170,\n          0.0170, 0.0170, 0.0170, 0.0170, 0.0170, 0.0170, 0.0170, 0.0170, 0.0170,\n          0.0170, 0.0170, 0.0170, 0.0170, 0.0170, 0.0170, 0.0050, 0.0170, 0.0170,\n          0.0170]),\n  'mean': tensor([[ 1.0114,  1.4155,  0.7639,  ..., -0.0695,  2.1267, -1.5082],\n          [-1.8653, -0.2736, -2.6301,  ...,  0.7265,  2.4659, -1.4979],\n          [-0.4848,  0.0039, -3.1218,  ...,  0.0211,  1.5473, -0.9454],\n          ...,\n          [ 1.1472,  0.7994,  1.4965,  ...,  1.3863,  1.0338,  0.0399],\n          [-1.4230,  0.1255, -2.0259,  ...,  0.3232,  1.5026, -1.4478],\n          [-0.0586,  0.7027,  0.3133,  ...,  1.7457,  0.8304, -0.2578]]),\n  'logvar': tensor([[ 1.1401, -1.8534, -0.3689,  ..., -3.5775,  4.6785,  4.2180],\n          [ 0.6140, -1.9373, -0.1327,  ..., -3.2388,  3.3763,  3.7141],\n          [ 0.9309, -1.4073, -0.0527,  ...,  3.0046, -5.3699, -4.7329],\n          ...,\n          [ 0.6231, -0.7637,  0.6296,  ..., -1.4736,  1.6212,  1.7668],\n          [ 0.2740, -1.0716, -0.1021,  ..., -2.8240,  3.5684,  3.5495],\n          [ 0.5456, -0.2237, -0.1734,  ..., -0.5922,  0.3353,  0.3102]]),\n  'z': tensor([[ 1.0114,  1.4155,  0.7639,  ..., -0.0695,  2.1267, -1.5082],\n          [-1.8653, -0.2736, -2.6301,  ...,  0.7265,  2.4659, -1.4979],\n          [-0.4848,  0.0039, -3.1218,  ...,  0.0211,  1.5473, -0.9454],\n          ...,\n          [ 1.1472,  0.7994,  1.4965,  ...,  1.3863,  1.0338,  0.0399],\n          [-1.4230,  0.1255, -2.0259,  ...,  0.3232,  1.5026, -1.4478],\n          [-0.0586,  0.7027,  0.3133,  ...,  1.7457,  0.8304, -0.2578]]),\n  'pred_ddG': tensor([0.8672, 0.9064, 0.6703, 0.6320, 0.1934, 0.5641, 0.5185, 0.9037, 0.5155,\n          0.4482, 0.4227, 0.8759, 0.7980, 0.9425, 0.6846, 0.5606, 0.8315, 0.5356,\n          0.6375, 0.6481, 0.5168, 0.3692, 0.4122, 0.3973, 0.6351, 0.7333, 0.6331,\n          0.5675, 0.7950, 0.7807, 0.7740, 0.2543, 0.8240, 0.9334, 0.7837, 0.8582,\n          0.7933, 0.7244, 0.7188, 0.7661, 0.8631, 0.6611, 0.5459, 0.7286, 0.8545,\n          0.5994, 0.5964, 0.6238, 0.3415, 0.7889, 0.7126, 0.9103, 0.5398, 0.5973,\n          0.8324, 0.8052, 0.5992, 0.5132, 0.6447, 0.8317, 0.3730, 0.6775, 0.8452,\n          0.7204]),\n  'pred_dS': tensor([-0.5557,  0.0767, -0.5343, -0.5505, -0.5421, -0.5755, -0.5957, -0.5656,\n          -0.5437, -0.5249, -0.5040, -0.5428, -0.5935, -0.7783, -0.5668, -0.5326,\n          -0.5904, -0.5705, -0.0405, -0.7790, -0.5443, -0.5317, -0.5729, -0.5335,\n          -0.5540, -0.8138, -0.5416, -0.5465, -0.6012, -0.5503,  0.3419, -0.5169,\n          -0.5539, -0.5833, -0.5681, -0.5928, -0.3467, -0.5637, -0.5399, -0.5680,\n          -0.4986, -0.5358, -0.5221, -0.5354, -0.5236, -0.5418, -0.5160, -0.5655,\n          -0.5311, -0.5746, -0.5201, -0.5865, -0.5484, -0.5582, -0.5373, -0.6050,\n          -0.5498, -0.5396, -0.5636, -0.5374, -0.7823, -0.5599, -0.5098, -0.5544])},\n {'recon_tokens': tensor([[ 8, 11, 12,  ...,  5,  4, 16],\n          [ 8, 11, 12,  ..., 12,  4, 16],\n          [ 8, 11, 12,  ...,  5,  4, 20],\n          ...,\n          [ 8, 11, 12,  ...,  5,  4, 16],\n          [ 8, 11, 12,  ...,  5,  4, 16],\n          [ 8, 11, 12,  ...,  5,  4, 16]]),\n  'tokens': tensor([[ 8, 11, 12,  ...,  5,  4, 16],\n          [ 8, 11, 12,  ..., 15,  4, 16],\n          [ 8, 11, 12,  ...,  5,  4, 20],\n          ...,\n          [ 8, 11, 12,  ...,  5,  4, 16],\n          [ 8, 11, 12,  ...,  5,  4, 16],\n          [ 8, 11, 12,  ...,  5,  4, 16]]),\n  'ddG': tensor([-2.4989, -0.7171, -2.5726, -2.5239, -1.2455, -0.2628, -2.0117, -0.2736,\n          -0.7449, -1.0037, -0.5780, -1.9988, -2.0495, -0.2448, -0.6065, -0.4946,\n          -0.5177, -0.4527, -2.3150, -0.9771, -2.1989, -0.0664, -0.0693, -0.8655,\n          -0.9959, -0.1682, -0.0551, -0.7216, -1.1469, -2.5760, -0.5539, -0.2348,\n          -0.0516, -0.4004, -0.6619, -0.1205, -1.5958, -0.8041, -2.7427, -0.1868,\n          -0.3596, -0.0402, -0.0220, -3.1325, -0.1729, -0.9460, -0.2273, -0.5169,\n          -1.2315, -0.4525, -0.9179, -0.1494, -0.5015, -0.2203, -0.0502, -1.1649,\n          -0.1878, -2.1417, -0.7226, -1.6258, -0.9131, -0.1874, -0.6185, -2.4983]),\n  'dS': tensor([0.0170, 0.0170, 0.0170, 0.0170, 0.0170, 0.0170, 0.0310, 0.0170, 0.0050,\n          0.0170, 0.0170, 0.0170, 0.0170, 0.0170, 0.0170, 0.0170, 0.0430, 0.0170,\n          0.0170, 0.0170, 0.0170, 0.0170, 0.0170, 0.0170, 0.0170, 0.0430, 0.0170,\n          0.0170, 0.0050, 0.0170, 0.0170, 0.0430, 0.0170, 0.0170, 0.0170, 0.0050,\n          0.0430, 0.0170, 0.0170, 0.0050, 0.0170, 0.0170, 0.0170, 0.0170, 0.0170,\n          0.0170, 0.0170, 0.0050, 0.0170, 0.0170, 0.0170, 0.0170, 0.0430, 0.0170,\n          0.0170, 0.0170, 0.0170, 0.0170, 0.0170, 0.0170, 0.0170, 0.0170, 0.0170,\n          0.0170]),\n  'mean': tensor([[-0.2999, -2.2765, -1.7692,  ...,  1.9665,  0.6932,  0.0698],\n          [-0.9525, -0.0935, -3.4065,  ...,  0.4474,  1.5766, -0.8009],\n          [ 0.6922, -0.0827,  1.3779,  ...,  2.4659,  0.8590,  0.3645],\n          ...,\n          [ 0.1407, -0.2941, -2.2160,  ...,  1.1333,  1.1924, -0.2237],\n          [-0.8755, -0.1211, -3.3737,  ...,  0.0490,  1.8587, -1.2446],\n          [-1.7442, -0.2766, -4.2071,  ..., -2.8805,  4.4346, -4.3079]]),\n  'logvar': tensor([[ 0.0542, -0.3147,  0.3356,  ...,  1.0430, -0.6683, -1.2309],\n          [ 0.7023, -1.3827,  0.1136,  ..., -1.1014,  1.7390,  1.2562],\n          [-0.2256, -0.3238,  1.1854,  ..., -2.3218,  0.8808,  2.2817],\n          ...,\n          [ 0.6334, -1.2516,  0.6414,  ...,  3.2391, -5.7176, -4.9801],\n          [ 1.1666, -1.7554, -0.3480,  ...,  3.0133, -5.7810, -5.0644],\n          [ 2.3173, -4.2451, -2.1673,  ..., -2.1551,  2.2954,  3.0300]]),\n  'z': tensor([[-0.2999, -2.2765, -1.7692,  ...,  1.9665,  0.6932,  0.0698],\n          [-0.9525, -0.0935, -3.4065,  ...,  0.4474,  1.5766, -0.8009],\n          [ 0.6922, -0.0827,  1.3779,  ...,  2.4659,  0.8590,  0.3645],\n          ...,\n          [ 0.1407, -0.2941, -2.2160,  ...,  1.1333,  1.1924, -0.2237],\n          [-0.8755, -0.1211, -3.3737,  ...,  0.0490,  1.8587, -1.2446],\n          [-1.7442, -0.2766, -4.2071,  ..., -2.8805,  4.4346, -4.3079]]),\n  'pred_ddG': tensor([0.4590, 0.7899, 0.6456, 0.5104, 0.4385, 0.9039, 0.6623, 0.8345, 0.2727,\n          0.6051, 0.8478, 0.2920, 0.4365, 0.6952, 0.7692, 0.5041, 0.7965, 0.0434,\n          0.5387, 0.9060, 0.5358, 0.6404, 0.9162, 0.6008, 0.8103, 0.9303, 0.9128,\n          0.8957, 0.4123, 0.5458, 0.2753, 0.7699, 0.8236, 0.8276, 0.6352, 0.6516,\n          0.8150, 0.6086, 0.0805, 0.8379, 0.7500, 0.4952, 0.6101, 0.1809, 0.8041,\n          0.8076, 0.7066, 0.7086, 0.7695, 0.8938, 0.8118, 0.9173, 0.7715, 0.5517,\n          0.8629, 0.7052, 0.7159, 0.6343, 0.5352, 0.2884, 0.3869, 0.6059, 0.5641,\n          0.5772]),\n  'pred_dS': tensor([-0.5287, -0.5424, -0.5450, -0.5360, -0.5967, -0.5529, -0.3226, -0.5505,\n          -0.7113, -0.5117, -0.5640, -0.5620, -0.5285, -0.5367, -0.5480, -0.5619,\n           0.1027, -0.5151, -0.5553, -0.5678, -0.5279, -0.5403, -0.5140, -0.5475,\n          -0.5461,  0.1095, -0.5293, -0.4945, -0.8570, -0.5253, -0.0403,  0.2987,\n          -0.5308, -0.5725, -0.5491, -0.8662,  0.3426, -0.5744, -0.5658, -0.8996,\n          -0.5297, -0.5223, -0.5393, -0.5649, -0.5004, -0.5809, -0.6102, -0.8150,\n          -0.5314, -0.5409, -0.5860, -0.5612,  0.1009, -0.5911, -0.5534, -0.5728,\n          -0.5328, -0.5374, -0.5413, -0.5376, -0.6225, -0.5570, -0.5482, -0.5400])},\n {'recon_tokens': tensor([[ 8, 11, 12,  ...,  5,  4, 16],\n          [ 8, 11, 12,  ...,  5,  4, 16],\n          [ 8, 11, 12,  ...,  5,  4, 16],\n          ...,\n          [ 8, 11, 12,  ...,  5,  4, 11],\n          [ 8, 11, 12,  ...,  5,  4, 16],\n          [ 8, 11, 12,  ...,  5,  4, 16]]),\n  'tokens': tensor([[ 8, 11, 12,  ...,  5,  4, 16],\n          [ 8, 11, 12,  ...,  5,  4, 16],\n          [ 8, 11, 12,  ...,  5,  4, 16],\n          ...,\n          [ 8, 11, 12,  ...,  5,  4, 10],\n          [ 8, 11, 12,  ...,  5,  4, 16],\n          [ 8, 11, 12,  ...,  5,  4, 16]]),\n  'ddG': tensor([-0.3414, -0.2082, -0.7581, -1.7880, -0.0336, -2.1545, -0.5489, -0.3795,\n          -0.0843, -0.7770, -0.6928, -0.2751, -0.9102, -0.6185, -1.6120, -0.8081,\n          -0.1101, -1.2650, -0.9554, -0.0911, -0.4232, -0.6453, -1.3587, -2.7880,\n          -0.2125, -2.2702, -0.5372, -0.0192, -0.0665, -0.1247, -0.5706, -0.1773,\n          -1.0437, -0.5279, -0.4098, -0.4952, -0.9687, -2.5406, -2.7425, -0.9083,\n          -0.2618, -0.9641, -0.3866, -1.0788, -2.0189, -0.5137, -0.3564, -0.3705,\n          -1.0358, -0.0899, -1.4235, -0.3726, -0.4022, -1.2937, -0.6703, -1.3037,\n          -0.8284, -0.2694, -0.6017, -0.1169, -0.9404, -0.1417, -0.5976, -0.2730]),\n  'dS': tensor([0.0170, 0.0170, 0.0170, 0.0310, 0.0170, 0.0050, 0.0170, 0.0050, 0.0170,\n          0.0170, 0.0170, 0.0170, 0.0170, 0.0170, 0.0430, 0.0170, 0.0170, 0.0170,\n          0.0170, 0.0430, 0.0170, 0.0170, 0.0430, 0.0170, 0.0600, 0.0170, 0.0170,\n          0.0170, 0.0170, 0.0170, 0.0170, 0.0050, 0.0170, 0.0170, 0.0170, 0.0170,\n          0.0170, 0.0170, 0.0170, 0.0170, 0.0170, 0.0170, 0.0430, 0.0170, 0.0170,\n          0.0050, 0.0170, 0.0170, 0.0170, 0.0170, 0.0170, 0.0170, 0.0170, 0.0170,\n          0.0050, 0.0170, 0.0170, 0.0170, 0.0170, 0.0170, 0.0170, 0.0170, 0.0170,\n          0.0170]),\n  'mean': tensor([[-1.2814, -0.2012, -2.5214,  ..., -0.6758,  2.8116, -2.0859],\n          [ 1.0091,  0.8101,  0.8538,  ...,  1.7233,  0.7845,  0.2808],\n          [-0.7409, -0.3683, -3.1405,  ..., -0.3679,  2.0915, -1.6612],\n          ...,\n          [-1.3855,  0.0412, -2.6855,  ..., -1.0615,  2.9813, -2.4605],\n          [-1.3385, -0.0800, -2.9073,  ...,  0.1882,  2.2542, -1.4723],\n          [-0.5646, -0.7979, -3.6368,  ...,  0.3868,  1.6023, -0.7498]]),\n  'logvar': tensor([[ 1.4391, -2.5962, -0.7016,  ...,  1.8585, -4.0750, -2.8029],\n          [ 0.3489, -0.5978,  0.8259,  ..., -1.4643,  1.6280,  1.8373],\n          [ 1.3612, -2.1266, -0.5520,  ..., -1.7781,  2.4142,  1.7839],\n          ...,\n          [ 1.5316, -2.8749, -0.9807,  ..., -3.5770,  3.8698,  4.0978],\n          [ 1.1773, -1.7962, -0.4796,  ..., -3.0846,  4.8388,  4.7169],\n          [ 1.0013, -1.4066,  0.0631,  ...,  0.5415, -0.9040, -1.1393]]),\n  'z': tensor([[-1.2814, -0.2012, -2.5214,  ..., -0.6758,  2.8116, -2.0859],\n          [ 1.0091,  0.8101,  0.8538,  ...,  1.7233,  0.7845,  0.2808],\n          [-0.7409, -0.3683, -3.1405,  ..., -0.3679,  2.0915, -1.6612],\n          ...,\n          [-1.3855,  0.0412, -2.6855,  ..., -1.0615,  2.9813, -2.4605],\n          [-1.3385, -0.0800, -2.9073,  ...,  0.1882,  2.2542, -1.4723],\n          [-0.5646, -0.7979, -3.6368,  ...,  0.3868,  1.6023, -0.7498]]),\n  'pred_ddG': tensor([ 0.8575,  0.8384,  0.6733,  0.9000,  0.9813,  0.4137,  0.6260,  0.8161,\n           0.8564,  0.6841,  0.4312,  0.1126, -0.1484,  0.5556,  0.5828,  0.6973,\n           0.8263,  0.6885,  0.8382,  0.8593,  0.5063,  0.6353,  0.6065,  0.1402,\n           0.8206,  0.5974,  0.6449,  0.2857,  0.8388,  0.9522,  0.1523,  0.5688,\n           0.5847,  0.8070,  0.7333,  0.5633,  0.8241,  0.7287,  0.6258,  0.4034,\n           0.9098,  0.9183,  0.5968,  0.7738,  0.6569,  0.9272,  0.8549,  0.5861,\n           0.8122,  0.6716,  0.5416,  0.7909,  0.5798,  0.3191,  0.7649,  0.8792,\n           0.8646,  0.5567,  0.5903,  0.6974,  0.6157,  0.3471,  0.5952,  0.7466]),\n  'pred_dS': tensor([-0.5259, -0.5896, -0.5434, -0.7298, -0.5968, -0.7920, -0.5574, -0.9281,\n          -0.5393, -0.4607, -0.5602, -0.5442, -0.5666, -0.5315,  0.1484, -0.5545,\n          -0.5551, -0.5671, -0.5610,  0.2482, -0.5069, -0.5056,  0.3344, -0.5829,\n           0.2629, -0.5210, -0.5354, -0.5408, -0.5654, -0.6064, -0.5996, -0.8565,\n          -0.5469, -0.5624, -0.6020, -0.5524, -0.5644, -0.5354, -0.5484, -0.5313,\n          -0.5460, -0.5107,  0.1165, -0.5495, -0.5205, -0.9152, -0.3359, -0.5353,\n          -0.5715, -0.5690, -0.5578, -0.5688, -0.5755, -0.5206, -0.9277, -0.6036,\n          -0.5576, -0.5883, -0.5806, -0.5269, -0.5493, -0.5642, -0.5607, -0.5155])},\n {'recon_tokens': tensor([[ 8, 11, 12,  ...,  5,  4, 16],\n          [ 8, 11, 12,  ...,  5,  4, 16],\n          [ 8, 13, 12,  ...,  5,  4, 16],\n          ...,\n          [ 8, 19, 12,  ...,  5,  4, 16],\n          [ 8, 11, 12,  ...,  5,  4, 16],\n          [ 8, 11, 12,  ..., 22,  4, 16]]),\n  'tokens': tensor([[ 8, 11, 12,  ...,  5,  4, 16],\n          [ 8, 11, 12,  ...,  5,  4, 16],\n          [ 8, 13, 12,  ...,  5,  4, 16],\n          ...,\n          [ 8, 19, 12,  ...,  5,  4, 16],\n          [ 8, 11, 12,  ...,  5,  4, 16],\n          [ 8, 11, 12,  ..., 13,  4, 16]]),\n  'ddG': tensor([-0.0355, -1.6193, -2.0975, -2.3995, -0.5082, -0.5576, -0.4644, -0.7771,\n          -1.0641, -2.6956, -0.4687, -0.3930, -0.6195, -1.0895, -1.0510, -2.2224,\n          -2.2296, -0.5864, -0.4193, -1.6512, -2.2325, -0.4141, -0.9799, -0.8741,\n          -0.5638, -0.5021, -0.2873, -0.8470, -0.0438, -0.7995, -3.1707, -0.2448,\n          -1.5982, -0.6627, -0.4857, -0.6902, -0.2896, -1.7842, -0.0867, -1.2355,\n          -0.3202, -0.8571, -0.8690, -1.8471, -0.6410, -0.2201, -2.6626, -0.6561,\n          -0.1028, -0.6395, -4.5902, -0.0090, -0.1121, -0.7415, -1.3910, -1.3307,\n          -1.2711, -0.8121, -0.0894, -2.9869, -0.8001, -0.0336, -0.7514, -0.9843]),\n  'dS': tensor([0.0170, 0.0170, 0.0170, 0.0170, 0.0170, 0.0170, 0.0170, 0.0170, 0.0170,\n          0.0170, 0.0170, 0.0170, 0.0170, 0.0170, 0.0170, 0.0170, 0.0170, 0.0170,\n          0.0170, 0.0170, 0.0170, 0.0170, 0.0050, 0.0170, 0.0050, 0.0170, 0.0170,\n          0.0170, 0.0170, 0.0170, 0.0170, 0.0170, 0.0050, 0.0430, 0.0170, 0.0170,\n          0.0170, 0.0170, 0.0170, 0.0480, 0.0170, 0.0170, 0.0170, 0.0170, 0.0170,\n          0.0170, 0.0170, 0.0170, 0.0170, 0.0170, 0.0170, 0.0170, 0.0170, 0.0170,\n          0.0050, 0.0050, 0.0170, 0.0170, 0.0170, 0.0170, 0.0170, 0.0170, 0.0050,\n          0.0170]),\n  'mean': tensor([[ 0.0889, -0.3299, -1.8977,  ...,  0.6313,  1.5880, -0.8092],\n          [ 2.8381,  2.2134,  3.8020,  ...,  0.1269,  2.1302, -1.6180],\n          [ 3.6693,  2.9821,  4.1423,  ..., -0.3595,  1.8829, -1.4851],\n          ...,\n          [-1.0189, -0.6190, -4.0544,  ...,  1.0415,  1.5428, -0.4717],\n          [ 1.0565, -0.3726, -0.7163,  ...,  0.6855,  0.6007,  0.2722],\n          [-0.3001, -0.7236, -2.3445,  ...,  0.5991,  1.3188, -0.4133]]),\n  'logvar': tensor([[ 0.8234, -1.5240,  0.2059,  ...,  2.1874, -4.6015, -4.0550],\n          [ 1.0074, -1.9378, -0.4923,  ..., -0.9901,  0.5227,  1.0093],\n          [ 1.2598, -1.9909, -0.4536,  ...,  3.4774, -6.0532, -5.2648],\n          ...,\n          [ 0.6875, -1.2072,  0.3617,  ..., -3.3681,  4.4189,  3.9607],\n          [ 0.1876, -0.6530,  0.8972,  ...,  3.5138, -5.4414, -5.0098],\n          [ 1.0172, -1.3803,  0.1446,  ...,  0.0891, -0.9571, -0.9566]]),\n  'z': tensor([[ 0.0889, -0.3299, -1.8977,  ...,  0.6313,  1.5880, -0.8092],\n          [ 2.8381,  2.2134,  3.8020,  ...,  0.1269,  2.1302, -1.6180],\n          [ 3.6693,  2.9821,  4.1423,  ..., -0.3595,  1.8829, -1.4851],\n          ...,\n          [-1.0189, -0.6190, -4.0544,  ...,  1.0415,  1.5428, -0.4717],\n          [ 1.0565, -0.3726, -0.7163,  ...,  0.6855,  0.6007,  0.2722],\n          [-0.3001, -0.7236, -2.3445,  ...,  0.5991,  1.3188, -0.4133]]),\n  'pred_ddG': tensor([ 0.8768,  0.7327,  0.3836,  0.4956,  0.7451,  0.6257,  0.7563,  0.7997,\n           0.4713,  0.0950,  0.6942,  0.9265,  0.5127,  0.6972,  0.7091,  0.5042,\n           0.5399,  0.2052,  0.7841,  0.6196, -0.0772,  0.6994,  0.7658,  0.5201,\n           0.6771,  0.7131,  0.8571,  0.7576,  0.7660,  0.6704,  0.1125,  0.7623,\n           0.4491,  0.7444,  0.6958,  0.3911,  0.8713,  0.7003,  0.9069,  0.8039,\n           0.7245,  0.7091,  0.7921,  0.4260,  0.7243,  0.9384,  0.5298,  0.9312,\n           0.9573,  0.6928,  0.0734,  0.8566,  0.4476,  0.8997,  0.7777,  0.5251,\n           0.3783,  0.7258,  0.8442,  0.6778,  0.7715,  0.8177,  0.8858,  0.8048]),\n  'pred_dS': tensor([-0.5744, -0.5870, -0.6021, -0.5550, -0.5768, -0.4947, -0.5734, -0.5396,\n          -0.5426, -0.5473, -0.5618, -0.5434, -0.5803, -0.5763, -0.5676, -0.5544,\n          -0.5343, -0.3828, -0.6192, -0.5609, -0.5481, -0.5057, -0.8665, -0.5437,\n          -0.9213, -0.5461, -0.5636, -0.5481, -0.5676, -0.5951, -0.5502, -0.5679,\n          -0.8965,  0.2397, -0.5686, -0.5752, -0.6024, -0.5630, -0.5782, -0.4799,\n          -0.5637, -0.6134, -0.5593, -0.5504, -0.5235, -0.5386, -0.6082, -0.5564,\n          -0.6065, -0.6285, -0.5721, -0.5618, -0.5526, -0.5813, -0.8792, -0.8813,\n          -0.5323, -0.5085, -0.5417, -0.5661, -0.5684, -0.5415, -0.7145, -0.6096])},\n {'recon_tokens': tensor([[ 8,  8, 12,  ...,  5,  4, 16],\n          [ 8, 11, 12,  ...,  5,  4, 16],\n          [ 8, 11, 12,  ...,  5,  4, 16],\n          ...,\n          [ 8,  8, 12,  ...,  5,  4, 16],\n          [ 8, 11, 12,  ...,  5,  4, 16],\n          [ 8, 11, 12,  ...,  5,  4, 20]]),\n  'tokens': tensor([[ 8,  8, 12,  ...,  5,  4, 16],\n          [ 8, 11, 12,  ...,  5,  4, 16],\n          [ 8, 11, 12,  ...,  5,  4, 16],\n          ...,\n          [ 8,  8, 12,  ...,  5,  4, 16],\n          [ 8, 11, 12,  ...,  5,  4, 16],\n          [ 8, 11, 12,  ...,  5,  4, 20]]),\n  'ddG': tensor([-2.9989, -0.5866, -2.3808, -1.9081, -0.7443, -1.5080, -0.1557, -0.7344,\n          -1.3754, -0.2563, -0.7102, -0.1149, -1.0894, -0.1648, -0.1305, -0.0826,\n          -0.6660, -0.2293, -0.4188, -0.2375, -3.6821, -1.0522, -0.6458, -0.5615,\n          -2.0924, -0.3393, -1.0041, -1.4943, -1.0404, -0.6206, -0.3963, -2.9128,\n          -0.1028, -0.3624, -0.0933, -1.8810, -0.5994, -1.5717, -1.4008, -1.5404,\n          -0.1623, -0.3495, -1.5587, -0.1771, -0.5637, -0.0977, -1.0974, -0.2130,\n          -0.2802, -0.3769, -0.3445, -0.1897, -0.1615, -0.0757, -1.0993, -0.2904,\n          -1.1079, -0.2749, -0.2297, -0.3844, -1.3620, -2.2111, -1.2730, -1.1970]),\n  'dS': tensor([0.0170, 0.0170, 0.0430, 0.0170, 0.0170, 0.0050, 0.0050, 0.0170, 0.0170,\n          0.0170, 0.0430, 0.0170, 0.0170, 0.0170, 0.0170, 0.0170, 0.0170, 0.0170,\n          0.0430, 0.0170, 0.0170, 0.0170, 0.0170, 0.0170, 0.0170, 0.0170, 0.0170,\n          0.0170, 0.0170, 0.0170, 0.0170, 0.0170, 0.0170, 0.0170, 0.0170, 0.0170,\n          0.0170, 0.0170, 0.0050, 0.0050, 0.0170, 0.0170, 0.0170, 0.0430, 0.0170,\n          0.0170, 0.0170, 0.0170, 0.0170, 0.0170, 0.0170, 0.0170, 0.0170, 0.0170,\n          0.0170, 0.0170, 0.0170, 0.0310, 0.0170, 0.0170, 0.0170, 0.0600, 0.0170,\n          0.0170]),\n  'mean': tensor([[ 2.8921,  2.3647,  3.5566,  ..., -3.3283,  4.1729, -4.6756],\n          [-0.2072, -1.1236, -4.1661,  ..., -0.1229,  1.6777, -0.8086],\n          [-1.3366, -1.6131, -0.5363,  ...,  1.2901,  2.2027, -1.5620],\n          ...,\n          [-1.3218, -0.3762, -3.5567,  ...,  0.5925,  2.1217, -1.1479],\n          [-0.2288,  0.0925, -2.6260,  ...,  2.7595, -0.6543,  1.2727],\n          [-0.3848,  0.1682, -0.8596,  ..., -0.3537,  2.3606, -1.8943]]),\n  'logvar': tensor([[ 2.7603, -4.6510, -2.6649,  ..., -2.6315,  1.1101,  1.9222],\n          [ 1.0549, -1.7509,  0.1995,  ..., -0.5652, -0.6498, -0.2774],\n          [ 0.7290, -2.0023, -0.1315,  ..., -3.8857,  4.3965,  4.4423],\n          ...,\n          [ 0.8617, -1.6938, -0.0106,  ..., -3.8347,  5.2265,  5.0168],\n          [-0.6277,  0.8534,  1.0614,  ...,  3.8116, -5.8788, -5.5166],\n          [ 1.2937, -2.2655, -0.6811,  ..., -3.1097,  3.4800,  3.7265]]),\n  'z': tensor([[ 2.8921,  2.3647,  3.5566,  ..., -3.3283,  4.1729, -4.6756],\n          [-0.2072, -1.1236, -4.1661,  ..., -0.1229,  1.6777, -0.8086],\n          [-1.3366, -1.6131, -0.5363,  ...,  1.2901,  2.2027, -1.5620],\n          ...,\n          [-1.3218, -0.3762, -3.5567,  ...,  0.5925,  2.1217, -1.1479],\n          [-0.2288,  0.0925, -2.6260,  ...,  2.7595, -0.6543,  1.2727],\n          [-0.3848,  0.1682, -0.8596,  ..., -0.3537,  2.3606, -1.8943]]),\n  'pred_ddG': tensor([0.2128, 0.8153, 0.6405, 0.7526, 0.5912, 0.7637, 0.8429, 0.5654, 0.9200,\n          0.9075, 0.6768, 0.7260, 0.7695, 0.3907, 0.5387, 0.8849, 0.5944, 0.6841,\n          0.7168, 0.8380, 0.3605, 0.8968, 0.8280, 0.6654, 0.3694, 0.7209, 0.4780,\n          0.7081, 0.5435, 0.6545, 0.5989, 0.0851, 0.9090, 0.6995, 0.8858, 0.7067,\n          0.7601, 0.4935, 0.5493, 0.5476, 0.9238, 0.6762, 0.4484, 0.7649, 0.5270,\n          0.5458, 0.1951, 0.7914, 0.7817, 0.8403, 0.5402, 0.5397, 0.8647, 0.9377,\n          0.7611, 0.8264, 0.3660, 0.9224, 0.8967, 0.6561, 0.5702, 0.6969, 0.4824,\n          0.7079]),\n  'pred_dS': tensor([-0.5066, -0.5799, -0.0299, -0.5373, -0.5844, -0.9241, -0.8876, -0.4235,\n          -0.5426, -0.5259,  0.3162, -0.5477, -0.5619, -0.5178, -0.5689, -0.5469,\n          -0.5193, -0.5149,  0.3551, -0.5393, -0.5345, -0.5460, -0.5582, -0.5661,\n          -0.5375, -0.5617, -0.5837, -0.5397, -0.6161, -0.5558, -0.5270, -0.5852,\n          -0.5453, -0.5306, -0.5569, -0.6002, -0.5628, -0.5407, -0.9043, -0.8238,\n          -0.5480, -0.5378, -0.5476,  0.3155, -0.5338, -0.5579, -0.5664, -0.5336,\n          -0.5884, -0.5231, -0.3968, -0.5873, -0.5947, -0.5543, -0.5838, -0.5492,\n          -0.5552, -0.2412, -0.6266, -0.5770, -0.5674,  0.0527, -0.5586, -0.5494])},\n {'recon_tokens': tensor([[ 8, 11, 12,  ...,  5,  4, 16],\n          [ 8, 11, 12,  ...,  5,  4, 16],\n          [ 8, 13, 12,  ...,  5,  4, 16],\n          ...,\n          [15, 11, 12,  ...,  5,  4,  9],\n          [ 8, 11, 12,  ...,  5,  4, 16],\n          [ 8, 11, 12,  ...,  5,  4, 16]]),\n  'tokens': tensor([[ 8, 11, 12,  ...,  5,  4, 16],\n          [ 8, 11, 12,  ...,  5,  4, 16],\n          [ 8, 13, 12,  ...,  5,  4, 16],\n          ...,\n          [15, 11, 12,  ...,  5,  4, 10],\n          [ 8, 11, 22,  ...,  5,  4, 16],\n          [ 8, 11, 12,  ...,  5,  4, 16]]),\n  'ddG': tensor([-0.6073, -0.9505, -0.5598, -0.7502, -0.0105, -0.8633, -0.7834, -0.1403,\n          -2.5803, -1.1687, -1.4891, -0.2850, -1.7675, -1.4637, -1.3953, -0.3223,\n          -1.1953, -0.9479, -1.1139, -0.5883, -0.4834, -0.1572, -0.3028, -1.5353,\n          -0.4548, -0.0920, -0.8794, -0.6010, -1.6176, -1.6818, -1.1889, -0.6287,\n          -1.3402, -0.3765, -0.8865, -0.1631, -0.3639, -1.2833, -0.2581, -2.0490,\n          -1.7093, -0.3446, -0.4253, -0.7885, -0.0494, -0.6873, -0.0461, -0.2836,\n          -1.5274, -1.7201, -1.2825, -0.2346, -0.3345, -1.1258, -0.6277, -0.8664,\n          -3.2068, -1.1743, -1.3036, -0.1565, -0.0680, -3.8840, -0.1278, -1.9448]),\n  'dS': tensor([0.0170, 0.0170, 0.0170, 0.0430, 0.0170, 0.0170, 0.0170, 0.0170, 0.0170,\n          0.0170, 0.0170, 0.0170, 0.0170, 0.0170, 0.0170, 0.0600, 0.0170, 0.0430,\n          0.0170, 0.0170, 0.0170, 0.0310, 0.0170, 0.0170, 0.0170, 0.0170, 0.0170,\n          0.0170, 0.0170, 0.0050, 0.0430, 0.0170, 0.0170, 0.0170, 0.0170, 0.0170,\n          0.0170, 0.0170, 0.0170, 0.0170, 0.0170, 0.0170, 0.0170, 0.0170, 0.0170,\n          0.0170, 0.0170, 0.0170, 0.0170, 0.0050, 0.0170, 0.0170, 0.0170, 0.0170,\n          0.0050, 0.0170, 0.0170, 0.0170, 0.0170, 0.0170, 0.0170, 0.0170, 0.0170,\n          0.0170]),\n  'mean': tensor([[-0.9151,  0.1209, -2.5974,  ..., -0.9849,  2.8155, -2.2534],\n          [-1.4255, -0.3650, -3.2988,  ..., -0.4654,  2.6506, -2.1627],\n          [-0.9309, -0.1812, -3.1796,  ..., -0.4408,  1.9982, -1.5707],\n          ...,\n          [ 0.3222, -0.2060,  2.0956,  ...,  2.2085,  0.6755, -0.3303],\n          [-0.5674,  0.5877,  0.2313,  ..., -0.2003,  1.8896, -1.5553],\n          [ 0.0483, -0.6455, -1.0876,  ...,  4.2550, -1.7376,  2.6164]]),\n  'logvar': tensor([[ 0.8520, -2.6231, -0.7829,  ...,  1.6236, -3.5168, -3.1894],\n          [ 1.4151, -2.3217, -0.8361,  ..., -2.4517,  3.3109,  3.5601],\n          [ 0.8110, -1.6246, -0.6733,  ...,  3.0144, -4.9855, -4.7109],\n          ...,\n          [ 0.0132, -0.4380,  0.3449,  ..., -1.5834,  1.9954,  1.7305],\n          [ 0.4223, -1.2616, -0.2591,  ..., -1.3155,  1.1620,  2.0492],\n          [-1.6151,  2.3656,  1.7165,  ...,  1.4433, -1.5761, -1.9432]]),\n  'z': tensor([[-0.9151,  0.1209, -2.5974,  ..., -0.9849,  2.8155, -2.2534],\n          [-1.4255, -0.3650, -3.2988,  ..., -0.4654,  2.6506, -2.1627],\n          [-0.9309, -0.1812, -3.1796,  ..., -0.4408,  1.9982, -1.5707],\n          ...,\n          [ 0.3222, -0.2060,  2.0956,  ...,  2.2085,  0.6755, -0.3303],\n          [-0.5674,  0.5877,  0.2313,  ..., -0.2003,  1.8896, -1.5553],\n          [ 0.0483, -0.6455, -1.0876,  ...,  4.2550, -1.7376,  2.6164]]),\n  'pred_ddG': tensor([0.8427, 0.8970, 0.5319, 0.6614, 0.6434, 0.8074, 0.0805, 0.9670, 0.5515,\n          0.6358, 0.7477, 0.9045, 0.6016, 0.3927, 0.7798, 0.8767, 0.6949, 0.7523,\n          0.7277, 0.7472, 0.6058, 0.5228, 0.7507, 0.3625, 0.8519, 0.8712, 0.4095,\n          0.6510, 0.3585, 0.8307, 0.6255, 0.6132, 0.5498, 0.8163, 0.8043, 0.8684,\n          0.6844, 0.8693, 0.8480, 0.4973, 0.7558, 0.9276, 0.7372, 0.7734, 0.8742,\n          0.9235, 0.8144, 0.6045, 0.8135, 0.7262, 0.6847, 0.8937, 0.6631, 0.6291,\n          0.8467, 0.6132, 0.3224, 0.5791, 0.6018, 0.7407, 0.6566, 0.1873, 0.4963,\n          0.6815]),\n  'pred_dS': tensor([-0.5146, -0.5805, -0.5668,  0.2616, -0.5459, -0.5360, -0.5186, -0.5603,\n          -0.5092, -0.5522, -0.5130, -0.5244, -0.5468, -0.5514, -0.5186, -0.2670,\n          -0.4905, -0.1424, -0.5417, -0.5269, -0.5286, -0.4547, -0.5578, -0.6051,\n          -0.5490, -0.5506, -0.5486, -0.5768, -0.5494, -0.8770,  0.2317, -0.5569,\n          -0.5273, -0.5549, -0.5524, -0.5386, -0.6018, -0.5842, -0.5122, -0.5033,\n          -0.5502, -0.5778, -0.5156, -0.5240, -0.5551, -0.5158, -0.5523, -0.5588,\n          -0.5898, -0.8081, -0.5530, -0.5773, -0.5457, -0.5392, -0.8596, -0.5551,\n          -0.5504, -0.5609, -0.5536, -0.4008, -0.5779, -0.6077, -0.5080, -0.5534])},\n {'recon_tokens': tensor([[ 8, 11, 12,  9,  9, 16,  5, 15, 11, 18,  4, 13, 15, 18, 17, 21,  9,  5,\n            9, 13,  4, 18, 19, 16,  8,  8,  4, 21,  8, 22, 17, 19, 17, 11, 17, 12,\n           11,  9,  9, 17,  7, 16, 17, 20, 17, 17,  5,  6, 13, 15, 22,  8,  5, 18,\n            4, 15,  9, 16,  8, 15,  4,  5, 16, 20, 19, 14,  4, 16,  9, 12, 16, 17,\n            4,  9,  7, 15,  4, 16,  4, 16,  5,  4, 16],\n          [ 8,  9, 12,  9,  9, 16,  5, 15, 11, 18,  4, 13, 15, 18, 17, 21,  9,  5,\n            9, 13,  4, 18, 19, 16,  8,  8,  4,  5,  8, 22, 17, 19, 17, 11, 17, 12,\n           11,  9,  9, 17,  9, 16, 17, 20, 17, 17,  5,  6, 13, 15, 22,  8,  5, 18,\n            4, 15,  9, 16,  8, 11,  4,  5, 16, 20, 19, 14,  4, 16,  9, 12, 16, 17,\n            4, 11,  7, 15,  4, 16,  4, 16,  5,  4, 16],\n          [ 8,  9, 12,  9,  9, 16,  5, 15, 11, 18,  4, 13, 15, 18, 17, 21,  9,  5,\n            9, 13,  4, 18, 19, 16,  8,  8,  4,  5,  8, 22, 17, 19, 17, 11, 17, 12,\n           11,  9,  9, 17,  7, 16, 22, 20, 17, 15, 15,  6, 13, 15, 22,  8,  5, 18,\n            4, 15,  9, 16,  8, 15,  4,  5, 16, 20, 19, 14,  4, 16,  9, 12, 16, 17,\n            4, 11,  7, 15,  4, 16,  4, 16,  5,  4, 16],\n          [ 8, 11, 12,  9,  9, 16,  5, 15, 11, 18,  4, 13, 15, 18,  9, 13,  9,  5,\n            9, 13,  4, 18, 19, 16, 16,  8,  4,  5, 20, 22, 17, 19, 17, 11, 17, 12,\n           11,  9,  9, 17,  7, 16, 17, 20, 17, 17,  5,  6, 13, 15, 22,  8,  5, 18,\n            4, 15,  9, 16,  8, 11,  4,  5, 16, 20, 19, 14,  4, 16,  9, 12, 16, 17,\n            4, 11,  7, 15,  4, 16,  4, 16,  5,  4, 16],\n          [ 8, 11, 12,  9,  9, 16,  5, 15, 11, 18,  4, 13, 15, 18, 17, 21,  9,  5,\n            9, 13,  4, 18, 19, 16,  8, 13,  4,  5, 10, 22, 17, 19, 17, 11, 17, 12,\n           11,  9,  9, 17,  7, 16, 17, 20, 17, 17,  5,  6, 13, 15, 22,  8,  5, 18,\n            4, 15,  9, 16,  8, 11,  4,  5, 16, 20, 19, 14,  4, 16,  9, 12, 16, 17,\n            4, 11,  7, 15,  4, 16,  4, 16,  5,  4, 16],\n          [ 8, 11, 12,  9,  9, 16,  5, 15, 11, 18,  4, 13, 15, 18, 17, 21,  9,  5,\n            9, 13,  4, 18, 19, 16,  8,  8,  4,  5,  8, 22, 22, 19, 17, 11, 17, 12,\n           11,  9,  9, 17,  7, 16, 17, 20, 17, 17,  9,  6, 13, 15, 22,  8,  5, 18,\n            4, 15,  9, 16,  8,  9,  4,  5, 16, 20, 19, 14,  4, 16,  9, 12, 16, 17,\n            4, 11,  7, 15,  4, 16,  4, 16,  5,  4, 16],\n          [ 8, 11, 12,  9,  9, 16,  5, 15, 11, 18,  4, 13, 15, 18, 17, 21,  9,  5,\n            9, 13,  4, 18, 19, 16, 20,  8,  4,  5,  8, 22, 17, 19, 17, 11, 17, 12,\n           11,  9,  9, 17,  7, 16, 17, 20, 17, 17,  5,  6, 13, 15, 22,  8,  5, 18,\n            4, 15,  9, 16,  8, 11,  4,  5, 16, 20, 19, 14,  4, 16,  9, 12, 16, 17,\n            4, 11,  7, 15,  4, 16,  4, 16, 20,  4, 16],\n          [ 8, 13, 12,  9,  9, 16,  5, 15, 20, 18,  4, 13, 15, 18, 17, 21,  9,  5,\n            9, 13,  4, 18, 19, 16,  8,  8,  4,  5,  8, 22, 17, 19, 17, 11, 17, 12,\n           11,  9,  9, 17,  7, 16, 17, 20, 17, 17,  5,  6, 13, 15, 22,  8,  5, 18,\n            4, 15,  9, 16,  8, 11,  4,  5, 16, 20, 19, 14,  4, 16,  9, 12, 16, 17,\n            4, 11,  7, 15,  4, 16,  4, 16,  5,  4, 16],\n          [ 8, 13, 12,  9,  9, 16,  5, 15, 11, 18,  4, 13, 15, 18, 17, 21,  9,  5,\n            9, 13,  4, 18, 19, 16,  8,  8,  4,  9,  8, 22, 17, 19, 17, 11, 17, 12,\n           11,  9,  9, 17,  7, 16, 17, 20, 17, 17,  5,  6, 13, 15, 22,  8,  5, 18,\n            4, 15,  9, 16,  8, 11,  4,  5, 16, 20, 19, 14,  4, 16,  9, 12, 16, 17,\n            4, 11,  7, 15,  4, 16,  4, 16,  5,  4, 16]]),\n  'tokens': tensor([[ 8, 11, 12,  9,  9, 16,  5, 15, 11, 18,  4, 13, 15, 18, 17, 21,  9,  5,\n            9, 13,  4, 18, 19, 16,  8,  8,  4, 21,  8, 22, 17, 19, 17, 11, 17, 12,\n           11,  9,  9, 17,  7, 16, 17, 20, 17, 17,  5,  6, 13, 15, 22,  8,  5, 18,\n            4, 15,  9, 16,  8, 15,  4,  5, 16, 20, 19, 14,  4, 16,  9, 12, 16, 17,\n            4,  9,  7, 15,  4, 16,  4, 16,  5,  4, 16],\n          [ 8,  9, 12,  9,  9, 16,  5, 15, 11, 18,  4, 13, 15, 18, 17, 21, 15,  5,\n            9, 13,  4, 18, 19, 16,  8,  8,  4,  5,  8, 22, 17, 19, 17, 11, 17, 12,\n           11,  9,  9, 17,  9, 16, 17, 20, 17, 17,  5,  6, 13, 15, 22,  8,  5, 18,\n            4, 15,  9, 16,  8, 11,  4,  5, 16, 20, 19, 14,  4, 16,  9, 12, 16, 17,\n            4, 11,  7, 15,  4, 16,  4, 16,  5,  4, 16],\n          [ 8,  9, 12,  9,  9, 16,  5, 15, 11, 18,  4, 13, 15, 18, 17, 21,  9,  5,\n            9, 13,  4, 15, 19, 16,  8,  8,  4,  5,  8, 22, 17, 19, 17, 11, 17, 12,\n           11,  9,  9, 17,  7, 16, 15, 20, 17, 21, 19,  6, 13, 15, 22,  8,  5, 18,\n            4, 15,  9, 16,  8, 19,  4,  5, 16, 20, 19, 14,  4, 16,  9, 12, 16, 17,\n            4, 11,  7, 15,  4, 16,  4, 16,  5,  4, 16],\n          [ 8, 11, 12,  9,  9, 16,  5, 15, 11, 18,  4, 13, 15, 18,  9, 13,  9,  5,\n            9, 13,  4, 18, 19, 16, 16,  8,  4,  5, 20, 22, 17, 19, 17, 11, 17, 12,\n           11,  9,  9, 17,  7, 16, 17, 20, 17, 17,  5,  6, 13, 15, 22,  8,  5, 18,\n            4, 15,  9, 16,  8, 11,  4,  5, 16, 20, 19, 14,  4, 16,  9, 12, 16, 17,\n            4, 11,  7, 15,  4, 16,  4, 16,  5,  4, 16],\n          [ 8, 11, 12,  9,  9, 16,  5, 15, 11, 18,  4, 13, 15, 18, 17, 21,  9,  5,\n            9, 13,  4, 18, 19, 16,  8, 13,  4,  5, 10, 22, 17, 19, 17, 11, 17, 12,\n           11,  9,  9, 17,  7, 16, 17, 20, 17, 17,  5,  6, 13, 15, 22,  8,  5, 18,\n            4, 15,  9, 16,  8, 11,  4,  5, 16, 20, 19, 14,  4, 16,  9, 12, 16, 17,\n            4, 11,  7, 15,  4, 16,  4, 16,  5,  4, 16],\n          [ 8, 11, 12,  9,  9, 16,  5, 15, 11, 18,  4, 13, 15, 18, 17, 21,  9,  5,\n            9, 13,  4, 18, 19, 16,  8,  8,  4,  5,  8, 22, 22, 19, 17, 11, 17, 12,\n           11,  9,  9, 17,  7, 16, 17, 20, 17, 17,  4,  6, 13, 15, 22,  8,  5, 18,\n            4, 15,  9, 16,  8,  9,  4,  5, 16, 20, 19, 14,  4, 16,  9, 12, 16, 17,\n            4, 11,  7, 15,  4, 16,  4, 16,  5,  4, 16],\n          [ 8, 11, 12,  9,  9, 16,  5, 15, 11, 18,  4, 13, 15, 18, 17, 21,  9,  5,\n            9, 13,  4, 18, 19, 16, 20,  8,  4,  5,  8, 22, 17, 19, 17, 11, 17, 12,\n           11,  9,  9, 17,  7, 16, 17, 20, 17, 17,  5,  6,  9, 15, 22,  8,  5, 18,\n            4, 15,  9, 16,  8, 11,  4,  5, 16, 20, 19, 14,  4, 16,  9, 12, 16, 17,\n            4, 11,  7, 15,  4, 16,  4, 16,  9,  4, 16],\n          [ 8, 13, 12,  9,  9, 16,  5, 15, 20, 18,  4, 13, 15, 18, 17, 21,  9,  5,\n            9, 13,  4, 18, 19, 16,  8,  8,  4,  5,  8, 22, 17, 19, 17, 11, 17, 12,\n           11,  9,  9, 17,  7, 16, 17, 20, 17, 17,  5,  6, 13, 15, 22,  8,  5, 18,\n            4, 15,  9, 16,  8, 11,  6,  5, 16, 20, 19, 14,  4, 16,  9, 12, 16, 17,\n            4, 11,  7, 15,  4, 16,  4, 16,  5,  4, 16],\n          [ 8, 13, 12,  9,  9, 16,  5, 15, 11, 18,  4, 13, 15, 18, 17, 21,  9,  5,\n            9, 13,  4, 18, 19, 16,  8,  8,  4,  9,  8, 22, 17, 19, 17, 11, 17, 12,\n           11,  9,  9, 17,  7, 16, 17, 20, 17, 17,  5,  6, 13, 15, 22,  8,  5, 18,\n            4, 15,  9, 16,  8, 11,  4,  5, 16, 20, 19, 14,  4, 16,  9, 12, 16, 17,\n            4, 11,  7, 15,  4, 16,  4, 16,  5,  4, 16]]),\n  'ddG': tensor([-1.1431, -0.8414, -1.0857, -0.7078, -0.4275, -1.6738, -1.9267, -1.3416,\n          -1.8427]),\n  'dS': tensor([0.0050, 0.0170, 0.0050, 0.0170, 0.0170, 0.0170, 0.0170, 0.0170, 0.0170]),\n  'mean': tensor([[-0.7908, -0.5389, -2.1436,  ..., -1.4611,  3.1585, -2.2742],\n          [-1.3754, -0.6917, -2.5950,  ...,  2.8448, -0.2371,  0.6266],\n          [-1.4443,  0.5926, -2.1407,  ...,  2.1262,  1.1045,  0.0344],\n          ...,\n          [-0.4876, -0.3010, -3.0277,  ...,  0.8968,  1.3056, -0.4998],\n          [-1.0910, -0.7153, -3.6912,  ..., -1.1878,  2.8143, -2.5472],\n          [-1.0663, -0.4785, -3.2747,  ..., -0.0390,  1.7600, -1.2120]]),\n  'logvar': tensor([[ 2.2262, -2.8566, -0.8818,  ..., -0.9765,  1.3188,  1.6848],\n          [-1.1742,  1.2078,  0.6557,  ..., -1.6927,  1.6847,  2.0456],\n          [-0.1745, -0.0602,  0.6572,  ...,  1.2173, -2.3887, -1.8399],\n          ...,\n          [ 0.8872, -1.1479,  0.1268,  ..., -0.9634,  2.4265,  1.4471],\n          [ 1.3485, -2.5860, -1.0877,  ...,  1.3043, -4.0692, -2.9144],\n          [ 1.1946, -1.7082, -0.3273,  ...,  3.2552, -5.3555, -5.0434]]),\n  'z': tensor([[-0.7908, -0.5389, -2.1436,  ..., -1.4611,  3.1585, -2.2742],\n          [-1.3754, -0.6917, -2.5950,  ...,  2.8448, -0.2371,  0.6266],\n          [-1.4443,  0.5926, -2.1407,  ...,  2.1262,  1.1045,  0.0344],\n          ...,\n          [-0.4876, -0.3010, -3.0277,  ...,  0.8968,  1.3056, -0.4998],\n          [-1.0910, -0.7153, -3.6912,  ..., -1.1878,  2.8143, -2.5472],\n          [-1.0663, -0.4785, -3.2747,  ..., -0.0390,  1.7600, -1.2120]]),\n  'pred_ddG': tensor([0.4269, 0.6930, 0.4954, 0.9020, 0.6551, 0.5002, 0.4177, 0.3426, 0.2265]),\n  'pred_dS': tensor([-0.9094, -0.5712, -0.7090, -0.5005, -0.5254, -0.5426, -0.5698, -0.4689,\n          -0.5891])}]"
     },
     "execution_count": 20,
     "metadata": {},
     "output_type": "execute_result"
    }
   ],
   "source": [
    "pl_data_module.prepare_predict_data(predict_data='test')\n",
    "predictions = trainer.predict(model=pl_model, datamodule=pl_data_module)\n",
    "predictions"
   ],
   "metadata": {
    "collapsed": false,
    "ExecuteTime": {
     "end_time": "2023-11-26T19:13:33.478369Z",
     "start_time": "2023-11-26T19:13:32.430024200Z"
    }
   }
  },
  {
   "cell_type": "code",
   "execution_count": 20,
   "outputs": [],
   "source": [],
   "metadata": {
    "collapsed": false,
    "ExecuteTime": {
     "end_time": "2023-11-26T19:13:33.490450500Z",
     "start_time": "2023-11-26T19:13:33.477361700Z"
    }
   }
  },
  {
   "cell_type": "code",
   "execution_count": 20,
   "outputs": [],
   "source": [],
   "metadata": {
    "collapsed": false,
    "ExecuteTime": {
     "end_time": "2023-11-26T19:13:33.490450500Z",
     "start_time": "2023-11-26T19:13:33.485453200Z"
    }
   }
  },
  {
   "cell_type": "code",
   "execution_count": 20,
   "outputs": [],
   "source": [],
   "metadata": {
    "collapsed": false,
    "ExecuteTime": {
     "end_time": "2023-11-26T19:13:33.490450500Z",
     "start_time": "2023-11-26T19:13:33.486447600Z"
    }
   }
  },
  {
   "cell_type": "code",
   "execution_count": 20,
   "outputs": [],
   "source": [],
   "metadata": {
    "collapsed": false,
    "ExecuteTime": {
     "end_time": "2023-11-26T19:13:33.503576400Z",
     "start_time": "2023-11-26T19:13:33.490450500Z"
    }
   }
  },
  {
   "cell_type": "code",
   "execution_count": 20,
   "outputs": [],
   "source": [],
   "metadata": {
    "collapsed": false,
    "ExecuteTime": {
     "end_time": "2023-11-26T19:13:33.549994500Z",
     "start_time": "2023-11-26T19:13:33.495452400Z"
    }
   }
  }
 ],
 "metadata": {
  "kernelspec": {
   "name": "conda-env-deco-py",
   "language": "python",
   "display_name": "Python [conda env:deco]"
  },
  "language_info": {
   "codemirror_mode": {
    "name": "ipython",
    "version": 2
   },
   "file_extension": ".py",
   "mimetype": "text/x-python",
   "name": "python",
   "nbconvert_exporter": "python",
   "pygments_lexer": "ipython2",
   "version": "2.7.6"
  }
 },
 "nbformat": 4,
 "nbformat_minor": 0
}
