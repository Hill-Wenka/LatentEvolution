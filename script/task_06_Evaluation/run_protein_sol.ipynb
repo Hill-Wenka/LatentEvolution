{
 "cells": [
  {
   "cell_type": "code",
   "execution_count": 1,
   "id": "initial_id",
   "metadata": {
    "collapsed": true,
    "ExecuteTime": {
     "end_time": "2023-11-08T16:40:48.043196Z",
     "start_time": "2023-11-08T16:40:47.887454300Z"
    }
   },
   "outputs": [
    {
     "name": "stdout",
     "output_type": "stream",
     "text": [
      "/home/hew/python/LatentEvolution\n",
      "\u001B[0m\u001B[01;34mcache\u001B[0m/  \u001B[01;34mdata\u001B[0m/  \u001B[01;34mframework\u001B[0m/  main.py  \u001B[01;34mmolecules\u001B[0m/  rotabase.txt  \u001B[01;34mscript\u001B[0m/  \u001B[01;34mtemp\u001B[0m/\r\n"
     ]
    }
   ],
   "source": [
    "%load_ext autoreload\n",
    "%autoreload 2\n",
    "%cd \"python/LatentEvolution\"\n",
    "%ls"
   ]
  },
  {
   "cell_type": "code",
   "execution_count": 2,
   "outputs": [
    {
     "name": "stdout",
     "output_type": "stream",
     "text": [
      "========== add root_path and framework_path to sys.path ==========\n",
      "root_path: /home/hew/python/LatentEvolution\n",
      "framework_path: /home/hew/python/LatentEvolution/framework\n",
      "==================================================================\n"
     ]
    },
    {
     "data": {
      "text/plain": "{'path_dataset': '/home/hew/python/data/', 'root': '/home/hew/python/LatentEvolution/', 'data': '/home/hew/python/LatentEvolution/data/', 'script': '/home/hew/python/LatentEvolution/script/', 'temp': '/home/hew/python/LatentEvolution/temp/', 'cache': '/home/hew/python/LatentEvolution/cache/', 'framework': '/home/hew/python/LatentEvolution/framework/', 'config': '/home/hew/python/LatentEvolution/framework/config/', 'module': '/home/hew/python/LatentEvolution/framework/module/', 'utils': '/home/hew/python/LatentEvolution/framework/utils/'}"
     },
     "execution_count": 2,
     "metadata": {},
     "output_type": "execute_result"
    }
   ],
   "source": [
    "import os\n",
    "from framework.utils.file.write_utils import write_fasta\n",
    "from framework.utils.lightning.device_utils import seed_everything\n",
    "from framework import paths\n",
    "from framework.tool.ProteinSol import ProteinSolWrapper\n",
    "\n",
    "paths"
   ],
   "metadata": {
    "collapsed": false,
    "ExecuteTime": {
     "end_time": "2023-11-08T16:40:49.673237500Z",
     "start_time": "2023-11-08T16:40:48.043196Z"
    }
   },
   "id": "f887ef580940b03"
  },
  {
   "cell_type": "code",
   "execution_count": 2,
   "outputs": [],
   "source": [],
   "metadata": {
    "collapsed": false,
    "ExecuteTime": {
     "end_time": "2023-11-08T16:40:49.681176400Z",
     "start_time": "2023-11-08T16:40:49.673237500Z"
    }
   },
   "id": "3bafa9ec78911894"
  },
  {
   "cell_type": "code",
   "execution_count": 3,
   "outputs": [
    {
     "data": {
      "text/plain": "'/home/hew/python/LatentEvolution/temp/protein_sol_output/'"
     },
     "execution_count": 3,
     "metadata": {},
     "output_type": "execute_result"
    }
   ],
   "source": [
    "base_dir = '/home/hew/python/LatentEvolution/framework/tool/ProteinSol/'\n",
    "output_dir = os.path.join(paths.temp, 'protein_sol_output', '')\n",
    "output_dir"
   ],
   "metadata": {
    "collapsed": false,
    "ExecuteTime": {
     "end_time": "2023-11-08T16:40:49.705831400Z",
     "start_time": "2023-11-08T16:40:49.680177Z"
    }
   },
   "id": "91388ca4e526e079"
  },
  {
   "cell_type": "code",
   "execution_count": 4,
   "outputs": [
    {
     "name": "stderr",
     "output_type": "stream",
     "text": [
      "Global seed set to 42\n"
     ]
    }
   ],
   "source": [
    "seed_everything(42)  # for reproducibility\n",
    "ProteinSol = ProteinSolWrapper(output_dir)"
   ],
   "metadata": {
    "collapsed": false,
    "ExecuteTime": {
     "end_time": "2023-11-08T16:40:49.825950100Z",
     "start_time": "2023-11-08T16:40:49.756074300Z"
    }
   },
   "id": "e55a7051c9d2f737"
  },
  {
   "cell_type": "code",
   "execution_count": 5,
   "outputs": [
    {
     "data": {
      "text/plain": "('STIEEQAKTFLDKFNHEAEDLFYQSSLASWNYNTNITEENVQNMNNAGDKWSAFLKEQSTLAQMYPLQEIQNLTVKLQLQALQ',\n 'STIEEQAKPFLDKFNHEAEDLFYQHSLASWNYNTNITEENVQNMNNAGDKWSAFLKEQSTLAQMYPLQEIQNLTVKLQLQALQ',\n 'STIEEQAKTFLDKFNHEAEDLFYQSSLASWNYNTNITEENIQNMNNAGDKWSAFLKEASTLAQMYPLQEIQNLTVKLQLQALQ')"
     },
     "execution_count": 5,
     "metadata": {},
     "output_type": "execute_result"
    }
   ],
   "source": [
    "wt_seq = 'STIEEQAKTFLDKFNHEAEDLFYQSSLASWNYNTNITEENVQNMNNAGDKWSAFLKEQSTLAQMYPLQEIQNLTVKLQLQALQ'  # 0.0, 0.0\n",
    "mt_seq_1 = 'STIEEQAKPFLDKFNHEAEDLFYQHSLASWNYNTNITEENVQNMNNAGDKWSAFLKEQSTLAQMYPLQEIQNLTVKLQLQALQ'  # 3.1066,-0.012\n",
    "mt_seq_2 = 'STIEEQAKTFLDKFNHEAEDLFYQSSLASWNYNTNITEENIQNMNNAGDKWSAFLKEASTLAQMYPLQEIQNLTVKLQLQALQ'  # -0.7219,0.0\n",
    "wt_seq, mt_seq_1, mt_seq_2"
   ],
   "metadata": {
    "collapsed": false,
    "ExecuteTime": {
     "end_time": "2023-11-08T16:40:49.884873400Z",
     "start_time": "2023-11-08T16:40:49.794067400Z"
    }
   },
   "id": "a64649f88c604f08"
  },
  {
   "cell_type": "code",
   "execution_count": 6,
   "outputs": [
    {
     "data": {
      "text/plain": "'/home/hew/python/LatentEvolution/temp/protein_sol_output/predict_sequences.fasta'"
     },
     "execution_count": 6,
     "metadata": {},
     "output_type": "execute_result"
    }
   ],
   "source": [
    "fasta_path = os.path.join(output_dir, 'predict_sequences.fasta')\n",
    "write_fasta(fasta_path, [wt_seq, mt_seq_1, mt_seq_2])\n",
    "fasta_path"
   ],
   "metadata": {
    "collapsed": false,
    "ExecuteTime": {
     "end_time": "2023-11-08T16:40:49.971540900Z",
     "start_time": "2023-11-08T16:40:49.876873600Z"
    }
   },
   "id": "afbe233336aa07c9"
  },
  {
   "cell_type": "code",
   "execution_count": 7,
   "outputs": [
    {
     "name": "stdout",
     "output_type": "stream",
     "text": [
      "command: cd /home/hew/python/LatentEvolution/framework/tool/ProteinSol/protein-sol/ && /home/hew/python/LatentEvolution/framework/tool/ProteinSol/protein-sol/multiple_prediction_wrapper_export.sh /home/hew/python/LatentEvolution/temp/protein_sol_output/predict_sequences.fasta\n"
     ]
    },
    {
     "data": {
      "text/plain": "0"
     },
     "execution_count": 7,
     "metadata": {},
     "output_type": "execute_result"
    }
   ],
   "source": [
    "ProteinSol.predict_solubility(fasta_path)"
   ],
   "metadata": {
    "collapsed": false,
    "ExecuteTime": {
     "end_time": "2023-11-08T16:40:50.365168900Z",
     "start_time": "2023-11-08T16:40:49.971540900Z"
    }
   },
   "id": "37dc4e7729cd4619"
  },
  {
   "cell_type": "code",
   "execution_count": 8,
   "outputs": [
    {
     "data": {
      "text/plain": "array([0.764, 0.752, 0.764])"
     },
     "execution_count": 8,
     "metadata": {},
     "output_type": "execute_result"
    }
   ],
   "source": [
    "predict_solubility = ProteinSol.read_results()\n",
    "predict_solubility"
   ],
   "metadata": {
    "collapsed": false,
    "ExecuteTime": {
     "end_time": "2023-11-08T16:40:50.406659500Z",
     "start_time": "2023-11-08T16:40:50.365168900Z"
    }
   },
   "id": "a262f86171ee544a"
  },
  {
   "cell_type": "code",
   "execution_count": 8,
   "outputs": [],
   "source": [],
   "metadata": {
    "collapsed": false,
    "ExecuteTime": {
     "end_time": "2023-11-08T16:40:50.406659500Z",
     "start_time": "2023-11-08T16:40:50.400670400Z"
    }
   },
   "id": "99563291f4752baf"
  },
  {
   "cell_type": "code",
   "execution_count": 8,
   "outputs": [],
   "source": [],
   "metadata": {
    "collapsed": false,
    "ExecuteTime": {
     "end_time": "2023-11-08T16:40:50.406659500Z",
     "start_time": "2023-11-08T16:40:50.405659500Z"
    }
   },
   "id": "ed34cf82449b1a8f"
  }
 ],
 "metadata": {
  "kernelspec": {
   "name": "conda-env-AggNet-py",
   "language": "python",
   "display_name": "Python [conda env:AggNet]"
  },
  "language_info": {
   "codemirror_mode": {
    "name": "ipython",
    "version": 2
   },
   "file_extension": ".py",
   "mimetype": "text/x-python",
   "name": "python",
   "nbconvert_exporter": "python",
   "pygments_lexer": "ipython2",
   "version": "2.7.6"
  }
 },
 "nbformat": 4,
 "nbformat_minor": 5
}
