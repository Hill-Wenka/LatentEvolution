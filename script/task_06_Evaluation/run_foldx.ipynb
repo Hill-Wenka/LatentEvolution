{
 "cells": [
  {
   "cell_type": "code",
   "execution_count": 1,
   "id": "initial_id",
   "metadata": {
    "collapsed": true,
    "ExecuteTime": {
     "end_time": "2023-11-08T15:36:13.607828700Z",
     "start_time": "2023-11-08T15:36:13.451306500Z"
    }
   },
   "outputs": [
    {
     "name": "stdout",
     "output_type": "stream",
     "text": [
      "/home/hew/python/LatentEvolution\n",
      "\u001B[0m\u001B[01;34mcache\u001B[0m/  \u001B[01;34mdata\u001B[0m/  \u001B[01;34mframework\u001B[0m/  main.py  \u001B[01;34mmolecules\u001B[0m/  rotabase.txt  \u001B[01;34mscript\u001B[0m/  \u001B[01;34mtemp\u001B[0m/\r\n"
     ]
    }
   ],
   "source": [
    "%load_ext autoreload\n",
    "%autoreload 2\n",
    "%cd \"python/LatentEvolution\"\n",
    "%ls"
   ]
  },
  {
   "cell_type": "code",
   "execution_count": 2,
   "outputs": [
    {
     "name": "stdout",
     "output_type": "stream",
     "text": [
      "========== add root_path and framework_path to sys.path ==========\n",
      "root_path: /home/hew/python/LatentEvolution\n",
      "framework_path: /home/hew/python/LatentEvolution/framework\n",
      "==================================================================\n"
     ]
    },
    {
     "data": {
      "text/plain": "{'path_dataset': '/home/hew/python/data/', 'root': '/home/hew/python/LatentEvolution/', 'data': '/home/hew/python/LatentEvolution/data/', 'script': '/home/hew/python/LatentEvolution/script/', 'temp': '/home/hew/python/LatentEvolution/temp/', 'cache': '/home/hew/python/LatentEvolution/cache/', 'framework': '/home/hew/python/LatentEvolution/framework/', 'config': '/home/hew/python/LatentEvolution/framework/config/', 'module': '/home/hew/python/LatentEvolution/framework/module/', 'utils': '/home/hew/python/LatentEvolution/framework/utils/'}"
     },
     "execution_count": 2,
     "metadata": {},
     "output_type": "execute_result"
    }
   ],
   "source": [
    "import os\n",
    "\n",
    "from framework import paths\n",
    "from framework.tool.FoldX import FoldXWrapper, read_mutation_results\n",
    "from framework.utils.lightning.device_utils import seed_everything\n",
    "\n",
    "paths"
   ],
   "metadata": {
    "collapsed": false,
    "ExecuteTime": {
     "end_time": "2023-11-08T15:36:15.283613500Z",
     "start_time": "2023-11-08T15:36:13.607828700Z"
    }
   },
   "id": "f7c90c59b880263b"
  },
  {
   "cell_type": "code",
   "execution_count": 3,
   "outputs": [
    {
     "data": {
      "text/plain": "'/home/hew/python/LatentEvolution/temp/foldx_output/'"
     },
     "execution_count": 3,
     "metadata": {},
     "output_type": "execute_result"
    }
   ],
   "source": [
    "base_dir = '/home/hew/python/LatentEvolution/framework/tool/FoldX/'\n",
    "run_name = 'foldx_output'\n",
    "output_dir = os.path.join(paths.temp, run_name, '')\n",
    "numberOfRuns = 5\n",
    "num_cpu = 25\n",
    "output_dir"
   ],
   "metadata": {
    "collapsed": false,
    "ExecuteTime": {
     "end_time": "2023-11-08T15:36:15.318376800Z",
     "start_time": "2023-11-08T15:36:15.283613500Z"
    }
   },
   "id": "b5cca770d8409505"
  },
  {
   "cell_type": "code",
   "execution_count": 4,
   "outputs": [
    {
     "name": "stderr",
     "output_type": "stream",
     "text": [
      "Global seed set to 42\n"
     ]
    }
   ],
   "source": [
    "seed_everything(42)  # for reproducibility\n",
    "foldx = FoldXWrapper(output_dir, numberOfRuns=numberOfRuns, num_cpu=num_cpu)"
   ],
   "metadata": {
    "collapsed": false,
    "ExecuteTime": {
     "end_time": "2023-11-08T15:36:15.414746900Z",
     "start_time": "2023-11-08T15:36:15.362698300Z"
    }
   },
   "id": "3fb855cf9ddc8115"
  },
  {
   "cell_type": "code",
   "execution_count": 5,
   "outputs": [
    {
     "data": {
      "text/plain": "('STIEEQAKTFLDKFNHEAEDLFYQSSLASWNYNTNITEENVQNMNNAGDKWSAFLKEQSTLAQMYPLQEIQNLTVKLQLQALQ',\n 'STIEEQAKPFLDKFNHEAEDLFYQHSLASWNYNTNITEENVQNMNNAGDKWSAFLKEQSTLAQMYPLQEIQNLTVKLQLQALQ',\n 'STIEEQAKTFLDKFNHEAEDLFYQSSLASWNYNTNITEENIQNMNNAGDKWSAFLKEASTLAQMYPLQEIQNLTVKLQLQALQ')"
     },
     "execution_count": 5,
     "metadata": {},
     "output_type": "execute_result"
    }
   ],
   "source": [
    "wt_seq = 'STIEEQAKTFLDKFNHEAEDLFYQSSLASWNYNTNITEENVQNMNNAGDKWSAFLKEQSTLAQMYPLQEIQNLTVKLQLQALQ'  # 0.0, 0.0\n",
    "mt_seq_1 = 'STIEEQAKPFLDKFNHEAEDLFYQHSLASWNYNTNITEENVQNMNNAGDKWSAFLKEQSTLAQMYPLQEIQNLTVKLQLQALQ'  # 3.1066,-0.012\n",
    "mt_seq_2 = 'STIEEQAKTFLDKFNHEAEDLFYQSSLASWNYNTNITEENIQNMNNAGDKWSAFLKEASTLAQMYPLQEIQNLTVKLQLQALQ'  # -0.7219,0.0\n",
    "wt_seq, mt_seq_1, mt_seq_2"
   ],
   "metadata": {
    "collapsed": false,
    "ExecuteTime": {
     "end_time": "2023-11-08T15:36:15.495738100Z",
     "start_time": "2023-11-08T15:36:15.413747700Z"
    }
   },
   "id": "e299e31661d58db7"
  },
  {
   "cell_type": "code",
   "execution_count": 6,
   "outputs": [
    {
     "name": "stdout",
     "output_type": "stream",
     "text": [
      "The path does not exist, makedir: /home/hew/python/LatentEvolution/temp/foldx_output/wt-mt1-v1: Success\n",
      "The path does not exist, makedir: /home/hew/python/LatentEvolution/temp/foldx_output/wt-mt2-v1: Success\n",
      "Number of finished before running: 0/2\n",
      "/home/hew/python/LatentEvolution/framework/tool/FoldX/foldx_20231231 -c BuildModel --numberOfRuns 5 --pdb=6lzg_Repair.pdb --mutant-file=/home/hew/python/LatentEvolution/temp/foldx_output/wt-mt1-v1/individual_list.txt --output-dir=/home/hew/python/LatentEvolution/temp/foldx_output/wt-mt1-v1/ --pdb-dir=/home/hew/python/LatentEvolution/script/task_04_evaluation/\n",
      "/home/hew/python/LatentEvolution/framework/tool/FoldX/foldx_20231231 -c BuildModel --numberOfRuns 5 --pdb=6lzg_Repair.pdb --mutant-file=/home/hew/python/LatentEvolution/temp/foldx_output/wt-mt2-v1/individual_list.txt --output-dir=/home/hew/python/LatentEvolution/temp/foldx_output/wt-mt2-v1/ --pdb-dir=/home/hew/python/LatentEvolution/script/task_04_evaluation/\n"
     ]
    },
    {
     "data": {
      "text/plain": "True"
     },
     "execution_count": 6,
     "metadata": {},
     "output_type": "execute_result"
    }
   ],
   "source": [
    "mt_seqs = [mt_seq_1, mt_seq_2]\n",
    "job_names = ['wt-mt1-v1', 'wt-mt2-v1']\n",
    "pdb_dir = '/home/hew/python/LatentEvolution/script/task_06_evaluation/'\n",
    "wt_pdb = '6lzg_Repair.pdb'\n",
    "foldx.build_mutation_model(wt_seqs=wt_seq, wt_pdbs=wt_pdb, mt_seqs=mt_seqs, pdb_dir=pdb_dir,\n",
    "                           job_names=job_names, offset=18)"
   ],
   "metadata": {
    "collapsed": false,
    "ExecuteTime": {
     "end_time": "2023-11-08T15:37:40.776625300Z",
     "start_time": "2023-11-08T15:36:15.499730600Z"
    }
   },
   "id": "c747b52ab4cffb6"
  },
  {
   "cell_type": "code",
   "execution_count": 7,
   "outputs": [
    {
     "data": {
      "text/plain": "             Pdb        SD  total energy  Backbone Hbond  Sidechain Hbond  \\\n0  6lzg_Repair_1  0.120516       3.02265         1.51792         0.941796   \n\n   Van der Waals  Electrostatics  Solvation Polar  Solvation Hydrophobic  \\\n0      -0.763315        0.044603         0.119602               -1.58403   \n\n   Van der Waals clashes  ...  cis_bond  torsional clash  backbone clash  \\\n0                2.78657  ...         0         0.000857        -1.88239   \n\n   helix dipole  water bridge  disulfide  electrostatic kon  \\\n0     -0.002306             0          0           0.000007   \n\n   partial covalent bonds  energy Ionisation  Entropy Complex  \n0                       0           0.121505                0  \n\n[1 rows x 24 columns]",
      "text/html": "<div>\n<style scoped>\n    .dataframe tbody tr th:only-of-type {\n        vertical-align: middle;\n    }\n\n    .dataframe tbody tr th {\n        vertical-align: top;\n    }\n\n    .dataframe thead th {\n        text-align: right;\n    }\n</style>\n<table border=\"1\" class=\"dataframe\">\n  <thead>\n    <tr style=\"text-align: right;\">\n      <th></th>\n      <th>Pdb</th>\n      <th>SD</th>\n      <th>total energy</th>\n      <th>Backbone Hbond</th>\n      <th>Sidechain Hbond</th>\n      <th>Van der Waals</th>\n      <th>Electrostatics</th>\n      <th>Solvation Polar</th>\n      <th>Solvation Hydrophobic</th>\n      <th>Van der Waals clashes</th>\n      <th>...</th>\n      <th>cis_bond</th>\n      <th>torsional clash</th>\n      <th>backbone clash</th>\n      <th>helix dipole</th>\n      <th>water bridge</th>\n      <th>disulfide</th>\n      <th>electrostatic kon</th>\n      <th>partial covalent bonds</th>\n      <th>energy Ionisation</th>\n      <th>Entropy Complex</th>\n    </tr>\n  </thead>\n  <tbody>\n    <tr>\n      <th>0</th>\n      <td>6lzg_Repair_1</td>\n      <td>0.120516</td>\n      <td>3.02265</td>\n      <td>1.51792</td>\n      <td>0.941796</td>\n      <td>-0.763315</td>\n      <td>0.044603</td>\n      <td>0.119602</td>\n      <td>-1.58403</td>\n      <td>2.78657</td>\n      <td>...</td>\n      <td>0</td>\n      <td>0.000857</td>\n      <td>-1.88239</td>\n      <td>-0.002306</td>\n      <td>0</td>\n      <td>0</td>\n      <td>0.000007</td>\n      <td>0</td>\n      <td>0.121505</td>\n      <td>0</td>\n    </tr>\n  </tbody>\n</table>\n<p>1 rows × 24 columns</p>\n</div>"
     },
     "execution_count": 7,
     "metadata": {},
     "output_type": "execute_result"
    }
   ],
   "source": [
    "read_mutation_results(job_name=job_names[0], output_dir=output_dir)"
   ],
   "metadata": {
    "collapsed": false,
    "ExecuteTime": {
     "end_time": "2023-11-08T15:37:40.834859600Z",
     "start_time": "2023-11-08T15:37:40.771203300Z"
    }
   },
   "id": "557cc7804db579ce"
  },
  {
   "cell_type": "code",
   "execution_count": 8,
   "outputs": [
    {
     "data": {
      "text/plain": "             Pdb        SD  total energy  Backbone Hbond  Sidechain Hbond  \\\n0  6lzg_Repair_1  0.034457     -0.754472        0.091934         -0.00745   \n\n   Van der Waals  Electrostatics  Solvation Polar  Solvation Hydrophobic  \\\n0       0.628801        0.002513         -0.84361               0.502772   \n\n   Van der Waals clashes  ...  cis_bond  torsional clash  backbone clash  \\\n0              -0.020355  ...         0        -0.007276       -0.080347   \n\n   helix dipole  water bridge  disulfide  electrostatic kon  \\\n0     -0.004969             0          0      -4.440890e-17   \n\n   partial covalent bonds  energy Ionisation  Entropy Complex  \n0                       0                  0                0  \n\n[1 rows x 24 columns]",
      "text/html": "<div>\n<style scoped>\n    .dataframe tbody tr th:only-of-type {\n        vertical-align: middle;\n    }\n\n    .dataframe tbody tr th {\n        vertical-align: top;\n    }\n\n    .dataframe thead th {\n        text-align: right;\n    }\n</style>\n<table border=\"1\" class=\"dataframe\">\n  <thead>\n    <tr style=\"text-align: right;\">\n      <th></th>\n      <th>Pdb</th>\n      <th>SD</th>\n      <th>total energy</th>\n      <th>Backbone Hbond</th>\n      <th>Sidechain Hbond</th>\n      <th>Van der Waals</th>\n      <th>Electrostatics</th>\n      <th>Solvation Polar</th>\n      <th>Solvation Hydrophobic</th>\n      <th>Van der Waals clashes</th>\n      <th>...</th>\n      <th>cis_bond</th>\n      <th>torsional clash</th>\n      <th>backbone clash</th>\n      <th>helix dipole</th>\n      <th>water bridge</th>\n      <th>disulfide</th>\n      <th>electrostatic kon</th>\n      <th>partial covalent bonds</th>\n      <th>energy Ionisation</th>\n      <th>Entropy Complex</th>\n    </tr>\n  </thead>\n  <tbody>\n    <tr>\n      <th>0</th>\n      <td>6lzg_Repair_1</td>\n      <td>0.034457</td>\n      <td>-0.754472</td>\n      <td>0.091934</td>\n      <td>-0.00745</td>\n      <td>0.628801</td>\n      <td>0.002513</td>\n      <td>-0.84361</td>\n      <td>0.502772</td>\n      <td>-0.020355</td>\n      <td>...</td>\n      <td>0</td>\n      <td>-0.007276</td>\n      <td>-0.080347</td>\n      <td>-0.004969</td>\n      <td>0</td>\n      <td>0</td>\n      <td>-4.440890e-17</td>\n      <td>0</td>\n      <td>0</td>\n      <td>0</td>\n    </tr>\n  </tbody>\n</table>\n<p>1 rows × 24 columns</p>\n</div>"
     },
     "execution_count": 8,
     "metadata": {},
     "output_type": "execute_result"
    }
   ],
   "source": [
    "read_mutation_results(job_name=job_names[1], output_dir=output_dir)"
   ],
   "metadata": {
    "collapsed": false,
    "ExecuteTime": {
     "end_time": "2023-11-08T15:37:40.908862500Z",
     "start_time": "2023-11-08T15:37:40.824092300Z"
    }
   },
   "id": "d23929fb6d03c373"
  },
  {
   "cell_type": "code",
   "execution_count": 8,
   "outputs": [],
   "source": [],
   "metadata": {
    "collapsed": false,
    "ExecuteTime": {
     "end_time": "2023-11-08T15:37:40.932863800Z",
     "start_time": "2023-11-08T15:37:40.910862400Z"
    }
   },
   "id": "bffd9e7029caf396"
  },
  {
   "cell_type": "code",
   "execution_count": 8,
   "outputs": [],
   "source": [],
   "metadata": {
    "collapsed": false,
    "ExecuteTime": {
     "end_time": "2023-11-08T15:37:40.932863800Z",
     "start_time": "2023-11-08T15:37:40.910862400Z"
    }
   },
   "id": "9d8443b0e906efad"
  },
  {
   "cell_type": "code",
   "execution_count": 8,
   "outputs": [],
   "source": [],
   "metadata": {
    "collapsed": false,
    "ExecuteTime": {
     "end_time": "2023-11-08T15:37:40.932863800Z",
     "start_time": "2023-11-08T15:37:40.920864500Z"
    }
   },
   "id": "7a122231d01f6613"
  }
 ],
 "metadata": {
  "kernelspec": {
   "name": "conda-env-AggNet-py",
   "language": "python",
   "display_name": "Python [conda env:AggNet]"
  },
  "language_info": {
   "codemirror_mode": {
    "name": "ipython",
    "version": 2
   },
   "file_extension": ".py",
   "mimetype": "text/x-python",
   "name": "python",
   "nbconvert_exporter": "python",
   "pygments_lexer": "ipython2",
   "version": "2.7.6"
  }
 },
 "nbformat": 4,
 "nbformat_minor": 5
}
