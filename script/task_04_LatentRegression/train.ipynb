{
 "cells": [
  {
   "cell_type": "code",
   "execution_count": 1,
   "outputs": [
    {
     "name": "stdout",
     "output_type": "stream",
     "text": [
      "/home/hew/python/LatentEvolution\n",
      "\u001B[0m\u001B[01;34mcache\u001B[0m/  \u001B[01;34mdata\u001B[0m/  \u001B[01;34mfigure\u001B[0m/  \u001B[01;34mframework\u001B[0m/  main.py  \u001B[01;34mscript\u001B[0m/  \u001B[01;34mtemp\u001B[0m/\r\n"
     ]
    }
   ],
   "source": [
    "%load_ext autoreload\n",
    "%autoreload 2\n",
    "%cd \"python/LatentEvolution\"\n",
    "%ls"
   ],
   "metadata": {
    "collapsed": false,
    "ExecuteTime": {
     "end_time": "2023-11-14T19:41:46.234660200Z",
     "start_time": "2023-11-14T19:41:46.046531400Z"
    }
   }
  },
  {
   "cell_type": "code",
   "execution_count": 1,
   "outputs": [],
   "source": [],
   "metadata": {
    "collapsed": false,
    "ExecuteTime": {
     "end_time": "2023-11-14T19:41:46.242344Z",
     "start_time": "2023-11-14T19:41:46.234660200Z"
    }
   }
  },
  {
   "cell_type": "code",
   "execution_count": 2,
   "outputs": [
    {
     "name": "stdout",
     "output_type": "stream",
     "text": [
      "========== add root_path and framework_path to sys.path ==========\n",
      "root_path: /home/hew/python/LatentEvolution\n",
      "framework_path: /home/hew/python/LatentEvolution/framework\n",
      "==================================================================\n"
     ]
    }
   ],
   "source": [
    "import gc\n",
    "\n",
    "import torch\n",
    "\n",
    "from framework.config import parse_config, paths\n",
    "from framework.utils.lightning.device_utils import seed_everything\n",
    "from framework.utils.lightning.trainer_utils import get_pl_trainer\n",
    "from script.task_04_LatentRegression.LatentRegression.sequence_data_module import SequenceDataModule\n",
    "from script.task_04_LatentRegression.LatentRegression.sequence_lightning_module import SequenceLightningModule"
   ],
   "metadata": {
    "collapsed": false,
    "ExecuteTime": {
     "end_time": "2023-11-14T19:41:49.126092800Z",
     "start_time": "2023-11-14T19:41:46.239663700Z"
    }
   }
  },
  {
   "cell_type": "code",
   "execution_count": 3,
   "outputs": [],
   "source": [
    "update_dict = {\n",
    "    'project': 'LatentRegression',\n",
    "    'seed': 42,\n",
    "    'logger': {\n",
    "        'save_dir': './script/task_04_LatentRegression/'\n",
    "    },\n",
    "    'data': {\n",
    "        'dataset': 'ACE2_latent_variants',\n",
    "        'data_class': 'Protein',\n",
    "        'mini_set_ratio': None,\n",
    "        'max_len': 83,\n",
    "    },\n",
    "    'hparams': {\n",
    "        'mlp_params': {\n",
    "            # 'hiddens': [128, 64, 32, 2],\n",
    "            'hiddens': [1360, 256, 2],\n",
    "            'activation': 'ReLU',\n",
    "            'batch_norm': False,\n",
    "            'bias': True,\n",
    "            'dropout': 0.,\n",
    "        },\n",
    "    },\n",
    "    'loss': {\n",
    "        'mse_loss': {'name': 'MSELoss', 'args': {}},\n",
    "    },\n",
    "    'optimizer': {\n",
    "        'name': 'Adam',\n",
    "        # 'name': 'RAdam',\n",
    "        # 'name': 'AdamW',\n",
    "        'args': {\n",
    "            # 'lr': 0.001,\n",
    "            'lr': 0.0005,\n",
    "            # 'lr': 0.0002,\n",
    "            # 'lr': 0.0001,\n",
    "        }\n",
    "    },\n",
    "    'scheduler': {\n",
    "        # 'name': None,\n",
    "        # 'args': {},\n",
    "        'name': 'LinearLR',\n",
    "        'interval': 'step',\n",
    "        'frequency': 1,\n",
    "        'args': {\n",
    "            'start_factor': 1,\n",
    "            'end_factor': 0.1,\n",
    "            'total_iters': 25 * 50\n",
    "        },\n",
    "    },\n",
    "    'trainer': {\n",
    "        'max_epochs': 50,\n",
    "        'gradient_clip_val': 1.0,\n",
    "        'gradient_clip_algorithm': 'norm',\n",
    "        'accumulate_grad_batches': 1,\n",
    "        'num_sanity_val_steps': 2,\n",
    "        'val_check_interval': 0.5,\n",
    "        'enable_checkpointing': True,\n",
    "        # 'enable_checkpointing': False,\n",
    "    },\n",
    "    'early_stop_callback': {\n",
    "        'monitor': 'valid/loss_epoch',\n",
    "        'mode': 'min',\n",
    "    },\n",
    "    'ckpt_callback': {\n",
    "        'monitor': 'valid/loss_epoch',\n",
    "        'filename': 'epoch={epoch:02d}, loss={valid/loss_epoch:.3f}, ddG={valid/ddG_pearsonr_epoch:.3f}, dS={valid/dS_pearsonr_epoch:.3f}, avg={valid/avg_pearsonr_epoch:.3f}',\n",
    "        'auto_insert_metric_name': False,\n",
    "        'save_weights_only': True,\n",
    "        'mode': 'min',\n",
    "        'save_top_k': 50,\n",
    "        'save_last': True,\n",
    "    },\n",
    "    # 'ckpt_callback': None,\n",
    "    'train_dataloader': {\n",
    "        # 'batch_size': 128,\n",
    "        'batch_size': 64,\n",
    "        'num_workers': 4,\n",
    "        'drop_last': True,\n",
    "    },\n",
    "    'valid_dataloader': {\n",
    "        # 'batch_size': 128,\n",
    "        'batch_size': 64,\n",
    "        'num_workers': 4,\n",
    "    },\n",
    "    'test_dataloader': {\n",
    "        # 'batch_size': 128,\n",
    "        'batch_size': 64,\n",
    "        'num_workers': 4,\n",
    "    },\n",
    "    'predict_dataloader': {\n",
    "        # 'batch_size': 128,\n",
    "        'batch_size': 64,\n",
    "        'num_workers': 4,\n",
    "    },\n",
    "}\n",
    "dataset_hparams = paths.script + '/task_04_LatentRegression/LatentRegression/dataset.yaml'\n",
    "model_hparams = paths.script + '/task_04_LatentRegression/LatentRegression/model.yaml'\n",
    "framework_hparams = paths.script + '/task_04_LatentRegression/LatentRegression/framework.yaml'\n",
    "args = parse_config([dataset_hparams, model_hparams, framework_hparams, update_dict])"
   ],
   "metadata": {
    "collapsed": false,
    "ExecuteTime": {
     "end_time": "2023-11-14T19:41:49.291224600Z",
     "start_time": "2023-11-14T19:41:49.136788200Z"
    }
   }
  },
  {
   "cell_type": "code",
   "execution_count": 4,
   "outputs": [
    {
     "data": {
      "text/plain": "{'project': 'LatentRegression', 'dataset': 'template', 'model': '/home/hew/python/LatentEvolution/framework/config/model/template.yaml', 'seed': 42, 'tokenization': {'alphabet': 'ESM-1b', 'truncation_seq_length': None}, 'train_dataloader': {'batch_size': 64, 'num_workers': 4, 'shuffle': True, 'drop_last': True, 'pin_memory': True, 'persistent_workers': True}, 'valid_dataloader': {'batch_size': 64, 'num_workers': 4, 'shuffle': False, 'pin_memory': True, 'persistent_workers': True}, 'test_dataloader': {'batch_size': 64, 'num_workers': 4, 'shuffle': False, 'pin_memory': True, 'persistent_workers': True}, 'predict_dataloader': {'batch_size': 64, 'num_workers': 4, 'shuffle': False, 'pin_memory': True, 'persistent_workers': True}, 'trainer': {'max_epochs': 50, 'accelerator': 'auto', 'strategy': 'auto', 'devices': 'auto', 'deterministic': False, 'benchmark': True, 'sync_batchnorm': True, 'log_every_n_steps': 1, 'check_val_every_n_epoch': 1, 'fast_dev_run': False, 'num_sanity_val_steps': 2, 'enable_model_summary': True, 'reload_dataloaders_every_n_epochs': 0, 'gradient_clip_val': 1.0, 'gradient_clip_algorithm': 'norm', 'enable_checkpointing': True, 'accumulate_grad_batches': 1, 'val_check_interval': 0.5}, 'logger': {'save_dir': './script/task_04_LatentRegression/', 'name': 'lightning_logs'}, 'progress_bar_callback': {'refresh_rate': 1, 'process_position': 0}, 'ckpt_callback': {'monitor': 'valid/loss_epoch', 'filename': 'epoch={epoch:02d}, loss={valid/loss_epoch:.3f}, ddG={valid/ddG_pearsonr_epoch:.3f}, dS={valid/dS_pearsonr_epoch:.3f}, avg={valid/avg_pearsonr_epoch:.3f}', 'auto_insert_metric_name': False, 'save_weights_only': True, 'mode': 'min', 'save_top_k': 50, 'save_last': True}, 'early_stop_callback': {'monitor': 'valid/loss_epoch', 'min_delta': 0.01, 'patience': 200, 'mode': 'min'}, 'swa_callback': None, 'xlsx_output_format': {'general_format': {'align': 'center', 'valign': 'vcenter'}, 'number_format': {'num_format': '#,##0.0000', 'align': 'center', 'valign': 'vcenter'}}, 'nni': {'auto_ml': False, 'metric': 'AUC', 'use_best': True}, 'data': {'dataset': 'ACE2_latent_variants', 'sequence_length': 83, 'mini_set_ratio': None, 'data_class': 'Protein', 'lazy_load': False, 'train_ratio': 0.7, 'valid_ratio': 0.1, 'test_ratio': 0.2, 'split_valid': None, 'label': 'ddG', 'max_len': 83}, 'hparams': {'mlp_params': {'hiddens': [1360, 256, 2], 'activation': 'ReLU', 'batch_norm': False, 'bias': True, 'dropout': 0.0}}, 'optimizer': {'name': 'Adam', 'args': {'lr': 0.0005, 'weight_decay': 0}}, 'scheduler': {'name': 'LinearLR', 'args': {'start_factor': 1, 'end_factor': 0.1, 'total_iters': 1250}, 'interval': 'step', 'frequency': 1}, 'loss': {'mse_loss': {'name': 'MSELoss', 'args': {}}}, '-f': None, '/home/hew/': {'local/share/jupyter/runtime/kernel-b472ecde-a1d3-4341-9602-0b214723bc0f': {'json': None}}}"
     },
     "execution_count": 4,
     "metadata": {},
     "output_type": "execute_result"
    }
   ],
   "source": [
    "args"
   ],
   "metadata": {
    "collapsed": false,
    "ExecuteTime": {
     "end_time": "2023-11-14T19:41:49.330644900Z",
     "start_time": "2023-11-14T19:41:49.301584Z"
    }
   }
  },
  {
   "cell_type": "code",
   "execution_count": 4,
   "outputs": [],
   "source": [],
   "metadata": {
    "collapsed": false,
    "ExecuteTime": {
     "end_time": "2023-11-14T19:41:49.340749500Z",
     "start_time": "2023-11-14T19:41:49.333069Z"
    }
   }
  },
  {
   "cell_type": "code",
   "execution_count": 5,
   "outputs": [
    {
     "name": "stderr",
     "output_type": "stream",
     "text": [
      "Global seed set to 42\n"
     ]
    },
    {
     "name": "stdout",
     "output_type": "stream",
     "text": [
      "============================== PeptideDataModule __init__ Start ==============================\n",
      "============================== PeptideDataModule __init__ End ==============================\n",
      "CPU times: user 0 ns, sys: 4.07 ms, total: 4.07 ms\n",
      "Wall time: 3.05 ms\n"
     ]
    }
   ],
   "source": [
    "%%time\n",
    "seed_everything(args.seed)\n",
    "pl_data_module = SequenceDataModule(args)"
   ],
   "metadata": {
    "collapsed": false,
    "ExecuteTime": {
     "end_time": "2023-11-14T19:41:49.416914500Z",
     "start_time": "2023-11-14T19:41:49.382615500Z"
    }
   }
  },
  {
   "cell_type": "code",
   "execution_count": 6,
   "outputs": [
    {
     "name": "stdout",
     "output_type": "stream",
     "text": [
      "============================== prepare_data: mode[train] Start ==============================\n",
      "============================== prepare_dataset Start ==============================\n",
      "<<<<<<<<<<<<<<<<<<<<<<<<<<<<<< load data according to selected index >>>>>>>>>>>>>>>>>>>>>>>>>>>>>>\n"
     ]
    },
    {
     "data": {
      "text/plain": "  0%|          | 0/2404 [00:00<?, ?it/s]",
      "application/vnd.jupyter.widget-view+json": {
       "version_major": 2,
       "version_minor": 0,
       "model_id": "aebd03b577534227afe0147bd5990335"
      }
     },
     "metadata": {},
     "output_type": "display_data"
    },
    {
     "name": "stdout",
     "output_type": "stream",
     "text": [
      "the dataset has not been partitioned, split dataset with specific ratio\n",
      "dataframe partition values:\n",
      "train    1661\n",
      "test      521\n",
      "valid     222\n",
      "Name: partition, dtype: int64\n",
      "select the subset for debug, max_len: 83, ratio: 1, number: 2404\n",
      "============================== prepare_dataset End ==============================\n",
      "len(self.train_dataset) 1661\n",
      "len(self.valid_dataset) 222\n",
      "len(self.test_dataset) 521\n",
      "============================== prepare_data mode[train] End ==============================\n",
      "============================== Setup [fit] Start ==============================\n",
      "[len self.train_dataset] 1661\n",
      "[len self.val_dataset] 222\n",
      "============================== Setup [fit] End ==============================\n",
      "============================== Setup [test] Start ==============================\n",
      "[len self.test_dataset] 521\n",
      "============================== Setup [test] End ==============================\n",
      "CPU times: user 892 ms, sys: 373 ms, total: 1.27 s\n",
      "Wall time: 1.31 s\n"
     ]
    }
   ],
   "source": [
    "%%time\n",
    "pl_data_module.prepare_data('train')\n",
    "pl_data_module.setup('fit')\n",
    "pl_data_module.setup('test')"
   ],
   "metadata": {
    "collapsed": false,
    "ExecuteTime": {
     "end_time": "2023-11-14T19:41:50.796182200Z",
     "start_time": "2023-11-14T19:41:49.414914300Z"
    }
   }
  },
  {
   "cell_type": "code",
   "execution_count": 7,
   "outputs": [
    {
     "data": {
      "text/plain": "     index  name partition  length  \\\n0        0     0     train      83   \n1        1     1     train      83   \n2       10    10     train      83   \n3      100   100     train      83   \n4     1000  1000     train      83   \n...    ...   ...       ...     ...   \n2399   995   995      test      83   \n2400   996   996      test      83   \n2401   997   997      test      83   \n2402   998   998      test      83   \n2403   999   999      test      83   \n\n                                               sequence structure graph  \\\n0     STIEEQAKTFLDKFNHEAEDLFYQSSLASWNYNTNITEENVQNMNN...      None  None   \n1     STIEEQAKTFLDKFNHEAEDLFYQSSLASWNYNTNITEENVQNMNN...      None  None   \n2     STIEEQAKTFLDKFNHEAEDLFYQSSLARWNYNTNITEENVQNMNN...      None  None   \n3     STIEEQAKTFLDKFNHEAEDLFYQSSMAFWNYNTNITEENVQNMNN...      None  None   \n4     STIEEQAKTFLDKFNHEAEDLFYQSSLASWNYNTNITEENVQNDNN...      None  None   \n...                                                 ...       ...   ...   \n2399  SEIEEQAKTFLDKFNHEAEDLFYQSSLASWKYNTNITEENVQNMNN...      None  None   \n2400  SEIEEQAKTFLDKFNHEAEDLYYQSSLASWNYNTNITEENVQNMNN...      None  None   \n2401  STIEEQAKTFLDKFNHEAEDLFYQSSLASWNYNTNITEENVQNMNN...      None  None   \n2402  STIEEQAMTFLDKFKHEAEDLYYQSSLASWNYNTNITEENVQNMNN...      None  None   \n2403  STIEEQAKTFLDKFNHEAEDLQYQSSLRWWNYNTNITEENVQNMNN...      None  None   \n\n         dS     ddG                bins  \n0     0.017 -2.4635    (-2.483, -2.457]  \n1     0.017 -0.0984  (-0.0997, -0.0964]  \n2     0.017 -0.7424    (-0.748, -0.742]  \n3     0.017 -1.1378     (-1.14, -1.128]  \n4     0.017 -1.3581     (-1.359, -1.35]  \n...     ...     ...                 ...  \n2399  0.017 -0.0430  (-0.0474, -0.0426]  \n2400  0.060 -1.1875    (-1.189, -1.172]  \n2401  0.017 -0.3152      (-0.32, -0.31]  \n2402  0.017 -1.0239    (-1.029, -1.021]  \n2403  0.017 -0.2081    (-0.212, -0.207]  \n\n[2404 rows x 10 columns]",
      "text/html": "<div>\n<style scoped>\n    .dataframe tbody tr th:only-of-type {\n        vertical-align: middle;\n    }\n\n    .dataframe tbody tr th {\n        vertical-align: top;\n    }\n\n    .dataframe thead th {\n        text-align: right;\n    }\n</style>\n<table border=\"1\" class=\"dataframe\">\n  <thead>\n    <tr style=\"text-align: right;\">\n      <th></th>\n      <th>index</th>\n      <th>name</th>\n      <th>partition</th>\n      <th>length</th>\n      <th>sequence</th>\n      <th>structure</th>\n      <th>graph</th>\n      <th>dS</th>\n      <th>ddG</th>\n      <th>bins</th>\n    </tr>\n  </thead>\n  <tbody>\n    <tr>\n      <th>0</th>\n      <td>0</td>\n      <td>0</td>\n      <td>train</td>\n      <td>83</td>\n      <td>STIEEQAKTFLDKFNHEAEDLFYQSSLASWNYNTNITEENVQNMNN...</td>\n      <td>None</td>\n      <td>None</td>\n      <td>0.017</td>\n      <td>-2.4635</td>\n      <td>(-2.483, -2.457]</td>\n    </tr>\n    <tr>\n      <th>1</th>\n      <td>1</td>\n      <td>1</td>\n      <td>train</td>\n      <td>83</td>\n      <td>STIEEQAKTFLDKFNHEAEDLFYQSSLASWNYNTNITEENVQNMNN...</td>\n      <td>None</td>\n      <td>None</td>\n      <td>0.017</td>\n      <td>-0.0984</td>\n      <td>(-0.0997, -0.0964]</td>\n    </tr>\n    <tr>\n      <th>2</th>\n      <td>10</td>\n      <td>10</td>\n      <td>train</td>\n      <td>83</td>\n      <td>STIEEQAKTFLDKFNHEAEDLFYQSSLARWNYNTNITEENVQNMNN...</td>\n      <td>None</td>\n      <td>None</td>\n      <td>0.017</td>\n      <td>-0.7424</td>\n      <td>(-0.748, -0.742]</td>\n    </tr>\n    <tr>\n      <th>3</th>\n      <td>100</td>\n      <td>100</td>\n      <td>train</td>\n      <td>83</td>\n      <td>STIEEQAKTFLDKFNHEAEDLFYQSSMAFWNYNTNITEENVQNMNN...</td>\n      <td>None</td>\n      <td>None</td>\n      <td>0.017</td>\n      <td>-1.1378</td>\n      <td>(-1.14, -1.128]</td>\n    </tr>\n    <tr>\n      <th>4</th>\n      <td>1000</td>\n      <td>1000</td>\n      <td>train</td>\n      <td>83</td>\n      <td>STIEEQAKTFLDKFNHEAEDLFYQSSLASWNYNTNITEENVQNDNN...</td>\n      <td>None</td>\n      <td>None</td>\n      <td>0.017</td>\n      <td>-1.3581</td>\n      <td>(-1.359, -1.35]</td>\n    </tr>\n    <tr>\n      <th>...</th>\n      <td>...</td>\n      <td>...</td>\n      <td>...</td>\n      <td>...</td>\n      <td>...</td>\n      <td>...</td>\n      <td>...</td>\n      <td>...</td>\n      <td>...</td>\n      <td>...</td>\n    </tr>\n    <tr>\n      <th>2399</th>\n      <td>995</td>\n      <td>995</td>\n      <td>test</td>\n      <td>83</td>\n      <td>SEIEEQAKTFLDKFNHEAEDLFYQSSLASWKYNTNITEENVQNMNN...</td>\n      <td>None</td>\n      <td>None</td>\n      <td>0.017</td>\n      <td>-0.0430</td>\n      <td>(-0.0474, -0.0426]</td>\n    </tr>\n    <tr>\n      <th>2400</th>\n      <td>996</td>\n      <td>996</td>\n      <td>test</td>\n      <td>83</td>\n      <td>SEIEEQAKTFLDKFNHEAEDLYYQSSLASWNYNTNITEENVQNMNN...</td>\n      <td>None</td>\n      <td>None</td>\n      <td>0.060</td>\n      <td>-1.1875</td>\n      <td>(-1.189, -1.172]</td>\n    </tr>\n    <tr>\n      <th>2401</th>\n      <td>997</td>\n      <td>997</td>\n      <td>test</td>\n      <td>83</td>\n      <td>STIEEQAKTFLDKFNHEAEDLFYQSSLASWNYNTNITEENVQNMNN...</td>\n      <td>None</td>\n      <td>None</td>\n      <td>0.017</td>\n      <td>-0.3152</td>\n      <td>(-0.32, -0.31]</td>\n    </tr>\n    <tr>\n      <th>2402</th>\n      <td>998</td>\n      <td>998</td>\n      <td>test</td>\n      <td>83</td>\n      <td>STIEEQAMTFLDKFKHEAEDLYYQSSLASWNYNTNITEENVQNMNN...</td>\n      <td>None</td>\n      <td>None</td>\n      <td>0.017</td>\n      <td>-1.0239</td>\n      <td>(-1.029, -1.021]</td>\n    </tr>\n    <tr>\n      <th>2403</th>\n      <td>999</td>\n      <td>999</td>\n      <td>test</td>\n      <td>83</td>\n      <td>STIEEQAKTFLDKFNHEAEDLQYQSSLRWWNYNTNITEENVQNMNN...</td>\n      <td>None</td>\n      <td>None</td>\n      <td>0.017</td>\n      <td>-0.2081</td>\n      <td>(-0.212, -0.207]</td>\n    </tr>\n  </tbody>\n</table>\n<p>2404 rows × 10 columns</p>\n</div>"
     },
     "execution_count": 7,
     "metadata": {},
     "output_type": "execute_result"
    }
   ],
   "source": [
    "pl_data_module.dataframe"
   ],
   "metadata": {
    "collapsed": false,
    "ExecuteTime": {
     "end_time": "2023-11-14T19:41:50.845408100Z",
     "start_time": "2023-11-14T19:41:50.796182200Z"
    }
   }
  },
  {
   "cell_type": "code",
   "execution_count": 8,
   "outputs": [
    {
     "data": {
      "text/plain": "(torch.Size([64, 85]),\n torch.Size([64, 1360]),\n torch.Size([64]),\n torch.Size([64]))"
     },
     "execution_count": 8,
     "metadata": {},
     "output_type": "execute_result"
    }
   ],
   "source": [
    "batch_tokens, batch_features, batch_ddG, batch_dS = next(iter(pl_data_module.train_dataloader()))\n",
    "batch_tokens.shape, batch_features.shape, batch_ddG.shape, batch_dS.shape"
   ],
   "metadata": {
    "collapsed": false,
    "ExecuteTime": {
     "end_time": "2023-11-14T19:41:52.508677600Z",
     "start_time": "2023-11-14T19:41:50.896503Z"
    }
   }
  },
  {
   "cell_type": "code",
   "execution_count": 8,
   "outputs": [],
   "source": [],
   "metadata": {
    "collapsed": false,
    "ExecuteTime": {
     "end_time": "2023-11-14T19:41:52.516318100Z",
     "start_time": "2023-11-14T19:41:52.505679Z"
    }
   }
  },
  {
   "cell_type": "code",
   "execution_count": 9,
   "outputs": [
    {
     "name": "stderr",
     "output_type": "stream",
     "text": [
      "Global seed set to 42\n",
      "GPU available: True (cuda), used: True\n",
      "TPU available: False, using: 0 TPU cores\n",
      "IPU available: False, using: 0 IPUs\n",
      "HPU available: False, using: 0 HPUs\n"
     ]
    },
    {
     "name": "stdout",
     "output_type": "stream",
     "text": [
      "CPU times: user 129 ms, sys: 36.4 ms, total: 166 ms\n",
      "Wall time: 168 ms\n"
     ]
    }
   ],
   "source": [
    "%%time\n",
    "seed_everything(args.seed)\n",
    "pl_model = SequenceLightningModule(args)\n",
    "\n",
    "trainer = get_pl_trainer(args)"
   ],
   "metadata": {
    "collapsed": false,
    "ExecuteTime": {
     "end_time": "2023-11-14T19:41:52.739095900Z",
     "start_time": "2023-11-14T19:41:52.516318100Z"
    }
   }
  },
  {
   "cell_type": "code",
   "execution_count": 10,
   "outputs": [
    {
     "data": {
      "text/plain": "Net(\n  (mlp): MLP(\n    (mlp): Sequential(\n      (0): Linear(in_features=1360, out_features=256, bias=True)\n      (1): ReLU()\n      (2): Linear(in_features=256, out_features=2, bias=True)\n    )\n  )\n)"
     },
     "execution_count": 10,
     "metadata": {},
     "output_type": "execute_result"
    }
   ],
   "source": [
    "pl_model.model"
   ],
   "metadata": {
    "collapsed": false,
    "ExecuteTime": {
     "end_time": "2023-11-14T19:41:52.771562200Z",
     "start_time": "2023-11-14T19:41:52.733108500Z"
    }
   }
  },
  {
   "cell_type": "code",
   "execution_count": 11,
   "outputs": [],
   "source": [
    "gc.collect()\n",
    "torch.cuda.empty_cache()"
   ],
   "metadata": {
    "collapsed": false,
    "ExecuteTime": {
     "end_time": "2023-11-14T19:41:53.011673200Z",
     "start_time": "2023-11-14T19:41:52.823748Z"
    }
   }
  },
  {
   "cell_type": "code",
   "execution_count": null,
   "outputs": [
    {
     "name": "stderr",
     "output_type": "stream",
     "text": [
      "Missing logger folder: ./script/task_04_LatentRegression/lightning_logs\n",
      "LOCAL_RANK: 0 - CUDA_VISIBLE_DEVICES: [0]\n",
      "\n",
      "  | Name     | Type    | Params\n",
      "-------------------------------------\n",
      "0 | model    | Net     | 348 K \n",
      "1 | mse_loss | MSELoss | 0     \n",
      "-------------------------------------\n",
      "348 K     Trainable params\n",
      "0         Non-trainable params\n",
      "348 K     Total params\n",
      "1.396     Total estimated model params size (MB)\n"
     ]
    },
    {
     "name": "stdout",
     "output_type": "stream",
     "text": [
      "============================== prepare_data: mode[train] Start ==============================\n",
      "len(self.train_dataset) 1661\n",
      "len(self.valid_dataset) 222\n",
      "len(self.test_dataset) 521\n",
      "============================== prepare_data mode[train] End ==============================\n",
      "============================== prepare_data: mode[None] Start ==============================\n",
      "============================== prepare_data has been invoked, mode=None ==============================\n",
      "============================== prepare_data mode[None] End ==============================\n",
      "============================== Setup [fit] Start ==============================\n",
      "[len self.train_dataset] 1661\n",
      "[len self.val_dataset] 222\n",
      "============================== Setup [fit] End ==============================\n"
     ]
    },
    {
     "data": {
      "text/plain": "Sanity Checking: 0it [00:00, ?it/s]",
      "application/vnd.jupyter.widget-view+json": {
       "version_major": 2,
       "version_minor": 0,
       "model_id": "3654d8141ebe4d829b9d2a54c1b27035"
      }
     },
     "metadata": {},
     "output_type": "display_data"
    },
    {
     "data": {
      "text/plain": "Training: 0it [00:00, ?it/s]",
      "application/vnd.jupyter.widget-view+json": {
       "version_major": 2,
       "version_minor": 0,
       "model_id": "5d370d71c70f45a5ba7f2feb847a9c79"
      }
     },
     "metadata": {},
     "output_type": "display_data"
    },
    {
     "data": {
      "text/plain": "Validation: 0it [00:00, ?it/s]",
      "application/vnd.jupyter.widget-view+json": {
       "version_major": 2,
       "version_minor": 0,
       "model_id": "fdff775782c4464c8c3b2595865876cf"
      }
     },
     "metadata": {},
     "output_type": "display_data"
    },
    {
     "data": {
      "text/plain": "Validation: 0it [00:00, ?it/s]",
      "application/vnd.jupyter.widget-view+json": {
       "version_major": 2,
       "version_minor": 0,
       "model_id": "065bad7433304f628314e11a394e48c3"
      }
     },
     "metadata": {},
     "output_type": "display_data"
    },
    {
     "data": {
      "text/plain": "Validation: 0it [00:00, ?it/s]",
      "application/vnd.jupyter.widget-view+json": {
       "version_major": 2,
       "version_minor": 0,
       "model_id": "1b6afe5abb8f4f80b876ed47a3a9ac63"
      }
     },
     "metadata": {},
     "output_type": "display_data"
    },
    {
     "data": {
      "text/plain": "Validation: 0it [00:00, ?it/s]",
      "application/vnd.jupyter.widget-view+json": {
       "version_major": 2,
       "version_minor": 0,
       "model_id": "ad37298bf6484a488ef24c3e8177a611"
      }
     },
     "metadata": {},
     "output_type": "display_data"
    },
    {
     "data": {
      "text/plain": "Validation: 0it [00:00, ?it/s]",
      "application/vnd.jupyter.widget-view+json": {
       "version_major": 2,
       "version_minor": 0,
       "model_id": "760b437d646847d1b26000a72d3552c3"
      }
     },
     "metadata": {},
     "output_type": "display_data"
    },
    {
     "data": {
      "text/plain": "Validation: 0it [00:00, ?it/s]",
      "application/vnd.jupyter.widget-view+json": {
       "version_major": 2,
       "version_minor": 0,
       "model_id": "0afc76cef3ba4c8db8964883347bbd96"
      }
     },
     "metadata": {},
     "output_type": "display_data"
    },
    {
     "data": {
      "text/plain": "Validation: 0it [00:00, ?it/s]",
      "application/vnd.jupyter.widget-view+json": {
       "version_major": 2,
       "version_minor": 0,
       "model_id": "dacb3648c599474fb4945e8c87f44b10"
      }
     },
     "metadata": {},
     "output_type": "display_data"
    },
    {
     "data": {
      "text/plain": "Validation: 0it [00:00, ?it/s]",
      "application/vnd.jupyter.widget-view+json": {
       "version_major": 2,
       "version_minor": 0,
       "model_id": "9378ccebebf34c1faa7885b944cf81e6"
      }
     },
     "metadata": {},
     "output_type": "display_data"
    },
    {
     "data": {
      "text/plain": "Validation: 0it [00:00, ?it/s]",
      "application/vnd.jupyter.widget-view+json": {
       "version_major": 2,
       "version_minor": 0,
       "model_id": "c25965a2c8214467908ebee970ab4197"
      }
     },
     "metadata": {},
     "output_type": "display_data"
    },
    {
     "data": {
      "text/plain": "Validation: 0it [00:00, ?it/s]",
      "application/vnd.jupyter.widget-view+json": {
       "version_major": 2,
       "version_minor": 0,
       "model_id": "44020fc23af446a8a9735518d1fb222b"
      }
     },
     "metadata": {},
     "output_type": "display_data"
    },
    {
     "data": {
      "text/plain": "Validation: 0it [00:00, ?it/s]",
      "application/vnd.jupyter.widget-view+json": {
       "version_major": 2,
       "version_minor": 0,
       "model_id": "d82e564b88ca4fbc8da38a7128b5a12f"
      }
     },
     "metadata": {},
     "output_type": "display_data"
    },
    {
     "data": {
      "text/plain": "Validation: 0it [00:00, ?it/s]",
      "application/vnd.jupyter.widget-view+json": {
       "version_major": 2,
       "version_minor": 0,
       "model_id": "45c8dc9f4e5f4c74ab2a969dd722b4bb"
      }
     },
     "metadata": {},
     "output_type": "display_data"
    },
    {
     "data": {
      "text/plain": "Validation: 0it [00:00, ?it/s]",
      "application/vnd.jupyter.widget-view+json": {
       "version_major": 2,
       "version_minor": 0,
       "model_id": "bcbc5b2a179b4a84a1cf91117a9430b6"
      }
     },
     "metadata": {},
     "output_type": "display_data"
    },
    {
     "data": {
      "text/plain": "Validation: 0it [00:00, ?it/s]",
      "application/vnd.jupyter.widget-view+json": {
       "version_major": 2,
       "version_minor": 0,
       "model_id": "e6aa7e701acc42e880c25a3213a1a282"
      }
     },
     "metadata": {},
     "output_type": "display_data"
    },
    {
     "data": {
      "text/plain": "Validation: 0it [00:00, ?it/s]",
      "application/vnd.jupyter.widget-view+json": {
       "version_major": 2,
       "version_minor": 0,
       "model_id": "1e04d7aeda314175a0f712c161e55149"
      }
     },
     "metadata": {},
     "output_type": "display_data"
    },
    {
     "data": {
      "text/plain": "Validation: 0it [00:00, ?it/s]",
      "application/vnd.jupyter.widget-view+json": {
       "version_major": 2,
       "version_minor": 0,
       "model_id": "c9fcf2cd3e224641b027db60f5ce8ada"
      }
     },
     "metadata": {},
     "output_type": "display_data"
    },
    {
     "data": {
      "text/plain": "Validation: 0it [00:00, ?it/s]",
      "application/vnd.jupyter.widget-view+json": {
       "version_major": 2,
       "version_minor": 0,
       "model_id": "e9c1b91b4e824cce8e918dd92230c06c"
      }
     },
     "metadata": {},
     "output_type": "display_data"
    },
    {
     "data": {
      "text/plain": "Validation: 0it [00:00, ?it/s]",
      "application/vnd.jupyter.widget-view+json": {
       "version_major": 2,
       "version_minor": 0,
       "model_id": "bd5dfdbd5a844ad082621d0c113d4685"
      }
     },
     "metadata": {},
     "output_type": "display_data"
    },
    {
     "data": {
      "text/plain": "Validation: 0it [00:00, ?it/s]",
      "application/vnd.jupyter.widget-view+json": {
       "version_major": 2,
       "version_minor": 0,
       "model_id": "0cb1506987ae4e95af7c28b5da83e176"
      }
     },
     "metadata": {},
     "output_type": "display_data"
    },
    {
     "data": {
      "text/plain": "Validation: 0it [00:00, ?it/s]",
      "application/vnd.jupyter.widget-view+json": {
       "version_major": 2,
       "version_minor": 0,
       "model_id": "04a7e6960d5944478c1446f391cbe8e3"
      }
     },
     "metadata": {},
     "output_type": "display_data"
    },
    {
     "data": {
      "text/plain": "Validation: 0it [00:00, ?it/s]",
      "application/vnd.jupyter.widget-view+json": {
       "version_major": 2,
       "version_minor": 0,
       "model_id": "4930dd108d7f45f19530282a3b2af8c1"
      }
     },
     "metadata": {},
     "output_type": "display_data"
    },
    {
     "data": {
      "text/plain": "Validation: 0it [00:00, ?it/s]",
      "application/vnd.jupyter.widget-view+json": {
       "version_major": 2,
       "version_minor": 0,
       "model_id": "9d216515dbd5400b8d6c5bbc9a454f63"
      }
     },
     "metadata": {},
     "output_type": "display_data"
    },
    {
     "data": {
      "text/plain": "Validation: 0it [00:00, ?it/s]",
      "application/vnd.jupyter.widget-view+json": {
       "version_major": 2,
       "version_minor": 0,
       "model_id": "3133637971164ae286d4e7fd352b5e86"
      }
     },
     "metadata": {},
     "output_type": "display_data"
    },
    {
     "data": {
      "text/plain": "Validation: 0it [00:00, ?it/s]",
      "application/vnd.jupyter.widget-view+json": {
       "version_major": 2,
       "version_minor": 0,
       "model_id": "29f443e689b047eb875c1f06664a2d80"
      }
     },
     "metadata": {},
     "output_type": "display_data"
    },
    {
     "data": {
      "text/plain": "Validation: 0it [00:00, ?it/s]",
      "application/vnd.jupyter.widget-view+json": {
       "version_major": 2,
       "version_minor": 0,
       "model_id": "5ff9a19db531420a8a3465a9ba87c2b2"
      }
     },
     "metadata": {},
     "output_type": "display_data"
    },
    {
     "data": {
      "text/plain": "Validation: 0it [00:00, ?it/s]",
      "application/vnd.jupyter.widget-view+json": {
       "version_major": 2,
       "version_minor": 0,
       "model_id": "de391b0f7fa5411bbdc5ace1695d6091"
      }
     },
     "metadata": {},
     "output_type": "display_data"
    },
    {
     "data": {
      "text/plain": "Validation: 0it [00:00, ?it/s]",
      "application/vnd.jupyter.widget-view+json": {
       "version_major": 2,
       "version_minor": 0,
       "model_id": "9cfecc25136d41898f16c9a0b7bb9c2e"
      }
     },
     "metadata": {},
     "output_type": "display_data"
    },
    {
     "data": {
      "text/plain": "Validation: 0it [00:00, ?it/s]",
      "application/vnd.jupyter.widget-view+json": {
       "version_major": 2,
       "version_minor": 0,
       "model_id": "b48aacdc9dbf4a8d92122151b02630a5"
      }
     },
     "metadata": {},
     "output_type": "display_data"
    },
    {
     "data": {
      "text/plain": "Validation: 0it [00:00, ?it/s]",
      "application/vnd.jupyter.widget-view+json": {
       "version_major": 2,
       "version_minor": 0,
       "model_id": "95fd0053b4894271ad679d87ee17a488"
      }
     },
     "metadata": {},
     "output_type": "display_data"
    },
    {
     "data": {
      "text/plain": "Validation: 0it [00:00, ?it/s]",
      "application/vnd.jupyter.widget-view+json": {
       "version_major": 2,
       "version_minor": 0,
       "model_id": "042ea1e85538469cb0caf454ee2ba3b4"
      }
     },
     "metadata": {},
     "output_type": "display_data"
    },
    {
     "data": {
      "text/plain": "Validation: 0it [00:00, ?it/s]",
      "application/vnd.jupyter.widget-view+json": {
       "version_major": 2,
       "version_minor": 0,
       "model_id": "a095d20d468b47a997e4103cd298a25e"
      }
     },
     "metadata": {},
     "output_type": "display_data"
    },
    {
     "data": {
      "text/plain": "Validation: 0it [00:00, ?it/s]",
      "application/vnd.jupyter.widget-view+json": {
       "version_major": 2,
       "version_minor": 0,
       "model_id": "7e056d25e42f4db3b2e3ebd5fe38ae6a"
      }
     },
     "metadata": {},
     "output_type": "display_data"
    },
    {
     "data": {
      "text/plain": "Validation: 0it [00:00, ?it/s]",
      "application/vnd.jupyter.widget-view+json": {
       "version_major": 2,
       "version_minor": 0,
       "model_id": "10a225b46b9842f08c7457264bb9182d"
      }
     },
     "metadata": {},
     "output_type": "display_data"
    },
    {
     "data": {
      "text/plain": "Validation: 0it [00:00, ?it/s]",
      "application/vnd.jupyter.widget-view+json": {
       "version_major": 2,
       "version_minor": 0,
       "model_id": "ec51eb90e9d047ec9366f24d210cadab"
      }
     },
     "metadata": {},
     "output_type": "display_data"
    },
    {
     "data": {
      "text/plain": "Validation: 0it [00:00, ?it/s]",
      "application/vnd.jupyter.widget-view+json": {
       "version_major": 2,
       "version_minor": 0,
       "model_id": "00424a69aedf4c4692f43665d29b81f8"
      }
     },
     "metadata": {},
     "output_type": "display_data"
    },
    {
     "data": {
      "text/plain": "Validation: 0it [00:00, ?it/s]",
      "application/vnd.jupyter.widget-view+json": {
       "version_major": 2,
       "version_minor": 0,
       "model_id": "89869b39c3dc418c9b1da9928c03b71b"
      }
     },
     "metadata": {},
     "output_type": "display_data"
    },
    {
     "data": {
      "text/plain": "Validation: 0it [00:00, ?it/s]",
      "application/vnd.jupyter.widget-view+json": {
       "version_major": 2,
       "version_minor": 0,
       "model_id": "bf2f20a1a4654e2f8055d20bab736998"
      }
     },
     "metadata": {},
     "output_type": "display_data"
    },
    {
     "data": {
      "text/plain": "Validation: 0it [00:00, ?it/s]",
      "application/vnd.jupyter.widget-view+json": {
       "version_major": 2,
       "version_minor": 0,
       "model_id": "487de50090dd402fa5cd496c3f5489b1"
      }
     },
     "metadata": {},
     "output_type": "display_data"
    },
    {
     "data": {
      "text/plain": "Validation: 0it [00:00, ?it/s]",
      "application/vnd.jupyter.widget-view+json": {
       "version_major": 2,
       "version_minor": 0,
       "model_id": "122873ffb9df495e91cb6c6c2cb49801"
      }
     },
     "metadata": {},
     "output_type": "display_data"
    },
    {
     "data": {
      "text/plain": "Validation: 0it [00:00, ?it/s]",
      "application/vnd.jupyter.widget-view+json": {
       "version_major": 2,
       "version_minor": 0,
       "model_id": "440bb9f6e22840e8b7adcc033f3fd77d"
      }
     },
     "metadata": {},
     "output_type": "display_data"
    },
    {
     "data": {
      "text/plain": "Validation: 0it [00:00, ?it/s]",
      "application/vnd.jupyter.widget-view+json": {
       "version_major": 2,
       "version_minor": 0,
       "model_id": "329bc6208d6c4835aa46fa5cc030546b"
      }
     },
     "metadata": {},
     "output_type": "display_data"
    },
    {
     "data": {
      "text/plain": "Validation: 0it [00:00, ?it/s]",
      "application/vnd.jupyter.widget-view+json": {
       "version_major": 2,
       "version_minor": 0,
       "model_id": "6ef624979c5946eb8d9e0793e3be473c"
      }
     },
     "metadata": {},
     "output_type": "display_data"
    },
    {
     "data": {
      "text/plain": "Validation: 0it [00:00, ?it/s]",
      "application/vnd.jupyter.widget-view+json": {
       "version_major": 2,
       "version_minor": 0,
       "model_id": "e6a04c26db424fd88719d270a629feed"
      }
     },
     "metadata": {},
     "output_type": "display_data"
    },
    {
     "data": {
      "text/plain": "Validation: 0it [00:00, ?it/s]",
      "application/vnd.jupyter.widget-view+json": {
       "version_major": 2,
       "version_minor": 0,
       "model_id": "2d0bb6e4393b47f79e771426d8f90f8d"
      }
     },
     "metadata": {},
     "output_type": "display_data"
    },
    {
     "data": {
      "text/plain": "Validation: 0it [00:00, ?it/s]",
      "application/vnd.jupyter.widget-view+json": {
       "version_major": 2,
       "version_minor": 0,
       "model_id": "88e647546ede4daaae5458a17117331a"
      }
     },
     "metadata": {},
     "output_type": "display_data"
    },
    {
     "data": {
      "text/plain": "Validation: 0it [00:00, ?it/s]",
      "application/vnd.jupyter.widget-view+json": {
       "version_major": 2,
       "version_minor": 0,
       "model_id": "205ea9e116014d8bba2da4a7e4a73c6c"
      }
     },
     "metadata": {},
     "output_type": "display_data"
    },
    {
     "data": {
      "text/plain": "Validation: 0it [00:00, ?it/s]",
      "application/vnd.jupyter.widget-view+json": {
       "version_major": 2,
       "version_minor": 0,
       "model_id": "46d3142d6ccc4bc482edda5ce064097b"
      }
     },
     "metadata": {},
     "output_type": "display_data"
    },
    {
     "data": {
      "text/plain": "Validation: 0it [00:00, ?it/s]",
      "application/vnd.jupyter.widget-view+json": {
       "version_major": 2,
       "version_minor": 0,
       "model_id": "dae8ec9b773c4c8d8bf5ae786107c2ae"
      }
     },
     "metadata": {},
     "output_type": "display_data"
    },
    {
     "data": {
      "text/plain": "Validation: 0it [00:00, ?it/s]",
      "application/vnd.jupyter.widget-view+json": {
       "version_major": 2,
       "version_minor": 0,
       "model_id": "3fe405a630074eb28b702260a8f25090"
      }
     },
     "metadata": {},
     "output_type": "display_data"
    },
    {
     "data": {
      "text/plain": "Validation: 0it [00:00, ?it/s]",
      "application/vnd.jupyter.widget-view+json": {
       "version_major": 2,
       "version_minor": 0,
       "model_id": "cddfa2123f6a4cc387490d60b17e87c3"
      }
     },
     "metadata": {},
     "output_type": "display_data"
    },
    {
     "data": {
      "text/plain": "Validation: 0it [00:00, ?it/s]",
      "application/vnd.jupyter.widget-view+json": {
       "version_major": 2,
       "version_minor": 0,
       "model_id": "7ca6bba411a240cd9b7b93e27affe484"
      }
     },
     "metadata": {},
     "output_type": "display_data"
    },
    {
     "data": {
      "text/plain": "Validation: 0it [00:00, ?it/s]",
      "application/vnd.jupyter.widget-view+json": {
       "version_major": 2,
       "version_minor": 0,
       "model_id": "8bdfafc2b32e488995ba9257a4b2dd27"
      }
     },
     "metadata": {},
     "output_type": "display_data"
    },
    {
     "data": {
      "text/plain": "Validation: 0it [00:00, ?it/s]",
      "application/vnd.jupyter.widget-view+json": {
       "version_major": 2,
       "version_minor": 0,
       "model_id": "b1d1fde780a041faa5bdded0bde57ed1"
      }
     },
     "metadata": {},
     "output_type": "display_data"
    },
    {
     "data": {
      "text/plain": "Validation: 0it [00:00, ?it/s]",
      "application/vnd.jupyter.widget-view+json": {
       "version_major": 2,
       "version_minor": 0,
       "model_id": "2680bdc6e3bd4382b5098163d0b12dfd"
      }
     },
     "metadata": {},
     "output_type": "display_data"
    },
    {
     "data": {
      "text/plain": "Validation: 0it [00:00, ?it/s]",
      "application/vnd.jupyter.widget-view+json": {
       "version_major": 2,
       "version_minor": 0,
       "model_id": "edd5579ad9c34285b524336973cf4be6"
      }
     },
     "metadata": {},
     "output_type": "display_data"
    },
    {
     "data": {
      "text/plain": "Validation: 0it [00:00, ?it/s]",
      "application/vnd.jupyter.widget-view+json": {
       "version_major": 2,
       "version_minor": 0,
       "model_id": "1b79136f87e345f8afe393c2ae65ec19"
      }
     },
     "metadata": {},
     "output_type": "display_data"
    },
    {
     "data": {
      "text/plain": "Validation: 0it [00:00, ?it/s]",
      "application/vnd.jupyter.widget-view+json": {
       "version_major": 2,
       "version_minor": 0,
       "model_id": "df36c7370dcb4f91a74c55343cfcc74b"
      }
     },
     "metadata": {},
     "output_type": "display_data"
    },
    {
     "data": {
      "text/plain": "Validation: 0it [00:00, ?it/s]",
      "application/vnd.jupyter.widget-view+json": {
       "version_major": 2,
       "version_minor": 0,
       "model_id": "99be1711bf144e33a7d4f30bab0a5760"
      }
     },
     "metadata": {},
     "output_type": "display_data"
    },
    {
     "data": {
      "text/plain": "Validation: 0it [00:00, ?it/s]",
      "application/vnd.jupyter.widget-view+json": {
       "version_major": 2,
       "version_minor": 0,
       "model_id": "f5356e773f2641f1a5611f815e8c3b44"
      }
     },
     "metadata": {},
     "output_type": "display_data"
    },
    {
     "data": {
      "text/plain": "Validation: 0it [00:00, ?it/s]",
      "application/vnd.jupyter.widget-view+json": {
       "version_major": 2,
       "version_minor": 0,
       "model_id": "6eeeb1875ae1403ea870fc000533888d"
      }
     },
     "metadata": {},
     "output_type": "display_data"
    },
    {
     "data": {
      "text/plain": "Validation: 0it [00:00, ?it/s]",
      "application/vnd.jupyter.widget-view+json": {
       "version_major": 2,
       "version_minor": 0,
       "model_id": "a1568c1849f34cdba87e199a13e3b1ba"
      }
     },
     "metadata": {},
     "output_type": "display_data"
    },
    {
     "data": {
      "text/plain": "Validation: 0it [00:00, ?it/s]",
      "application/vnd.jupyter.widget-view+json": {
       "version_major": 2,
       "version_minor": 0,
       "model_id": "1fe269fc63904ceaa5ca1066ebbbcb0e"
      }
     },
     "metadata": {},
     "output_type": "display_data"
    },
    {
     "data": {
      "text/plain": "Validation: 0it [00:00, ?it/s]",
      "application/vnd.jupyter.widget-view+json": {
       "version_major": 2,
       "version_minor": 0,
       "model_id": "f5cc954f800a461aba528329d255020e"
      }
     },
     "metadata": {},
     "output_type": "display_data"
    },
    {
     "data": {
      "text/plain": "Validation: 0it [00:00, ?it/s]",
      "application/vnd.jupyter.widget-view+json": {
       "version_major": 2,
       "version_minor": 0,
       "model_id": "daa6503974044cac8d96a4fcb4317703"
      }
     },
     "metadata": {},
     "output_type": "display_data"
    },
    {
     "data": {
      "text/plain": "Validation: 0it [00:00, ?it/s]",
      "application/vnd.jupyter.widget-view+json": {
       "version_major": 2,
       "version_minor": 0,
       "model_id": "d05850a7fbd649c7bbf6f60aa4aa6960"
      }
     },
     "metadata": {},
     "output_type": "display_data"
    },
    {
     "data": {
      "text/plain": "Validation: 0it [00:00, ?it/s]",
      "application/vnd.jupyter.widget-view+json": {
       "version_major": 2,
       "version_minor": 0,
       "model_id": "88500417021c420eb0360414a42ad7d4"
      }
     },
     "metadata": {},
     "output_type": "display_data"
    },
    {
     "data": {
      "text/plain": "Validation: 0it [00:00, ?it/s]",
      "application/vnd.jupyter.widget-view+json": {
       "version_major": 2,
       "version_minor": 0,
       "model_id": "e12d44be195147d4a72c3eb6b89ce387"
      }
     },
     "metadata": {},
     "output_type": "display_data"
    },
    {
     "data": {
      "text/plain": "Validation: 0it [00:00, ?it/s]",
      "application/vnd.jupyter.widget-view+json": {
       "version_major": 2,
       "version_minor": 0,
       "model_id": "51fa46a95b3540108339b170de8da14f"
      }
     },
     "metadata": {},
     "output_type": "display_data"
    },
    {
     "data": {
      "text/plain": "Validation: 0it [00:00, ?it/s]",
      "application/vnd.jupyter.widget-view+json": {
       "version_major": 2,
       "version_minor": 0,
       "model_id": "02ceb30cbfa746b38ecaa82276cca3f9"
      }
     },
     "metadata": {},
     "output_type": "display_data"
    },
    {
     "data": {
      "text/plain": "Validation: 0it [00:00, ?it/s]",
      "application/vnd.jupyter.widget-view+json": {
       "version_major": 2,
       "version_minor": 0,
       "model_id": "bbc34a8a4d9b49799d6be2108366fba5"
      }
     },
     "metadata": {},
     "output_type": "display_data"
    },
    {
     "data": {
      "text/plain": "Validation: 0it [00:00, ?it/s]",
      "application/vnd.jupyter.widget-view+json": {
       "version_major": 2,
       "version_minor": 0,
       "model_id": "8d59fa9192d94cf488e57363a46d4654"
      }
     },
     "metadata": {},
     "output_type": "display_data"
    },
    {
     "data": {
      "text/plain": "Validation: 0it [00:00, ?it/s]",
      "application/vnd.jupyter.widget-view+json": {
       "version_major": 2,
       "version_minor": 0,
       "model_id": "f4fdbea57d2441efb19426780dcc5d6c"
      }
     },
     "metadata": {},
     "output_type": "display_data"
    },
    {
     "data": {
      "text/plain": "Validation: 0it [00:00, ?it/s]",
      "application/vnd.jupyter.widget-view+json": {
       "version_major": 2,
       "version_minor": 0,
       "model_id": "0d235d6ac03a4f6f8c87264bf21119e6"
      }
     },
     "metadata": {},
     "output_type": "display_data"
    },
    {
     "data": {
      "text/plain": "Validation: 0it [00:00, ?it/s]",
      "application/vnd.jupyter.widget-view+json": {
       "version_major": 2,
       "version_minor": 0,
       "model_id": "1a8083d600664afd919fe8bbd310acbb"
      }
     },
     "metadata": {},
     "output_type": "display_data"
    },
    {
     "data": {
      "text/plain": "Validation: 0it [00:00, ?it/s]",
      "application/vnd.jupyter.widget-view+json": {
       "version_major": 2,
       "version_minor": 0,
       "model_id": "692dd3ea6ae544b3a4c0a2213afd1b53"
      }
     },
     "metadata": {},
     "output_type": "display_data"
    },
    {
     "data": {
      "text/plain": "Validation: 0it [00:00, ?it/s]",
      "application/vnd.jupyter.widget-view+json": {
       "version_major": 2,
       "version_minor": 0,
       "model_id": "f239417c69cc4b738d1f211b549fd4eb"
      }
     },
     "metadata": {},
     "output_type": "display_data"
    },
    {
     "data": {
      "text/plain": "Validation: 0it [00:00, ?it/s]",
      "application/vnd.jupyter.widget-view+json": {
       "version_major": 2,
       "version_minor": 0,
       "model_id": "dbe73c8f21da47d38876e87fe93f43a7"
      }
     },
     "metadata": {},
     "output_type": "display_data"
    },
    {
     "data": {
      "text/plain": "Validation: 0it [00:00, ?it/s]",
      "application/vnd.jupyter.widget-view+json": {
       "version_major": 2,
       "version_minor": 0,
       "model_id": "95ab9c31580d4e3886849659a8e472a2"
      }
     },
     "metadata": {},
     "output_type": "display_data"
    },
    {
     "data": {
      "text/plain": "Validation: 0it [00:00, ?it/s]",
      "application/vnd.jupyter.widget-view+json": {
       "version_major": 2,
       "version_minor": 0,
       "model_id": "ac6a73cedf9d4573be8125f159a4dc67"
      }
     },
     "metadata": {},
     "output_type": "display_data"
    },
    {
     "data": {
      "text/plain": "Validation: 0it [00:00, ?it/s]",
      "application/vnd.jupyter.widget-view+json": {
       "version_major": 2,
       "version_minor": 0,
       "model_id": "63959049acd34d9aaf236a7c139d973f"
      }
     },
     "metadata": {},
     "output_type": "display_data"
    },
    {
     "data": {
      "text/plain": "Validation: 0it [00:00, ?it/s]",
      "application/vnd.jupyter.widget-view+json": {
       "version_major": 2,
       "version_minor": 0,
       "model_id": "242eff6303b34953ab3866c17d25a026"
      }
     },
     "metadata": {},
     "output_type": "display_data"
    },
    {
     "data": {
      "text/plain": "Validation: 0it [00:00, ?it/s]",
      "application/vnd.jupyter.widget-view+json": {
       "version_major": 2,
       "version_minor": 0,
       "model_id": "93a0288fa13648e99641c54b7e70ff34"
      }
     },
     "metadata": {},
     "output_type": "display_data"
    },
    {
     "data": {
      "text/plain": "Validation: 0it [00:00, ?it/s]",
      "application/vnd.jupyter.widget-view+json": {
       "version_major": 2,
       "version_minor": 0,
       "model_id": "74a1d212ae7246a98e686e479e47d922"
      }
     },
     "metadata": {},
     "output_type": "display_data"
    },
    {
     "data": {
      "text/plain": "Validation: 0it [00:00, ?it/s]",
      "application/vnd.jupyter.widget-view+json": {
       "version_major": 2,
       "version_minor": 0,
       "model_id": "16ea313bc7c34102a2531ee102488a7a"
      }
     },
     "metadata": {},
     "output_type": "display_data"
    },
    {
     "data": {
      "text/plain": "Validation: 0it [00:00, ?it/s]",
      "application/vnd.jupyter.widget-view+json": {
       "version_major": 2,
       "version_minor": 0,
       "model_id": "0accb38555bf46dfadcec14c4f014bb3"
      }
     },
     "metadata": {},
     "output_type": "display_data"
    },
    {
     "data": {
      "text/plain": "Validation: 0it [00:00, ?it/s]",
      "application/vnd.jupyter.widget-view+json": {
       "version_major": 2,
       "version_minor": 0,
       "model_id": "7c5308887b6b45118859e7aa02aa1342"
      }
     },
     "metadata": {},
     "output_type": "display_data"
    },
    {
     "data": {
      "text/plain": "Validation: 0it [00:00, ?it/s]",
      "application/vnd.jupyter.widget-view+json": {
       "version_major": 2,
       "version_minor": 0,
       "model_id": "1f519f5855764c1a8bb1aecf200ff9e7"
      }
     },
     "metadata": {},
     "output_type": "display_data"
    },
    {
     "data": {
      "text/plain": "Validation: 0it [00:00, ?it/s]",
      "application/vnd.jupyter.widget-view+json": {
       "version_major": 2,
       "version_minor": 0,
       "model_id": "8f1a1febef584ec684b1dfd3e601bd6d"
      }
     },
     "metadata": {},
     "output_type": "display_data"
    },
    {
     "data": {
      "text/plain": "Validation: 0it [00:00, ?it/s]",
      "application/vnd.jupyter.widget-view+json": {
       "version_major": 2,
       "version_minor": 0,
       "model_id": "50b8a7bee0a64d7fb392cfba38e8c3a5"
      }
     },
     "metadata": {},
     "output_type": "display_data"
    },
    {
     "data": {
      "text/plain": "Validation: 0it [00:00, ?it/s]",
      "application/vnd.jupyter.widget-view+json": {
       "version_major": 2,
       "version_minor": 0,
       "model_id": "840b56f35b094f359bee4de8e2349447"
      }
     },
     "metadata": {},
     "output_type": "display_data"
    }
   ],
   "source": [
    "%%time\n",
    "pl_data_module.prepare_data('train')\n",
    "trainer.fit(model=pl_model, datamodule=pl_data_module)"
   ],
   "metadata": {
    "collapsed": false,
    "ExecuteTime": {
     "start_time": "2023-11-14T19:41:53.011673200Z"
    }
   }
  },
  {
   "cell_type": "code",
   "execution_count": null,
   "outputs": [],
   "source": [],
   "metadata": {
    "collapsed": false
   }
  },
  {
   "cell_type": "code",
   "execution_count": null,
   "outputs": [],
   "source": [],
   "metadata": {
    "collapsed": false
   }
  },
  {
   "cell_type": "code",
   "execution_count": null,
   "outputs": [],
   "source": [],
   "metadata": {
    "collapsed": false
   }
  }
 ],
 "metadata": {
  "kernelspec": {
   "name": "conda-env-AggNet-py",
   "language": "python",
   "display_name": "Python [conda env:AggNet]"
  },
  "language_info": {
   "codemirror_mode": {
    "name": "ipython",
    "version": 2
   },
   "file_extension": ".py",
   "mimetype": "text/x-python",
   "name": "python",
   "nbconvert_exporter": "python",
   "pygments_lexer": "ipython2",
   "version": "2.7.6"
  }
 },
 "nbformat": 4,
 "nbformat_minor": 0
}
