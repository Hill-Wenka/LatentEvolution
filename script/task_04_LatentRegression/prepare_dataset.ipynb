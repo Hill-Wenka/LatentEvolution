{
 "cells": [
  {
   "cell_type": "code",
   "execution_count": 1,
   "id": "initial_id",
   "metadata": {
    "collapsed": true,
    "ExecuteTime": {
     "end_time": "2023-11-14T19:40:49.842578300Z",
     "start_time": "2023-11-14T19:40:49.607222200Z"
    }
   },
   "outputs": [
    {
     "name": "stdout",
     "output_type": "stream",
     "text": [
      "/home/hew/python/LatentEvolution\n",
      "\u001B[0m\u001B[01;34mcache\u001B[0m/  \u001B[01;34mdata\u001B[0m/  \u001B[01;34mfigure\u001B[0m/  \u001B[01;34mframework\u001B[0m/  main.py  \u001B[01;34mscript\u001B[0m/  \u001B[01;34mtemp\u001B[0m/\r\n"
     ]
    }
   ],
   "source": [
    "%load_ext autoreload\n",
    "%autoreload 2\n",
    "%cd \"python/LatentEvolution\"\n",
    "%ls"
   ]
  },
  {
   "cell_type": "code",
   "execution_count": 1,
   "outputs": [],
   "source": [],
   "metadata": {
    "collapsed": false,
    "ExecuteTime": {
     "end_time": "2023-11-14T19:40:50.684881900Z",
     "start_time": "2023-11-14T19:40:50.678636900Z"
    }
   },
   "id": "bf6287294ab9c177"
  },
  {
   "cell_type": "code",
   "execution_count": 2,
   "outputs": [
    {
     "name": "stdout",
     "output_type": "stream",
     "text": [
      "========== add root_path and framework_path to sys.path ==========\n",
      "root_path: /home/hew/python/LatentEvolution\n",
      "framework_path: /home/hew/python/LatentEvolution/framework\n",
      "==================================================================\n"
     ]
    }
   ],
   "source": [
    "import torch\n",
    "\n",
    "from framework.data.Protein import Protein\n",
    "from framework.data.ProteinDataset import ProteinDataset"
   ],
   "metadata": {
    "collapsed": false,
    "ExecuteTime": {
     "end_time": "2023-11-14T19:40:52.302584500Z",
     "start_time": "2023-11-14T19:40:50.844737Z"
    }
   },
   "id": "f3dd7052e0c4c511"
  },
  {
   "cell_type": "code",
   "execution_count": 3,
   "outputs": [],
   "source": [
    "version = 2\n",
    "save_file = f'./script/task_03_Latent_analysis/version_{version}_prediction_data.pt'\n",
    "load_prediction_data = torch.load(save_file)\n",
    "true_tokens = load_prediction_data['true_tokens']\n",
    "recon_tokens = load_prediction_data['recon_tokens']\n",
    "predict_z = load_prediction_data['predict_z']\n",
    "predict_mean = load_prediction_data['predict_mean']\n",
    "predict_logvar = load_prediction_data['predict_logvar']\n",
    "true_sequences = load_prediction_data['true_sequences']\n",
    "ddG = load_prediction_data['ddG']\n",
    "dS = load_prediction_data['dS']"
   ],
   "metadata": {
    "collapsed": false,
    "ExecuteTime": {
     "end_time": "2023-11-14T19:40:53.059038800Z",
     "start_time": "2023-11-14T19:40:52.963746600Z"
    }
   },
   "id": "fd2e7f00d55eb057"
  },
  {
   "cell_type": "code",
   "execution_count": 4,
   "outputs": [
    {
     "data": {
      "text/plain": "torch.Size([2404, 1360])"
     },
     "execution_count": 4,
     "metadata": {},
     "output_type": "execute_result"
    }
   ],
   "source": [
    "predict_mean.shape"
   ],
   "metadata": {
    "collapsed": false,
    "ExecuteTime": {
     "end_time": "2023-11-14T19:40:53.913927Z",
     "start_time": "2023-11-14T19:40:53.873147800Z"
    }
   },
   "id": "f89e479f1ac47453"
  },
  {
   "cell_type": "code",
   "execution_count": 5,
   "outputs": [
    {
     "data": {
      "text/plain": "ACE2_latent_variants(2404), location: /home/hew/python/LatentEvolution/data/ACE2_latent_variants"
     },
     "execution_count": 5,
     "metadata": {},
     "output_type": "execute_result"
    }
   ],
   "source": [
    "protein_data = []\n",
    "\n",
    "for i in range(len(predict_z)):\n",
    "    index = i\n",
    "    name = i\n",
    "    sequence = true_sequences[i]\n",
    "    ddG_value = ddG[i]\n",
    "    dS_value = dS[i]\n",
    "    protein = Protein(\n",
    "        index=index,\n",
    "        name=name,\n",
    "        sequence=sequence,\n",
    "        attributes={'ddG': ddG_value, 'dS': dS_value}\n",
    "    )\n",
    "    protein_data.append(protein)\n",
    "\n",
    "ACE2_latent_variants = ProteinDataset('ACE2_latent_variants')\n",
    "ACE2_latent_variants.construct(protein_data)\n",
    "ACE2_latent_variants"
   ],
   "metadata": {
    "collapsed": false,
    "ExecuteTime": {
     "end_time": "2023-11-14T19:40:54.266114900Z",
     "start_time": "2023-11-14T19:40:54.178533Z"
    }
   },
   "id": "f3af4ecbf9d43c59"
  },
  {
   "cell_type": "code",
   "execution_count": 6,
   "outputs": [
    {
     "data": {
      "text/plain": "     index  name partition  length  \\\n0        0     0      None      83   \n1        1     1      None      83   \n2       10    10      None      83   \n3      100   100      None      83   \n4     1000  1000      None      83   \n...    ...   ...       ...     ...   \n2399   995   995      None      83   \n2400   996   996      None      83   \n2401   997   997      None      83   \n2402   998   998      None      83   \n2403   999   999      None      83   \n\n                                               sequence structure graph  \\\n0     STIEEQAKTFLDKFNHEAEDLFYQSSLASWNYNTNITEENVQNMNN...      None  None   \n1     STIEEQAKTFLDKFNHEAEDLFYQSSLASWNYNTNITEENVQNMNN...      None  None   \n2     STIEEQAKTFLDKFNHEAEDLFYQSSLARWNYNTNITEENVQNMNN...      None  None   \n3     STIEEQAKTFLDKFNHEAEDLFYQSSMAFWNYNTNITEENVQNMNN...      None  None   \n4     STIEEQAKTFLDKFNHEAEDLFYQSSLASWNYNTNITEENVQNDNN...      None  None   \n...                                                 ...       ...   ...   \n2399  SEIEEQAKTFLDKFNHEAEDLFYQSSLASWKYNTNITEENVQNMNN...      None  None   \n2400  SEIEEQAKTFLDKFNHEAEDLYYQSSLASWNYNTNITEENVQNMNN...      None  None   \n2401  STIEEQAKTFLDKFNHEAEDLFYQSSLASWNYNTNITEENVQNMNN...      None  None   \n2402  STIEEQAMTFLDKFKHEAEDLYYQSSLASWNYNTNITEENVQNMNN...      None  None   \n2403  STIEEQAKTFLDKFNHEAEDLQYQSSLRWWNYNTNITEENVQNMNN...      None  None   \n\n         ddG     dS  \n0    -2.4635  0.017  \n1    -0.0984  0.017  \n2    -0.7424  0.017  \n3    -1.1378  0.017  \n4    -1.3581  0.017  \n...      ...    ...  \n2399 -0.0430  0.017  \n2400 -1.1875  0.060  \n2401 -0.3152  0.017  \n2402 -1.0239  0.017  \n2403 -0.2081  0.017  \n\n[2404 rows x 9 columns]",
      "text/html": "<div>\n<style scoped>\n    .dataframe tbody tr th:only-of-type {\n        vertical-align: middle;\n    }\n\n    .dataframe tbody tr th {\n        vertical-align: top;\n    }\n\n    .dataframe thead th {\n        text-align: right;\n    }\n</style>\n<table border=\"1\" class=\"dataframe\">\n  <thead>\n    <tr style=\"text-align: right;\">\n      <th></th>\n      <th>index</th>\n      <th>name</th>\n      <th>partition</th>\n      <th>length</th>\n      <th>sequence</th>\n      <th>structure</th>\n      <th>graph</th>\n      <th>ddG</th>\n      <th>dS</th>\n    </tr>\n  </thead>\n  <tbody>\n    <tr>\n      <th>0</th>\n      <td>0</td>\n      <td>0</td>\n      <td>None</td>\n      <td>83</td>\n      <td>STIEEQAKTFLDKFNHEAEDLFYQSSLASWNYNTNITEENVQNMNN...</td>\n      <td>None</td>\n      <td>None</td>\n      <td>-2.4635</td>\n      <td>0.017</td>\n    </tr>\n    <tr>\n      <th>1</th>\n      <td>1</td>\n      <td>1</td>\n      <td>None</td>\n      <td>83</td>\n      <td>STIEEQAKTFLDKFNHEAEDLFYQSSLASWNYNTNITEENVQNMNN...</td>\n      <td>None</td>\n      <td>None</td>\n      <td>-0.0984</td>\n      <td>0.017</td>\n    </tr>\n    <tr>\n      <th>2</th>\n      <td>10</td>\n      <td>10</td>\n      <td>None</td>\n      <td>83</td>\n      <td>STIEEQAKTFLDKFNHEAEDLFYQSSLARWNYNTNITEENVQNMNN...</td>\n      <td>None</td>\n      <td>None</td>\n      <td>-0.7424</td>\n      <td>0.017</td>\n    </tr>\n    <tr>\n      <th>3</th>\n      <td>100</td>\n      <td>100</td>\n      <td>None</td>\n      <td>83</td>\n      <td>STIEEQAKTFLDKFNHEAEDLFYQSSMAFWNYNTNITEENVQNMNN...</td>\n      <td>None</td>\n      <td>None</td>\n      <td>-1.1378</td>\n      <td>0.017</td>\n    </tr>\n    <tr>\n      <th>4</th>\n      <td>1000</td>\n      <td>1000</td>\n      <td>None</td>\n      <td>83</td>\n      <td>STIEEQAKTFLDKFNHEAEDLFYQSSLASWNYNTNITEENVQNDNN...</td>\n      <td>None</td>\n      <td>None</td>\n      <td>-1.3581</td>\n      <td>0.017</td>\n    </tr>\n    <tr>\n      <th>...</th>\n      <td>...</td>\n      <td>...</td>\n      <td>...</td>\n      <td>...</td>\n      <td>...</td>\n      <td>...</td>\n      <td>...</td>\n      <td>...</td>\n      <td>...</td>\n    </tr>\n    <tr>\n      <th>2399</th>\n      <td>995</td>\n      <td>995</td>\n      <td>None</td>\n      <td>83</td>\n      <td>SEIEEQAKTFLDKFNHEAEDLFYQSSLASWKYNTNITEENVQNMNN...</td>\n      <td>None</td>\n      <td>None</td>\n      <td>-0.0430</td>\n      <td>0.017</td>\n    </tr>\n    <tr>\n      <th>2400</th>\n      <td>996</td>\n      <td>996</td>\n      <td>None</td>\n      <td>83</td>\n      <td>SEIEEQAKTFLDKFNHEAEDLYYQSSLASWNYNTNITEENVQNMNN...</td>\n      <td>None</td>\n      <td>None</td>\n      <td>-1.1875</td>\n      <td>0.060</td>\n    </tr>\n    <tr>\n      <th>2401</th>\n      <td>997</td>\n      <td>997</td>\n      <td>None</td>\n      <td>83</td>\n      <td>STIEEQAKTFLDKFNHEAEDLFYQSSLASWNYNTNITEENVQNMNN...</td>\n      <td>None</td>\n      <td>None</td>\n      <td>-0.3152</td>\n      <td>0.017</td>\n    </tr>\n    <tr>\n      <th>2402</th>\n      <td>998</td>\n      <td>998</td>\n      <td>None</td>\n      <td>83</td>\n      <td>STIEEQAMTFLDKFKHEAEDLYYQSSLASWNYNTNITEENVQNMNN...</td>\n      <td>None</td>\n      <td>None</td>\n      <td>-1.0239</td>\n      <td>0.017</td>\n    </tr>\n    <tr>\n      <th>2403</th>\n      <td>999</td>\n      <td>999</td>\n      <td>None</td>\n      <td>83</td>\n      <td>STIEEQAKTFLDKFNHEAEDLQYQSSLRWWNYNTNITEENVQNMNN...</td>\n      <td>None</td>\n      <td>None</td>\n      <td>-0.2081</td>\n      <td>0.017</td>\n    </tr>\n  </tbody>\n</table>\n<p>2404 rows × 9 columns</p>\n</div>"
     },
     "execution_count": 6,
     "metadata": {},
     "output_type": "execute_result"
    }
   ],
   "source": [
    "ACE2_latent_variants.show()"
   ],
   "metadata": {
    "collapsed": false,
    "ExecuteTime": {
     "end_time": "2023-11-14T19:40:54.574736900Z",
     "start_time": "2023-11-14T19:40:54.508654500Z"
    }
   },
   "id": "a7aec4652b614fea"
  },
  {
   "cell_type": "code",
   "execution_count": 7,
   "outputs": [
    {
     "name": "stdout",
     "output_type": "stream",
     "text": [
      "[HDF5] save keys: ['index', 'name', 'partition', 'length', 'sequence', 'structure', 'graph_data', 'features', 'attributes']\n"
     ]
    },
    {
     "data": {
      "text/plain": "  0%|          | 0/2404 [00:00<?, ?it/s]",
      "application/vnd.jupyter.widget-view+json": {
       "version_major": 2,
       "version_minor": 0,
       "model_id": "9223a75a407d48169b17aec376edae05"
      }
     },
     "metadata": {},
     "output_type": "display_data"
    },
    {
     "name": "stdout",
     "output_type": "stream",
     "text": [
      "CPU times: user 15.4 s, sys: 11.7 s, total: 27.1 s\n",
      "Wall time: 27 s\n"
     ]
    }
   ],
   "source": [
    "%%time\n",
    "ACE2_latent_variants.save()"
   ],
   "metadata": {
    "collapsed": false,
    "ExecuteTime": {
     "end_time": "2023-11-14T19:41:22.038771400Z",
     "start_time": "2023-11-14T19:40:54.950651800Z"
    }
   },
   "id": "1d49354a7456506a"
  },
  {
   "cell_type": "code",
   "execution_count": 8,
   "outputs": [
    {
     "data": {
      "text/plain": "  0%|          | 0/2404 [00:00<?, ?it/s]",
      "application/vnd.jupyter.widget-view+json": {
       "version_major": 2,
       "version_minor": 0,
       "model_id": "25f62d2863f2442fa354eb01f5811516"
      }
     },
     "metadata": {},
     "output_type": "display_data"
    },
    {
     "name": "stdout",
     "output_type": "stream",
     "text": [
      "CPU times: user 385 ms, sys: 320 ms, total: 705 ms\n",
      "Wall time: 803 ms\n"
     ]
    },
    {
     "data": {
      "text/plain": "     index  name partition  length  \\\n0        0     0      None      83   \n1        1     1      None      83   \n2       10    10      None      83   \n3      100   100      None      83   \n4     1000  1000      None      83   \n...    ...   ...       ...     ...   \n2399   995   995      None      83   \n2400   996   996      None      83   \n2401   997   997      None      83   \n2402   998   998      None      83   \n2403   999   999      None      83   \n\n                                               sequence structure graph  \\\n0     STIEEQAKTFLDKFNHEAEDLFYQSSLASWNYNTNITEENVQNMNN...      None  None   \n1     STIEEQAKTFLDKFNHEAEDLFYQSSLASWNYNTNITEENVQNMNN...      None  None   \n2     STIEEQAKTFLDKFNHEAEDLFYQSSLARWNYNTNITEENVQNMNN...      None  None   \n3     STIEEQAKTFLDKFNHEAEDLFYQSSMAFWNYNTNITEENVQNMNN...      None  None   \n4     STIEEQAKTFLDKFNHEAEDLFYQSSLASWNYNTNITEENVQNDNN...      None  None   \n...                                                 ...       ...   ...   \n2399  SEIEEQAKTFLDKFNHEAEDLFYQSSLASWKYNTNITEENVQNMNN...      None  None   \n2400  SEIEEQAKTFLDKFNHEAEDLYYQSSLASWNYNTNITEENVQNMNN...      None  None   \n2401  STIEEQAKTFLDKFNHEAEDLFYQSSLASWNYNTNITEENVQNMNN...      None  None   \n2402  STIEEQAMTFLDKFKHEAEDLYYQSSLASWNYNTNITEENVQNMNN...      None  None   \n2403  STIEEQAKTFLDKFNHEAEDLQYQSSLRWWNYNTNITEENVQNMNN...      None  None   \n\n         dS     ddG  \n0     0.017 -2.4635  \n1     0.017 -0.0984  \n2     0.017 -0.7424  \n3     0.017 -1.1378  \n4     0.017 -1.3581  \n...     ...     ...  \n2399  0.017 -0.0430  \n2400  0.060 -1.1875  \n2401  0.017 -0.3152  \n2402  0.017 -1.0239  \n2403  0.017 -0.2081  \n\n[2404 rows x 9 columns]",
      "text/html": "<div>\n<style scoped>\n    .dataframe tbody tr th:only-of-type {\n        vertical-align: middle;\n    }\n\n    .dataframe tbody tr th {\n        vertical-align: top;\n    }\n\n    .dataframe thead th {\n        text-align: right;\n    }\n</style>\n<table border=\"1\" class=\"dataframe\">\n  <thead>\n    <tr style=\"text-align: right;\">\n      <th></th>\n      <th>index</th>\n      <th>name</th>\n      <th>partition</th>\n      <th>length</th>\n      <th>sequence</th>\n      <th>structure</th>\n      <th>graph</th>\n      <th>dS</th>\n      <th>ddG</th>\n    </tr>\n  </thead>\n  <tbody>\n    <tr>\n      <th>0</th>\n      <td>0</td>\n      <td>0</td>\n      <td>None</td>\n      <td>83</td>\n      <td>STIEEQAKTFLDKFNHEAEDLFYQSSLASWNYNTNITEENVQNMNN...</td>\n      <td>None</td>\n      <td>None</td>\n      <td>0.017</td>\n      <td>-2.4635</td>\n    </tr>\n    <tr>\n      <th>1</th>\n      <td>1</td>\n      <td>1</td>\n      <td>None</td>\n      <td>83</td>\n      <td>STIEEQAKTFLDKFNHEAEDLFYQSSLASWNYNTNITEENVQNMNN...</td>\n      <td>None</td>\n      <td>None</td>\n      <td>0.017</td>\n      <td>-0.0984</td>\n    </tr>\n    <tr>\n      <th>2</th>\n      <td>10</td>\n      <td>10</td>\n      <td>None</td>\n      <td>83</td>\n      <td>STIEEQAKTFLDKFNHEAEDLFYQSSLARWNYNTNITEENVQNMNN...</td>\n      <td>None</td>\n      <td>None</td>\n      <td>0.017</td>\n      <td>-0.7424</td>\n    </tr>\n    <tr>\n      <th>3</th>\n      <td>100</td>\n      <td>100</td>\n      <td>None</td>\n      <td>83</td>\n      <td>STIEEQAKTFLDKFNHEAEDLFYQSSMAFWNYNTNITEENVQNMNN...</td>\n      <td>None</td>\n      <td>None</td>\n      <td>0.017</td>\n      <td>-1.1378</td>\n    </tr>\n    <tr>\n      <th>4</th>\n      <td>1000</td>\n      <td>1000</td>\n      <td>None</td>\n      <td>83</td>\n      <td>STIEEQAKTFLDKFNHEAEDLFYQSSLASWNYNTNITEENVQNDNN...</td>\n      <td>None</td>\n      <td>None</td>\n      <td>0.017</td>\n      <td>-1.3581</td>\n    </tr>\n    <tr>\n      <th>...</th>\n      <td>...</td>\n      <td>...</td>\n      <td>...</td>\n      <td>...</td>\n      <td>...</td>\n      <td>...</td>\n      <td>...</td>\n      <td>...</td>\n      <td>...</td>\n    </tr>\n    <tr>\n      <th>2399</th>\n      <td>995</td>\n      <td>995</td>\n      <td>None</td>\n      <td>83</td>\n      <td>SEIEEQAKTFLDKFNHEAEDLFYQSSLASWKYNTNITEENVQNMNN...</td>\n      <td>None</td>\n      <td>None</td>\n      <td>0.017</td>\n      <td>-0.0430</td>\n    </tr>\n    <tr>\n      <th>2400</th>\n      <td>996</td>\n      <td>996</td>\n      <td>None</td>\n      <td>83</td>\n      <td>SEIEEQAKTFLDKFNHEAEDLYYQSSLASWNYNTNITEENVQNMNN...</td>\n      <td>None</td>\n      <td>None</td>\n      <td>0.060</td>\n      <td>-1.1875</td>\n    </tr>\n    <tr>\n      <th>2401</th>\n      <td>997</td>\n      <td>997</td>\n      <td>None</td>\n      <td>83</td>\n      <td>STIEEQAKTFLDKFNHEAEDLFYQSSLASWNYNTNITEENVQNMNN...</td>\n      <td>None</td>\n      <td>None</td>\n      <td>0.017</td>\n      <td>-0.3152</td>\n    </tr>\n    <tr>\n      <th>2402</th>\n      <td>998</td>\n      <td>998</td>\n      <td>None</td>\n      <td>83</td>\n      <td>STIEEQAMTFLDKFKHEAEDLYYQSSLASWNYNTNITEENVQNMNN...</td>\n      <td>None</td>\n      <td>None</td>\n      <td>0.017</td>\n      <td>-1.0239</td>\n    </tr>\n    <tr>\n      <th>2403</th>\n      <td>999</td>\n      <td>999</td>\n      <td>None</td>\n      <td>83</td>\n      <td>STIEEQAKTFLDKFNHEAEDLQYQSSLRWWNYNTNITEENVQNMNN...</td>\n      <td>None</td>\n      <td>None</td>\n      <td>0.017</td>\n      <td>-0.2081</td>\n    </tr>\n  </tbody>\n</table>\n<p>2404 rows × 9 columns</p>\n</div>"
     },
     "execution_count": 8,
     "metadata": {},
     "output_type": "execute_result"
    }
   ],
   "source": [
    "%%time\n",
    "ACE2_latent_variants_load = ProteinDataset('ACE2_latent_variants')\n",
    "ACE2_latent_variants_load.load()\n",
    "ACE2_latent_variants_load.show()"
   ],
   "metadata": {
    "collapsed": false,
    "ExecuteTime": {
     "end_time": "2023-11-14T19:41:22.871496900Z",
     "start_time": "2023-11-14T19:41:22.029804300Z"
    }
   },
   "id": "1f19704a7536edd4"
  },
  {
   "cell_type": "code",
   "execution_count": 8,
   "outputs": [],
   "source": [],
   "metadata": {
    "collapsed": false,
    "ExecuteTime": {
     "end_time": "2023-11-09T19:23:38.606015700Z",
     "start_time": "2023-11-09T19:23:38.601014700Z"
    }
   },
   "id": "c71a33c4367aba24"
  },
  {
   "cell_type": "code",
   "execution_count": 8,
   "outputs": [],
   "source": [],
   "metadata": {
    "collapsed": false,
    "ExecuteTime": {
     "end_time": "2023-11-09T19:23:38.606015700Z",
     "start_time": "2023-11-09T19:23:38.606015700Z"
    }
   },
   "id": "fc99b920f527c31a"
  },
  {
   "cell_type": "code",
   "execution_count": 8,
   "outputs": [],
   "source": [],
   "metadata": {
    "collapsed": false,
    "ExecuteTime": {
     "end_time": "2023-11-09T19:23:38.624042100Z",
     "start_time": "2023-11-09T19:23:38.607016100Z"
    }
   },
   "id": "631270bbf845d66c"
  },
  {
   "cell_type": "code",
   "execution_count": 8,
   "outputs": [],
   "source": [],
   "metadata": {
    "collapsed": false,
    "ExecuteTime": {
     "end_time": "2023-11-09T19:23:38.624042100Z",
     "start_time": "2023-11-09T19:23:38.610208100Z"
    }
   },
   "id": "7b322a34013c94c6"
  },
  {
   "cell_type": "code",
   "execution_count": 8,
   "outputs": [],
   "source": [],
   "metadata": {
    "collapsed": false,
    "ExecuteTime": {
     "end_time": "2023-11-09T19:23:38.624042100Z",
     "start_time": "2023-11-09T19:23:38.618715300Z"
    }
   },
   "id": "420ceaa835e25cd"
  },
  {
   "cell_type": "code",
   "execution_count": 8,
   "outputs": [],
   "source": [],
   "metadata": {
    "collapsed": false,
    "ExecuteTime": {
     "end_time": "2023-11-09T19:23:38.624042100Z",
     "start_time": "2023-11-09T19:23:38.623052900Z"
    }
   },
   "id": "d0b85d9409d27558"
  },
  {
   "cell_type": "code",
   "execution_count": 8,
   "outputs": [],
   "source": [],
   "metadata": {
    "collapsed": false,
    "ExecuteTime": {
     "end_time": "2023-11-09T19:23:38.659263700Z",
     "start_time": "2023-11-09T19:23:38.629051100Z"
    }
   },
   "id": "7240d16df9e0f4f1"
  },
  {
   "cell_type": "code",
   "execution_count": 8,
   "outputs": [],
   "source": [],
   "metadata": {
    "collapsed": false,
    "ExecuteTime": {
     "end_time": "2023-11-09T19:23:38.669268Z",
     "start_time": "2023-11-09T19:23:38.630044700Z"
    }
   },
   "id": "e9ca74c018805d07"
  },
  {
   "cell_type": "code",
   "execution_count": 8,
   "outputs": [],
   "source": [],
   "metadata": {
    "collapsed": false,
    "ExecuteTime": {
     "end_time": "2023-11-09T19:23:38.669268Z",
     "start_time": "2023-11-09T19:23:38.634052300Z"
    }
   },
   "id": "2c235ef17a1416f3"
  },
  {
   "cell_type": "code",
   "execution_count": 8,
   "outputs": [],
   "source": [],
   "metadata": {
    "collapsed": false,
    "ExecuteTime": {
     "end_time": "2023-11-09T19:23:38.669268Z",
     "start_time": "2023-11-09T19:23:38.639052500Z"
    }
   },
   "id": "e83d849d6d4b1089"
  },
  {
   "cell_type": "code",
   "execution_count": 8,
   "outputs": [],
   "source": [],
   "metadata": {
    "collapsed": false,
    "ExecuteTime": {
     "end_time": "2023-11-09T19:23:38.689535700Z",
     "start_time": "2023-11-09T19:23:38.639052500Z"
    }
   },
   "id": "b03cd6fe81212b14"
  },
  {
   "cell_type": "code",
   "execution_count": 8,
   "outputs": [],
   "source": [],
   "metadata": {
    "collapsed": false,
    "ExecuteTime": {
     "end_time": "2023-11-09T19:23:38.710958300Z",
     "start_time": "2023-11-09T19:23:38.645042Z"
    }
   },
   "id": "544dad6fa234b002"
  }
 ],
 "metadata": {
  "kernelspec": {
   "name": "conda-env-AggNet-py",
   "language": "python",
   "display_name": "Python [conda env:AggNet]"
  },
  "language_info": {
   "codemirror_mode": {
    "name": "ipython",
    "version": 2
   },
   "file_extension": ".py",
   "mimetype": "text/x-python",
   "name": "python",
   "nbconvert_exporter": "python",
   "pygments_lexer": "ipython2",
   "version": "2.7.6"
  }
 },
 "nbformat": 4,
 "nbformat_minor": 5
}
