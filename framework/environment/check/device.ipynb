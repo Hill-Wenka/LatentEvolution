{
 "cells": [
  {
   "cell_type": "code",
   "execution_count": 1,
   "outputs": [
    {
     "name": "stdout",
     "output_type": "stream",
     "text": [
      "\u001B[0m\u001B[01;34manaconda3\u001B[0m/           \u001B[01;34mDesktop\u001B[0m/     Makefile          \u001B[01;34mpython\u001B[0m/       \u001B[01;34mVideos\u001B[0m/\r\n",
      "\u001B[01;34mbuild\u001B[0m/               \u001B[01;34mDocuments\u001B[0m/   \u001B[01;34mMusic\u001B[0m/            \u001B[01;34mreduce\u001B[0m/\r\n",
      "CMakeCache.txt       \u001B[01;34mDownloads\u001B[0m/   \u001B[01;34mnni-experiments\u001B[0m/  \u001B[01;34mreduce_src\u001B[0m/\r\n",
      "\u001B[01;34mCMakeFiles\u001B[0m/          jupyter.log  \u001B[01;34mPictures\u001B[0m/         \u001B[01;34mTemplates\u001B[0m/\r\n",
      "cmake_install.cmake  \u001B[01;34mlibpdb\u001B[0m/      \u001B[01;34mPublic\u001B[0m/           \u001B[01;34mtoolclasses\u001B[0m/\r\n"
     ]
    }
   ],
   "source": [
    "%ls"
   ],
   "metadata": {
    "collapsed": false,
    "ExecuteTime": {
     "end_time": "2023-07-29T23:30:39.832339300Z",
     "start_time": "2023-07-29T23:30:39.696705200Z"
    }
   }
  },
  {
   "cell_type": "code",
   "execution_count": 2,
   "metadata": {
    "collapsed": true,
    "ExecuteTime": {
     "end_time": "2023-07-29T23:30:40.700298100Z",
     "start_time": "2023-07-29T23:30:39.832339300Z"
    }
   },
   "outputs": [],
   "source": [
    "import torch"
   ]
  },
  {
   "cell_type": "code",
   "execution_count": 3,
   "outputs": [
    {
     "name": "stdout",
     "output_type": "stream",
     "text": [
      "torch_version: 1.12.1\n",
      "cuda_version: 11.6\n",
      "cudnn_version: 8302\n"
     ]
    }
   ],
   "source": [
    "torch_version = torch.__version__\n",
    "cuda_version = torch.version.cuda\n",
    "cudnn_version = torch.backends.cudnn.version()\n",
    "string = f'torch_version: {torch_version}\\ncuda_version: {cuda_version}\\ncudnn_version: {cudnn_version}'\n",
    "print(string)"
   ],
   "metadata": {
    "collapsed": false,
    "ExecuteTime": {
     "end_time": "2023-07-29T23:30:40.730350100Z",
     "start_time": "2023-07-29T23:30:40.724351Z"
    }
   }
  },
  {
   "cell_type": "code",
   "execution_count": 4,
   "outputs": [
    {
     "name": "stdout",
     "output_type": "stream",
     "text": [
      "cuda_available: True\n",
      "device_count: 1\n",
      "current_device[0]: Quadro P6000\n"
     ]
    }
   ],
   "source": [
    "cuda_available = torch.cuda.is_available()\n",
    "device_count = torch.cuda.device_count()\n",
    "current_device = torch.cuda.current_device()\n",
    "device_name = torch.cuda.get_device_name(0)  # GPU type\n",
    "string = f'cuda_available: {cuda_available}\\ndevice_count: {device_count}\\ncurrent_device[{current_device}]: {device_name}'\n",
    "print(string)"
   ],
   "metadata": {
    "collapsed": false,
    "ExecuteTime": {
     "end_time": "2023-07-29T23:30:40.855569500Z",
     "start_time": "2023-07-29T23:30:40.730350100Z"
    }
   }
  },
  {
   "cell_type": "code",
   "execution_count": 5,
   "outputs": [
    {
     "name": "stdout",
     "output_type": "stream",
     "text": [
      "Sun Jul 30 02:30:45 2023       \r\n",
      "+-----------------------------------------------------------------------------+\r\n",
      "| NVIDIA-SMI 470.199.02   Driver Version: 470.199.02   CUDA Version: 11.4     |\r\n",
      "|-------------------------------+----------------------+----------------------+\r\n",
      "| GPU  Name        Persistence-M| Bus-Id        Disp.A | Volatile Uncorr. ECC |\r\n",
      "| Fan  Temp  Perf  Pwr:Usage/Cap|         Memory-Usage | GPU-Util  Compute M. |\r\n",
      "|                               |                      |               MIG M. |\r\n",
      "|===============================+======================+======================|\r\n",
      "|   0  Quadro P6000        Off  | 00000000:81:00.0 Off |                  Off |\r\n",
      "| 52%   81C    P0   175W / 250W |  18822MiB / 24446MiB |    100%      Default |\r\n",
      "|                               |                      |                  N/A |\r\n",
      "+-------------------------------+----------------------+----------------------+\r\n",
      "                                                                               \r\n",
      "+-----------------------------------------------------------------------------+\r\n",
      "| Processes:                                                                  |\r\n",
      "|  GPU   GI   CI        PID   Type   Process name                  GPU Memory |\r\n",
      "|        ID   ID                                                   Usage      |\r\n",
      "|=============================================================================|\r\n",
      "|    0   N/A  N/A      2063      G   /usr/lib/xorg/Xorg                214MiB |\r\n",
      "|    0   N/A  N/A      4140      G   /usr/lib/xorg/Xorg                396MiB |\r\n",
      "|    0   N/A  N/A      4295      G   /usr/bin/gnome-shell               24MiB |\r\n",
      "|    0   N/A  N/A   2952776      C   python                          17961MiB |\r\n",
      "|    0   N/A  N/A   4015221      G   ...2gtk-4.0/WebKitWebProcess      184MiB |\r\n",
      "+-----------------------------------------------------------------------------+\r\n"
     ]
    }
   ],
   "source": [
    "!nvidia-smi"
   ],
   "metadata": {
    "collapsed": false,
    "ExecuteTime": {
     "end_time": "2023-07-29T23:30:41.161259100Z",
     "start_time": "2023-07-29T23:30:40.855569500Z"
    }
   }
  },
  {
   "cell_type": "code",
   "execution_count": 6,
   "outputs": [
    {
     "name": "stdout",
     "output_type": "stream",
     "text": [
      "/bin/bash: line 0: kill: (606923) - No such process\r\n"
     ]
    }
   ],
   "source": [
    "!kill 606923"
   ],
   "metadata": {
    "collapsed": false,
    "ExecuteTime": {
     "end_time": "2023-07-29T23:30:41.299514200Z",
     "start_time": "2023-07-29T23:30:41.161259100Z"
    }
   }
  },
  {
   "cell_type": "code",
   "execution_count": 6,
   "outputs": [],
   "source": [],
   "metadata": {
    "collapsed": false,
    "ExecuteTime": {
     "end_time": "2023-07-29T23:30:41.303055100Z",
     "start_time": "2023-07-29T23:30:41.299514200Z"
    }
   }
  },
  {
   "cell_type": "code",
   "execution_count": 6,
   "outputs": [],
   "source": [],
   "metadata": {
    "collapsed": false,
    "ExecuteTime": {
     "end_time": "2023-07-29T23:30:41.306297600Z",
     "start_time": "2023-07-29T23:30:41.303055100Z"
    }
   }
  }
 ],
 "metadata": {
  "kernelspec": {
   "name": "python3",
   "language": "python",
   "display_name": "Python 3 (ipykernel)"
  },
  "language_info": {
   "codemirror_mode": {
    "name": "ipython",
    "version": 2
   },
   "file_extension": ".py",
   "mimetype": "text/x-python",
   "name": "python",
   "nbconvert_exporter": "python",
   "pygments_lexer": "ipython2",
   "version": "2.7.6"
  }
 },
 "nbformat": 4,
 "nbformat_minor": 0
}
