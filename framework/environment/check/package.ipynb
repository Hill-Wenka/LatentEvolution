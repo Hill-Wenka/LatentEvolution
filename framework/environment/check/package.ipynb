{
 "cells": [
  {
   "cell_type": "code",
   "execution_count": 1,
   "outputs": [
    {
     "name": "stdout",
     "output_type": "stream",
     "text": [
      "/home/hew/python/AggNet\n",
      "\u001B[0m\u001B[01;34mdata\u001B[0m/  \u001B[01;34mframework\u001B[0m/  main.py  \u001B[01;34mscript\u001B[0m/  \u001B[01;34mtemp\u001B[0m/\r\n"
     ]
    }
   ],
   "source": [
    "%cd 'python/AggNet'\n",
    "%ls"
   ],
   "metadata": {
    "collapsed": false,
    "ExecuteTime": {
     "end_time": "2023-07-29T23:40:40.357662100Z",
     "start_time": "2023-07-29T23:40:40.211551500Z"
    }
   }
  },
  {
   "cell_type": "code",
   "execution_count": 2,
   "outputs": [
    {
     "name": "stdout",
     "output_type": "stream",
     "text": [
      "========== add root_path and framework_path to sys.path ==========\n",
      "root_path: /home/hew/python/AggNet\n",
      "framework_path: /home/hew/python/AggNet/framework\n",
      "==================================================================\n"
     ]
    },
    {
     "data": {
      "text/plain": "{'path_dataset': '/home/hew/python/data/', 'root': '/home/hew/python/AggNet/', 'data': '/home/hew/python/AggNet/data/', 'script': '/home/hew/python/AggNet/script/', 'temp': '/home/hew/python/AggNet/temp/', 'framework': '/home/hew/python/AggNet/framework/', 'config': '/home/hew/python/AggNet/framework/config/', 'module': '/home/hew/python/AggNet/framework/module/', 'utils': '/home/hew/python/AggNet/framework/utils/'}"
     },
     "execution_count": 2,
     "metadata": {},
     "output_type": "execute_result"
    }
   ],
   "source": [
    "from framework import paths\n",
    "\n",
    "paths"
   ],
   "metadata": {
    "collapsed": false,
    "ExecuteTime": {
     "end_time": "2023-07-29T23:40:40.482876Z",
     "start_time": "2023-07-29T23:40:40.339394300Z"
    }
   }
  },
  {
   "cell_type": "code",
   "execution_count": 3,
   "outputs": [
    {
     "name": "stdout",
     "output_type": "stream",
     "text": [
      "/home/hew/python/AggNet/framework/environment/check\n",
      "device.ipynb  \u001B[0m\u001B[01;34mlightning_logs\u001B[0m/  \u001B[01;34mMNIST\u001B[0m/  package.ipynb\r\n"
     ]
    }
   ],
   "source": [
    "%cd 'framework/environment/check'\n",
    "%ls"
   ],
   "metadata": {
    "collapsed": false,
    "ExecuteTime": {
     "end_time": "2023-07-29T23:40:40.660170300Z",
     "start_time": "2023-07-29T23:40:40.524255200Z"
    }
   }
  },
  {
   "cell_type": "code",
   "execution_count": 3,
   "outputs": [],
   "source": [],
   "metadata": {
    "collapsed": false,
    "ExecuteTime": {
     "end_time": "2023-07-29T23:40:40.665345100Z",
     "start_time": "2023-07-29T23:40:40.665345100Z"
    }
   }
  },
  {
   "cell_type": "markdown",
   "source": [
    "# pytorch"
   ],
   "metadata": {
    "collapsed": false
   }
  },
  {
   "cell_type": "code",
   "execution_count": 4,
   "metadata": {
    "collapsed": true,
    "ExecuteTime": {
     "end_time": "2023-07-29T23:40:41.786168300Z",
     "start_time": "2023-07-29T23:40:40.669344900Z"
    }
   },
   "outputs": [
    {
     "name": "stdout",
     "output_type": "stream",
     "text": [
      "x: cpu torch.float32 \n",
      " tensor([[ 0.1573,  0.3233, -0.1688, -0.2706,  1.1577,  0.6455,  1.5494,  0.1635],\n",
      "        [ 0.5716,  1.7270,  0.8961, -0.0548, -1.3007, -0.2785,  1.1996,  1.7333],\n",
      "        [ 0.2636,  0.1495,  1.3049, -0.1980, -0.0311, -0.5779,  0.3601,  1.8673],\n",
      "        [-1.7628,  0.5562, -0.1875, -0.0866, -0.6309, -0.1830,  1.6571,  0.0268]])\n",
      "y: cpu torch.int64 \n",
      " tensor([[3, 0, 0, 1, 0, 0, 5, 3],\n",
      "        [8, 8, 6, 8, 8, 6, 9, 5],\n",
      "        [5, 6, 8, 7, 1, 9, 4, 5],\n",
      "        [2, 2, 5, 4, 4, 9, 8, 1]])\n",
      "z: cpu torch.float32 \n",
      " tensor([[0.6165, 0.7321, 0.6586, 0.0809],\n",
      "        [0.7025, 0.9855, 0.6828, 0.4210],\n",
      "        [0.1450, 0.8402, 0.6575, 0.5293]])\n"
     ]
    }
   ],
   "source": [
    "import torch\n",
    "\n",
    "x = torch.randn([4, 8])  # Gaussian(0, 1) float\n",
    "y = torch.randint(0, 10, [4, 8])  # [0, 10) integer\n",
    "z = torch.rand(3, 4)  # [0, 1] float\n",
    "print('x:', x.device, x.dtype, '\\n', x)\n",
    "print('y:', y.device, y.dtype, '\\n', y)\n",
    "print('z:', z.device, z.dtype, '\\n', z)"
   ]
  },
  {
   "cell_type": "code",
   "execution_count": 5,
   "outputs": [
    {
     "name": "stdout",
     "output_type": "stream",
     "text": [
      "x: cpu torch.float32 \n",
      " tensor([[1., 1., 1., 1., 1., 1., 1., 1.],\n",
      "        [1., 1., 1., 1., 1., 1., 1., 1.],\n",
      "        [1., 1., 1., 1., 1., 1., 1., 1.],\n",
      "        [1., 1., 1., 1., 1., 1., 1., 1.]])\n",
      "y: cpu torch.float32 \n",
      " tensor([[0., 0., 0., 0., 0., 0., 0., 0.],\n",
      "        [0., 0., 0., 0., 0., 0., 0., 0.],\n",
      "        [0., 0., 0., 0., 0., 0., 0., 0.],\n",
      "        [0., 0., 0., 0., 0., 0., 0., 0.]])\n"
     ]
    },
    {
     "data": {
      "text/plain": "(torch.float32, torch.int64, torch.float32, torch.float64)"
     },
     "execution_count": 5,
     "metadata": {},
     "output_type": "execute_result"
    }
   ],
   "source": [
    "x = torch.ones_like(x, dtype=torch.float)\n",
    "y = torch.zeros_like(x)\n",
    "print('x:', x.device, x.dtype, '\\n', x)\n",
    "print('y:', y.device, y.dtype, '\\n', y)\n",
    "y.dtype, y.to(torch.int64).dtype, y.to(torch.float).dtype, y.to(torch.double).dtype"
   ],
   "metadata": {
    "collapsed": false,
    "ExecuteTime": {
     "end_time": "2023-07-29T23:40:41.790236100Z",
     "start_time": "2023-07-29T23:40:41.786168300Z"
    }
   }
  },
  {
   "cell_type": "code",
   "execution_count": 6,
   "outputs": [
    {
     "name": "stdout",
     "output_type": "stream",
     "text": [
      "device: cuda:0\n",
      "tensor([[2., 2., 2., 2., 2., 2., 2., 2.],\n",
      "        [2., 2., 2., 2., 2., 2., 2., 2.],\n",
      "        [2., 2., 2., 2., 2., 2., 2., 2.],\n",
      "        [2., 2., 2., 2., 2., 2., 2., 2.]], device='cuda:0')\n",
      "tensor([[2., 2., 2., 2., 2., 2., 2., 2.],\n",
      "        [2., 2., 2., 2., 2., 2., 2., 2.],\n",
      "        [2., 2., 2., 2., 2., 2., 2., 2.],\n",
      "        [2., 2., 2., 2., 2., 2., 2., 2.]], dtype=torch.float64)\n"
     ]
    }
   ],
   "source": [
    "device = torch.device('cuda:0') if torch.cuda.is_available() else torch.device('cpu')\n",
    "# torch.cuda.set_device(0)\n",
    "print('device:', device)\n",
    "y = torch.ones_like(x, device=device)\n",
    "x = x.to(device)\n",
    "# x = x.cuda()\n",
    "z = x + y\n",
    "print(z)\n",
    "print(z.to('cpu', torch.double))"
   ],
   "metadata": {
    "collapsed": false,
    "ExecuteTime": {
     "end_time": "2023-07-29T23:40:43.649134300Z",
     "start_time": "2023-07-29T23:40:41.790236100Z"
    }
   }
  },
  {
   "cell_type": "code",
   "execution_count": 7,
   "outputs": [
    {
     "data": {
      "text/plain": "'1.12.1'"
     },
     "execution_count": 7,
     "metadata": {},
     "output_type": "execute_result"
    }
   ],
   "source": [
    "torch.__version__"
   ],
   "metadata": {
    "collapsed": false,
    "ExecuteTime": {
     "end_time": "2023-07-29T23:40:43.650134700Z",
     "start_time": "2023-07-29T23:40:43.649134300Z"
    }
   }
  },
  {
   "cell_type": "code",
   "execution_count": 7,
   "outputs": [],
   "source": [],
   "metadata": {
    "collapsed": false,
    "ExecuteTime": {
     "end_time": "2023-07-29T23:40:43.655361600Z",
     "start_time": "2023-07-29T23:40:43.655361600Z"
    }
   }
  },
  {
   "cell_type": "markdown",
   "source": [
    "# numpy, matplotlib"
   ],
   "metadata": {
    "collapsed": false
   }
  },
  {
   "cell_type": "code",
   "execution_count": 8,
   "outputs": [
    {
     "data": {
      "text/plain": "[<matplotlib.lines.Line2D at 0x14562052d7b0>]"
     },
     "execution_count": 8,
     "metadata": {},
     "output_type": "execute_result"
    },
    {
     "data": {
      "text/plain": "<Figure size 640x480 with 3 Axes>",
      "image/png": "[encoded data removed]"
     },
     "metadata": {},
     "output_type": "display_data"
    }
   ],
   "source": [
    "import numpy as np\n",
    "import matplotlib.pyplot as plt\n",
    "\n",
    "\n",
    "def f(t):\n",
    "    return np.exp(-t) * np.cos(2 * np.pi * t)\n",
    "\n",
    "\n",
    "t1 = np.arange(0, 5, 0.1)\n",
    "t2 = np.arange(0, 5, 0.02)\n",
    "\n",
    "plt.figure(12)\n",
    "plt.subplot(221)\n",
    "plt.plot(t1, f(t1), 'bo', t2, f(t2), 'r--')\n",
    "\n",
    "plt.subplot(222)\n",
    "plt.plot(t2, np.cos(2 * np.pi * t2), 'r--')\n",
    "\n",
    "plt.subplot(212)\n",
    "plt.plot([1, 2, 3, 4], [1, 4, 9, 16])"
   ],
   "metadata": {
    "collapsed": false,
    "ExecuteTime": {
     "end_time": "2023-07-29T23:40:45.034496300Z",
     "start_time": "2023-07-29T23:40:43.660366400Z"
    }
   }
  },
  {
   "cell_type": "code",
   "execution_count": 8,
   "outputs": [],
   "source": [],
   "metadata": {
    "collapsed": false,
    "ExecuteTime": {
     "end_time": "2023-07-29T23:40:45.035493500Z",
     "start_time": "2023-07-29T23:40:45.034496300Z"
    }
   }
  },
  {
   "cell_type": "markdown",
   "source": [
    "# pandas"
   ],
   "metadata": {
    "collapsed": false
   }
  },
  {
   "cell_type": "code",
   "execution_count": 9,
   "outputs": [
    {
     "data": {
      "text/plain": "          0         1         2         3         4         5\n0  0.320764  0.891749  0.984494  0.330798  0.961069  0.606727\n1  0.548853  0.848548  0.784333  0.122314  0.075589  0.513409\n2  0.759026  0.695816  0.411546  0.268716  0.370359  0.127032\n3  0.488780  0.271381  0.952558  0.487271  0.821115  0.032154\n4  0.369638  0.375879  0.967808  0.015479  0.113740  0.201555",
      "text/html": "<div>\n<style scoped>\n    .dataframe tbody tr th:only-of-type {\n        vertical-align: middle;\n    }\n\n    .dataframe tbody tr th {\n        vertical-align: top;\n    }\n\n    .dataframe thead th {\n        text-align: right;\n    }\n</style>\n<table border=\"1\" class=\"dataframe\">\n  <thead>\n    <tr style=\"text-align: right;\">\n      <th></th>\n      <th>0</th>\n      <th>1</th>\n      <th>2</th>\n      <th>3</th>\n      <th>4</th>\n      <th>5</th>\n    </tr>\n  </thead>\n  <tbody>\n    <tr>\n      <th>0</th>\n      <td>0.320764</td>\n      <td>0.891749</td>\n      <td>0.984494</td>\n      <td>0.330798</td>\n      <td>0.961069</td>\n      <td>0.606727</td>\n    </tr>\n    <tr>\n      <th>1</th>\n      <td>0.548853</td>\n      <td>0.848548</td>\n      <td>0.784333</td>\n      <td>0.122314</td>\n      <td>0.075589</td>\n      <td>0.513409</td>\n    </tr>\n    <tr>\n      <th>2</th>\n      <td>0.759026</td>\n      <td>0.695816</td>\n      <td>0.411546</td>\n      <td>0.268716</td>\n      <td>0.370359</td>\n      <td>0.127032</td>\n    </tr>\n    <tr>\n      <th>3</th>\n      <td>0.488780</td>\n      <td>0.271381</td>\n      <td>0.952558</td>\n      <td>0.487271</td>\n      <td>0.821115</td>\n      <td>0.032154</td>\n    </tr>\n    <tr>\n      <th>4</th>\n      <td>0.369638</td>\n      <td>0.375879</td>\n      <td>0.967808</td>\n      <td>0.015479</td>\n      <td>0.113740</td>\n      <td>0.201555</td>\n    </tr>\n  </tbody>\n</table>\n</div>"
     },
     "execution_count": 9,
     "metadata": {},
     "output_type": "execute_result"
    }
   ],
   "source": [
    "import numpy as np\n",
    "import pandas as pd\n",
    "\n",
    "df = np.random.random([5, 6])\n",
    "df = pd.DataFrame(df)\n",
    "df"
   ],
   "metadata": {
    "collapsed": false,
    "ExecuteTime": {
     "end_time": "2023-07-29T23:40:45.512920900Z",
     "start_time": "2023-07-29T23:40:45.035493500Z"
    }
   }
  },
  {
   "cell_type": "code",
   "execution_count": 10,
   "outputs": [
    {
     "data": {
      "text/plain": "              0         1         2         3         4         5\ncount  5.000000  5.000000  5.000000  5.000000  5.000000  5.000000\nmean   0.497412  0.616675  0.820148  0.244915  0.468375  0.296175\nstd    0.172260  0.279689  0.242169  0.183269  0.405224  0.250451\nmin    0.320764  0.271381  0.411546  0.015479  0.075589  0.032154\n25%    0.369638  0.375879  0.784333  0.122314  0.113740  0.127032\n50%    0.488780  0.695816  0.952558  0.268716  0.370359  0.201555\n75%    0.548853  0.848548  0.967808  0.330798  0.821115  0.513409\nmax    0.759026  0.891749  0.984494  0.487271  0.961069  0.606727",
      "text/html": "<div>\n<style scoped>\n    .dataframe tbody tr th:only-of-type {\n        vertical-align: middle;\n    }\n\n    .dataframe tbody tr th {\n        vertical-align: top;\n    }\n\n    .dataframe thead th {\n        text-align: right;\n    }\n</style>\n<table border=\"1\" class=\"dataframe\">\n  <thead>\n    <tr style=\"text-align: right;\">\n      <th></th>\n      <th>0</th>\n      <th>1</th>\n      <th>2</th>\n      <th>3</th>\n      <th>4</th>\n      <th>5</th>\n    </tr>\n  </thead>\n  <tbody>\n    <tr>\n      <th>count</th>\n      <td>5.000000</td>\n      <td>5.000000</td>\n      <td>5.000000</td>\n      <td>5.000000</td>\n      <td>5.000000</td>\n      <td>5.000000</td>\n    </tr>\n    <tr>\n      <th>mean</th>\n      <td>0.497412</td>\n      <td>0.616675</td>\n      <td>0.820148</td>\n      <td>0.244915</td>\n      <td>0.468375</td>\n      <td>0.296175</td>\n    </tr>\n    <tr>\n      <th>std</th>\n      <td>0.172260</td>\n      <td>0.279689</td>\n      <td>0.242169</td>\n      <td>0.183269</td>\n      <td>0.405224</td>\n      <td>0.250451</td>\n    </tr>\n    <tr>\n      <th>min</th>\n      <td>0.320764</td>\n      <td>0.271381</td>\n      <td>0.411546</td>\n      <td>0.015479</td>\n      <td>0.075589</td>\n      <td>0.032154</td>\n    </tr>\n    <tr>\n      <th>25%</th>\n      <td>0.369638</td>\n      <td>0.375879</td>\n      <td>0.784333</td>\n      <td>0.122314</td>\n      <td>0.113740</td>\n      <td>0.127032</td>\n    </tr>\n    <tr>\n      <th>50%</th>\n      <td>0.488780</td>\n      <td>0.695816</td>\n      <td>0.952558</td>\n      <td>0.268716</td>\n      <td>0.370359</td>\n      <td>0.201555</td>\n    </tr>\n    <tr>\n      <th>75%</th>\n      <td>0.548853</td>\n      <td>0.848548</td>\n      <td>0.967808</td>\n      <td>0.330798</td>\n      <td>0.821115</td>\n      <td>0.513409</td>\n    </tr>\n    <tr>\n      <th>max</th>\n      <td>0.759026</td>\n      <td>0.891749</td>\n      <td>0.984494</td>\n      <td>0.487271</td>\n      <td>0.961069</td>\n      <td>0.606727</td>\n    </tr>\n  </tbody>\n</table>\n</div>"
     },
     "execution_count": 10,
     "metadata": {},
     "output_type": "execute_result"
    }
   ],
   "source": [
    "df.describe()"
   ],
   "metadata": {
    "collapsed": false,
    "ExecuteTime": {
     "end_time": "2023-07-29T23:40:45.561115Z",
     "start_time": "2023-07-29T23:40:45.499322Z"
    }
   }
  },
  {
   "cell_type": "code",
   "execution_count": 10,
   "outputs": [],
   "source": [],
   "metadata": {
    "collapsed": false,
    "ExecuteTime": {
     "end_time": "2023-07-29T23:40:45.561115Z",
     "start_time": "2023-07-29T23:40:45.550293100Z"
    }
   }
  },
  {
   "cell_type": "markdown",
   "source": [
    "# pytorch-lightning"
   ],
   "metadata": {
    "collapsed": false
   }
  },
  {
   "cell_type": "code",
   "execution_count": 11,
   "outputs": [],
   "source": [
    "torch.set_float32_matmul_precision('high')"
   ],
   "metadata": {
    "collapsed": false,
    "ExecuteTime": {
     "end_time": "2023-07-29T23:40:45.599254700Z",
     "start_time": "2023-07-29T23:40:45.564622300Z"
    }
   }
  },
  {
   "cell_type": "code",
   "execution_count": 12,
   "outputs": [
    {
     "name": "stdout",
     "output_type": "stream",
     "text": [
      "start training\n"
     ]
    },
    {
     "name": "stderr",
     "output_type": "stream",
     "text": [
      "GPU available: True (cuda), used: True\n",
      "TPU available: False, using: 0 TPU cores\n",
      "IPU available: False, using: 0 IPUs\n",
      "HPU available: False, using: 0 HPUs\n",
      "LOCAL_RANK: 0 - CUDA_VISIBLE_DEVICES: [0]\n",
      "\n",
      "  | Name    | Type       | Params\n",
      "---------------------------------------\n",
      "0 | encoder | Sequential | 533 K \n",
      "1 | decoder | Sequential | 533 K \n",
      "---------------------------------------\n",
      "1.1 M     Trainable params\n",
      "0         Non-trainable params\n",
      "1.1 M     Total params\n",
      "4.268     Total estimated model params size (MB)\n"
     ]
    },
    {
     "data": {
      "text/plain": "Sanity Checking: 0it [00:00, ?it/s]",
      "application/vnd.jupyter.widget-view+json": {
       "version_major": 2,
       "version_minor": 0,
       "model_id": "255e638c4e7a4999af6e4cf65c60064f"
      }
     },
     "metadata": {},
     "output_type": "display_data"
    },
    {
     "name": "stderr",
     "output_type": "stream",
     "text": [
      "/home/hew/anaconda3/envs/AggNet/lib/python3.10/site-packages/lightning/pytorch/trainer/connectors/data_connector.py:430: PossibleUserWarning: The dataloader, val_dataloader, does not have many workers which may be a bottleneck. Consider increasing the value of the `num_workers` argument` (try 28 which is the number of cpus on this machine) in the `DataLoader` init to improve performance.\n",
      "  rank_zero_warn(\n",
      "/home/hew/anaconda3/envs/AggNet/lib/python3.10/site-packages/lightning/pytorch/trainer/connectors/data_connector.py:430: PossibleUserWarning: The dataloader, train_dataloader, does not have many workers which may be a bottleneck. Consider increasing the value of the `num_workers` argument` (try 28 which is the number of cpus on this machine) in the `DataLoader` init to improve performance.\n",
      "  rank_zero_warn(\n"
     ]
    },
    {
     "data": {
      "text/plain": "Training: 0it [00:00, ?it/s]",
      "application/vnd.jupyter.widget-view+json": {
       "version_major": 2,
       "version_minor": 0,
       "model_id": "174ebd3856ba49ba8b6a26d0cdcd3153"
      }
     },
     "metadata": {},
     "output_type": "display_data"
    },
    {
     "data": {
      "text/plain": "Validation: 0it [00:00, ?it/s]",
      "application/vnd.jupyter.widget-view+json": {
       "version_major": 2,
       "version_minor": 0,
       "model_id": "bcd35badf10d4364ae1cbde4d0753e1c"
      }
     },
     "metadata": {},
     "output_type": "display_data"
    },
    {
     "name": "stdout",
     "output_type": "stream",
     "text": [
      "CPU times: user 5.5 s, sys: 1.08 s, total: 6.58 s\n",
      "Wall time: 13.2 s\n"
     ]
    },
    {
     "name": "stderr",
     "output_type": "stream",
     "text": [
      "/home/hew/anaconda3/envs/AggNet/lib/python3.10/site-packages/lightning/pytorch/trainer/call.py:54: UserWarning: Detected KeyboardInterrupt, attempting graceful shutdown...\n",
      "  rank_zero_warn(\"Detected KeyboardInterrupt, attempting graceful shutdown...\")\n"
     ]
    }
   ],
   "source": [
    "%%time\n",
    "import os\n",
    "import torch\n",
    "import torch.nn as nn\n",
    "import torch.nn.functional as F\n",
    "import torch.utils.data as data\n",
    "import torchvision as tv\n",
    "import lightning as L\n",
    "\n",
    "\n",
    "# --------------------------------\n",
    "# Step 1: Define a LightningModule\n",
    "# --------------------------------\n",
    "# A LightningModule (nn.Module subclass) defines a full *system*\n",
    "# (ie: an LLM, diffusion model, autoencoder, or simple image classifier).\n",
    "\n",
    "class LitAutoEncoder(L.LightningModule):\n",
    "    def __init__(self):\n",
    "        super().__init__()\n",
    "        self.encoder = nn.Sequential(nn.Linear(28 * 28, 512), nn.ReLU(), nn.Linear(512, 256))\n",
    "        self.decoder = nn.Sequential(nn.Linear(256, 512), nn.ReLU(), nn.Linear(512, 28 * 28))\n",
    "\n",
    "    def forward(self, x):\n",
    "        # in lightning, forward defines the prediction/inference actions\n",
    "        embedding = self.encoder(x)\n",
    "        return embedding\n",
    "\n",
    "    def training_step(self, batch, batch_idx):\n",
    "        # training_step defines the train loop. It is independent of forward\n",
    "        x, y = batch\n",
    "        x = x.view(x.size(0), -1)\n",
    "        z = self.encoder(x)\n",
    "        x_hat = self.decoder(z)\n",
    "        loss = F.mse_loss(x_hat, x)\n",
    "        self.log(\"train_loss\", loss)\n",
    "        return loss\n",
    "\n",
    "    def validation_step(self, batch, batch_idx):\n",
    "        # training_step defines the train loop. It is independent of forward\n",
    "        x, y = batch\n",
    "        x = x.view(x.size(0), -1)\n",
    "        z = self.encoder(x)\n",
    "        x_hat = self.decoder(z)\n",
    "        loss = F.mse_loss(x_hat, x)\n",
    "        self.log(\"valid_loss\", loss)\n",
    "        return loss\n",
    "\n",
    "    def test_step(self, batch, batch_idx):\n",
    "        # training_step defines the train loop. It is independent of forward\n",
    "        x, y = batch\n",
    "        x = x.view(x.size(0), -1)\n",
    "        z = self.encoder(x)\n",
    "        x_hat = self.decoder(z)\n",
    "        loss = F.mse_loss(x_hat, x)\n",
    "        self.log(\"test_loss\", loss)\n",
    "        return loss\n",
    "\n",
    "    def configure_optimizers(self):\n",
    "        optimizer = torch.optim.Adam(self.parameters(), lr=1e-3)\n",
    "        return optimizer\n",
    "\n",
    "\n",
    "# -------------------\n",
    "# Step 2: Define data\n",
    "# -------------------\n",
    "dataset = tv.datasets.MNIST(os.path.join(os.getcwd()), download=True, transform=tv.transforms.ToTensor(), train=True)\n",
    "train, val = data.random_split(dataset, [55000, 5000])\n",
    "\n",
    "# dataloader 的 batch_size 和 num_workers 对启动时间影响很大，batch_size越小启动时间越短，有时候num_workers越大启动时间反而越长，需要根据具体情况调整\n",
    "# train_loader = data.DataLoader(train, batch_size=1, num_workers=multiprocessing.cpu_count())\n",
    "# train_loader = data.DataLoader(train, batch_size=1, num_workers=multiprocessing.cpu_count()//2)\n",
    "# val_loader = data.DataLoader(val, batch_size=1, num_workers=multiprocessing.cpu_count()//2)\n",
    "train_loader = data.DataLoader(train, batch_size=1024, num_workers=1, pin_memory=True, persistent_workers=True)\n",
    "val_loader = data.DataLoader(val, batch_size=1024, num_workers=1, pin_memory=True, persistent_workers=True)\n",
    "\n",
    "# -------------------\n",
    "# Step 3: Train\n",
    "# -------------------\n",
    "print('start training')\n",
    "autoencoder = LitAutoEncoder()\n",
    "# trainer = L.Trainer(limit_train_batches=400, limit_val_batches=400, limit_test_batches=2000, val_check_interval=20, max_epochs=1)\n",
    "trainer = L.Trainer(max_epochs=10)\n",
    "trainer.fit(autoencoder, train_loader, val_loader)"
   ],
   "metadata": {
    "collapsed": false,
    "ExecuteTime": {
     "end_time": "2023-07-29T23:40:58.894378400Z",
     "start_time": "2023-07-29T23:40:45.565624Z"
    }
   }
  },
  {
   "cell_type": "code",
   "execution_count": 13,
   "outputs": [
    {
     "name": "stderr",
     "output_type": "stream",
     "text": [
      "LOCAL_RANK: 0 - CUDA_VISIBLE_DEVICES: [0]\n",
      "/home/hew/anaconda3/envs/AggNet/lib/python3.10/site-packages/lightning/pytorch/trainer/connectors/data_connector.py:430: PossibleUserWarning: The dataloader, test_dataloader, does not have many workers which may be a bottleneck. Consider increasing the value of the `num_workers` argument` (try 28 which is the number of cpus on this machine) in the `DataLoader` init to improve performance.\n",
      "  rank_zero_warn(\n"
     ]
    },
    {
     "data": {
      "text/plain": "Testing: 0it [00:00, ?it/s]",
      "application/vnd.jupyter.widget-view+json": {
       "version_major": 2,
       "version_minor": 0,
       "model_id": "ec27c2ab93324185b54d0a1a03de67a6"
      }
     },
     "metadata": {},
     "output_type": "display_data"
    },
    {
     "data": {
      "text/plain": "┏━━━━━━━━━━━━━━━━━━━━━━━━━━━┳━━━━━━━━━━━━━━━━━━━━━━━━━━━┓\n┃\u001B[1m \u001B[0m\u001B[1m       Test metric       \u001B[0m\u001B[1m \u001B[0m┃\u001B[1m \u001B[0m\u001B[1m      DataLoader 0       \u001B[0m\u001B[1m \u001B[0m┃\n┡━━━━━━━━━━━━━━━━━━━━━━━━━━━╇━━━━━━━━━━━━━━━━━━━━━━━━━━━┩\n│\u001B[36m \u001B[0m\u001B[36m        test_loss        \u001B[0m\u001B[36m \u001B[0m│\u001B[35m \u001B[0m\u001B[35m  0.026698065921664238   \u001B[0m\u001B[35m \u001B[0m│\n└───────────────────────────┴───────────────────────────┘\n",
      "text/html": "<pre style=\"white-space:pre;overflow-x:auto;line-height:normal;font-family:Menlo,'DejaVu Sans Mono',consolas,'Courier New',monospace\">┏━━━━━━━━━━━━━━━━━━━━━━━━━━━┳━━━━━━━━━━━━━━━━━━━━━━━━━━━┓\n┃<span style=\"font-weight: bold\">        Test metric        </span>┃<span style=\"font-weight: bold\">       DataLoader 0        </span>┃\n┡━━━━━━━━━━━━━━━━━━━━━━━━━━━╇━━━━━━━━━━━━━━━━━━━━━━━━━━━┩\n│<span style=\"color: #008080; text-decoration-color: #008080\">         test_loss         </span>│<span style=\"color: #800080; text-decoration-color: #800080\">   0.026698065921664238    </span>│\n└───────────────────────────┴───────────────────────────┘\n</pre>\n"
     },
     "metadata": {},
     "output_type": "display_data"
    },
    {
     "name": "stdout",
     "output_type": "stream",
     "text": [
      "CPU times: user 113 ms, sys: 118 ms, total: 231 ms\n",
      "Wall time: 1.84 s\n"
     ]
    },
    {
     "data": {
      "text/plain": "[{'test_loss': 0.026698065921664238}]"
     },
     "execution_count": 13,
     "metadata": {},
     "output_type": "execute_result"
    }
   ],
   "source": [
    "%%time\n",
    "test = tv.datasets.MNIST(os.path.join(os.getcwd()), download=True, transform=tv.transforms.ToTensor(), train=False)\n",
    "test_loader = data.DataLoader(test, batch_size=1024, num_workers=1, pin_memory=True,\n",
    "                              persistent_workers=True)  # 1.4 seconds\n",
    "# test_loader = data.DataLoader(test, batch_size=1024, num_workers=2., pin_memory=True, persistent_workers=True)  # 1.4 seconds\n",
    "# test_loader = data.DataLoader(test, batch_size=1024, num_workers=4, pin_memory=True, persistent_workers=True)  # 1.5 seconds\n",
    "# test_loader = data.DataLoader(test, batch_size=1024, num_workers=8, pin_memory=True, persistent_workers=True)  # 1.7 seconds\n",
    "# test_loader = data.DataLoader(test, batch_size=1024, num_workers=16, pin_memory=True, persistent_workers=True)  # 2.3 seconds\n",
    "# test_loader = data.DataLoader(test, batch_size=1, num_workers=multiprocessing.cpu_count())  # 9 seconds\n",
    "# test_loader = data.DataLoader(test, batch_size=128, num_workers=multiprocessing.cpu_count())  # 7 seconds\n",
    "# test_loader = data.DataLoader(test, batch_size=256, num_workers=multiprocessing.cpu_count())  # 7 seconds\n",
    "# test_loader = data.DataLoader(test, batch_size=512, num_workers=multiprocessing.cpu_count())  # 7 seconds\n",
    "trainer.test(autoencoder, test_loader)"
   ],
   "metadata": {
    "collapsed": false,
    "ExecuteTime": {
     "end_time": "2023-07-29T23:41:00.747225900Z",
     "start_time": "2023-07-29T23:40:58.899383Z"
    }
   }
  },
  {
   "cell_type": "code",
   "execution_count": 14,
   "outputs": [
    {
     "data": {
      "text/plain": "['epoch=0-step=54.ckpt']"
     },
     "execution_count": 14,
     "metadata": {},
     "output_type": "execute_result"
    }
   ],
   "source": [
    "from framework.utils.file.path_utils import list_files\n",
    "\n",
    "ckpt_dir = './lightning_logs/version_0/checkpoints'\n",
    "list_files(ckpt_dir)"
   ],
   "metadata": {
    "collapsed": false,
    "ExecuteTime": {
     "end_time": "2023-07-29T23:41:00.786295900Z",
     "start_time": "2023-07-29T23:41:00.758278700Z"
    }
   }
  },
  {
   "cell_type": "code",
   "execution_count": 15,
   "outputs": [
    {
     "name": "stdout",
     "output_type": "stream",
     "text": [
      "⚡⚡⚡⚡⚡⚡⚡⚡⚡⚡⚡⚡⚡⚡⚡⚡⚡⚡⚡⚡ \n",
      "Predictions (4 image embeddings):\n",
      " tensor([[        nan,         nan,         nan,  ...,         nan,\n",
      "                 nan,         nan],\n",
      "        [-9.8708e+23,  1.5982e+24,  1.1222e+24,  ...,  3.0934e+24,\n",
      "         -1.0971e+24,  1.9051e+24],\n",
      "        [-4.3369e+23,  2.0189e+24,  4.7750e+23,  ...,  3.8577e+23,\n",
      "         -2.9261e+23,  7.8432e+23],\n",
      "        [ 1.7081e+23,  1.7789e+23,  1.5732e+23,  ...,  4.2640e+23,\n",
      "          4.1530e+23,  6.6199e+23]], device='cuda:0', grad_fn=<AddmmBackward0>) \n",
      " ⚡⚡⚡⚡⚡⚡⚡⚡⚡⚡⚡⚡⚡⚡⚡⚡⚡⚡⚡⚡\n"
     ]
    }
   ],
   "source": [
    "# load checkpoint\n",
    "checkpoint = list_files(ckpt_dir, absolute=True)[0]\n",
    "autoencoder = LitAutoEncoder.load_from_checkpoint(checkpoint)\n",
    "\n",
    "# choose your trained nn.Module\n",
    "encoder = autoencoder.encoder\n",
    "encoder.eval()\n",
    "\n",
    "# embed 4 fake images!\n",
    "fake_image_batch = torch.Tensor(4, 28 * 28).to(autoencoder.device)\n",
    "embeddings = encoder(fake_image_batch)\n",
    "print(\"⚡\" * 20, \"\\nPredictions (4 image embeddings):\\n\", embeddings, \"\\n\", \"⚡\" * 20)"
   ],
   "metadata": {
    "collapsed": false,
    "ExecuteTime": {
     "end_time": "2023-07-29T23:41:00.929375700Z",
     "start_time": "2023-07-29T23:41:00.786295900Z"
    }
   }
  },
  {
   "cell_type": "code",
   "execution_count": 15,
   "outputs": [],
   "source": [],
   "metadata": {
    "collapsed": false,
    "ExecuteTime": {
     "end_time": "2023-07-29T23:41:00.936284900Z",
     "start_time": "2023-07-29T23:41:00.929375700Z"
    }
   }
  },
  {
   "cell_type": "code",
   "execution_count": 15,
   "outputs": [],
   "source": [],
   "metadata": {
    "collapsed": false,
    "ExecuteTime": {
     "end_time": "2023-07-29T23:41:00.955301100Z",
     "start_time": "2023-07-29T23:41:00.936284900Z"
    }
   }
  },
  {
   "cell_type": "code",
   "execution_count": 15,
   "outputs": [],
   "source": [],
   "metadata": {
    "collapsed": false,
    "ExecuteTime": {
     "end_time": "2023-07-29T23:41:00.985201200Z",
     "start_time": "2023-07-29T23:41:00.942796200Z"
    }
   }
  }
 ],
 "metadata": {
  "kernelspec": {
   "name": "conda-env-AggNet-py",
   "language": "python",
   "display_name": "Python [conda env:AggNet]"
  },
  "language_info": {
   "codemirror_mode": {
    "name": "ipython",
    "version": 2
   },
   "file_extension": ".py",
   "mimetype": "text/x-python",
   "name": "python",
   "nbconvert_exporter": "python",
   "pygments_lexer": "ipython2",
   "version": "2.7.6"
  }
 },
 "nbformat": 4,
 "nbformat_minor": 0
}
