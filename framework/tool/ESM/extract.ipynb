{
 "cells": [
  {
   "cell_type": "code",
   "execution_count": 1,
   "outputs": [
    {
     "name": "stdout",
     "output_type": "stream",
     "text": [
      "/home/hew/python/AggNet\n",
      "\u001B[0m\u001B[01;34mdata\u001B[0m/  \u001B[01;34mframework\u001B[0m/  main.py  result.pdb  \u001B[01;34mscript\u001B[0m/  \u001B[01;34mtemp\u001B[0m/\r\n"
     ]
    }
   ],
   "source": [
    "%cd 'python/AggNet'\n",
    "%ls"
   ],
   "metadata": {
    "collapsed": false,
    "pycharm": {
     "name": "#%%\n"
    },
    "ExecuteTime": {
     "end_time": "2023-07-29T22:22:16.605434100Z",
     "start_time": "2023-07-29T22:22:16.437030900Z"
    }
   }
  },
  {
   "cell_type": "code",
   "execution_count": 8,
   "outputs": [],
   "source": [
    "from framework import paths\n",
    "from framework.module.esm.esm2 import ESMWrapper"
   ],
   "metadata": {
    "collapsed": false,
    "pycharm": {
     "name": "#%%\n"
    },
    "ExecuteTime": {
     "end_time": "2023-07-29T22:37:20.144958900Z",
     "start_time": "2023-07-29T22:37:20.129906Z"
    }
   }
  },
  {
   "cell_type": "code",
   "execution_count": 8,
   "outputs": [],
   "source": [],
   "metadata": {
    "collapsed": false,
    "pycharm": {
     "name": "#%%\n"
    },
    "ExecuteTime": {
     "end_time": "2023-07-29T22:37:21.235981400Z",
     "start_time": "2023-07-29T22:37:21.229817700Z"
    }
   }
  },
  {
   "cell_type": "markdown",
   "source": [
    "# Setting"
   ],
   "metadata": {
    "collapsed": false
   }
  },
  {
   "cell_type": "code",
   "execution_count": 9,
   "outputs": [],
   "source": [
    "model = 'esm2_t33_650M_UR50D'\n",
    "repr_layers = '0,3,6,12,24,32,33'\n",
    "include = 'logits,mean,per_tok,contacts'\n",
    "extract_script = 'sh /home/hew/python/AggNet/framework/module/esm/esm2/extract.sh'\n",
    "esm_feature_extractor = ESMWrapper(model, repr_layers, include, extract_script)"
   ],
   "metadata": {
    "collapsed": false,
    "ExecuteTime": {
     "end_time": "2023-07-29T22:37:21.506989400Z",
     "start_time": "2023-07-29T22:37:21.502810800Z"
    }
   }
  },
  {
   "cell_type": "code",
   "execution_count": 9,
   "outputs": [],
   "source": [],
   "metadata": {
    "collapsed": false,
    "ExecuteTime": {
     "end_time": "2023-07-29T22:37:23.363023700Z",
     "start_time": "2023-07-29T22:37:23.357022100Z"
    }
   }
  },
  {
   "cell_type": "markdown",
   "source": [
    "# AmyHex"
   ],
   "metadata": {
    "collapsed": false,
    "pycharm": {
     "name": "#%% md\n"
    }
   }
  },
  {
   "cell_type": "code",
   "execution_count": 10,
   "outputs": [
    {
     "name": "stdout",
     "output_type": "stream",
     "text": [
      "using conda environment: AggNet\n",
      "executed file: /home/hew/python/AggNet/framework/module/esm/esm2/extract.sh\n",
      "model: esm2_t33_650M_UR50D\n",
      "fasta: /home/hew/python/AggNet/data//Hexapeptide/cooked/AmyHex.fasta\n",
      "output: /home/hew/python/AggNet/data//Hexapeptide/esm2/\n",
      "repr_layers: 0 3 6 12 24 32 33\n",
      "inclue: logits mean per_tok contacts\n",
      "Transferred model to GPU\n",
      "Read /home/hew/python/AggNet/data/Hexapeptide/cooked/AmyHex.fasta with 1421 sequences\n",
      "Processing 1 of 3 batches (585 sequences)\n",
      "Processing 2 of 3 batches (585 sequences)\n",
      "Processing 3 of 3 batches (251 sequences)\n",
      "CPU times: user 6.69 ms, sys: 2.6 ms, total: 9.29 ms\n",
      "Wall time: 29.3 s\n"
     ]
    },
    {
     "data": {
      "text/plain": "0"
     },
     "execution_count": 10,
     "metadata": {},
     "output_type": "execute_result"
    }
   ],
   "source": [
    "%%time\n",
    "fasta = paths.data + '/Hexapeptide/cooked/AmyHex.fasta'\n",
    "output = paths.data + '/Hexapeptide/esm2/'\n",
    "esm_feature_extractor.extract(fasta, output)"
   ],
   "metadata": {
    "collapsed": false,
    "pycharm": {
     "name": "#%%\n"
    },
    "ExecuteTime": {
     "end_time": "2023-07-29T22:37:52.961888500Z",
     "start_time": "2023-07-29T22:37:23.631758800Z"
    }
   }
  },
  {
   "cell_type": "code",
   "execution_count": 8,
   "outputs": [],
   "source": [],
   "metadata": {
    "collapsed": false,
    "pycharm": {
     "name": "#%%\n"
    }
   }
  },
  {
   "cell_type": "markdown",
   "source": [
    "# TPBLA WFL"
   ],
   "metadata": {
    "collapsed": false,
    "pycharm": {
     "name": "#%% md\n"
    }
   }
  },
  {
   "cell_type": "code",
   "execution_count": 14,
   "outputs": [
    {
     "name": "stdout",
     "output_type": "stream",
     "text": [
      "using conda environment: AggNet\n",
      "executed file: /home/hew/python/AggNet/framework/module/esm/esm2/extract.sh\n",
      "model: esm2_t33_650M_UR50D\n",
      "fasta: /home/hew/python/AggNet/data//TPBLA/cooked/WFL_evolution_new.fasta\n",
      "output: /home/hew/python/AggNet/data//TPBLA/esm2/WFL/\n",
      "repr_layers: 0 3 6 12 24 32 33\n",
      "inclue: logits mean per_tok contacts\n",
      "Transferred model to GPU\n",
      "Read /home/hew/python/AggNet/data/TPBLA/cooked/WFL_evolution_new.fasta with 184 sequences\n",
      "Processing 1 of 12 batches (16 sequences)\n",
      "Processing 2 of 12 batches (16 sequences)\n",
      "Processing 3 of 12 batches (16 sequences)\n",
      "Processing 4 of 12 batches (16 sequences)\n",
      "Processing 5 of 12 batches (16 sequences)\n",
      "Processing 6 of 12 batches (16 sequences)\n",
      "Processing 7 of 12 batches (16 sequences)\n",
      "Processing 8 of 12 batches (16 sequences)\n",
      "Processing 9 of 12 batches (16 sequences)\n",
      "Processing 10 of 12 batches (16 sequences)\n",
      "Processing 11 of 12 batches (16 sequences)\n",
      "Processing 12 of 12 batches (8 sequences)\n"
     ]
    },
    {
     "data": {
      "text/plain": "0"
     },
     "execution_count": 14,
     "metadata": {},
     "output_type": "execute_result"
    }
   ],
   "source": [
    "fasta = paths.data + '/TPBLA/cooked/WFL_evolution_new.fasta'\n",
    "output = paths.data + '/TPBLA/esm2/WFL/'\n",
    "esm_feature_extractor.extract(fasta, output)"
   ],
   "metadata": {
    "collapsed": false,
    "pycharm": {
     "name": "#%%\n"
    },
    "ExecuteTime": {
     "end_time": "2023-07-29T22:40:31.620094200Z",
     "start_time": "2023-07-29T22:40:02.430118200Z"
    }
   }
  },
  {
   "cell_type": "code",
   "execution_count": 14,
   "outputs": [],
   "source": [],
   "metadata": {
    "collapsed": false,
    "ExecuteTime": {
     "end_time": "2023-07-29T22:40:31.621095400Z",
     "start_time": "2023-07-29T22:40:31.620094200Z"
    }
   }
  },
  {
   "cell_type": "markdown",
   "source": [
    "# TPBLA JTO"
   ],
   "metadata": {
    "collapsed": false
   }
  },
  {
   "cell_type": "code",
   "execution_count": 15,
   "outputs": [
    {
     "name": "stdout",
     "output_type": "stream",
     "text": [
      "using conda environment: AggNet\n",
      "executed file: /home/hew/python/AggNet/framework/module/esm/esm2/extract.sh\n",
      "model: esm2_t33_650M_UR50D\n",
      "fasta: /home/hew/python/AggNet/data//TPBLA/cooked/JTO_evolution.fasta\n",
      "output: /home/hew/python/AggNet/data//TPBLA/esm2/JTO/\n",
      "repr_layers: 0 3 6 12 24 32 33\n",
      "inclue: logits mean per_tok contacts\n",
      "Transferred model to GPU\n",
      "Read /home/hew/python/AggNet/data/TPBLA/cooked/JTO_evolution.fasta with 76 sequences\n",
      "Processing 1 of 3 batches (36 sequences)\n",
      "Processing 2 of 3 batches (36 sequences)\n",
      "Processing 3 of 3 batches (4 sequences)\n"
     ]
    },
    {
     "data": {
      "text/plain": "0"
     },
     "execution_count": 15,
     "metadata": {},
     "output_type": "execute_result"
    }
   ],
   "source": [
    "fasta = paths.data + '/TPBLA/cooked/JTO_evolution.fasta'\n",
    "output = paths.data + '/TPBLA/esm2/JTO/'\n",
    "esm_feature_extractor.extract(fasta, output)"
   ],
   "metadata": {
    "collapsed": false,
    "ExecuteTime": {
     "end_time": "2023-07-29T22:40:47.891128800Z",
     "start_time": "2023-07-29T22:40:31.623685100Z"
    }
   }
  },
  {
   "cell_type": "code",
   "execution_count": 15,
   "outputs": [],
   "source": [],
   "metadata": {
    "collapsed": false,
    "pycharm": {
     "name": "#%%\n"
    },
    "ExecuteTime": {
     "end_time": "2023-07-29T22:40:47.895841Z",
     "start_time": "2023-07-29T22:40:47.891128800Z"
    }
   }
  },
  {
   "cell_type": "markdown",
   "source": [
    "# CST137"
   ],
   "metadata": {
    "collapsed": false,
    "pycharm": {
     "name": "#%% md\n"
    }
   }
  },
  {
   "cell_type": "code",
   "execution_count": 16,
   "outputs": [
    {
     "name": "stdout",
     "output_type": "stream",
     "text": [
      "Transferred model to GPU\n",
      "Read /home/hew/python/AggNet/data/CST137/cooked/CST137.fasta with 137 sequences\n",
      "Processing 1 of 9 batches (16 sequences)\n",
      "Processing 2 of 9 batches (16 sequences)\n",
      "Processing 3 of 9 batches (16 sequences)\n",
      "Processing 4 of 9 batches (16 sequences)\n",
      "Processing 5 of 9 batches (16 sequences)\n",
      "Processing 6 of 9 batches (16 sequences)\n",
      "Processing 7 of 9 batches (16 sequences)\n",
      "Processing 8 of 9 batches (16 sequences)\n",
      "Processing 9 of 9 batches (9 sequences)\n"
     ]
    },
    {
     "data": {
      "text/plain": "0"
     },
     "execution_count": 12,
     "metadata": {},
     "output_type": "execute_result"
    },
    {
     "name": "stdout",
     "output_type": "stream",
     "text": [
      "using conda environment: AggNet\n",
      "executed file: /home/hew/python/AggNet/framework/module/esm/esm2/extract.sh\n",
      "model: esm2_t33_650M_UR50D\n",
      "fasta: /home/hew/python/AggNet/data//CST137/cooked/CST137.fasta\n",
      "output: /home/hew/python/AggNet/data//CST137/esm2/\n",
      "repr_layers: 0 3 6 12 24 32 33\n",
      "inclue: logits mean per_tok contacts\n",
      "Transferred model to GPU\n",
      "Read /home/hew/python/AggNet/data/CST137/cooked/CST137.fasta with 137 sequences\n",
      "Processing 1 of 9 batches (16 sequences)\n",
      "Processing 2 of 9 batches (16 sequences)\n",
      "Processing 3 of 9 batches (16 sequences)\n",
      "Processing 4 of 9 batches (16 sequences)\n",
      "Processing 5 of 9 batches (16 sequences)\n",
      "Processing 6 of 9 batches (16 sequences)\n",
      "Processing 7 of 9 batches (16 sequences)\n",
      "Processing 8 of 9 batches (16 sequences)\n",
      "Processing 9 of 9 batches (9 sequences)\n"
     ]
    },
    {
     "data": {
      "text/plain": "0"
     },
     "execution_count": 16,
     "metadata": {},
     "output_type": "execute_result"
    }
   ],
   "source": [
    "fasta = paths.data + '/CST137/cooked/CST137.fasta'\n",
    "output = paths.data + '/CST137/esm2/'\n",
    "esm_feature_extractor.extract(fasta, output)"
   ],
   "metadata": {
    "collapsed": false,
    "pycharm": {
     "name": "#%%\n"
    }
   }
  },
  {
   "cell_type": "code",
   "execution_count": 17,
   "outputs": [],
   "source": [],
   "metadata": {
    "collapsed": false,
    "pycharm": {
     "name": "#%%\n"
    },
    "ExecuteTime": {
     "end_time": "2023-07-29T22:41:55.075947400Z",
     "start_time": "2023-07-29T22:41:55.069274Z"
    }
   }
  },
  {
   "cell_type": "markdown",
   "source": [
    "# Adnectin31"
   ],
   "metadata": {
    "collapsed": false,
    "pycharm": {
     "name": "#%% md\n"
    }
   }
  },
  {
   "cell_type": "code",
   "execution_count": 18,
   "outputs": [
    {
     "name": "stdout",
     "output_type": "stream",
     "text": [
      "Transferred model to GPU\n",
      "Read /home/hew/python/AggNet/data/Adnectin31/cooked/Adnectin31.fasta with 31 sequences\n",
      "Processing 1 of 1 batches (31 sequences)\n"
     ]
    },
    {
     "data": {
      "text/plain": "0"
     },
     "execution_count": 17,
     "metadata": {},
     "output_type": "execute_result"
    },
    {
     "name": "stdout",
     "output_type": "stream",
     "text": [
      "using conda environment: AggNet\n",
      "executed file: /home/hew/python/AggNet/framework/module/esm/esm2/extract.sh\n",
      "model: esm2_t33_650M_UR50D\n",
      "fasta: /home/hew/python/AggNet/data//Adnectin31/cooked/Adnectin31.fasta\n",
      "output: /home/hew/python/AggNet/data//Adnectin31/esm2/\n",
      "repr_layers: 0 3 6 12 24 32 33\n",
      "inclue: logits mean per_tok contacts\n",
      "Transferred model to GPU\n",
      "Read /home/hew/python/AggNet/data/Adnectin31/cooked/Adnectin31.fasta with 31 sequences\n",
      "Processing 1 of 1 batches (31 sequences)\n"
     ]
    },
    {
     "data": {
      "text/plain": "0"
     },
     "execution_count": 18,
     "metadata": {},
     "output_type": "execute_result"
    }
   ],
   "source": [
    "fasta = paths.data + '/Adnectin31/cooked/Adnectin31.fasta'\n",
    "output = paths.data + '/Adnectin31/esm2/'\n",
    "esm_feature_extractor.extract(fasta, output)"
   ],
   "metadata": {
    "collapsed": false,
    "pycharm": {
     "name": "#%%\n"
    }
   }
  },
  {
   "cell_type": "code",
   "execution_count": 18,
   "outputs": [],
   "source": [],
   "metadata": {
    "collapsed": false,
    "pycharm": {
     "name": "#%%\n"
    },
    "ExecuteTime": {
     "end_time": "2023-07-29T22:42:08.485100700Z",
     "start_time": "2023-07-29T22:42:08.443615900Z"
    }
   }
  },
  {
   "cell_type": "code",
   "execution_count": 14,
   "outputs": [],
   "source": [],
   "metadata": {
    "collapsed": false,
    "pycharm": {
     "name": "#%%\n"
    }
   }
  },
  {
   "cell_type": "code",
   "execution_count": 16,
   "outputs": [],
   "source": [],
   "metadata": {
    "collapsed": false,
    "pycharm": {
     "name": "#%%\n"
    }
   }
  },
  {
   "cell_type": "code",
   "execution_count": 16,
   "outputs": [],
   "source": [],
   "metadata": {
    "collapsed": false,
    "pycharm": {
     "name": "#%%\n"
    }
   }
  }
 ],
 "metadata": {
  "kernelspec": {
   "name": "conda-env-AggNet-py",
   "language": "python",
   "display_name": "Python [conda env:AggNet]"
  },
  "language_info": {
   "codemirror_mode": {
    "name": "ipython",
    "version": 2
   },
   "file_extension": ".py",
   "mimetype": "text/x-python",
   "name": "python",
   "nbconvert_exporter": "python",
   "pygments_lexer": "ipython2",
   "version": "2.7.6"
  }
 },
 "nbformat": 4,
 "nbformat_minor": 0
}
