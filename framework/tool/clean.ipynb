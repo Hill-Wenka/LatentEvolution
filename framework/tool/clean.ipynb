{
 "cells": [
  {
   "cell_type": "code",
   "execution_count": 1,
   "outputs": [
    {
     "name": "stdout",
     "output_type": "stream",
     "text": [
      "/home/hew/python/LatentEvolution\n",
      "\u001B[0m\u001B[01;34mcache\u001B[0m/  \u001B[01;34mdata\u001B[0m/  env.txt  \u001B[01;34mfigure\u001B[0m/  \u001B[01;34mframework\u001B[0m/  main.py  \u001B[01;34mscript\u001B[0m/  \u001B[01;34mtemp\u001B[0m/\r\n"
     ]
    }
   ],
   "source": [
    "%cd 'python/LatentEvolution/'\n",
    "%ls"
   ],
   "metadata": {
    "collapsed": false,
    "ExecuteTime": {
     "end_time": "2023-11-26T18:47:14.955620600Z",
     "start_time": "2023-11-26T18:47:14.739348500Z"
    }
   }
  },
  {
   "cell_type": "code",
   "execution_count": 2,
   "outputs": [
    {
     "name": "stdout",
     "output_type": "stream",
     "text": [
      "========== add root_path and framework_path to sys.path ==========\n",
      "root_path: /home/hew/python/LatentEvolution\n",
      "framework_path: /home/hew/python/LatentEvolution/framework\n",
      "==================================================================\n"
     ]
    },
    {
     "data": {
      "text/plain": "{'path_dataset': '/home/hew/python/data/', 'root': '/home/hew/python/LatentEvolution/', 'data': '/home/hew/python/LatentEvolution/data/', 'script': '/home/hew/python/LatentEvolution/script/', 'temp': '/home/hew/python/LatentEvolution/temp/', 'cache': '/home/hew/python/LatentEvolution/cache/', 'framework': '/home/hew/python/LatentEvolution/framework/', 'config': '/home/hew/python/LatentEvolution/framework/config/', 'module': '/home/hew/python/LatentEvolution/framework/module/', 'utils': '/home/hew/python/LatentEvolution/framework/utils/'}"
     },
     "execution_count": 2,
     "metadata": {},
     "output_type": "execute_result"
    }
   ],
   "source": [
    "from framework import paths\n",
    "from framework.utils.file.path_utils import filter_dirs, filter_files, remove_dirs, remove_files\n",
    "\n",
    "paths"
   ],
   "metadata": {
    "collapsed": false,
    "ExecuteTime": {
     "end_time": "2023-11-26T18:47:16.188635400Z",
     "start_time": "2023-11-26T18:47:16.106851300Z"
    }
   }
  },
  {
   "cell_type": "code",
   "execution_count": 2,
   "outputs": [],
   "source": [],
   "metadata": {
    "collapsed": false,
    "ExecuteTime": {
     "end_time": "2023-11-26T18:47:18.896482300Z",
     "start_time": "2023-11-26T18:47:18.889481800Z"
    }
   }
  },
  {
   "cell_type": "markdown",
   "source": [
    "## ipynb checkpoints"
   ],
   "metadata": {
    "collapsed": false
   }
  },
  {
   "cell_type": "code",
   "execution_count": 3,
   "outputs": [
    {
     "data": {
      "text/plain": "[]"
     },
     "execution_count": 3,
     "metadata": {},
     "output_type": "execute_result"
    }
   ],
   "source": [
    "ipynb_checkpoints = filter_files(paths['root'], '.ipynb_checkpoints')\n",
    "ipynb_checkpoints"
   ],
   "metadata": {
    "collapsed": false,
    "ExecuteTime": {
     "end_time": "2023-11-26T18:47:21.825578900Z",
     "start_time": "2023-11-26T18:47:21.812616100Z"
    }
   }
  },
  {
   "cell_type": "code",
   "execution_count": 4,
   "outputs": [],
   "source": [
    "remove_files(ipynb_checkpoints)"
   ],
   "metadata": {
    "collapsed": false,
    "ExecuteTime": {
     "end_time": "2023-11-26T18:46:42.748870300Z",
     "start_time": "2023-11-26T18:46:42.740789500Z"
    }
   }
  },
  {
   "cell_type": "code",
   "execution_count": 5,
   "outputs": [
    {
     "data": {
      "text/plain": "[]"
     },
     "execution_count": 5,
     "metadata": {},
     "output_type": "execute_result"
    }
   ],
   "source": [
    "ipynb_checkpoints = filter_files(paths['root'], '.ipynb_checkpoints')\n",
    "ipynb_checkpoints"
   ],
   "metadata": {
    "collapsed": false,
    "ExecuteTime": {
     "end_time": "2023-11-26T18:46:12.228701Z",
     "start_time": "2023-11-26T18:46:12.212792600Z"
    }
   }
  },
  {
   "cell_type": "code",
   "execution_count": 5,
   "outputs": [],
   "source": [],
   "metadata": {
    "collapsed": false,
    "ExecuteTime": {
     "end_time": "2023-11-26T18:46:12.535937100Z",
     "start_time": "2023-11-26T18:46:12.531937Z"
    }
   }
  },
  {
   "cell_type": "code",
   "execution_count": 3,
   "outputs": [
    {
     "data": {
      "text/plain": "[]"
     },
     "execution_count": 3,
     "metadata": {},
     "output_type": "execute_result"
    }
   ],
   "source": [
    "ipynb_checkpoints = filter_files(paths['root'], '.ipynb_checkpoints')\n",
    "ipynb_checkpoints"
   ],
   "metadata": {
    "collapsed": false
   }
  },
  {
   "cell_type": "code",
   "execution_count": null,
   "outputs": [],
   "source": [],
   "metadata": {
    "collapsed": false
   }
  },
  {
   "cell_type": "code",
   "execution_count": 4,
   "outputs": [
    {
     "data": {
      "text/plain": "['/home/hew/python/LatentEvolution/script/.ipynb_checkpoints',\n '/home/hew/python/LatentEvolution/script/task_02_ProteinVAE/ProteinVAE/.ipynb_checkpoints',\n '/home/hew/python/LatentEvolution/script/task_05_LatentDiffusion/.ipynb_checkpoints']"
     },
     "execution_count": 4,
     "metadata": {},
     "output_type": "execute_result"
    }
   ],
   "source": [
    "ipynb_checkpoints = filter_dirs(paths['root'], '.ipynb_checkpoints')\n",
    "ipynb_checkpoints"
   ],
   "metadata": {
    "collapsed": false,
    "ExecuteTime": {
     "end_time": "2023-11-26T18:48:06.184144400Z",
     "start_time": "2023-11-26T18:48:05.911689300Z"
    }
   }
  },
  {
   "cell_type": "code",
   "execution_count": 7,
   "outputs": [],
   "source": [
    "remove_dirs(ipynb_checkpoints)"
   ],
   "metadata": {
    "collapsed": false,
    "ExecuteTime": {
     "end_time": "2023-11-26T18:48:20.532516400Z",
     "start_time": "2023-11-26T18:48:20.500501200Z"
    }
   }
  },
  {
   "cell_type": "code",
   "execution_count": 8,
   "outputs": [
    {
     "data": {
      "text/plain": "[]"
     },
     "execution_count": 8,
     "metadata": {},
     "output_type": "execute_result"
    }
   ],
   "source": [
    "ipynb_checkpoints = filter_dirs(paths['root'], '.ipynb_checkpoints')\n",
    "ipynb_checkpoints"
   ],
   "metadata": {
    "collapsed": false,
    "ExecuteTime": {
     "end_time": "2023-11-26T18:48:21.005576500Z",
     "start_time": "2023-11-26T18:48:20.992576100Z"
    }
   }
  },
  {
   "cell_type": "code",
   "execution_count": null,
   "outputs": [],
   "source": [],
   "metadata": {
    "collapsed": false
   }
  },
  {
   "cell_type": "markdown",
   "source": [
    "## __pycache__"
   ],
   "metadata": {
    "collapsed": false
   }
  },
  {
   "cell_type": "code",
   "execution_count": null,
   "outputs": [],
   "source": [
    "pycache_dirs = filter_dirs(paths['root'], '__pycache__')\n",
    "pycache_dirs"
   ],
   "metadata": {
    "collapsed": false,
    "ExecuteTime": {
     "start_time": "2023-11-26T18:44:20.648947400Z"
    }
   }
  },
  {
   "cell_type": "code",
   "execution_count": null,
   "outputs": [],
   "source": [
    "remove_dirs(pycache_dirs, force=True)"
   ],
   "metadata": {
    "collapsed": false
   }
  },
  {
   "cell_type": "code",
   "execution_count": null,
   "outputs": [],
   "source": [
    "pycache_dirs = filter_dirs(paths['root'], '__pycache__')\n",
    "pycache_dirs"
   ],
   "metadata": {
    "collapsed": false
   }
  },
  {
   "cell_type": "code",
   "execution_count": null,
   "outputs": [],
   "source": [],
   "metadata": {
    "collapsed": false
   }
  },
  {
   "cell_type": "markdown",
   "source": [
    "## check file list"
   ],
   "metadata": {
    "collapsed": false
   }
  },
  {
   "cell_type": "code",
   "execution_count": null,
   "outputs": [],
   "source": [
    "# import time\n",
    "# \n",
    "# while True:\n",
    "#     finished_files = list_files(paths.data + 'A3D_OAS/esmfold')\n",
    "#     print(len(finished_files))\n",
    "#     print('sleeping')\n",
    "#     time.sleep(60)"
   ],
   "metadata": {
    "collapsed": false
   }
  },
  {
   "cell_type": "code",
   "execution_count": null,
   "outputs": [],
   "source": [],
   "metadata": {
    "collapsed": false
   }
  },
  {
   "cell_type": "code",
   "execution_count": null,
   "outputs": [],
   "source": [],
   "metadata": {
    "collapsed": false
   }
  },
  {
   "cell_type": "code",
   "execution_count": null,
   "outputs": [],
   "source": [],
   "metadata": {
    "collapsed": false
   }
  },
  {
   "cell_type": "code",
   "execution_count": null,
   "outputs": [],
   "source": [],
   "metadata": {
    "collapsed": false
   }
  },
  {
   "cell_type": "code",
   "execution_count": null,
   "outputs": [],
   "source": [],
   "metadata": {
    "collapsed": false
   }
  },
  {
   "cell_type": "code",
   "execution_count": null,
   "outputs": [],
   "source": [],
   "metadata": {
    "collapsed": false
   }
  }
 ],
 "metadata": {
  "kernelspec": {
   "name": "conda-env-deco-py",
   "language": "python",
   "display_name": "Python [conda env:deco]"
  },
  "language_info": {
   "codemirror_mode": {
    "name": "ipython",
    "version": 2
   },
   "file_extension": ".py",
   "mimetype": "text/x-python",
   "name": "python",
   "nbconvert_exporter": "python",
   "pygments_lexer": "ipython2",
   "version": "2.7.6"
  }
 },
 "nbformat": 4,
 "nbformat_minor": 0
}
