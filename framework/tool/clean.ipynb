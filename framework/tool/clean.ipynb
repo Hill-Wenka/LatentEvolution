{
 "cells": [
  {
   "cell_type": "code",
   "execution_count": 1,
   "outputs": [
    {
     "name": "stdout",
     "output_type": "stream",
     "text": [
      "/home/hew/python/AggNet\n",
      "\u001B[0m\u001B[01;34mcache\u001B[0m/  \u001B[01;34mframework\u001B[0m/  \u001B[01;34mmolecules\u001B[0m/  \u001B[01;34mscript\u001B[0m/  \u001B[01;34mvisualization\u001B[0m/\r\n",
      "\u001B[01;34mdata\u001B[0m/   main.py     README.md   \u001B[01;34mtemp\u001B[0m/\r\n"
     ]
    }
   ],
   "source": [
    "%cd 'python/AggNet/'\n",
    "%ls"
   ],
   "metadata": {
    "collapsed": false,
    "ExecuteTime": {
     "end_time": "2023-10-23T16:05:32.956399700Z",
     "start_time": "2023-10-23T16:05:32.816628700Z"
    }
   }
  },
  {
   "cell_type": "code",
   "execution_count": 2,
   "outputs": [
    {
     "name": "stdout",
     "output_type": "stream",
     "text": [
      "========== add root_path and framework_path to sys.path ==========\n",
      "root_path: /home/hew/python/AggNet\n",
      "framework_path: /home/hew/python/AggNet/framework\n",
      "==================================================================\n"
     ]
    },
    {
     "data": {
      "text/plain": "{'path_dataset': '/home/hew/python/data/', 'root': '/home/hew/python/AggNet/', 'data': '/home/hew/python/AggNet/data/', 'script': '/home/hew/python/AggNet/script/', 'temp': '/home/hew/python/AggNet/temp/', 'cache': '/home/hew/python/AggNet/cache/', 'framework': '/home/hew/python/AggNet/framework/', 'config': '/home/hew/python/AggNet/framework/config/', 'module': '/home/hew/python/AggNet/framework/module/', 'utils': '/home/hew/python/AggNet/framework/utils/'}"
     },
     "execution_count": 2,
     "metadata": {},
     "output_type": "execute_result"
    }
   ],
   "source": [
    "from framework import paths\n",
    "from framework.utils.file.path_utils import filter_dirs, filter_files, remove_dirs, remove_files, list_files\n",
    "\n",
    "paths"
   ],
   "metadata": {
    "collapsed": false,
    "ExecuteTime": {
     "end_time": "2023-10-23T16:05:33.079670300Z",
     "start_time": "2023-10-23T16:05:32.956399700Z"
    }
   }
  },
  {
   "cell_type": "code",
   "execution_count": 2,
   "outputs": [],
   "source": [],
   "metadata": {
    "collapsed": false,
    "ExecuteTime": {
     "end_time": "2023-10-23T16:05:33.086665Z",
     "start_time": "2023-10-23T16:05:33.079670300Z"
    }
   }
  },
  {
   "cell_type": "markdown",
   "source": [
    "## ipynb checkpoints"
   ],
   "metadata": {
    "collapsed": false
   }
  },
  {
   "cell_type": "code",
   "execution_count": 3,
   "outputs": [
    {
     "data": {
      "text/plain": "[]"
     },
     "execution_count": 3,
     "metadata": {},
     "output_type": "execute_result"
    }
   ],
   "source": [
    "ipynb_checkpoints = filter_files(paths['root'], '.ipynb_checkpoints')\n",
    "ipynb_checkpoints"
   ],
   "metadata": {
    "collapsed": false,
    "ExecuteTime": {
     "end_time": "2023-10-23T16:05:33.091778700Z",
     "start_time": "2023-10-23T16:05:33.086665Z"
    }
   }
  },
  {
   "cell_type": "code",
   "execution_count": 4,
   "outputs": [],
   "source": [
    "remove_files(ipynb_checkpoints)"
   ],
   "metadata": {
    "collapsed": false,
    "ExecuteTime": {
     "end_time": "2023-10-23T16:05:33.168287500Z",
     "start_time": "2023-10-23T16:05:33.135281600Z"
    }
   }
  },
  {
   "cell_type": "code",
   "execution_count": 5,
   "outputs": [
    {
     "data": {
      "text/plain": "[]"
     },
     "execution_count": 5,
     "metadata": {},
     "output_type": "execute_result"
    }
   ],
   "source": [
    "ipynb_checkpoints = filter_files(paths['root'], '.ipynb_checkpoints')\n",
    "ipynb_checkpoints"
   ],
   "metadata": {
    "collapsed": false,
    "ExecuteTime": {
     "end_time": "2023-10-23T16:05:33.256731900Z",
     "start_time": "2023-10-23T16:05:33.168287500Z"
    }
   }
  },
  {
   "cell_type": "code",
   "execution_count": 5,
   "outputs": [],
   "source": [],
   "metadata": {
    "collapsed": false,
    "ExecuteTime": {
     "end_time": "2023-10-23T16:05:33.260730200Z",
     "start_time": "2023-10-23T16:05:33.255730800Z"
    }
   }
  },
  {
   "cell_type": "markdown",
   "source": [
    "## __pycache__"
   ],
   "metadata": {
    "collapsed": false
   }
  },
  {
   "cell_type": "code",
   "execution_count": 6,
   "outputs": [
    {
     "ename": "KeyboardInterrupt",
     "evalue": "",
     "output_type": "error",
     "traceback": [
      "\u001B[0;31m---------------------------------------------------------------------------\u001B[0m",
      "\u001B[0;31mKeyboardInterrupt\u001B[0m                         Traceback (most recent call last)",
      "Cell \u001B[0;32mIn[6], line 1\u001B[0m\n\u001B[0;32m----> 1\u001B[0m pycache_dirs \u001B[38;5;241m=\u001B[39m \u001B[43mfilter_dirs\u001B[49m\u001B[43m(\u001B[49m\u001B[43mpaths\u001B[49m\u001B[43m[\u001B[49m\u001B[38;5;124;43m'\u001B[39;49m\u001B[38;5;124;43mroot\u001B[39;49m\u001B[38;5;124;43m'\u001B[39;49m\u001B[43m]\u001B[49m\u001B[43m,\u001B[49m\u001B[43m \u001B[49m\u001B[38;5;124;43m'\u001B[39;49m\u001B[38;5;124;43m__pycache__\u001B[39;49m\u001B[38;5;124;43m'\u001B[39;49m\u001B[43m)\u001B[49m\n\u001B[1;32m      2\u001B[0m pycache_dirs\n",
      "File \u001B[0;32m~/python/AggNet/framework/utils/file/path_utils.py:83\u001B[0m, in \u001B[0;36mfilter_dirs\u001B[0;34m(path, string)\u001B[0m\n\u001B[1;32m     76\u001B[0m \u001B[38;5;250m\u001B[39m\u001B[38;5;124;03m'''\u001B[39;00m\n\u001B[1;32m     77\u001B[0m \u001B[38;5;124;03m递归遍历指定文件夹下的所有文件夹，筛选指定字符串的文件夹\u001B[39;00m\n\u001B[1;32m     78\u001B[0m \u001B[38;5;124;03m:param path: 指定的文件夹路径\u001B[39;00m\n\u001B[1;32m     79\u001B[0m \u001B[38;5;124;03m:param suffix: 指定的文件夹名称\u001B[39;00m\n\u001B[1;32m     80\u001B[0m \u001B[38;5;124;03m:return: list\u001B[39;00m\n\u001B[1;32m     81\u001B[0m \u001B[38;5;124;03m'''\u001B[39;00m\n\u001B[1;32m     82\u001B[0m results \u001B[38;5;241m=\u001B[39m []\n\u001B[0;32m---> 83\u001B[0m \u001B[38;5;28;01mfor\u001B[39;00m root, dirs, files \u001B[38;5;129;01min\u001B[39;00m os\u001B[38;5;241m.\u001B[39mwalk(path):\n\u001B[1;32m     84\u001B[0m     \u001B[38;5;28;01mfor\u001B[39;00m \u001B[38;5;28mdir\u001B[39m \u001B[38;5;129;01min\u001B[39;00m dirs:\n\u001B[1;32m     85\u001B[0m         \u001B[38;5;28;01mif\u001B[39;00m string \u001B[38;5;129;01min\u001B[39;00m \u001B[38;5;28mdir\u001B[39m:\n",
      "File \u001B[0;32m~/anaconda3/envs/AggNet/lib/python3.10/os.py:419\u001B[0m, in \u001B[0;36m_walk\u001B[0;34m(top, topdown, onerror, followlinks)\u001B[0m\n\u001B[1;32m    414\u001B[0m         \u001B[38;5;66;03m# Issue #23605: os.path.islink() is used instead of caching\u001B[39;00m\n\u001B[1;32m    415\u001B[0m         \u001B[38;5;66;03m# entry.is_symlink() result during the loop on os.scandir() because\u001B[39;00m\n\u001B[1;32m    416\u001B[0m         \u001B[38;5;66;03m# the caller can replace the directory entry during the \"yield\"\u001B[39;00m\n\u001B[1;32m    417\u001B[0m         \u001B[38;5;66;03m# above.\u001B[39;00m\n\u001B[1;32m    418\u001B[0m         \u001B[38;5;28;01mif\u001B[39;00m followlinks \u001B[38;5;129;01mor\u001B[39;00m \u001B[38;5;129;01mnot\u001B[39;00m islink(new_path):\n\u001B[0;32m--> 419\u001B[0m             \u001B[38;5;28;01myield from\u001B[39;00m _walk(new_path, topdown, onerror, followlinks)\n\u001B[1;32m    420\u001B[0m \u001B[38;5;28;01melse\u001B[39;00m:\n\u001B[1;32m    421\u001B[0m     \u001B[38;5;66;03m# Recurse into sub-directories\u001B[39;00m\n\u001B[1;32m    422\u001B[0m     \u001B[38;5;28;01mfor\u001B[39;00m new_path \u001B[38;5;129;01min\u001B[39;00m walk_dirs:\n",
      "File \u001B[0;32m~/anaconda3/envs/AggNet/lib/python3.10/os.py:419\u001B[0m, in \u001B[0;36m_walk\u001B[0;34m(top, topdown, onerror, followlinks)\u001B[0m\n\u001B[1;32m    414\u001B[0m         \u001B[38;5;66;03m# Issue #23605: os.path.islink() is used instead of caching\u001B[39;00m\n\u001B[1;32m    415\u001B[0m         \u001B[38;5;66;03m# entry.is_symlink() result during the loop on os.scandir() because\u001B[39;00m\n\u001B[1;32m    416\u001B[0m         \u001B[38;5;66;03m# the caller can replace the directory entry during the \"yield\"\u001B[39;00m\n\u001B[1;32m    417\u001B[0m         \u001B[38;5;66;03m# above.\u001B[39;00m\n\u001B[1;32m    418\u001B[0m         \u001B[38;5;28;01mif\u001B[39;00m followlinks \u001B[38;5;129;01mor\u001B[39;00m \u001B[38;5;129;01mnot\u001B[39;00m islink(new_path):\n\u001B[0;32m--> 419\u001B[0m             \u001B[38;5;28;01myield from\u001B[39;00m _walk(new_path, topdown, onerror, followlinks)\n\u001B[1;32m    420\u001B[0m \u001B[38;5;28;01melse\u001B[39;00m:\n\u001B[1;32m    421\u001B[0m     \u001B[38;5;66;03m# Recurse into sub-directories\u001B[39;00m\n\u001B[1;32m    422\u001B[0m     \u001B[38;5;28;01mfor\u001B[39;00m new_path \u001B[38;5;129;01min\u001B[39;00m walk_dirs:\n",
      "    \u001B[0;31m[... skipping similar frames: _walk at line 419 (1 times)]\u001B[0m\n",
      "File \u001B[0;32m~/anaconda3/envs/AggNet/lib/python3.10/os.py:419\u001B[0m, in \u001B[0;36m_walk\u001B[0;34m(top, topdown, onerror, followlinks)\u001B[0m\n\u001B[1;32m    414\u001B[0m         \u001B[38;5;66;03m# Issue #23605: os.path.islink() is used instead of caching\u001B[39;00m\n\u001B[1;32m    415\u001B[0m         \u001B[38;5;66;03m# entry.is_symlink() result during the loop on os.scandir() because\u001B[39;00m\n\u001B[1;32m    416\u001B[0m         \u001B[38;5;66;03m# the caller can replace the directory entry during the \"yield\"\u001B[39;00m\n\u001B[1;32m    417\u001B[0m         \u001B[38;5;66;03m# above.\u001B[39;00m\n\u001B[1;32m    418\u001B[0m         \u001B[38;5;28;01mif\u001B[39;00m followlinks \u001B[38;5;129;01mor\u001B[39;00m \u001B[38;5;129;01mnot\u001B[39;00m islink(new_path):\n\u001B[0;32m--> 419\u001B[0m             \u001B[38;5;28;01myield from\u001B[39;00m _walk(new_path, topdown, onerror, followlinks)\n\u001B[1;32m    420\u001B[0m \u001B[38;5;28;01melse\u001B[39;00m:\n\u001B[1;32m    421\u001B[0m     \u001B[38;5;66;03m# Recurse into sub-directories\u001B[39;00m\n\u001B[1;32m    422\u001B[0m     \u001B[38;5;28;01mfor\u001B[39;00m new_path \u001B[38;5;129;01min\u001B[39;00m walk_dirs:\n",
      "File \u001B[0;32m~/anaconda3/envs/AggNet/lib/python3.10/os.py:368\u001B[0m, in \u001B[0;36m_walk\u001B[0;34m(top, topdown, onerror, followlinks)\u001B[0m\n\u001B[1;32m    366\u001B[0m \u001B[38;5;28;01mtry\u001B[39;00m:\n\u001B[1;32m    367\u001B[0m     \u001B[38;5;28;01mtry\u001B[39;00m:\n\u001B[0;32m--> 368\u001B[0m         entry \u001B[38;5;241m=\u001B[39m \u001B[38;5;28;43mnext\u001B[39;49m\u001B[43m(\u001B[49m\u001B[43mscandir_it\u001B[49m\u001B[43m)\u001B[49m\n\u001B[1;32m    369\u001B[0m     \u001B[38;5;28;01mexcept\u001B[39;00m \u001B[38;5;167;01mStopIteration\u001B[39;00m:\n\u001B[1;32m    370\u001B[0m         \u001B[38;5;28;01mbreak\u001B[39;00m\n",
      "\u001B[0;31mKeyboardInterrupt\u001B[0m: "
     ]
    }
   ],
   "source": [
    "pycache_dirs = filter_dirs(paths['root'], '__pycache__')\n",
    "pycache_dirs"
   ],
   "metadata": {
    "collapsed": false,
    "ExecuteTime": {
     "end_time": "2023-10-23T16:08:37.458605800Z",
     "start_time": "2023-10-23T16:05:33.259739800Z"
    }
   }
  },
  {
   "cell_type": "code",
   "execution_count": null,
   "outputs": [],
   "source": [
    "remove_dirs(pycache_dirs, force=True)"
   ],
   "metadata": {
    "collapsed": false
   }
  },
  {
   "cell_type": "code",
   "execution_count": null,
   "outputs": [],
   "source": [
    "pycache_dirs = filter_dirs(paths['root'], '__pycache__')\n",
    "pycache_dirs"
   ],
   "metadata": {
    "collapsed": false
   }
  },
  {
   "cell_type": "code",
   "execution_count": null,
   "outputs": [],
   "source": [],
   "metadata": {
    "collapsed": false
   }
  },
  {
   "cell_type": "markdown",
   "source": [
    "## check file list"
   ],
   "metadata": {
    "collapsed": false
   }
  },
  {
   "cell_type": "code",
   "execution_count": 7,
   "outputs": [
    {
     "name": "stdout",
     "output_type": "stream",
     "text": [
      "215439\n",
      "sleeping\n"
     ]
    },
    {
     "ename": "KeyboardInterrupt",
     "evalue": "",
     "output_type": "error",
     "traceback": [
      "\u001B[0;31m---------------------------------------------------------------------------\u001B[0m",
      "\u001B[0;31mKeyboardInterrupt\u001B[0m                         Traceback (most recent call last)",
      "Cell \u001B[0;32mIn[7], line 7\u001B[0m\n\u001B[1;32m      5\u001B[0m \u001B[38;5;28mprint\u001B[39m(\u001B[38;5;28mlen\u001B[39m(finished_files))\n\u001B[1;32m      6\u001B[0m \u001B[38;5;28mprint\u001B[39m(\u001B[38;5;124m'\u001B[39m\u001B[38;5;124msleeping\u001B[39m\u001B[38;5;124m'\u001B[39m)\n\u001B[0;32m----> 7\u001B[0m \u001B[43mtime\u001B[49m\u001B[38;5;241;43m.\u001B[39;49m\u001B[43msleep\u001B[49m\u001B[43m(\u001B[49m\u001B[38;5;241;43m60\u001B[39;49m\u001B[43m)\u001B[49m\n",
      "\u001B[0;31mKeyboardInterrupt\u001B[0m: "
     ]
    }
   ],
   "source": [
    "import time\n",
    "\n",
    "while True:\n",
    "    finished_files = list_files(paths.data + 'A3D_OAS/esmfold')\n",
    "    print(len(finished_files))\n",
    "    print('sleeping')\n",
    "    time.sleep(60)"
   ],
   "metadata": {
    "collapsed": false,
    "ExecuteTime": {
     "end_time": "2023-10-23T16:08:43.480808900Z",
     "start_time": "2023-10-23T16:08:38.963359700Z"
    }
   }
  },
  {
   "cell_type": "code",
   "execution_count": null,
   "outputs": [],
   "source": [],
   "metadata": {
    "collapsed": false
   }
  },
  {
   "cell_type": "code",
   "execution_count": null,
   "outputs": [],
   "source": [],
   "metadata": {
    "collapsed": false
   }
  },
  {
   "cell_type": "code",
   "execution_count": null,
   "outputs": [],
   "source": [],
   "metadata": {
    "collapsed": false
   }
  },
  {
   "cell_type": "code",
   "execution_count": null,
   "outputs": [],
   "source": [],
   "metadata": {
    "collapsed": false
   }
  },
  {
   "cell_type": "code",
   "execution_count": null,
   "outputs": [],
   "source": [],
   "metadata": {
    "collapsed": false
   }
  },
  {
   "cell_type": "code",
   "execution_count": null,
   "outputs": [],
   "source": [],
   "metadata": {
    "collapsed": false
   }
  }
 ],
 "metadata": {
  "kernelspec": {
   "name": "conda-env-AggNet-py",
   "language": "python",
   "display_name": "Python [conda env:AggNet]"
  },
  "language_info": {
   "codemirror_mode": {
    "name": "ipython",
    "version": 2
   },
   "file_extension": ".py",
   "mimetype": "text/x-python",
   "name": "python",
   "nbconvert_exporter": "python",
   "pygments_lexer": "ipython2",
   "version": "2.7.6"
  }
 },
 "nbformat": 4,
 "nbformat_minor": 0
}
