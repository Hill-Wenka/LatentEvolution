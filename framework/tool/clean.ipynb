{
 "cells": [
  {
   "cell_type": "code",
   "execution_count": 1,
   "outputs": [
    {
     "name": "stdout",
     "output_type": "stream",
     "text": [
      "/home/hew/python/AggNet\n",
      "\u001B[0m\u001B[01;34mcache\u001B[0m/  \u001B[01;34mframework\u001B[0m/  \u001B[01;34mmolecules\u001B[0m/  \u001B[01;34mscript\u001B[0m/  \u001B[01;34mvisualization\u001B[0m/\r\n",
      "\u001B[01;34mdata\u001B[0m/   main.py     README.md   \u001B[01;34mtemp\u001B[0m/\r\n"
     ]
    }
   ],
   "source": [
    "%cd 'python/AggNet/'\n",
    "%ls"
   ],
   "metadata": {
    "collapsed": false,
    "ExecuteTime": {
     "end_time": "2023-11-26T18:44:20.400500300Z",
     "start_time": "2023-11-26T18:44:20.234906700Z"
    }
   }
  },
  {
   "cell_type": "code",
   "execution_count": 2,
   "outputs": [
    {
     "name": "stdout",
     "output_type": "stream",
     "text": [
      "========== add root_path and framework_path to sys.path ==========\n",
      "root_path: /home/hew/python/AggNet\n",
      "framework_path: /home/hew/python/AggNet/framework\n",
      "==================================================================\n"
     ]
    },
    {
     "data": {
      "text/plain": "{'path_dataset': '/home/hew/python/data/', 'root': '/home/hew/python/AggNet/', 'data': '/home/hew/python/AggNet/data/', 'script': '/home/hew/python/AggNet/script/', 'temp': '/home/hew/python/AggNet/temp/', 'cache': '/home/hew/python/AggNet/cache/', 'framework': '/home/hew/python/AggNet/framework/', 'config': '/home/hew/python/AggNet/framework/config/', 'module': '/home/hew/python/AggNet/framework/module/', 'utils': '/home/hew/python/AggNet/framework/utils/'}"
     },
     "execution_count": 2,
     "metadata": {},
     "output_type": "execute_result"
    }
   ],
   "source": [
    "from framework import paths\n",
    "from framework.utils.file.path_utils import filter_dirs, filter_files, remove_dirs, remove_files\n",
    "\n",
    "paths"
   ],
   "metadata": {
    "collapsed": false,
    "ExecuteTime": {
     "end_time": "2023-11-26T18:44:20.475518300Z",
     "start_time": "2023-11-26T18:44:20.400500300Z"
    }
   }
  },
  {
   "cell_type": "code",
   "execution_count": 2,
   "outputs": [],
   "source": [],
   "metadata": {
    "collapsed": false,
    "ExecuteTime": {
     "end_time": "2023-11-26T18:44:20.484563700Z",
     "start_time": "2023-11-26T18:44:20.473519100Z"
    }
   }
  },
  {
   "cell_type": "markdown",
   "source": [
    "## ipynb checkpoints"
   ],
   "metadata": {
    "collapsed": false
   }
  },
  {
   "cell_type": "code",
   "execution_count": 3,
   "outputs": [
    {
     "data": {
      "text/plain": "[]"
     },
     "execution_count": 3,
     "metadata": {},
     "output_type": "execute_result"
    }
   ],
   "source": [
    "ipynb_checkpoints = filter_files(paths['root'], '.ipynb_checkpoints')\n",
    "ipynb_checkpoints"
   ],
   "metadata": {
    "collapsed": false,
    "ExecuteTime": {
     "end_time": "2023-11-26T18:44:20.484563700Z",
     "start_time": "2023-11-26T18:44:20.482524400Z"
    }
   }
  },
  {
   "cell_type": "code",
   "execution_count": 4,
   "outputs": [],
   "source": [
    "remove_files(ipynb_checkpoints)"
   ],
   "metadata": {
    "collapsed": false,
    "ExecuteTime": {
     "end_time": "2023-11-26T18:44:20.570039500Z",
     "start_time": "2023-11-26T18:44:20.543848900Z"
    }
   }
  },
  {
   "cell_type": "code",
   "execution_count": 5,
   "outputs": [
    {
     "data": {
      "text/plain": "[]"
     },
     "execution_count": 5,
     "metadata": {},
     "output_type": "execute_result"
    }
   ],
   "source": [
    "ipynb_checkpoints = filter_files(paths['root'], '.ipynb_checkpoints')\n",
    "ipynb_checkpoints"
   ],
   "metadata": {
    "collapsed": false,
    "ExecuteTime": {
     "end_time": "2023-11-26T18:44:20.643946700Z",
     "start_time": "2023-11-26T18:44:20.563196100Z"
    }
   }
  },
  {
   "cell_type": "code",
   "execution_count": 5,
   "outputs": [],
   "source": [],
   "metadata": {
    "collapsed": false,
    "ExecuteTime": {
     "end_time": "2023-11-26T18:44:20.649947Z",
     "start_time": "2023-11-26T18:44:20.643946700Z"
    }
   }
  },
  {
   "cell_type": "markdown",
   "source": [
    "## __pycache__"
   ],
   "metadata": {
    "collapsed": false
   }
  },
  {
   "cell_type": "code",
   "execution_count": null,
   "outputs": [],
   "source": [
    "pycache_dirs = filter_dirs(paths['root'], '__pycache__')\n",
    "pycache_dirs"
   ],
   "metadata": {
    "collapsed": false,
    "is_executing": true,
    "ExecuteTime": {
     "start_time": "2023-11-26T18:44:20.648947400Z"
    }
   }
  },
  {
   "cell_type": "code",
   "execution_count": null,
   "outputs": [],
   "source": [
    "remove_dirs(pycache_dirs, force=True)"
   ],
   "metadata": {
    "collapsed": false,
    "is_executing": true
   }
  },
  {
   "cell_type": "code",
   "execution_count": null,
   "outputs": [],
   "source": [
    "pycache_dirs = filter_dirs(paths['root'], '__pycache__')\n",
    "pycache_dirs"
   ],
   "metadata": {
    "collapsed": false,
    "is_executing": true
   }
  },
  {
   "cell_type": "code",
   "execution_count": null,
   "outputs": [],
   "source": [],
   "metadata": {
    "collapsed": false,
    "is_executing": true
   }
  },
  {
   "cell_type": "markdown",
   "source": [
    "## check file list"
   ],
   "metadata": {
    "collapsed": false
   }
  },
  {
   "cell_type": "code",
   "execution_count": null,
   "outputs": [],
   "source": [
    "# import time\n",
    "# \n",
    "# while True:\n",
    "#     finished_files = list_files(paths.data + 'A3D_OAS/esmfold')\n",
    "#     print(len(finished_files))\n",
    "#     print('sleeping')\n",
    "#     time.sleep(60)"
   ],
   "metadata": {
    "collapsed": false,
    "is_executing": true
   }
  },
  {
   "cell_type": "code",
   "execution_count": null,
   "outputs": [],
   "source": [],
   "metadata": {
    "collapsed": false,
    "is_executing": true
   }
  },
  {
   "cell_type": "code",
   "execution_count": null,
   "outputs": [],
   "source": [],
   "metadata": {
    "collapsed": false,
    "is_executing": true
   }
  },
  {
   "cell_type": "code",
   "execution_count": null,
   "outputs": [],
   "source": [],
   "metadata": {
    "collapsed": false,
    "is_executing": true
   }
  },
  {
   "cell_type": "code",
   "execution_count": null,
   "outputs": [],
   "source": [],
   "metadata": {
    "collapsed": false,
    "is_executing": true
   }
  },
  {
   "cell_type": "code",
   "execution_count": null,
   "outputs": [],
   "source": [],
   "metadata": {
    "collapsed": false,
    "is_executing": true
   }
  },
  {
   "cell_type": "code",
   "execution_count": null,
   "outputs": [],
   "source": [],
   "metadata": {
    "collapsed": false,
    "is_executing": true
   }
  }
 ],
 "metadata": {
  "kernelspec": {
   "name": "conda-env-AggNet-py",
   "language": "python",
   "display_name": "Python [conda env:AggNet]"
  },
  "language_info": {
   "codemirror_mode": {
    "name": "ipython",
    "version": 2
   },
   "file_extension": ".py",
   "mimetype": "text/x-python",
   "name": "python",
   "nbconvert_exporter": "python",
   "pygments_lexer": "ipython2",
   "version": "2.7.6"
  }
 },
 "nbformat": 4,
 "nbformat_minor": 0
}
