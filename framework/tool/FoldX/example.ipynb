{
 "cells": [
  {
   "cell_type": "code",
   "execution_count": 1,
   "metadata": {
    "collapsed": true,
    "ExecuteTime": {
     "end_time": "2023-11-08T15:10:40.654211100Z",
     "start_time": "2023-11-08T15:10:40.499787300Z"
    }
   },
   "outputs": [
    {
     "name": "stdout",
     "output_type": "stream",
     "text": [
      "/home/hew/python/LatentEvolution\n",
      "\u001B[0m\u001B[01;34mdata\u001B[0m/  \u001B[01;34mframework\u001B[0m/  main.py  \u001B[01;34mmolecules\u001B[0m/  rotabase.txt  \u001B[01;34mscript\u001B[0m/  \u001B[01;34mtemp\u001B[0m/\r\n"
     ]
    }
   ],
   "source": [
    "%load_ext autoreload\n",
    "%autoreload 2\n",
    "%cd 'python/LatentEvolution/'\n",
    "%ls"
   ]
  },
  {
   "cell_type": "code",
   "execution_count": 2,
   "outputs": [
    {
     "name": "stdout",
     "output_type": "stream",
     "text": [
      "========== add root_path and framework_path to sys.path ==========\n",
      "root_path: /home/hew/python/LatentEvolution\n",
      "framework_path: /home/hew/python/LatentEvolution/framework\n",
      "==================================================================\n"
     ]
    },
    {
     "data": {
      "text/plain": "{'path_dataset': '/home/hew/python/data/', 'root': '/home/hew/python/LatentEvolution/', 'data': '/home/hew/python/LatentEvolution/data/', 'script': '/home/hew/python/LatentEvolution/script/', 'temp': '/home/hew/python/LatentEvolution/temp/', 'cache': '/home/hew/python/LatentEvolution/cache/', 'framework': '/home/hew/python/LatentEvolution/framework/', 'config': '/home/hew/python/LatentEvolution/framework/config/', 'module': '/home/hew/python/LatentEvolution/framework/module/', 'utils': '/home/hew/python/LatentEvolution/framework/utils/'}"
     },
     "execution_count": 2,
     "metadata": {},
     "output_type": "execute_result"
    }
   ],
   "source": [
    "import os\n",
    "\n",
    "from framework import paths\n",
    "from framework.tool.FoldX import FoldXWapper, read_mutation_results\n",
    "from framework.utils.bio.seq_utils import format_mutation, mutate\n",
    "from framework.utils.bio.struct_utils import get_atom_array, atom_array_to_sequence\n",
    "\n",
    "paths"
   ],
   "metadata": {
    "collapsed": false,
    "ExecuteTime": {
     "end_time": "2023-11-08T15:10:41.806249300Z",
     "start_time": "2023-11-08T15:10:40.654211100Z"
    }
   }
  },
  {
   "cell_type": "code",
   "execution_count": 3,
   "outputs": [
    {
     "data": {
      "text/plain": "'/home/hew/python/LatentEvolution/temp/foldx_output_temp/'"
     },
     "execution_count": 3,
     "metadata": {},
     "output_type": "execute_result"
    }
   ],
   "source": [
    "base_dir = '/home/hew/python/LatentEvolution/framework/tool/FoldX/'\n",
    "run_name = 'foldx_output_temp'\n",
    "output_dir = os.path.join(paths.temp, run_name, '')\n",
    "numberOfRuns = 5\n",
    "num_cpu = 25\n",
    "output_dir"
   ],
   "metadata": {
    "collapsed": false,
    "ExecuteTime": {
     "end_time": "2023-11-08T15:10:41.856260400Z",
     "start_time": "2023-11-08T15:10:41.806249300Z"
    }
   }
  },
  {
   "cell_type": "code",
   "execution_count": 4,
   "outputs": [
    {
     "name": "stdout",
     "output_type": "stream",
     "text": [
      "The path does not exist, makedir: /home/hew/python/LatentEvolution/temp/foldx_output_temp: Success\n"
     ]
    }
   ],
   "source": [
    "foldx = FoldXWapper(output_dir, numberOfRuns=numberOfRuns, num_cpu=num_cpu)"
   ],
   "metadata": {
    "collapsed": false,
    "ExecuteTime": {
     "end_time": "2023-11-08T15:10:41.894100100Z",
     "start_time": "2023-11-08T15:10:41.880440Z"
    }
   }
  },
  {
   "cell_type": "code",
   "execution_count": 5,
   "outputs": [
    {
     "data": {
      "text/plain": "('EVQLVESGGGLVQPGRSLRLSCAASGFTFDDYAMHWVRQAPGKGLEWVSAITWNSGHIDYADSVEGRFTISRDNAKNSLYLDMNSLRAEDTAVYYCAKVSYLSTASSLDYWGQGTLVTVSSSGGGGSGGGGSGGGGSGGGGSDIQMTQSPSSLSASVGDRVTITCRASQGIRNYLAWYQQKPGKAPKLLIYAASTLQSGVPSRFSGSGSGTDFTLTISSLQPEDVATYYCQRYNRAPYTFGQGTKVEIK',\n 'EVQLVESGGGLVQPGRSLRLSCAASGFTFDDYAMHWVRQAPGKGLEWVSAITWNSGHIDYADSVEGRFTISRDNAKNSLYLDMNSLRAEDTAVYYCAKVSYLSTASSLDYWGQGTLVTVSSSGGGGSGGGGSGGGGSGGGGSDIQMTQSPSSLSASVGDRVTITCRASQGIRNYLAWYQQKPGKAPKLLIYAASTLQSGVPSRFSGSGSGTDFTLTISSLQPEDVATYYCQRYNRPPYTFGQGTKVEIK',\n 'EVQLVESGGGLVQPGRSLRLSCKASGFTFDDYAMHWVRQPPGKGLEWVGAITWNGGHIDYADSVEGRFTISRDNAKNSLYLDMNSLRAEDTAVYYCAKVSYLSTASSLDYWGQGTLVTVSSSGGGGSGGGGSGGGGSGGGGSDIQMTQSPSSLSASVGDRVTITCRASQGIRNYLAWYQQKPGKAPKLLIYAASTLQSGVPSRFSGSGSGTDFTLTISSLQPEDVATYYCQRYNRAPYTFGQGTKVEIK')"
     },
     "execution_count": 5,
     "metadata": {},
     "output_type": "execute_result"
    }
   ],
   "source": [
    "wt_seq = 'EVQLVESGGGLVQPGRSLRLSCAASGFTFDDYAMHWVRQAPGKGLEWVSAITWNSGHIDYADSVEGRFTISRDNAKNSLYLDMNSLRAEDTAVYYCAKVSYLSTASSLDYWGQGTLVTVSSSGGGGSGGGGSGGGGSGGGGSDIQMTQSPSSLSASVGDRVTITCRASQGIRNYLAWYQQKPGKAPKLLIYAASTLQSGVPSRFSGSGSGTDFTLTISSLQPEDVATYYCQRYNRAPYTFGQGTKVEIK'\n",
    "mt_seq_1 = 'EVQLVESGGGLVQPGRSLRLSCAASGFTFDDYAMHWVRQAPGKGLEWVSAITWNSGHIDYADSVEGRFTISRDNAKNSLYLDMNSLRAEDTAVYYCAKVSYLSTASSLDYWGQGTLVTVSSSGGGGSGGGGSGGGGSGGGGSDIQMTQSPSSLSASVGDRVTITCRASQGIRNYLAWYQQKPGKAPKLLIYAASTLQSGVPSRFSGSGSGTDFTLTISSLQPEDVATYYCQRYNRPPYTFGQGTKVEIK'\n",
    "mt_seq_11 = 'EVQLVESGGGLVQPGRSLRLSCKASGFTFDDYAMHWVRQPPGKGLEWVGAITWNGGHIDYADSVEGRFTISRDNAKNSLYLDMNSLRAEDTAVYYCAKVSYLSTASSLDYWGQGTLVTVSSSGGGGSGGGGSGGGGSGGGGSDIQMTQSPSSLSASVGDRVTITCRASQGIRNYLAWYQQKPGKAPKLLIYAASTLQSGVPSRFSGSGSGTDFTLTISSLQPEDVATYYCQRYNRAPYTFGQGTKVEIK'\n",
    "wt_seq, mt_seq_1, mt_seq_11"
   ],
   "metadata": {
    "collapsed": false,
    "ExecuteTime": {
     "end_time": "2023-11-08T15:10:41.965957200Z",
     "start_time": "2023-11-08T15:10:41.891104Z"
    }
   }
  },
  {
   "cell_type": "code",
   "execution_count": 6,
   "outputs": [
    {
     "data": {
      "text/plain": "['/home/hew/python/AggNet/data/Adalimumab/esmfold/Adalimumab_0.pdb',\n '/home/hew/python/AggNet/data/Adalimumab/esmfold/Adalimumab_1.pdb',\n '/home/hew/python/AggNet/data/Adalimumab/esmfold/Adalimumab_10.pdb']"
     },
     "execution_count": 6,
     "metadata": {},
     "output_type": "execute_result"
    }
   ],
   "source": [
    "pdbs = ['/home/hew/python/AggNet/data/Adalimumab/esmfold/Adalimumab_0.pdb',\n",
    "        '/home/hew/python/AggNet/data/Adalimumab/esmfold/Adalimumab_1.pdb',\n",
    "        '/home/hew/python/AggNet/data/Adalimumab/esmfold/Adalimumab_10.pdb']\n",
    "pdbs"
   ],
   "metadata": {
    "collapsed": false,
    "ExecuteTime": {
     "end_time": "2023-11-08T15:10:42.025447200Z",
     "start_time": "2023-11-08T15:10:41.965957200Z"
    }
   }
  },
  {
   "cell_type": "code",
   "execution_count": 7,
   "outputs": [
    {
     "name": "stdout",
     "output_type": "stream",
     "text": [
      "The path does not exist, makedir: /home/hew/python/LatentEvolution/temp/foldx_output_temp/wt-mt1: Success\n",
      "The path does not exist, makedir: /home/hew/python/LatentEvolution/temp/foldx_output_temp/wt-mt2: Success\n",
      "Number of finished before running: 0/2\n",
      "/home/hew/python/LatentEvolution/framework/tool/FoldX/foldx_20231231 -c BuildModel --numberOfRuns 5 --pdb=Adalimumab_0.pdb --mutant-file=/home/hew/python/LatentEvolution/temp/foldx_output_temp/wt-mt1/individual_list.txt --output-dir=/home/hew/python/LatentEvolution/temp/foldx_output_temp/wt-mt1/ --pdb-dir=/home/hew/python/AggNet/data/Adalimumab/esmfold/\n",
      "/home/hew/python/LatentEvolution/framework/tool/FoldX/foldx_20231231 -c BuildModel --numberOfRuns 5 --pdb=Adalimumab_0.pdb --mutant-file=/home/hew/python/LatentEvolution/temp/foldx_output_temp/wt-mt2/individual_list.txt --output-dir=/home/hew/python/LatentEvolution/temp/foldx_output_temp/wt-mt2/ --pdb-dir=/home/hew/python/AggNet/data/Adalimumab/esmfold/\n"
     ]
    },
    {
     "data": {
      "text/plain": "True"
     },
     "execution_count": 7,
     "metadata": {},
     "output_type": "execute_result"
    }
   ],
   "source": [
    "wt_seqs = [wt_seq, wt_seq]\n",
    "mt_seqs = [mt_seq_1, mt_seq_11]\n",
    "# wt_pdbs = ['Adalimumab_0.pdb', 'Adalimumab_0.pdb']\n",
    "wt_pdbs = ['/home/hew/python/AggNet/data/Adalimumab/esmfold/Adalimumab_0.pdb',\n",
    "           '/home/hew/python/AggNet/data/Adalimumab/esmfold/Adalimumab_0.pdb']\n",
    "job_names = ['wt-mt1', 'wt-mt2']\n",
    "pdb_dir = '/home/hew/python/AggNet/data/Adalimumab/esmfold/'\n",
    "\n",
    "# foldx.build_mutation_model(wt_seqs=wt_seqs, wt_pdbs=wt_pdbs, mt_seqs=mt_seqs, pdb_dir=pdb_dir, job_names=job_names)\n",
    "foldx.build_mutation_model(wt_seqs=wt_seq, wt_pdbs='Adalimumab_0.pdb', mt_seqs=mt_seqs, pdb_dir=pdb_dir,\n",
    "                           job_names=job_names)"
   ],
   "metadata": {
    "collapsed": false,
    "ExecuteTime": {
     "end_time": "2023-11-08T15:13:35.800517900Z",
     "start_time": "2023-11-08T15:10:42.025447200Z"
    }
   }
  },
  {
   "cell_type": "code",
   "execution_count": 8,
   "outputs": [
    {
     "data": {
      "text/plain": "              Pdb        SD  total energy  Backbone Hbond  Sidechain Hbond  \\\n0  Adalimumab_0_1  0.074157      -1.57334       -0.000167        -0.014214   \n\n   Van der Waals  Electrostatics  Solvation Polar  Solvation Hydrophobic  \\\n0      -0.377133       -0.004664         0.066522              -0.633966   \n\n   Van der Waals clashes  ...  cis_bond  torsional clash  backbone clash  \\\n0               0.037897  ...         0         0.001129        0.003214   \n\n   helix dipole  water bridge  disulfide  electrostatic kon  \\\n0             0             0          0                  0   \n\n   partial covalent bonds  energy Ionisation  Entropy Complex  \n0                       0           0.005799                0  \n\n[1 rows x 24 columns]",
      "text/html": "<div>\n<style scoped>\n    .dataframe tbody tr th:only-of-type {\n        vertical-align: middle;\n    }\n\n    .dataframe tbody tr th {\n        vertical-align: top;\n    }\n\n    .dataframe thead th {\n        text-align: right;\n    }\n</style>\n<table border=\"1\" class=\"dataframe\">\n  <thead>\n    <tr style=\"text-align: right;\">\n      <th></th>\n      <th>Pdb</th>\n      <th>SD</th>\n      <th>total energy</th>\n      <th>Backbone Hbond</th>\n      <th>Sidechain Hbond</th>\n      <th>Van der Waals</th>\n      <th>Electrostatics</th>\n      <th>Solvation Polar</th>\n      <th>Solvation Hydrophobic</th>\n      <th>Van der Waals clashes</th>\n      <th>...</th>\n      <th>cis_bond</th>\n      <th>torsional clash</th>\n      <th>backbone clash</th>\n      <th>helix dipole</th>\n      <th>water bridge</th>\n      <th>disulfide</th>\n      <th>electrostatic kon</th>\n      <th>partial covalent bonds</th>\n      <th>energy Ionisation</th>\n      <th>Entropy Complex</th>\n    </tr>\n  </thead>\n  <tbody>\n    <tr>\n      <th>0</th>\n      <td>Adalimumab_0_1</td>\n      <td>0.074157</td>\n      <td>-1.57334</td>\n      <td>-0.000167</td>\n      <td>-0.014214</td>\n      <td>-0.377133</td>\n      <td>-0.004664</td>\n      <td>0.066522</td>\n      <td>-0.633966</td>\n      <td>0.037897</td>\n      <td>...</td>\n      <td>0</td>\n      <td>0.001129</td>\n      <td>0.003214</td>\n      <td>0</td>\n      <td>0</td>\n      <td>0</td>\n      <td>0</td>\n      <td>0</td>\n      <td>0.005799</td>\n      <td>0</td>\n    </tr>\n  </tbody>\n</table>\n<p>1 rows × 24 columns</p>\n</div>"
     },
     "execution_count": 8,
     "metadata": {},
     "output_type": "execute_result"
    }
   ],
   "source": [
    "read_mutation_results(job_name=job_names[0], output_dir=output_dir)"
   ],
   "metadata": {
    "collapsed": false,
    "ExecuteTime": {
     "end_time": "2023-11-08T15:13:35.897260Z",
     "start_time": "2023-11-08T15:13:35.800517900Z"
    }
   }
  },
  {
   "cell_type": "code",
   "execution_count": 9,
   "outputs": [
    {
     "data": {
      "text/plain": "              Pdb        SD  total energy  Backbone Hbond  Sidechain Hbond  \\\n0  Adalimumab_0_1  0.551966      -3.38336         1.15793          3.41712   \n\n   Van der Waals  Electrostatics  Solvation Polar  Solvation Hydrophobic  \\\n0      -0.108653       -0.243423          -2.6459               -2.13165   \n\n   Van der Waals clashes  ...  cis_bond  torsional clash  backbone clash  \\\n0              -0.232084  ...         0        -0.165193       -0.268205   \n\n   helix dipole  water bridge  disulfide  electrostatic kon  \\\n0             0             0          0                  0   \n\n   partial covalent bonds  energy Ionisation  Entropy Complex  \n0                       0                  0                0  \n\n[1 rows x 24 columns]",
      "text/html": "<div>\n<style scoped>\n    .dataframe tbody tr th:only-of-type {\n        vertical-align: middle;\n    }\n\n    .dataframe tbody tr th {\n        vertical-align: top;\n    }\n\n    .dataframe thead th {\n        text-align: right;\n    }\n</style>\n<table border=\"1\" class=\"dataframe\">\n  <thead>\n    <tr style=\"text-align: right;\">\n      <th></th>\n      <th>Pdb</th>\n      <th>SD</th>\n      <th>total energy</th>\n      <th>Backbone Hbond</th>\n      <th>Sidechain Hbond</th>\n      <th>Van der Waals</th>\n      <th>Electrostatics</th>\n      <th>Solvation Polar</th>\n      <th>Solvation Hydrophobic</th>\n      <th>Van der Waals clashes</th>\n      <th>...</th>\n      <th>cis_bond</th>\n      <th>torsional clash</th>\n      <th>backbone clash</th>\n      <th>helix dipole</th>\n      <th>water bridge</th>\n      <th>disulfide</th>\n      <th>electrostatic kon</th>\n      <th>partial covalent bonds</th>\n      <th>energy Ionisation</th>\n      <th>Entropy Complex</th>\n    </tr>\n  </thead>\n  <tbody>\n    <tr>\n      <th>0</th>\n      <td>Adalimumab_0_1</td>\n      <td>0.551966</td>\n      <td>-3.38336</td>\n      <td>1.15793</td>\n      <td>3.41712</td>\n      <td>-0.108653</td>\n      <td>-0.243423</td>\n      <td>-2.6459</td>\n      <td>-2.13165</td>\n      <td>-0.232084</td>\n      <td>...</td>\n      <td>0</td>\n      <td>-0.165193</td>\n      <td>-0.268205</td>\n      <td>0</td>\n      <td>0</td>\n      <td>0</td>\n      <td>0</td>\n      <td>0</td>\n      <td>0</td>\n      <td>0</td>\n    </tr>\n  </tbody>\n</table>\n<p>1 rows × 24 columns</p>\n</div>"
     },
     "execution_count": 9,
     "metadata": {},
     "output_type": "execute_result"
    }
   ],
   "source": [
    "read_mutation_results(job_name=job_names[1], output_dir=output_dir)"
   ],
   "metadata": {
    "collapsed": false,
    "ExecuteTime": {
     "end_time": "2023-11-08T15:13:35.986019700Z",
     "start_time": "2023-11-08T15:13:35.950634300Z"
    }
   }
  },
  {
   "cell_type": "code",
   "execution_count": 9,
   "outputs": [],
   "source": [],
   "metadata": {
    "collapsed": false,
    "ExecuteTime": {
     "end_time": "2023-11-08T15:13:35.986019700Z",
     "start_time": "2023-11-08T15:13:35.954804800Z"
    }
   }
  },
  {
   "cell_type": "code",
   "execution_count": 9,
   "outputs": [],
   "source": [],
   "metadata": {
    "collapsed": false,
    "ExecuteTime": {
     "end_time": "2023-11-08T15:13:35.987020300Z",
     "start_time": "2023-11-08T15:13:35.969536800Z"
    }
   }
  },
  {
   "cell_type": "code",
   "execution_count": 20,
   "outputs": [
    {
     "name": "stdout",
     "output_type": "stream",
     "text": [
      "Number of finished before running: 3/3\n"
     ]
    },
    {
     "data": {
      "text/plain": "True"
     },
     "execution_count": 20,
     "metadata": {},
     "output_type": "execute_result"
    }
   ],
   "source": [
    "wt_seqs = [wt_seq, mt_seq_1, mt_seq_11]\n",
    "mt_seqs = [mt_seq_1, wt_seq, wt_seq]\n",
    "wt_pdbs = ['Adalimumab_0.pdb', 'Adalimumab_1.pdb', 'Adalimumab_10.pdb']\n",
    "job_names = ['wt-mt1', 'mt1-wt', 'mt2-wt']\n",
    "pdb_dir = '/home/hew/python/AggNet/data/Adalimumab/esmfold/'\n",
    "\n",
    "foldx.build_mutation_model(wt_seqs=wt_seqs, wt_pdbs=wt_pdbs, mt_seqs=mt_seqs, pdb_dir=pdb_dir, job_names=job_names)"
   ],
   "metadata": {
    "collapsed": false,
    "ExecuteTime": {
     "end_time": "2023-11-08T15:23:50.694354100Z",
     "start_time": "2023-11-08T15:23:50.595834100Z"
    }
   }
  },
  {
   "cell_type": "code",
   "execution_count": 23,
   "outputs": [
    {
     "data": {
      "text/plain": "              Pdb        SD  total energy  Backbone Hbond  Sidechain Hbond  \\\n0  Adalimumab_0_1  0.074157      -1.57334       -0.000167        -0.014214   \n\n   Van der Waals  Electrostatics  Solvation Polar  Solvation Hydrophobic  \\\n0      -0.377133       -0.004664         0.066522              -0.633966   \n\n   Van der Waals clashes  ...  cis_bond  torsional clash  backbone clash  \\\n0               0.037897  ...         0         0.001129        0.003214   \n\n   helix dipole  water bridge  disulfide  electrostatic kon  \\\n0             0             0          0                  0   \n\n   partial covalent bonds  energy Ionisation  Entropy Complex  \n0                       0           0.005799                0  \n\n[1 rows x 24 columns]",
      "text/html": "<div>\n<style scoped>\n    .dataframe tbody tr th:only-of-type {\n        vertical-align: middle;\n    }\n\n    .dataframe tbody tr th {\n        vertical-align: top;\n    }\n\n    .dataframe thead th {\n        text-align: right;\n    }\n</style>\n<table border=\"1\" class=\"dataframe\">\n  <thead>\n    <tr style=\"text-align: right;\">\n      <th></th>\n      <th>Pdb</th>\n      <th>SD</th>\n      <th>total energy</th>\n      <th>Backbone Hbond</th>\n      <th>Sidechain Hbond</th>\n      <th>Van der Waals</th>\n      <th>Electrostatics</th>\n      <th>Solvation Polar</th>\n      <th>Solvation Hydrophobic</th>\n      <th>Van der Waals clashes</th>\n      <th>...</th>\n      <th>cis_bond</th>\n      <th>torsional clash</th>\n      <th>backbone clash</th>\n      <th>helix dipole</th>\n      <th>water bridge</th>\n      <th>disulfide</th>\n      <th>electrostatic kon</th>\n      <th>partial covalent bonds</th>\n      <th>energy Ionisation</th>\n      <th>Entropy Complex</th>\n    </tr>\n  </thead>\n  <tbody>\n    <tr>\n      <th>0</th>\n      <td>Adalimumab_0_1</td>\n      <td>0.074157</td>\n      <td>-1.57334</td>\n      <td>-0.000167</td>\n      <td>-0.014214</td>\n      <td>-0.377133</td>\n      <td>-0.004664</td>\n      <td>0.066522</td>\n      <td>-0.633966</td>\n      <td>0.037897</td>\n      <td>...</td>\n      <td>0</td>\n      <td>0.001129</td>\n      <td>0.003214</td>\n      <td>0</td>\n      <td>0</td>\n      <td>0</td>\n      <td>0</td>\n      <td>0</td>\n      <td>0.005799</td>\n      <td>0</td>\n    </tr>\n  </tbody>\n</table>\n<p>1 rows × 24 columns</p>\n</div>"
     },
     "execution_count": 23,
     "metadata": {},
     "output_type": "execute_result"
    }
   ],
   "source": [
    "read_mutation_results(job_name=job_names[0], output_dir=output_dir)"
   ],
   "metadata": {
    "collapsed": false,
    "ExecuteTime": {
     "end_time": "2023-11-08T15:29:49.727274600Z",
     "start_time": "2023-11-08T15:29:49.623273600Z"
    }
   }
  },
  {
   "cell_type": "code",
   "execution_count": 21,
   "outputs": [
    {
     "data": {
      "text/plain": "              Pdb        SD  total energy  Backbone Hbond  Sidechain Hbond  \\\n0  Adalimumab_1_1  0.022943       1.58177       -0.000362        -0.063231   \n\n   Van der Waals  Electrostatics  Solvation Polar  Solvation Hydrophobic  \\\n0       0.364123        0.002007         0.053927               0.697242   \n\n   Van der Waals clashes  ...  cis_bond  torsional clash  backbone clash  \\\n0              -0.092414  ...         0         0.002642       -0.040532   \n\n   helix dipole  water bridge  disulfide  electrostatic kon  \\\n0             0             0          0                  0   \n\n   partial covalent bonds  energy Ionisation  Entropy Complex  \n0                       0          -0.010385                0  \n\n[1 rows x 24 columns]",
      "text/html": "<div>\n<style scoped>\n    .dataframe tbody tr th:only-of-type {\n        vertical-align: middle;\n    }\n\n    .dataframe tbody tr th {\n        vertical-align: top;\n    }\n\n    .dataframe thead th {\n        text-align: right;\n    }\n</style>\n<table border=\"1\" class=\"dataframe\">\n  <thead>\n    <tr style=\"text-align: right;\">\n      <th></th>\n      <th>Pdb</th>\n      <th>SD</th>\n      <th>total energy</th>\n      <th>Backbone Hbond</th>\n      <th>Sidechain Hbond</th>\n      <th>Van der Waals</th>\n      <th>Electrostatics</th>\n      <th>Solvation Polar</th>\n      <th>Solvation Hydrophobic</th>\n      <th>Van der Waals clashes</th>\n      <th>...</th>\n      <th>cis_bond</th>\n      <th>torsional clash</th>\n      <th>backbone clash</th>\n      <th>helix dipole</th>\n      <th>water bridge</th>\n      <th>disulfide</th>\n      <th>electrostatic kon</th>\n      <th>partial covalent bonds</th>\n      <th>energy Ionisation</th>\n      <th>Entropy Complex</th>\n    </tr>\n  </thead>\n  <tbody>\n    <tr>\n      <th>0</th>\n      <td>Adalimumab_1_1</td>\n      <td>0.022943</td>\n      <td>1.58177</td>\n      <td>-0.000362</td>\n      <td>-0.063231</td>\n      <td>0.364123</td>\n      <td>0.002007</td>\n      <td>0.053927</td>\n      <td>0.697242</td>\n      <td>-0.092414</td>\n      <td>...</td>\n      <td>0</td>\n      <td>0.002642</td>\n      <td>-0.040532</td>\n      <td>0</td>\n      <td>0</td>\n      <td>0</td>\n      <td>0</td>\n      <td>0</td>\n      <td>-0.010385</td>\n      <td>0</td>\n    </tr>\n  </tbody>\n</table>\n<p>1 rows × 24 columns</p>\n</div>"
     },
     "execution_count": 21,
     "metadata": {},
     "output_type": "execute_result"
    }
   ],
   "source": [
    "read_mutation_results(job_name=job_names[1], output_dir=output_dir)"
   ],
   "metadata": {
    "collapsed": false,
    "ExecuteTime": {
     "end_time": "2023-11-08T15:23:52.003076800Z",
     "start_time": "2023-11-08T15:23:51.946735300Z"
    }
   }
  },
  {
   "cell_type": "code",
   "execution_count": 22,
   "outputs": [
    {
     "data": {
      "text/plain": "               Pdb        SD  total energy  Backbone Hbond  Sidechain Hbond  \\\n0  Adalimumab_10_1  0.091522       14.5223       -0.391309         -1.73831   \n\n   Van der Waals  Electrostatics  Solvation Polar  Solvation Hydrophobic  \\\n0      -0.147299        0.348697          1.68425               0.956838   \n\n   Van der Waals clashes  ...  cis_bond  torsional clash  backbone clash  \\\n0                9.32531  ...         0         0.072281        0.199491   \n\n   helix dipole  water bridge  disulfide  electrostatic kon  \\\n0             0             0          0                  0   \n\n   partial covalent bonds  energy Ionisation  Entropy Complex  \n0                       0                  0                0  \n\n[1 rows x 24 columns]",
      "text/html": "<div>\n<style scoped>\n    .dataframe tbody tr th:only-of-type {\n        vertical-align: middle;\n    }\n\n    .dataframe tbody tr th {\n        vertical-align: top;\n    }\n\n    .dataframe thead th {\n        text-align: right;\n    }\n</style>\n<table border=\"1\" class=\"dataframe\">\n  <thead>\n    <tr style=\"text-align: right;\">\n      <th></th>\n      <th>Pdb</th>\n      <th>SD</th>\n      <th>total energy</th>\n      <th>Backbone Hbond</th>\n      <th>Sidechain Hbond</th>\n      <th>Van der Waals</th>\n      <th>Electrostatics</th>\n      <th>Solvation Polar</th>\n      <th>Solvation Hydrophobic</th>\n      <th>Van der Waals clashes</th>\n      <th>...</th>\n      <th>cis_bond</th>\n      <th>torsional clash</th>\n      <th>backbone clash</th>\n      <th>helix dipole</th>\n      <th>water bridge</th>\n      <th>disulfide</th>\n      <th>electrostatic kon</th>\n      <th>partial covalent bonds</th>\n      <th>energy Ionisation</th>\n      <th>Entropy Complex</th>\n    </tr>\n  </thead>\n  <tbody>\n    <tr>\n      <th>0</th>\n      <td>Adalimumab_10_1</td>\n      <td>0.091522</td>\n      <td>14.5223</td>\n      <td>-0.391309</td>\n      <td>-1.73831</td>\n      <td>-0.147299</td>\n      <td>0.348697</td>\n      <td>1.68425</td>\n      <td>0.956838</td>\n      <td>9.32531</td>\n      <td>...</td>\n      <td>0</td>\n      <td>0.072281</td>\n      <td>0.199491</td>\n      <td>0</td>\n      <td>0</td>\n      <td>0</td>\n      <td>0</td>\n      <td>0</td>\n      <td>0</td>\n      <td>0</td>\n    </tr>\n  </tbody>\n</table>\n<p>1 rows × 24 columns</p>\n</div>"
     },
     "execution_count": 22,
     "metadata": {},
     "output_type": "execute_result"
    }
   ],
   "source": [
    "read_mutation_results(job_name=job_names[2], output_dir=output_dir)"
   ],
   "metadata": {
    "collapsed": false,
    "ExecuteTime": {
     "end_time": "2023-11-08T15:23:52.888875Z",
     "start_time": "2023-11-08T15:23:52.841396600Z"
    }
   }
  },
  {
   "cell_type": "code",
   "execution_count": null,
   "outputs": [],
   "source": [],
   "metadata": {
    "collapsed": false
   }
  },
  {
   "cell_type": "code",
   "execution_count": 11,
   "outputs": [
    {
     "data": {
      "text/plain": "'K23A P40A G49S G55S'"
     },
     "execution_count": 11,
     "metadata": {},
     "output_type": "execute_result"
    }
   ],
   "source": [
    "format_mutation(mt_seq_11, wt_seq, chian_id='')"
   ],
   "metadata": {
    "collapsed": false,
    "ExecuteTime": {
     "end_time": "2023-11-08T15:15:57.085715500Z",
     "start_time": "2023-11-08T15:15:57.048502800Z"
    }
   }
  },
  {
   "cell_type": "code",
   "execution_count": 12,
   "outputs": [
    {
     "data": {
      "text/plain": "('A', 'A', 'S', 'S')"
     },
     "execution_count": 12,
     "metadata": {},
     "output_type": "execute_result"
    }
   ],
   "source": [
    "wt_seq[23 - 1], wt_seq[40 - 1], wt_seq[49 - 1], wt_seq[55 - 1]"
   ],
   "metadata": {
    "collapsed": false,
    "ExecuteTime": {
     "end_time": "2023-11-08T15:15:57.150860400Z",
     "start_time": "2023-11-08T15:15:57.139859100Z"
    }
   }
  },
  {
   "cell_type": "code",
   "execution_count": 13,
   "outputs": [
    {
     "data": {
      "text/plain": "('K', 'P', 'G', 'G')"
     },
     "execution_count": 13,
     "metadata": {},
     "output_type": "execute_result"
    }
   ],
   "source": [
    "mt_seq_11[23 - 1], mt_seq_11[40 - 1], mt_seq_11[49 - 1], mt_seq_11[55 - 1]"
   ],
   "metadata": {
    "collapsed": false,
    "ExecuteTime": {
     "end_time": "2023-11-08T15:15:57.238931100Z",
     "start_time": "2023-11-08T15:15:57.149869400Z"
    }
   }
  },
  {
   "cell_type": "code",
   "execution_count": 14,
   "outputs": [
    {
     "name": "stdout",
     "output_type": "stream",
     "text": [
      "The path does not exist, makedir: /home/hew/python/LatentEvolution/cache/atom_array: Success\n"
     ]
    },
    {
     "data": {
      "text/plain": "('K', 'P', 'G', 'G')"
     },
     "execution_count": 14,
     "metadata": {},
     "output_type": "execute_result"
    }
   ],
   "source": [
    "mt_struct_seq_11 = atom_array_to_sequence(get_atom_array(pdb_dir + 'Adalimumab_10.pdb'))\n",
    "mt_struct_seq_11[23 - 1], mt_struct_seq_11[40 - 1], mt_struct_seq_11[49 - 1], mt_struct_seq_11[55 - 1]"
   ],
   "metadata": {
    "collapsed": false,
    "ExecuteTime": {
     "end_time": "2023-11-08T15:15:57.327310Z",
     "start_time": "2023-11-08T15:15:57.238931100Z"
    }
   }
  },
  {
   "cell_type": "code",
   "execution_count": 14,
   "outputs": [],
   "source": [],
   "metadata": {
    "collapsed": false,
    "ExecuteTime": {
     "end_time": "2023-11-08T15:15:57.331307400Z",
     "start_time": "2023-11-08T15:15:57.326321200Z"
    }
   }
  },
  {
   "cell_type": "code",
   "execution_count": 15,
   "outputs": [
    {
     "data": {
      "text/plain": "('A236P', 'A23K A40P S49G S55G')"
     },
     "execution_count": 15,
     "metadata": {},
     "output_type": "execute_result"
    }
   ],
   "source": [
    "format_mutation(wt_seq, mt_seq_1, chian_id=''), format_mutation(wt_seq, mt_seq_11, chian_id='')"
   ],
   "metadata": {
    "collapsed": false,
    "ExecuteTime": {
     "end_time": "2023-11-08T15:15:57.401329600Z",
     "start_time": "2023-11-08T15:15:57.393818800Z"
    }
   }
  },
  {
   "cell_type": "code",
   "execution_count": 16,
   "outputs": [
    {
     "data": {
      "text/plain": "(True, True)"
     },
     "execution_count": 16,
     "metadata": {},
     "output_type": "execute_result"
    }
   ],
   "source": [
    "mutate(wt_seq, format_mutation(wt_seq, mt_seq_1, chian_id='')) == mt_seq_1, \\\n",
    "mutate(wt_seq, format_mutation(wt_seq, mt_seq_11, chian_id='')) == mt_seq_11"
   ],
   "metadata": {
    "collapsed": false,
    "ExecuteTime": {
     "end_time": "2023-11-08T15:15:57.451215600Z",
     "start_time": "2023-11-08T15:15:57.393818800Z"
    }
   }
  },
  {
   "cell_type": "code",
   "execution_count": 24,
   "outputs": [
    {
     "name": "stdout",
     "output_type": "stream",
     "text": [
      "The path does not exist, makedir: /home/hew/python/LatentEvolution/temp/foldx_output_temp/wt-mt1-1: Success\n",
      "The path does not exist, makedir: /home/hew/python/LatentEvolution/temp/foldx_output_temp/wt-mt2-1: Success\n",
      "Number of finished before running: 0/2\n",
      "/home/hew/python/LatentEvolution/framework/tool/FoldX/foldx_20231231 -c BuildModel --numberOfRuns 5 --pdb=Adalimumab_0.pdb --mutant-file=/home/hew/python/LatentEvolution/temp/foldx_output_temp/wt-mt1-1/individual_list.txt --output-dir=/home/hew/python/LatentEvolution/temp/foldx_output_temp/wt-mt1-1/ --pdb-dir=/home/hew/python/AggNet/data/Adalimumab/esmfold/\n",
      "/home/hew/python/LatentEvolution/framework/tool/FoldX/foldx_20231231 -c BuildModel --numberOfRuns 5 --pdb=Adalimumab_0.pdb --mutant-file=/home/hew/python/LatentEvolution/temp/foldx_output_temp/wt-mt2-1/individual_list.txt --output-dir=/home/hew/python/LatentEvolution/temp/foldx_output_temp/wt-mt2-1/ --pdb-dir=/home/hew/python/AggNet/data/Adalimumab/esmfold/\n"
     ]
    },
    {
     "data": {
      "text/plain": "True"
     },
     "execution_count": 24,
     "metadata": {},
     "output_type": "execute_result"
    }
   ],
   "source": [
    "wt_seqs = [wt_seq, wt_seq]\n",
    "mutation_sites = [format_mutation(wt_seq, mt_seq_1, chian_id=''), format_mutation(wt_seq, mt_seq_11, chian_id='')]\n",
    "wt_pdbs = ['/home/hew/python/AggNet/data/Adalimumab/esmfold/Adalimumab_0.pdb',\n",
    "           '/home/hew/python/AggNet/data/Adalimumab/esmfold/Adalimumab_0.pdb']\n",
    "job_names = ['wt-mt1-1', 'wt-mt2-1']\n",
    "\n",
    "foldx.build_mutation_model(wt_seqs=wt_seqs, wt_pdbs=wt_pdbs, mutation_sites=mutation_sites, job_names=job_names)"
   ],
   "metadata": {
    "collapsed": false,
    "ExecuteTime": {
     "end_time": "2023-11-08T15:33:31.175150Z",
     "start_time": "2023-11-08T15:30:34.195115500Z"
    }
   }
  },
  {
   "cell_type": "code",
   "execution_count": 17,
   "outputs": [],
   "source": [],
   "metadata": {
    "collapsed": false,
    "ExecuteTime": {
     "end_time": "2023-11-08T15:15:57.523752100Z",
     "start_time": "2023-11-08T15:15:57.522751500Z"
    }
   }
  },
  {
   "cell_type": "code",
   "execution_count": 17,
   "outputs": [],
   "source": [],
   "metadata": {
    "collapsed": false,
    "ExecuteTime": {
     "end_time": "2023-11-08T15:15:57.527751400Z",
     "start_time": "2023-11-08T15:15:57.527751400Z"
    }
   }
  },
  {
   "cell_type": "code",
   "execution_count": 25,
   "outputs": [
    {
     "name": "stdout",
     "output_type": "stream",
     "text": [
      "The path does not exist, makedir: /home/hew/python/LatentEvolution/temp/foldx_output_temp/repair_wt: Success\n",
      "The path does not exist, makedir: /home/hew/python/LatentEvolution/temp/foldx_output_temp/repair_mt1: Success\n",
      "The path does not exist, makedir: /home/hew/python/LatentEvolution/temp/foldx_output_temp/repair_mt2: Success\n",
      "Number of finished before running: 0/3\n",
      "/home/hew/python/LatentEvolution/framework/tool/FoldX/foldx_20231231 -c RepairPDB --pdb=Adalimumab_0.pdb --output-dir=/home/hew/python/LatentEvolution/temp/foldx_output_temp/repair_wt/ --pdb-dir=/home/hew/python/AggNet/data/Adalimumab/esmfold/\n",
      "/home/hew/python/LatentEvolution/framework/tool/FoldX/foldx_20231231 -c RepairPDB --pdb=Adalimumab_1.pdb --output-dir=/home/hew/python/LatentEvolution/temp/foldx_output_temp/repair_mt1/ --pdb-dir=/home/hew/python/AggNet/data/Adalimumab/esmfold/\n",
      "/home/hew/python/LatentEvolution/framework/tool/FoldX/foldx_20231231 -c RepairPDB --pdb=Adalimumab_10.pdb --output-dir=/home/hew/python/LatentEvolution/temp/foldx_output_temp/repair_mt2/ --pdb-dir=/home/hew/python/AggNet/data/Adalimumab/esmfold/\n"
     ]
    },
    {
     "data": {
      "text/plain": "True"
     },
     "execution_count": 25,
     "metadata": {},
     "output_type": "execute_result"
    }
   ],
   "source": [
    "wt_pdbs = ['Adalimumab_0.pdb', 'Adalimumab_1.pdb', 'Adalimumab_10.pdb']\n",
    "job_names = ['repair_wt', 'repair_mt1', 'repair_mt2']\n",
    "pdb_dir = '/home/hew/python/AggNet/data/Adalimumab/esmfold/'\n",
    "\n",
    "foldx.repair_pdb(wt_pdbs, pdb_dir=pdb_dir, job_names=job_names)"
   ],
   "metadata": {
    "collapsed": false,
    "ExecuteTime": {
     "end_time": "2023-11-08T15:35:50.432247300Z",
     "start_time": "2023-11-08T15:33:31.175150Z"
    }
   }
  },
  {
   "cell_type": "code",
   "execution_count": 18,
   "outputs": [],
   "source": [],
   "metadata": {
    "collapsed": false,
    "ExecuteTime": {
     "end_time": "2023-11-08T15:18:15.166931600Z",
     "start_time": "2023-11-08T15:18:15.160684100Z"
    }
   }
  },
  {
   "cell_type": "code",
   "execution_count": 18,
   "outputs": [],
   "source": [],
   "metadata": {
    "collapsed": false,
    "ExecuteTime": {
     "end_time": "2023-11-08T15:18:15.167931200Z",
     "start_time": "2023-11-08T15:18:15.165932Z"
    }
   }
  },
  {
   "cell_type": "code",
   "execution_count": 18,
   "outputs": [],
   "source": [],
   "metadata": {
    "collapsed": false,
    "ExecuteTime": {
     "end_time": "2023-11-08T15:18:15.180591900Z",
     "start_time": "2023-11-08T15:18:15.166931600Z"
    }
   }
  },
  {
   "cell_type": "code",
   "execution_count": 18,
   "outputs": [],
   "source": [],
   "metadata": {
    "collapsed": false,
    "ExecuteTime": {
     "end_time": "2023-11-08T15:18:15.184595800Z",
     "start_time": "2023-11-08T15:18:15.170940800Z"
    }
   }
  },
  {
   "cell_type": "code",
   "execution_count": 18,
   "outputs": [],
   "source": [],
   "metadata": {
    "collapsed": false,
    "ExecuteTime": {
     "end_time": "2023-11-08T15:18:15.184595800Z",
     "start_time": "2023-11-08T15:18:15.177494100Z"
    }
   }
  },
  {
   "cell_type": "code",
   "execution_count": 18,
   "outputs": [],
   "source": [],
   "metadata": {
    "collapsed": false,
    "ExecuteTime": {
     "end_time": "2023-11-08T15:18:15.191710700Z",
     "start_time": "2023-11-08T15:18:15.182596900Z"
    }
   }
  },
  {
   "cell_type": "code",
   "execution_count": 18,
   "outputs": [],
   "source": [],
   "metadata": {
    "collapsed": false,
    "ExecuteTime": {
     "end_time": "2023-11-08T15:18:15.192714500Z",
     "start_time": "2023-11-08T15:18:15.186596100Z"
    }
   }
  },
  {
   "cell_type": "code",
   "execution_count": 18,
   "outputs": [],
   "source": [],
   "metadata": {
    "collapsed": false,
    "ExecuteTime": {
     "end_time": "2023-11-08T15:18:15.199715700Z",
     "start_time": "2023-11-08T15:18:15.191710700Z"
    }
   }
  },
  {
   "cell_type": "code",
   "execution_count": 18,
   "outputs": [],
   "source": [],
   "metadata": {
    "collapsed": false,
    "ExecuteTime": {
     "end_time": "2023-11-08T15:18:15.200715100Z",
     "start_time": "2023-11-08T15:18:15.197725500Z"
    }
   }
  },
  {
   "cell_type": "code",
   "execution_count": 18,
   "outputs": [],
   "source": [],
   "metadata": {
    "collapsed": false,
    "ExecuteTime": {
     "end_time": "2023-11-08T15:18:15.208090400Z",
     "start_time": "2023-11-08T15:18:15.200715100Z"
    }
   }
  },
  {
   "cell_type": "code",
   "execution_count": 18,
   "outputs": [],
   "source": [],
   "metadata": {
    "collapsed": false,
    "ExecuteTime": {
     "end_time": "2023-11-08T15:18:15.213102800Z",
     "start_time": "2023-11-08T15:18:15.205714200Z"
    }
   }
  },
  {
   "cell_type": "code",
   "execution_count": 18,
   "outputs": [],
   "source": [],
   "metadata": {
    "collapsed": false,
    "ExecuteTime": {
     "end_time": "2023-11-08T15:18:15.219090Z",
     "start_time": "2023-11-08T15:18:15.213102800Z"
    }
   }
  },
  {
   "cell_type": "code",
   "execution_count": 18,
   "outputs": [],
   "source": [],
   "metadata": {
    "collapsed": false,
    "ExecuteTime": {
     "end_time": "2023-11-08T15:18:15.224281400Z",
     "start_time": "2023-11-08T15:18:15.218089300Z"
    }
   }
  },
  {
   "cell_type": "code",
   "execution_count": 18,
   "outputs": [],
   "source": [],
   "metadata": {
    "collapsed": false,
    "ExecuteTime": {
     "end_time": "2023-11-08T15:18:15.228272Z",
     "start_time": "2023-11-08T15:18:15.222243200Z"
    }
   }
  },
  {
   "cell_type": "code",
   "execution_count": 18,
   "outputs": [],
   "source": [],
   "metadata": {
    "collapsed": false,
    "ExecuteTime": {
     "end_time": "2023-11-08T15:18:15.233272700Z",
     "start_time": "2023-11-08T15:18:15.226262800Z"
    }
   }
  },
  {
   "cell_type": "code",
   "execution_count": 18,
   "outputs": [],
   "source": [],
   "metadata": {
    "collapsed": false,
    "ExecuteTime": {
     "end_time": "2023-11-08T15:18:15.239284200Z",
     "start_time": "2023-11-08T15:18:15.231267200Z"
    }
   }
  },
  {
   "cell_type": "code",
   "execution_count": 18,
   "outputs": [],
   "source": [],
   "metadata": {
    "collapsed": false,
    "ExecuteTime": {
     "end_time": "2023-11-08T15:18:15.241283800Z",
     "start_time": "2023-11-08T15:18:15.235274200Z"
    }
   }
  },
  {
   "cell_type": "code",
   "execution_count": 18,
   "outputs": [],
   "source": [],
   "metadata": {
    "collapsed": false,
    "ExecuteTime": {
     "end_time": "2023-11-08T15:18:15.248272500Z",
     "start_time": "2023-11-08T15:18:15.239284200Z"
    }
   }
  },
  {
   "cell_type": "code",
   "execution_count": 18,
   "outputs": [],
   "source": [],
   "metadata": {
    "collapsed": false,
    "ExecuteTime": {
     "end_time": "2023-11-08T15:18:15.249272500Z",
     "start_time": "2023-11-08T15:18:15.248272500Z"
    }
   }
  },
  {
   "cell_type": "code",
   "execution_count": 18,
   "outputs": [],
   "source": [],
   "metadata": {
    "collapsed": false,
    "ExecuteTime": {
     "end_time": "2023-11-08T15:18:15.249272500Z",
     "start_time": "2023-11-08T15:18:15.248272500Z"
    }
   }
  },
  {
   "cell_type": "code",
   "execution_count": 18,
   "outputs": [],
   "source": [],
   "metadata": {
    "collapsed": false,
    "ExecuteTime": {
     "end_time": "2023-11-08T15:18:15.253792500Z",
     "start_time": "2023-11-08T15:18:15.250282500Z"
    }
   }
  },
  {
   "cell_type": "code",
   "execution_count": 18,
   "outputs": [],
   "source": [],
   "metadata": {
    "collapsed": false,
    "ExecuteTime": {
     "end_time": "2023-11-08T15:18:15.262247900Z",
     "start_time": "2023-11-08T15:18:15.253792500Z"
    }
   }
  },
  {
   "cell_type": "code",
   "execution_count": 18,
   "outputs": [],
   "source": [],
   "metadata": {
    "collapsed": false,
    "ExecuteTime": {
     "end_time": "2023-11-08T15:18:15.262247900Z",
     "start_time": "2023-11-08T15:18:15.257247700Z"
    }
   }
  }
 ],
 "metadata": {
  "kernelspec": {
   "name": "conda-env-AggNet-py",
   "language": "python",
   "display_name": "Python [conda env:AggNet]"
  },
  "language_info": {
   "codemirror_mode": {
    "name": "ipython",
    "version": 2
   },
   "file_extension": ".py",
   "mimetype": "text/x-python",
   "name": "python",
   "nbconvert_exporter": "python",
   "pygments_lexer": "ipython2",
   "version": "2.7.6"
  }
 },
 "nbformat": 4,
 "nbformat_minor": 0
}
