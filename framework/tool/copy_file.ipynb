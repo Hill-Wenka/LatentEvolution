{
 "cells": [
  {
   "cell_type": "code",
   "execution_count": 1,
   "outputs": [
    {
     "name": "stdout",
     "output_type": "stream",
     "text": [
      "/home/hew/python/AggNet\n",
      "best_pearsonr_model.pth  \u001B[0m\u001B[01;34mdata\u001B[0m/  \u001B[01;34mframework\u001B[0m/  main.py  \u001B[01;34mscript\u001B[0m/  \u001B[01;34mtemp\u001B[0m/\r\n"
     ]
    }
   ],
   "source": [
    "%cd 'python/AggNet/'\n",
    "%ls"
   ],
   "metadata": {
    "collapsed": false,
    "ExecuteTime": {
     "end_time": "2023-07-29T13:35:30.575969Z",
     "start_time": "2023-07-29T13:35:30.439666600Z"
    }
   }
  },
  {
   "cell_type": "code",
   "execution_count": 2,
   "outputs": [
    {
     "name": "stdout",
     "output_type": "stream",
     "text": [
      "========== add root_path and framework_path to sys.path ==========\n",
      "root_path: /home/hew/python/AggNet\n",
      "framework_path: /home/hew/python/AggNet/framework\n",
      "==================================================================\n"
     ]
    },
    {
     "data": {
      "text/plain": "{'path_dataset': '/home/hew/python/data/', 'root': '/home/hew/python/AggNet/', 'data': '/home/hew/python/AggNet/data/', 'script': '/home/hew/python/AggNet/script/', 'temp': '/home/hew/python/AggNet/temp/', 'framework': '/home/hew/python/AggNet/framework/', 'config': '/home/hew/python/AggNet/framework/config/', 'module': '/home/hew/python/AggNet/framework/module/', 'utils': '/home/hew/python/AggNet/framework/utils/'}"
     },
     "execution_count": 2,
     "metadata": {},
     "output_type": "execute_result"
    }
   ],
   "source": [
    "from framework import paths\n",
    "from framework.utils.file.path_utils import copy_file\n",
    "\n",
    "paths"
   ],
   "metadata": {
    "collapsed": false,
    "ExecuteTime": {
     "end_time": "2023-07-29T13:35:30.668265100Z",
     "start_time": "2023-07-29T13:35:30.575969Z"
    }
   }
  },
  {
   "cell_type": "code",
   "execution_count": 3,
   "metadata": {
    "collapsed": true,
    "ExecuteTime": {
     "end_time": "2023-07-29T13:35:30.675999Z",
     "start_time": "2023-07-29T13:35:30.671998600Z"
    }
   },
   "outputs": [
    {
     "name": "stdout",
     "output_type": "stream",
     "text": [
      "Copy /home/hew/nni-experiments/a3hijzxb/trials/B8w0z/tensorboard/lightning_logs/version_0/hparams.yaml to /home/hew/python/AggNet//a3hijzxb_B8w0z_hparams.yaml: Success\n"
     ]
    }
   ],
   "source": [
    "exp_id = 'a3hijzxb'\n",
    "trail_id = 'B8w0z'\n",
    "yaml_file = f'/home/hew/nni-experiments/{exp_id}/trials/{trail_id}/tensorboard/lightning_logs/version_0/hparams.yaml'\n",
    "target_path = paths.root + f'/{exp_id}_{trail_id}_hparams.yaml'\n",
    "copy_file(yaml_file, target_path)"
   ]
  },
  {
   "cell_type": "code",
   "execution_count": 4,
   "outputs": [],
   "source": [
    "def get_automl_hparams(exp_id, trail_id):\n",
    "    yaml_file = f'/home/hew/nni-experiments/{exp_id}/trials/{trail_id}/tensorboard/lightning_logs/version_0/hparams.yaml'\n",
    "    target_path = paths.root + f'/{exp_id}_{trail_id}_hparams.yaml'\n",
    "    copy_file(yaml_file, target_path)"
   ],
   "metadata": {
    "collapsed": false,
    "ExecuteTime": {
     "end_time": "2023-07-29T13:35:30.750456400Z",
     "start_time": "2023-07-29T13:35:30.677998500Z"
    }
   }
  },
  {
   "cell_type": "code",
   "execution_count": 5,
   "outputs": [
    {
     "name": "stdout",
     "output_type": "stream",
     "text": [
      "Copy /home/hew/nni-experiments/a3hijzxb/trials/B8w0z/tensorboard/lightning_logs/version_0/hparams.yaml to /home/hew/python/AggNet//a3hijzxb_B8w0z_hparams.yaml: Success\n"
     ]
    }
   ],
   "source": [
    "get_automl_hparams('a3hijzxb', 'B8w0z')"
   ],
   "metadata": {
    "collapsed": false,
    "ExecuteTime": {
     "end_time": "2023-07-29T13:35:30.815047400Z",
     "start_time": "2023-07-29T13:35:30.750456400Z"
    }
   }
  },
  {
   "cell_type": "code",
   "execution_count": 5,
   "outputs": [],
   "source": [],
   "metadata": {
    "collapsed": false,
    "ExecuteTime": {
     "end_time": "2023-07-29T13:35:30.820047200Z",
     "start_time": "2023-07-29T13:35:30.815047400Z"
    }
   }
  },
  {
   "cell_type": "code",
   "execution_count": null,
   "outputs": [],
   "source": [],
   "metadata": {
    "collapsed": false
   }
  },
  {
   "cell_type": "code",
   "execution_count": null,
   "outputs": [],
   "source": [],
   "metadata": {
    "collapsed": false
   }
  }
 ],
 "metadata": {
  "kernelspec": {
   "name": "conda-env-AggNet-py",
   "language": "python",
   "display_name": "Python [conda env:AggNet]"
  },
  "language_info": {
   "codemirror_mode": {
    "name": "ipython",
    "version": 2
   },
   "file_extension": ".py",
   "mimetype": "text/x-python",
   "name": "python",
   "nbconvert_exporter": "python",
   "pygments_lexer": "ipython2",
   "version": "2.7.6"
  }
 },
 "nbformat": 4,
 "nbformat_minor": 0
}
