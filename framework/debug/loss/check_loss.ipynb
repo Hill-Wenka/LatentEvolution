{
 "cells": [
  {
   "cell_type": "code",
   "execution_count": 1,
   "metadata": {
    "collapsed": true,
    "ExecuteTime": {
     "end_time": "2023-07-28T17:16:45.612642400Z",
     "start_time": "2023-07-28T17:16:44.908600300Z"
    }
   },
   "outputs": [],
   "source": [
    "import torch\n",
    "import torch.nn.functional as F"
   ]
  },
  {
   "cell_type": "code",
   "execution_count": null,
   "outputs": [],
   "source": [],
   "metadata": {
    "collapsed": false
   }
  },
  {
   "cell_type": "markdown",
   "source": [
    "## NT-Xent Loss"
   ],
   "metadata": {
    "collapsed": false
   }
  },
  {
   "cell_type": "markdown",
   "source": [
    "### version 1"
   ],
   "metadata": {
    "collapsed": false
   }
  },
  {
   "cell_type": "code",
   "execution_count": 2,
   "outputs": [
    {
     "data": {
      "text/plain": "tensor([[0.0673, 0.6466, 0.4738, 0.9351],\n        [0.3068, 0.9623, 0.8182, 0.1495],\n        [0.7062, 0.9271, 0.8500, 0.2595],\n        [0.5794, 0.8153, 0.4345, 0.6248]])"
     },
     "execution_count": 2,
     "metadata": {},
     "output_type": "execute_result"
    }
   ],
   "source": [
    "n_views = 2\n",
    "batch_size = 2\n",
    "feature_dim = 4\n",
    "features = torch.rand(batch_size * n_views, feature_dim)\n",
    "features"
   ],
   "metadata": {
    "collapsed": false,
    "ExecuteTime": {
     "end_time": "2023-07-28T17:16:47.829192200Z",
     "start_time": "2023-07-28T17:16:47.794685700Z"
    }
   }
  },
  {
   "cell_type": "code",
   "execution_count": 3,
   "outputs": [
    {
     "data": {
      "text/plain": "tensor([0, 1, 0, 1])"
     },
     "execution_count": 3,
     "metadata": {},
     "output_type": "execute_result"
    }
   ],
   "source": [
    "labels = torch.cat([torch.arange(batch_size) for i in range(n_views)], dim=0).to(features.device)\n",
    "labels"
   ],
   "metadata": {
    "collapsed": false,
    "ExecuteTime": {
     "end_time": "2023-07-28T17:16:48.057761900Z",
     "start_time": "2023-07-28T17:16:48.045801800Z"
    }
   }
  },
  {
   "cell_type": "code",
   "execution_count": 4,
   "outputs": [
    {
     "data": {
      "text/plain": "tensor([[1., 0., 1., 0.],\n        [0., 1., 0., 1.],\n        [1., 0., 1., 0.],\n        [0., 1., 0., 1.]])"
     },
     "execution_count": 4,
     "metadata": {},
     "output_type": "execute_result"
    }
   ],
   "source": [
    "labels = (labels.unsqueeze(0) == labels.unsqueeze(1)).float()\n",
    "labels"
   ],
   "metadata": {
    "collapsed": false,
    "ExecuteTime": {
     "end_time": "2023-07-28T17:16:48.282484200Z",
     "start_time": "2023-07-28T17:16:48.234643700Z"
    }
   }
  },
  {
   "cell_type": "code",
   "execution_count": 5,
   "outputs": [
    {
     "data": {
      "text/plain": "tensor([[0.0546, 0.5242, 0.3841, 0.7581],\n        [0.2345, 0.7355, 0.6253, 0.1142],\n        [0.4819, 0.6325, 0.5800, 0.1771],\n        [0.4610, 0.6487, 0.3457, 0.4971]])"
     },
     "execution_count": 5,
     "metadata": {},
     "output_type": "execute_result"
    }
   ],
   "source": [
    "norm_features = F.normalize(features, dim=1)\n",
    "norm_features"
   ],
   "metadata": {
    "collapsed": false,
    "ExecuteTime": {
     "end_time": "2023-07-28T17:16:48.463966700Z",
     "start_time": "2023-07-28T17:16:48.416122800Z"
    }
   }
  },
  {
   "cell_type": "code",
   "execution_count": 6,
   "outputs": [
    {
     "data": {
      "text/plain": "tensor([[1.0000, 0.7251, 0.7149, 0.8749],\n        [0.7251, 1.0000, 0.9611, 0.8582],\n        [0.7149, 0.9611, 1.0000, 0.9210],\n        [0.8749, 0.8582, 0.9210, 1.0000]])"
     },
     "execution_count": 6,
     "metadata": {},
     "output_type": "execute_result"
    }
   ],
   "source": [
    "similarity_matrix = torch.matmul(norm_features, norm_features.T)\n",
    "similarity_matrix"
   ],
   "metadata": {
    "collapsed": false,
    "ExecuteTime": {
     "end_time": "2023-07-28T17:16:48.702658500Z",
     "start_time": "2023-07-28T17:16:48.656807900Z"
    }
   }
  },
  {
   "cell_type": "code",
   "execution_count": 7,
   "outputs": [
    {
     "data": {
      "text/plain": "tensor([[ True, False, False, False],\n        [False,  True, False, False],\n        [False, False,  True, False],\n        [False, False, False,  True]])"
     },
     "execution_count": 7,
     "metadata": {},
     "output_type": "execute_result"
    }
   ],
   "source": [
    "mask = torch.eye(labels.shape[0], dtype=torch.bool, device=features.device)\n",
    "mask"
   ],
   "metadata": {
    "collapsed": false,
    "ExecuteTime": {
     "end_time": "2023-07-28T17:16:48.902830800Z",
     "start_time": "2023-07-28T17:16:48.856984Z"
    }
   }
  },
  {
   "cell_type": "code",
   "execution_count": 8,
   "outputs": [
    {
     "data": {
      "text/plain": "tensor([[0., 1., 0.],\n        [0., 0., 1.],\n        [1., 0., 0.],\n        [0., 1., 0.]])"
     },
     "execution_count": 8,
     "metadata": {},
     "output_type": "execute_result"
    }
   ],
   "source": [
    "labels = labels[~mask].view(labels.shape[0], -1)\n",
    "labels"
   ],
   "metadata": {
    "collapsed": false,
    "ExecuteTime": {
     "end_time": "2023-07-28T17:16:49.382981900Z",
     "start_time": "2023-07-28T17:16:49.335593Z"
    }
   }
  },
  {
   "cell_type": "code",
   "execution_count": 9,
   "outputs": [
    {
     "data": {
      "text/plain": "tensor([[0.7251, 0.7149, 0.8749],\n        [0.7251, 0.9611, 0.8582],\n        [0.7149, 0.9611, 0.9210],\n        [0.8749, 0.8582, 0.9210]])"
     },
     "execution_count": 9,
     "metadata": {},
     "output_type": "execute_result"
    }
   ],
   "source": [
    "similarity_matrix = similarity_matrix[~mask].view(similarity_matrix.shape[0], -1)\n",
    "similarity_matrix"
   ],
   "metadata": {
    "collapsed": false,
    "ExecuteTime": {
     "end_time": "2023-07-28T17:16:49.514541900Z",
     "start_time": "2023-07-28T17:16:49.466701700Z"
    }
   }
  },
  {
   "cell_type": "code",
   "execution_count": 10,
   "outputs": [
    {
     "data": {
      "text/plain": "(tensor([[0.7149],\n         [0.8582],\n         [0.7149],\n         [0.8582]]),\n tensor([[0.7251, 0.8749],\n         [0.7251, 0.9611],\n         [0.9611, 0.9210],\n         [0.8749, 0.9210]]))"
     },
     "execution_count": 10,
     "metadata": {},
     "output_type": "execute_result"
    }
   ],
   "source": [
    "positives = similarity_matrix[labels.bool()].view(labels.shape[0], -1)\n",
    "negatives = similarity_matrix[~labels.bool()].view(similarity_matrix.shape[0], -1)\n",
    "positives, negatives"
   ],
   "metadata": {
    "collapsed": false,
    "ExecuteTime": {
     "end_time": "2023-07-28T17:16:49.739693400Z",
     "start_time": "2023-07-28T17:16:49.691853900Z"
    }
   }
  },
  {
   "cell_type": "code",
   "execution_count": 11,
   "outputs": [
    {
     "data": {
      "text/plain": "tensor([[0.7149, 0.7251, 0.8749],\n        [0.8582, 0.7251, 0.9611],\n        [0.7149, 0.9611, 0.9210],\n        [0.8582, 0.8749, 0.9210]])"
     },
     "execution_count": 11,
     "metadata": {},
     "output_type": "execute_result"
    }
   ],
   "source": [
    "logits = torch.cat([positives, negatives], dim=1)\n",
    "logits"
   ],
   "metadata": {
    "collapsed": false,
    "ExecuteTime": {
     "end_time": "2023-07-28T17:16:50.155027400Z",
     "start_time": "2023-07-28T17:16:50.143737100Z"
    }
   }
  },
  {
   "cell_type": "code",
   "execution_count": 12,
   "outputs": [
    {
     "data": {
      "text/plain": "tensor([[0.7149, 0.7251, 0.8749],\n        [0.8582, 0.7251, 0.9611],\n        [0.7149, 0.9611, 0.9210],\n        [0.8582, 0.8749, 0.9210]])"
     },
     "execution_count": 12,
     "metadata": {},
     "output_type": "execute_result"
    }
   ],
   "source": [
    "temperature = 1\n",
    "labels = torch.zeros(logits.shape[0], dtype=torch.long, device=features.device)\n",
    "logits = logits / temperature\n",
    "logits"
   ],
   "metadata": {
    "collapsed": false,
    "ExecuteTime": {
     "end_time": "2023-07-28T17:16:50.317992100Z",
     "start_time": "2023-07-28T17:16:50.272145700Z"
    }
   }
  },
  {
   "cell_type": "code",
   "execution_count": 13,
   "outputs": [
    {
     "data": {
      "text/plain": "tensor([0, 0, 0, 0])"
     },
     "execution_count": 13,
     "metadata": {},
     "output_type": "execute_result"
    }
   ],
   "source": [
    "labels"
   ],
   "metadata": {
    "collapsed": false,
    "ExecuteTime": {
     "end_time": "2023-07-28T17:16:50.946384500Z",
     "start_time": "2023-07-28T17:16:50.938411100Z"
    }
   }
  },
  {
   "cell_type": "code",
   "execution_count": 14,
   "outputs": [
    {
     "data": {
      "text/plain": "tensor(1.1580)"
     },
     "execution_count": 14,
     "metadata": {},
     "output_type": "execute_result"
    }
   ],
   "source": [
    "F.cross_entropy(logits, labels, reduction=\"mean\")"
   ],
   "metadata": {
    "collapsed": false,
    "ExecuteTime": {
     "end_time": "2023-07-28T17:16:51.098154500Z",
     "start_time": "2023-07-28T17:16:51.091177900Z"
    }
   }
  },
  {
   "cell_type": "code",
   "execution_count": 14,
   "outputs": [],
   "source": [],
   "metadata": {
    "collapsed": false,
    "ExecuteTime": {
     "end_time": "2023-07-28T17:16:51.521027600Z",
     "start_time": "2023-07-28T17:16:51.513691700Z"
    }
   }
  },
  {
   "cell_type": "markdown",
   "source": [
    "### version 2"
   ],
   "metadata": {
    "collapsed": false
   }
  },
  {
   "cell_type": "code",
   "execution_count": 15,
   "outputs": [
    {
     "data": {
      "text/plain": "tensor([[1.0000, 0.7251, 0.7149, 0.8749],\n        [0.7251, 1.0000, 0.9611, 0.8582],\n        [0.7149, 0.9611, 1.0000, 0.9210],\n        [0.8749, 0.8582, 0.9210, 1.0000]])"
     },
     "execution_count": 15,
     "metadata": {},
     "output_type": "execute_result"
    }
   ],
   "source": [
    "xcs = F.cosine_similarity(norm_features[None, :, :], norm_features[:, None, :], dim=-1)\n",
    "xcs"
   ],
   "metadata": {
    "collapsed": false,
    "ExecuteTime": {
     "end_time": "2023-07-28T17:16:52.364070100Z",
     "start_time": "2023-07-28T17:16:52.315228700Z"
    }
   }
  },
  {
   "cell_type": "code",
   "execution_count": 16,
   "outputs": [
    {
     "data": {
      "text/plain": "tensor([[  -inf, 0.7251, 0.7149, 0.8749],\n        [0.7251,   -inf, 0.9611, 0.8582],\n        [0.7149, 0.9611,   -inf, 0.9210],\n        [0.8749, 0.8582, 0.9210,   -inf]])"
     },
     "execution_count": 16,
     "metadata": {},
     "output_type": "execute_result"
    }
   ],
   "source": [
    "xcs[torch.eye(xcs.size(0)).bool()] = float(\"-inf\")\n",
    "xcs"
   ],
   "metadata": {
    "collapsed": false,
    "ExecuteTime": {
     "end_time": "2023-07-28T17:16:52.936690800Z",
     "start_time": "2023-07-28T17:16:52.889843500Z"
    }
   }
  },
  {
   "cell_type": "code",
   "execution_count": 17,
   "outputs": [
    {
     "data": {
      "text/plain": "tensor([1, 0, 3, 2])"
     },
     "execution_count": 17,
     "metadata": {},
     "output_type": "execute_result"
    }
   ],
   "source": [
    "target = torch.arange(batch_size * n_views)\n",
    "target[0::2] += 1\n",
    "target[1::2] -= 1\n",
    "target"
   ],
   "metadata": {
    "collapsed": false,
    "ExecuteTime": {
     "end_time": "2023-07-28T17:16:53.046612500Z",
     "start_time": "2023-07-28T17:16:53.037647700Z"
    }
   }
  },
  {
   "cell_type": "code",
   "execution_count": 18,
   "outputs": [
    {
     "data": {
      "text/plain": "tensor(1.1214)"
     },
     "execution_count": 18,
     "metadata": {},
     "output_type": "execute_result"
    }
   ],
   "source": [
    "F.cross_entropy(xcs / temperature, target, reduction=\"mean\")"
   ],
   "metadata": {
    "collapsed": false,
    "ExecuteTime": {
     "end_time": "2023-07-28T17:16:53.185613500Z",
     "start_time": "2023-07-28T17:16:53.178637Z"
    }
   }
  },
  {
   "cell_type": "code",
   "execution_count": 18,
   "outputs": [],
   "source": [],
   "metadata": {
    "collapsed": false,
    "ExecuteTime": {
     "end_time": "2023-07-28T17:16:53.343707500Z",
     "start_time": "2023-07-28T17:16:53.337726900Z"
    }
   }
  },
  {
   "cell_type": "code",
   "execution_count": 19,
   "outputs": [],
   "source": [
    "def NTXent_Loss(features, temperature=1, normalize=True):\n",
    "    # features: [2N, D], N is the number of samples, D is the dimension of feature, 2k-1 is the positive pair of 2k\n",
    "    features = F.normalize(features, dim=1) if normalize else features\n",
    "    similarity_matrix = torch.matmul(features, features.T)  # Cosine similarity, [2N, 2N]\n",
    "    similarity_matrix[torch.eye(features.size(0)).bool()] = float(\"-inf\")\n",
    "\n",
    "    ''' Ground truth labels, 2k-1 is the positive pair of 2k\n",
    "    tensor([[0, 1, 0, 0, 0, 0],\n",
    "            [1, 0, 0, 0, 0, 0],\n",
    "            [0, 0, 0, 1, 0, 0],\n",
    "            [0, 0, 1, 0, 0, 0],\n",
    "            [0, 0, 0, 0, 0, 1],\n",
    "            [0, 0, 0, 0, 1, 0]])\n",
    "    '''\n",
    "    target = torch.arange(features.size(0))\n",
    "    target[0::2] += 1\n",
    "    target[1::2] -= 1\n",
    "\n",
    "    # Standard cross entropy loss\n",
    "    return F.cross_entropy(similarity_matrix / temperature, target, reduction=\"mean\")"
   ],
   "metadata": {
    "collapsed": false,
    "ExecuteTime": {
     "end_time": "2023-07-28T17:16:53.982019100Z",
     "start_time": "2023-07-28T17:16:53.936176700Z"
    }
   }
  },
  {
   "cell_type": "code",
   "execution_count": 20,
   "outputs": [
    {
     "data": {
      "text/plain": "tensor(1.1214)"
     },
     "execution_count": 20,
     "metadata": {},
     "output_type": "execute_result"
    }
   ],
   "source": [
    "NTXent_Loss(features)"
   ],
   "metadata": {
    "collapsed": false,
    "ExecuteTime": {
     "end_time": "2023-07-28T17:16:54.078182300Z",
     "start_time": "2023-07-28T17:16:54.070216300Z"
    }
   }
  },
  {
   "cell_type": "markdown",
   "source": [
    "#### version 1 and version 2 are equivalent but here the computed loss value is different because they require different input. For version 1, the first N of 2N samples are the positive pairs of the last N samples, while for version 2, the positive pairs are the adjacent samples."
   ],
   "metadata": {
    "collapsed": false
   }
  },
  {
   "cell_type": "code",
   "execution_count": 20,
   "outputs": [],
   "source": [],
   "metadata": {
    "collapsed": false,
    "ExecuteTime": {
     "end_time": "2023-07-28T17:16:54.245665200Z",
     "start_time": "2023-07-28T17:16:54.239689500Z"
    }
   }
  },
  {
   "cell_type": "markdown",
   "source": [
    "## SupConLoss"
   ],
   "metadata": {
    "collapsed": false
   }
  },
  {
   "cell_type": "code",
   "execution_count": 259,
   "outputs": [
    {
     "data": {
      "text/plain": "tensor([[0.5695, 0.5705, 0.7160, 0.8298],\n        [0.0652, 0.1614, 0.3072, 0.0560],\n        [0.1572, 0.9189, 0.3612, 0.0158],\n        [0.3656, 0.4852, 0.6520, 0.4377]])"
     },
     "execution_count": 259,
     "metadata": {},
     "output_type": "execute_result"
    }
   ],
   "source": [
    "n_views = 1\n",
    "batch_size = 4\n",
    "feature_dim = 4\n",
    "features = torch.rand(batch_size * n_views, feature_dim)\n",
    "features"
   ],
   "metadata": {
    "collapsed": false,
    "ExecuteTime": {
     "end_time": "2023-07-28T17:43:48.775910800Z",
     "start_time": "2023-07-28T17:43:48.729062Z"
    }
   }
  },
  {
   "cell_type": "code",
   "execution_count": 249,
   "outputs": [
    {
     "ename": "RuntimeError",
     "evalue": "start (4) + length (4) exceeds dimension size (4).",
     "output_type": "error",
     "traceback": [
      "\u001B[0;31m---------------------------------------------------------------------------\u001B[0m",
      "\u001B[0;31mRuntimeError\u001B[0m                              Traceback (most recent call last)",
      "Cell \u001B[0;32mIn [249], line 1\u001B[0m\n\u001B[0;32m----> 1\u001B[0m f1, f2 \u001B[38;5;241m=\u001B[39m \u001B[43mtorch\u001B[49m\u001B[38;5;241;43m.\u001B[39;49m\u001B[43msplit\u001B[49m\u001B[43m(\u001B[49m\u001B[43mfeatures\u001B[49m\u001B[43m,\u001B[49m\u001B[43m \u001B[49m\u001B[43m[\u001B[49m\u001B[43mbatch_size\u001B[49m\u001B[43m,\u001B[49m\u001B[43m \u001B[49m\u001B[43mbatch_size\u001B[49m\u001B[43m]\u001B[49m\u001B[43m,\u001B[49m\u001B[43m \u001B[49m\u001B[43mdim\u001B[49m\u001B[38;5;241;43m=\u001B[39;49m\u001B[38;5;241;43m0\u001B[39;49m\u001B[43m)\u001B[49m\n\u001B[1;32m      2\u001B[0m f1, f2\n",
      "File \u001B[0;32m~/anaconda3/envs/hwj/lib/python3.9/site-packages/torch/functional.py:189\u001B[0m, in \u001B[0;36msplit\u001B[0;34m(tensor, split_size_or_sections, dim)\u001B[0m\n\u001B[1;32m    183\u001B[0m     \u001B[38;5;28;01mreturn\u001B[39;00m handle_torch_function(\n\u001B[1;32m    184\u001B[0m         split, (tensor,), tensor, split_size_or_sections, dim\u001B[38;5;241m=\u001B[39mdim)\n\u001B[1;32m    185\u001B[0m \u001B[38;5;66;03m# Overwriting reason:\u001B[39;00m\n\u001B[1;32m    186\u001B[0m \u001B[38;5;66;03m# This dispatches to two ATen functions depending on the type of\u001B[39;00m\n\u001B[1;32m    187\u001B[0m \u001B[38;5;66;03m# split_size_or_sections. The branching code is in _tensor.py, which we\u001B[39;00m\n\u001B[1;32m    188\u001B[0m \u001B[38;5;66;03m# call here.\u001B[39;00m\n\u001B[0;32m--> 189\u001B[0m \u001B[38;5;28;01mreturn\u001B[39;00m \u001B[43mtensor\u001B[49m\u001B[38;5;241;43m.\u001B[39;49m\u001B[43msplit\u001B[49m\u001B[43m(\u001B[49m\u001B[43msplit_size_or_sections\u001B[49m\u001B[43m,\u001B[49m\u001B[43m \u001B[49m\u001B[43mdim\u001B[49m\u001B[43m)\u001B[49m\n",
      "File \u001B[0;32m~/anaconda3/envs/hwj/lib/python3.9/site-packages/torch/_tensor.py:611\u001B[0m, in \u001B[0;36mTensor.split\u001B[0;34m(self, split_size, dim)\u001B[0m\n\u001B[1;32m    609\u001B[0m         \u001B[38;5;28;01mreturn\u001B[39;00m \u001B[38;5;28msuper\u001B[39m(Tensor, \u001B[38;5;28mself\u001B[39m)\u001B[38;5;241m.\u001B[39msplit_with_sizes(split_size, dim)\n\u001B[1;32m    610\u001B[0m \u001B[38;5;28;01melse\u001B[39;00m:\n\u001B[0;32m--> 611\u001B[0m     \u001B[38;5;28;01mreturn\u001B[39;00m \u001B[38;5;28;43msuper\u001B[39;49m\u001B[43m(\u001B[49m\u001B[43mTensor\u001B[49m\u001B[43m,\u001B[49m\u001B[43m \u001B[49m\u001B[38;5;28;43mself\u001B[39;49m\u001B[43m)\u001B[49m\u001B[38;5;241;43m.\u001B[39;49m\u001B[43msplit_with_sizes\u001B[49m\u001B[43m(\u001B[49m\u001B[43msplit_size\u001B[49m\u001B[43m,\u001B[49m\u001B[43m \u001B[49m\u001B[43mdim\u001B[49m\u001B[43m)\u001B[49m\n",
      "\u001B[0;31mRuntimeError\u001B[0m: start (4) + length (4) exceeds dimension size (4)."
     ]
    }
   ],
   "source": [
    "f1, f2 = torch.split(features, [batch_size, batch_size], dim=0)\n",
    "f1, f2"
   ],
   "metadata": {
    "collapsed": false,
    "ExecuteTime": {
     "end_time": "2023-07-28T17:43:05.647027800Z",
     "start_time": "2023-07-28T17:43:05.604167600Z"
    }
   }
  },
  {
   "cell_type": "code",
   "execution_count": 251,
   "outputs": [
    {
     "data": {
      "text/plain": "tensor([[[0.0051, 0.0207, 0.2768, 0.9484],\n         [0.7537, 0.9323, 0.4553, 0.2884]],\n\n        [[0.5589, 0.2835, 0.1780, 0.9505],\n         [0.8993, 0.3663, 0.9877, 0.9788]],\n\n        [[0.1532, 0.1470, 0.2990, 0.3349],\n         [0.9127, 0.7172, 0.8151, 0.2047]],\n\n        [[0.1736, 0.0940, 0.7889, 0.4471],\n         [0.0126, 0.0987, 0.7025, 0.4047]]])"
     },
     "execution_count": 251,
     "metadata": {},
     "output_type": "execute_result"
    }
   ],
   "source": [
    "features = torch.cat([f1.unsqueeze(1), f2.unsqueeze(1)], dim=1)\n",
    "features"
   ],
   "metadata": {
    "collapsed": false,
    "ExecuteTime": {
     "end_time": "2023-07-28T17:43:10.481104400Z",
     "start_time": "2023-07-28T17:43:10.433303900Z"
    }
   }
  },
  {
   "cell_type": "code",
   "execution_count": null,
   "outputs": [],
   "source": [],
   "metadata": {
    "collapsed": false
   }
  },
  {
   "cell_type": "code",
   "execution_count": 263,
   "outputs": [],
   "source": [
    "mask = None\n",
    "labels = torch.tensor([1, 0, 0, 1])\n",
    "temperature = 1\n",
    "base_temperature = 1\n",
    "contrast_mode = 'all'"
   ],
   "metadata": {
    "collapsed": false,
    "ExecuteTime": {
     "end_time": "2023-07-28T17:44:57.956155Z",
     "start_time": "2023-07-28T17:44:57.806783300Z"
    }
   }
  },
  {
   "cell_type": "code",
   "execution_count": 264,
   "outputs": [
    {
     "data": {
      "text/plain": "tensor([[[0.5695, 0.5705, 0.7160, 0.8298]],\n\n        [[0.0652, 0.1614, 0.3072, 0.0560]],\n\n        [[0.1572, 0.9189, 0.3612, 0.0158]],\n\n        [[0.3656, 0.4852, 0.6520, 0.4377]]])"
     },
     "execution_count": 264,
     "metadata": {},
     "output_type": "execute_result"
    }
   ],
   "source": [
    "features = features.unsqueeze(1) if len(features.shape) < 3 else features\n",
    "features"
   ],
   "metadata": {
    "collapsed": false,
    "ExecuteTime": {
     "end_time": "2023-07-28T17:44:58.275890200Z",
     "start_time": "2023-07-28T17:44:58.230043500Z"
    }
   }
  },
  {
   "cell_type": "code",
   "execution_count": 265,
   "outputs": [
    {
     "data": {
      "text/plain": "(device(type='cpu'),\n tensor([[1],\n         [0],\n         [0],\n         [1]]),\n tensor([[1., 0., 0., 1.],\n         [0., 1., 1., 0.],\n         [0., 1., 1., 0.],\n         [1., 0., 0., 1.]]))"
     },
     "execution_count": 265,
     "metadata": {},
     "output_type": "execute_result"
    }
   ],
   "source": [
    "batch_size = features.shape[0]\n",
    "device = (torch.device('cuda')\n",
    "          if features.is_cuda\n",
    "          else torch.device('cpu'))\n",
    "if labels is not None and mask is not None:\n",
    "    raise ValueError('Cannot define both `labels` and `mask`')\n",
    "elif labels is None and mask is None:\n",
    "    mask = torch.eye(batch_size, dtype=torch.float32).to(device)\n",
    "elif labels is not None:\n",
    "    labels = labels.contiguous().view(-1, 1)\n",
    "    if labels.shape[0] != batch_size:\n",
    "        raise ValueError('Num of labels does not match num of features')\n",
    "    mask = torch.eq(labels, labels.T).float().to(device)\n",
    "else:\n",
    "    mask = mask.float().to(device)\n",
    "device, labels, mask"
   ],
   "metadata": {
    "collapsed": false,
    "ExecuteTime": {
     "end_time": "2023-07-28T17:45:05.397375100Z",
     "start_time": "2023-07-28T17:45:05.345552600Z"
    }
   }
  },
  {
   "cell_type": "code",
   "execution_count": 266,
   "outputs": [
    {
     "data": {
      "text/plain": "(tensor([[0.5695, 0.5705, 0.7160, 0.8298],\n         [0.0652, 0.1614, 0.3072, 0.0560],\n         [0.1572, 0.9189, 0.3612, 0.0158],\n         [0.3656, 0.4852, 0.6520, 0.4377]]),)"
     },
     "execution_count": 266,
     "metadata": {},
     "output_type": "execute_result"
    }
   ],
   "source": [
    "torch.unbind(features, dim=1)"
   ],
   "metadata": {
    "collapsed": false,
    "ExecuteTime": {
     "end_time": "2023-07-28T17:45:08.307055600Z",
     "start_time": "2023-07-28T17:45:08.258211300Z"
    }
   }
  },
  {
   "cell_type": "code",
   "execution_count": 268,
   "outputs": [
    {
     "data": {
      "text/plain": "(1,\n 1,\n tensor([[0.5695, 0.5705, 0.7160, 0.8298],\n         [0.0652, 0.1614, 0.3072, 0.0560],\n         [0.1572, 0.9189, 0.3612, 0.0158],\n         [0.3656, 0.4852, 0.6520, 0.4377]]),\n tensor([[0.5695, 0.5705, 0.7160, 0.8298],\n         [0.0652, 0.1614, 0.3072, 0.0560],\n         [0.1572, 0.9189, 0.3612, 0.0158],\n         [0.3656, 0.4852, 0.6520, 0.4377]]))"
     },
     "execution_count": 268,
     "metadata": {},
     "output_type": "execute_result"
    }
   ],
   "source": [
    "contrast_count = features.shape[1]\n",
    "contrast_feature = torch.cat(torch.unbind(features, dim=1), dim=0)\n",
    "if contrast_mode == 'one':\n",
    "    anchor_feature = features[:, 0]\n",
    "    anchor_count = 1\n",
    "elif contrast_mode == 'all':\n",
    "    anchor_feature = contrast_feature\n",
    "    anchor_count = contrast_count\n",
    "else:\n",
    "    raise ValueError('Unknown mode: {}'.format(contrast_mode))\n",
    "anchor_count, contrast_count, anchor_feature, contrast_feature"
   ],
   "metadata": {
    "collapsed": false,
    "ExecuteTime": {
     "end_time": "2023-07-28T17:45:40.020756600Z",
     "start_time": "2023-07-28T17:45:39.970922800Z"
    }
   }
  },
  {
   "cell_type": "code",
   "execution_count": 269,
   "outputs": [
    {
     "data": {
      "text/plain": "tensor([[1.8510, 0.3956, 0.8854, 1.3151],\n        [0.3956, 0.1278, 0.2704, 0.3269],\n        [0.8854, 0.2704, 0.9997, 0.7457],\n        [1.3151, 0.3269, 0.7457, 0.9858]])"
     },
     "execution_count": 269,
     "metadata": {},
     "output_type": "execute_result"
    }
   ],
   "source": [
    "# compute logits\n",
    "anchor_dot_contrast = torch.div(torch.matmul(anchor_feature, contrast_feature.T), temperature)\n",
    "anchor_dot_contrast"
   ],
   "metadata": {
    "collapsed": false,
    "ExecuteTime": {
     "end_time": "2023-07-28T17:45:41.880548900Z",
     "start_time": "2023-07-28T17:45:41.838689800Z"
    }
   }
  },
  {
   "cell_type": "code",
   "execution_count": 270,
   "outputs": [
    {
     "data": {
      "text/plain": "tensor([[1.8510],\n        [0.3956],\n        [0.9997],\n        [1.3151]])"
     },
     "execution_count": 270,
     "metadata": {},
     "output_type": "execute_result"
    }
   ],
   "source": [
    "# for numerical stability\n",
    "logits_max, _ = torch.max(anchor_dot_contrast, dim=1, keepdim=True)\n",
    "logits_max"
   ],
   "metadata": {
    "collapsed": false,
    "ExecuteTime": {
     "end_time": "2023-07-28T17:45:47.693442Z",
     "start_time": "2023-07-28T17:45:47.648586400Z"
    }
   }
  },
  {
   "cell_type": "code",
   "execution_count": 271,
   "outputs": [
    {
     "data": {
      "text/plain": "tensor([[ 0.0000, -1.4554, -0.9656, -0.5359],\n        [ 0.0000, -0.2678, -0.1252, -0.0687],\n        [-0.1143, -0.7293,  0.0000, -0.2540],\n        [ 0.0000, -0.9882, -0.5694, -0.3293]])"
     },
     "execution_count": 271,
     "metadata": {},
     "output_type": "execute_result"
    }
   ],
   "source": [
    "logits = anchor_dot_contrast - logits_max.detach()\n",
    "logits"
   ],
   "metadata": {
    "collapsed": false,
    "ExecuteTime": {
     "end_time": "2023-07-28T17:45:49.048392Z",
     "start_time": "2023-07-28T17:45:49.000552300Z"
    }
   }
  },
  {
   "cell_type": "code",
   "execution_count": 272,
   "outputs": [
    {
     "data": {
      "text/plain": "tensor([[1., 0., 0., 1.],\n        [0., 1., 1., 0.],\n        [0., 1., 1., 0.],\n        [1., 0., 0., 1.]])"
     },
     "execution_count": 272,
     "metadata": {},
     "output_type": "execute_result"
    }
   ],
   "source": [
    "# tile mask\n",
    "mask = mask.repeat(anchor_count, contrast_count)\n",
    "mask"
   ],
   "metadata": {
    "collapsed": false,
    "ExecuteTime": {
     "end_time": "2023-07-28T17:45:49.777471700Z",
     "start_time": "2023-07-28T17:45:49.731625400Z"
    }
   }
  },
  {
   "cell_type": "code",
   "execution_count": 273,
   "outputs": [
    {
     "data": {
      "text/plain": "tensor([[0., 1., 1., 1.],\n        [1., 0., 1., 1.],\n        [1., 1., 0., 1.],\n        [1., 1., 1., 0.]])"
     },
     "execution_count": 273,
     "metadata": {},
     "output_type": "execute_result"
    }
   ],
   "source": [
    "logits_mask = torch.scatter(torch.ones_like(mask), 1, torch.arange(batch_size * anchor_count).view(-1, 1).to(device), 0)\n",
    "logits_mask"
   ],
   "metadata": {
    "collapsed": false,
    "ExecuteTime": {
     "end_time": "2023-07-28T17:45:50.664672200Z",
     "start_time": "2023-07-28T17:45:50.616832300Z"
    }
   }
  },
  {
   "cell_type": "code",
   "execution_count": 274,
   "outputs": [
    {
     "data": {
      "text/plain": "tensor([[0., 0., 0., 1.],\n        [0., 0., 1., 0.],\n        [0., 1., 0., 0.],\n        [1., 0., 0., 0.]])"
     },
     "execution_count": 274,
     "metadata": {},
     "output_type": "execute_result"
    }
   ],
   "source": [
    "# mask-out self-contrast cases\n",
    "mask = mask * logits_mask\n",
    "mask"
   ],
   "metadata": {
    "collapsed": false,
    "ExecuteTime": {
     "end_time": "2023-07-28T17:45:51.266957300Z",
     "start_time": "2023-07-28T17:45:51.219118500Z"
    }
   }
  },
  {
   "cell_type": "code",
   "execution_count": 275,
   "outputs": [
    {
     "data": {
      "text/plain": "tensor([[0.0000, 0.2333, 0.3808, 0.5851],\n        [1.0000, 0.0000, 0.8823, 0.9336],\n        [0.8920, 0.4822, 0.0000, 0.7757],\n        [1.0000, 0.3723, 0.5659, 0.0000]])"
     },
     "execution_count": 275,
     "metadata": {},
     "output_type": "execute_result"
    }
   ],
   "source": [
    "# compute log_prob\n",
    "exp_logits = torch.exp(logits) * logits_mask\n",
    "exp_logits"
   ],
   "metadata": {
    "collapsed": false,
    "ExecuteTime": {
     "end_time": "2023-07-28T17:45:51.468107800Z",
     "start_time": "2023-07-28T17:45:51.421267400Z"
    }
   }
  },
  {
   "cell_type": "code",
   "execution_count": 276,
   "outputs": [
    {
     "data": {
      "text/plain": "tensor([[1.1992],\n        [2.8160],\n        [2.1499],\n        [1.9381]])"
     },
     "execution_count": 276,
     "metadata": {},
     "output_type": "execute_result"
    }
   ],
   "source": [
    "exp_logits.sum(1, keepdim=True)"
   ],
   "metadata": {
    "collapsed": false,
    "ExecuteTime": {
     "end_time": "2023-07-28T17:45:51.849026700Z",
     "start_time": "2023-07-28T17:45:51.841811300Z"
    }
   }
  },
  {
   "cell_type": "code",
   "execution_count": 277,
   "outputs": [
    {
     "data": {
      "text/plain": "tensor([[0.1817],\n        [1.0353],\n        [0.7654],\n        [0.6617]])"
     },
     "execution_count": 277,
     "metadata": {},
     "output_type": "execute_result"
    }
   ],
   "source": [
    "torch.log(exp_logits.sum(1, keepdim=True))"
   ],
   "metadata": {
    "collapsed": false,
    "ExecuteTime": {
     "end_time": "2023-07-28T17:45:52.231295100Z",
     "start_time": "2023-07-28T17:45:52.222325100Z"
    }
   }
  },
  {
   "cell_type": "code",
   "execution_count": 278,
   "outputs": [
    {
     "data": {
      "text/plain": "tensor([[-0.1817, -1.6371, -1.1472, -0.7176],\n        [-1.0353, -1.3031, -1.1605, -1.1040],\n        [-0.8797, -1.4948, -0.7654, -1.0194],\n        [-0.6617, -1.6499, -1.2311, -0.9910]])"
     },
     "execution_count": 278,
     "metadata": {},
     "output_type": "execute_result"
    }
   ],
   "source": [
    "log_prob = logits - torch.log(exp_logits.sum(1, keepdim=True))\n",
    "log_prob"
   ],
   "metadata": {
    "collapsed": false,
    "ExecuteTime": {
     "end_time": "2023-07-28T17:45:52.574753500Z",
     "start_time": "2023-07-28T17:45:52.528908800Z"
    }
   }
  },
  {
   "cell_type": "code",
   "execution_count": 279,
   "outputs": [
    {
     "data": {
      "text/plain": "tensor([-0.7176, -1.1605, -1.4948, -0.6617])"
     },
     "execution_count": 279,
     "metadata": {},
     "output_type": "execute_result"
    }
   ],
   "source": [
    "# compute mean of log-likelihood over positive\n",
    "mean_log_prob_pos = (mask * log_prob).sum(1) / mask.sum(1)\n",
    "mean_log_prob_pos"
   ],
   "metadata": {
    "collapsed": false,
    "ExecuteTime": {
     "end_time": "2023-07-28T17:45:53.045135300Z",
     "start_time": "2023-07-28T17:45:52.996861900Z"
    }
   }
  },
  {
   "cell_type": "code",
   "execution_count": 280,
   "outputs": [
    {
     "data": {
      "text/plain": "tensor(1.0086)"
     },
     "execution_count": 280,
     "metadata": {},
     "output_type": "execute_result"
    }
   ],
   "source": [
    "loss = - (temperature / base_temperature) * mean_log_prob_pos\n",
    "loss = loss.view(anchor_count, batch_size).mean()\n",
    "loss"
   ],
   "metadata": {
    "collapsed": false,
    "ExecuteTime": {
     "end_time": "2023-07-28T17:45:53.367230Z",
     "start_time": "2023-07-28T17:45:53.319390900Z"
    }
   }
  },
  {
   "cell_type": "code",
   "execution_count": 228,
   "outputs": [],
   "source": [],
   "metadata": {
    "collapsed": false,
    "ExecuteTime": {
     "end_time": "2023-07-28T17:41:25.309186600Z",
     "start_time": "2023-07-28T17:41:25.303206500Z"
    }
   }
  },
  {
   "cell_type": "markdown",
   "source": [
    "## SimCSE"
   ],
   "metadata": {
    "collapsed": false
   }
  },
  {
   "cell_type": "code",
   "execution_count": 326,
   "outputs": [
    {
     "data": {
      "text/plain": "tensor([[0., 0., 0., 1.],\n        [0., 1., 0., 0.],\n        [1., 0., 1., 1.],\n        [1., 0., 0., 0.],\n        [0., 0., 1., 0.],\n        [0., 0., 0., 0.],\n        [1., 0., 1., 1.],\n        [0., 1., 1., 0.]])"
     },
     "execution_count": 326,
     "metadata": {},
     "output_type": "execute_result"
    }
   ],
   "source": [
    "features = torch.randint(2, (8, feature_dim)).float()\n",
    "features"
   ],
   "metadata": {
    "collapsed": false,
    "ExecuteTime": {
     "end_time": "2023-07-28T18:59:38.286417100Z",
     "start_time": "2023-07-28T18:59:38.282430300Z"
    }
   }
  },
  {
   "cell_type": "code",
   "execution_count": 327,
   "outputs": [
    {
     "data": {
      "text/plain": "(tensor([[0., 0., 0., 1.],\n         [0., 1., 0., 0.],\n         [1., 0., 1., 1.],\n         [1., 0., 0., 0.]]),\n tensor([[0., 0., 1., 0.],\n         [0., 0., 0., 0.],\n         [1., 0., 1., 1.],\n         [0., 1., 1., 0.]]))"
     },
     "execution_count": 327,
     "metadata": {},
     "output_type": "execute_result"
    }
   ],
   "source": [
    "z1, z2 = torch.split(features, features.shape[0] // 2, dim=0)\n",
    "z1, z2"
   ],
   "metadata": {
    "collapsed": false,
    "ExecuteTime": {
     "end_time": "2023-07-28T18:59:38.487518100Z",
     "start_time": "2023-07-28T18:59:38.441671700Z"
    }
   }
  },
  {
   "cell_type": "code",
   "execution_count": 328,
   "outputs": [
    {
     "data": {
      "text/plain": "tensor([[0.0000, 0.0000, 0.5774, 0.0000],\n        [0.0000, 0.0000, 0.0000, 0.7071],\n        [0.5774, 0.0000, 1.0000, 0.4082],\n        [0.0000, 0.0000, 0.5774, 0.0000]])"
     },
     "execution_count": 328,
     "metadata": {},
     "output_type": "execute_result"
    }
   ],
   "source": [
    "F.cosine_similarity(z1.unsqueeze(1), z2.unsqueeze(0), dim=2)"
   ],
   "metadata": {
    "collapsed": false,
    "ExecuteTime": {
     "end_time": "2023-07-28T18:59:38.644990900Z",
     "start_time": "2023-07-28T18:59:38.598152Z"
    }
   }
  },
  {
   "cell_type": "code",
   "execution_count": 329,
   "outputs": [
    {
     "data": {
      "text/plain": "tensor([[0.0000, 0.0000, 0.5774, 0.0000],\n        [0.0000, 0.0000, 0.0000, 0.7071],\n        [0.5774, 0.0000, 1.0000, 0.4082],\n        [0.0000, 0.0000, 0.5774, 0.0000]])"
     },
     "execution_count": 329,
     "metadata": {},
     "output_type": "execute_result"
    }
   ],
   "source": [
    "labels = torch.arange(0, z1.shape[0], device=features.device)\n",
    "similarity_matrix = F.cosine_similarity(z1.unsqueeze(1), z2.unsqueeze(0), dim=2)\n",
    "similarity_matrix = similarity_matrix / temperature\n",
    "similarity_matrix"
   ],
   "metadata": {
    "collapsed": false,
    "ExecuteTime": {
     "end_time": "2023-07-28T18:59:38.791500800Z",
     "start_time": "2023-07-28T18:59:38.746655Z"
    }
   }
  },
  {
   "cell_type": "code",
   "execution_count": 330,
   "outputs": [
    {
     "data": {
      "text/plain": "tensor(1.4227)"
     },
     "execution_count": 330,
     "metadata": {},
     "output_type": "execute_result"
    }
   ],
   "source": [
    "loss = F.cross_entropy(similarity_matrix, labels)\n",
    "loss"
   ],
   "metadata": {
    "collapsed": false,
    "ExecuteTime": {
     "end_time": "2023-07-28T18:59:39.065201400Z",
     "start_time": "2023-07-28T18:59:39.058221500Z"
    }
   }
  },
  {
   "cell_type": "code",
   "execution_count": null,
   "outputs": [],
   "source": [],
   "metadata": {
    "collapsed": false
   }
  },
  {
   "cell_type": "code",
   "execution_count": null,
   "outputs": [],
   "source": [],
   "metadata": {
    "collapsed": false
   }
  }
 ],
 "metadata": {
  "kernelspec": {
   "display_name": "Python 3",
   "language": "python",
   "name": "python3"
  },
  "language_info": {
   "codemirror_mode": {
    "name": "ipython",
    "version": 2
   },
   "file_extension": ".py",
   "mimetype": "text/x-python",
   "name": "python",
   "nbconvert_exporter": "python",
   "pygments_lexer": "ipython2",
   "version": "2.7.6"
  }
 },
 "nbformat": 4,
 "nbformat_minor": 0
}
